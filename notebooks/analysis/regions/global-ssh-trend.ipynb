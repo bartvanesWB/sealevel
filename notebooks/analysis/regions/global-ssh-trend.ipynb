{
 "cells": [
  {
   "cell_type": "code",
   "execution_count": 75,
   "metadata": {},
   "outputs": [],
   "source": [
    "import ee\n",
    "import numpy as np\n",
    "import cmocean.cm\n",
    "import matplotlib.colors\n",
    "\n",
    "def cm2ee(cm, num=256):\n",
    "    hexs = [\n",
    "        matplotlib.colors.rgb2hex(rgb)[1:] \n",
    "        for rgb \n",
    "        in cm(np.linspace(0, 1, num=num))\n",
    "    ]\n",
    "    return \",\".join(hexs)\n"
   ]
  },
  {
   "cell_type": "code",
   "execution_count": 19,
   "metadata": {},
   "outputs": [],
   "source": [
    "ee.Initialize()\n"
   ]
  },
  {
   "cell_type": "code",
   "execution_count": 58,
   "metadata": {},
   "outputs": [],
   "source": [
    "ssh = ee.ImageCollection(\"users/fbaart/ssh_grids_v1609\")\n",
    "ssh_trend = ee.Image('users/fbaart/ssh-trend')\n",
    "\n",
    "first = ssh.first()\n",
    "# Global 6 point polygon, avoids incorrect wrapping\n",
    "global_polygon = ee.Geometry.Polygon(\n",
    "  [\n",
    "    [\n",
    "      [-180, 90],\n",
    "      [0, 90],\n",
    "      [180, 90],\n",
    "      [180, -90],\n",
    "      [0, -90],\n",
    "      [-180, -90]\n",
    "    ]\n",
    "  ], \n",
    "  None, \n",
    "  False\n",
    ")\n",
    "# Lookup the scale\n",
    "scale = first.projection().nominalScale()"
   ]
  },
  {
   "cell_type": "code",
   "execution_count": 53,
   "metadata": {},
   "outputs": [],
   "source": [
    "# Setup independent variables\n",
    "\n",
    "def add_independent_variables(image):\n",
    "    \"\"\"setup independent variables and add them as bands to an image\"\"\"\n",
    "    constant = ee.Image.constant(1).rename('constant')\n",
    "    t = image.date().millis()\n",
    "    # ms -> s -> m -> hr -> day -> year\n",
    "    years = (ee.Image.constant(t)\n",
    "        .divide(1e3 * 60 * 60 * 24 * 365.25)\n",
    "        .float()\n",
    "        .rename('time'))\n",
    "    # seasonal cycle\n",
    "    time_radians = (ee.Image.constant(t)\n",
    "        .divide(1e3 * 60 * 60 * 24 * 365.25)\n",
    "        .multiply(2 * np.pi)\n",
    "        .float()\n",
    "        .rename('time-radians'))\n",
    "    # nodal cycle\n",
    "    nodal_radians = (ee.Image.constant(t)\n",
    "        .float()\n",
    "        .divide(1e3 * 60 * 60 * 24 * 365.25 * 18.613)\n",
    "        .multiply(2 * np.pi)\n",
    "        .float()\n",
    "        .rename('nodal-radians'))\n",
    "    # linearize\n",
    "    cos_time = time_radians.cos().rename('cos')\n",
    "    sin_time = time_radians.sin().rename('sin')\n",
    "    cos_nodal_time = nodal_radians.cos().rename('cos-nodal')\n",
    "    sin_nodal_time = nodal_radians.sin().rename('sin-nodal')\n",
    "    result = (image\n",
    "        .addBands(years)\n",
    "        .addBands(cos_time)\n",
    "        .addBands(sin_time)\n",
    "        .addBands(cos_nodal_time)\n",
    "        .addBands(sin_nodal_time)\n",
    "        .addBands(constant)\n",
    "        .addBands(time_radians)\n",
    "        .addBands(nodal_radians))\n",
    "    return result\n",
    "\n"
   ]
  },
  {
   "cell_type": "code",
   "execution_count": 54,
   "metadata": {},
   "outputs": [],
   "source": [
    "# define the regression function that selects data, extracts and flattens the coefficients\n",
    "def regression(collection, dependent, independent):\n",
    "    all_vars = independents + dependent\n",
    "    fit = (\n",
    "        collection.select(all_vars)\n",
    "            .reduce(ee.Reducer.linearRegression(len(independents), 1))\n",
    "            .select('coefficients')\n",
    "            .arrayProject([0])\n",
    "            .arrayFlatten([independents])\n",
    "    )\n",
    "    return fit\n",
    "    "
   ]
  },
  {
   "cell_type": "code",
   "execution_count": null,
   "metadata": {},
   "outputs": [],
   "source": []
  },
  {
   "cell_type": "code",
   "execution_count": 55,
   "metadata": {},
   "outputs": [],
   "source": [
    "def map2id(image, vis_params):\n",
    "    m = image.getMapId(vis_params)\n",
    "    mapid = m.get('mapid')\n",
    "    token = m.get('token')\n",
    "\n",
    "    url = 'https://earthengine.googleapis.com/map/{mapid}/{{z}}/{{x}}/{{y}}?token={token}'.format(\n",
    "      mapid=mapid,\n",
    "      token=token\n",
    "    )\n",
    "    result = {\n",
    "      'mapid': mapid,\n",
    "      'token': token,\n",
    "      'url': url,\n",
    "      'vis_params': vis_params\n",
    "    }\n",
    "    return result\n",
    "def map2url(image, vis_params):\n",
    "    obj = map2id(image, vis_params)\n",
    "    return obj['url']\n",
    "    \n",
    "\n"
   ]
  },
  {
   "cell_type": "code",
   "execution_count": 76,
   "metadata": {},
   "outputs": [],
   "source": [
    "# TODO allow to filter by time\n",
    "equations = ssh.map(add_independent_variables)\n",
    "\n",
    "independents = ['constant', 'time']\n",
    "dependent = ['b1']\n",
    "fit = regression(equations, dependent, independents)\n",
    "\n",
    "vis_params = {\n",
    "    'min': -10,\n",
    "    'max': 10,\n",
    "    'palette': cm2ee(cmocean.cm.balance)\n",
    "}\n",
    "url = map2url(fit.select('time'), vis_params)        \n",
    "\n"
   ]
  },
  {
   "cell_type": "code",
   "execution_count": 96,
   "metadata": {},
   "outputs": [
    {
     "data": {
      "text/plain": [
       "{'mapid': '99ebdb03dc6c7fa1ad655dd6783cb0eb',\n",
       " 'token': '20bee80feb977f3e4892d2f036868d3f',\n",
       " 'url': 'https://earthengine.googleapis.com/map/99ebdb03dc6c7fa1ad655dd6783cb0eb/{z}/{x}/{y}?token=20bee80feb977f3e4892d2f036868d3f'}"
      ]
     },
     "execution_count": 96,
     "metadata": {},
     "output_type": "execute_result"
    }
   ],
   "source": [
    "\n",
    "max = trend.reduceRegion(ee.Reducer.max(), global_polygon).getInfo()['time']\n",
    "min = trend.reduceRegion(ee.Reducer.min(), global_polygon).getInfo()['time']\n",
    "domain = np.max(np.abs([max, min]))\n",
    "vis_params = {\n",
    "    'min': -domain*0.3,\n",
    "    'max': domain*0.3,\n",
    "    'palette': cm2ee(cmocean.cm.balance)\n",
    "}\n",
    "trend = ssh_trend.select('time')\n",
    "obj = map2id(trend, vis_params=vis_params)\n",
    "obj"
   ]
  },
  {
   "cell_type": "code",
   "execution_count": 89,
   "metadata": {},
   "outputs": [],
   "source": []
  },
  {
   "cell_type": "code",
   "execution_count": 93,
   "metadata": {},
   "outputs": [
    {
     "data": {
      "text/plain": [
       "0.11486345529556274"
      ]
     },
     "execution_count": 93,
     "metadata": {},
     "output_type": "execute_result"
    }
   ],
   "source": []
  },
  {
   "cell_type": "code",
   "execution_count": null,
   "metadata": {},
   "outputs": [],
   "source": []
  }
 ],
 "metadata": {
  "kernelspec": {
   "display_name": "Python 3",
   "language": "python",
   "name": "python3"
  },
  "language_info": {
   "codemirror_mode": {
    "name": "ipython",
    "version": 3
   },
   "file_extension": ".py",
   "mimetype": "text/x-python",
   "name": "python",
   "nbconvert_exporter": "python",
   "pygments_lexer": "ipython3",
   "version": "3.6.6"
  }
 },
 "nbformat": 4,
 "nbformat_minor": 2
}
