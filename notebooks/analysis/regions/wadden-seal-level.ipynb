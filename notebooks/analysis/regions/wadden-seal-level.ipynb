{
 "cells": [
  {
   "cell_type": "markdown",
   "metadata": {},
   "source": [
    "Sealevel monitor\n",
    "========\n",
    "\n",
    "This document is used to monitor the current sea level along the Wadden coast. The sea level is measured using a number of tide gauges. Six long running tide gauges are considered \"main stations\". The mean of these stations is used to estimate the \"current sea-level rise\". The measurements since 1890 are taken into account. Measurements before that are considered less valid because the Amsterdam Ordnance Datum was not yet normalized. Measurements for Cuxhaven are related to the Normal Null."
   ]
  },
  {
   "cell_type": "code",
   "execution_count": 1,
   "metadata": {},
   "outputs": [
    {
     "name": "stderr",
     "output_type": "stream",
     "text": [
      "/Users/baart_f/.virtualenvs/main/lib/python3.6/site-packages/statsmodels/compat/pandas.py:56: FutureWarning: The pandas.core.datetools module is deprecated and will be removed in a future version. Please use the pandas.tseries module instead.\n",
      "  from pandas.core import datetools\n",
      "/Users/baart_f/.virtualenvs/main/lib/python3.6/site-packages/cmocean/tools.py:76: MatplotlibDeprecationWarning: The is_string_like function was deprecated in version 2.1.\n",
      "  if not mpl.cbook.is_string_like(rgbin[0]):\n"
     ]
    }
   ],
   "source": [
    "# this is a list of packages that are used in this notebook\n",
    "# these come with python\n",
    "import io\n",
    "import zipfile\n",
    "import functools\n",
    "import bisect\n",
    "import datetime\n",
    "\n",
    "\n",
    "# you can install these packages using pip or anaconda\n",
    "# (requests numpy pandas bokeh pyproj statsmodels)\n",
    "\n",
    "# for downloading\n",
    "import requests\n",
    "import netCDF4\n",
    "\n",
    "# computation libraries\n",
    "import numpy as np\n",
    "import pandas\n",
    "\n",
    "\n",
    "# coordinate systems\n",
    "import pyproj \n",
    "\n",
    "# statistics\n",
    "import statsmodels.api as sm\n",
    "import statsmodels.multivariate.pca\n",
    "import statsmodels.tsa.seasonal\n",
    "\n",
    "\n",
    "# plotting\n",
    "import bokeh.io\n",
    "import bokeh.plotting\n",
    "import bokeh.tile_providers\n",
    "import bokeh.palettes\n",
    "\n",
    "import windrose\n",
    "import matplotlib.colors\n",
    "import matplotlib.cm\n",
    "import matplotlib.pyplot as plt\n",
    "matplotlib.projections.register_projection(windrose.WindroseAxes)\n",
    "import cmocean.cm\n",
    "\n",
    "# displaying things\n",
    "from ipywidgets import Image\n",
    "import IPython.display"
   ]
  },
  {
   "cell_type": "code",
   "execution_count": 2,
   "metadata": {},
   "outputs": [
    {
     "data": {
      "text/html": [
       "\n",
       "    <div class=\"bk-root\">\n",
       "        <a href=\"https://bokeh.pydata.org\" target=\"_blank\" class=\"bk-logo bk-logo-small bk-logo-notebook\"></a>\n",
       "        <span id=\"aa7cac93-bc3a-4e98-9fb5-d7441ef56e8e\">Loading BokehJS ...</span>\n",
       "    </div>"
      ]
     },
     "metadata": {},
     "output_type": "display_data"
    },
    {
     "data": {
      "application/javascript": [
       "\n",
       "(function(root) {\n",
       "  function now() {\n",
       "    return new Date();\n",
       "  }\n",
       "\n",
       "  var force = true;\n",
       "\n",
       "  if (typeof (root._bokeh_onload_callbacks) === \"undefined\" || force === true) {\n",
       "    root._bokeh_onload_callbacks = [];\n",
       "    root._bokeh_is_loading = undefined;\n",
       "  }\n",
       "\n",
       "  var JS_MIME_TYPE = 'application/javascript';\n",
       "  var HTML_MIME_TYPE = 'text/html';\n",
       "  var EXEC_MIME_TYPE = 'application/vnd.bokehjs_exec.v0+json';\n",
       "  var CLASS_NAME = 'output_bokeh rendered_html';\n",
       "\n",
       "  /**\n",
       "   * Render data to the DOM node\n",
       "   */\n",
       "  function render(props, node) {\n",
       "    var script = document.createElement(\"script\");\n",
       "    node.appendChild(script);\n",
       "  }\n",
       "\n",
       "  /**\n",
       "   * Handle when an output is cleared or removed\n",
       "   */\n",
       "  function handleClearOutput(event, handle) {\n",
       "    var cell = handle.cell;\n",
       "\n",
       "    var id = cell.output_area._bokeh_element_id;\n",
       "    var server_id = cell.output_area._bokeh_server_id;\n",
       "    // Clean up Bokeh references\n",
       "    if (id !== undefined) {\n",
       "      Bokeh.index[id].model.document.clear();\n",
       "      delete Bokeh.index[id];\n",
       "    }\n",
       "\n",
       "    if (server_id !== undefined) {\n",
       "      // Clean up Bokeh references\n",
       "      var cmd = \"from bokeh.io.state import curstate; print(curstate().uuid_to_server['\" + server_id + \"'].get_sessions()[0].document.roots[0]._id)\";\n",
       "      cell.notebook.kernel.execute(cmd, {\n",
       "        iopub: {\n",
       "          output: function(msg) {\n",
       "            var element_id = msg.content.text.trim();\n",
       "            Bokeh.index[element_id].model.document.clear();\n",
       "            delete Bokeh.index[element_id];\n",
       "          }\n",
       "        }\n",
       "      });\n",
       "      // Destroy server and session\n",
       "      var cmd = \"import bokeh.io.notebook as ion; ion.destroy_server('\" + server_id + \"')\";\n",
       "      cell.notebook.kernel.execute(cmd);\n",
       "    }\n",
       "  }\n",
       "\n",
       "  /**\n",
       "   * Handle when a new output is added\n",
       "   */\n",
       "  function handleAddOutput(event, handle) {\n",
       "    var output_area = handle.output_area;\n",
       "    var output = handle.output;\n",
       "\n",
       "    // limit handleAddOutput to display_data with EXEC_MIME_TYPE content only\n",
       "    if ((output.output_type != \"display_data\") || (!output.data.hasOwnProperty(EXEC_MIME_TYPE))) {\n",
       "      return\n",
       "    }\n",
       "\n",
       "    var toinsert = output_area.element.find(`.${CLASS_NAME.split(' ')[0]}`);\n",
       "\n",
       "    if (output.metadata[EXEC_MIME_TYPE][\"id\"] !== undefined) {\n",
       "      toinsert[0].firstChild.textContent = output.data[JS_MIME_TYPE];\n",
       "      // store reference to embed id on output_area\n",
       "      output_area._bokeh_element_id = output.metadata[EXEC_MIME_TYPE][\"id\"];\n",
       "    }\n",
       "    if (output.metadata[EXEC_MIME_TYPE][\"server_id\"] !== undefined) {\n",
       "      var bk_div = document.createElement(\"div\");\n",
       "      bk_div.innerHTML = output.data[HTML_MIME_TYPE];\n",
       "      var script_attrs = bk_div.children[0].attributes;\n",
       "      for (var i = 0; i < script_attrs.length; i++) {\n",
       "        toinsert[0].firstChild.setAttribute(script_attrs[i].name, script_attrs[i].value);\n",
       "      }\n",
       "      // store reference to server id on output_area\n",
       "      output_area._bokeh_server_id = output.metadata[EXEC_MIME_TYPE][\"server_id\"];\n",
       "    }\n",
       "  }\n",
       "\n",
       "  function register_renderer(events, OutputArea) {\n",
       "\n",
       "    function append_mime(data, metadata, element) {\n",
       "      // create a DOM node to render to\n",
       "      var toinsert = this.create_output_subarea(\n",
       "        metadata,\n",
       "        CLASS_NAME,\n",
       "        EXEC_MIME_TYPE\n",
       "      );\n",
       "      this.keyboard_manager.register_events(toinsert);\n",
       "      // Render to node\n",
       "      var props = {data: data, metadata: metadata[EXEC_MIME_TYPE]};\n",
       "      render(props, toinsert[0]);\n",
       "      element.append(toinsert);\n",
       "      return toinsert\n",
       "    }\n",
       "\n",
       "    /* Handle when an output is cleared or removed */\n",
       "    events.on('clear_output.CodeCell', handleClearOutput);\n",
       "    events.on('delete.Cell', handleClearOutput);\n",
       "\n",
       "    /* Handle when a new output is added */\n",
       "    events.on('output_added.OutputArea', handleAddOutput);\n",
       "\n",
       "    /**\n",
       "     * Register the mime type and append_mime function with output_area\n",
       "     */\n",
       "    OutputArea.prototype.register_mime_type(EXEC_MIME_TYPE, append_mime, {\n",
       "      /* Is output safe? */\n",
       "      safe: true,\n",
       "      /* Index of renderer in `output_area.display_order` */\n",
       "      index: 0\n",
       "    });\n",
       "  }\n",
       "\n",
       "  // register the mime type if in Jupyter Notebook environment and previously unregistered\n",
       "  if (root.Jupyter !== undefined) {\n",
       "    var events = require('base/js/events');\n",
       "    var OutputArea = require('notebook/js/outputarea').OutputArea;\n",
       "\n",
       "    if (OutputArea.prototype.mime_types().indexOf(EXEC_MIME_TYPE) == -1) {\n",
       "      register_renderer(events, OutputArea);\n",
       "    }\n",
       "  }\n",
       "\n",
       "  \n",
       "  if (typeof (root._bokeh_timeout) === \"undefined\" || force === true) {\n",
       "    root._bokeh_timeout = Date.now() + 5000;\n",
       "    root._bokeh_failed_load = false;\n",
       "  }\n",
       "\n",
       "  var NB_LOAD_WARNING = {'data': {'text/html':\n",
       "     \"<div style='background-color: #fdd'>\\n\"+\n",
       "     \"<p>\\n\"+\n",
       "     \"BokehJS does not appear to have successfully loaded. If loading BokehJS from CDN, this \\n\"+\n",
       "     \"may be due to a slow or bad network connection. Possible fixes:\\n\"+\n",
       "     \"</p>\\n\"+\n",
       "     \"<ul>\\n\"+\n",
       "     \"<li>re-rerun `output_notebook()` to attempt to load from CDN again, or</li>\\n\"+\n",
       "     \"<li>use INLINE resources instead, as so:</li>\\n\"+\n",
       "     \"</ul>\\n\"+\n",
       "     \"<code>\\n\"+\n",
       "     \"from bokeh.resources import INLINE\\n\"+\n",
       "     \"output_notebook(resources=INLINE)\\n\"+\n",
       "     \"</code>\\n\"+\n",
       "     \"</div>\"}};\n",
       "\n",
       "  function display_loaded() {\n",
       "    var el = document.getElementById(\"aa7cac93-bc3a-4e98-9fb5-d7441ef56e8e\");\n",
       "    if (el != null) {\n",
       "      el.textContent = \"BokehJS is loading...\";\n",
       "    }\n",
       "    if (root.Bokeh !== undefined) {\n",
       "      if (el != null) {\n",
       "        el.textContent = \"BokehJS \" + root.Bokeh.version + \" successfully loaded.\";\n",
       "      }\n",
       "    } else if (Date.now() < root._bokeh_timeout) {\n",
       "      setTimeout(display_loaded, 100)\n",
       "    }\n",
       "  }\n",
       "\n",
       "\n",
       "  function run_callbacks() {\n",
       "    try {\n",
       "      root._bokeh_onload_callbacks.forEach(function(callback) { callback() });\n",
       "    }\n",
       "    finally {\n",
       "      delete root._bokeh_onload_callbacks\n",
       "    }\n",
       "    console.info(\"Bokeh: all callbacks have finished\");\n",
       "  }\n",
       "\n",
       "  function load_libs(js_urls, callback) {\n",
       "    root._bokeh_onload_callbacks.push(callback);\n",
       "    if (root._bokeh_is_loading > 0) {\n",
       "      console.log(\"Bokeh: BokehJS is being loaded, scheduling callback at\", now());\n",
       "      return null;\n",
       "    }\n",
       "    if (js_urls == null || js_urls.length === 0) {\n",
       "      run_callbacks();\n",
       "      return null;\n",
       "    }\n",
       "    console.log(\"Bokeh: BokehJS not loaded, scheduling load and callback at\", now());\n",
       "    root._bokeh_is_loading = js_urls.length;\n",
       "    for (var i = 0; i < js_urls.length; i++) {\n",
       "      var url = js_urls[i];\n",
       "      var s = document.createElement('script');\n",
       "      s.src = url;\n",
       "      s.async = false;\n",
       "      s.onreadystatechange = s.onload = function() {\n",
       "        root._bokeh_is_loading--;\n",
       "        if (root._bokeh_is_loading === 0) {\n",
       "          console.log(\"Bokeh: all BokehJS libraries loaded\");\n",
       "          run_callbacks()\n",
       "        }\n",
       "      };\n",
       "      s.onerror = function() {\n",
       "        console.warn(\"failed to load library \" + url);\n",
       "      };\n",
       "      console.log(\"Bokeh: injecting script tag for BokehJS library: \", url);\n",
       "      document.getElementsByTagName(\"head\")[0].appendChild(s);\n",
       "    }\n",
       "  };var element = document.getElementById(\"aa7cac93-bc3a-4e98-9fb5-d7441ef56e8e\");\n",
       "  if (element == null) {\n",
       "    console.log(\"Bokeh: ERROR: autoload.js configured with elementid 'aa7cac93-bc3a-4e98-9fb5-d7441ef56e8e' but no matching script tag was found. \")\n",
       "    return false;\n",
       "  }\n",
       "\n",
       "  var js_urls = [\"https://cdn.pydata.org/bokeh/release/bokeh-0.12.10.min.js\", \"https://cdn.pydata.org/bokeh/release/bokeh-widgets-0.12.10.min.js\", \"https://cdn.pydata.org/bokeh/release/bokeh-tables-0.12.10.min.js\", \"https://cdn.pydata.org/bokeh/release/bokeh-gl-0.12.10.min.js\"];\n",
       "\n",
       "  var inline_js = [\n",
       "    function(Bokeh) {\n",
       "      Bokeh.set_log_level(\"info\");\n",
       "    },\n",
       "    \n",
       "    function(Bokeh) {\n",
       "      \n",
       "    },\n",
       "    function(Bokeh) {\n",
       "      console.log(\"Bokeh: injecting CSS: https://cdn.pydata.org/bokeh/release/bokeh-0.12.10.min.css\");\n",
       "      Bokeh.embed.inject_css(\"https://cdn.pydata.org/bokeh/release/bokeh-0.12.10.min.css\");\n",
       "      console.log(\"Bokeh: injecting CSS: https://cdn.pydata.org/bokeh/release/bokeh-widgets-0.12.10.min.css\");\n",
       "      Bokeh.embed.inject_css(\"https://cdn.pydata.org/bokeh/release/bokeh-widgets-0.12.10.min.css\");\n",
       "      console.log(\"Bokeh: injecting CSS: https://cdn.pydata.org/bokeh/release/bokeh-tables-0.12.10.min.css\");\n",
       "      Bokeh.embed.inject_css(\"https://cdn.pydata.org/bokeh/release/bokeh-tables-0.12.10.min.css\");\n",
       "    }\n",
       "  ];\n",
       "\n",
       "  function run_inline_js() {\n",
       "    \n",
       "    if ((root.Bokeh !== undefined) || (force === true)) {\n",
       "      for (var i = 0; i < inline_js.length; i++) {\n",
       "        inline_js[i].call(root, root.Bokeh);\n",
       "      }if (force === true) {\n",
       "        display_loaded();\n",
       "      }} else if (Date.now() < root._bokeh_timeout) {\n",
       "      setTimeout(run_inline_js, 100);\n",
       "    } else if (!root._bokeh_failed_load) {\n",
       "      console.log(\"Bokeh: BokehJS failed to load within specified timeout.\");\n",
       "      root._bokeh_failed_load = true;\n",
       "    } else if (force !== true) {\n",
       "      var cell = $(document.getElementById(\"aa7cac93-bc3a-4e98-9fb5-d7441ef56e8e\")).parents('.cell').data().cell;\n",
       "      cell.output_area.append_execute_result(NB_LOAD_WARNING)\n",
       "    }\n",
       "\n",
       "  }\n",
       "\n",
       "  if (root._bokeh_is_loading === 0) {\n",
       "    console.log(\"Bokeh: BokehJS loaded, going straight to plotting\");\n",
       "    run_inline_js();\n",
       "  } else {\n",
       "    load_libs(js_urls, function() {\n",
       "      console.log(\"Bokeh: BokehJS plotting callback run at\", now());\n",
       "      run_inline_js();\n",
       "    });\n",
       "  }\n",
       "}(window));"
      ],
      "application/vnd.bokehjs_load.v0+json": "\n(function(root) {\n  function now() {\n    return new Date();\n  }\n\n  var force = true;\n\n  if (typeof (root._bokeh_onload_callbacks) === \"undefined\" || force === true) {\n    root._bokeh_onload_callbacks = [];\n    root._bokeh_is_loading = undefined;\n  }\n\n  \n\n  \n  if (typeof (root._bokeh_timeout) === \"undefined\" || force === true) {\n    root._bokeh_timeout = Date.now() + 5000;\n    root._bokeh_failed_load = false;\n  }\n\n  var NB_LOAD_WARNING = {'data': {'text/html':\n     \"<div style='background-color: #fdd'>\\n\"+\n     \"<p>\\n\"+\n     \"BokehJS does not appear to have successfully loaded. If loading BokehJS from CDN, this \\n\"+\n     \"may be due to a slow or bad network connection. Possible fixes:\\n\"+\n     \"</p>\\n\"+\n     \"<ul>\\n\"+\n     \"<li>re-rerun `output_notebook()` to attempt to load from CDN again, or</li>\\n\"+\n     \"<li>use INLINE resources instead, as so:</li>\\n\"+\n     \"</ul>\\n\"+\n     \"<code>\\n\"+\n     \"from bokeh.resources import INLINE\\n\"+\n     \"output_notebook(resources=INLINE)\\n\"+\n     \"</code>\\n\"+\n     \"</div>\"}};\n\n  function display_loaded() {\n    var el = document.getElementById(\"aa7cac93-bc3a-4e98-9fb5-d7441ef56e8e\");\n    if (el != null) {\n      el.textContent = \"BokehJS is loading...\";\n    }\n    if (root.Bokeh !== undefined) {\n      if (el != null) {\n        el.textContent = \"BokehJS \" + root.Bokeh.version + \" successfully loaded.\";\n      }\n    } else if (Date.now() < root._bokeh_timeout) {\n      setTimeout(display_loaded, 100)\n    }\n  }\n\n\n  function run_callbacks() {\n    try {\n      root._bokeh_onload_callbacks.forEach(function(callback) { callback() });\n    }\n    finally {\n      delete root._bokeh_onload_callbacks\n    }\n    console.info(\"Bokeh: all callbacks have finished\");\n  }\n\n  function load_libs(js_urls, callback) {\n    root._bokeh_onload_callbacks.push(callback);\n    if (root._bokeh_is_loading > 0) {\n      console.log(\"Bokeh: BokehJS is being loaded, scheduling callback at\", now());\n      return null;\n    }\n    if (js_urls == null || js_urls.length === 0) {\n      run_callbacks();\n      return null;\n    }\n    console.log(\"Bokeh: BokehJS not loaded, scheduling load and callback at\", now());\n    root._bokeh_is_loading = js_urls.length;\n    for (var i = 0; i < js_urls.length; i++) {\n      var url = js_urls[i];\n      var s = document.createElement('script');\n      s.src = url;\n      s.async = false;\n      s.onreadystatechange = s.onload = function() {\n        root._bokeh_is_loading--;\n        if (root._bokeh_is_loading === 0) {\n          console.log(\"Bokeh: all BokehJS libraries loaded\");\n          run_callbacks()\n        }\n      };\n      s.onerror = function() {\n        console.warn(\"failed to load library \" + url);\n      };\n      console.log(\"Bokeh: injecting script tag for BokehJS library: \", url);\n      document.getElementsByTagName(\"head\")[0].appendChild(s);\n    }\n  };var element = document.getElementById(\"aa7cac93-bc3a-4e98-9fb5-d7441ef56e8e\");\n  if (element == null) {\n    console.log(\"Bokeh: ERROR: autoload.js configured with elementid 'aa7cac93-bc3a-4e98-9fb5-d7441ef56e8e' but no matching script tag was found. \")\n    return false;\n  }\n\n  var js_urls = [\"https://cdn.pydata.org/bokeh/release/bokeh-0.12.10.min.js\", \"https://cdn.pydata.org/bokeh/release/bokeh-widgets-0.12.10.min.js\", \"https://cdn.pydata.org/bokeh/release/bokeh-tables-0.12.10.min.js\", \"https://cdn.pydata.org/bokeh/release/bokeh-gl-0.12.10.min.js\"];\n\n  var inline_js = [\n    function(Bokeh) {\n      Bokeh.set_log_level(\"info\");\n    },\n    \n    function(Bokeh) {\n      \n    },\n    function(Bokeh) {\n      console.log(\"Bokeh: injecting CSS: https://cdn.pydata.org/bokeh/release/bokeh-0.12.10.min.css\");\n      Bokeh.embed.inject_css(\"https://cdn.pydata.org/bokeh/release/bokeh-0.12.10.min.css\");\n      console.log(\"Bokeh: injecting CSS: https://cdn.pydata.org/bokeh/release/bokeh-widgets-0.12.10.min.css\");\n      Bokeh.embed.inject_css(\"https://cdn.pydata.org/bokeh/release/bokeh-widgets-0.12.10.min.css\");\n      console.log(\"Bokeh: injecting CSS: https://cdn.pydata.org/bokeh/release/bokeh-tables-0.12.10.min.css\");\n      Bokeh.embed.inject_css(\"https://cdn.pydata.org/bokeh/release/bokeh-tables-0.12.10.min.css\");\n    }\n  ];\n\n  function run_inline_js() {\n    \n    if ((root.Bokeh !== undefined) || (force === true)) {\n      for (var i = 0; i < inline_js.length; i++) {\n        inline_js[i].call(root, root.Bokeh);\n      }if (force === true) {\n        display_loaded();\n      }} else if (Date.now() < root._bokeh_timeout) {\n      setTimeout(run_inline_js, 100);\n    } else if (!root._bokeh_failed_load) {\n      console.log(\"Bokeh: BokehJS failed to load within specified timeout.\");\n      root._bokeh_failed_load = true;\n    } else if (force !== true) {\n      var cell = $(document.getElementById(\"aa7cac93-bc3a-4e98-9fb5-d7441ef56e8e\")).parents('.cell').data().cell;\n      cell.output_area.append_execute_result(NB_LOAD_WARNING)\n    }\n\n  }\n\n  if (root._bokeh_is_loading === 0) {\n    console.log(\"Bokeh: BokehJS loaded, going straight to plotting\");\n    run_inline_js();\n  } else {\n    load_libs(js_urls, function() {\n      console.log(\"Bokeh: BokehJS plotting callback run at\", now());\n      run_inline_js();\n    });\n  }\n}(window));"
     },
     "metadata": {},
     "output_type": "display_data"
    }
   ],
   "source": [
    "# Some coordinate systems\n",
    "WEBMERCATOR = pyproj.Proj(init='epsg:3857')\n",
    "WGS84 = pyproj.Proj(init='epsg:4326')\n",
    "\n",
    "# If this notebook is not showing up with figures, you can use the following url:\n",
    "# https://nbviewer.ipython.org/github/openearth/notebooks/blob/master/sealevelmonitor.ipynb\n",
    "bokeh.io.output_notebook()\n",
    "# we're using matplotlib for polar plots (non-interactive)\n",
    "%matplotlib inline\n",
    "# does not work properly\n",
    "# %matplotlib notebook\n"
   ]
  },
  {
   "cell_type": "markdown",
   "metadata": {},
   "source": [
    "Sea-level measurements\n",
    "=============\n",
    "In this section we download sea-level measurements. The global collection of tide gauge records at the PSMSL is used to access the data. The other way to access the data is to ask the service desk data at Rijkswaterstaat. There are two types of datasets the \"Revised Local Reference\" and \"Metric\". For the Netherlands the difference is that the \"Revised Local Reference\" undoes the corrections from the  NAP correction in 2014, to get a consistent dataset. Here we transform the RLR back to NAP (without undoing the correction)."
   ]
  },
  {
   "cell_type": "code",
   "execution_count": 3,
   "metadata": {},
   "outputs": [],
   "source": [
    "psmsl_urls = {\n",
    "    'met_monthly': 'http://www.psmsl.org/data/obtaining/met.monthly.data/met_monthly.zip',\n",
    "    'rlr_monthly': 'http://www.psmsl.org/data/obtaining/rlr.monthly.data/rlr_monthly.zip',\n",
    "    'rlr_annual': 'http://www.psmsl.org/data/obtaining/rlr.annual.data/rlr_annual.zip'\n",
    "}\n",
    "default_dataset_name = 'rlr_annual'"
   ]
  },
  {
   "cell_type": "code",
   "execution_count": 4,
   "metadata": {},
   "outputs": [],
   "source": [
    "# these compute the rlr back to NAP (ignoring the undoing of the NAP correction)\n",
    "main_stations = {\n",
    "    23: {\n",
    "        'name': 'Den Helder', \n",
    "        'rlr2nap': lambda x: x - (6988-42)\n",
    "    },\n",
    "    24: {\n",
    "        'name': 'Delfzijl', \n",
    "        'rlr2nap': lambda x: x - (6978-155)\n",
    "    },\n",
    "    25: {\n",
    "        'name': 'Harlingen', \n",
    "        'rlr2nap': lambda x: x - (7036-122)\n",
    "    },\n",
    "    7: {\n",
    "        'name': 'Cuxhaven',\n",
    "        # to Datum 2000- (see PSMSL diagram)\n",
    "        'rlr2nap': lambda x: x - (7154 - (5174 - 5020))\n",
    "    }\n",
    "\n",
    "}"
   ]
  },
  {
   "cell_type": "code",
   "execution_count": 5,
   "metadata": {},
   "outputs": [
    {
     "data": {
      "text/plain": [
       "[23, 24, 25, 7]"
      ]
     },
     "execution_count": 5,
     "metadata": {},
     "output_type": "execute_result"
    }
   ],
   "source": [
    "# the main stations are defined by their ids\n",
    "main_stations_idx = list(main_stations.keys())\n",
    "main_stations_idx"
   ]
  },
  {
   "cell_type": "code",
   "execution_count": 6,
   "metadata": {},
   "outputs": [
    {
     "data": {
      "text/html": [
       "<div>\n",
       "<style scoped>\n",
       "    .dataframe tbody tr th:only-of-type {\n",
       "        vertical-align: middle;\n",
       "    }\n",
       "\n",
       "    .dataframe tbody tr th {\n",
       "        vertical-align: top;\n",
       "    }\n",
       "\n",
       "    .dataframe thead th {\n",
       "        text-align: right;\n",
       "    }\n",
       "</style>\n",
       "<table border=\"1\" class=\"dataframe\">\n",
       "  <thead>\n",
       "    <tr style=\"text-align: right;\">\n",
       "      <th></th>\n",
       "      <th>lat</th>\n",
       "      <th>lon</th>\n",
       "      <th>name</th>\n",
       "      <th>coastline_code</th>\n",
       "      <th>station_code</th>\n",
       "      <th>quality</th>\n",
       "    </tr>\n",
       "    <tr>\n",
       "      <th>id</th>\n",
       "      <th></th>\n",
       "      <th></th>\n",
       "      <th></th>\n",
       "      <th></th>\n",
       "      <th></th>\n",
       "      <th></th>\n",
       "    </tr>\n",
       "  </thead>\n",
       "  <tbody>\n",
       "    <tr>\n",
       "      <th>23</th>\n",
       "      <td>52.964444</td>\n",
       "      <td>4.745000</td>\n",
       "      <td>DEN HELDER</td>\n",
       "      <td>150</td>\n",
       "      <td>31</td>\n",
       "      <td>N</td>\n",
       "    </tr>\n",
       "    <tr>\n",
       "      <th>24</th>\n",
       "      <td>53.326389</td>\n",
       "      <td>6.933056</td>\n",
       "      <td>DELFZIJL</td>\n",
       "      <td>150</td>\n",
       "      <td>1</td>\n",
       "      <td>N</td>\n",
       "    </tr>\n",
       "    <tr>\n",
       "      <th>25</th>\n",
       "      <td>53.175556</td>\n",
       "      <td>5.409444</td>\n",
       "      <td>HARLINGEN</td>\n",
       "      <td>150</td>\n",
       "      <td>21</td>\n",
       "      <td>N</td>\n",
       "    </tr>\n",
       "    <tr>\n",
       "      <th>7</th>\n",
       "      <td>53.866667</td>\n",
       "      <td>8.716667</td>\n",
       "      <td>CUXHAVEN 2</td>\n",
       "      <td>140</td>\n",
       "      <td>12</td>\n",
       "      <td>N</td>\n",
       "    </tr>\n",
       "  </tbody>\n",
       "</table>\n",
       "</div>"
      ],
      "text/plain": [
       "          lat       lon        name  coastline_code  station_code quality\n",
       "id                                                                       \n",
       "23  52.964444  4.745000  DEN HELDER             150            31       N\n",
       "24  53.326389  6.933056    DELFZIJL             150             1       N\n",
       "25  53.175556  5.409444   HARLINGEN             150            21       N\n",
       "7   53.866667  8.716667  CUXHAVEN 2             140            12       N"
      ]
     },
     "execution_count": 6,
     "metadata": {},
     "output_type": "execute_result"
    }
   ],
   "source": [
    "# download the zipfile\n",
    "\n",
    "zipfiles = {}\n",
    "\n",
    "\n",
    "for dataset_name in psmsl_urls:\n",
    "    resp = requests.get(psmsl_urls[dataset_name])\n",
    "\n",
    "    # we can read the zipfile\n",
    "    stream = io.BytesIO(resp.content)\n",
    "    zf = zipfile.ZipFile(stream)\n",
    "    zipfiles[dataset_name] = zf\n",
    "\n",
    "# this list contains a table of \n",
    "# station ID, latitude, longitude, station name, coastline code, station code, and quality flag\n",
    "csvtext = zipfiles[dataset_name].read('{}/filelist.txt'.format(dataset_name))\n",
    "\n",
    "stations = pandas.read_csv(\n",
    "    io.BytesIO(csvtext), \n",
    "    sep=';',\n",
    "    names=('id', 'lat', 'lon', 'name', 'coastline_code', 'station_code', 'quality'),\n",
    "    converters={\n",
    "        'name': str.strip,\n",
    "        'quality': str.strip\n",
    "    }\n",
    ")\n",
    "stations = stations.set_index('id')\n",
    "\n",
    "# the dutch stations in the PSMSL database, make a copy\n",
    "# or use stations.coastline_code == 150 for all dutch stations\n",
    "selected_stations = stations.loc[main_stations_idx].copy()\n",
    "# set the main stations, this should be a list of 6 stations\n",
    "selected_stations"
   ]
  },
  {
   "cell_type": "code",
   "execution_count": 7,
   "metadata": {},
   "outputs": [],
   "source": [
    "# show all the stations on a map\n",
    "\n",
    "# compute the bounds of the plot\n",
    "sw = (50, -5)\n",
    "ne = (55, 10)\n",
    "# transform to web mercator\n",
    "sw_wm = pyproj.transform(WGS84, WEBMERCATOR, sw[1], sw[0])\n",
    "ne_wm = pyproj.transform(WGS84, WEBMERCATOR, ne[1], ne[0])\n",
    "# create a plot\n",
    "fig = bokeh.plotting.figure(tools='pan, wheel_zoom', plot_width=600, plot_height=200, x_range=(sw_wm[0], ne_wm[0]), y_range=(sw_wm[1], ne_wm[1]))\n",
    "fig.axis.visible = False\n",
    "# add some background tiles\n",
    "fig.add_tile(bokeh.tile_providers.STAMEN_TERRAIN)\n",
    "# add the stations\n",
    "x, y = pyproj.transform(WGS84, WEBMERCATOR, np.array(stations.lon), np.array(stations.lat))\n",
    "fig.circle(x, y)\n",
    "x, y = pyproj.transform(WGS84, WEBMERCATOR, np.array(selected_stations.lon), np.array(selected_stations.lat))\n",
    "_ = fig.circle(x, y, color='red')\n"
   ]
  },
  {
   "cell_type": "code",
   "execution_count": 8,
   "metadata": {},
   "outputs": [
    {
     "data": {
      "text/html": [
       "\n",
       "<div class=\"bk-root\">\n",
       "    <div class=\"bk-plotdiv\" id=\"b2d9c518-a0e2-48a6-88a6-e1bddd464839\"></div>\n",
       "</div>"
      ]
     },
     "metadata": {},
     "output_type": "display_data"
    },
    {
     "data": {
      "application/javascript": [
       "(function(root) {\n",
       "  function embed_document(root) {\n",
       "    var docs_json = {\"faea7446-aaf8-4d63-8e30-191a12e04cca\":{\"roots\":{\"references\":[{\"attributes\":{\"dimension\":1,\"plot\":{\"id\":\"000a2dd2-ecff-4f8b-99c5-c90552334882\",\"subtype\":\"Figure\",\"type\":\"Plot\"},\"ticker\":{\"id\":\"fa856c77-6f1e-4221-9145-73f9989115bb\",\"type\":\"BasicTicker\"}},\"id\":\"9b15670e-25e2-45d5-9cf5-0793249e3578\",\"type\":\"Grid\"},{\"attributes\":{\"source\":{\"id\":\"25b0a3e3-3597-4025-ad3a-6da8fc7e8e9d\",\"type\":\"ColumnDataSource\"}},\"id\":\"8a7efb4b-4c80-4370-87e8-2bb78f280382\",\"type\":\"CDSView\"},{\"attributes\":{},\"id\":\"418c6c7d-c283-473c-a814-82536dd00d79\",\"type\":\"WheelZoomTool\"},{\"attributes\":{},\"id\":\"9f0b1320-237c-4461-9d4b-c7dd27ee8a86\",\"type\":\"PanTool\"},{\"attributes\":{\"attribution\":\"Map tiles by <a href=\\\"http://stamen.com\\\">Stamen Design</a>, under <a href=\\\"http://creativecommons.org/licenses/by/3.0\\\">CC BY 3.0</a>. Data by <a href=\\\"http://openstreetmap.org\\\">OpenStreetMap</a>, under <a href=\\\"http://creativecommons.org/licenses/by-sa/3.0\\\">CC BY SA</a>.\",\"url\":\"http://tile.stamen.com/terrain/{Z}/{X}/{Y}.png\"},\"id\":\"c96685f9-e0ad-49c8-909d-f0ad8e600dff\",\"type\":\"WMTSTileSource\"},{\"attributes\":{\"fill_alpha\":{\"value\":0.1},\"fill_color\":{\"value\":\"#1f77b4\"},\"line_alpha\":{\"value\":0.1},\"line_color\":{\"value\":\"#1f77b4\"},\"x\":{\"field\":\"x\"},\"y\":{\"field\":\"y\"}},\"id\":\"e8a066ff-5248-4630-959e-7a2613cbacd8\",\"type\":\"Circle\"},{\"attributes\":{\"callback\":null,\"column_names\":[\"x\",\"y\"],\"data\":{\"x\":{\"__ndarray__\":\"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\",\"dtype\":\"float64\",\"shape\":[1508]},\"y\":{\"__ndarray__\":\"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\",\"dtype\":\"float64\",\"shape\":[1508]}}},\"id\":\"2d7e8c5b-3a9d-45a2-8d16-fcdf166fe56d\",\"type\":\"ColumnDataSource\"},{\"attributes\":{\"below\":[{\"id\":\"1a0304c2-25b8-4526-9991-6d31251d052b\",\"type\":\"LinearAxis\"}],\"left\":[{\"id\":\"bf613974-ab2f-4f5f-a655-20ffb8bd7f59\",\"type\":\"LinearAxis\"}],\"plot_height\":200,\"renderers\":[{\"id\":\"1a0304c2-25b8-4526-9991-6d31251d052b\",\"type\":\"LinearAxis\"},{\"id\":\"97d25290-94f3-432f-9c71-0a38655a3e74\",\"type\":\"Grid\"},{\"id\":\"bf613974-ab2f-4f5f-a655-20ffb8bd7f59\",\"type\":\"LinearAxis\"},{\"id\":\"9b15670e-25e2-45d5-9cf5-0793249e3578\",\"type\":\"Grid\"},{\"id\":\"f2e55572-2d9e-499b-8d87-4fe234d72c4e\",\"type\":\"TileRenderer\"},{\"id\":\"8762bfa6-6be4-4492-9938-8a283817f867\",\"type\":\"GlyphRenderer\"},{\"id\":\"e795d3a4-68d9-41d4-81ea-5457ed9db005\",\"type\":\"GlyphRenderer\"}],\"title\":{\"id\":\"f8151277-73d9-4e6d-b861-404bc7946147\",\"type\":\"Title\"},\"toolbar\":{\"id\":\"5862893f-8ac2-4415-aa59-2904cbb68b57\",\"type\":\"Toolbar\"},\"x_range\":{\"id\":\"8f226ada-ded5-484d-89dd-ba108f3ca549\",\"type\":\"Range1d\"},\"x_scale\":{\"id\":\"ee4a2f90-c57f-4ad0-a581-bbe1d9823879\",\"type\":\"LinearScale\"},\"y_range\":{\"id\":\"664fc9d4-4289-45e1-a3a1-bb4c348d0f05\",\"type\":\"Range1d\"},\"y_scale\":{\"id\":\"fd71d803-50ce-4b21-90e2-51cdc1c5dc44\",\"type\":\"LinearScale\"}},\"id\":\"000a2dd2-ecff-4f8b-99c5-c90552334882\",\"subtype\":\"Figure\",\"type\":\"Plot\"},{\"attributes\":{\"data_source\":{\"id\":\"2d7e8c5b-3a9d-45a2-8d16-fcdf166fe56d\",\"type\":\"ColumnDataSource\"},\"glyph\":{\"id\":\"e44115f1-b659-4f03-b6c0-d7a09daa16f2\",\"type\":\"Circle\"},\"hover_glyph\":null,\"muted_glyph\":null,\"nonselection_glyph\":{\"id\":\"e8a066ff-5248-4630-959e-7a2613cbacd8\",\"type\":\"Circle\"},\"selection_glyph\":null,\"view\":{\"id\":\"e787450e-2019-45a7-9fc4-2821159360c1\",\"type\":\"CDSView\"}},\"id\":\"8762bfa6-6be4-4492-9938-8a283817f867\",\"type\":\"GlyphRenderer\"},{\"attributes\":{\"active_drag\":\"auto\",\"active_inspect\":\"auto\",\"active_scroll\":\"auto\",\"active_tap\":\"auto\",\"tools\":[{\"id\":\"9f0b1320-237c-4461-9d4b-c7dd27ee8a86\",\"type\":\"PanTool\"},{\"id\":\"418c6c7d-c283-473c-a814-82536dd00d79\",\"type\":\"WheelZoomTool\"}]},\"id\":\"5862893f-8ac2-4415-aa59-2904cbb68b57\",\"type\":\"Toolbar\"},{\"attributes\":{\"callback\":null,\"end\":1113194.9079327343,\"start\":-556597.4539663672},\"id\":\"8f226ada-ded5-484d-89dd-ba108f3ca549\",\"type\":\"Range1d\"},{\"attributes\":{},\"id\":\"a3b8e01c-2b48-4860-a49e-3e11f757871c\",\"type\":\"BasicTickFormatter\"},{\"attributes\":{\"source\":{\"id\":\"2d7e8c5b-3a9d-45a2-8d16-fcdf166fe56d\",\"type\":\"ColumnDataSource\"}},\"id\":\"e787450e-2019-45a7-9fc4-2821159360c1\",\"type\":\"CDSView\"},{\"attributes\":{\"callback\":null,\"end\":7361866.113051186,\"start\":6446275.841017158},\"id\":\"664fc9d4-4289-45e1-a3a1-bb4c348d0f05\",\"type\":\"Range1d\"},{\"attributes\":{},\"id\":\"6ab03f4b-9323-41d5-8e8a-82572b0c355b\",\"type\":\"BasicTickFormatter\"},{\"attributes\":{},\"id\":\"ee4a2f90-c57f-4ad0-a581-bbe1d9823879\",\"type\":\"LinearScale\"},{\"attributes\":{\"plot\":null,\"text\":\"\"},\"id\":\"f8151277-73d9-4e6d-b861-404bc7946147\",\"type\":\"Title\"},{\"attributes\":{},\"id\":\"fd71d803-50ce-4b21-90e2-51cdc1c5dc44\",\"type\":\"LinearScale\"},{\"attributes\":{\"tile_source\":{\"id\":\"c96685f9-e0ad-49c8-909d-f0ad8e600dff\",\"type\":\"WMTSTileSource\"}},\"id\":\"f2e55572-2d9e-499b-8d87-4fe234d72c4e\",\"type\":\"TileRenderer\"},{\"attributes\":{\"callback\":null,\"column_names\":[\"x\",\"y\"],\"data\":{\"x\":{\"__ndarray__\":\"ynq296UeIEEKgPGGkI0nQa9hZRqBYCJBfQkc3b2cLUE=\",\"dtype\":\"float64\",\"shape\":[4]},\"y\":{\"__ndarray__\":\"Kfim7umcWkH9KxkvhN5aQZXT2lEcw1pBmbPhPHxBW0E=\",\"dtype\":\"float64\",\"shape\":[4]}}},\"id\":\"25b0a3e3-3597-4025-ad3a-6da8fc7e8e9d\",\"type\":\"ColumnDataSource\"},{\"attributes\":{\"formatter\":{\"id\":\"6ab03f4b-9323-41d5-8e8a-82572b0c355b\",\"type\":\"BasicTickFormatter\"},\"plot\":{\"id\":\"000a2dd2-ecff-4f8b-99c5-c90552334882\",\"subtype\":\"Figure\",\"type\":\"Plot\"},\"ticker\":{\"id\":\"14c905b2-d34d-42e3-8e2d-eeabc9c8ad80\",\"type\":\"BasicTicker\"},\"visible\":false},\"id\":\"1a0304c2-25b8-4526-9991-6d31251d052b\",\"type\":\"LinearAxis\"},{\"attributes\":{\"fill_color\":{\"value\":\"#1f77b4\"},\"line_color\":{\"value\":\"#1f77b4\"},\"x\":{\"field\":\"x\"},\"y\":{\"field\":\"y\"}},\"id\":\"e44115f1-b659-4f03-b6c0-d7a09daa16f2\",\"type\":\"Circle\"},{\"attributes\":{\"fill_alpha\":{\"value\":0.1},\"fill_color\":{\"value\":\"#1f77b4\"},\"line_alpha\":{\"value\":0.1},\"line_color\":{\"value\":\"#1f77b4\"},\"x\":{\"field\":\"x\"},\"y\":{\"field\":\"y\"}},\"id\":\"1bf2b932-e918-4fd1-acef-55f6e95a6d89\",\"type\":\"Circle\"},{\"attributes\":{},\"id\":\"14c905b2-d34d-42e3-8e2d-eeabc9c8ad80\",\"type\":\"BasicTicker\"},{\"attributes\":{\"plot\":{\"id\":\"000a2dd2-ecff-4f8b-99c5-c90552334882\",\"subtype\":\"Figure\",\"type\":\"Plot\"},\"ticker\":{\"id\":\"14c905b2-d34d-42e3-8e2d-eeabc9c8ad80\",\"type\":\"BasicTicker\"}},\"id\":\"97d25290-94f3-432f-9c71-0a38655a3e74\",\"type\":\"Grid\"},{\"attributes\":{\"data_source\":{\"id\":\"25b0a3e3-3597-4025-ad3a-6da8fc7e8e9d\",\"type\":\"ColumnDataSource\"},\"glyph\":{\"id\":\"4fe48ddb-6497-4f4e-95f8-743fee1589ca\",\"type\":\"Circle\"},\"hover_glyph\":null,\"muted_glyph\":null,\"nonselection_glyph\":{\"id\":\"1bf2b932-e918-4fd1-acef-55f6e95a6d89\",\"type\":\"Circle\"},\"selection_glyph\":null,\"view\":{\"id\":\"8a7efb4b-4c80-4370-87e8-2bb78f280382\",\"type\":\"CDSView\"}},\"id\":\"e795d3a4-68d9-41d4-81ea-5457ed9db005\",\"type\":\"GlyphRenderer\"},{\"attributes\":{\"formatter\":{\"id\":\"a3b8e01c-2b48-4860-a49e-3e11f757871c\",\"type\":\"BasicTickFormatter\"},\"plot\":{\"id\":\"000a2dd2-ecff-4f8b-99c5-c90552334882\",\"subtype\":\"Figure\",\"type\":\"Plot\"},\"ticker\":{\"id\":\"fa856c77-6f1e-4221-9145-73f9989115bb\",\"type\":\"BasicTicker\"},\"visible\":false},\"id\":\"bf613974-ab2f-4f5f-a655-20ffb8bd7f59\",\"type\":\"LinearAxis\"},{\"attributes\":{},\"id\":\"fa856c77-6f1e-4221-9145-73f9989115bb\",\"type\":\"BasicTicker\"},{\"attributes\":{\"fill_color\":{\"value\":\"red\"},\"line_color\":{\"value\":\"red\"},\"x\":{\"field\":\"x\"},\"y\":{\"field\":\"y\"}},\"id\":\"4fe48ddb-6497-4f4e-95f8-743fee1589ca\",\"type\":\"Circle\"}],\"root_ids\":[\"000a2dd2-ecff-4f8b-99c5-c90552334882\"]},\"title\":\"Bokeh Application\",\"version\":\"0.12.10\"}};\n",
       "    var render_items = [{\"docid\":\"faea7446-aaf8-4d63-8e30-191a12e04cca\",\"elementid\":\"b2d9c518-a0e2-48a6-88a6-e1bddd464839\",\"modelid\":\"000a2dd2-ecff-4f8b-99c5-c90552334882\"}];\n",
       "\n",
       "    root.Bokeh.embed.embed_items(docs_json, render_items);\n",
       "  }\n",
       "\n",
       "  if (root.Bokeh !== undefined) {\n",
       "    embed_document(root);\n",
       "  } else {\n",
       "    var attempts = 0;\n",
       "    var timer = setInterval(function(root) {\n",
       "      if (root.Bokeh !== undefined) {\n",
       "        embed_document(root);\n",
       "        clearInterval(timer);\n",
       "      }\n",
       "      attempts++;\n",
       "      if (attempts > 100) {\n",
       "        console.log(\"Bokeh: ERROR: Unable to embed document because BokehJS library is missing\")\n",
       "        clearInterval(timer);\n",
       "      }\n",
       "    }, 10, root)\n",
       "  }\n",
       "})(window);"
      ],
      "application/vnd.bokehjs_exec.v0+json": ""
     },
     "metadata": {
      "application/vnd.bokehjs_exec.v0+json": {
       "id": "000a2dd2-ecff-4f8b-99c5-c90552334882"
      }
     },
     "output_type": "display_data"
    }
   ],
   "source": [
    "# show the plot\n",
    "bokeh.io.show(fig)"
   ]
  },
  {
   "cell_type": "markdown",
   "metadata": {},
   "source": [
    "Now that we have defined which tide gauges we are monitoring we can start downloading the relevant data. "
   ]
  },
  {
   "cell_type": "code",
   "execution_count": 9,
   "metadata": {},
   "outputs": [],
   "source": [
    "# each station has a number of files that you can look at.\n",
    "# here we define a template for each filename\n",
    "\n",
    "# stations that we are using for our computation\n",
    "# define the name formats for the relevant files\n",
    "names = {\n",
    "    'datum': '{dataset_name}/RLR_info/{id}.txt',\n",
    "    'diagram': '{dataset_name}/RLR_info/{id}.png',\n",
    "    'url': 'http://www.psmsl.org/data/obtaining/rlr.diagrams/{id}.php',\n",
    "    'rlr_monthly': '{dataset_name}/data/{id}.rlrdata',\n",
    "    'rlr_annual': '{dataset_name}/data/{id}.rlrdata',\n",
    "    'met_monthly': '{dataset_name}/data/{id}.metdata',\n",
    "    'doc': '{dataset_name}/docu/{id}.txt',\n",
    "    'contact': '{dataset_name}/docu/{id}_auth.txt'\n",
    "}"
   ]
  },
  {
   "cell_type": "code",
   "execution_count": 10,
   "metadata": {},
   "outputs": [
    {
     "data": {
      "text/html": [
       "<div>\n",
       "<style scoped>\n",
       "    .dataframe tbody tr th:only-of-type {\n",
       "        vertical-align: middle;\n",
       "    }\n",
       "\n",
       "    .dataframe tbody tr th {\n",
       "        vertical-align: top;\n",
       "    }\n",
       "\n",
       "    .dataframe thead th {\n",
       "        text-align: right;\n",
       "    }\n",
       "</style>\n",
       "<table border=\"1\" class=\"dataframe\">\n",
       "  <thead>\n",
       "    <tr style=\"text-align: right;\">\n",
       "      <th></th>\n",
       "      <th>lat</th>\n",
       "      <th>lon</th>\n",
       "      <th>name</th>\n",
       "      <th>coastline_code</th>\n",
       "      <th>station_code</th>\n",
       "      <th>quality</th>\n",
       "      <th>met_monthly</th>\n",
       "      <th>rlr_monthly</th>\n",
       "      <th>rlr_annual</th>\n",
       "    </tr>\n",
       "    <tr>\n",
       "      <th>id</th>\n",
       "      <th></th>\n",
       "      <th></th>\n",
       "      <th></th>\n",
       "      <th></th>\n",
       "      <th></th>\n",
       "      <th></th>\n",
       "      <th></th>\n",
       "      <th></th>\n",
       "      <th></th>\n",
       "    </tr>\n",
       "  </thead>\n",
       "  <tbody>\n",
       "    <tr>\n",
       "      <th>23</th>\n",
       "      <td>52.964444</td>\n",
       "      <td>4.745000</td>\n",
       "      <td>DEN HELDER</td>\n",
       "      <td>150</td>\n",
       "      <td>31</td>\n",
       "      <td>N</td>\n",
       "      <td>http://www.psmsl.org/data/obtaining/rlr.diagra...</td>\n",
       "      <td>http://www.psmsl.org/data/obtaining/rlr.diagra...</td>\n",
       "      <td>http://www.psmsl.org/data/obtaining/rlr.diagra...</td>\n",
       "    </tr>\n",
       "    <tr>\n",
       "      <th>24</th>\n",
       "      <td>53.326389</td>\n",
       "      <td>6.933056</td>\n",
       "      <td>DELFZIJL</td>\n",
       "      <td>150</td>\n",
       "      <td>1</td>\n",
       "      <td>N</td>\n",
       "      <td>http://www.psmsl.org/data/obtaining/rlr.diagra...</td>\n",
       "      <td>http://www.psmsl.org/data/obtaining/rlr.diagra...</td>\n",
       "      <td>http://www.psmsl.org/data/obtaining/rlr.diagra...</td>\n",
       "    </tr>\n",
       "    <tr>\n",
       "      <th>25</th>\n",
       "      <td>53.175556</td>\n",
       "      <td>5.409444</td>\n",
       "      <td>HARLINGEN</td>\n",
       "      <td>150</td>\n",
       "      <td>21</td>\n",
       "      <td>N</td>\n",
       "      <td>http://www.psmsl.org/data/obtaining/rlr.diagra...</td>\n",
       "      <td>http://www.psmsl.org/data/obtaining/rlr.diagra...</td>\n",
       "      <td>http://www.psmsl.org/data/obtaining/rlr.diagra...</td>\n",
       "    </tr>\n",
       "    <tr>\n",
       "      <th>7</th>\n",
       "      <td>53.866667</td>\n",
       "      <td>8.716667</td>\n",
       "      <td>CUXHAVEN 2</td>\n",
       "      <td>140</td>\n",
       "      <td>12</td>\n",
       "      <td>N</td>\n",
       "      <td>http://www.psmsl.org/data/obtaining/rlr.diagra...</td>\n",
       "      <td>http://www.psmsl.org/data/obtaining/rlr.diagra...</td>\n",
       "      <td>http://www.psmsl.org/data/obtaining/rlr.diagra...</td>\n",
       "    </tr>\n",
       "  </tbody>\n",
       "</table>\n",
       "</div>"
      ],
      "text/plain": [
       "          lat       lon        name  coastline_code  station_code quality  \\\n",
       "id                                                                          \n",
       "23  52.964444  4.745000  DEN HELDER             150            31       N   \n",
       "24  53.326389  6.933056    DELFZIJL             150             1       N   \n",
       "25  53.175556  5.409444   HARLINGEN             150            21       N   \n",
       "7   53.866667  8.716667  CUXHAVEN 2             140            12       N   \n",
       "\n",
       "                                          met_monthly  \\\n",
       "id                                                      \n",
       "23  http://www.psmsl.org/data/obtaining/rlr.diagra...   \n",
       "24  http://www.psmsl.org/data/obtaining/rlr.diagra...   \n",
       "25  http://www.psmsl.org/data/obtaining/rlr.diagra...   \n",
       "7   http://www.psmsl.org/data/obtaining/rlr.diagra...   \n",
       "\n",
       "                                          rlr_monthly  \\\n",
       "id                                                      \n",
       "23  http://www.psmsl.org/data/obtaining/rlr.diagra...   \n",
       "24  http://www.psmsl.org/data/obtaining/rlr.diagra...   \n",
       "25  http://www.psmsl.org/data/obtaining/rlr.diagra...   \n",
       "7   http://www.psmsl.org/data/obtaining/rlr.diagra...   \n",
       "\n",
       "                                           rlr_annual  \n",
       "id                                                     \n",
       "23  http://www.psmsl.org/data/obtaining/rlr.diagra...  \n",
       "24  http://www.psmsl.org/data/obtaining/rlr.diagra...  \n",
       "25  http://www.psmsl.org/data/obtaining/rlr.diagra...  \n",
       "7   http://www.psmsl.org/data/obtaining/rlr.diagra...  "
      ]
     },
     "execution_count": 10,
     "metadata": {},
     "output_type": "execute_result"
    }
   ],
   "source": [
    "def get_url(station, dataset_name):\n",
    "    \"\"\"return the url of the station information (diagram and datum)\"\"\"\n",
    "    info = dict(\n",
    "        dataset_name=dataset_name,\n",
    "        id=station.name\n",
    "    )\n",
    "    url = names['url'].format(**info)\n",
    "    return url\n",
    "\n",
    "for dataset_name in psmsl_urls:\n",
    "    # fill in the dataset parameter using the global dataset_name\n",
    "    f = functools.partial(get_url, dataset_name=dataset_name)\n",
    "    # compute the url for each station\n",
    "    selected_stations[dataset_name] = selected_stations.apply(f, axis=1)\n",
    "selected_stations"
   ]
  },
  {
   "cell_type": "markdown",
   "metadata": {},
   "source": [
    "Sea-level explained  \n",
    "=======\n"
   ]
  },
  {
   "cell_type": "code",
   "execution_count": 11,
   "metadata": {},
   "outputs": [],
   "source": [
    "def missing2nan(value, missing=-99999):\n",
    "    \"\"\"convert the value to nan if the float of value equals the missing value\"\"\"\n",
    "    value = float(value)\n",
    "    if value == missing:\n",
    "        return np.nan\n",
    "    return value\n",
    "\n",
    "def year2date(year_fraction, dtype='datetime64[s]'):\n",
    "    \"\"\"convert a fraction of a year + fraction of a year to a date, for example 1993.12 -> 1993-02-01.\n",
    "    The dtype should be a valid numpy datetime unit, such as datetime64[s]\"\"\"\n",
    "    startpoints = np.linspace(0, 1, num=12, endpoint=False)\n",
    "    remainder = np.mod(year_fraction, 1)\n",
    "    year = np.floor_divide(year_fraction, 1).astype('int')\n",
    "    month = np.searchsorted(startpoints, remainder)\n",
    "    if (month == 0).all():\n",
    "        # if month is set to 0 (for annual data), set to january\n",
    "        month = np.ones_like(month)\n",
    "    dates = [\n",
    "        datetime.datetime(year_i, month_i, 1) \n",
    "        for year_i, month_i \n",
    "        in zip(year, month)\n",
    "    ]\n",
    "    datetime64s = np.asarray(dates, dtype=dtype)\n",
    "    return datetime64s\n",
    "\n",
    "def get_data(station, dataset_name):\n",
    "    \"\"\"get data for the station (pandas record) from the dataset (url)\"\"\"\n",
    "    info = dict(\n",
    "        dataset_name=dataset_name,\n",
    "        id=station.name\n",
    "    )\n",
    "    bytes = zipfiles[dataset_name].read(names[dataset_name].format(**info))\n",
    "    df = pandas.read_csv(\n",
    "        io.BytesIO(bytes), \n",
    "        sep=';', \n",
    "        names=('year', 'height', 'interpolated', 'flags'),\n",
    "        converters={\n",
    "            \"height\": lambda x: main_stations[station.name]['rlr2nap'](missing2nan(x)),\n",
    "            \"interpolated\": str.strip,\n",
    "        }\n",
    "    )\n",
    "    df['station'] = station.name\n",
    "    df['t'] = year2date(df.year)\n",
    "    df = df.set_index('t')\n",
    "    return df"
   ]
  },
  {
   "cell_type": "code",
   "execution_count": 12,
   "metadata": {},
   "outputs": [],
   "source": [
    "# get data for all stations\n",
    "for dataset_name in psmsl_urls:\n",
    "    f = functools.partial(get_data, dataset_name=dataset_name)\n",
    "    # look up the data for each station\n",
    "    selected_stations[dataset_name] = [f(station) for _, station in selected_stations.iterrows()]"
   ]
  },
  {
   "cell_type": "markdown",
   "metadata": {},
   "source": [
    "Now that we have all data downloaded we can compute the mean."
   ]
  },
  {
   "cell_type": "code",
   "execution_count": 13,
   "metadata": {},
   "outputs": [],
   "source": [
    "# compute the mean\n",
    "\n",
    "grouped = pandas.concat(selected_stations[dataset_name].tolist())[['year', 'height']].groupby(['year'])\n",
    "mean_df = grouped.mean().reset_index()\n",
    "# filter out non-trusted part (before NAP)\n",
    "mean_df = mean_df[mean_df['year'] >= 1890].copy()"
   ]
  },
  {
   "cell_type": "code",
   "execution_count": 14,
   "metadata": {},
   "outputs": [
    {
     "data": {
      "text/html": [
       "<div>\n",
       "<style scoped>\n",
       "    .dataframe tbody tr th:only-of-type {\n",
       "        vertical-align: middle;\n",
       "    }\n",
       "\n",
       "    .dataframe tbody tr th {\n",
       "        vertical-align: top;\n",
       "    }\n",
       "\n",
       "    .dataframe thead th {\n",
       "        text-align: right;\n",
       "    }\n",
       "</style>\n",
       "<table border=\"1\" class=\"dataframe\">\n",
       "  <thead>\n",
       "    <tr style=\"text-align: right;\">\n",
       "      <th></th>\n",
       "      <th>year</th>\n",
       "      <th>height</th>\n",
       "    </tr>\n",
       "  </thead>\n",
       "  <tbody>\n",
       "    <tr>\n",
       "      <th>169</th>\n",
       "      <td>2012</td>\n",
       "      <td>80.75</td>\n",
       "    </tr>\n",
       "    <tr>\n",
       "      <th>170</th>\n",
       "      <td>2013</td>\n",
       "      <td>48.00</td>\n",
       "    </tr>\n",
       "    <tr>\n",
       "      <th>171</th>\n",
       "      <td>2014</td>\n",
       "      <td>89.25</td>\n",
       "    </tr>\n",
       "    <tr>\n",
       "      <th>172</th>\n",
       "      <td>2015</td>\n",
       "      <td>143.00</td>\n",
       "    </tr>\n",
       "    <tr>\n",
       "      <th>173</th>\n",
       "      <td>2016</td>\n",
       "      <td>106.25</td>\n",
       "    </tr>\n",
       "  </tbody>\n",
       "</table>\n",
       "</div>"
      ],
      "text/plain": [
       "     year  height\n",
       "169  2012   80.75\n",
       "170  2013   48.00\n",
       "171  2014   89.25\n",
       "172  2015  143.00\n",
       "173  2016  106.25"
      ]
     },
     "execution_count": 14,
     "metadata": {},
     "output_type": "execute_result"
    }
   ],
   "source": [
    "# these are the mean waterlevels \n",
    "mean_df.tail()"
   ]
  },
  {
   "cell_type": "code",
   "execution_count": 15,
   "metadata": {},
   "outputs": [],
   "source": [
    "def timeseries_plot(dataset_name=default_dataset_name):\n",
    "    # show all the stations, including the mean\n",
    "    title = 'Sea-surface height for Dutch tide gauges [{year_min} - {year_max}]'.format(\n",
    "        year_min=mean_df.year.min(),\n",
    "        year_max=mean_df.year.max() \n",
    "    )\n",
    "    fig = bokeh.plotting.figure(title=title, x_range=(1860, 2020), plot_width=900, plot_height=400)\n",
    "    colors = bokeh.palettes.Accent7\n",
    "    # no yellow\n",
    "    del colors[3]\n",
    "    for color, (id_, station) in zip(colors, selected_stations.iterrows()):\n",
    "        data = station[dataset_name]\n",
    "        fig.circle(data.year, data.height, color=color, legend=station['name'], alpha=0.5, line_width=1)\n",
    "    fig.line(mean_df.year, mean_df.height, line_width=1, alpha=0.7, color='black', legend='Mean')\n",
    "    fig.legend.location = \"bottom_right\"\n",
    "    fig.yaxis.axis_label = 'waterlevel [mm] above NAP'\n",
    "    fig.xaxis.axis_label = 'year'\n",
    "    fig.legend.click_policy = \"hide\"\n",
    "    return fig\n"
   ]
  },
  {
   "cell_type": "code",
   "execution_count": 16,
   "metadata": {},
   "outputs": [
    {
     "data": {
      "text/html": [
       "\n",
       "<div class=\"bk-root\">\n",
       "    <div class=\"bk-plotdiv\" id=\"7db025b2-ac93-463d-a8e7-908fe22c93e7\"></div>\n",
       "</div>"
      ]
     },
     "metadata": {},
     "output_type": "display_data"
    },
    {
     "data": {
      "application/javascript": [
       "(function(root) {\n",
       "  function embed_document(root) {\n",
       "    var docs_json = {\"40a6445e-71ef-4026-b468-6b7978c409e5\":{\"roots\":{\"references\":[{\"attributes\":{\"callback\":null,\"column_names\":[\"x\",\"y\"],\"data\":{\"x\":[1865,1866,1867,1868,1869,1870,1871,1872,1873,1874,1875,1876,1877,1878,1879,1880,1881,1882,1883,1884,1885,1886,1887,1888,1889,1890,1891,1892,1893,1894,1895,1896,1897,1898,1899,1900,1901,1902,1903,1904,1905,1906,1907,1908,1909,1910,1911,1912,1913,1914,1915,1916,1917,1918,1919,1920,1921,1922,1923,1924,1925,1926,1927,1928,1929,1930,1931,1932,1933,1934,1935,1936,1937,1938,1939,1940,1941,1942,1943,1944,1945,1946,1947,1948,1949,1950,1951,1952,1953,1954,1955,1956,1957,1958,1959,1960,1961,1962,1963,1964,1965,1966,1967,1968,1969,1970,1971,1972,1973,1974,1975,1976,1977,1978,1979,1980,1981,1982,1983,1984,1985,1986,1987,1988,1989,1990,1991,1992,1993,1994,1995,1996,1997,1998,1999,2000,2001,2002,2003,2004,2005,2006,2007,2008,2009,2010,2011,2012,2013,2014,2015,2016],\"y\":{\"__ndarray__\":\"AAAAAACAccAAAAAAAEBiwAAAAAAAIGnAAAAAAABAacAAAAAAAMBowAAAAAAA4G/AAAAAAABgcMAAAAAAAIBpwAAAAAAAQGjAAAAAAABAasAAAAAAAABwwAAAAAAAAGjAAAAAAAAAW8AAAAAAAGBgwAAAAAAAwGfAAAAAAADgY8AAAAAAAABqwAAAAAAAQGbAAAAAAACAZ8AAAAAAAMBlwAAAAAAAQGjAAAAAAADgZsAAAAAAAEBswAAAAAAAoGvAAAAAAACgZsAAAAAAAOBnwAAAAAAAoGPAAAAAAACAY8AAAAAAAABhwAAAAAAAQGHAAAAAAABAZMAAAAAAAOBmwAAAAAAAoGXAAAAAAABgYMAAAAAAAIBgwAAAAAAA4GXAAAAAAADga8AAAAAAAEBwwAAAAAAAoGTAAAAAAACgYMAAAAAAAGBlwAAAAAAAIGDAAAAAAACgY8AAAAAAAABmwAAAAAAAIGDAAAAAAAAAXMAAAAAAAMBhwAAAAAAAgFbAAAAAAACAYMAAAAAAAABYwAAAAAAAwF/AAAAAAACAWMAAAAAAAABjwAAAAAAA4GDAAAAAAAAgYcAAAAAAAGBiwAAAAAAA4GDAAAAAAACAYsAAAAAAAEBfwAAAAAAAAGLAAAAAAACAWcAAAAAAAKBgwAAAAAAAoGDAAAAAAACAXcAAAAAAAABjwAAAAAAAQFnAAAAAAAAAWMAAAAAAAEBbwAAAAAAAwGTAAAAAAAAAZMAAAAAAAEBawAAAAAAAQFfAAAAAAAAAW8AAAAAAAAA3wAAAAAAAIGHAAAAAAACAXcAAAAAAAKBjwAAAAAAA4GHAAAAAAAAAV8AAAAAAAABWwAAAAAAAgFTAAAAAAABAWMAAAAAAAOBmwAAAAAAAAFnAAAAAAACAT8AAAAAAAIBRwAAAAAAAgFfAAAAAAACAU8AAAAAAAMBawAAAAAAAQFDAAAAAAAAATcAAAAAAAABhwAAAAAAAwFzAAAAAAACAU8AAAAAAAEBdwAAAAAAAQFXAAAAAAACAQMAAAAAAAIBVwAAAAAAAYGDAAAAAAABAVsAAAAAAAAA9wAAAAAAAAAjAAAAAAAAAM0AAAAAAAABOwAAAAAAAgFbAAAAAAABAUMAAAAAAAABewAAAAAAAgGDAAAAAAAAAVMAAAAAAAIBUwAAAAAAAAFvAAAAAAABAXsAAAAAAAABFwAAAAAAAgE/AAAAAAACATMAAAAAAAIBFwAAAAAAAABTAAAAAAAAAPcAAAAAAAAAqQAAAAAAAAETAAAAAAAAAQ8AAAAAAAABDwAAAAAAAgEzAAAAAAAAAPkAAAAAAAAAywAAAAAAAADxAAAAAAABAU8AAAAAAAAA9wAAAAAAAgETAAAAAAAAAFEAAAAAAAAAAAAAAAAAAgFvAAAAAAAAAT8AAAAAAAAAyQAAAAAAAACpAAAAAAAAAJkAAAAAAAAAkQAAAAAAAAADAAAAAAAAAKMAAAAAAAAA0QAAAAAAAABzAAAAAAAAAFMAAAAAAAABFQAAAAAAAADFAAAAAAAAAMcAAAAAAAAA+wAAAAAAAADFAAAAAAAAAAEAAAAAAAAA7wAAAAAAAABhAAAAAAAAAQkAAAAAAAAAxQA==\",\"dtype\":\"float64\",\"shape\":[152]}}},\"id\":\"0e03ea30-2f9b-4637-a260-dde1bd49dcf1\",\"type\":\"ColumnDataSource\"},{\"attributes\":{\"source\":{\"id\":\"c379fd56-441e-4ecb-a114-b9a4777d9a3b\",\"type\":\"ColumnDataSource\"}},\"id\":\"8020a476-25af-49c2-b867-44d3006a6871\",\"type\":\"CDSView\"},{\"attributes\":{\"bottom_units\":\"screen\",\"fill_alpha\":{\"value\":0.5},\"fill_color\":{\"value\":\"lightgrey\"},\"left_units\":\"screen\",\"level\":\"overlay\",\"line_alpha\":{\"value\":1.0},\"line_color\":{\"value\":\"black\"},\"line_dash\":[4,4],\"line_width\":{\"value\":2},\"plot\":null,\"render_mode\":\"css\",\"right_units\":\"screen\",\"top_units\":\"screen\"},\"id\":\"220ccd78-5c25-4103-a4a4-0ad731dc1eb5\",\"type\":\"BoxAnnotation\"},{\"attributes\":{\"fill_alpha\":{\"value\":0.1},\"fill_color\":{\"value\":\"#1f77b4\"},\"line_alpha\":{\"value\":0.1},\"line_color\":{\"value\":\"#1f77b4\"},\"x\":{\"field\":\"x\"},\"y\":{\"field\":\"y\"}},\"id\":\"cda2da04-f35b-409b-95e2-d4755a74c45c\",\"type\":\"Circle\"},{\"attributes\":{},\"id\":\"dde912b7-7af6-4b4f-9e8a-733c3fe76ec7\",\"type\":\"SaveTool\"},{\"attributes\":{\"fill_alpha\":{\"value\":0.5},\"fill_color\":{\"value\":\"#fdc086\"},\"line_alpha\":{\"value\":0.5},\"line_color\":{\"value\":\"#fdc086\"},\"x\":{\"field\":\"x\"},\"y\":{\"field\":\"y\"}},\"id\":\"abaf6f90-3dae-494e-bda2-e64b93e108e9\",\"type\":\"Circle\"},{\"attributes\":{},\"id\":\"aa3f3a12-206d-4f1c-943a-1703a80e312e\",\"type\":\"PanTool\"},{\"attributes\":{\"callback\":null,\"column_names\":[\"x\",\"y\"],\"data\":{\"x\":[1865,1866,1867,1868,1869,1870,1871,1872,1873,1874,1875,1876,1877,1878,1879,1880,1881,1882,1883,1884,1885,1886,1887,1888,1889,1890,1891,1892,1893,1894,1895,1896,1897,1898,1899,1900,1901,1902,1903,1904,1905,1906,1907,1908,1909,1910,1911,1912,1913,1914,1915,1916,1917,1918,1919,1920,1921,1922,1923,1924,1925,1926,1927,1928,1929,1930,1931,1932,1933,1934,1935,1936,1937,1938,1939,1940,1941,1942,1943,1944,1945,1946,1947,1948,1949,1950,1951,1952,1953,1954,1955,1956,1957,1958,1959,1960,1961,1962,1963,1964,1965,1966,1967,1968,1969,1970,1971,1972,1973,1974,1975,1976,1977,1978,1979,1980,1981,1982,1983,1984,1985,1986,1987,1988,1989,1990,1991,1992,1993,1994,1995,1996,1997,1998,1999,2000,2001,2002,2003,2004,2005,2006,2007,2008,2009,2010,2011,2012,2013,2014,2015,2016],\"y\":{\"__ndarray__\":\"AAAAAABAZcAAAAAAAEBTwAAAAAAAAEvAAAAAAAAAVsAAAAAAAMBRwAAAAAAAoGTAAAAAAAAgY8AAAAAAAEBdwAAAAAAAgFXAAAAAAACAUsAAAAAAACBkwAAAAAAAQGDAAAAAAAAAMUAAAAAAAIBMwAAAAAAAwGHAAAAAAABAVcAAAAAAAOBiwAAAAAAAgF7AAAAAAABAZcAAAAAAACBjwAAAAAAAYGLAAAAAAADAZMAAAAAAAKBgwAAAAAAAoGTAAAAAAAAgYMAAAAAAAOBiwAAAAAAAwF/AAAAAAADAX8AAAAAAAMBUwAAAAAAAAF3AAAAAAAAAYMAAAAAAAIBewAAAAAAAgF7AAAAAAABAUMAAAAAAAMBWwAAAAAAAAFzAAAAAAABAYMAAAAAAACBkwAAAAAAAAELAAAAAAADAYMAAAAAAAIBowAAAAAAAwFzAAAAAAABAYMAAAAAAAMBewAAAAAAAAFPAAAAAAACAUMAAAAAAAABLwAAAAAAAACxAAAAAAACARsAAAAAAAABEwAAAAAAAAFTAAAAAAAAAIsAAAAAAAEBSwAAAAAAAwFXAAAAAAAAAXMAAAAAAAEBVwAAAAAAAADHAAAAAAAAAU8AAAAAAAABKwAAAAAAAwFXAAAAAAAAAFMAAAAAAAAAxwAAAAAAAgEXAAAAAAAAAPsAAAAAAAEBRwAAAAAAAgEfAAAAAAAAAMcAAAAAAAABBwAAAAAAAwFPAAAAAAACATMAAAAAAAAAswAAAAAAAAC7AAAAAAAAASsAAAAAAAAAUwAAAAAAAAFHAAAAAAACAR8AAAAAAAMBYwAAAAAAAgFPAAAAAAAAAJMAAAAAAAAA1QAAAAAAAADZAAAAAAAAAFMAAAAAAAIBawAAAAAAAACTAAAAAAAAAKkAAAAAAAAA1wAAAAAAAgEfAAAAAAAAAAEAAAAAAAAA7wAAAAAAAADPAAAAAAAAAEEAAAAAAAABEwAAAAAAAADTAAAAAAAAAPsAAAAAAAIBPwAAAAAAAAC7AAAAAAACAVUAAAAAAAAAwQAAAAAAAAD3AAAAAAAAALMAAAAAAAAAAAAAAAAAAAD5AAAAAAADAWUAAAAAAAIBCQAAAAAAAAChAAAAAAAAAT0AAAAAAAAA6QAAAAAAAgEzAAAAAAACAQUAAAAAAAIBBQAAAAAAAABxAAAAAAAAANsAAAAAAAAAuQAAAAAAAAC5AAAAAAAAA8D8AAAAAAIBGQAAAAAAAwFpAAAAAAADAU0AAAAAAAABgQAAAAAAAAD9AAAAAAACAR0AAAAAAAAAzQAAAAAAAADdAAAAAAADAW0AAAAAAAMBSQAAAAAAAAF9AAAAAAAAAIkAAAAAAAIBMQAAAAAAAAEtAAAAAAABAV0AAAAAAAIBaQAAAAAAAgELAAAAAAACAQ0AAAAAAAGBgQAAAAAAAwF5AAAAAAABAXUAAAAAAAIBfQAAAAAAAgFpAAAAAAACAVUAAAAAAAABdQAAAAAAAQFRAAAAAAAAAVEAAAAAAAGBjQAAAAAAAQF1AAAAAAABAVEAAAAAAAMBQQAAAAAAAgF5AAAAAAACAWkAAAAAAAIBUQAAAAAAAgF9AAAAAAABgZkAAAAAAAABiQA==\",\"dtype\":\"float64\",\"shape\":[152]}}},\"id\":\"c379fd56-441e-4ecb-a114-b9a4777d9a3b\",\"type\":\"ColumnDataSource\"},{\"attributes\":{},\"id\":\"11959bec-cc06-4da8-9768-3010c0c722d7\",\"type\":\"WheelZoomTool\"},{\"attributes\":{\"overlay\":{\"id\":\"220ccd78-5c25-4103-a4a4-0ad731dc1eb5\",\"type\":\"BoxAnnotation\"}},\"id\":\"da391172-6c0d-4b25-a9b9-b081ec028f66\",\"type\":\"BoxZoomTool\"},{\"attributes\":{\"data_source\":{\"id\":\"971d7bec-d5cb-4adb-86c3-4bd155d3d02a\",\"type\":\"ColumnDataSource\"},\"glyph\":{\"id\":\"abaf6f90-3dae-494e-bda2-e64b93e108e9\",\"type\":\"Circle\"},\"hover_glyph\":null,\"muted_glyph\":null,\"nonselection_glyph\":{\"id\":\"34586124-5b6e-437b-9ff3-d9b85dbae1b3\",\"type\":\"Circle\"},\"selection_glyph\":null,\"view\":{\"id\":\"2217710b-8b60-4235-9561-aa4a3be1f60b\",\"type\":\"CDSView\"}},\"id\":\"87ac4412-88b3-4ca5-8c57-a05cd7eaf3e4\",\"type\":\"GlyphRenderer\"},{\"attributes\":{\"fill_alpha\":{\"value\":0.5},\"fill_color\":{\"value\":\"#386cb0\"},\"line_alpha\":{\"value\":0.5},\"line_color\":{\"value\":\"#386cb0\"},\"x\":{\"field\":\"x\"},\"y\":{\"field\":\"y\"}},\"id\":\"e7081f6c-4a2f-41bf-aae0-754eed51a0bf\",\"type\":\"Circle\"},{\"attributes\":{\"data_source\":{\"id\":\"c379fd56-441e-4ecb-a114-b9a4777d9a3b\",\"type\":\"ColumnDataSource\"},\"glyph\":{\"id\":\"68b02af0-e501-4e05-8ee5-ad666a15c219\",\"type\":\"Circle\"},\"hover_glyph\":null,\"muted_glyph\":null,\"nonselection_glyph\":{\"id\":\"a670f776-2875-4d78-b315-e716f129411f\",\"type\":\"Circle\"},\"selection_glyph\":null,\"view\":{\"id\":\"8020a476-25af-49c2-b867-44d3006a6871\",\"type\":\"CDSView\"}},\"id\":\"8a2edfc5-05ef-4060-9059-a2d126ec191c\",\"type\":\"GlyphRenderer\"},{\"attributes\":{\"callback\":null,\"column_names\":[\"x\",\"y\"],\"data\":{\"x\":[1865,1866,1867,1868,1869,1870,1871,1872,1873,1874,1875,1876,1877,1878,1879,1880,1881,1882,1883,1884,1885,1886,1887,1888,1889,1890,1891,1892,1893,1894,1895,1896,1897,1898,1899,1900,1901,1902,1903,1904,1905,1906,1907,1908,1909,1910,1911,1912,1913,1914,1915,1916,1917,1918,1919,1920,1921,1922,1923,1924,1925,1926,1927,1928,1929,1930,1931,1932,1933,1934,1935,1936,1937,1938,1939,1940,1941,1942,1943,1944,1945,1946,1947,1948,1949,1950,1951,1952,1953,1954,1955,1956,1957,1958,1959,1960,1961,1962,1963,1964,1965,1966,1967,1968,1969,1970,1971,1972,1973,1974,1975,1976,1977,1978,1979,1980,1981,1982,1983,1984,1985,1986,1987,1988,1989,1990,1991,1992,1993,1994,1995,1996,1997,1998,1999,2000,2001,2002,2003,2004,2005,2006,2007,2008,2009,2010,2011,2012,2013,2014,2015,2016],\"y\":{\"__ndarray__\":\"AAAAAAAAb8AAAAAAAABawAAAAAAAoGDAAAAAAADAXsAAAAAAAKBhwAAAAAAAYG7AAAAAAADgZMAAAAAAAABcwAAAAAAAgFjAAAAAAADAWsAAAAAAACBnwAAAAAAAoGDAAAAAAACASsAAAAAAAABNwAAAAAAAYGHAAAAAAAAATcAAAAAAACBgwAAAAAAAAFXAAAAAAABAW8AAAAAAAMBVwAAAAAAAAF/AAAAAAADAYMAAAAAAAMBhwAAAAAAA4GLAAAAAAACAXMAAAAAAAABewAAAAAAAAFnAAAAAAADAVsAAAAAAAIBSwAAAAAAAgFHAAAAAAAAAWsAAAAAAAEBZwAAAAAAAgFTAAAAAAAAARcAAAAAAAMBTwAAAAAAAgFzAAAAAAACAX8AAAAAAAABhwAAAAAAAAC7AAAAAAAAAVcAAAAAAAIBTwAAAAAAAAEnAAAAAAACAU8AAAAAAAEBawAAAAAAAgE3AAAAAAACAR8AAAAAAAEBTwAAAAAAAAPC/AAAAAAAAOcAAAAAAAAAkwAAAAAAAgFLAAAAAAAAAEMAAAAAAAIBKwAAAAAAAAEHAAAAAAAAATsAAAAAAAIBKwAAAAAAAgEHAAAAAAAAASsAAAAAAAAAgwAAAAAAAgEPAAAAAAAAAMkAAAAAAAAAYQAAAAAAAACTAAAAAAAAAIEAAAAAAAABRwAAAAAAAAELAAAAAAAAALsAAAAAAAAA9wAAAAAAAQFXAAAAAAACAS8AAAAAAAAAIwAAAAAAAACrAAAAAAAAAR8AAAAAAAAAqwAAAAAAAgE/AAAAAAACATMAAAAAAAMBXwAAAAAAAgE3AAAAAAAAAKsAAAAAAAAAmwAAAAAAAACLAAAAAAAAAQMAAAAAAAMBZwAAAAAAAACTAAAAAAAAAIEAAAAAAAAAAQAAAAAAAADPAAAAAAAAACEAAAAAAAABFwAAAAAAAADDAAAAAAAAAM8AAAAAAAIBOwAAAAAAAAC7AAAAAAAAAIsAAAAAAAIBNwAAAAAAAADjAAAAAAAAATUAAAAAAAAAQQAAAAAAAQFLAAAAAAAAATsAAAAAAAAAmQAAAAAAAADtAAAAAAABAVkAAAAAAAAAAwAAAAAAAAAjAAAAAAACAT0AAAAAAAAAuwAAAAAAAACrAAAAAAAAASEAAAAAAAIBFQAAAAAAAACDAAAAAAAAARcAAAAAAAAA1QAAAAAAAABzAAAAAAAAALkAAAAAAAABKQAAAAAAAAFNAAAAAAACASUAAAAAAAABZQAAAAAAAADBAAAAAAAAAMEAAAAAAAAAyQAAAAAAAACbAAAAAAADAVUAAAAAAAIBBQAAAAAAAwFdAAAAAAAAARcAAAAAAAAAiQAAAAAAAAAhAAAAAAACAS0AAAAAAAIBKQAAAAAAAwFfAAAAAAAAAIsAAAAAAAEBWQAAAAAAAAFRAAAAAAABAU0AAAAAAAMBQQAAAAAAAgEpAAAAAAACAQ0AAAAAAAABWQAAAAAAAAE1AAAAAAABAUEAAAAAAAIBeQAAAAAAAgFhAAAAAAAAASkAAAAAAAAA+QAAAAAAAAFhAAAAAAADAVEAAAAAAAABEQAAAAAAAQFdAAAAAAACAYUAAAAAAAMBZQA==\",\"dtype\":\"float64\",\"shape\":[152]}}},\"id\":\"971d7bec-d5cb-4adb-86c3-4bd155d3d02a\",\"type\":\"ColumnDataSource\"},{\"attributes\":{\"below\":[{\"id\":\"cb044594-9e57-4d78-ab23-b2d813a7f82e\",\"type\":\"LinearAxis\"}],\"left\":[{\"id\":\"c4980301-5d96-4975-9be0-4f5a0d5a849a\",\"type\":\"LinearAxis\"}],\"plot_height\":400,\"plot_width\":900,\"renderers\":[{\"id\":\"cb044594-9e57-4d78-ab23-b2d813a7f82e\",\"type\":\"LinearAxis\"},{\"id\":\"dfc768ba-4465-4942-a9a1-b74e48b1474d\",\"type\":\"Grid\"},{\"id\":\"c4980301-5d96-4975-9be0-4f5a0d5a849a\",\"type\":\"LinearAxis\"},{\"id\":\"92441d5e-6284-4144-91ca-9f063e260d1f\",\"type\":\"Grid\"},{\"id\":\"220ccd78-5c25-4103-a4a4-0ad731dc1eb5\",\"type\":\"BoxAnnotation\"},{\"id\":\"2639df66-a1c5-4de2-80f1-3f0db91045cf\",\"type\":\"Legend\"},{\"id\":\"21595b04-16ab-48c8-9620-9df21e70d08f\",\"type\":\"GlyphRenderer\"},{\"id\":\"8a2edfc5-05ef-4060-9059-a2d126ec191c\",\"type\":\"GlyphRenderer\"},{\"id\":\"87ac4412-88b3-4ca5-8c57-a05cd7eaf3e4\",\"type\":\"GlyphRenderer\"},{\"id\":\"9050ed34-1957-434b-81e2-eeb742d908f8\",\"type\":\"GlyphRenderer\"},{\"id\":\"a79d586b-1a9b-4bbe-84d8-358b0ad6cba6\",\"type\":\"GlyphRenderer\"}],\"title\":{\"id\":\"03538a6f-cb74-4e11-bf5c-72e631e3acc2\",\"type\":\"Title\"},\"toolbar\":{\"id\":\"b5d5cf27-2e54-4e7d-84ea-0fc8038c2d31\",\"type\":\"Toolbar\"},\"x_range\":{\"id\":\"68ada70a-6cee-4358-b5f6-abcc69be17b7\",\"type\":\"Range1d\"},\"x_scale\":{\"id\":\"d0485d6f-a2d4-41e4-a27f-50cb720dd04d\",\"type\":\"LinearScale\"},\"y_range\":{\"id\":\"8bf5ebd3-1348-4848-afd0-2c3c4d71696f\",\"type\":\"DataRange1d\"},\"y_scale\":{\"id\":\"1f2a7c1f-304a-43de-8105-6fbffc634514\",\"type\":\"LinearScale\"}},\"id\":\"3bfa132b-731b-47e1-a773-a5eb89f91f45\",\"subtype\":\"Figure\",\"type\":\"Plot\"},{\"attributes\":{\"source\":{\"id\":\"04364a0d-6100-4836-983c-8b6d714226cf\",\"type\":\"ColumnDataSource\"}},\"id\":\"e90ba392-2fe3-4838-b85d-5d82afaa80b9\",\"type\":\"CDSView\"},{\"attributes\":{\"label\":{\"value\":\"CUXHAVEN 2\"},\"renderers\":[{\"id\":\"9050ed34-1957-434b-81e2-eeb742d908f8\",\"type\":\"GlyphRenderer\"}]},\"id\":\"748d9acd-c803-4366-8604-8bf5f5abb7f9\",\"type\":\"LegendItem\"},{\"attributes\":{\"axis_label\":\"waterlevel [mm] above NAP\",\"formatter\":{\"id\":\"49ef4f1d-6987-4654-ba4e-b725e334584f\",\"type\":\"BasicTickFormatter\"},\"plot\":{\"id\":\"3bfa132b-731b-47e1-a773-a5eb89f91f45\",\"subtype\":\"Figure\",\"type\":\"Plot\"},\"ticker\":{\"id\":\"3b401372-a1e6-4898-a326-fb4969be5569\",\"type\":\"BasicTicker\"}},\"id\":\"c4980301-5d96-4975-9be0-4f5a0d5a849a\",\"type\":\"LinearAxis\"},{\"attributes\":{\"source\":{\"id\":\"0e03ea30-2f9b-4637-a260-dde1bd49dcf1\",\"type\":\"ColumnDataSource\"}},\"id\":\"510224a9-3cae-46f5-bff3-ddde076435bb\",\"type\":\"CDSView\"},{\"attributes\":{},\"id\":\"3b401372-a1e6-4898-a326-fb4969be5569\",\"type\":\"BasicTicker\"},{\"attributes\":{\"dimension\":1,\"plot\":{\"id\":\"3bfa132b-731b-47e1-a773-a5eb89f91f45\",\"subtype\":\"Figure\",\"type\":\"Plot\"},\"ticker\":{\"id\":\"3b401372-a1e6-4898-a326-fb4969be5569\",\"type\":\"BasicTicker\"}},\"id\":\"92441d5e-6284-4144-91ca-9f063e260d1f\",\"type\":\"Grid\"},{\"attributes\":{\"label\":{\"value\":\"Mean\"},\"renderers\":[{\"id\":\"a79d586b-1a9b-4bbe-84d8-358b0ad6cba6\",\"type\":\"GlyphRenderer\"}]},\"id\":\"f8c2fc9f-bf16-430b-b596-88346cf4a9fd\",\"type\":\"LegendItem\"},{\"attributes\":{\"label\":{\"value\":\"HARLINGEN\"},\"renderers\":[{\"id\":\"87ac4412-88b3-4ca5-8c57-a05cd7eaf3e4\",\"type\":\"GlyphRenderer\"}]},\"id\":\"b18a1cfb-b20d-4776-85a8-14b9b7a7d22d\",\"type\":\"LegendItem\"},{\"attributes\":{\"line_alpha\":{\"value\":0.7},\"x\":{\"field\":\"x\"},\"y\":{\"field\":\"y\"}},\"id\":\"456798f0-afa7-4145-a501-8f7801a29f6f\",\"type\":\"Line\"},{\"attributes\":{\"plot\":null,\"text\":\"Sea-surface height for Dutch tide gauges [1890 - 2016]\"},\"id\":\"03538a6f-cb74-4e11-bf5c-72e631e3acc2\",\"type\":\"Title\"},{\"attributes\":{\"data_source\":{\"id\":\"c9be7914-70b6-4fc6-9b59-8c7746b623b8\",\"type\":\"ColumnDataSource\"},\"glyph\":{\"id\":\"e7081f6c-4a2f-41bf-aae0-754eed51a0bf\",\"type\":\"Circle\"},\"hover_glyph\":null,\"muted_glyph\":null,\"nonselection_glyph\":{\"id\":\"cda2da04-f35b-409b-95e2-d4755a74c45c\",\"type\":\"Circle\"},\"selection_glyph\":null,\"view\":{\"id\":\"38000517-ced3-40c6-885e-9dabbebe5c3b\",\"type\":\"CDSView\"}},\"id\":\"9050ed34-1957-434b-81e2-eeb742d908f8\",\"type\":\"GlyphRenderer\"},{\"attributes\":{\"callback\":null,\"end\":2020,\"start\":1860},\"id\":\"68ada70a-6cee-4358-b5f6-abcc69be17b7\",\"type\":\"Range1d\"},{\"attributes\":{\"callback\":null,\"column_names\":[\"x\",\"y\"],\"data\":{\"x\":[1843,1844,1845,1846,1847,1848,1849,1850,1851,1852,1853,1854,1855,1856,1857,1858,1859,1860,1861,1862,1863,1864,1865,1866,1867,1868,1869,1870,1871,1872,1873,1874,1875,1876,1877,1878,1879,1880,1881,1882,1883,1884,1885,1886,1887,1888,1889,1890,1891,1892,1893,1894,1895,1896,1897,1898,1899,1900,1901,1902,1903,1904,1905,1906,1907,1908,1909,1910,1911,1912,1913,1914,1915,1916,1917,1918,1919,1920,1921,1922,1923,1924,1925,1926,1927,1928,1929,1930,1931,1932,1933,1934,1935,1936,1937,1938,1939,1940,1941,1942,1943,1944,1945,1946,1947,1948,1949,1950,1951,1952,1953,1954,1955,1956,1957,1958,1959,1960,1961,1962,1963,1964,1965,1966,1967,1968,1969,1970,1971,1972,1973,1974,1975,1976,1977,1978,1979,1980,1981,1982,1983,1984,1985,1986,1987,1988,1989,1990,1991,1992,1993,1994,1995,1996,1997,1998,1999,2000,2001,2002,2003,2004,2005,2006,2007,2008,2009,2010,2011,2012,2013,2014,2015,2016],\"y\":{\"__ndarray__\":\"AAAAAADgZMAAAAAAAEBowAAAAAAAYGPAAAAAAAAgYsAAAAAAAMBswAAAAAAAgG3AAAAAAAAgasAAAAAAAEBhwAAAAAAAwGTAAAAAAAAgYcAAAAAAAKBtwAAAAAAAQF3AAAAAAADga8AAAAAAACBnwAAAAAAAIHDAAAAAAACgasAAAAAAACBiwAAAAAAA4GjAAAAAAADAYcAAAAAAAKBmwAAAAAAAwFHAAAAAAADga8AAAAAAAIBpwAAAAAAAgFXAAAAAAACAV8AAAAAAAMBVwAAAAAAAwF3AAAAAAABgacAAAAAAAKBpwAAAAAAA4GbAAAAAAADAX8AAAAAAAABfwAAAAAAAQG7AAAAAAABAacAAAAAAAMBUwAAAAAAAwFbAAAAAAADAZsAAAAAAAEBTwAAAAAAAAGLAAAAAAAAAXcAAAAAAAABewAAAAAAAQFbAAAAAAAAgYsAAAAAAAMBmwAAAAAAA4GHAAAAAAAAgaMAAAAAAAKBmwAAAAAAAgGHAAAAAAAAAYsAAAAAAAMBiwAAAAAAAAFbAAAAAAAAAW8AAAAAAAEBdwAAAAAAAQFrAAAAAAACAX8AAAAAAAABFwAAAAAAAACLAAAAAAADAUsAAAAAAAMBWwAAAAAAAgFfAAAAAAAAAAAAAAAAAAMBTwAAAAAAAgFLAAAAAAAAARsAAAAAAAMBWwAAAAAAAAF3AAAAAAACAUsAAAAAAAIBPwAAAAAAAQFHAAAAAAAAAQ8AAAAAAAIBMwAAAAAAAAEHAAAAAAAAAXMAAAAAAAAAzwAAAAAAAgETAAAAAAAAAP8AAAAAAAABMwAAAAAAAgEnAAAAAAAAANkAAAAAAAABCwAAAAAAAABjAAAAAAACATcAAAAAAAIBHQAAAAAAAAENAAAAAAAAAEEAAAAAAAAAsQAAAAAAAAETAAAAAAAAAMcAAAAAAAABDQAAAAAAAADdAAAAAAACAQMAAAAAAAAAoQAAAAAAAAEhAAAAAAAAANkAAAAAAAAA9wAAAAAAAAElAAAAAAAAAP8AAAAAAAADwPwAAAAAAAEvAAAAAAACAQcAAAAAAAEBQQAAAAAAAgFVAAAAAAABAVUAAAAAAAIBFQAAAAAAAgFHAAAAAAABAVUAAAAAAAEBeQAAAAAAAgFBAAAAAAAAAPkAAAAAAAABTQAAAAAAAgEZAAAAAAACASEAAAAAAAEBSQAAAAAAAADBAAAAAAACATEAAAAAAAABGQAAAAAAAACjAAAAAAAAAAMAAAAAAAMBhQAAAAAAAQFdAAAAAAAAAMsAAAAAAAAAYQAAAAAAAwFRAAAAAAACAVEAAAAAAAGBmQAAAAAAAAE5AAAAAAAAAMEAAAAAAAMBXQAAAAAAAAEpAAAAAAAAAPsAAAAAAAEBaQAAAAAAAgFRAAAAAAAAATEAAAAAAAAAUwAAAAAAAAEtAAAAAAAAAQEAAAAAAAAAoQAAAAAAAgEhAAAAAAAAAX0AAAAAAAEBWQAAAAAAAoGRAAAAAAAAAOkAAAAAAAIBFQAAAAAAAgEhAAAAAAAAASEAAAAAAAABhQAAAAAAAQFpAAAAAAAAgZ0AAAAAAAMBTQAAAAAAAwFJAAAAAAACAREAAAAAAAOBiQAAAAAAAAGNAAAAAAAAAPcAAAAAAAEBSQAAAAAAAYGVAAAAAAADgZEAAAAAAAEBjQAAAAAAAAGFAAAAAAADAXkAAAAAAAMBfQAAAAAAAAGZAAAAAAAAgYEAAAAAAAMBgQAAAAAAAIGtAAAAAAACgZkAAAAAAAMBdQAAAAAAAAFlAAAAAAADgY0AAAAAAAIBgQAAAAAAAQFhAAAAAAACAYEAAAAAAACBrQAAAAAAAIGRA\",\"dtype\":\"float64\",\"shape\":[174]}}},\"id\":\"c9be7914-70b6-4fc6-9b59-8c7746b623b8\",\"type\":\"ColumnDataSource\"},{\"attributes\":{},\"id\":\"1f2a7c1f-304a-43de-8105-6fbffc634514\",\"type\":\"LinearScale\"},{\"attributes\":{\"fill_alpha\":{\"value\":0.1},\"fill_color\":{\"value\":\"#1f77b4\"},\"line_alpha\":{\"value\":0.1},\"line_color\":{\"value\":\"#1f77b4\"},\"x\":{\"field\":\"x\"},\"y\":{\"field\":\"y\"}},\"id\":\"a670f776-2875-4d78-b315-e716f129411f\",\"type\":\"Circle\"},{\"attributes\":{},\"id\":\"f73b2fa1-b25c-44f6-82e9-d6e3c244d28b\",\"type\":\"BasicTickFormatter\"},{\"attributes\":{\"callback\":null},\"id\":\"8bf5ebd3-1348-4848-afd0-2c3c4d71696f\",\"type\":\"DataRange1d\"},{\"attributes\":{\"fill_alpha\":{\"value\":0.5},\"fill_color\":{\"value\":\"#beaed4\"},\"line_alpha\":{\"value\":0.5},\"line_color\":{\"value\":\"#beaed4\"},\"x\":{\"field\":\"x\"},\"y\":{\"field\":\"y\"}},\"id\":\"68b02af0-e501-4e05-8ee5-ad666a15c219\",\"type\":\"Circle\"},{\"attributes\":{\"label\":{\"value\":\"DELFZIJL\"},\"renderers\":[{\"id\":\"8a2edfc5-05ef-4060-9059-a2d126ec191c\",\"type\":\"GlyphRenderer\"}]},\"id\":\"90ed039c-8858-4e2e-b137-5f8bc2bbb688\",\"type\":\"LegendItem\"},{\"attributes\":{\"callback\":null,\"column_names\":[\"x\",\"y\"],\"data\":{\"x\":[1890,1891,1892,1893,1894,1895,1896,1897,1898,1899,1900,1901,1902,1903,1904,1905,1906,1907,1908,1909,1910,1911,1912,1913,1914,1915,1916,1917,1918,1919,1920,1921,1922,1923,1924,1925,1926,1927,1928,1929,1930,1931,1932,1933,1934,1935,1936,1937,1938,1939,1940,1941,1942,1943,1944,1945,1946,1947,1948,1949,1950,1951,1952,1953,1954,1955,1956,1957,1958,1959,1960,1961,1962,1963,1964,1965,1966,1967,1968,1969,1970,1971,1972,1973,1974,1975,1976,1977,1978,1979,1980,1981,1982,1983,1984,1985,1986,1987,1988,1989,1990,1991,1992,1993,1994,1995,1996,1997,1998,1999,2000,2001,2002,2003,2004,2005,2006,2007,2008,2009,2010,2011,2012,2013,2014,2015,2016],\"y\":{\"__ndarray__\":\"AAAAAADQYsAAAAAAAIBgwAAAAAAAYGDAAAAAAADQV8AAAAAAAABbwAAAAAAA8F/AAAAAAADwX8AAAAAAAHBfwAAAAAAAgFHAAAAAAABwU8AAAAAAAMBdwAAAAAAA0GHAAAAAAABYZMAAAAAAAABLwAAAAAAA4FrAAAAAAAA4YMAAAAAAACBVwAAAAAAAgFzAAAAAAABAYMAAAAAAACBVwAAAAAAAAFLAAAAAAABgVcAAAAAAAMA8wAAAAAAAMFDAAAAAAACARsAAAAAAAJBYwAAAAAAAQEDAAAAAAADwU8AAAAAAAPBRwAAAAAAA0FbAAAAAAAAAVcAAAAAAAKBEwAAAAAAAgFPAAAAAAADgR8AAAAAAAJBUwAAAAAAAACXAAAAAAACAOsAAAAAAAMBGwAAAAAAAgD/AAAAAAACQVMAAAAAAACBJwAAAAAAAgDbAAAAAAACgQsAAAAAAALBWwAAAAAAAQFDAAAAAAACAMsAAAAAAAMA4wAAAAAAAYE3AAAAAAAAAAkAAAAAAALBSwAAAAAAAoEvAAAAAAABQWcAAAAAAALBTwAAAAAAAACnAAAAAAAAAAEAAAAAAAAAQQAAAAAAAwDbAAAAAAADgXMAAAAAAAIAhwAAAAAAAwDNAAAAAAAAAF8AAAAAAAEBAwAAAAAAAAOg/AAAAAABgQMAAAAAAAIApwAAAAAAAAAAAAAAAAACgS8AAAAAAAEA3wAAAAAAAQDLAAAAAAABgT8AAAAAAAIA/wAAAAAAAoE9AAAAAAAAAG0AAAAAAAGBPwAAAAAAAoEPAAAAAAABAMEAAAAAAAABBQAAAAAAAYFhAAAAAAACAIUAAAAAAAEAwwAAAAAAAYENAAAAAAACALMAAAAAAAABNwAAAAAAAADtAAAAAAACAM0AAAAAAAIAqwAAAAAAAwEfAAAAAAAAAKEAAAAAAAAAXwAAAAAAAAB3AAAAAAADAOUAAAAAAAOBSQAAAAAAAwEdAAAAAAABgWUAAAAAAAIAgQAAAAAAAADFAAAAAAAAAKEAAAAAAAADoPwAAAAAAwFZAAAAAAACgSEAAAAAAAABbQAAAAAAAAB/AAAAAAAAAPEAAAAAAAIAsQAAAAAAAAFNAAAAAAABwU0AAAAAAAPBQwAAAAAAAgCRAAAAAAACQWUAAAAAAAPBXQAAAAAAAcFZAAAAAAAAwVUAAAAAAAIBRQAAAAAAAAE5AAAAAAAAAWUAAAAAAAFBQQAAAAAAAIFFAAAAAAADAYEAAAAAAANBZQAAAAAAAYE1AAAAAAADgREAAAAAAAKBYQAAAAAAAMFRAAAAAAAAASEAAAAAAAFBWQAAAAAAA4GFAAAAAAACQWkA=\",\"dtype\":\"float64\",\"shape\":[127]}}},\"id\":\"04364a0d-6100-4836-983c-8b6d714226cf\",\"type\":\"ColumnDataSource\"},{\"attributes\":{\"label\":{\"value\":\"DEN HELDER\"},\"renderers\":[{\"id\":\"21595b04-16ab-48c8-9620-9df21e70d08f\",\"type\":\"GlyphRenderer\"}]},\"id\":\"851841c7-f862-4d3e-9310-8d4314609558\",\"type\":\"LegendItem\"},{\"attributes\":{\"active_drag\":\"auto\",\"active_inspect\":\"auto\",\"active_scroll\":\"auto\",\"active_tap\":\"auto\",\"tools\":[{\"id\":\"aa3f3a12-206d-4f1c-943a-1703a80e312e\",\"type\":\"PanTool\"},{\"id\":\"11959bec-cc06-4da8-9768-3010c0c722d7\",\"type\":\"WheelZoomTool\"},{\"id\":\"da391172-6c0d-4b25-a9b9-b081ec028f66\",\"type\":\"BoxZoomTool\"},{\"id\":\"dde912b7-7af6-4b4f-9e8a-733c3fe76ec7\",\"type\":\"SaveTool\"},{\"id\":\"01a4ecf2-5d03-4faf-a20d-85abf2a45c04\",\"type\":\"ResetTool\"},{\"id\":\"4b686276-8269-4996-9bcd-3a2ccf88da73\",\"type\":\"HelpTool\"}]},\"id\":\"b5d5cf27-2e54-4e7d-84ea-0fc8038c2d31\",\"type\":\"Toolbar\"},{\"attributes\":{\"line_alpha\":{\"value\":0.1},\"line_color\":{\"value\":\"#1f77b4\"},\"x\":{\"field\":\"x\"},\"y\":{\"field\":\"y\"}},\"id\":\"6b1e0d1d-8aa9-45fb-8760-0c53bcd430b0\",\"type\":\"Line\"},{\"attributes\":{},\"id\":\"d0485d6f-a2d4-41e4-a27f-50cb720dd04d\",\"type\":\"LinearScale\"},{\"attributes\":{\"data_source\":{\"id\":\"04364a0d-6100-4836-983c-8b6d714226cf\",\"type\":\"ColumnDataSource\"},\"glyph\":{\"id\":\"456798f0-afa7-4145-a501-8f7801a29f6f\",\"type\":\"Line\"},\"hover_glyph\":null,\"muted_glyph\":null,\"nonselection_glyph\":{\"id\":\"6b1e0d1d-8aa9-45fb-8760-0c53bcd430b0\",\"type\":\"Line\"},\"selection_glyph\":null,\"view\":{\"id\":\"e90ba392-2fe3-4838-b85d-5d82afaa80b9\",\"type\":\"CDSView\"}},\"id\":\"a79d586b-1a9b-4bbe-84d8-358b0ad6cba6\",\"type\":\"GlyphRenderer\"},{\"attributes\":{\"plot\":{\"id\":\"3bfa132b-731b-47e1-a773-a5eb89f91f45\",\"subtype\":\"Figure\",\"type\":\"Plot\"},\"ticker\":{\"id\":\"9f910ed3-3c6c-4ef8-908a-5d186b700dcd\",\"type\":\"BasicTicker\"}},\"id\":\"dfc768ba-4465-4942-a9a1-b74e48b1474d\",\"type\":\"Grid\"},{\"attributes\":{\"fill_alpha\":{\"value\":0.1},\"fill_color\":{\"value\":\"#1f77b4\"},\"line_alpha\":{\"value\":0.1},\"line_color\":{\"value\":\"#1f77b4\"},\"x\":{\"field\":\"x\"},\"y\":{\"field\":\"y\"}},\"id\":\"34586124-5b6e-437b-9ff3-d9b85dbae1b3\",\"type\":\"Circle\"},{\"attributes\":{},\"id\":\"01a4ecf2-5d03-4faf-a20d-85abf2a45c04\",\"type\":\"ResetTool\"},{\"attributes\":{\"axis_label\":\"year\",\"formatter\":{\"id\":\"f73b2fa1-b25c-44f6-82e9-d6e3c244d28b\",\"type\":\"BasicTickFormatter\"},\"plot\":{\"id\":\"3bfa132b-731b-47e1-a773-a5eb89f91f45\",\"subtype\":\"Figure\",\"type\":\"Plot\"},\"ticker\":{\"id\":\"9f910ed3-3c6c-4ef8-908a-5d186b700dcd\",\"type\":\"BasicTicker\"}},\"id\":\"cb044594-9e57-4d78-ab23-b2d813a7f82e\",\"type\":\"LinearAxis\"},{\"attributes\":{},\"id\":\"9f910ed3-3c6c-4ef8-908a-5d186b700dcd\",\"type\":\"BasicTicker\"},{\"attributes\":{\"source\":{\"id\":\"c9be7914-70b6-4fc6-9b59-8c7746b623b8\",\"type\":\"ColumnDataSource\"}},\"id\":\"38000517-ced3-40c6-885e-9dabbebe5c3b\",\"type\":\"CDSView\"},{\"attributes\":{},\"id\":\"4b686276-8269-4996-9bcd-3a2ccf88da73\",\"type\":\"HelpTool\"},{\"attributes\":{\"fill_alpha\":{\"value\":0.5},\"fill_color\":{\"value\":\"#7fc97f\"},\"line_alpha\":{\"value\":0.5},\"line_color\":{\"value\":\"#7fc97f\"},\"x\":{\"field\":\"x\"},\"y\":{\"field\":\"y\"}},\"id\":\"848376fe-fa9f-438a-a5e3-2bea583df03d\",\"type\":\"Circle\"},{\"attributes\":{\"source\":{\"id\":\"971d7bec-d5cb-4adb-86c3-4bd155d3d02a\",\"type\":\"ColumnDataSource\"}},\"id\":\"2217710b-8b60-4235-9561-aa4a3be1f60b\",\"type\":\"CDSView\"},{\"attributes\":{},\"id\":\"49ef4f1d-6987-4654-ba4e-b725e334584f\",\"type\":\"BasicTickFormatter\"},{\"attributes\":{\"data_source\":{\"id\":\"0e03ea30-2f9b-4637-a260-dde1bd49dcf1\",\"type\":\"ColumnDataSource\"},\"glyph\":{\"id\":\"848376fe-fa9f-438a-a5e3-2bea583df03d\",\"type\":\"Circle\"},\"hover_glyph\":null,\"muted_glyph\":null,\"nonselection_glyph\":{\"id\":\"7f44d73e-59a3-4c89-808b-6ed4006cc1c8\",\"type\":\"Circle\"},\"selection_glyph\":null,\"view\":{\"id\":\"510224a9-3cae-46f5-bff3-ddde076435bb\",\"type\":\"CDSView\"}},\"id\":\"21595b04-16ab-48c8-9620-9df21e70d08f\",\"type\":\"GlyphRenderer\"},{\"attributes\":{\"click_policy\":\"hide\",\"items\":[{\"id\":\"851841c7-f862-4d3e-9310-8d4314609558\",\"type\":\"LegendItem\"},{\"id\":\"90ed039c-8858-4e2e-b137-5f8bc2bbb688\",\"type\":\"LegendItem\"},{\"id\":\"b18a1cfb-b20d-4776-85a8-14b9b7a7d22d\",\"type\":\"LegendItem\"},{\"id\":\"748d9acd-c803-4366-8604-8bf5f5abb7f9\",\"type\":\"LegendItem\"},{\"id\":\"f8c2fc9f-bf16-430b-b596-88346cf4a9fd\",\"type\":\"LegendItem\"}],\"location\":\"bottom_right\",\"plot\":{\"id\":\"3bfa132b-731b-47e1-a773-a5eb89f91f45\",\"subtype\":\"Figure\",\"type\":\"Plot\"}},\"id\":\"2639df66-a1c5-4de2-80f1-3f0db91045cf\",\"type\":\"Legend\"},{\"attributes\":{\"fill_alpha\":{\"value\":0.1},\"fill_color\":{\"value\":\"#1f77b4\"},\"line_alpha\":{\"value\":0.1},\"line_color\":{\"value\":\"#1f77b4\"},\"x\":{\"field\":\"x\"},\"y\":{\"field\":\"y\"}},\"id\":\"7f44d73e-59a3-4c89-808b-6ed4006cc1c8\",\"type\":\"Circle\"}],\"root_ids\":[\"3bfa132b-731b-47e1-a773-a5eb89f91f45\"]},\"title\":\"Bokeh Application\",\"version\":\"0.12.10\"}};\n",
       "    var render_items = [{\"docid\":\"40a6445e-71ef-4026-b468-6b7978c409e5\",\"elementid\":\"7db025b2-ac93-463d-a8e7-908fe22c93e7\",\"modelid\":\"3bfa132b-731b-47e1-a773-a5eb89f91f45\"}];\n",
       "\n",
       "    root.Bokeh.embed.embed_items(docs_json, render_items);\n",
       "  }\n",
       "\n",
       "  if (root.Bokeh !== undefined) {\n",
       "    embed_document(root);\n",
       "  } else {\n",
       "    var attempts = 0;\n",
       "    var timer = setInterval(function(root) {\n",
       "      if (root.Bokeh !== undefined) {\n",
       "        embed_document(root);\n",
       "        clearInterval(timer);\n",
       "      }\n",
       "      attempts++;\n",
       "      if (attempts > 100) {\n",
       "        console.log(\"Bokeh: ERROR: Unable to embed document because BokehJS library is missing\")\n",
       "        clearInterval(timer);\n",
       "      }\n",
       "    }, 10, root)\n",
       "  }\n",
       "})(window);"
      ],
      "application/vnd.bokehjs_exec.v0+json": ""
     },
     "metadata": {
      "application/vnd.bokehjs_exec.v0+json": {
       "id": "3bfa132b-731b-47e1-a773-a5eb89f91f45"
      }
     },
     "output_type": "display_data"
    }
   ],
   "source": [
    "bokeh.io.show(timeseries_plot(default_dataset_name))"
   ]
  },
  {
   "cell_type": "code",
   "execution_count": 17,
   "metadata": {},
   "outputs": [
    {
     "data": {
      "text/html": [
       "\n",
       "<div class=\"bk-root\">\n",
       "    <div class=\"bk-plotdiv\" id=\"a0f7a439-11da-4b7a-9b3c-7c6caa81bbe8\"></div>\n",
       "</div>"
      ]
     },
     "metadata": {},
     "output_type": "display_data"
    },
    {
     "data": {
      "application/javascript": [
       "(function(root) {\n",
       "  function embed_document(root) {\n",
       "    var docs_json = {\"0bc8f707-b523-4b61-9c6b-a8f70f5f6e8a\":{\"roots\":{\"references\":[{\"attributes\":{},\"id\":\"85215d5d-5e3b-4eb6-96b0-ecb3bc9eb819\",\"type\":\"BasicTickFormatter\"},{\"attributes\":{\"click_policy\":\"hide\",\"items\":[{\"id\":\"73401679-eebc-479e-a1b3-a0e0a26a9e41\",\"type\":\"LegendItem\"},{\"id\":\"a28a9936-cf8b-491c-9046-40fff612d3b7\",\"type\":\"LegendItem\"},{\"id\":\"4b807e87-a052-413a-839e-cbbb8e3b9eb0\",\"type\":\"LegendItem\"},{\"id\":\"83cd30d8-44f3-4b37-8ff3-cd3153aa7750\",\"type\":\"LegendItem\"},{\"id\":\"551e6247-f65b-4fb7-b73c-912036d18866\",\"type\":\"LegendItem\"}],\"location\":\"bottom_right\",\"plot\":{\"id\":\"ffd4e1c4-0774-4146-b69d-425cc2776de2\",\"subtype\":\"Figure\",\"type\":\"Plot\"}},\"id\":\"f7bf0b3a-73db-4a0b-b1bf-2f6214b780cb\",\"type\":\"Legend\"},{\"attributes\":{\"line_alpha\":{\"value\":0.1},\"line_color\":{\"value\":\"#1f77b4\"},\"x\":{\"field\":\"x\"},\"y\":{\"field\":\"y\"}},\"id\":\"62bca082-ec6a-45db-a30b-afeca714c9fd\",\"type\":\"Line\"},{\"attributes\":{},\"id\":\"a426d76a-d499-45a6-80f4-c8504910b77e\",\"type\":\"PanTool\"},{\"attributes\":{},\"id\":\"fa4b3189-e0ff-47fa-bbe9-af9cdf91d83d\",\"type\":\"BasicTickFormatter\"},{\"attributes\":{\"plot\":{\"id\":\"ffd4e1c4-0774-4146-b69d-425cc2776de2\",\"subtype\":\"Figure\",\"type\":\"Plot\"},\"ticker\":{\"id\":\"0719b0aa-a551-4f7f-9abf-ffba0266c90f\",\"type\":\"BasicTicker\"}},\"id\":\"759651ef-25dc-4037-b59c-d36513596ff7\",\"type\":\"Grid\"},{\"attributes\":{\"label\":{\"value\":\"DEN HELDER\"},\"renderers\":[{\"id\":\"1c79c793-46f1-4043-8c52-d4793c94adf3\",\"type\":\"GlyphRenderer\"}]},\"id\":\"73401679-eebc-479e-a1b3-a0e0a26a9e41\",\"type\":\"LegendItem\"},{\"attributes\":{},\"id\":\"93b424a4-e5e6-4e20-83a2-64c8bd014a82\",\"type\":\"BasicTicker\"},{\"attributes\":{\"plot\":null,\"text\":\"Sea-surface height for Dutch tide gauges [1890 - 2016]\"},\"id\":\"66f37f2c-c93f-4e7c-95c9-fb9151fb8e4f\",\"type\":\"Title\"},{\"attributes\":{\"fill_alpha\":{\"value\":0.5},\"fill_color\":{\"value\":\"#beaed4\"},\"line_alpha\":{\"value\":0.5},\"line_color\":{\"value\":\"#beaed4\"},\"x\":{\"field\":\"x\"},\"y\":{\"field\":\"y\"}},\"id\":\"ec8e1bd1-b6b5-4f15-b855-7419bd60576f\",\"type\":\"Circle\"},{\"attributes\":{\"fill_alpha\":{\"value\":0.5},\"fill_color\":{\"value\":\"#fdc086\"},\"line_alpha\":{\"value\":0.5},\"line_color\":{\"value\":\"#fdc086\"},\"x\":{\"field\":\"x\"},\"y\":{\"field\":\"y\"}},\"id\":\"919c2112-632a-42b9-84dd-0262f6ea02ca\",\"type\":\"Circle\"},{\"attributes\":{\"overlay\":{\"id\":\"010b13a2-1886-44da-9c92-c62ac0b8d262\",\"type\":\"BoxAnnotation\"}},\"id\":\"73c1343d-e708-4ca6-a0c3-860ff6f7edfc\",\"type\":\"BoxZoomTool\"},{\"attributes\":{\"callback\":null,\"column_names\":[\"x\",\"y\"],\"data\":{\"x\":{\"__ndarray__\":\"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\",\"dtype\":\"float64\",\"shape\":[1824]},\"y\":{\"__ndarray__\":\"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\",\"dtype\":\"float64\",\"shape\":[1824]}}},\"id\":\"325a2f28-c01b-48ff-a529-aa223fb6369a\",\"type\":\"ColumnDataSource\"},{\"attributes\":{\"source\":{\"id\":\"325a2f28-c01b-48ff-a529-aa223fb6369a\",\"type\":\"ColumnDataSource\"}},\"id\":\"7c92c96f-e819-4419-9bae-193fdfec30f5\",\"type\":\"CDSView\"},{\"attributes\":{},\"id\":\"07af8b72-772c-4758-8532-a3e9e85d92eb\",\"type\":\"WheelZoomTool\"},{\"attributes\":{\"fill_alpha\":{\"value\":0.1},\"fill_color\":{\"value\":\"#1f77b4\"},\"line_alpha\":{\"value\":0.1},\"line_color\":{\"value\":\"#1f77b4\"},\"x\":{\"field\":\"x\"},\"y\":{\"field\":\"y\"}},\"id\":\"be2f7887-a51f-4107-99b3-91309e4f5797\",\"type\":\"Circle\"},{\"attributes\":{\"fill_alpha\":{\"value\":0.1},\"fill_color\":{\"value\":\"#1f77b4\"},\"line_alpha\":{\"value\":0.1},\"line_color\":{\"value\":\"#1f77b4\"},\"x\":{\"field\":\"x\"},\"y\":{\"field\":\"y\"}},\"id\":\"cb38f2b2-a38e-4486-aa7a-6a425a0a4d36\",\"type\":\"Circle\"},{\"attributes\":{\"bottom_units\":\"screen\",\"fill_alpha\":{\"value\":0.5},\"fill_color\":{\"value\":\"lightgrey\"},\"left_units\":\"screen\",\"level\":\"overlay\",\"line_alpha\":{\"value\":1.0},\"line_color\":{\"value\":\"black\"},\"line_dash\":[4,4],\"line_width\":{\"value\":2},\"plot\":null,\"render_mode\":\"css\",\"right_units\":\"screen\",\"top_units\":\"screen\"},\"id\":\"010b13a2-1886-44da-9c92-c62ac0b8d262\",\"type\":\"BoxAnnotation\"},{\"attributes\":{\"data_source\":{\"id\":\"325a2f28-c01b-48ff-a529-aa223fb6369a\",\"type\":\"ColumnDataSource\"},\"glyph\":{\"id\":\"ec8e1bd1-b6b5-4f15-b855-7419bd60576f\",\"type\":\"Circle\"},\"hover_glyph\":null,\"muted_glyph\":null,\"nonselection_glyph\":{\"id\":\"be2f7887-a51f-4107-99b3-91309e4f5797\",\"type\":\"Circle\"},\"selection_glyph\":null,\"view\":{\"id\":\"7c92c96f-e819-4419-9bae-193fdfec30f5\",\"type\":\"CDSView\"}},\"id\":\"1857ec88-6cd1-4be8-aa51-5ed5f25ba4fd\",\"type\":\"GlyphRenderer\"},{\"attributes\":{\"source\":{\"id\":\"7babb655-468d-4e18-9879-81330ab96758\",\"type\":\"ColumnDataSource\"}},\"id\":\"160e1c81-ea98-41f5-87ae-fd5cbdfe1de1\",\"type\":\"CDSView\"},{\"attributes\":{\"label\":{\"value\":\"DELFZIJL\"},\"renderers\":[{\"id\":\"1857ec88-6cd1-4be8-aa51-5ed5f25ba4fd\",\"type\":\"GlyphRenderer\"}]},\"id\":\"a28a9936-cf8b-491c-9046-40fff612d3b7\",\"type\":\"LegendItem\"},{\"attributes\":{\"callback\":null},\"id\":\"bcce8eeb-c503-45a5-a9a0-1d9539693caf\",\"type\":\"DataRange1d\"},{\"attributes\":{\"fill_alpha\":{\"value\":0.1},\"fill_color\":{\"value\":\"#1f77b4\"},\"line_alpha\":{\"value\":0.1},\"line_color\":{\"value\":\"#1f77b4\"},\"x\":{\"field\":\"x\"},\"y\":{\"field\":\"y\"}},\"id\":\"6415619a-a7c6-4101-a4f6-1ed0a825822c\",\"type\":\"Circle\"},{\"attributes\":{\"data_source\":{\"id\":\"7babb655-468d-4e18-9879-81330ab96758\",\"type\":\"ColumnDataSource\"},\"glyph\":{\"id\":\"daabc4b8-71bd-40cc-b0cb-ac82b96bc0e2\",\"type\":\"Circle\"},\"hover_glyph\":null,\"muted_glyph\":null,\"nonselection_glyph\":{\"id\":\"cb38f2b2-a38e-4486-aa7a-6a425a0a4d36\",\"type\":\"Circle\"},\"selection_glyph\":null,\"view\":{\"id\":\"160e1c81-ea98-41f5-87ae-fd5cbdfe1de1\",\"type\":\"CDSView\"}},\"id\":\"1c79c793-46f1-4043-8c52-d4793c94adf3\",\"type\":\"GlyphRenderer\"},{\"attributes\":{\"callback\":null,\"column_names\":[\"x\",\"y\"],\"data\":{\"x\":{\"__ndarray__\":\"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\",\"dtype\":\"float64\",\"shape\":[1824]},\"y\":{\"__ndarray__\":\"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\",\"dtype\":\"float64\",\"shape\":[1824]}}},\"id\":\"c3a58eff-ab3c-4b4a-b3c7-b276cbc10e73\",\"type\":\"ColumnDataSource\"},{\"attributes\":{\"fill_alpha\":{\"value\":0.5},\"fill_color\":{\"value\":\"#7fc97f\"},\"line_alpha\":{\"value\":0.5},\"line_color\":{\"value\":\"#7fc97f\"},\"x\":{\"field\":\"x\"},\"y\":{\"field\":\"y\"}},\"id\":\"daabc4b8-71bd-40cc-b0cb-ac82b96bc0e2\",\"type\":\"Circle\"},{\"attributes\":{\"source\":{\"id\":\"c3a58eff-ab3c-4b4a-b3c7-b276cbc10e73\",\"type\":\"ColumnDataSource\"}},\"id\":\"7692dcb2-3898-49ad-b294-a1b111c15e03\",\"type\":\"CDSView\"},{\"attributes\":{\"axis_label\":\"waterlevel [mm] above NAP\",\"formatter\":{\"id\":\"85215d5d-5e3b-4eb6-96b0-ecb3bc9eb819\",\"type\":\"BasicTickFormatter\"},\"plot\":{\"id\":\"ffd4e1c4-0774-4146-b69d-425cc2776de2\",\"subtype\":\"Figure\",\"type\":\"Plot\"},\"ticker\":{\"id\":\"93b424a4-e5e6-4e20-83a2-64c8bd014a82\",\"type\":\"BasicTicker\"}},\"id\":\"1ad0c495-f16e-4ff2-8764-cfd06efecb3d\",\"type\":\"LinearAxis\"},{\"attributes\":{\"fill_alpha\":{\"value\":0.5},\"fill_color\":{\"value\":\"#386cb0\"},\"line_alpha\":{\"value\":0.5},\"line_color\":{\"value\":\"#386cb0\"},\"x\":{\"field\":\"x\"},\"y\":{\"field\":\"y\"}},\"id\":\"5794291a-c57a-4d27-a123-7838c2da2277\",\"type\":\"Circle\"},{\"attributes\":{\"dimension\":1,\"plot\":{\"id\":\"ffd4e1c4-0774-4146-b69d-425cc2776de2\",\"subtype\":\"Figure\",\"type\":\"Plot\"},\"ticker\":{\"id\":\"93b424a4-e5e6-4e20-83a2-64c8bd014a82\",\"type\":\"BasicTicker\"}},\"id\":\"0e3a5e9f-15c7-4dde-b768-3bfdb7ee4d6f\",\"type\":\"Grid\"},{\"attributes\":{\"data_source\":{\"id\":\"c3a58eff-ab3c-4b4a-b3c7-b276cbc10e73\",\"type\":\"ColumnDataSource\"},\"glyph\":{\"id\":\"919c2112-632a-42b9-84dd-0262f6ea02ca\",\"type\":\"Circle\"},\"hover_glyph\":null,\"muted_glyph\":null,\"nonselection_glyph\":{\"id\":\"6415619a-a7c6-4101-a4f6-1ed0a825822c\",\"type\":\"Circle\"},\"selection_glyph\":null,\"view\":{\"id\":\"7692dcb2-3898-49ad-b294-a1b111c15e03\",\"type\":\"CDSView\"}},\"id\":\"101d2fa8-1eb0-416d-8d06-a08c973d6436\",\"type\":\"GlyphRenderer\"},{\"attributes\":{\"label\":{\"value\":\"HARLINGEN\"},\"renderers\":[{\"id\":\"101d2fa8-1eb0-416d-8d06-a08c973d6436\",\"type\":\"GlyphRenderer\"}]},\"id\":\"4b807e87-a052-413a-839e-cbbb8e3b9eb0\",\"type\":\"LegendItem\"},{\"attributes\":{\"line_alpha\":{\"value\":0.7},\"x\":{\"field\":\"x\"},\"y\":{\"field\":\"y\"}},\"id\":\"6fc3e84c-f659-4ac7-b07e-11ad3e064e1b\",\"type\":\"Line\"},{\"attributes\":{\"axis_label\":\"year\",\"formatter\":{\"id\":\"fa4b3189-e0ff-47fa-bbe9-af9cdf91d83d\",\"type\":\"BasicTickFormatter\"},\"plot\":{\"id\":\"ffd4e1c4-0774-4146-b69d-425cc2776de2\",\"subtype\":\"Figure\",\"type\":\"Plot\"},\"ticker\":{\"id\":\"0719b0aa-a551-4f7f-9abf-ffba0266c90f\",\"type\":\"BasicTicker\"}},\"id\":\"820dac2e-3cc2-41a8-9b73-30cede7eda03\",\"type\":\"LinearAxis\"},{\"attributes\":{},\"id\":\"1f2f040d-9c5a-4605-86b6-f4bc627f5fbb\",\"type\":\"ResetTool\"},{\"attributes\":{\"fill_alpha\":{\"value\":0.1},\"fill_color\":{\"value\":\"#1f77b4\"},\"line_alpha\":{\"value\":0.1},\"line_color\":{\"value\":\"#1f77b4\"},\"x\":{\"field\":\"x\"},\"y\":{\"field\":\"y\"}},\"id\":\"cbeb4147-e286-4d8e-8027-a529709e7725\",\"type\":\"Circle\"},{\"attributes\":{\"data_source\":{\"id\":\"80e73830-89ec-48f3-8e4e-f3adaddad287\",\"type\":\"ColumnDataSource\"},\"glyph\":{\"id\":\"6fc3e84c-f659-4ac7-b07e-11ad3e064e1b\",\"type\":\"Line\"},\"hover_glyph\":null,\"muted_glyph\":null,\"nonselection_glyph\":{\"id\":\"62bca082-ec6a-45db-a30b-afeca714c9fd\",\"type\":\"Line\"},\"selection_glyph\":null,\"view\":{\"id\":\"223329f1-32d7-4ddf-aa7b-6d6449039799\",\"type\":\"CDSView\"}},\"id\":\"c1052edd-17e4-4c96-8df2-7290c91fc64c\",\"type\":\"GlyphRenderer\"},{\"attributes\":{},\"id\":\"3cee22a2-ddd9-413a-b68e-21f9f426d1d0\",\"type\":\"SaveTool\"},{\"attributes\":{\"callback\":null,\"column_names\":[\"x\",\"y\"],\"data\":{\"x\":{\"__ndarray__\":\"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\",\"dtype\":\"float64\",\"shape\":[2088]},\"y\":{\"__ndarray__\":\"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\",\"dtype\":\"float64\",\"shape\":[2088]}}},\"id\":\"cd5f08d9-e564-4245-b160-2ef7e76aae70\",\"type\":\"ColumnDataSource\"},{\"attributes\":{\"source\":{\"id\":\"cd5f08d9-e564-4245-b160-2ef7e76aae70\",\"type\":\"ColumnDataSource\"}},\"id\":\"a6be3afe-4bd1-478c-8884-4fb078229760\",\"type\":\"CDSView\"},{\"attributes\":{\"label\":{\"value\":\"Mean\"},\"renderers\":[{\"id\":\"c1052edd-17e4-4c96-8df2-7290c91fc64c\",\"type\":\"GlyphRenderer\"}]},\"id\":\"551e6247-f65b-4fb7-b73c-912036d18866\",\"type\":\"LegendItem\"},{\"attributes\":{\"active_drag\":\"auto\",\"active_inspect\":\"auto\",\"active_scroll\":\"auto\",\"active_tap\":\"auto\",\"tools\":[{\"id\":\"a426d76a-d499-45a6-80f4-c8504910b77e\",\"type\":\"PanTool\"},{\"id\":\"07af8b72-772c-4758-8532-a3e9e85d92eb\",\"type\":\"WheelZoomTool\"},{\"id\":\"73c1343d-e708-4ca6-a0c3-860ff6f7edfc\",\"type\":\"BoxZoomTool\"},{\"id\":\"3cee22a2-ddd9-413a-b68e-21f9f426d1d0\",\"type\":\"SaveTool\"},{\"id\":\"1f2f040d-9c5a-4605-86b6-f4bc627f5fbb\",\"type\":\"ResetTool\"},{\"id\":\"09a55b2a-1b88-4fc3-bf72-fcde44db32f0\",\"type\":\"HelpTool\"}]},\"id\":\"50b36836-0e2f-44a0-8ebf-820211ab1bf7\",\"type\":\"Toolbar\"},{\"attributes\":{\"callback\":null,\"column_names\":[\"x\",\"y\"],\"data\":{\"x\":[1890,1891,1892,1893,1894,1895,1896,1897,1898,1899,1900,1901,1902,1903,1904,1905,1906,1907,1908,1909,1910,1911,1912,1913,1914,1915,1916,1917,1918,1919,1920,1921,1922,1923,1924,1925,1926,1927,1928,1929,1930,1931,1932,1933,1934,1935,1936,1937,1938,1939,1940,1941,1942,1943,1944,1945,1946,1947,1948,1949,1950,1951,1952,1953,1954,1955,1956,1957,1958,1959,1960,1961,1962,1963,1964,1965,1966,1967,1968,1969,1970,1971,1972,1973,1974,1975,1976,1977,1978,1979,1980,1981,1982,1983,1984,1985,1986,1987,1988,1989,1990,1991,1992,1993,1994,1995,1996,1997,1998,1999,2000,2001,2002,2003,2004,2005,2006,2007,2008,2009,2010,2011,2012,2013,2014,2015,2016],\"y\":{\"__ndarray__\":\"AAAAAADQYsAAAAAAAIBgwAAAAAAAYGDAAAAAAADQV8AAAAAAAABbwAAAAAAA8F/AAAAAAADwX8AAAAAAAHBfwAAAAAAAgFHAAAAAAABwU8AAAAAAAMBdwAAAAAAA0GHAAAAAAABYZMAAAAAAAABLwAAAAAAA4FrAAAAAAAA4YMAAAAAAACBVwAAAAAAAgFzAAAAAAABAYMAAAAAAACBVwAAAAAAAAFLAAAAAAABgVcAAAAAAAMA8wAAAAAAAMFDAAAAAAACARsAAAAAAAJBYwAAAAAAAQEDAAAAAAADwU8AAAAAAAPBRwAAAAAAA0FbAAAAAAAAAVcAAAAAAAKBEwAAAAAAAgFPAAAAAAADgR8AAAAAAAJBUwAAAAAAAACXAAAAAAACAOsAAAAAAAMBGwAAAAAAAgD/AAAAAAACQVMAAAAAAACBJwAAAAAAAgDbAAAAAAACgQsAAAAAAALBWwAAAAAAAQFDAAAAAAACAMsAAAAAAAMA4wAAAAAAAYE3AAAAAAAAAAkAAAAAAALBSwAAAAAAAoEvAAAAAAABQWcAAAAAAALBTwAAAAAAAACnAAAAAAAAAAEAAAAAAAAAQQAAAAAAAwDbAAAAAAADgXMAAAAAAAIAhwAAAAAAAwDNAAAAAAAAAF8AAAAAAAEBAwAAAAAAAAOg/AAAAAABgQMAAAAAAAIApwAAAAAAAAAAAAAAAAACgS8AAAAAAAEA3wAAAAAAAQDLAAAAAAABgT8AAAAAAAIA/wAAAAAAAoE9AAAAAAAAAG0AAAAAAAGBPwAAAAAAAoEPAAAAAAABAMEAAAAAAAABBQAAAAAAAYFhAAAAAAACAIUAAAAAAAEAwwAAAAAAAYENAAAAAAACALMAAAAAAAABNwAAAAAAAADtAAAAAAACAM0AAAAAAAIAqwAAAAAAAwEfAAAAAAAAAKEAAAAAAAAAXwAAAAAAAAB3AAAAAAADAOUAAAAAAAOBSQAAAAAAAwEdAAAAAAABgWUAAAAAAAIAgQAAAAAAAADFAAAAAAAAAKEAAAAAAAADoPwAAAAAAwFZAAAAAAACgSEAAAAAAAABbQAAAAAAAAB/AAAAAAAAAPEAAAAAAAIAsQAAAAAAAAFNAAAAAAABwU0AAAAAAAPBQwAAAAAAAgCRAAAAAAACQWUAAAAAAAPBXQAAAAAAAcFZAAAAAAAAwVUAAAAAAAIBRQAAAAAAAAE5AAAAAAAAAWUAAAAAAAFBQQAAAAAAAIFFAAAAAAADAYEAAAAAAANBZQAAAAAAAYE1AAAAAAADgREAAAAAAAKBYQAAAAAAAMFRAAAAAAAAASEAAAAAAAFBWQAAAAAAA4GFAAAAAAACQWkA=\",\"dtype\":\"float64\",\"shape\":[127]}}},\"id\":\"80e73830-89ec-48f3-8e4e-f3adaddad287\",\"type\":\"ColumnDataSource\"},{\"attributes\":{\"data_source\":{\"id\":\"cd5f08d9-e564-4245-b160-2ef7e76aae70\",\"type\":\"ColumnDataSource\"},\"glyph\":{\"id\":\"5794291a-c57a-4d27-a123-7838c2da2277\",\"type\":\"Circle\"},\"hover_glyph\":null,\"muted_glyph\":null,\"nonselection_glyph\":{\"id\":\"cbeb4147-e286-4d8e-8027-a529709e7725\",\"type\":\"Circle\"},\"selection_glyph\":null,\"view\":{\"id\":\"a6be3afe-4bd1-478c-8884-4fb078229760\",\"type\":\"CDSView\"}},\"id\":\"b29bdede-697c-4874-9dc3-5d32197e234e\",\"type\":\"GlyphRenderer\"},{\"attributes\":{\"callback\":null,\"column_names\":[\"x\",\"y\"],\"data\":{\"x\":{\"__ndarray__\":\"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\",\"dtype\":\"float64\",\"shape\":[1824]},\"y\":{\"__ndarray__\":\"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\",\"dtype\":\"float64\",\"shape\":[1824]}}},\"id\":\"7babb655-468d-4e18-9879-81330ab96758\",\"type\":\"ColumnDataSource\"},{\"attributes\":{\"callback\":null,\"end\":2020,\"start\":1860},\"id\":\"7d5274b1-76ec-4b52-b150-69a070dc8cfa\",\"type\":\"Range1d\"},{\"attributes\":{},\"id\":\"0719b0aa-a551-4f7f-9abf-ffba0266c90f\",\"type\":\"BasicTicker\"},{\"attributes\":{\"label\":{\"value\":\"CUXHAVEN 2\"},\"renderers\":[{\"id\":\"b29bdede-697c-4874-9dc3-5d32197e234e\",\"type\":\"GlyphRenderer\"}]},\"id\":\"83cd30d8-44f3-4b37-8ff3-cd3153aa7750\",\"type\":\"LegendItem\"},{\"attributes\":{},\"id\":\"8ead8970-2143-4592-a0b7-0ea6ab5fb0ce\",\"type\":\"LinearScale\"},{\"attributes\":{},\"id\":\"09a55b2a-1b88-4fc3-bf72-fcde44db32f0\",\"type\":\"HelpTool\"},{\"attributes\":{},\"id\":\"5732aa78-fa50-44aa-b0dc-40dbe351505f\",\"type\":\"LinearScale\"},{\"attributes\":{\"source\":{\"id\":\"80e73830-89ec-48f3-8e4e-f3adaddad287\",\"type\":\"ColumnDataSource\"}},\"id\":\"223329f1-32d7-4ddf-aa7b-6d6449039799\",\"type\":\"CDSView\"},{\"attributes\":{\"below\":[{\"id\":\"820dac2e-3cc2-41a8-9b73-30cede7eda03\",\"type\":\"LinearAxis\"}],\"left\":[{\"id\":\"1ad0c495-f16e-4ff2-8764-cfd06efecb3d\",\"type\":\"LinearAxis\"}],\"plot_height\":400,\"plot_width\":900,\"renderers\":[{\"id\":\"820dac2e-3cc2-41a8-9b73-30cede7eda03\",\"type\":\"LinearAxis\"},{\"id\":\"759651ef-25dc-4037-b59c-d36513596ff7\",\"type\":\"Grid\"},{\"id\":\"1ad0c495-f16e-4ff2-8764-cfd06efecb3d\",\"type\":\"LinearAxis\"},{\"id\":\"0e3a5e9f-15c7-4dde-b768-3bfdb7ee4d6f\",\"type\":\"Grid\"},{\"id\":\"010b13a2-1886-44da-9c92-c62ac0b8d262\",\"type\":\"BoxAnnotation\"},{\"id\":\"f7bf0b3a-73db-4a0b-b1bf-2f6214b780cb\",\"type\":\"Legend\"},{\"id\":\"1c79c793-46f1-4043-8c52-d4793c94adf3\",\"type\":\"GlyphRenderer\"},{\"id\":\"1857ec88-6cd1-4be8-aa51-5ed5f25ba4fd\",\"type\":\"GlyphRenderer\"},{\"id\":\"101d2fa8-1eb0-416d-8d06-a08c973d6436\",\"type\":\"GlyphRenderer\"},{\"id\":\"b29bdede-697c-4874-9dc3-5d32197e234e\",\"type\":\"GlyphRenderer\"},{\"id\":\"c1052edd-17e4-4c96-8df2-7290c91fc64c\",\"type\":\"GlyphRenderer\"}],\"title\":{\"id\":\"66f37f2c-c93f-4e7c-95c9-fb9151fb8e4f\",\"type\":\"Title\"},\"toolbar\":{\"id\":\"50b36836-0e2f-44a0-8ebf-820211ab1bf7\",\"type\":\"Toolbar\"},\"x_range\":{\"id\":\"7d5274b1-76ec-4b52-b150-69a070dc8cfa\",\"type\":\"Range1d\"},\"x_scale\":{\"id\":\"8ead8970-2143-4592-a0b7-0ea6ab5fb0ce\",\"type\":\"LinearScale\"},\"y_range\":{\"id\":\"bcce8eeb-c503-45a5-a9a0-1d9539693caf\",\"type\":\"DataRange1d\"},\"y_scale\":{\"id\":\"5732aa78-fa50-44aa-b0dc-40dbe351505f\",\"type\":\"LinearScale\"}},\"id\":\"ffd4e1c4-0774-4146-b69d-425cc2776de2\",\"subtype\":\"Figure\",\"type\":\"Plot\"}],\"root_ids\":[\"ffd4e1c4-0774-4146-b69d-425cc2776de2\"]},\"title\":\"Bokeh Application\",\"version\":\"0.12.10\"}};\n",
       "    var render_items = [{\"docid\":\"0bc8f707-b523-4b61-9c6b-a8f70f5f6e8a\",\"elementid\":\"a0f7a439-11da-4b7a-9b3c-7c6caa81bbe8\",\"modelid\":\"ffd4e1c4-0774-4146-b69d-425cc2776de2\"}];\n",
       "\n",
       "    root.Bokeh.embed.embed_items(docs_json, render_items);\n",
       "  }\n",
       "\n",
       "  if (root.Bokeh !== undefined) {\n",
       "    embed_document(root);\n",
       "  } else {\n",
       "    var attempts = 0;\n",
       "    var timer = setInterval(function(root) {\n",
       "      if (root.Bokeh !== undefined) {\n",
       "        embed_document(root);\n",
       "        clearInterval(timer);\n",
       "      }\n",
       "      attempts++;\n",
       "      if (attempts > 100) {\n",
       "        console.log(\"Bokeh: ERROR: Unable to embed document because BokehJS library is missing\")\n",
       "        clearInterval(timer);\n",
       "      }\n",
       "    }, 10, root)\n",
       "  }\n",
       "})(window);"
      ],
      "application/vnd.bokehjs_exec.v0+json": ""
     },
     "metadata": {
      "application/vnd.bokehjs_exec.v0+json": {
       "id": "ffd4e1c4-0774-4146-b69d-425cc2776de2"
      }
     },
     "output_type": "display_data"
    }
   ],
   "source": [
    "bokeh.io.show(timeseries_plot('rlr_monthly'))"
   ]
  },
  {
   "cell_type": "markdown",
   "metadata": {},
   "source": [
    "Methods\n",
    "=====\n",
    "Now we can define the statistical model. The \"current sea-level rise\" is defined by the following formula. Please note that the selected epoch of 1970 is arbitrary. This model is referred to as `linear_model` in the code. \n",
    "$\n",
    "H(t) = a + b_{trend}(t-1970) + b_u\\cos(2\\pi\\frac{t - 1970}{18.613}) + b_v\\sin(2\\pi\\frac{t - 1970}{18.613}) + e(t - 1970)\n",
    "$\n",
    "\n",
    "The terms are refered to as Constant ($a$), Trend ($b_{trend}$), Nodal U ($b_u$) and Nodal V ($b_v$) and error $e$. \n",
    "\n",
    "\n",
    "Alternative models are used to detect if sea-level rise is increasing. These models include the broken linear model, defined by a possible change in trend starting at 1993. This timespan is the start of the \"satellite era\" (start of TOPEX/Poseidon measurements), it is also often referred to as the start of acceleration because the satellite measurements tend to show a higher rate of sea level than the \"tide-gauge era\" (1900-2000). If this model fits better than the linear model, one could say that there is a \"increase in sea-level rise\".  This model is refered to as `broken_linear_model`. These models are covered in the section [Sea-level acceleration](#Is-there-a-sea-level-acceleration?).\n",
    "\n",
    "$\n",
    "H(t) = a + b_{trend}(t-1970) + b_{broken}(t > 1993)*(t-1993) + b_{u}\\cos(2\\pi\\frac{t - 1970}{18.613}) + b_{v}\\sin(2\\pi\\frac{t - 1970}{18.613}) + e(t - 1970)\n",
    "$\n",
    "\n",
    "Another way to look at increased sea-level rise is to look at sea-level acceleration. To detect sea-level acceleration one can use a quadratic model. This model is referred to as `quadratic_model`. \n",
    "\n",
    "$\n",
    "H(t) = a + b_{trend}(t-1970) + b_{quadratic}(t - 1970)*(t-1970) + b_{u}\\cos(2\\pi\\frac{t - 1970}{18.613}) + b_{v}\\sin(2\\pi\\frac{t - 1970}{18.613}) + e(t - 1970)\n",
    "$\n",
    "\n"
   ]
  },
  {
   "cell_type": "code",
   "execution_count": 18,
   "metadata": {},
   "outputs": [],
   "source": [
    "# define the statistical model\n",
    "def linear_model(df, with_season=True):\n",
    "    y = df['height']\n",
    "    X = np.c_[\n",
    "        df['year']-1970, \n",
    "        np.cos(2*np.pi*(df['year']-1970)/18.613),\n",
    "        np.sin(2*np.pi*(df['year']-1970)/18.613)\n",
    "    ]\n",
    "    month = np.mod(df['year'], 1) * 12.0\n",
    "    names = ['Constant', 'Trend', 'Nodal U', 'Nodal V']\n",
    "    if with_season:\n",
    "        for i in range(11):\n",
    "            X = np.c_[\n",
    "                X,\n",
    "                np.logical_and(month >= i, month < i+1)\n",
    "            ]\n",
    "            names.append('month_%s' % (i+1, ))\n",
    "    X = sm.add_constant(X)\n",
    "    model = sm.OLS(y, X, missing='drop')\n",
    "    fit = model.fit()\n",
    "    return fit, names"
   ]
  },
  {
   "cell_type": "markdown",
   "metadata": {},
   "source": [
    "We can analyse the model.\n",
    "Things to check for include: \n",
    "- Durbin Watson should be >1 for no worries, >2 for no autocorrelation\n",
    "- JB should be non-significant for normal residuals\n",
    "- abs(x2.t) + abs(x3.t) should be > 3, otherwise adding nodal is not useful\n",
    "- The model with wind should also be significant better, check F value difference with 2 and N-5 degrees of freedom. "
   ]
  },
  {
   "cell_type": "code",
   "execution_count": 19,
   "metadata": {},
   "outputs": [
    {
     "data": {
      "text/html": [
       "<table class=\"simpletable\">\n",
       "<caption>Linear model without wind (1890-current)</caption>\n",
       "<tr>\n",
       "  <th>Dep. Variable:</th>    <td>Sea-surface height</td> <th>  R-squared:         </th> <td>   0.767</td>\n",
       "</tr>\n",
       "<tr>\n",
       "  <th>Model:</th>                    <td>OLS</td>        <th>  Adj. R-squared:    </th> <td>   0.762</td>\n",
       "</tr>\n",
       "<tr>\n",
       "  <th>Method:</th>              <td>Least Squares</td>   <th>  F-statistic:       </th> <td>   135.3</td>\n",
       "</tr>\n",
       "<tr>\n",
       "  <th>Date:</th>              <td>Thu, 21 Jun 2018</td>  <th>  Prob (F-statistic):</th> <td>8.48e-39</td>\n",
       "</tr>\n",
       "<tr>\n",
       "  <th>Time:</th>                  <td>16:33:56</td>      <th>  Log-Likelihood:    </th> <td> -628.52</td>\n",
       "</tr>\n",
       "<tr>\n",
       "  <th>No. Observations:</th>       <td>   127</td>       <th>  AIC:               </th> <td>   1265.</td>\n",
       "</tr>\n",
       "<tr>\n",
       "  <th>Df Residuals:</th>           <td>   123</td>       <th>  BIC:               </th> <td>   1276.</td>\n",
       "</tr>\n",
       "<tr>\n",
       "  <th>Df Model:</th>               <td>     3</td>       <th>                     </th>     <td> </td>   \n",
       "</tr>\n",
       "<tr>\n",
       "  <th>Covariance Type:</th>       <td>nonrobust</td>     <th>                     </th>     <td> </td>   \n",
       "</tr>\n",
       "</table>\n",
       "<table class=\"simpletable\">\n",
       "<tr>\n",
       "      <td></td>        <th>coef</th>     <th>std err</th>      <th>t</th>      <th>P>|t|</th>  <th>[0.025</th>    <th>0.975]</th>  \n",
       "</tr>\n",
       "<tr>\n",
       "  <th>Constant</th> <td>   11.6493</td> <td>    3.396</td> <td>    3.430</td> <td> 0.001</td> <td>    4.927</td> <td>   18.372</td>\n",
       "</tr>\n",
       "<tr>\n",
       "  <th>Trend</th>    <td>    1.6986</td> <td>    0.084</td> <td>   20.138</td> <td> 0.000</td> <td>    1.532</td> <td>    1.866</td>\n",
       "</tr>\n",
       "<tr>\n",
       "  <th>Nodal U</th>  <td>    5.3595</td> <td>    4.381</td> <td>    1.223</td> <td> 0.224</td> <td>   -3.313</td> <td>   14.032</td>\n",
       "</tr>\n",
       "<tr>\n",
       "  <th>Nodal V</th>  <td>  -10.2135</td> <td>    4.347</td> <td>   -2.349</td> <td> 0.020</td> <td>  -18.818</td> <td>   -1.609</td>\n",
       "</tr>\n",
       "</table>\n",
       "<table class=\"simpletable\">\n",
       "<tr>\n",
       "  <th>Omnibus:</th>       <td> 2.644</td> <th>  Durbin-Watson:     </th> <td>   1.855</td>\n",
       "</tr>\n",
       "<tr>\n",
       "  <th>Prob(Omnibus):</th> <td> 0.267</td> <th>  Jarque-Bera (JB):  </th> <td>   2.099</td>\n",
       "</tr>\n",
       "<tr>\n",
       "  <th>Skew:</th>          <td>-0.264</td> <th>  Prob(JB):          </th> <td>   0.350</td>\n",
       "</tr>\n",
       "<tr>\n",
       "  <th>Kurtosis:</th>      <td> 3.343</td> <th>  Cond. No.          </th> <td>    57.9</td>\n",
       "</tr>\n",
       "</table>"
      ],
      "text/plain": [
       "<class 'statsmodels.iolib.summary.Summary'>\n",
       "\"\"\"\n",
       "                   Linear model without wind (1890-current)                   \n",
       "==============================================================================\n",
       "Dep. Variable:     Sea-surface height   R-squared:                       0.767\n",
       "Model:                            OLS   Adj. R-squared:                  0.762\n",
       "Method:                 Least Squares   F-statistic:                     135.3\n",
       "Date:                Thu, 21 Jun 2018   Prob (F-statistic):           8.48e-39\n",
       "Time:                        16:33:56   Log-Likelihood:                -628.52\n",
       "No. Observations:                 127   AIC:                             1265.\n",
       "Df Residuals:                     123   BIC:                             1276.\n",
       "Df Model:                           3                                         \n",
       "Covariance Type:            nonrobust                                         \n",
       "==============================================================================\n",
       "                 coef    std err          t      P>|t|      [0.025      0.975]\n",
       "------------------------------------------------------------------------------\n",
       "Constant      11.6493      3.396      3.430      0.001       4.927      18.372\n",
       "Trend          1.6986      0.084     20.138      0.000       1.532       1.866\n",
       "Nodal U        5.3595      4.381      1.223      0.224      -3.313      14.032\n",
       "Nodal V      -10.2135      4.347     -2.349      0.020     -18.818      -1.609\n",
       "==============================================================================\n",
       "Omnibus:                        2.644   Durbin-Watson:                   1.855\n",
       "Prob(Omnibus):                  0.267   Jarque-Bera (JB):                2.099\n",
       "Skew:                          -0.264   Prob(JB):                        0.350\n",
       "Kurtosis:                       3.343   Cond. No.                         57.9\n",
       "==============================================================================\n",
       "\n",
       "Warnings:\n",
       "[1] Standard Errors assume that the covariance matrix of the errors is correctly specified.\n",
       "\"\"\""
      ]
     },
     "metadata": {},
     "output_type": "display_data"
    }
   ],
   "source": [
    "# first the model without wind\n",
    "linear_fit, names = linear_model(mean_df, with_season=False)\n",
    "table = linear_fit.summary(yname='Sea-surface height', xname=names, title='Linear model without wind (1890-current)')\n",
    "IPython.display.display(table)\n"
   ]
  },
  {
   "cell_type": "code",
   "execution_count": 20,
   "metadata": {},
   "outputs": [
    {
     "data": {
      "text/html": [
       "\n",
       "<div class=\"bk-root\">\n",
       "    <div class=\"bk-plotdiv\" id=\"8a711b28-e0b8-4720-a556-7d0e63403492\"></div>\n",
       "</div>"
      ]
     },
     "metadata": {},
     "output_type": "display_data"
    },
    {
     "data": {
      "application/javascript": [
       "(function(root) {\n",
       "  function embed_document(root) {\n",
       "    var docs_json = {\"14fe02bd-33c3-4e13-a703-50fd72be3260\":{\"roots\":{\"references\":[{\"attributes\":{\"data_source\":{\"id\":\"14c0c3f8-f2f5-4b6e-acfb-30fade667df2\",\"type\":\"ColumnDataSource\"},\"glyph\":{\"id\":\"e3c11e83-5213-4cdf-8831-9282b472c091\",\"type\":\"Line\"},\"hover_glyph\":null,\"muted_glyph\":null,\"nonselection_glyph\":{\"id\":\"366bf7b6-3887-4079-bd93-d36ac2bc2677\",\"type\":\"Line\"},\"selection_glyph\":null,\"view\":{\"id\":\"e817f8a2-9cfd-407f-9459-3fb7d50b65ae\",\"type\":\"CDSView\"}},\"id\":\"6cea7615-0793-4bfe-b60e-d5c27d571d93\",\"type\":\"GlyphRenderer\"},{\"attributes\":{\"source\":{\"id\":\"14c0c3f8-f2f5-4b6e-acfb-30fade667df2\",\"type\":\"ColumnDataSource\"}},\"id\":\"e817f8a2-9cfd-407f-9459-3fb7d50b65ae\",\"type\":\"CDSView\"},{\"attributes\":{},\"id\":\"08ce4bf5-3303-4b95-a026-38ccec5873fc\",\"type\":\"BasicTickFormatter\"},{\"attributes\":{\"label\":{\"value\":\"Current sea level\"},\"renderers\":[{\"id\":\"6cea7615-0793-4bfe-b60e-d5c27d571d93\",\"type\":\"GlyphRenderer\"}]},\"id\":\"e8049c43-a51d-4f6c-83c3-5d104d7b17d8\",\"type\":\"LegendItem\"},{\"attributes\":{\"callback\":null,\"column_names\":[\"x\",\"y\"],\"data\":{\"x\":[1890,1891,1892,1893,1894,1895,1896,1897,1898,1899,1900,1901,1902,1903,1904,1905,1906,1907,1908,1909,1910,1911,1912,1913,1914,1915,1916,1917,1918,1919,1920,1921,1922,1923,1924,1925,1926,1927,1928,1929,1930,1931,1932,1933,1934,1935,1936,1937,1938,1939,1940,1941,1942,1943,1944,1945,1946,1947,1948,1949,1950,1951,1952,1953,1954,1955,1956,1957,1958,1959,1960,1961,1962,1963,1964,1965,1966,1967,1968,1969,1970,1971,1972,1973,1974,1975,1976,1977,1978,1979,1980,1981,1982,1983,1984,1985,1986,1987,1988,1989,1990,1991,1992,1993,1994,1995,1996,1997,1998,1999,2000,2001,2002,2003,2004,2005,2006,2007,2008,2009,2010,2011,2012,2013,2014,2015,2016],\"y\":{\"__ndarray__\":\"AAAAAADQYsAAAAAAAIBgwAAAAAAAYGDAAAAAAADQV8AAAAAAAABbwAAAAAAA8F/AAAAAAADwX8AAAAAAAHBfwAAAAAAAgFHAAAAAAABwU8AAAAAAAMBdwAAAAAAA0GHAAAAAAABYZMAAAAAAAABLwAAAAAAA4FrAAAAAAAA4YMAAAAAAACBVwAAAAAAAgFzAAAAAAABAYMAAAAAAACBVwAAAAAAAAFLAAAAAAABgVcAAAAAAAMA8wAAAAAAAMFDAAAAAAACARsAAAAAAAJBYwAAAAAAAQEDAAAAAAADwU8AAAAAAAPBRwAAAAAAA0FbAAAAAAAAAVcAAAAAAAKBEwAAAAAAAgFPAAAAAAADgR8AAAAAAAJBUwAAAAAAAACXAAAAAAACAOsAAAAAAAMBGwAAAAAAAgD/AAAAAAACQVMAAAAAAACBJwAAAAAAAgDbAAAAAAACgQsAAAAAAALBWwAAAAAAAQFDAAAAAAACAMsAAAAAAAMA4wAAAAAAAYE3AAAAAAAAAAkAAAAAAALBSwAAAAAAAoEvAAAAAAABQWcAAAAAAALBTwAAAAAAAACnAAAAAAAAAAEAAAAAAAAAQQAAAAAAAwDbAAAAAAADgXMAAAAAAAIAhwAAAAAAAwDNAAAAAAAAAF8AAAAAAAEBAwAAAAAAAAOg/AAAAAABgQMAAAAAAAIApwAAAAAAAAAAAAAAAAACgS8AAAAAAAEA3wAAAAAAAQDLAAAAAAABgT8AAAAAAAIA/wAAAAAAAoE9AAAAAAAAAG0AAAAAAAGBPwAAAAAAAoEPAAAAAAABAMEAAAAAAAABBQAAAAAAAYFhAAAAAAACAIUAAAAAAAEAwwAAAAAAAYENAAAAAAACALMAAAAAAAABNwAAAAAAAADtAAAAAAACAM0AAAAAAAIAqwAAAAAAAwEfAAAAAAAAAKEAAAAAAAAAXwAAAAAAAAB3AAAAAAADAOUAAAAAAAOBSQAAAAAAAwEdAAAAAAABgWUAAAAAAAIAgQAAAAAAAADFAAAAAAAAAKEAAAAAAAADoPwAAAAAAwFZAAAAAAACgSEAAAAAAAABbQAAAAAAAAB/AAAAAAAAAPEAAAAAAAIAsQAAAAAAAAFNAAAAAAABwU0AAAAAAAPBQwAAAAAAAgCRAAAAAAACQWUAAAAAAAPBXQAAAAAAAcFZAAAAAAAAwVUAAAAAAAIBRQAAAAAAAAE5AAAAAAAAAWUAAAAAAAFBQQAAAAAAAIFFAAAAAAADAYEAAAAAAANBZQAAAAAAAYE1AAAAAAADgREAAAAAAAKBYQAAAAAAAMFRAAAAAAAAASEAAAAAAAFBWQAAAAAAA4GFAAAAAAACQWkA=\",\"dtype\":\"float64\",\"shape\":[127]}}},\"id\":\"90c9f635-1c69-43c1-a4ff-e0d0d00a780b\",\"type\":\"ColumnDataSource\"},{\"attributes\":{\"below\":[{\"id\":\"f6b64f39-3981-4ccd-aac4-56ad8cebc4cd\",\"type\":\"LinearAxis\"}],\"left\":[{\"id\":\"6b84778f-65ed-435c-8868-f315a3bbcaad\",\"type\":\"LinearAxis\"}],\"plot_height\":400,\"plot_width\":900,\"renderers\":[{\"id\":\"f6b64f39-3981-4ccd-aac4-56ad8cebc4cd\",\"type\":\"LinearAxis\"},{\"id\":\"628fe543-2ee7-4b52-8f87-db044dee0fbb\",\"type\":\"Grid\"},{\"id\":\"6b84778f-65ed-435c-8868-f315a3bbcaad\",\"type\":\"LinearAxis\"},{\"id\":\"583404fa-1a79-4482-8b0d-1919503cd6f3\",\"type\":\"Grid\"},{\"id\":\"53730f38-dedc-4e7b-9f9d-29a092ab2cb7\",\"type\":\"BoxAnnotation\"},{\"id\":\"f14ce940-14ad-42be-840a-a7adac161649\",\"type\":\"Legend\"},{\"id\":\"7d73cb5c-5408-430e-9d53-9601326c4611\",\"type\":\"GlyphRenderer\"},{\"id\":\"6cea7615-0793-4bfe-b60e-d5c27d571d93\",\"type\":\"GlyphRenderer\"}],\"title\":{\"id\":\"8b7b488d-3131-4e0a-83e0-095b4d89ddf4\",\"type\":\"Title\"},\"toolbar\":{\"id\":\"280560b3-7610-4b43-8db0-7f02ae6e596a\",\"type\":\"Toolbar\"},\"x_range\":{\"id\":\"be912445-b8ef-479c-b3f1-9f3536aa029b\",\"type\":\"Range1d\"},\"x_scale\":{\"id\":\"b24f5b28-6d80-42fb-be97-cce953caadc2\",\"type\":\"LinearScale\"},\"y_range\":{\"id\":\"0d2e3793-cc46-4a83-a632-bcf0504ef08e\",\"type\":\"DataRange1d\"},\"y_scale\":{\"id\":\"fc6fc149-dda4-4f86-9a60-a40740a29ff6\",\"type\":\"LinearScale\"}},\"id\":\"3cb198d5-faed-48b4-bf49-e24e4f9cab7e\",\"subtype\":\"Figure\",\"type\":\"Plot\"},{\"attributes\":{\"active_drag\":\"auto\",\"active_inspect\":\"auto\",\"active_scroll\":\"auto\",\"active_tap\":\"auto\",\"tools\":[{\"id\":\"b4f19657-9c9b-4d2f-96b6-2ebbe705708e\",\"type\":\"PanTool\"},{\"id\":\"f2bdc980-3164-4112-8c27-98cc39e827c7\",\"type\":\"WheelZoomTool\"},{\"id\":\"12762af8-293e-4288-bc36-a28aa9cd8a4b\",\"type\":\"BoxZoomTool\"},{\"id\":\"0f83a1ef-d328-4461-a3ff-a36b02b24e21\",\"type\":\"SaveTool\"},{\"id\":\"6d22b6af-06f8-45e7-b5a9-9a04c29436d3\",\"type\":\"ResetTool\"},{\"id\":\"bc528089-f0a3-4095-8362-cf2f39bd9b29\",\"type\":\"HelpTool\"}]},\"id\":\"280560b3-7610-4b43-8db0-7f02ae6e596a\",\"type\":\"Toolbar\"},{\"attributes\":{\"callback\":null,\"end\":2020,\"start\":1860},\"id\":\"be912445-b8ef-479c-b3f1-9f3536aa029b\",\"type\":\"Range1d\"},{\"attributes\":{\"data_source\":{\"id\":\"90c9f635-1c69-43c1-a4ff-e0d0d00a780b\",\"type\":\"ColumnDataSource\"},\"glyph\":{\"id\":\"348ab601-0903-4690-bd6f-eadf25c28ca0\",\"type\":\"Circle\"},\"hover_glyph\":null,\"muted_glyph\":null,\"nonselection_glyph\":{\"id\":\"9f143885-3219-4bcd-a046-03273a080280\",\"type\":\"Circle\"},\"selection_glyph\":null,\"view\":{\"id\":\"9f410471-097b-4cf1-b246-20706669ab3b\",\"type\":\"CDSView\"}},\"id\":\"7d73cb5c-5408-430e-9d53-9601326c4611\",\"type\":\"GlyphRenderer\"},{\"attributes\":{\"callback\":null},\"id\":\"0d2e3793-cc46-4a83-a632-bcf0504ef08e\",\"type\":\"DataRange1d\"},{\"attributes\":{},\"id\":\"b24f5b28-6d80-42fb-be97-cce953caadc2\",\"type\":\"LinearScale\"},{\"attributes\":{},\"id\":\"fc6fc149-dda4-4f86-9a60-a40740a29ff6\",\"type\":\"LinearScale\"},{\"attributes\":{\"plot\":{\"id\":\"3cb198d5-faed-48b4-bf49-e24e4f9cab7e\",\"subtype\":\"Figure\",\"type\":\"Plot\"},\"ticker\":{\"id\":\"a2198a1e-01ce-4cec-8aaa-ef61b1c414fd\",\"type\":\"BasicTicker\"}},\"id\":\"628fe543-2ee7-4b52-8f87-db044dee0fbb\",\"type\":\"Grid\"},{\"attributes\":{\"axis_label\":\"year\",\"formatter\":{\"id\":\"d150b951-103f-41f2-933d-81ec1fc45201\",\"type\":\"BasicTickFormatter\"},\"plot\":{\"id\":\"3cb198d5-faed-48b4-bf49-e24e4f9cab7e\",\"subtype\":\"Figure\",\"type\":\"Plot\"},\"ticker\":{\"id\":\"a2198a1e-01ce-4cec-8aaa-ef61b1c414fd\",\"type\":\"BasicTicker\"}},\"id\":\"f6b64f39-3981-4ccd-aac4-56ad8cebc4cd\",\"type\":\"LinearAxis\"},{\"attributes\":{},\"id\":\"a2198a1e-01ce-4cec-8aaa-ef61b1c414fd\",\"type\":\"BasicTicker\"},{\"attributes\":{\"axis_label\":\"waterlevel [mm] above N.A.P.\",\"formatter\":{\"id\":\"08ce4bf5-3303-4b95-a026-38ccec5873fc\",\"type\":\"BasicTickFormatter\"},\"plot\":{\"id\":\"3cb198d5-faed-48b4-bf49-e24e4f9cab7e\",\"subtype\":\"Figure\",\"type\":\"Plot\"},\"ticker\":{\"id\":\"dabfaeb6-5deb-40b2-8557-4a29e9492972\",\"type\":\"BasicTicker\"}},\"id\":\"6b84778f-65ed-435c-8868-f315a3bbcaad\",\"type\":\"LinearAxis\"},{\"attributes\":{},\"id\":\"dabfaeb6-5deb-40b2-8557-4a29e9492972\",\"type\":\"BasicTicker\"},{\"attributes\":{\"dimension\":1,\"plot\":{\"id\":\"3cb198d5-faed-48b4-bf49-e24e4f9cab7e\",\"subtype\":\"Figure\",\"type\":\"Plot\"},\"ticker\":{\"id\":\"dabfaeb6-5deb-40b2-8557-4a29e9492972\",\"type\":\"BasicTicker\"}},\"id\":\"583404fa-1a79-4482-8b0d-1919503cd6f3\",\"type\":\"Grid\"},{\"attributes\":{},\"id\":\"d150b951-103f-41f2-933d-81ec1fc45201\",\"type\":\"BasicTickFormatter\"},{\"attributes\":{\"label\":{\"value\":\"Monthly mean sea level\"},\"renderers\":[{\"id\":\"7d73cb5c-5408-430e-9d53-9601326c4611\",\"type\":\"GlyphRenderer\"}]},\"id\":\"3d0dd0c9-a527-4287-9129-9d40f221a8a1\",\"type\":\"LegendItem\"},{\"attributes\":{\"source\":{\"id\":\"90c9f635-1c69-43c1-a4ff-e0d0d00a780b\",\"type\":\"ColumnDataSource\"}},\"id\":\"9f410471-097b-4cf1-b246-20706669ab3b\",\"type\":\"CDSView\"},{\"attributes\":{\"fill_alpha\":{\"value\":0.1},\"fill_color\":{\"value\":\"#1f77b4\"},\"line_alpha\":{\"value\":0.1},\"line_color\":{\"value\":\"#1f77b4\"},\"x\":{\"field\":\"x\"},\"y\":{\"field\":\"y\"}},\"id\":\"9f143885-3219-4bcd-a046-03273a080280\",\"type\":\"Circle\"},{\"attributes\":{\"fill_alpha\":{\"value\":0.5},\"fill_color\":{\"value\":\"black\"},\"line_alpha\":{\"value\":0.5},\"x\":{\"field\":\"x\"},\"y\":{\"field\":\"y\"}},\"id\":\"348ab601-0903-4690-bd6f-eadf25c28ca0\",\"type\":\"Circle\"},{\"attributes\":{\"click_policy\":\"hide\",\"items\":[{\"id\":\"3d0dd0c9-a527-4287-9129-9d40f221a8a1\",\"type\":\"LegendItem\"},{\"id\":\"e8049c43-a51d-4f6c-83c3-5d104d7b17d8\",\"type\":\"LegendItem\"}],\"location\":\"top_left\",\"plot\":{\"id\":\"3cb198d5-faed-48b4-bf49-e24e4f9cab7e\",\"subtype\":\"Figure\",\"type\":\"Plot\"}},\"id\":\"f14ce940-14ad-42be-840a-a7adac161649\",\"type\":\"Legend\"},{\"attributes\":{},\"id\":\"b4f19657-9c9b-4d2f-96b6-2ebbe705708e\",\"type\":\"PanTool\"},{\"attributes\":{\"bottom_units\":\"screen\",\"fill_alpha\":{\"value\":0.5},\"fill_color\":{\"value\":\"lightgrey\"},\"left_units\":\"screen\",\"level\":\"overlay\",\"line_alpha\":{\"value\":1.0},\"line_color\":{\"value\":\"black\"},\"line_dash\":[4,4],\"line_width\":{\"value\":2},\"plot\":null,\"render_mode\":\"css\",\"right_units\":\"screen\",\"top_units\":\"screen\"},\"id\":\"53730f38-dedc-4e7b-9f9d-29a092ab2cb7\",\"type\":\"BoxAnnotation\"},{\"attributes\":{\"plot\":null,\"text\":\"\"},\"id\":\"8b7b488d-3131-4e0a-83e0-095b4d89ddf4\",\"type\":\"Title\"},{\"attributes\":{},\"id\":\"f2bdc980-3164-4112-8c27-98cc39e827c7\",\"type\":\"WheelZoomTool\"},{\"attributes\":{\"overlay\":{\"id\":\"53730f38-dedc-4e7b-9f9d-29a092ab2cb7\",\"type\":\"BoxAnnotation\"}},\"id\":\"12762af8-293e-4288-bc36-a28aa9cd8a4b\",\"type\":\"BoxZoomTool\"},{\"attributes\":{},\"id\":\"0f83a1ef-d328-4461-a3ff-a36b02b24e21\",\"type\":\"SaveTool\"},{\"attributes\":{},\"id\":\"6d22b6af-06f8-45e7-b5a9-9a04c29436d3\",\"type\":\"ResetTool\"},{\"attributes\":{},\"id\":\"bc528089-f0a3-4095-8362-cf2f39bd9b29\",\"type\":\"HelpTool\"},{\"attributes\":{\"callback\":null,\"column_names\":[\"x\",\"y\"],\"data\":{\"x\":{\"__ndarray__\":\"AAAAAACInUAAAAAAAIydQAAAAAAAkJ1AAAAAAACUnUAAAAAAAJidQAAAAAAAnJ1AAAAAAACgnUAAAAAAAKSdQAAAAAAAqJ1AAAAAAACsnUAAAAAAALCdQAAAAAAAtJ1AAAAAAAC4nUAAAAAAALydQAAAAAAAwJ1AAAAAAADEnUAAAAAAAMidQAAAAAAAzJ1AAAAAAADQnUAAAAAAANSdQAAAAAAA2J1AAAAAAADcnUAAAAAAAOCdQAAAAAAA5J1AAAAAAADonUAAAAAAAOydQAAAAAAA8J1AAAAAAAD0nUAAAAAAAPidQAAAAAAA/J1AAAAAAAAAnkAAAAAAAASeQAAAAAAACJ5AAAAAAAAMnkAAAAAAABCeQAAAAAAAFJ5AAAAAAAAYnkAAAAAAAByeQAAAAAAAIJ5AAAAAAAAknkAAAAAAACieQAAAAAAALJ5AAAAAAAAwnkAAAAAAADSeQAAAAAAAOJ5AAAAAAAA8nkAAAAAAAECeQAAAAAAARJ5AAAAAAABInkAAAAAAAEyeQAAAAAAAUJ5AAAAAAABUnkAAAAAAAFieQAAAAAAAXJ5AAAAAAABgnkAAAAAAAGSeQAAAAAAAaJ5AAAAAAABsnkAAAAAAAHCeQAAAAAAAdJ5AAAAAAAB4nkAAAAAAAHyeQAAAAAAAgJ5AAAAAAACEnkAAAAAAAIieQAAAAAAAjJ5AAAAAAACQnkAAAAAAAJSeQAAAAAAAmJ5AAAAAAACcnkAAAAAAAKCeQAAAAAAApJ5AAAAAAAConkAAAAAAAKyeQAAAAAAAsJ5AAAAAAAC0nkAAAAAAALieQAAAAAAAvJ5AAAAAAADAnkAAAAAAAMSeQAAAAAAAyJ5AAAAAAADMnkAAAAAAANCeQAAAAAAA1J5AAAAAAADYnkAAAAAAANyeQAAAAAAA4J5AAAAAAADknkAAAAAAAOieQAAAAAAA7J5AAAAAAADwnkAAAAAAAPSeQAAAAAAA+J5AAAAAAAD8nkAAAAAAAACfQAAAAAAABJ9AAAAAAAAIn0AAAAAAAAyfQAAAAAAAEJ9AAAAAAAAUn0AAAAAAABifQAAAAAAAHJ9AAAAAAAAgn0AAAAAAACSfQAAAAAAAKJ9AAAAAAAAsn0AAAAAAADCfQAAAAAAANJ9AAAAAAAA4n0AAAAAAADyfQAAAAAAAQJ9AAAAAAABEn0AAAAAAAEifQAAAAAAATJ9AAAAAAABQn0AAAAAAAFSfQAAAAAAAWJ9AAAAAAABcn0AAAAAAAGCfQAAAAAAAZJ9AAAAAAABon0AAAAAAAGyfQAAAAAAAcJ9AAAAAAAB0n0AAAAAAAHifQAAAAAAAfJ9AAAAAAACAn0A=\",\"dtype\":\"float64\",\"shape\":[127]},\"y\":{\"__ndarray__\":\"clRncCsFXcDyj+IvEAlcwIjtK2QRWFvA74njPeT5WsB07zfJ5OxawBh+4FRFJlvAGMbIn0aTW8DGi7GQVRtcwG3xRVLRolzAsftBrCkOXcDNJ4h8+0RdwN7SM2nRNF3AZ+23QDnTXMBNTpTT8R5cwK53VjUPIFvA1zRNTRHnWcCKeUgQB4tYwKjFTjT0JlfAmXWuk8TWVcCQxxJcJbRUwJvYbhuf01PAllEtakRCU8DBZ7QrOARTwNa2rQg2FFPA2RHMoCpkU8CH1DxGyt5TwCh8zVn4aVTA2CtI0rnpVMCR8hrEXUNVwDTT8aWAYFXAXMCkQ5MxVcAN4C9ZnK9UwNcq4RUC3VPAsDnQyETFUsB0WOKJsntRwKnoq2I5GVDAKMYp3S1zTcCkTX+EbfBKwBzoWyo02kjAjm4qOkRUR8C1IOjMFnJGwIZkXveoNEbAVOAUOV+KRsBih3JFAlFHwMx5JLmbWUjA8HL9IcNtScCHnG8swlVKwErX24De3krA0vjwmRPhSsApBScfl0NKwLLNQT2l/0jAbKpFIUQhR8BgGEGF6MVEwErq3IYiGULABy3htWWfPsChEuToLEM5wHXM3FxphzTAC/pTLM3DMMB0Z5GMD2gswGal8IQS4inAzPg9jGPcKcBmjciffPUrwPI7hnuTji/Awf6uAcPuMcDdVWqP1QE0wEcxm156kzXAv3wyYkZFNsCWaAXZEtI1wEAW/4HLFTTApbCoJ4ERMcDAUSKrldYpwICwUsXkpx/ANsFjnsFoA8AQb9Ahzu4IQCepkcOPjyBAZ5ZjVSFZKUCSdBXFpvwvQJzFLGg6DjJAGl78isTRMkDgQ/SV9GMyQDa+Ps1EAjFAoVwM8GwLLkBGiIf2i7EpQMmQeabL1iVAypFNe7dMI0ADawNt2r4iQAHnxwVinyRAw+HdFjsaKUD4LL46DggwQE+MKoIHjTRAij5Rf4bKOUC38zZXNFo/QJvhPLU5ZkJAx3R8S3zaREDeL9c8gttGQLRbu7ztR0hAzOsIDCcPSUDwAkrwOzNJQHzQ9VqkyEhADlug8/LzR0DzuvhHtOVGQK7CUuvz1EVAS6pf3wX5REAcF+3PR4NEQD6gwJeOmURASihFEuFRRUCYqq6e+69GQBZzlCzkpEhATGJcAZsQS0A4cBNdt8VNQHj2DtBDR1BAh03rapCZUUD1vVJB179SQNkekCkmpVNA2daAT+A7VEC0KneOR39UQMgeNX0FdFRATHbis6QnVEAatRCBCa9TQPXQoTgWJFNAk/TkQL+iUkCnzrJK40VSQCkyPOJCJFJALYlz/O5NUkD4kLm2eMpSQF/3168WmFNAhnp8qNirVEA=\",\"dtype\":\"float64\",\"shape\":[127]}}},\"id\":\"14c0c3f8-f2f5-4b6e-acfb-30fade667df2\",\"type\":\"ColumnDataSource\"},{\"attributes\":{\"line_alpha\":{\"value\":0.5},\"line_color\":{\"value\":\"green\"},\"line_width\":{\"value\":3},\"x\":{\"field\":\"x\"},\"y\":{\"field\":\"y\"}},\"id\":\"e3c11e83-5213-4cdf-8831-9282b472c091\",\"type\":\"Line\"},{\"attributes\":{\"line_alpha\":{\"value\":0.1},\"line_color\":{\"value\":\"#1f77b4\"},\"line_width\":{\"value\":3},\"x\":{\"field\":\"x\"},\"y\":{\"field\":\"y\"}},\"id\":\"366bf7b6-3887-4079-bd93-d36ac2bc2677\",\"type\":\"Line\"}],\"root_ids\":[\"3cb198d5-faed-48b4-bf49-e24e4f9cab7e\"]},\"title\":\"Bokeh Application\",\"version\":\"0.12.10\"}};\n",
       "    var render_items = [{\"docid\":\"14fe02bd-33c3-4e13-a703-50fd72be3260\",\"elementid\":\"8a711b28-e0b8-4720-a556-7d0e63403492\",\"modelid\":\"3cb198d5-faed-48b4-bf49-e24e4f9cab7e\"}];\n",
       "\n",
       "    root.Bokeh.embed.embed_items(docs_json, render_items);\n",
       "  }\n",
       "\n",
       "  if (root.Bokeh !== undefined) {\n",
       "    embed_document(root);\n",
       "  } else {\n",
       "    var attempts = 0;\n",
       "    var timer = setInterval(function(root) {\n",
       "      if (root.Bokeh !== undefined) {\n",
       "        embed_document(root);\n",
       "        clearInterval(timer);\n",
       "      }\n",
       "      attempts++;\n",
       "      if (attempts > 100) {\n",
       "        console.log(\"Bokeh: ERROR: Unable to embed document because BokehJS library is missing\")\n",
       "        clearInterval(timer);\n",
       "      }\n",
       "    }, 10, root)\n",
       "  }\n",
       "})(window);"
      ],
      "application/vnd.bokehjs_exec.v0+json": ""
     },
     "metadata": {
      "application/vnd.bokehjs_exec.v0+json": {
       "id": "3cb198d5-faed-48b4-bf49-e24e4f9cab7e"
      }
     },
     "output_type": "display_data"
    }
   ],
   "source": [
    "# plot the model with wind. \n",
    "fig = bokeh.plotting.figure(x_range=(1860, 2020), plot_width=900, plot_height=400)\n",
    "fig.circle(mean_df.year, mean_df.height, line_width=1, legend='Monthly mean sea level', color='black', alpha=0.5)\n",
    "fig.line(\n",
    "    linear_fit.model.exog[:, 1] + 1970, \n",
    "    linear_fit.predict(), \n",
    "    line_width=3, \n",
    "    legend='Current sea level', \n",
    "    color='green',\n",
    "    alpha=0.5\n",
    ")\n",
    "fig.legend.location = \"top_left\"\n",
    "fig.yaxis.axis_label = 'waterlevel [mm] above N.A.P.'\n",
    "fig.xaxis.axis_label = 'year'\n",
    "fig.legend.click_policy = \"hide\"\n",
    "\n",
    "bokeh.io.show(fig)"
   ]
  },
  {
   "cell_type": "markdown",
   "metadata": {},
   "source": [
    "Regional variability\n",
    "=====================\n",
    "It is known that the sea-level rise is not constant along the coast. The figures below show that the sea-level is rising faster at some stations. Some of these variations go back to the 1900's. There are several coastal interventions with known effect to the stations. The construction of the [Afsluitdijk](https://en.wikipedia.org/wiki/Afsluitdijk) (1927-1932), the [Oosterscheldekering](https://en.wikipedia.org/wiki/Oosterscheldekering) (1969-1987), the [Maeslantkering](https://en.wikipedia.org/wiki/Maeslantkering) (1991-1997) all have influence on the mean sea level, mainly due to changes in tidal amplitudes. \n",
    "\n",
    "Using the mean of the six tidal guages is the current approach. There are alternatives, for example one can use the principal component of the differences (between months/years). It is then assumed that only the common variance shared accross all stations is representative of the shared sea level. Most of the variance is shared between all stations and this results in a similar trend as using the mean. This method is referred to as EOF, PCA or SSA. See the analysis folder for an example."
   ]
  },
  {
   "cell_type": "code",
   "execution_count": 21,
   "metadata": {},
   "outputs": [
    {
     "name": "stdout",
     "output_type": "stream",
     "text": [
      "DEN HELDER\n"
     ]
    },
    {
     "data": {
      "text/html": [
       "<table class=\"simpletable\">\n",
       "<tr>\n",
       "      <td></td>        <th>coef</th>     <th>std err</th>      <th>t</th>      <th>P>|t|</th>  <th>[0.025</th>    <th>0.975]</th>  \n",
       "</tr>\n",
       "<tr>\n",
       "  <th>Constant</th> <td>  -59.7520</td> <td>    3.195</td> <td>  -18.702</td> <td> 0.000</td> <td>  -66.076</td> <td>  -53.428</td>\n",
       "</tr>\n",
       "<tr>\n",
       "  <th>Trend</th>    <td>    1.5012</td> <td>    0.079</td> <td>   18.920</td> <td> 0.000</td> <td>    1.344</td> <td>    1.658</td>\n",
       "</tr>\n",
       "<tr>\n",
       "  <th>Nodal U</th>  <td>    6.7286</td> <td>    4.122</td> <td>    1.632</td> <td> 0.105</td> <td>   -1.430</td> <td>   14.887</td>\n",
       "</tr>\n",
       "<tr>\n",
       "  <th>Nodal V</th>  <td>  -13.1977</td> <td>    4.089</td> <td>   -3.227</td> <td> 0.002</td> <td>  -21.292</td> <td>   -5.103</td>\n",
       "</tr>\n",
       "</table>"
      ],
      "text/plain": [
       "<class 'statsmodels.iolib.table.SimpleTable'>"
      ]
     },
     "metadata": {},
     "output_type": "display_data"
    },
    {
     "name": "stdout",
     "output_type": "stream",
     "text": [
      "DELFZIJL\n"
     ]
    },
    {
     "data": {
      "text/html": [
       "<table class=\"simpletable\">\n",
       "<tr>\n",
       "      <td></td>        <th>coef</th>     <th>std err</th>      <th>t</th>      <th>P>|t|</th>  <th>[0.025</th>    <th>0.975]</th>  \n",
       "</tr>\n",
       "<tr>\n",
       "  <th>Constant</th> <td>   27.5828</td> <td>    3.685</td> <td>    7.484</td> <td> 0.000</td> <td>   20.288</td> <td>   34.878</td>\n",
       "</tr>\n",
       "<tr>\n",
       "  <th>Trend</th>    <td>    1.9586</td> <td>    0.092</td> <td>   21.400</td> <td> 0.000</td> <td>    1.777</td> <td>    2.140</td>\n",
       "</tr>\n",
       "<tr>\n",
       "  <th>Nodal U</th>  <td>    6.4108</td> <td>    4.754</td> <td>    1.348</td> <td> 0.180</td> <td>   -3.000</td> <td>   15.822</td>\n",
       "</tr>\n",
       "<tr>\n",
       "  <th>Nodal V</th>  <td>  -12.0445</td> <td>    4.717</td> <td>   -2.553</td> <td> 0.012</td> <td>  -21.382</td> <td>   -2.707</td>\n",
       "</tr>\n",
       "</table>"
      ],
      "text/plain": [
       "<class 'statsmodels.iolib.table.SimpleTable'>"
      ]
     },
     "metadata": {},
     "output_type": "display_data"
    },
    {
     "name": "stdout",
     "output_type": "stream",
     "text": [
      "HARLINGEN\n"
     ]
    },
    {
     "data": {
      "text/html": [
       "<table class=\"simpletable\">\n",
       "<tr>\n",
       "      <td></td>        <th>coef</th>     <th>std err</th>      <th>t</th>      <th>P>|t|</th>  <th>[0.025</th>    <th>0.975]</th>  \n",
       "</tr>\n",
       "<tr>\n",
       "  <th>Constant</th> <td>   13.1853</td> <td>    3.596</td> <td>    3.667</td> <td> 0.000</td> <td>    6.068</td> <td>   20.303</td>\n",
       "</tr>\n",
       "<tr>\n",
       "  <th>Trend</th>    <td>    1.3231</td> <td>    0.089</td> <td>   14.817</td> <td> 0.000</td> <td>    1.146</td> <td>    1.500</td>\n",
       "</tr>\n",
       "<tr>\n",
       "  <th>Nodal U</th>  <td>    4.3305</td> <td>    4.639</td> <td>    0.934</td> <td> 0.352</td> <td>   -4.851</td> <td>   13.512</td>\n",
       "</tr>\n",
       "<tr>\n",
       "  <th>Nodal V</th>  <td>   -9.6362</td> <td>    4.602</td> <td>   -2.094</td> <td> 0.038</td> <td>  -18.746</td> <td>   -0.526</td>\n",
       "</tr>\n",
       "</table>"
      ],
      "text/plain": [
       "<class 'statsmodels.iolib.table.SimpleTable'>"
      ]
     },
     "metadata": {},
     "output_type": "display_data"
    },
    {
     "name": "stdout",
     "output_type": "stream",
     "text": [
      "CUXHAVEN 2\n"
     ]
    },
    {
     "data": {
      "text/html": [
       "<table class=\"simpletable\">\n",
       "<tr>\n",
       "      <td></td>        <th>coef</th>     <th>std err</th>      <th>t</th>      <th>P>|t|</th>  <th>[0.025</th>    <th>0.975]</th>  \n",
       "</tr>\n",
       "<tr>\n",
       "  <th>Constant</th> <td>   65.5812</td> <td>    4.525</td> <td>   14.495</td> <td> 0.000</td> <td>   56.625</td> <td>   74.537</td>\n",
       "</tr>\n",
       "<tr>\n",
       "  <th>Trend</th>    <td>    2.0115</td> <td>    0.112</td> <td>   17.901</td> <td> 0.000</td> <td>    1.789</td> <td>    2.234</td>\n",
       "</tr>\n",
       "<tr>\n",
       "  <th>Nodal U</th>  <td>    3.9682</td> <td>    5.837</td> <td>    0.680</td> <td> 0.498</td> <td>   -7.586</td> <td>   15.522</td>\n",
       "</tr>\n",
       "<tr>\n",
       "  <th>Nodal V</th>  <td>   -5.9755</td> <td>    5.791</td> <td>   -1.032</td> <td> 0.304</td> <td>  -17.439</td> <td>    5.488</td>\n",
       "</tr>\n",
       "</table>"
      ],
      "text/plain": [
       "<class 'statsmodels.iolib.table.SimpleTable'>"
      ]
     },
     "metadata": {},
     "output_type": "display_data"
    },
    {
     "data": {
      "text/html": [
       "\n",
       "<div class=\"bk-root\">\n",
       "    <div class=\"bk-plotdiv\" id=\"ced00216-4cc8-488d-acd4-06add481fcda\"></div>\n",
       "</div>"
      ]
     },
     "metadata": {},
     "output_type": "display_data"
    },
    {
     "data": {
      "application/javascript": [
       "(function(root) {\n",
       "  function embed_document(root) {\n",
       "    var docs_json = {\"77cb3522-ea6d-4dd3-b734-e0d2be7c953f\":{\"roots\":{\"references\":[{\"attributes\":{\"source\":{\"id\":\"cbf5fc37-5042-4cc3-9ed5-581d4c607fc1\",\"type\":\"ColumnDataSource\"}},\"id\":\"0dc733a0-eebc-4667-8f52-5d5e247df198\",\"type\":\"CDSView\"},{\"attributes\":{\"source\":{\"id\":\"ebae2349-cdae-47b6-b525-527d85f73e27\",\"type\":\"ColumnDataSource\"}},\"id\":\"94951189-305c-4464-83e1-95ad0a1b0df1\",\"type\":\"CDSView\"},{\"attributes\":{\"data_source\":{\"id\":\"cbf5fc37-5042-4cc3-9ed5-581d4c607fc1\",\"type\":\"ColumnDataSource\"},\"glyph\":{\"id\":\"7f97519d-e57b-4346-9b31-8b3227b26369\",\"type\":\"Circle\"},\"hover_glyph\":null,\"muted_glyph\":null,\"nonselection_glyph\":{\"id\":\"b79077b5-28f9-4da0-b49f-18bc662b1e65\",\"type\":\"Circle\"},\"selection_glyph\":null,\"view\":{\"id\":\"0dc733a0-eebc-4667-8f52-5d5e247df198\",\"type\":\"CDSView\"}},\"id\":\"0f610792-af43-4adb-905e-0d1b01bca3d3\",\"type\":\"GlyphRenderer\"},{\"attributes\":{\"callback\":null,\"column_names\":[\"x\",\"y\"],\"data\":{\"x\":[1843,1844,1845,1846,1847,1848,1849,1850,1851,1852,1853,1854,1855,1856,1857,1858,1859,1860,1861,1862,1863,1864,1865,1866,1867,1868,1869,1870,1871,1872,1873,1874,1875,1876,1877,1878,1879,1880,1881,1882,1883,1884,1885,1886,1887,1888,1889,1890,1891,1892,1893,1894,1895,1896,1897,1898,1899,1900,1901,1902,1903,1904,1905,1906,1907,1908,1909,1910,1911,1912,1913,1914,1915,1916,1917,1918,1919,1920,1921,1922,1923,1924,1925,1926,1927,1928,1929,1930,1931,1932,1933,1934,1935,1936,1937,1938,1939,1940,1941,1942,1943,1944,1945,1946,1947,1948,1949,1950,1951,1952,1953,1954,1955,1956,1957,1958,1959,1960,1961,1962,1963,1964,1965,1966,1967,1968,1969,1970,1971,1972,1973,1974,1975,1976,1977,1978,1979,1980,1981,1982,1983,1984,1985,1986,1987,1988,1989,1990,1991,1992,1993,1994,1995,1996,1997,1998,1999,2000,2001,2002,2003,2004,2005,2006,2007,2008,2009,2010,2011,2012,2013,2014,2015,2016],\"y\":{\"__ndarray__\":\"AAAAAADgZMAAAAAAAEBowAAAAAAAYGPAAAAAAAAgYsAAAAAAAMBswAAAAAAAgG3AAAAAAAAgasAAAAAAAEBhwAAAAAAAwGTAAAAAAAAgYcAAAAAAAKBtwAAAAAAAQF3AAAAAAADga8AAAAAAACBnwAAAAAAAIHDAAAAAAACgasAAAAAAACBiwAAAAAAA4GjAAAAAAADAYcAAAAAAAKBmwAAAAAAAwFHAAAAAAADga8AAAAAAAIBpwAAAAAAAgFXAAAAAAACAV8AAAAAAAMBVwAAAAAAAwF3AAAAAAABgacAAAAAAAKBpwAAAAAAA4GbAAAAAAADAX8AAAAAAAABfwAAAAAAAQG7AAAAAAABAacAAAAAAAMBUwAAAAAAAwFbAAAAAAADAZsAAAAAAAEBTwAAAAAAAAGLAAAAAAAAAXcAAAAAAAABewAAAAAAAQFbAAAAAAAAgYsAAAAAAAMBmwAAAAAAA4GHAAAAAAAAgaMAAAAAAAKBmwAAAAAAAgGHAAAAAAAAAYsAAAAAAAMBiwAAAAAAAAFbAAAAAAAAAW8AAAAAAAEBdwAAAAAAAQFrAAAAAAACAX8AAAAAAAABFwAAAAAAAACLAAAAAAADAUsAAAAAAAMBWwAAAAAAAgFfAAAAAAAAAAAAAAAAAAMBTwAAAAAAAgFLAAAAAAAAARsAAAAAAAMBWwAAAAAAAAF3AAAAAAACAUsAAAAAAAIBPwAAAAAAAQFHAAAAAAAAAQ8AAAAAAAIBMwAAAAAAAAEHAAAAAAAAAXMAAAAAAAAAzwAAAAAAAgETAAAAAAAAAP8AAAAAAAABMwAAAAAAAgEnAAAAAAAAANkAAAAAAAABCwAAAAAAAABjAAAAAAACATcAAAAAAAIBHQAAAAAAAAENAAAAAAAAAEEAAAAAAAAAsQAAAAAAAAETAAAAAAAAAMcAAAAAAAABDQAAAAAAAADdAAAAAAACAQMAAAAAAAAAoQAAAAAAAAEhAAAAAAAAANkAAAAAAAAA9wAAAAAAAAElAAAAAAAAAP8AAAAAAAADwPwAAAAAAAEvAAAAAAACAQcAAAAAAAEBQQAAAAAAAgFVAAAAAAABAVUAAAAAAAIBFQAAAAAAAgFHAAAAAAABAVUAAAAAAAEBeQAAAAAAAgFBAAAAAAAAAPkAAAAAAAABTQAAAAAAAgEZAAAAAAACASEAAAAAAAEBSQAAAAAAAADBAAAAAAACATEAAAAAAAABGQAAAAAAAACjAAAAAAAAAAMAAAAAAAMBhQAAAAAAAQFdAAAAAAAAAMsAAAAAAAAAYQAAAAAAAwFRAAAAAAACAVEAAAAAAAGBmQAAAAAAAAE5AAAAAAAAAMEAAAAAAAMBXQAAAAAAAAEpAAAAAAAAAPsAAAAAAAEBaQAAAAAAAgFRAAAAAAAAATEAAAAAAAAAUwAAAAAAAAEtAAAAAAAAAQEAAAAAAAAAoQAAAAAAAgEhAAAAAAAAAX0AAAAAAAEBWQAAAAAAAoGRAAAAAAAAAOkAAAAAAAIBFQAAAAAAAgEhAAAAAAAAASEAAAAAAAABhQAAAAAAAQFpAAAAAAAAgZ0AAAAAAAMBTQAAAAAAAwFJAAAAAAACAREAAAAAAAOBiQAAAAAAAAGNAAAAAAAAAPcAAAAAAAEBSQAAAAAAAYGVAAAAAAADgZEAAAAAAAEBjQAAAAAAAAGFAAAAAAADAXkAAAAAAAMBfQAAAAAAAAGZAAAAAAAAgYEAAAAAAAMBgQAAAAAAAIGtAAAAAAACgZkAAAAAAAMBdQAAAAAAAAFlAAAAAAADgY0AAAAAAAIBgQAAAAAAAQFhAAAAAAACAYEAAAAAAACBrQAAAAAAAIGRA\",\"dtype\":\"float64\",\"shape\":[174]}}},\"id\":\"ebae2349-cdae-47b6-b525-527d85f73e27\",\"type\":\"ColumnDataSource\"},{\"attributes\":{\"fill_alpha\":{\"value\":0.1},\"fill_color\":{\"value\":\"#ffff99\"},\"line_alpha\":{\"value\":0.1},\"line_color\":{\"value\":\"#ffff99\"},\"x\":{\"field\":\"x\"},\"y\":{\"field\":\"y\"}},\"id\":\"27c9f1e0-996b-4dfa-8263-a8443a65062b\",\"type\":\"Circle\"},{\"attributes\":{\"data_source\":{\"id\":\"ebae2349-cdae-47b6-b525-527d85f73e27\",\"type\":\"ColumnDataSource\"},\"glyph\":{\"id\":\"27c9f1e0-996b-4dfa-8263-a8443a65062b\",\"type\":\"Circle\"},\"hover_glyph\":null,\"muted_glyph\":null,\"nonselection_glyph\":{\"id\":\"b6fb73be-2d43-4aad-b09b-0d4231201701\",\"type\":\"Circle\"},\"selection_glyph\":null,\"view\":{\"id\":\"94951189-305c-4464-83e1-95ad0a1b0df1\",\"type\":\"CDSView\"}},\"id\":\"454454d7-ca9c-4406-913b-4e31d28db6a3\",\"type\":\"GlyphRenderer\"},{\"attributes\":{\"fill_alpha\":{\"value\":0.1},\"fill_color\":{\"value\":\"#1f77b4\"},\"line_alpha\":{\"value\":0.1},\"line_color\":{\"value\":\"#1f77b4\"},\"x\":{\"field\":\"x\"},\"y\":{\"field\":\"y\"}},\"id\":\"b6fb73be-2d43-4aad-b09b-0d4231201701\",\"type\":\"Circle\"},{\"attributes\":{\"label\":{\"value\":\"DEN HELDER\"},\"renderers\":[{\"id\":\"c23a67e5-a3de-470f-9802-6ab5507a4611\",\"type\":\"GlyphRenderer\"}]},\"id\":\"25dac194-3b97-48ac-a20d-1a5616a6f35f\",\"type\":\"LegendItem\"},{\"attributes\":{\"source\":{\"id\":\"dd1c18be-c394-4d63-b172-5ea9da3885f2\",\"type\":\"ColumnDataSource\"}},\"id\":\"e67f3e87-7fb9-40f7-92bb-fcb464210852\",\"type\":\"CDSView\"},{\"attributes\":{\"source\":{\"id\":\"3aa69671-88c5-4ada-932b-6a1d78e2292f\",\"type\":\"ColumnDataSource\"}},\"id\":\"fa7de84f-c409-4c8b-b450-469cb644861e\",\"type\":\"CDSView\"},{\"attributes\":{\"line_alpha\":{\"value\":0.1},\"line_color\":{\"value\":\"#1f77b4\"},\"line_width\":{\"value\":3},\"x\":{\"field\":\"x\"},\"y\":{\"field\":\"y\"}},\"id\":\"6b5608ff-e211-4ca4-88f0-e9a2a816356a\",\"type\":\"Line\"},{\"attributes\":{\"line_alpha\":{\"value\":0.1},\"line_color\":{\"value\":\"#1f77b4\"},\"line_width\":{\"value\":3},\"x\":{\"field\":\"x\"},\"y\":{\"field\":\"y\"}},\"id\":\"15ba3878-ab4b-4cc4-b685-548198f7a16b\",\"type\":\"Line\"},{\"attributes\":{\"data_source\":{\"id\":\"dd1c18be-c394-4d63-b172-5ea9da3885f2\",\"type\":\"ColumnDataSource\"},\"glyph\":{\"id\":\"65faef92-0052-47d1-bd07-c54d1582c80f\",\"type\":\"Line\"},\"hover_glyph\":null,\"muted_glyph\":null,\"nonselection_glyph\":{\"id\":\"15ba3878-ab4b-4cc4-b685-548198f7a16b\",\"type\":\"Line\"},\"selection_glyph\":null,\"view\":{\"id\":\"e67f3e87-7fb9-40f7-92bb-fcb464210852\",\"type\":\"CDSView\"}},\"id\":\"294750ed-c74c-47d0-ab27-824458772e7f\",\"type\":\"GlyphRenderer\"},{\"attributes\":{\"data_source\":{\"id\":\"3aa69671-88c5-4ada-932b-6a1d78e2292f\",\"type\":\"ColumnDataSource\"},\"glyph\":{\"id\":\"8fb96ea0-aa3d-4c94-bc62-ab0bcc515faa\",\"type\":\"Line\"},\"hover_glyph\":null,\"muted_glyph\":null,\"nonselection_glyph\":{\"id\":\"6b5608ff-e211-4ca4-88f0-e9a2a816356a\",\"type\":\"Line\"},\"selection_glyph\":null,\"view\":{\"id\":\"fa7de84f-c409-4c8b-b450-469cb644861e\",\"type\":\"CDSView\"}},\"id\":\"268abd97-5262-43a9-bead-c4e312afc064\",\"type\":\"GlyphRenderer\"},{\"attributes\":{\"line_alpha\":{\"value\":0.1},\"line_color\":{\"value\":\"#1f77b4\"},\"line_width\":{\"value\":3},\"x\":{\"field\":\"x\"},\"y\":{\"field\":\"y\"}},\"id\":\"8ebc394d-59c9-40f7-8da6-ae8a71a34a37\",\"type\":\"Line\"},{\"attributes\":{\"callback\":null,\"column_names\":[\"x\",\"y\"],\"data\":{\"x\":{\"__ndarray__\":\"AAAAAACInUAAAAAAAIydQAAAAAAAkJ1AAAAAAACUnUAAAAAAAJidQAAAAAAAnJ1AAAAAAACgnUAAAAAAAKSdQAAAAAAAqJ1AAAAAAACsnUAAAAAAALCdQAAAAAAAtJ1AAAAAAAC4nUAAAAAAALydQAAAAAAAwJ1AAAAAAADEnUAAAAAAAMidQAAAAAAAzJ1AAAAAAADQnUAAAAAAANSdQAAAAAAA2J1AAAAAAADcnUAAAAAAAOCdQAAAAAAA5J1AAAAAAADonUAAAAAAAOydQAAAAAAA8J1AAAAAAAD0nUAAAAAAAPidQAAAAAAA/J1AAAAAAAAAnkAAAAAAAASeQAAAAAAACJ5AAAAAAAAMnkAAAAAAABCeQAAAAAAAFJ5AAAAAAAAYnkAAAAAAAByeQAAAAAAAIJ5AAAAAAAAknkAAAAAAACieQAAAAAAALJ5AAAAAAAAwnkAAAAAAADSeQAAAAAAAOJ5AAAAAAAA8nkAAAAAAAECeQAAAAAAARJ5AAAAAAABInkAAAAAAAEyeQAAAAAAAUJ5AAAAAAABUnkAAAAAAAFieQAAAAAAAXJ5AAAAAAABgnkAAAAAAAGSeQAAAAAAAaJ5AAAAAAABsnkAAAAAAAHCeQAAAAAAAdJ5AAAAAAAB4nkAAAAAAAHyeQAAAAAAAgJ5AAAAAAACEnkAAAAAAAIieQAAAAAAAjJ5AAAAAAACQnkAAAAAAAJSeQAAAAAAAmJ5AAAAAAACcnkAAAAAAAKCeQAAAAAAApJ5AAAAAAAConkAAAAAAAKyeQAAAAAAAsJ5AAAAAAAC0nkAAAAAAALieQAAAAAAAvJ5AAAAAAADAnkAAAAAAAMSeQAAAAAAAyJ5AAAAAAADMnkAAAAAAANCeQAAAAAAA1J5AAAAAAADYnkAAAAAAANyeQAAAAAAA4J5AAAAAAADknkAAAAAAAOieQAAAAAAA7J5AAAAAAADwnkAAAAAAAPSeQAAAAAAA+J5AAAAAAAD8nkAAAAAAAACfQAAAAAAABJ9AAAAAAAAIn0AAAAAAAAyfQAAAAAAAEJ9AAAAAAAAUn0AAAAAAABifQAAAAAAAHJ9AAAAAAAAgn0AAAAAAACSfQAAAAAAAKJ9AAAAAAAAsn0AAAAAAADCfQAAAAAAANJ9AAAAAAAA4n0AAAAAAADyfQAAAAAAAQJ9AAAAAAABEn0AAAAAAAEifQAAAAAAATJ9AAAAAAABQn0AAAAAAAFSfQAAAAAAAWJ9AAAAAAABcn0AAAAAAAGCfQAAAAAAAZJ9AAAAAAABon0AAAAAAAGyfQAAAAAAAcJ9AAAAAAAB0n0AAAAAAAHifQAAAAAAAfJ9AAAAAAACAn0A=\",\"dtype\":\"float64\",\"shape\":[127]},\"y\":{\"__ndarray__\":\"dct5AO2zVsAYBQiJjc1VwLnOZKRWE1XAqgsJSsWLVMCc5Sf0njdUwLGlXFXbEVTAQ2eNwzUQVMAYngPuVSRUwBlN72BuPVTAHbKCDCJKVMDoI80BejpUwNV1FMOyAVTABnKDFa2XU8ByocCy2PlSwJgKs1x+K1LA9ljq9mA1UcDy6OxbwCRQwMhe5QO1E07AlsQ0TCzsS8BWwtvvF/RJwOheDQ5OR0jAWOcgKSX5RsDKS0RcRRJGwAK4tDauj0XAoDmpeA1jRcBIboznXHRFwBYbfIOYpEXARs4jwj7RRcBo4WqlNdhFwHB4AiKkm0XAjsmcm1AFRcA/yFwcIwlEwGTw88mCpkLAJ7V6JmfoQMD2H+xUNsg9wJ65UfqrbTnA6Au+fN0ENcC4hTZYFdMwwEiYEBHQLirAYF7ZiioHJMAgku3YqdkewPCHrIIi4RjA4HhWKMnoFcBw0kN+8l0VwPCZXAHMZxbAECSnR9X/F8BAYsBEgQ8ZwDDrwFGnjxjAAHIgbzemFcAQxr3Wrn0PwGCzkb+Gbvq/4Fd/rniP9j+obC3qOoYUQAxeeTXtoiJAWEoHy6FzK0BYrog8YBUyQCoYu+pYIDZAdok07AegOUCctAocc2k8QJpEIxMzZj5AMHXaivqWP0AlLksYwQlAQEdCm5jtA0BAZIBY23WvP0AMV7sTbE4/QJJVFXrRKT9ALqKvXed/P0BMz9HnikBAQKprW3A6JUFA3qm79kFxQkCimc3uNhxEQCxr+cP3EkZAhXsTqtQ5SEBoEuumr29KQF2ql4a5kUxA45tKtl9/TkB2ejG+/A5QQJucHCjlrVBAtX/fLgEZUUAqE6atwVJRQEX56rwpY1FA/IfYLedWUUBf/eUq5D1RQEczbFh7KVFA0p+2XYIqUUAC2+xwY09RQFq1bc58olFAeC7NH/UoUkCEGKijJuJSQOybUuOxx1NAFpa+2TXOVECv3VTCmOZVQONYfnK8/1ZAcOsQ/WwIWECmJYTKUfFYQJBU2AmprllAa/t6bJs5WkDPCS7UAZFaQIihyaKGuVpAaK9F6R69WkBoobSt6qlaQOQ1W8KckFpAbRkdQJiCWkBkHjsb+o9aQJRDU4jHxVpAn6vOv3UsW0B7v4CX9cZbQN5+qoheklxATuzeuUKGXUBqc2WQopVeQG738UpksF9AsBcaoJJiYEBEqsAemOFgQOjsiSgwTmFAKf+RwFyjYUCWaMqmxN5hQCY1wDX3AGJACLs/NFwNYkD3AWhu0QliQIi7nDEB/mFAY6CuzYTyYUDGAZQb7O9hQMBPnBXG/WFAPdIqbsYhYkCq3TLMIF9iQLMafEYstmJAic0aj1kkY0A=\",\"dtype\":\"float64\",\"shape\":[127]}}},\"id\":\"dae2e3df-54ef-4b39-9adc-797915f5be0c\",\"type\":\"ColumnDataSource\"},{\"attributes\":{\"line_alpha\":{\"value\":0.8},\"line_color\":{\"value\":\"#ffff99\"},\"line_width\":{\"value\":3},\"x\":{\"field\":\"x\"},\"y\":{\"field\":\"y\"}},\"id\":\"12c544ff-d315-4d93-9b95-58b37861f5f9\",\"type\":\"Line\"},{\"attributes\":{\"data_source\":{\"id\":\"9d1cecbb-d38d-41c1-9ac2-4a45d4f1e2b7\",\"type\":\"ColumnDataSource\"},\"glyph\":{\"id\":\"4f57a334-2a2b-4e23-80a9-03507211e990\",\"type\":\"Circle\"},\"hover_glyph\":null,\"muted_glyph\":null,\"nonselection_glyph\":{\"id\":\"2dc50800-039d-48f6-9356-3342e0f863c7\",\"type\":\"Circle\"},\"selection_glyph\":null,\"view\":{\"id\":\"13f35e6d-8370-41d9-a470-38fdcfdb27e6\",\"type\":\"CDSView\"}},\"id\":\"fe2aac33-32f2-4f4c-82c0-d4cdfa7594c1\",\"type\":\"GlyphRenderer\"},{\"attributes\":{\"label\":{\"value\":\"DELFZIJL\"},\"renderers\":[{\"id\":\"294750ed-c74c-47d0-ab27-824458772e7f\",\"type\":\"GlyphRenderer\"}]},\"id\":\"5ad8d993-8f0a-47a8-8fb2-0454303f5b2c\",\"type\":\"LegendItem\"},{\"attributes\":{\"source\":{\"id\":\"20730d3b-3dc7-4d1a-bf63-a91be97013c8\",\"type\":\"ColumnDataSource\"}},\"id\":\"20aeca7f-33dd-4430-bdba-d76bdeb3962a\",\"type\":\"CDSView\"},{\"attributes\":{\"source\":{\"id\":\"dae2e3df-54ef-4b39-9adc-797915f5be0c\",\"type\":\"ColumnDataSource\"}},\"id\":\"2a3521d6-acbf-4f54-ac47-a88b03f45738\",\"type\":\"CDSView\"},{\"attributes\":{\"data_source\":{\"id\":\"dae2e3df-54ef-4b39-9adc-797915f5be0c\",\"type\":\"ColumnDataSource\"},\"glyph\":{\"id\":\"12c544ff-d315-4d93-9b95-58b37861f5f9\",\"type\":\"Line\"},\"hover_glyph\":null,\"muted_glyph\":null,\"nonselection_glyph\":{\"id\":\"8ebc394d-59c9-40f7-8da6-ae8a71a34a37\",\"type\":\"Line\"},\"selection_glyph\":null,\"view\":{\"id\":\"2a3521d6-acbf-4f54-ac47-a88b03f45738\",\"type\":\"CDSView\"}},\"id\":\"3cf790ac-4740-489d-ad21-b5054d3e6ffe\",\"type\":\"GlyphRenderer\"},{\"attributes\":{\"label\":{\"value\":\"HARLINGEN\"},\"renderers\":[{\"id\":\"268abd97-5262-43a9-bead-c4e312afc064\",\"type\":\"GlyphRenderer\"}]},\"id\":\"97232357-ff42-4fcf-9cdb-e112f0bfb92d\",\"type\":\"LegendItem\"},{\"attributes\":{\"plot\":null,\"text\":\"\"},\"id\":\"24b13aca-2587-4041-b6d2-42b2e055f0c6\",\"type\":\"Title\"},{\"attributes\":{},\"id\":\"4b39766d-5328-42c8-922e-400b1ad53abb\",\"type\":\"BasicTickFormatter\"},{\"attributes\":{},\"id\":\"4a9b6ba7-4294-4ed6-8bc2-9add8e851b18\",\"type\":\"BasicTickFormatter\"},{\"attributes\":{\"callback\":null,\"column_names\":[\"x\",\"y\"],\"data\":{\"x\":{\"__ndarray__\":\"AAAAAACInUAAAAAAAIydQAAAAAAAkJ1AAAAAAACUnUAAAAAAAJidQAAAAAAAnJ1AAAAAAACgnUAAAAAAAKSdQAAAAAAAqJ1AAAAAAACsnUAAAAAAALCdQAAAAAAAtJ1AAAAAAAC4nUAAAAAAALydQAAAAAAAwJ1AAAAAAADEnUAAAAAAAMidQAAAAAAAzJ1AAAAAAADQnUAAAAAAANSdQAAAAAAA2J1AAAAAAADcnUAAAAAAAOCdQAAAAAAA5J1AAAAAAADonUAAAAAAAOydQAAAAAAA8J1AAAAAAAD0nUAAAAAAAPidQAAAAAAA/J1AAAAAAAAAnkAAAAAAAASeQAAAAAAACJ5AAAAAAAAMnkAAAAAAABCeQAAAAAAAFJ5AAAAAAAAYnkAAAAAAAByeQAAAAAAAIJ5AAAAAAAAknkAAAAAAACieQAAAAAAALJ5AAAAAAAAwnkAAAAAAADSeQAAAAAAAOJ5AAAAAAAA8nkAAAAAAAECeQAAAAAAARJ5AAAAAAABInkAAAAAAAEyeQAAAAAAAUJ5AAAAAAABUnkAAAAAAAFieQAAAAAAAXJ5AAAAAAABgnkAAAAAAAGSeQAAAAAAAaJ5AAAAAAABsnkAAAAAAAHCeQAAAAAAAdJ5AAAAAAAB4nkAAAAAAAHyeQAAAAAAAgJ5AAAAAAACEnkAAAAAAAIieQAAAAAAAjJ5AAAAAAACQnkAAAAAAAJSeQAAAAAAAmJ5AAAAAAACcnkAAAAAAAKCeQAAAAAAApJ5AAAAAAAConkAAAAAAAKyeQAAAAAAAsJ5AAAAAAAC0nkAAAAAAALieQAAAAAAAvJ5AAAAAAADAnkAAAAAAAMSeQAAAAAAAyJ5AAAAAAADMnkAAAAAAANCeQAAAAAAA1J5AAAAAAADYnkAAAAAAANyeQAAAAAAA4J5AAAAAAADknkAAAAAAAOieQAAAAAAA7J5AAAAAAADwnkAAAAAAAPSeQAAAAAAA+J5AAAAAAAD8nkAAAAAAAACfQAAAAAAABJ9AAAAAAAAIn0AAAAAAAAyfQAAAAAAAEJ9AAAAAAAAUn0AAAAAAABifQAAAAAAAHJ9AAAAAAAAgn0AAAAAAACSfQAAAAAAAKJ9AAAAAAAAsn0AAAAAAADCfQAAAAAAANJ9AAAAAAAA4n0AAAAAAADyfQAAAAAAAQJ9AAAAAAABEn0AAAAAAAEifQAAAAAAATJ9AAAAAAABQn0AAAAAAAFSfQAAAAAAAWJ9AAAAAAABcn0AAAAAAAGCfQAAAAAAAZJ9AAAAAAABon0AAAAAAAGyfQAAAAAAAcJ9AAAAAAAB0n0AAAAAAAHifQAAAAAAAfJ9AAAAAAACAn0A=\",\"dtype\":\"float64\",\"shape\":[127]},\"y\":{\"__ndarray__\":\"qRJwYuAvVcCgZqIYYmNUwFSMrsSR3VPAnrnNSPujU8CM/KTlj7NTwD5+mpT+AFTAnBqFCPt5VMB16p1rTgdVwD/sISx2j1XAvEcrIIX5VcCLRU3M8y9WwNtezX8OI1bAQ2rtDbvKVcAWQ3DtYidVwKtzG1HnQVTAUX8ykaAqU8ACn07chfdRwL5KdX+ywVDAoDKa1CBFT8ACvSSm82FNwJwo0LxJ/UvAxXjFqEcsS8BEvTZPZ/NKwNqLfZL2RUvABX21LYYHTMAk+hFbHw9NwIuheobjK07A9l01cJAqT8ASEXFaSdtPwHGEugh/C1DA1sBBstPDT8AwbXDGD9hOwADpzGAxW03AaTmjfxhlS8BkEBsoVBtJwDkt1hnlrEbAJ6Cvm+9MRMB1BEWw9SxCwM03w4BAd0DA1+tk8DSUPsBee172x2g9wNl4lBDLZz3AIj5wjR9rPsBsiU9IohdAwLirF9R6LUHAG75PI59EQsDGc418bypDwJtg9IjdsUPA++xjRYK4Q8DHN5YagCpDwKwQw+bABELAjCZXLU9VQMBqtzi3gHM8wNRcxNy7tzfAMqEX7dvZMsD1+xAgjYAswBEoPydYkyTAWKZTKV0JHcD0AIj7Q24VwHioxFE/mBLAqKwWS1VAFMBM+C6Hup0ZwICZMyk+viDApkvDkSEwJcAieOJ/oFcpwLOq7Jw5cCzAO5cFdP/TLcCLLQkaUw4twF8FoQ8O6SnAslUW/Z5yJMAUBmtS0fgZwHAQ0/dIRgDA/t43xbZiBkB+ExQDC28eQMVJxCttAShAoplavOVEL0BOtUYhQT4yQBreEqX7rjNAAv6M1z7xM0AG5yg8yyMzQBOEDc8MhDFA27ojV1jOLkAJil2Y42AqQA0R20sijCZAlnUp5j4LJEB+Am4KB3MjQIWmpbUfISVA32NISXMxKUBsdOfkCnsvQESk5Q1XyjNA4s8AtWFwOED5ZMgbjU89QPlMLRinAEFAGs72GR0SQ0B6xmHZgrNEQPndw87YyEVAND0qru5FRkDGYLCbwy9GQKH4Vsn1m0VA7FZ4ylGuREBzjXsfyJRDQIOKcr09gkJAHpJSaM2oQUBK5bnfHzRBQPSUukp+REFAzcFZSS3rQUAgXdT5eShDQKDjNUSx60RA42rJZwIVR0CA64RSFnlJQHiVEf3z5UtAh7wpb6QoTkD7A++2eQlQQKp3h0xTwFBAXG5BIsotUUCsx2XxEU9RQNwkNtz3KVFAnaVhyzrMUEBGWFk7/klQQHyq9Z0Id09ADXn0reF0TkDaMbjayL1NQFOdx4uGeU1At5fMyuzCTUCzYAJC0KROQIshiKJnDFBAv9/kGwUEUUA=\",\"dtype\":\"float64\",\"shape\":[127]}}},\"id\":\"3aa69671-88c5-4ada-932b-6a1d78e2292f\",\"type\":\"ColumnDataSource\"},{\"attributes\":{\"source\":{\"id\":\"9d1cecbb-d38d-41c1-9ac2-4a45d4f1e2b7\",\"type\":\"ColumnDataSource\"}},\"id\":\"13f35e6d-8370-41d9-a470-38fdcfdb27e6\",\"type\":\"CDSView\"},{\"attributes\":{\"below\":[{\"id\":\"282c84f4-6877-47cf-ba01-3e37fd04b7ad\",\"type\":\"LinearAxis\"}],\"left\":[{\"id\":\"45901c5d-95b6-47e1-a358-4058674928dd\",\"type\":\"LinearAxis\"}],\"plot_height\":400,\"plot_width\":900,\"renderers\":[{\"id\":\"282c84f4-6877-47cf-ba01-3e37fd04b7ad\",\"type\":\"LinearAxis\"},{\"id\":\"094f08a1-c79f-4730-9031-ef88c1cafb7d\",\"type\":\"Grid\"},{\"id\":\"45901c5d-95b6-47e1-a358-4058674928dd\",\"type\":\"LinearAxis\"},{\"id\":\"a4e99a76-1981-42e1-8a85-2b7c229dd869\",\"type\":\"Grid\"},{\"id\":\"70415419-389e-49d7-a698-6d3ebea95443\",\"type\":\"BoxAnnotation\"},{\"id\":\"fe2aac33-32f2-4f4c-82c0-d4cdfa7594c1\",\"type\":\"GlyphRenderer\"},{\"id\":\"0f610792-af43-4adb-905e-0d1b01bca3d3\",\"type\":\"GlyphRenderer\"},{\"id\":\"0fb926e9-f54e-494c-b775-25fd936daeae\",\"type\":\"GlyphRenderer\"},{\"id\":\"454454d7-ca9c-4406-913b-4e31d28db6a3\",\"type\":\"GlyphRenderer\"},{\"id\":\"16b4a938-2fac-4704-abb5-208e3f199ed8\",\"type\":\"Legend\"},{\"id\":\"c23a67e5-a3de-470f-9802-6ab5507a4611\",\"type\":\"GlyphRenderer\"},{\"id\":\"294750ed-c74c-47d0-ab27-824458772e7f\",\"type\":\"GlyphRenderer\"},{\"id\":\"268abd97-5262-43a9-bead-c4e312afc064\",\"type\":\"GlyphRenderer\"},{\"id\":\"3cf790ac-4740-489d-ad21-b5054d3e6ffe\",\"type\":\"GlyphRenderer\"}],\"title\":{\"id\":\"24b13aca-2587-4041-b6d2-42b2e055f0c6\",\"type\":\"Title\"},\"toolbar\":{\"id\":\"362dbee2-20cb-4d19-869d-d98d29c15e84\",\"type\":\"Toolbar\"},\"x_range\":{\"id\":\"35640de0-c8b8-4610-a402-4c6b82e3b02b\",\"type\":\"Range1d\"},\"x_scale\":{\"id\":\"4221cd41-7063-4cf9-9b91-12da1b05ef20\",\"type\":\"LinearScale\"},\"y_range\":{\"id\":\"0ad83afd-691b-43fe-ad84-784ce880bbd2\",\"type\":\"DataRange1d\"},\"y_scale\":{\"id\":\"eff6384b-a8cc-41b6-8460-457a328daf30\",\"type\":\"LinearScale\"}},\"id\":\"868c97f0-4424-43f9-a0f6-e4a1405b6170\",\"subtype\":\"Figure\",\"type\":\"Plot\"},{\"attributes\":{\"source\":{\"id\":\"80234269-fc19-499b-b741-541c22a66ea3\",\"type\":\"ColumnDataSource\"}},\"id\":\"3df7b1df-ecbe-4076-aaac-b8ef51e974d4\",\"type\":\"CDSView\"},{\"attributes\":{\"label\":{\"value\":\"CUXHAVEN 2\"},\"renderers\":[{\"id\":\"3cf790ac-4740-489d-ad21-b5054d3e6ffe\",\"type\":\"GlyphRenderer\"}]},\"id\":\"a83a1dea-f497-4221-9816-7759306c5d56\",\"type\":\"LegendItem\"},{\"attributes\":{\"active_drag\":\"auto\",\"active_inspect\":\"auto\",\"active_scroll\":\"auto\",\"active_tap\":\"auto\",\"tools\":[{\"id\":\"4a7046d1-1af8-4725-b146-7693cd755f63\",\"type\":\"PanTool\"},{\"id\":\"2f9e5dc5-386f-46f6-afff-4de5f72eab2f\",\"type\":\"WheelZoomTool\"},{\"id\":\"d4fed92e-a2c5-40f2-9e0b-200625cb534b\",\"type\":\"BoxZoomTool\"},{\"id\":\"5605bb93-faad-428f-8086-2657c69607a6\",\"type\":\"SaveTool\"},{\"id\":\"36ede50e-4bd8-484d-8297-c5acf536184f\",\"type\":\"ResetTool\"},{\"id\":\"60c42074-ba0e-4d56-9988-b1d778648d93\",\"type\":\"HelpTool\"}]},\"id\":\"362dbee2-20cb-4d19-869d-d98d29c15e84\",\"type\":\"Toolbar\"},{\"attributes\":{\"callback\":null,\"end\":2020,\"start\":1860},\"id\":\"35640de0-c8b8-4610-a402-4c6b82e3b02b\",\"type\":\"Range1d\"},{\"attributes\":{\"callback\":null,\"column_names\":[\"x\",\"y\"],\"data\":{\"x\":[1865,1866,1867,1868,1869,1870,1871,1872,1873,1874,1875,1876,1877,1878,1879,1880,1881,1882,1883,1884,1885,1886,1887,1888,1889,1890,1891,1892,1893,1894,1895,1896,1897,1898,1899,1900,1901,1902,1903,1904,1905,1906,1907,1908,1909,1910,1911,1912,1913,1914,1915,1916,1917,1918,1919,1920,1921,1922,1923,1924,1925,1926,1927,1928,1929,1930,1931,1932,1933,1934,1935,1936,1937,1938,1939,1940,1941,1942,1943,1944,1945,1946,1947,1948,1949,1950,1951,1952,1953,1954,1955,1956,1957,1958,1959,1960,1961,1962,1963,1964,1965,1966,1967,1968,1969,1970,1971,1972,1973,1974,1975,1976,1977,1978,1979,1980,1981,1982,1983,1984,1985,1986,1987,1988,1989,1990,1991,1992,1993,1994,1995,1996,1997,1998,1999,2000,2001,2002,2003,2004,2005,2006,2007,2008,2009,2010,2011,2012,2013,2014,2015,2016],\"y\":{\"__ndarray__\":\"AAAAAAAAb8AAAAAAAABawAAAAAAAoGDAAAAAAADAXsAAAAAAAKBhwAAAAAAAYG7AAAAAAADgZMAAAAAAAABcwAAAAAAAgFjAAAAAAADAWsAAAAAAACBnwAAAAAAAoGDAAAAAAACASsAAAAAAAABNwAAAAAAAYGHAAAAAAAAATcAAAAAAACBgwAAAAAAAAFXAAAAAAABAW8AAAAAAAMBVwAAAAAAAAF/AAAAAAADAYMAAAAAAAMBhwAAAAAAA4GLAAAAAAACAXMAAAAAAAABewAAAAAAAAFnAAAAAAADAVsAAAAAAAIBSwAAAAAAAgFHAAAAAAAAAWsAAAAAAAEBZwAAAAAAAgFTAAAAAAAAARcAAAAAAAMBTwAAAAAAAgFzAAAAAAACAX8AAAAAAAABhwAAAAAAAAC7AAAAAAAAAVcAAAAAAAIBTwAAAAAAAAEnAAAAAAACAU8AAAAAAAEBawAAAAAAAgE3AAAAAAACAR8AAAAAAAEBTwAAAAAAAAPC/AAAAAAAAOcAAAAAAAAAkwAAAAAAAgFLAAAAAAAAAEMAAAAAAAIBKwAAAAAAAAEHAAAAAAAAATsAAAAAAAIBKwAAAAAAAgEHAAAAAAAAASsAAAAAAAAAgwAAAAAAAgEPAAAAAAAAAMkAAAAAAAAAYQAAAAAAAACTAAAAAAAAAIEAAAAAAAABRwAAAAAAAAELAAAAAAAAALsAAAAAAAAA9wAAAAAAAQFXAAAAAAACAS8AAAAAAAAAIwAAAAAAAACrAAAAAAAAAR8AAAAAAAAAqwAAAAAAAgE/AAAAAAACATMAAAAAAAMBXwAAAAAAAgE3AAAAAAAAAKsAAAAAAAAAmwAAAAAAAACLAAAAAAAAAQMAAAAAAAMBZwAAAAAAAACTAAAAAAAAAIEAAAAAAAAAAQAAAAAAAADPAAAAAAAAACEAAAAAAAABFwAAAAAAAADDAAAAAAAAAM8AAAAAAAIBOwAAAAAAAAC7AAAAAAAAAIsAAAAAAAIBNwAAAAAAAADjAAAAAAAAATUAAAAAAAAAQQAAAAAAAQFLAAAAAAAAATsAAAAAAAAAmQAAAAAAAADtAAAAAAABAVkAAAAAAAAAAwAAAAAAAAAjAAAAAAACAT0AAAAAAAAAuwAAAAAAAACrAAAAAAAAASEAAAAAAAIBFQAAAAAAAACDAAAAAAAAARcAAAAAAAAA1QAAAAAAAABzAAAAAAAAALkAAAAAAAABKQAAAAAAAAFNAAAAAAACASUAAAAAAAABZQAAAAAAAADBAAAAAAAAAMEAAAAAAAAAyQAAAAAAAACbAAAAAAADAVUAAAAAAAIBBQAAAAAAAwFdAAAAAAAAARcAAAAAAAAAiQAAAAAAAAAhAAAAAAACAS0AAAAAAAIBKQAAAAAAAwFfAAAAAAAAAIsAAAAAAAEBWQAAAAAAAAFRAAAAAAABAU0AAAAAAAMBQQAAAAAAAgEpAAAAAAACAQ0AAAAAAAABWQAAAAAAAAE1AAAAAAABAUEAAAAAAAIBeQAAAAAAAgFhAAAAAAAAASkAAAAAAAAA+QAAAAAAAAFhAAAAAAADAVEAAAAAAAABEQAAAAAAAQFdAAAAAAACAYUAAAAAAAMBZQA==\",\"dtype\":\"float64\",\"shape\":[152]}}},\"id\":\"80234269-fc19-499b-b741-541c22a66ea3\",\"type\":\"ColumnDataSource\"},{\"attributes\":{\"data_source\":{\"id\":\"20730d3b-3dc7-4d1a-bf63-a91be97013c8\",\"type\":\"ColumnDataSource\"},\"glyph\":{\"id\":\"9a66a6fb-b669-46a9-b54d-c2e6316adbee\",\"type\":\"Line\"},\"hover_glyph\":null,\"muted_glyph\":null,\"nonselection_glyph\":{\"id\":\"8b67c573-a641-4577-bdb1-4179c69235d6\",\"type\":\"Line\"},\"selection_glyph\":null,\"view\":{\"id\":\"20aeca7f-33dd-4430-bdba-d76bdeb3962a\",\"type\":\"CDSView\"}},\"id\":\"c23a67e5-a3de-470f-9802-6ab5507a4611\",\"type\":\"GlyphRenderer\"},{\"attributes\":{},\"id\":\"4221cd41-7063-4cf9-9b91-12da1b05ef20\",\"type\":\"LinearScale\"},{\"attributes\":{\"fill_alpha\":{\"value\":0.1},\"fill_color\":{\"value\":\"#fdc086\"},\"line_alpha\":{\"value\":0.1},\"line_color\":{\"value\":\"#fdc086\"},\"x\":{\"field\":\"x\"},\"y\":{\"field\":\"y\"}},\"id\":\"48c97dfc-37aa-4740-b6d9-cb0d63dea671\",\"type\":\"Circle\"},{\"attributes\":{},\"id\":\"eff6384b-a8cc-41b6-8460-457a328daf30\",\"type\":\"LinearScale\"},{\"attributes\":{},\"id\":\"0eb5f5a7-912e-43b5-a2c3-bf1ab60d24f4\",\"type\":\"BasicTicker\"},{\"attributes\":{\"formatter\":{\"id\":\"4a9b6ba7-4294-4ed6-8bc2-9add8e851b18\",\"type\":\"BasicTickFormatter\"},\"plot\":{\"id\":\"868c97f0-4424-43f9-a0f6-e4a1405b6170\",\"subtype\":\"Figure\",\"type\":\"Plot\"},\"ticker\":{\"id\":\"0eb5f5a7-912e-43b5-a2c3-bf1ab60d24f4\",\"type\":\"BasicTicker\"}},\"id\":\"282c84f4-6877-47cf-ba01-3e37fd04b7ad\",\"type\":\"LinearAxis\"},{\"attributes\":{\"data_source\":{\"id\":\"80234269-fc19-499b-b741-541c22a66ea3\",\"type\":\"ColumnDataSource\"},\"glyph\":{\"id\":\"48c97dfc-37aa-4740-b6d9-cb0d63dea671\",\"type\":\"Circle\"},\"hover_glyph\":null,\"muted_glyph\":null,\"nonselection_glyph\":{\"id\":\"964c3a63-1475-4c65-9339-c3c10eeeff8c\",\"type\":\"Circle\"},\"selection_glyph\":null,\"view\":{\"id\":\"3df7b1df-ecbe-4076-aaac-b8ef51e974d4\",\"type\":\"CDSView\"}},\"id\":\"0fb926e9-f54e-494c-b775-25fd936daeae\",\"type\":\"GlyphRenderer\"},{\"attributes\":{\"fill_alpha\":{\"value\":0.1},\"fill_color\":{\"value\":\"#1f77b4\"},\"line_alpha\":{\"value\":0.1},\"line_color\":{\"value\":\"#1f77b4\"},\"x\":{\"field\":\"x\"},\"y\":{\"field\":\"y\"}},\"id\":\"964c3a63-1475-4c65-9339-c3c10eeeff8c\",\"type\":\"Circle\"},{\"attributes\":{\"plot\":{\"id\":\"868c97f0-4424-43f9-a0f6-e4a1405b6170\",\"subtype\":\"Figure\",\"type\":\"Plot\"},\"ticker\":{\"id\":\"0eb5f5a7-912e-43b5-a2c3-bf1ab60d24f4\",\"type\":\"BasicTicker\"}},\"id\":\"094f08a1-c79f-4730-9031-ef88c1cafb7d\",\"type\":\"Grid\"},{\"attributes\":{\"line_alpha\":{\"value\":0.8},\"line_color\":{\"value\":\"#7fc97f\"},\"line_width\":{\"value\":3},\"x\":{\"field\":\"x\"},\"y\":{\"field\":\"y\"}},\"id\":\"9a66a6fb-b669-46a9-b54d-c2e6316adbee\",\"type\":\"Line\"},{\"attributes\":{\"formatter\":{\"id\":\"4b39766d-5328-42c8-922e-400b1ad53abb\",\"type\":\"BasicTickFormatter\"},\"plot\":{\"id\":\"868c97f0-4424-43f9-a0f6-e4a1405b6170\",\"subtype\":\"Figure\",\"type\":\"Plot\"},\"ticker\":{\"id\":\"d52a4ed1-9ebb-437b-8f1e-297cf852fd00\",\"type\":\"BasicTicker\"}},\"id\":\"45901c5d-95b6-47e1-a358-4058674928dd\",\"type\":\"LinearAxis\"},{\"attributes\":{\"click_policy\":\"hide\",\"items\":[{\"id\":\"25dac194-3b97-48ac-a20d-1a5616a6f35f\",\"type\":\"LegendItem\"},{\"id\":\"5ad8d993-8f0a-47a8-8fb2-0454303f5b2c\",\"type\":\"LegendItem\"},{\"id\":\"97232357-ff42-4fcf-9cdb-e112f0bfb92d\",\"type\":\"LegendItem\"},{\"id\":\"a83a1dea-f497-4221-9816-7759306c5d56\",\"type\":\"LegendItem\"}],\"plot\":{\"id\":\"868c97f0-4424-43f9-a0f6-e4a1405b6170\",\"subtype\":\"Figure\",\"type\":\"Plot\"}},\"id\":\"16b4a938-2fac-4704-abb5-208e3f199ed8\",\"type\":\"Legend\"},{\"attributes\":{},\"id\":\"d52a4ed1-9ebb-437b-8f1e-297cf852fd00\",\"type\":\"BasicTicker\"},{\"attributes\":{\"line_alpha\":{\"value\":0.8},\"line_color\":{\"value\":\"#beaed4\"},\"line_width\":{\"value\":3},\"x\":{\"field\":\"x\"},\"y\":{\"field\":\"y\"}},\"id\":\"65faef92-0052-47d1-bd07-c54d1582c80f\",\"type\":\"Line\"},{\"attributes\":{\"dimension\":1,\"plot\":{\"id\":\"868c97f0-4424-43f9-a0f6-e4a1405b6170\",\"subtype\":\"Figure\",\"type\":\"Plot\"},\"ticker\":{\"id\":\"d52a4ed1-9ebb-437b-8f1e-297cf852fd00\",\"type\":\"BasicTicker\"}},\"id\":\"a4e99a76-1981-42e1-8a85-2b7c229dd869\",\"type\":\"Grid\"},{\"attributes\":{\"fill_alpha\":{\"value\":0.1},\"fill_color\":{\"value\":\"#7fc97f\"},\"line_alpha\":{\"value\":0.1},\"line_color\":{\"value\":\"#7fc97f\"},\"x\":{\"field\":\"x\"},\"y\":{\"field\":\"y\"}},\"id\":\"4f57a334-2a2b-4e23-80a9-03507211e990\",\"type\":\"Circle\"},{\"attributes\":{\"line_alpha\":{\"value\":0.1},\"line_color\":{\"value\":\"#1f77b4\"},\"line_width\":{\"value\":3},\"x\":{\"field\":\"x\"},\"y\":{\"field\":\"y\"}},\"id\":\"8b67c573-a641-4577-bdb1-4179c69235d6\",\"type\":\"Line\"},{\"attributes\":{\"fill_alpha\":{\"value\":0.1},\"fill_color\":{\"value\":\"#1f77b4\"},\"line_alpha\":{\"value\":0.1},\"line_color\":{\"value\":\"#1f77b4\"},\"x\":{\"field\":\"x\"},\"y\":{\"field\":\"y\"}},\"id\":\"b79077b5-28f9-4da0-b49f-18bc662b1e65\",\"type\":\"Circle\"},{\"attributes\":{\"callback\":null,\"column_names\":[\"x\",\"y\"],\"data\":{\"x\":{\"__ndarray__\":\"AAAAAACInUAAAAAAAIydQAAAAAAAkJ1AAAAAAACUnUAAAAAAAJidQAAAAAAAnJ1AAAAAAACgnUAAAAAAAKSdQAAAAAAAqJ1AAAAAAACsnUAAAAAAALCdQAAAAAAAtJ1AAAAAAAC4nUAAAAAAALydQAAAAAAAwJ1AAAAAAADEnUAAAAAAAMidQAAAAAAAzJ1AAAAAAADQnUAAAAAAANSdQAAAAAAA2J1AAAAAAADcnUAAAAAAAOCdQAAAAAAA5J1AAAAAAADonUAAAAAAAOydQAAAAAAA8J1AAAAAAAD0nUAAAAAAAPidQAAAAAAA/J1AAAAAAAAAnkAAAAAAAASeQAAAAAAACJ5AAAAAAAAMnkAAAAAAABCeQAAAAAAAFJ5AAAAAAAAYnkAAAAAAAByeQAAAAAAAIJ5AAAAAAAAknkAAAAAAACieQAAAAAAALJ5AAAAAAAAwnkAAAAAAADSeQAAAAAAAOJ5AAAAAAAA8nkAAAAAAAECeQAAAAAAARJ5AAAAAAABInkAAAAAAAEyeQAAAAAAAUJ5AAAAAAABUnkAAAAAAAFieQAAAAAAAXJ5AAAAAAABgnkAAAAAAAGSeQAAAAAAAaJ5AAAAAAABsnkAAAAAAAHCeQAAAAAAAdJ5AAAAAAAB4nkAAAAAAAHyeQAAAAAAAgJ5AAAAAAACEnkAAAAAAAIieQAAAAAAAjJ5AAAAAAACQnkAAAAAAAJSeQAAAAAAAmJ5AAAAAAACcnkAAAAAAAKCeQAAAAAAApJ5AAAAAAAConkAAAAAAAKyeQAAAAAAAsJ5AAAAAAAC0nkAAAAAAALieQAAAAAAAvJ5AAAAAAADAnkAAAAAAAMSeQAAAAAAAyJ5AAAAAAADMnkAAAAAAANCeQAAAAAAA1J5AAAAAAADYnkAAAAAAANyeQAAAAAAA4J5AAAAAAADknkAAAAAAAOieQAAAAAAA7J5AAAAAAADwnkAAAAAAAPSeQAAAAAAA+J5AAAAAAAD8nkAAAAAAAACfQAAAAAAABJ9AAAAAAAAIn0AAAAAAAAyfQAAAAAAAEJ9AAAAAAAAUn0AAAAAAABifQAAAAAAAHJ9AAAAAAAAgn0AAAAAAACSfQAAAAAAAKJ9AAAAAAAAsn0AAAAAAADCfQAAAAAAANJ9AAAAAAAA4n0AAAAAAADyfQAAAAAAAQJ9AAAAAAABEn0AAAAAAAEifQAAAAAAATJ9AAAAAAABQn0AAAAAAAFSfQAAAAAAAWJ9AAAAAAABcn0AAAAAAAGCfQAAAAAAAZJ9AAAAAAABon0AAAAAAAGyfQAAAAAAAcJ9AAAAAAAB0n0AAAAAAAHifQAAAAAAAfJ9AAAAAAACAn0A=\",\"dtype\":\"float64\",\"shape\":[127]},\"y\":{\"__ndarray__\":\"3rcfafwnZcDaSYDzZZ1kwNVa6V9QQ2TA95e6o3oeZMCvYY8BoS1kwOl9DpShaWTAYnglZ0rGZMBy9z7cuTNlwFHPuJIpoGXALCT1B/D5ZcBoCUX1fjFmwDW6EtAkO2bAcg19r14QZsBe3n5zlLBlwKyHwPApIWXASoflMONsZMCc/d1braJjwLiqeWfv02LA2iyGPJMSYsDlOgIUAG9hwOL6C3pA9mDAuJHzdomwYMBydqFnTaBgwMC7J0r1wWDA9PB4eUgMYcB0lcgid3FhwCz/+WCp4GHA9uV78eVHYsDY8KeSGZZiwPic7msEvWLAYgJJztWyYsBouu3SR3NiwCzGx9QaAGLAfODB1OJgYcABVEd/LKJgwE4rMhUlqF/AbEEwudgQXsAVDcL9lKFcwCYt/CT2eFvAnnusGp+tWsBUidpZq0tawEWo8RFRU1rAfEsDCdu4WsAIgd3r+mVbwKFgC9xNPFzAuvmkesoYXcD6cPRTtdddwMvO9GSpWF7AuRrYLkCCXsA+vaWv70RewPGeDWfLnF3AyLONuPWRXMDfHpTetDdbwAzXpfZFqlnArmBIBK0LWMA0wY0F3n9WwH5wyQuuKFXAWAarnAEiVMDTNia1pn5TwL19EWg1RlPAAIcLbjR0U8BcdoxrmvhTwLlEolWduVTAEuEWp5uWVcAhGmxIy2tWwHilYrxDFlfArud51e53V8CFfKwY7npXwI8Vk6sSFFfAhHefeSBEVsBYy8wWuBdVwJz1yt7ppVPAZOcxgJsNUsAu17UtC3JQwEzPAniq7U3AHFr+Pt53S8CUcMbgF7RJwGbODmSlv0jAoqyy2m2gSMDLFrfRRkRJwLnSCT0Bg0rAIxzVnvIiTMCwyp5Zd99NwGzJDxeycE/Aa6BuMdRJUMCDSgoK6YhQwNHufoegY1DA4Elfgq+mT8Ar5RVv/7pNwODEgi8AJkvAESPHfZ0cSMCpWJM/5uBEwHCqh7OXukHAHBdK6wjePcBqxr+vgnI5wOB6QVT0hjbAULVAS15ENcDGrKUPyaM1wLOhinUObzfAD76iXPZGOsDFtLEm9q09wDDxyy8ui0DADHfzjif5QcAS/0V65+FCwMNOE+V3FUPAYs8BUFZ4QsCkp561jgZBwBZOoItbqD3AxB2bFvsVOMBCUFHAm8sxwIg74fpDpybA2CHwDmD2FMAAKKpRGfSrv8DuP8TvhQ5ASAXgmHRoGECo/7sdxt0aQDAwUZNnCRdA4NthjAsPDECAYFIdup7YP2CWDG/psQjAKPJ8UFViGcC0+RSJ/rUhwLCG3oYtUyTAUNV13WzmI8Akq5sWQSUgwJj1spHMShLAABBNmn601D8=\",\"dtype\":\"float64\",\"shape\":[127]}}},\"id\":\"20730d3b-3dc7-4d1a-bf63-a91be97013c8\",\"type\":\"ColumnDataSource\"},{\"attributes\":{\"bottom_units\":\"screen\",\"fill_alpha\":{\"value\":0.5},\"fill_color\":{\"value\":\"lightgrey\"},\"left_units\":\"screen\",\"level\":\"overlay\",\"line_alpha\":{\"value\":1.0},\"line_color\":{\"value\":\"black\"},\"line_dash\":[4,4],\"line_width\":{\"value\":2},\"plot\":null,\"render_mode\":\"css\",\"right_units\":\"screen\",\"top_units\":\"screen\"},\"id\":\"70415419-389e-49d7-a698-6d3ebea95443\",\"type\":\"BoxAnnotation\"},{\"attributes\":{\"fill_alpha\":{\"value\":0.1},\"fill_color\":{\"value\":\"#1f77b4\"},\"line_alpha\":{\"value\":0.1},\"line_color\":{\"value\":\"#1f77b4\"},\"x\":{\"field\":\"x\"},\"y\":{\"field\":\"y\"}},\"id\":\"2dc50800-039d-48f6-9356-3342e0f863c7\",\"type\":\"Circle\"},{\"attributes\":{},\"id\":\"4a7046d1-1af8-4725-b146-7693cd755f63\",\"type\":\"PanTool\"},{\"attributes\":{},\"id\":\"2f9e5dc5-386f-46f6-afff-4de5f72eab2f\",\"type\":\"WheelZoomTool\"},{\"attributes\":{\"overlay\":{\"id\":\"70415419-389e-49d7-a698-6d3ebea95443\",\"type\":\"BoxAnnotation\"}},\"id\":\"d4fed92e-a2c5-40f2-9e0b-200625cb534b\",\"type\":\"BoxZoomTool\"},{\"attributes\":{},\"id\":\"5605bb93-faad-428f-8086-2657c69607a6\",\"type\":\"SaveTool\"},{\"attributes\":{},\"id\":\"36ede50e-4bd8-484d-8297-c5acf536184f\",\"type\":\"ResetTool\"},{\"attributes\":{},\"id\":\"60c42074-ba0e-4d56-9988-b1d778648d93\",\"type\":\"HelpTool\"},{\"attributes\":{\"callback\":null,\"column_names\":[\"x\",\"y\"],\"data\":{\"x\":{\"__ndarray__\":\"AAAAAACInUAAAAAAAIydQAAAAAAAkJ1AAAAAAACUnUAAAAAAAJidQAAAAAAAnJ1AAAAAAACgnUAAAAAAAKSdQAAAAAAAqJ1AAAAAAACsnUAAAAAAALCdQAAAAAAAtJ1AAAAAAAC4nUAAAAAAALydQAAAAAAAwJ1AAAAAAADEnUAAAAAAAMidQAAAAAAAzJ1AAAAAAADQnUAAAAAAANSdQAAAAAAA2J1AAAAAAADcnUAAAAAAAOCdQAAAAAAA5J1AAAAAAADonUAAAAAAAOydQAAAAAAA8J1AAAAAAAD0nUAAAAAAAPidQAAAAAAA/J1AAAAAAAAAnkAAAAAAAASeQAAAAAAACJ5AAAAAAAAMnkAAAAAAABCeQAAAAAAAFJ5AAAAAAAAYnkAAAAAAAByeQAAAAAAAIJ5AAAAAAAAknkAAAAAAACieQAAAAAAALJ5AAAAAAAAwnkAAAAAAADSeQAAAAAAAOJ5AAAAAAAA8nkAAAAAAAECeQAAAAAAARJ5AAAAAAABInkAAAAAAAEyeQAAAAAAAUJ5AAAAAAABUnkAAAAAAAFieQAAAAAAAXJ5AAAAAAABgnkAAAAAAAGSeQAAAAAAAaJ5AAAAAAABsnkAAAAAAAHCeQAAAAAAAdJ5AAAAAAAB4nkAAAAAAAHyeQAAAAAAAgJ5AAAAAAACEnkAAAAAAAIieQAAAAAAAjJ5AAAAAAACQnkAAAAAAAJSeQAAAAAAAmJ5AAAAAAACcnkAAAAAAAKCeQAAAAAAApJ5AAAAAAAConkAAAAAAAKyeQAAAAAAAsJ5AAAAAAAC0nkAAAAAAALieQAAAAAAAvJ5AAAAAAADAnkAAAAAAAMSeQAAAAAAAyJ5AAAAAAADMnkAAAAAAANCeQAAAAAAA1J5AAAAAAADYnkAAAAAAANyeQAAAAAAA4J5AAAAAAADknkAAAAAAAOieQAAAAAAA7J5AAAAAAADwnkAAAAAAAPSeQAAAAAAA+J5AAAAAAAD8nkAAAAAAAACfQAAAAAAABJ9AAAAAAAAIn0AAAAAAAAyfQAAAAAAAEJ9AAAAAAAAUn0AAAAAAABifQAAAAAAAHJ9AAAAAAAAgn0AAAAAAACSfQAAAAAAAKJ9AAAAAAAAsn0AAAAAAADCfQAAAAAAANJ9AAAAAAAA4n0AAAAAAADyfQAAAAAAAQJ9AAAAAAABEn0AAAAAAAEifQAAAAAAATJ9AAAAAAABQn0AAAAAAAFSfQAAAAAAAWJ9AAAAAAABcn0AAAAAAAGCfQAAAAAAAZJ9AAAAAAABon0AAAAAAAGyfQAAAAAAAcJ9AAAAAAAB0n0AAAAAAAHifQAAAAAAAfJ9AAAAAAACAn0A=\",\"dtype\":\"float64\",\"shape\":[127]},\"y\":{\"__ndarray__\":\"5gN0jOfgXcBTQN82hbhcwGWlyWe86FvAfjJCHdt6W8BDGPRHIm1bwJ7YbUH4slvAtqXF5FQ2XMCdt6YwPtpcwLXtlJYNfl3AkKxvdB8BXsDsInw5gkZewFUCyME6OF7AZr50gL/JXcDslyLHYvlcwBhRCkaD0FvAgOxMS31iWsD2YipRe8pYwAfH3wBlKFfAEQFGRUWdVcDIaEZ9j0dUwOKoNJSvP1PA1fLaUUiVUsCULdGJb01SwOVBzikbYlLAJAoPvc/CUsD08hKyfFZTwPSTRqBQ/lPAUk38zDOZVMBS7y1rhAdVwDJSLqaoLlXAfLcRSw/8VMCocH1NSGdUwFKylJj4clPAgC6upo0sUsCdKbJ/uapQwKDk+9PFFU7Aou83qKfbSsAO1Ri6C+hHwDrob9rvc0XAdPVnmO2pQ8AugJ5Ja6FCwBx09uD3W0LAI/yJ5h3FQsC1F/elsrRDwPHmN9he80TApjVnxt1ARsAMELBkPltHwIlBWcZUBkjAkbLL1oQSSMD4hU4VImJHwJxaLArJ7EXAUBYYrFHAQ8CgdYVZP/9AwERISBq3uTvAXTXPvtcuNcAc7LJzqsQtwPLn0TY0oyLAgLoNgnuTE8CgfiobZjb+vwCRWxOq3Nq/AOWnGKa2279g+J0CMkr7vyDmAOlt+w7ACEVd8wngGcDKE4bfifUhwMpeAmkezSXAlFUerYuWJ8AkcAWI/qwmwMauLGWiuSLAhDVEnNx6F8CQfR5BSIjwv6zGgjNxShNAIJSPCRqEJkCRaiS5ccQxQE53F9RK1jdAdFwB3swAPUCVldWYpHNAQF2xpRHSqEFAbuolJ1UZQkC2BD8Ex9RBQJWaKvYw/0BALPTOOvaZP0B064UoBPo8QM5edPP8ojpAMWtm0hYROUDKkkW5R6o4QJrgARXDsjlAd2uhDkdFPED3MAjkCyhAQITTP+Z/y0JABgxs7g3dRUA+UnPbViBJQB4yUYteU0xArzl+j/41T0B0SGnukchQQJXSTB2DnlFA6OpR59ISUkDeNneChiZSQIwr2cuK5VFAwornr1tlUUD1eitcl8JQQM8Cd03DHVBAP1vlI0EvT0BsOcqj8ppOQJ6ztOikq05AfVcf0MF7T0D5usEDDIhQQAOJSxGoq1FASOqb2vAVU0BWS5PwJ6xUQCQ/HXaZTlZAlCrTNDDcV0CU1ASUMTZZQHYqg4q1Q1pAXu4PUXb0WkD9UQaZpkJbQPbY6DOZM1tAoK5FPyfXWkDSJfwx5kVaQDZcy3thnllAHSRE5qcBWUBYvWlXkI9YQE8rsMghY1hACe/AS4aPWECRzVJE4R1ZQOC1+lhHDFpAMyI96fVNW0A=\",\"dtype\":\"float64\",\"shape\":[127]}}},\"id\":\"dd1c18be-c394-4d63-b172-5ea9da3885f2\",\"type\":\"ColumnDataSource\"},{\"attributes\":{\"line_alpha\":{\"value\":0.8},\"line_color\":{\"value\":\"#fdc086\"},\"line_width\":{\"value\":3},\"x\":{\"field\":\"x\"},\"y\":{\"field\":\"y\"}},\"id\":\"8fb96ea0-aa3d-4c94-bc62-ab0bcc515faa\",\"type\":\"Line\"},{\"attributes\":{\"fill_alpha\":{\"value\":0.1},\"fill_color\":{\"value\":\"#beaed4\"},\"line_alpha\":{\"value\":0.1},\"line_color\":{\"value\":\"#beaed4\"},\"x\":{\"field\":\"x\"},\"y\":{\"field\":\"y\"}},\"id\":\"7f97519d-e57b-4346-9b31-8b3227b26369\",\"type\":\"Circle\"},{\"attributes\":{\"callback\":null},\"id\":\"0ad83afd-691b-43fe-ad84-784ce880bbd2\",\"type\":\"DataRange1d\"},{\"attributes\":{\"callback\":null,\"column_names\":[\"x\",\"y\"],\"data\":{\"x\":[1865,1866,1867,1868,1869,1870,1871,1872,1873,1874,1875,1876,1877,1878,1879,1880,1881,1882,1883,1884,1885,1886,1887,1888,1889,1890,1891,1892,1893,1894,1895,1896,1897,1898,1899,1900,1901,1902,1903,1904,1905,1906,1907,1908,1909,1910,1911,1912,1913,1914,1915,1916,1917,1918,1919,1920,1921,1922,1923,1924,1925,1926,1927,1928,1929,1930,1931,1932,1933,1934,1935,1936,1937,1938,1939,1940,1941,1942,1943,1944,1945,1946,1947,1948,1949,1950,1951,1952,1953,1954,1955,1956,1957,1958,1959,1960,1961,1962,1963,1964,1965,1966,1967,1968,1969,1970,1971,1972,1973,1974,1975,1976,1977,1978,1979,1980,1981,1982,1983,1984,1985,1986,1987,1988,1989,1990,1991,1992,1993,1994,1995,1996,1997,1998,1999,2000,2001,2002,2003,2004,2005,2006,2007,2008,2009,2010,2011,2012,2013,2014,2015,2016],\"y\":{\"__ndarray__\":\"AAAAAACAccAAAAAAAEBiwAAAAAAAIGnAAAAAAABAacAAAAAAAMBowAAAAAAA4G/AAAAAAABgcMAAAAAAAIBpwAAAAAAAQGjAAAAAAABAasAAAAAAAABwwAAAAAAAAGjAAAAAAAAAW8AAAAAAAGBgwAAAAAAAwGfAAAAAAADgY8AAAAAAAABqwAAAAAAAQGbAAAAAAACAZ8AAAAAAAMBlwAAAAAAAQGjAAAAAAADgZsAAAAAAAEBswAAAAAAAoGvAAAAAAACgZsAAAAAAAOBnwAAAAAAAoGPAAAAAAACAY8AAAAAAAABhwAAAAAAAQGHAAAAAAABAZMAAAAAAAOBmwAAAAAAAoGXAAAAAAABgYMAAAAAAAIBgwAAAAAAA4GXAAAAAAADga8AAAAAAAEBwwAAAAAAAoGTAAAAAAACgYMAAAAAAAGBlwAAAAAAAIGDAAAAAAACgY8AAAAAAAABmwAAAAAAAIGDAAAAAAAAAXMAAAAAAAMBhwAAAAAAAgFbAAAAAAACAYMAAAAAAAABYwAAAAAAAwF/AAAAAAACAWMAAAAAAAABjwAAAAAAA4GDAAAAAAAAgYcAAAAAAAGBiwAAAAAAA4GDAAAAAAACAYsAAAAAAAEBfwAAAAAAAAGLAAAAAAACAWcAAAAAAAKBgwAAAAAAAoGDAAAAAAACAXcAAAAAAAABjwAAAAAAAQFnAAAAAAAAAWMAAAAAAAEBbwAAAAAAAwGTAAAAAAAAAZMAAAAAAAEBawAAAAAAAQFfAAAAAAAAAW8AAAAAAAAA3wAAAAAAAIGHAAAAAAACAXcAAAAAAAKBjwAAAAAAA4GHAAAAAAAAAV8AAAAAAAABWwAAAAAAAgFTAAAAAAABAWMAAAAAAAOBmwAAAAAAAAFnAAAAAAACAT8AAAAAAAIBRwAAAAAAAgFfAAAAAAACAU8AAAAAAAMBawAAAAAAAQFDAAAAAAAAATcAAAAAAAABhwAAAAAAAwFzAAAAAAACAU8AAAAAAAEBdwAAAAAAAQFXAAAAAAACAQMAAAAAAAIBVwAAAAAAAYGDAAAAAAABAVsAAAAAAAAA9wAAAAAAAAAjAAAAAAAAAM0AAAAAAAABOwAAAAAAAgFbAAAAAAABAUMAAAAAAAABewAAAAAAAgGDAAAAAAAAAVMAAAAAAAIBUwAAAAAAAAFvAAAAAAABAXsAAAAAAAABFwAAAAAAAgE/AAAAAAACATMAAAAAAAIBFwAAAAAAAABTAAAAAAAAAPcAAAAAAAAAqQAAAAAAAAETAAAAAAAAAQ8AAAAAAAABDwAAAAAAAgEzAAAAAAAAAPkAAAAAAAAAywAAAAAAAADxAAAAAAABAU8AAAAAAAAA9wAAAAAAAgETAAAAAAAAAFEAAAAAAAAAAAAAAAAAAgFvAAAAAAAAAT8AAAAAAAAAyQAAAAAAAACpAAAAAAAAAJkAAAAAAAAAkQAAAAAAAAADAAAAAAAAAKMAAAAAAAAA0QAAAAAAAABzAAAAAAAAAFMAAAAAAAABFQAAAAAAAADFAAAAAAAAAMcAAAAAAAAA+wAAAAAAAADFAAAAAAAAAAEAAAAAAAAA7wAAAAAAAABhAAAAAAAAAQkAAAAAAAAAxQA==\",\"dtype\":\"float64\",\"shape\":[152]}}},\"id\":\"9d1cecbb-d38d-41c1-9ac2-4a45d4f1e2b7\",\"type\":\"ColumnDataSource\"},{\"attributes\":{\"callback\":null,\"column_names\":[\"x\",\"y\"],\"data\":{\"x\":[1865,1866,1867,1868,1869,1870,1871,1872,1873,1874,1875,1876,1877,1878,1879,1880,1881,1882,1883,1884,1885,1886,1887,1888,1889,1890,1891,1892,1893,1894,1895,1896,1897,1898,1899,1900,1901,1902,1903,1904,1905,1906,1907,1908,1909,1910,1911,1912,1913,1914,1915,1916,1917,1918,1919,1920,1921,1922,1923,1924,1925,1926,1927,1928,1929,1930,1931,1932,1933,1934,1935,1936,1937,1938,1939,1940,1941,1942,1943,1944,1945,1946,1947,1948,1949,1950,1951,1952,1953,1954,1955,1956,1957,1958,1959,1960,1961,1962,1963,1964,1965,1966,1967,1968,1969,1970,1971,1972,1973,1974,1975,1976,1977,1978,1979,1980,1981,1982,1983,1984,1985,1986,1987,1988,1989,1990,1991,1992,1993,1994,1995,1996,1997,1998,1999,2000,2001,2002,2003,2004,2005,2006,2007,2008,2009,2010,2011,2012,2013,2014,2015,2016],\"y\":{\"__ndarray__\":\"AAAAAABAZcAAAAAAAEBTwAAAAAAAAEvAAAAAAAAAVsAAAAAAAMBRwAAAAAAAoGTAAAAAAAAgY8AAAAAAAEBdwAAAAAAAgFXAAAAAAACAUsAAAAAAACBkwAAAAAAAQGDAAAAAAAAAMUAAAAAAAIBMwAAAAAAAwGHAAAAAAABAVcAAAAAAAOBiwAAAAAAAgF7AAAAAAABAZcAAAAAAACBjwAAAAAAAYGLAAAAAAADAZMAAAAAAAKBgwAAAAAAAoGTAAAAAAAAgYMAAAAAAAOBiwAAAAAAAwF/AAAAAAADAX8AAAAAAAMBUwAAAAAAAAF3AAAAAAAAAYMAAAAAAAIBewAAAAAAAgF7AAAAAAABAUMAAAAAAAMBWwAAAAAAAAFzAAAAAAABAYMAAAAAAACBkwAAAAAAAAELAAAAAAADAYMAAAAAAAIBowAAAAAAAwFzAAAAAAABAYMAAAAAAAMBewAAAAAAAAFPAAAAAAACAUMAAAAAAAABLwAAAAAAAACxAAAAAAACARsAAAAAAAABEwAAAAAAAAFTAAAAAAAAAIsAAAAAAAEBSwAAAAAAAwFXAAAAAAAAAXMAAAAAAAEBVwAAAAAAAADHAAAAAAAAAU8AAAAAAAABKwAAAAAAAwFXAAAAAAAAAFMAAAAAAAAAxwAAAAAAAgEXAAAAAAAAAPsAAAAAAAEBRwAAAAAAAgEfAAAAAAAAAMcAAAAAAAABBwAAAAAAAwFPAAAAAAACATMAAAAAAAAAswAAAAAAAAC7AAAAAAAAASsAAAAAAAAAUwAAAAAAAAFHAAAAAAACAR8AAAAAAAMBYwAAAAAAAgFPAAAAAAAAAJMAAAAAAAAA1QAAAAAAAADZAAAAAAAAAFMAAAAAAAIBawAAAAAAAACTAAAAAAAAAKkAAAAAAAAA1wAAAAAAAgEfAAAAAAAAAAEAAAAAAAAA7wAAAAAAAADPAAAAAAAAAEEAAAAAAAABEwAAAAAAAADTAAAAAAAAAPsAAAAAAAIBPwAAAAAAAAC7AAAAAAACAVUAAAAAAAAAwQAAAAAAAAD3AAAAAAAAALMAAAAAAAAAAAAAAAAAAAD5AAAAAAADAWUAAAAAAAIBCQAAAAAAAAChAAAAAAAAAT0AAAAAAAAA6QAAAAAAAgEzAAAAAAACAQUAAAAAAAIBBQAAAAAAAABxAAAAAAAAANsAAAAAAAAAuQAAAAAAAAC5AAAAAAAAA8D8AAAAAAIBGQAAAAAAAwFpAAAAAAADAU0AAAAAAAABgQAAAAAAAAD9AAAAAAACAR0AAAAAAAAAzQAAAAAAAADdAAAAAAADAW0AAAAAAAMBSQAAAAAAAAF9AAAAAAAAAIkAAAAAAAIBMQAAAAAAAAEtAAAAAAABAV0AAAAAAAIBaQAAAAAAAgELAAAAAAACAQ0AAAAAAAGBgQAAAAAAAwF5AAAAAAABAXUAAAAAAAIBfQAAAAAAAgFpAAAAAAACAVUAAAAAAAABdQAAAAAAAQFRAAAAAAAAAVEAAAAAAAGBjQAAAAAAAQF1AAAAAAABAVEAAAAAAAMBQQAAAAAAAgF5AAAAAAACAWkAAAAAAAIBUQAAAAAAAgF9AAAAAAABgZkAAAAAAAABiQA==\",\"dtype\":\"float64\",\"shape\":[152]}}},\"id\":\"cbf5fc37-5042-4cc3-9ed5-581d4c607fc1\",\"type\":\"ColumnDataSource\"}],\"root_ids\":[\"868c97f0-4424-43f9-a0f6-e4a1405b6170\"]},\"title\":\"Bokeh Application\",\"version\":\"0.12.10\"}};\n",
       "    var render_items = [{\"docid\":\"77cb3522-ea6d-4dd3-b734-e0d2be7c953f\",\"elementid\":\"ced00216-4cc8-488d-acd4-06add481fcda\",\"modelid\":\"868c97f0-4424-43f9-a0f6-e4a1405b6170\"}];\n",
       "\n",
       "    root.Bokeh.embed.embed_items(docs_json, render_items);\n",
       "  }\n",
       "\n",
       "  if (root.Bokeh !== undefined) {\n",
       "    embed_document(root);\n",
       "  } else {\n",
       "    var attempts = 0;\n",
       "    var timer = setInterval(function(root) {\n",
       "      if (root.Bokeh !== undefined) {\n",
       "        embed_document(root);\n",
       "        clearInterval(timer);\n",
       "      }\n",
       "      attempts++;\n",
       "      if (attempts > 100) {\n",
       "        console.log(\"Bokeh: ERROR: Unable to embed document because BokehJS library is missing\")\n",
       "        clearInterval(timer);\n",
       "      }\n",
       "    }, 10, root)\n",
       "  }\n",
       "})(window);"
      ],
      "application/vnd.bokehjs_exec.v0+json": ""
     },
     "metadata": {
      "application/vnd.bokehjs_exec.v0+json": {
       "id": "868c97f0-4424-43f9-a0f6-e4a1405b6170"
      }
     },
     "output_type": "display_data"
    }
   ],
   "source": [
    "p = bokeh.plotting.figure(x_range=(1860, 2020), plot_width=900, plot_height=400)\n",
    "colors = bokeh.palettes.Accent6\n",
    "\n",
    "for color, (name, station) in zip(colors, selected_stations.iterrows()):\n",
    "    df = station[default_dataset_name]\n",
    "    df = df[df.year >= 1890]\n",
    "    fit, names = linear_model(df, with_season=False)\n",
    "    smry = fit.summary(xname=names, title=station['name'])\n",
    "    # somehow a formatted name is not showing up\n",
    "    print(station['name'])\n",
    "\n",
    "    IPython.display.display(smry.tables[1])\n",
    "    p.circle(station[default_dataset_name].year, station[default_dataset_name].height, alpha=0.1, color=color)\n",
    "# loop again so we have the lines on top\n",
    "for color, (name, station) in zip(colors, selected_stations.iterrows()):\n",
    "    df = station[default_dataset_name][station[default_dataset_name].year >= 1890]\n",
    "    # ignore wind in the plots \n",
    "    fit, names = linear_model(df,with_season=False)\n",
    "    p.line(\n",
    "        fit.model.exog[:, 1] + 1970, \n",
    "        fit.predict(), \n",
    "        line_width=3, \n",
    "        alpha=0.8,\n",
    "        legend=station['name'],\n",
    "        color=color\n",
    "    )\n",
    "p.legend.click_policy = \"hide\"\n",
    "\n",
    "bokeh.io.show(p)\n"
   ]
  },
  {
   "cell_type": "markdown",
   "metadata": {},
   "source": [
    "Is there a sea-level acceleration?\n",
    "==================\n",
    "\n",
    "The following section computes two common models to detect sea-level acceleration.  The broken linear model expects that sea level has been rising faster since 1990. The quadratic model assumes that the sea-level is accelerating continuously. Both models are compared to the linear model. The extra terms are tested for significance and the AIC is computed to see which model is \"better\". "
   ]
  },
  {
   "cell_type": "code",
   "execution_count": 22,
   "metadata": {},
   "outputs": [],
   "source": [
    "# define the statistical model\n",
    "def broken_linear_model(df):\n",
    "    \"\"\"This model fits the sea-level rise has started to rise faster in 1993.\"\"\"\n",
    "    y = df['height']\n",
    "    X = np.c_[\n",
    "        df['year']-1970, \n",
    "        (df['year'] > 1990) * (df['year'] - 1990),\n",
    "        np.cos(2*np.pi*(df['year']-1970)/18.613),\n",
    "        np.sin(2*np.pi*(df['year']-1970)/18.613)\n",
    "    ]\n",
    "    X = sm.add_constant(X)\n",
    "    model_broken_linear = sm.OLS(y, X)\n",
    "    fit = model_broken_linear.fit()\n",
    "    return fit\n",
    "broken_linear_fit = broken_linear_model(mean_df)"
   ]
  },
  {
   "cell_type": "code",
   "execution_count": 23,
   "metadata": {},
   "outputs": [],
   "source": [
    "# define the statistical model\n",
    "def quadratic_model(df):\n",
    "    \"\"\"This model computes a parabolic linear fit. This corresponds to the hypothesis that sea-level is accelerating.\"\"\"\n",
    "    y = df['height']\n",
    "    X = np.c_[\n",
    "        df['year']-1970, \n",
    "        (df['year'] - 1970) * (df['year'] - 1970),\n",
    "        np.cos(2*np.pi*(df['year']-1970)/18.613),\n",
    "        np.sin(2*np.pi*(df['year']-1970)/18.613)\n",
    "    ]\n",
    "    X = sm.add_constant(X)\n",
    "    model_quadratic = sm.OLS(y, X)\n",
    "    fit = model_quadratic.fit()\n",
    "    return fit\n",
    "quadratic_fit = quadratic_model(mean_df)"
   ]
  },
  {
   "cell_type": "code",
   "execution_count": 24,
   "metadata": {},
   "outputs": [
    {
     "data": {
      "text/html": [
       "<table class=\"simpletable\">\n",
       "<caption>OLS Regression Results</caption>\n",
       "<tr>\n",
       "  <th>Dep. Variable:</th>    <td>Sea-surface height</td> <th>  R-squared:         </th> <td>   0.772</td>\n",
       "</tr>\n",
       "<tr>\n",
       "  <th>Model:</th>                    <td>OLS</td>        <th>  Adj. R-squared:    </th> <td>   0.764</td>\n",
       "</tr>\n",
       "<tr>\n",
       "  <th>Method:</th>              <td>Least Squares</td>   <th>  F-statistic:       </th> <td>   103.1</td>\n",
       "</tr>\n",
       "<tr>\n",
       "  <th>Date:</th>              <td>Thu, 21 Jun 2018</td>  <th>  Prob (F-statistic):</th> <td>3.50e-38</td>\n",
       "</tr>\n",
       "<tr>\n",
       "  <th>Time:</th>                  <td>16:33:56</td>      <th>  Log-Likelihood:    </th> <td> -627.34</td>\n",
       "</tr>\n",
       "<tr>\n",
       "  <th>No. Observations:</th>       <td>   127</td>       <th>  AIC:               </th> <td>   1265.</td>\n",
       "</tr>\n",
       "<tr>\n",
       "  <th>Df Residuals:</th>           <td>   122</td>       <th>  BIC:               </th> <td>   1279.</td>\n",
       "</tr>\n",
       "<tr>\n",
       "  <th>Df Model:</th>               <td>     4</td>       <th>                     </th>     <td> </td>   \n",
       "</tr>\n",
       "<tr>\n",
       "  <th>Covariance Type:</th>       <td>nonrobust</td>     <th>                     </th>     <td> </td>   \n",
       "</tr>\n",
       "</table>\n",
       "<table class=\"simpletable\">\n",
       "<tr>\n",
       "           <td></td>             <th>coef</th>     <th>std err</th>      <th>t</th>      <th>P>|t|</th>  <th>[0.025</th>    <th>0.975]</th>  \n",
       "</tr>\n",
       "<tr>\n",
       "  <th>Constant</th>           <td>    7.2680</td> <td>    4.456</td> <td>    1.631</td> <td> 0.105</td> <td>   -1.552</td> <td>   16.088</td>\n",
       "</tr>\n",
       "<tr>\n",
       "  <th>Trend</th>              <td>    1.5937</td> <td>    0.109</td> <td>   14.622</td> <td> 0.000</td> <td>    1.378</td> <td>    1.809</td>\n",
       "</tr>\n",
       "<tr>\n",
       "  <th>Trend(year > 1990)</th> <td>    0.9422</td> <td>    0.625</td> <td>    1.508</td> <td> 0.134</td> <td>   -0.294</td> <td>    2.179</td>\n",
       "</tr>\n",
       "<tr>\n",
       "  <th>Nodal U</th>            <td>    5.4104</td> <td>    4.359</td> <td>    1.241</td> <td> 0.217</td> <td>   -3.219</td> <td>   14.039</td>\n",
       "</tr>\n",
       "<tr>\n",
       "  <th>Nodal V</th>            <td>  -10.7858</td> <td>    4.341</td> <td>   -2.484</td> <td> 0.014</td> <td>  -19.380</td> <td>   -2.192</td>\n",
       "</tr>\n",
       "</table>\n",
       "<table class=\"simpletable\">\n",
       "<tr>\n",
       "  <th>Omnibus:</th>       <td> 1.793</td> <th>  Durbin-Watson:     </th> <td>   1.890</td>\n",
       "</tr>\n",
       "<tr>\n",
       "  <th>Prob(Omnibus):</th> <td> 0.408</td> <th>  Jarque-Bera (JB):  </th> <td>   1.297</td>\n",
       "</tr>\n",
       "<tr>\n",
       "  <th>Skew:</th>          <td>-0.182</td> <th>  Prob(JB):          </th> <td>   0.523</td>\n",
       "</tr>\n",
       "<tr>\n",
       "  <th>Kurtosis:</th>      <td> 3.337</td> <th>  Cond. No.          </th> <td>    59.4</td>\n",
       "</tr>\n",
       "</table>"
      ],
      "text/plain": [
       "<class 'statsmodels.iolib.summary.Summary'>\n",
       "\"\"\"\n",
       "                            OLS Regression Results                            \n",
       "==============================================================================\n",
       "Dep. Variable:     Sea-surface height   R-squared:                       0.772\n",
       "Model:                            OLS   Adj. R-squared:                  0.764\n",
       "Method:                 Least Squares   F-statistic:                     103.1\n",
       "Date:                Thu, 21 Jun 2018   Prob (F-statistic):           3.50e-38\n",
       "Time:                        16:33:56   Log-Likelihood:                -627.34\n",
       "No. Observations:                 127   AIC:                             1265.\n",
       "Df Residuals:                     122   BIC:                             1279.\n",
       "Df Model:                           4                                         \n",
       "Covariance Type:            nonrobust                                         \n",
       "======================================================================================\n",
       "                         coef    std err          t      P>|t|      [0.025      0.975]\n",
       "--------------------------------------------------------------------------------------\n",
       "Constant               7.2680      4.456      1.631      0.105      -1.552      16.088\n",
       "Trend                  1.5937      0.109     14.622      0.000       1.378       1.809\n",
       "Trend(year > 1990)     0.9422      0.625      1.508      0.134      -0.294       2.179\n",
       "Nodal U                5.4104      4.359      1.241      0.217      -3.219      14.039\n",
       "Nodal V              -10.7858      4.341     -2.484      0.014     -19.380      -2.192\n",
       "==============================================================================\n",
       "Omnibus:                        1.793   Durbin-Watson:                   1.890\n",
       "Prob(Omnibus):                  0.408   Jarque-Bera (JB):                1.297\n",
       "Skew:                          -0.182   Prob(JB):                        0.523\n",
       "Kurtosis:                       3.337   Cond. No.                         59.4\n",
       "==============================================================================\n",
       "\n",
       "Warnings:\n",
       "[1] Standard Errors assume that the covariance matrix of the errors is correctly specified.\n",
       "\"\"\""
      ]
     },
     "execution_count": 24,
     "metadata": {},
     "output_type": "execute_result"
    }
   ],
   "source": [
    "# summary of the broken linear model\n",
    "broken_linear_fit.summary(yname='Sea-surface height', xname=['Constant', 'Trend', 'Trend(year > 1990)', 'Nodal U', 'Nodal V'])\n"
   ]
  },
  {
   "cell_type": "code",
   "execution_count": 25,
   "metadata": {},
   "outputs": [
    {
     "data": {
      "text/html": [
       "<table class=\"simpletable\">\n",
       "<caption>OLS Regression Results</caption>\n",
       "<tr>\n",
       "  <th>Dep. Variable:</th>    <td>Sea-surface height</td> <th>  R-squared:         </th> <td>   0.768</td>\n",
       "</tr>\n",
       "<tr>\n",
       "  <th>Model:</th>                    <td>OLS</td>        <th>  Adj. R-squared:    </th> <td>   0.761</td>\n",
       "</tr>\n",
       "<tr>\n",
       "  <th>Method:</th>              <td>Least Squares</td>   <th>  F-statistic:       </th> <td>   101.0</td>\n",
       "</tr>\n",
       "<tr>\n",
       "  <th>Date:</th>              <td>Thu, 21 Jun 2018</td>  <th>  Prob (F-statistic):</th> <td>9.10e-38</td>\n",
       "</tr>\n",
       "<tr>\n",
       "  <th>Time:</th>                  <td>16:33:56</td>      <th>  Log-Likelihood:    </th> <td> -628.34</td>\n",
       "</tr>\n",
       "<tr>\n",
       "  <th>No. Observations:</th>       <td>   127</td>       <th>  AIC:               </th> <td>   1267.</td>\n",
       "</tr>\n",
       "<tr>\n",
       "  <th>Df Residuals:</th>           <td>   122</td>       <th>  BIC:               </th> <td>   1281.</td>\n",
       "</tr>\n",
       "<tr>\n",
       "  <th>Df Model:</th>               <td>     4</td>       <th>                     </th>     <td> </td>   \n",
       "</tr>\n",
       "<tr>\n",
       "  <th>Covariance Type:</th>       <td>nonrobust</td>     <th>                     </th>     <td> </td>   \n",
       "</tr>\n",
       "</table>\n",
       "<table class=\"simpletable\">\n",
       "<tr>\n",
       "      <td></td>        <th>coef</th>     <th>std err</th>      <th>t</th>      <th>P>|t|</th>  <th>[0.025</th>    <th>0.975]</th>  \n",
       "</tr>\n",
       "<tr>\n",
       "  <th>Constant</th> <td>   10.0778</td> <td>    4.350</td> <td>    2.317</td> <td> 0.022</td> <td>    1.467</td> <td>   18.689</td>\n",
       "</tr>\n",
       "<tr>\n",
       "  <th>Trend</th>    <td>    1.7494</td> <td>    0.122</td> <td>   14.381</td> <td> 0.000</td> <td>    1.509</td> <td>    1.990</td>\n",
       "</tr>\n",
       "<tr>\n",
       "  <th>Trend**2</th> <td>    0.0015</td> <td>    0.003</td> <td>    0.581</td> <td> 0.563</td> <td>   -0.004</td> <td>    0.007</td>\n",
       "</tr>\n",
       "<tr>\n",
       "  <th>Nodal U</th>  <td>    5.2258</td> <td>    4.399</td> <td>    1.188</td> <td> 0.237</td> <td>   -3.483</td> <td>   13.935</td>\n",
       "</tr>\n",
       "<tr>\n",
       "  <th>Nodal V</th>  <td>  -10.2945</td> <td>    4.361</td> <td>   -2.361</td> <td> 0.020</td> <td>  -18.928</td> <td>   -1.661</td>\n",
       "</tr>\n",
       "</table>\n",
       "<table class=\"simpletable\">\n",
       "<tr>\n",
       "  <th>Omnibus:</th>       <td> 2.391</td> <th>  Durbin-Watson:     </th> <td>   1.860</td>\n",
       "</tr>\n",
       "<tr>\n",
       "  <th>Prob(Omnibus):</th> <td> 0.303</td> <th>  Jarque-Bera (JB):  </th> <td>   1.860</td>\n",
       "</tr>\n",
       "<tr>\n",
       "  <th>Skew:</th>          <td>-0.249</td> <th>  Prob(JB):          </th> <td>   0.395</td>\n",
       "</tr>\n",
       "<tr>\n",
       "  <th>Kurtosis:</th>      <td> 3.322</td> <th>  Cond. No.          </th> <td>3.43e+03</td>\n",
       "</tr>\n",
       "</table>"
      ],
      "text/plain": [
       "<class 'statsmodels.iolib.summary.Summary'>\n",
       "\"\"\"\n",
       "                            OLS Regression Results                            \n",
       "==============================================================================\n",
       "Dep. Variable:     Sea-surface height   R-squared:                       0.768\n",
       "Model:                            OLS   Adj. R-squared:                  0.761\n",
       "Method:                 Least Squares   F-statistic:                     101.0\n",
       "Date:                Thu, 21 Jun 2018   Prob (F-statistic):           9.10e-38\n",
       "Time:                        16:33:56   Log-Likelihood:                -628.34\n",
       "No. Observations:                 127   AIC:                             1267.\n",
       "Df Residuals:                     122   BIC:                             1281.\n",
       "Df Model:                           4                                         \n",
       "Covariance Type:            nonrobust                                         \n",
       "==============================================================================\n",
       "                 coef    std err          t      P>|t|      [0.025      0.975]\n",
       "------------------------------------------------------------------------------\n",
       "Constant      10.0778      4.350      2.317      0.022       1.467      18.689\n",
       "Trend          1.7494      0.122     14.381      0.000       1.509       1.990\n",
       "Trend**2       0.0015      0.003      0.581      0.563      -0.004       0.007\n",
       "Nodal U        5.2258      4.399      1.188      0.237      -3.483      13.935\n",
       "Nodal V      -10.2945      4.361     -2.361      0.020     -18.928      -1.661\n",
       "==============================================================================\n",
       "Omnibus:                        2.391   Durbin-Watson:                   1.860\n",
       "Prob(Omnibus):                  0.303   Jarque-Bera (JB):                1.860\n",
       "Skew:                          -0.249   Prob(JB):                        0.395\n",
       "Kurtosis:                       3.322   Cond. No.                     3.43e+03\n",
       "==============================================================================\n",
       "\n",
       "Warnings:\n",
       "[1] Standard Errors assume that the covariance matrix of the errors is correctly specified.\n",
       "[2] The condition number is large, 3.43e+03. This might indicate that there are\n",
       "strong multicollinearity or other numerical problems.\n",
       "\"\"\""
      ]
     },
     "execution_count": 25,
     "metadata": {},
     "output_type": "execute_result"
    }
   ],
   "source": [
    "# summary of the quadratic model\n",
    "quadratic_fit.summary(yname='Sea-surface height', xname=['Constant', 'Trend', 'Trend**2', 'Nodal U', 'Nodal V'])\n"
   ]
  },
  {
   "cell_type": "code",
   "execution_count": 26,
   "metadata": {
    "scrolled": true
   },
   "outputs": [
    {
     "data": {
      "text/html": [
       "\n",
       "<div class=\"bk-root\">\n",
       "    <div class=\"bk-plotdiv\" id=\"81a79ef8-0e25-4ebc-9f17-8532be2b1b6f\"></div>\n",
       "</div>"
      ]
     },
     "metadata": {},
     "output_type": "display_data"
    },
    {
     "data": {
      "application/javascript": [
       "(function(root) {\n",
       "  function embed_document(root) {\n",
       "    var docs_json = {\"0d9924c3-abf6-45ac-8d09-30fd6a803fb4\":{\"roots\":{\"references\":[{\"attributes\":{\"line_alpha\":{\"value\":0.1},\"line_color\":{\"value\":\"#1f77b4\"},\"line_width\":{\"value\":3},\"x\":{\"field\":\"x\"},\"y\":{\"field\":\"y\"}},\"id\":\"92c640ec-6c67-4423-96ae-f7202290bc23\",\"type\":\"Line\"},{\"attributes\":{\"plot\":null,\"text\":\"\"},\"id\":\"9f566e98-6bdd-4993-a350-f30aa10135a5\",\"type\":\"Title\"},{\"attributes\":{\"click_policy\":\"hide\",\"items\":[{\"id\":\"049fc03a-f8ef-4494-aa4f-494fbd1ac45a\",\"type\":\"LegendItem\"},{\"id\":\"699ae348-3b5d-4f7f-9341-9f3d20d62be7\",\"type\":\"LegendItem\"},{\"id\":\"6a380e33-d98c-4292-9140-3637c02b92f5\",\"type\":\"LegendItem\"},{\"id\":\"9b9ee829-bb9e-4039-afae-91f325c3f209\",\"type\":\"LegendItem\"}],\"location\":\"top_left\",\"plot\":{\"id\":\"10806844-a853-4411-9941-354bee583f8e\",\"subtype\":\"Figure\",\"type\":\"Plot\"}},\"id\":\"9f13be47-d253-432e-84ea-611b1993098e\",\"type\":\"Legend\"},{\"attributes\":{\"source\":{\"id\":\"0ff67f8f-befb-4bf5-85f2-5c3b5b78af23\",\"type\":\"ColumnDataSource\"}},\"id\":\"a4f59ac5-59c7-4353-8604-ef9118cf6f75\",\"type\":\"CDSView\"},{\"attributes\":{\"callback\":null,\"column_names\":[\"x\",\"y\"],\"data\":{\"x\":[1890,1891,1892,1893,1894,1895,1896,1897,1898,1899,1900,1901,1902,1903,1904,1905,1906,1907,1908,1909,1910,1911,1912,1913,1914,1915,1916,1917,1918,1919,1920,1921,1922,1923,1924,1925,1926,1927,1928,1929,1930,1931,1932,1933,1934,1935,1936,1937,1938,1939,1940,1941,1942,1943,1944,1945,1946,1947,1948,1949,1950,1951,1952,1953,1954,1955,1956,1957,1958,1959,1960,1961,1962,1963,1964,1965,1966,1967,1968,1969,1970,1971,1972,1973,1974,1975,1976,1977,1978,1979,1980,1981,1982,1983,1984,1985,1986,1987,1988,1989,1990,1991,1992,1993,1994,1995,1996,1997,1998,1999,2000,2001,2002,2003,2004,2005,2006,2007,2008,2009,2010,2011,2012,2013,2014,2015,2016],\"y\":{\"__ndarray__\":\"clRncCsFXcDyj+IvEAlcwIjtK2QRWFvA74njPeT5WsB07zfJ5OxawBh+4FRFJlvAGMbIn0aTW8DGi7GQVRtcwG3xRVLRolzAsftBrCkOXcDNJ4h8+0RdwN7SM2nRNF3AZ+23QDnTXMBNTpTT8R5cwK53VjUPIFvA1zRNTRHnWcCKeUgQB4tYwKjFTjT0JlfAmXWuk8TWVcCQxxJcJbRUwJvYbhuf01PAllEtakRCU8DBZ7QrOARTwNa2rQg2FFPA2RHMoCpkU8CH1DxGyt5TwCh8zVn4aVTA2CtI0rnpVMCR8hrEXUNVwDTT8aWAYFXAXMCkQ5MxVcAN4C9ZnK9UwNcq4RUC3VPAsDnQyETFUsB0WOKJsntRwKnoq2I5GVDAKMYp3S1zTcCkTX+EbfBKwBzoWyo02kjAjm4qOkRUR8C1IOjMFnJGwIZkXveoNEbAVOAUOV+KRsBih3JFAlFHwMx5JLmbWUjA8HL9IcNtScCHnG8swlVKwErX24De3krA0vjwmRPhSsApBScfl0NKwLLNQT2l/0jAbKpFIUQhR8BgGEGF6MVEwErq3IYiGULABy3htWWfPsChEuToLEM5wHXM3FxphzTAC/pTLM3DMMB0Z5GMD2gswGal8IQS4inAzPg9jGPcKcBmjciffPUrwPI7hnuTji/Awf6uAcPuMcDdVWqP1QE0wEcxm156kzXAv3wyYkZFNsCWaAXZEtI1wEAW/4HLFTTApbCoJ4ERMcDAUSKrldYpwICwUsXkpx/ANsFjnsFoA8AQb9Ahzu4IQCepkcOPjyBAZ5ZjVSFZKUCSdBXFpvwvQJzFLGg6DjJAGl78isTRMkDgQ/SV9GMyQDa+Ps1EAjFAoVwM8GwLLkBGiIf2i7EpQMmQeabL1iVAypFNe7dMI0ADawNt2r4iQAHnxwVinyRAw+HdFjsaKUD4LL46DggwQE+MKoIHjTRAij5Rf4bKOUC38zZXNFo/QJvhPLU5ZkJAx3R8S3zaREDeL9c8gttGQLRbu7ztR0hAzOsIDCcPSUDwAkrwOzNJQHzQ9VqkyEhADlug8/LzR0DzuvhHtOVGQK7CUuvz1EVAS6pf3wX5REAcF+3PR4NEQD6gwJeOmURASihFEuFRRUCYqq6e+69GQBZzlCzkpEhATGJcAZsQS0A4cBNdt8VNQHj2DtBDR1BAh03rapCZUUD1vVJB179SQNkekCkmpVNA2daAT+A7VEC0KneOR39UQMgeNX0FdFRATHbis6QnVEAatRCBCa9TQPXQoTgWJFNAk/TkQL+iUkCnzrJK40VSQCkyPOJCJFJALYlz/O5NUkD4kLm2eMpSQF/3168WmFNAhnp8qNirVEA=\",\"dtype\":\"float64\",\"shape\":[127]}}},\"id\":\"0ff67f8f-befb-4bf5-85f2-5c3b5b78af23\",\"type\":\"ColumnDataSource\"},{\"attributes\":{\"label\":{\"value\":\"Mean\"},\"renderers\":[{\"id\":\"97f9b074-b8d5-4368-81ae-ee22e302d401\",\"type\":\"GlyphRenderer\"}]},\"id\":\"049fc03a-f8ef-4494-aa4f-494fbd1ac45a\",\"type\":\"LegendItem\"},{\"attributes\":{\"line_color\":{\"value\":\"#1f77b4\"},\"line_width\":{\"value\":3},\"x\":{\"field\":\"x\"},\"y\":{\"field\":\"y\"}},\"id\":\"da03efc7-c0a9-4087-b39e-db0ff2b99aeb\",\"type\":\"Line\"},{\"attributes\":{\"below\":[{\"id\":\"9eed3e13-abbd-4066-9872-91d84f3f1bd5\",\"type\":\"LinearAxis\"}],\"left\":[{\"id\":\"a3f766ab-6378-42ab-84c2-8c5be260eccf\",\"type\":\"LinearAxis\"}],\"plot_height\":300,\"plot_width\":900,\"renderers\":[{\"id\":\"9eed3e13-abbd-4066-9872-91d84f3f1bd5\",\"type\":\"LinearAxis\"},{\"id\":\"35aba644-b2fb-48eb-b7cb-a6da6e8e9fe2\",\"type\":\"Grid\"},{\"id\":\"a3f766ab-6378-42ab-84c2-8c5be260eccf\",\"type\":\"LinearAxis\"},{\"id\":\"7a984a2f-3ca6-43ec-b916-fbdd181cb9f2\",\"type\":\"Grid\"},{\"id\":\"4dce5c88-fd53-40dd-878a-8f602a1cb90e\",\"type\":\"BoxAnnotation\"},{\"id\":\"9f13be47-d253-432e-84ea-611b1993098e\",\"type\":\"Legend\"},{\"id\":\"97f9b074-b8d5-4368-81ae-ee22e302d401\",\"type\":\"GlyphRenderer\"},{\"id\":\"2cd609a9-d89b-4838-b401-0fb5252ee165\",\"type\":\"GlyphRenderer\"},{\"id\":\"7b05e40c-2a99-4666-986f-181ff38e4c87\",\"type\":\"GlyphRenderer\"},{\"id\":\"5045ae82-9719-4833-939a-a42c39e9e622\",\"type\":\"GlyphRenderer\"}],\"title\":{\"id\":\"9f566e98-6bdd-4993-a350-f30aa10135a5\",\"type\":\"Title\"},\"toolbar\":{\"id\":\"0145f520-5acc-4030-ba6b-ea4faac13547\",\"type\":\"Toolbar\"},\"x_range\":{\"id\":\"cd85fbaa-e0c0-46c2-9522-8a025568c7ea\",\"type\":\"Range1d\"},\"x_scale\":{\"id\":\"09ea015c-ac03-4034-b03e-6e84e4cb256e\",\"type\":\"LinearScale\"},\"y_range\":{\"id\":\"e10559ac-8805-4e6a-b035-2d38a5ca055a\",\"type\":\"DataRange1d\"},\"y_scale\":{\"id\":\"fa17197a-6712-4dfb-833e-9accccf1beac\",\"type\":\"LinearScale\"}},\"id\":\"10806844-a853-4411-9941-354bee583f8e\",\"subtype\":\"Figure\",\"type\":\"Plot\"},{\"attributes\":{\"label\":{\"value\":\"Broken\"},\"renderers\":[{\"id\":\"7b05e40c-2a99-4666-986f-181ff38e4c87\",\"type\":\"GlyphRenderer\"}]},\"id\":\"6a380e33-d98c-4292-9140-3637c02b92f5\",\"type\":\"LegendItem\"},{\"attributes\":{\"callback\":null,\"column_names\":[\"x\",\"y\"],\"data\":{\"x\":[1890,1891,1892,1893,1894,1895,1896,1897,1898,1899,1900,1901,1902,1903,1904,1905,1906,1907,1908,1909,1910,1911,1912,1913,1914,1915,1916,1917,1918,1919,1920,1921,1922,1923,1924,1925,1926,1927,1928,1929,1930,1931,1932,1933,1934,1935,1936,1937,1938,1939,1940,1941,1942,1943,1944,1945,1946,1947,1948,1949,1950,1951,1952,1953,1954,1955,1956,1957,1958,1959,1960,1961,1962,1963,1964,1965,1966,1967,1968,1969,1970,1971,1972,1973,1974,1975,1976,1977,1978,1979,1980,1981,1982,1983,1984,1985,1986,1987,1988,1989,1990,1991,1992,1993,1994,1995,1996,1997,1998,1999,2000,2001,2002,2003,2004,2005,2006,2007,2008,2009,2010,2011,2012,2013,2014,2015,2016],\"y\":{\"__ndarray__\":\"sW1vnGXiW8BlyzmASepawNmh2t5uQVrAIIQcsGHvWcAERRSr4fFZwGRAgFIjPVrAKPcuyCS9WsBXn+Xu71dbwKcLBJmI8FvA/AeTFjJqXMBhqq+YratcwFroW68TolzAhwpDivZCXMBWIuBTj41bwERcBKPUilrA/gs2endMWcBEPBAR5OpXwA+6shuAglbAhRHUOHYwVcB4L7claw9UwPY9jNl7NFPAgrIgb9usUsBd/P65VXxSwNAWdpThnFLAGdVLSE//UsC5pV1i/4xTwIUJ0WhwKlTAY3Qfqlm6VMBrKiJu+SBVwOalfwU3R1XAYfcULz4dVcB6cjl+SJxUwIiKzyBhx1PAZkgL7AyrUsCrD1id4FtRwLWy10hc6E/AJlKsLhgiTcAmQrdSGp5KwELPmwkNjkjAng3Kc4QWR8ChT/OC3UpGwBuCynUOK0bAz2Hm8aejRsB9NfSbBpBHwKrWWcp1vkjAAQsQ0sv1ScC5dUPO3ftKwD97xnAQnEvAdjNjIkitS8BsPF3djBZLwFId1K3b0UnAV791Z9TsR8CNGvn0L4dFwE6QdrErz0LAWh55hqL4P8ABzveSY5I6wJjrsQOT2TXAM3qC2JUoMsD4/mETE3gvwLKC0fvYVy3ADOjUbdHRLcBDJFv3Dj4wwF1UdVzQVjLAOmIoxInINMA6TQAzjR43wNlvg2lN5zjAA2x7Fy/BOcCTW1ZPjWU5wGDoqN2ysDfAgfcKGuKlNMADHOC59m4wwCpPw4xYrybAB51j80YUF8DAqvY7rhDFvwWW4//mFBRA/UuLcHLCIkB3gM0t5DMpQOliZ0G0AC1AO4ZLNC4XLkD45ycp/bMsQBwhe8dSWylAmvV2WPvJJEAKUuaCHMAfQAovQE5FDxdAcnQeRMY0EUCUR6ko8CMPQOGT1ZlUDhNA8tUIG1b9G0Bmh1GOhQolQNvfuIY3Oy5ACvxrp6VxNEBDvWwWdhU6QM+HC4AhlD9Al7Gw1HY+QkAu3FKHBThEQOa5F7iylEVAQ/JAhSlERkBRrD02oklGQETnOzGFu0VAFiq3e+PAREDGfCrcDY1DQDs2umlj0kJA0VWlBABSQkATiwTwBD9CQBxievw5wEJAyD9G7azrQ0A009wzNMRFQDoAjPAcOUhAA0CSeQ0oS0AO4YDx5WBOQKJMg3GX1VBAiPR/dTxmUkAD8gyiesdTQKXP103E41RAmcqsV1StVUDp6eMMvB9WQD7Fsj1jQFZAsBxlCuwdVkAcYQELjM5VQAdC6ouKbVVAwKDtTywYVUAqANvQZepUQIpQbHWz+1RAEXhz6nJcVUC8vKs5ChRWQCEfdP8RIFdA2+kk4Zp0WEA=\",\"dtype\":\"float64\",\"shape\":[127]}}},\"id\":\"cd2805bd-7df6-47a1-9649-202369a06508\",\"type\":\"ColumnDataSource\"},{\"attributes\":{\"line_color\":{\"value\":\"#3333bb\"},\"line_width\":{\"value\":3},\"x\":{\"field\":\"x\"},\"y\":{\"field\":\"y\"}},\"id\":\"3f5526b5-380e-490a-8dda-d9ad3f857607\",\"type\":\"Line\"},{\"attributes\":{\"line_alpha\":{\"value\":0.1},\"line_color\":{\"value\":\"#1f77b4\"},\"line_width\":{\"value\":3},\"x\":{\"field\":\"x\"},\"y\":{\"field\":\"y\"}},\"id\":\"1f61ad3e-9c2b-4043-a61c-e44933abb893\",\"type\":\"Line\"},{\"attributes\":{\"data_source\":{\"id\":\"cfe591a5-e563-4e17-85dd-549c83d410f4\",\"type\":\"ColumnDataSource\"},\"glyph\":{\"id\":\"9b9e7399-a3c1-4811-b312-5e026a5f0ba4\",\"type\":\"Circle\"},\"hover_glyph\":null,\"muted_glyph\":null,\"nonselection_glyph\":{\"id\":\"4dbccdef-04ac-4009-b89f-d3eff0ce1ee4\",\"type\":\"Circle\"},\"selection_glyph\":null,\"view\":{\"id\":\"5990fcd1-c018-4ecc-9c1d-62b75a835ae3\",\"type\":\"CDSView\"}},\"id\":\"97f9b074-b8d5-4368-81ae-ee22e302d401\",\"type\":\"GlyphRenderer\"},{\"attributes\":{\"data_source\":{\"id\":\"0ff67f8f-befb-4bf5-85f2-5c3b5b78af23\",\"type\":\"ColumnDataSource\"},\"glyph\":{\"id\":\"da03efc7-c0a9-4087-b39e-db0ff2b99aeb\",\"type\":\"Line\"},\"hover_glyph\":null,\"muted_glyph\":null,\"nonselection_glyph\":{\"id\":\"1f61ad3e-9c2b-4043-a61c-e44933abb893\",\"type\":\"Line\"},\"selection_glyph\":null,\"view\":{\"id\":\"a4f59ac5-59c7-4353-8604-ef9118cf6f75\",\"type\":\"CDSView\"}},\"id\":\"2cd609a9-d89b-4838-b401-0fb5252ee165\",\"type\":\"GlyphRenderer\"},{\"attributes\":{\"active_drag\":\"auto\",\"active_inspect\":\"auto\",\"active_scroll\":\"auto\",\"active_tap\":\"auto\",\"tools\":[{\"id\":\"65b7fc63-e087-4568-9e47-62b41aa162dd\",\"type\":\"PanTool\"},{\"id\":\"cb818349-b331-4297-9047-1d3bf7e96943\",\"type\":\"WheelZoomTool\"},{\"id\":\"e6932eed-4923-4961-9eec-0b90002c5590\",\"type\":\"BoxZoomTool\"},{\"id\":\"58e0c452-c6f6-4517-b2ca-f1b3983ca25f\",\"type\":\"SaveTool\"},{\"id\":\"99c52ecf-99a7-43a0-8cdb-a86ec3c70384\",\"type\":\"ResetTool\"},{\"id\":\"baab5377-4b83-422e-b098-a90bc55a6e45\",\"type\":\"HelpTool\"}]},\"id\":\"0145f520-5acc-4030-ba6b-ea4faac13547\",\"type\":\"Toolbar\"},{\"attributes\":{\"callback\":null,\"column_names\":[\"x\",\"y\"],\"data\":{\"x\":[1890,1891,1892,1893,1894,1895,1896,1897,1898,1899,1900,1901,1902,1903,1904,1905,1906,1907,1908,1909,1910,1911,1912,1913,1914,1915,1916,1917,1918,1919,1920,1921,1922,1923,1924,1925,1926,1927,1928,1929,1930,1931,1932,1933,1934,1935,1936,1937,1938,1939,1940,1941,1942,1943,1944,1945,1946,1947,1948,1949,1950,1951,1952,1953,1954,1955,1956,1957,1958,1959,1960,1961,1962,1963,1964,1965,1966,1967,1968,1969,1970,1971,1972,1973,1974,1975,1976,1977,1978,1979,1980,1981,1982,1983,1984,1985,1986,1987,1988,1989,1990,1991,1992,1993,1994,1995,1996,1997,1998,1999,2000,2001,2002,2003,2004,2005,2006,2007,2008,2009,2010,2011,2012,2013,2014,2015,2016],\"y\":{\"__ndarray__\":\"9VR1QpACXMBlcSadBRVbwGshymXzclrA8DbLN7MjWsCBDPb4PyVawIl+szdwbFrAJj30szjmWsBPc86q0nlbwHbXbMeHC1zAG85q6dJ/XMCU0Vxde75cwGSMwcRQtVzAc3vRrDhaXMDDOraAUqxbwAAYEOMQtFrAJi9IkkWCWcAFkXNlOy5YwOH1nz0V01bAqWxC5L2MVcA/oxhZwXRUwE4a1Z1qn1PAErzMUnkZU8D/CPZUseZSwCySC/JtAVPAsnSb+kRbU8AaYOpJp95TwD+7jr9PcVTAzNE6WTr3VMBdFq29zVVVwL8mKtjbdlXAQ5zDwiJLVcA7ZnynBcxUwL+fmtRL/FPAdAq1ctDnUsDYqoTsK6JRwJF4HbR9RFDAtLu9nizVTcBudYQ5p19LwPt5axIUWEnA44l386fhR8CHgZFEKg9HwHciWGjW4EbAu/YfCFVER8AD/dIQzhZIwOR0Ho7XKEnA6Mi8vc9DSsClZQ21BzBLwDVDRmgMu0vAK7+kdFi9S8Ao9jQhyh5LwLOgxq5c2UnABdt3Qdb5R8Br2HPCVp5FwLP39mPx8kLABZYtCbMsQMBT7Z2nSgc7wD0LN7/2WDbAagd15D2lMsC21pQFlCYwwMYprMno6C3AhwdYJXYBLsAIhLCHPRkwwMLYXj907THAPwK0s5EXNMAQEAYRACg2wGttZ5b5sTfAVYK/rs9XOMBqKGP7fdU3wEg2S8FXCDbAeLrJ3/HyMsABx9ZvsHktwC0EHeAtXCPATscZQWKcEMCXj1+gwKP2PxFsjZ2tWxpAPeKa1Nj2JUDzNwL/yJUsQOnrEGTUVzBAStqU1ToZMUCDdR/HmKswQBRsBnhzmy5ADxoPgTqzKkBqsp+inHQmQPjR93icvyJAD1EhP+BkIEBPjRypJA4gQPR+IicUKyJA25CpMazkJkAOMD7VnBguQCBMIBiUrjNAbmMp/IgGOUCwxHARI60+QGpF+O9GGUJAJNyy92SVREBAT2S/7pxGQNJYIiAbD0hAxz3LDQjcSEDqZdmLhQZJQEWT0WfEo0hAzxm75fHYR0C6R3Z8BddGQMi29+M51UVAJfDAK9EKRUBHbDH916hEQOZpPUWc1ERAwl8GQXejRUDvM+KZZBhHQMHIiDKsI0lAgYE0YKikS0BnHXFKdW1OQPLl43oPpFBAVVrwJVz+UUDkJJmT1StTQMw5bnzFF1RAWFBn4+C0VEDgeOkyyP5UQNl8YJyF+lRA4au5dvu1VEA21+kLU0ZUQLbxhB6ZxVNA9oW5LM1PU0DN1t9nuP9SQNkdfrLn61JADeWLAiAkU0AeZhu1lq9TQBkflEIhjFRAVINu1nOuVUA=\",\"dtype\":\"float64\",\"shape\":[127]}}},\"id\":\"8216109d-d990-4d1d-958a-2bbda5b3a3e5\",\"type\":\"ColumnDataSource\"},{\"attributes\":{\"callback\":null,\"end\":2020,\"start\":1860},\"id\":\"cd85fbaa-e0c0-46c2-9522-8a025568c7ea\",\"type\":\"Range1d\"},{\"attributes\":{\"line_color\":{\"value\":\"#33bb33\"},\"line_width\":{\"value\":3},\"x\":{\"field\":\"x\"},\"y\":{\"field\":\"y\"}},\"id\":\"86bfb480-63db-47b0-889c-fcb67874ec26\",\"type\":\"Line\"},{\"attributes\":{\"fill_alpha\":{\"value\":0.5},\"fill_color\":{\"value\":\"black\"},\"line_alpha\":{\"value\":0.5},\"line_width\":{\"value\":3},\"x\":{\"field\":\"x\"},\"y\":{\"field\":\"y\"}},\"id\":\"9b9e7399-a3c1-4811-b312-5e026a5f0ba4\",\"type\":\"Circle\"},{\"attributes\":{\"data_source\":{\"id\":\"cd2805bd-7df6-47a1-9649-202369a06508\",\"type\":\"ColumnDataSource\"},\"glyph\":{\"id\":\"86bfb480-63db-47b0-889c-fcb67874ec26\",\"type\":\"Line\"},\"hover_glyph\":null,\"muted_glyph\":null,\"nonselection_glyph\":{\"id\":\"92c640ec-6c67-4423-96ae-f7202290bc23\",\"type\":\"Line\"},\"selection_glyph\":null,\"view\":{\"id\":\"92543ab8-7afe-454b-9d5f-cc9574bb71d6\",\"type\":\"CDSView\"}},\"id\":\"7b05e40c-2a99-4666-986f-181ff38e4c87\",\"type\":\"GlyphRenderer\"},{\"attributes\":{\"callback\":null},\"id\":\"e10559ac-8805-4e6a-b035-2d38a5ca055a\",\"type\":\"DataRange1d\"},{\"attributes\":{\"source\":{\"id\":\"cd2805bd-7df6-47a1-9649-202369a06508\",\"type\":\"ColumnDataSource\"}},\"id\":\"92543ab8-7afe-454b-9d5f-cc9574bb71d6\",\"type\":\"CDSView\"},{\"attributes\":{},\"id\":\"09ea015c-ac03-4034-b03e-6e84e4cb256e\",\"type\":\"LinearScale\"},{\"attributes\":{\"source\":{\"id\":\"8216109d-d990-4d1d-958a-2bbda5b3a3e5\",\"type\":\"ColumnDataSource\"}},\"id\":\"947dba23-959e-4329-a8bc-a1a607f484a0\",\"type\":\"CDSView\"},{\"attributes\":{},\"id\":\"fa17197a-6712-4dfb-833e-9accccf1beac\",\"type\":\"LinearScale\"},{\"attributes\":{\"data_source\":{\"id\":\"8216109d-d990-4d1d-958a-2bbda5b3a3e5\",\"type\":\"ColumnDataSource\"},\"glyph\":{\"id\":\"3f5526b5-380e-490a-8dda-d9ad3f857607\",\"type\":\"Line\"},\"hover_glyph\":null,\"muted_glyph\":null,\"nonselection_glyph\":{\"id\":\"2d0cd60d-3ff9-494f-bda3-771ec90cc11a\",\"type\":\"Line\"},\"selection_glyph\":null,\"view\":{\"id\":\"947dba23-959e-4329-a8bc-a1a607f484a0\",\"type\":\"CDSView\"}},\"id\":\"5045ae82-9719-4833-939a-a42c39e9e622\",\"type\":\"GlyphRenderer\"},{\"attributes\":{},\"id\":\"42444bca-9d94-4d32-9677-49dfc6ac7c46\",\"type\":\"BasicTicker\"},{\"attributes\":{\"line_alpha\":{\"value\":0.1},\"line_color\":{\"value\":\"#1f77b4\"},\"line_width\":{\"value\":3},\"x\":{\"field\":\"x\"},\"y\":{\"field\":\"y\"}},\"id\":\"2d0cd60d-3ff9-494f-bda3-771ec90cc11a\",\"type\":\"Line\"},{\"attributes\":{\"axis_label\":\"year\",\"formatter\":{\"id\":\"36bd4702-a7b9-461b-9116-4f18ef5f538f\",\"type\":\"BasicTickFormatter\"},\"plot\":{\"id\":\"10806844-a853-4411-9941-354bee583f8e\",\"subtype\":\"Figure\",\"type\":\"Plot\"},\"ticker\":{\"id\":\"42444bca-9d94-4d32-9677-49dfc6ac7c46\",\"type\":\"BasicTicker\"}},\"id\":\"9eed3e13-abbd-4066-9872-91d84f3f1bd5\",\"type\":\"LinearAxis\"},{\"attributes\":{\"label\":{\"value\":\"Quadratic\"},\"renderers\":[{\"id\":\"5045ae82-9719-4833-939a-a42c39e9e622\",\"type\":\"GlyphRenderer\"}]},\"id\":\"9b9ee829-bb9e-4039-afae-91f325c3f209\",\"type\":\"LegendItem\"},{\"attributes\":{\"plot\":{\"id\":\"10806844-a853-4411-9941-354bee583f8e\",\"subtype\":\"Figure\",\"type\":\"Plot\"},\"ticker\":{\"id\":\"42444bca-9d94-4d32-9677-49dfc6ac7c46\",\"type\":\"BasicTicker\"}},\"id\":\"35aba644-b2fb-48eb-b7cb-a6da6e8e9fe2\",\"type\":\"Grid\"},{\"attributes\":{\"axis_label\":\"waterlevel [mm] above N.A.P.\",\"formatter\":{\"id\":\"de0e437c-ce31-4c72-af83-4d6e35c1a23e\",\"type\":\"BasicTickFormatter\"},\"plot\":{\"id\":\"10806844-a853-4411-9941-354bee583f8e\",\"subtype\":\"Figure\",\"type\":\"Plot\"},\"ticker\":{\"id\":\"5242f74d-b8e7-4485-b4f2-a9b19198acb6\",\"type\":\"BasicTicker\"}},\"id\":\"a3f766ab-6378-42ab-84c2-8c5be260eccf\",\"type\":\"LinearAxis\"},{\"attributes\":{},\"id\":\"5242f74d-b8e7-4485-b4f2-a9b19198acb6\",\"type\":\"BasicTicker\"},{\"attributes\":{\"dimension\":1,\"plot\":{\"id\":\"10806844-a853-4411-9941-354bee583f8e\",\"subtype\":\"Figure\",\"type\":\"Plot\"},\"ticker\":{\"id\":\"5242f74d-b8e7-4485-b4f2-a9b19198acb6\",\"type\":\"BasicTicker\"}},\"id\":\"7a984a2f-3ca6-43ec-b916-fbdd181cb9f2\",\"type\":\"Grid\"},{\"attributes\":{\"fill_alpha\":{\"value\":0.1},\"fill_color\":{\"value\":\"#1f77b4\"},\"line_alpha\":{\"value\":0.1},\"line_color\":{\"value\":\"#1f77b4\"},\"line_width\":{\"value\":3},\"x\":{\"field\":\"x\"},\"y\":{\"field\":\"y\"}},\"id\":\"4dbccdef-04ac-4009-b89f-d3eff0ce1ee4\",\"type\":\"Circle\"},{\"attributes\":{},\"id\":\"de0e437c-ce31-4c72-af83-4d6e35c1a23e\",\"type\":\"BasicTickFormatter\"},{\"attributes\":{\"callback\":null,\"column_names\":[\"x\",\"y\"],\"data\":{\"x\":[1890,1891,1892,1893,1894,1895,1896,1897,1898,1899,1900,1901,1902,1903,1904,1905,1906,1907,1908,1909,1910,1911,1912,1913,1914,1915,1916,1917,1918,1919,1920,1921,1922,1923,1924,1925,1926,1927,1928,1929,1930,1931,1932,1933,1934,1935,1936,1937,1938,1939,1940,1941,1942,1943,1944,1945,1946,1947,1948,1949,1950,1951,1952,1953,1954,1955,1956,1957,1958,1959,1960,1961,1962,1963,1964,1965,1966,1967,1968,1969,1970,1971,1972,1973,1974,1975,1976,1977,1978,1979,1980,1981,1982,1983,1984,1985,1986,1987,1988,1989,1990,1991,1992,1993,1994,1995,1996,1997,1998,1999,2000,2001,2002,2003,2004,2005,2006,2007,2008,2009,2010,2011,2012,2013,2014,2015,2016],\"y\":{\"__ndarray__\":\"AAAAAADQYsAAAAAAAIBgwAAAAAAAYGDAAAAAAADQV8AAAAAAAABbwAAAAAAA8F/AAAAAAADwX8AAAAAAAHBfwAAAAAAAgFHAAAAAAABwU8AAAAAAAMBdwAAAAAAA0GHAAAAAAABYZMAAAAAAAABLwAAAAAAA4FrAAAAAAAA4YMAAAAAAACBVwAAAAAAAgFzAAAAAAABAYMAAAAAAACBVwAAAAAAAAFLAAAAAAABgVcAAAAAAAMA8wAAAAAAAMFDAAAAAAACARsAAAAAAAJBYwAAAAAAAQEDAAAAAAADwU8AAAAAAAPBRwAAAAAAA0FbAAAAAAAAAVcAAAAAAAKBEwAAAAAAAgFPAAAAAAADgR8AAAAAAAJBUwAAAAAAAACXAAAAAAACAOsAAAAAAAMBGwAAAAAAAgD/AAAAAAACQVMAAAAAAACBJwAAAAAAAgDbAAAAAAACgQsAAAAAAALBWwAAAAAAAQFDAAAAAAACAMsAAAAAAAMA4wAAAAAAAYE3AAAAAAAAAAkAAAAAAALBSwAAAAAAAoEvAAAAAAABQWcAAAAAAALBTwAAAAAAAACnAAAAAAAAAAEAAAAAAAAAQQAAAAAAAwDbAAAAAAADgXMAAAAAAAIAhwAAAAAAAwDNAAAAAAAAAF8AAAAAAAEBAwAAAAAAAAOg/AAAAAABgQMAAAAAAAIApwAAAAAAAAAAAAAAAAACgS8AAAAAAAEA3wAAAAAAAQDLAAAAAAABgT8AAAAAAAIA/wAAAAAAAoE9AAAAAAAAAG0AAAAAAAGBPwAAAAAAAoEPAAAAAAABAMEAAAAAAAABBQAAAAAAAYFhAAAAAAACAIUAAAAAAAEAwwAAAAAAAYENAAAAAAACALMAAAAAAAABNwAAAAAAAADtAAAAAAACAM0AAAAAAAIAqwAAAAAAAwEfAAAAAAAAAKEAAAAAAAAAXwAAAAAAAAB3AAAAAAADAOUAAAAAAAOBSQAAAAAAAwEdAAAAAAABgWUAAAAAAAIAgQAAAAAAAADFAAAAAAAAAKEAAAAAAAADoPwAAAAAAwFZAAAAAAACgSEAAAAAAAABbQAAAAAAAAB/AAAAAAAAAPEAAAAAAAIAsQAAAAAAAAFNAAAAAAABwU0AAAAAAAPBQwAAAAAAAgCRAAAAAAACQWUAAAAAAAPBXQAAAAAAAcFZAAAAAAAAwVUAAAAAAAIBRQAAAAAAAAE5AAAAAAAAAWUAAAAAAAFBQQAAAAAAAIFFAAAAAAADAYEAAAAAAANBZQAAAAAAAYE1AAAAAAADgREAAAAAAAKBYQAAAAAAAMFRAAAAAAAAASEAAAAAAAFBWQAAAAAAA4GFAAAAAAACQWkA=\",\"dtype\":\"float64\",\"shape\":[127]}}},\"id\":\"cfe591a5-e563-4e17-85dd-549c83d410f4\",\"type\":\"ColumnDataSource\"},{\"attributes\":{\"bottom_units\":\"screen\",\"fill_alpha\":{\"value\":0.5},\"fill_color\":{\"value\":\"lightgrey\"},\"left_units\":\"screen\",\"level\":\"overlay\",\"line_alpha\":{\"value\":1.0},\"line_color\":{\"value\":\"black\"},\"line_dash\":[4,4],\"line_width\":{\"value\":2},\"plot\":null,\"render_mode\":\"css\",\"right_units\":\"screen\",\"top_units\":\"screen\"},\"id\":\"4dce5c88-fd53-40dd-878a-8f602a1cb90e\",\"type\":\"BoxAnnotation\"},{\"attributes\":{},\"id\":\"65b7fc63-e087-4568-9e47-62b41aa162dd\",\"type\":\"PanTool\"},{\"attributes\":{\"source\":{\"id\":\"cfe591a5-e563-4e17-85dd-549c83d410f4\",\"type\":\"ColumnDataSource\"}},\"id\":\"5990fcd1-c018-4ecc-9c1d-62b75a835ae3\",\"type\":\"CDSView\"},{\"attributes\":{},\"id\":\"cb818349-b331-4297-9047-1d3bf7e96943\",\"type\":\"WheelZoomTool\"},{\"attributes\":{\"overlay\":{\"id\":\"4dce5c88-fd53-40dd-878a-8f602a1cb90e\",\"type\":\"BoxAnnotation\"}},\"id\":\"e6932eed-4923-4961-9eec-0b90002c5590\",\"type\":\"BoxZoomTool\"},{\"attributes\":{},\"id\":\"58e0c452-c6f6-4517-b2ca-f1b3983ca25f\",\"type\":\"SaveTool\"},{\"attributes\":{},\"id\":\"99c52ecf-99a7-43a0-8cdb-a86ec3c70384\",\"type\":\"ResetTool\"},{\"attributes\":{},\"id\":\"baab5377-4b83-422e-b098-a90bc55a6e45\",\"type\":\"HelpTool\"},{\"attributes\":{\"label\":{\"value\":\"Current\"},\"renderers\":[{\"id\":\"2cd609a9-d89b-4838-b401-0fb5252ee165\",\"type\":\"GlyphRenderer\"}]},\"id\":\"699ae348-3b5d-4f7f-9341-9f3d20d62be7\",\"type\":\"LegendItem\"},{\"attributes\":{},\"id\":\"36bd4702-a7b9-461b-9116-4f18ef5f538f\",\"type\":\"BasicTickFormatter\"}],\"root_ids\":[\"10806844-a853-4411-9941-354bee583f8e\"]},\"title\":\"Bokeh Application\",\"version\":\"0.12.10\"}};\n",
       "    var render_items = [{\"docid\":\"0d9924c3-abf6-45ac-8d09-30fd6a803fb4\",\"elementid\":\"81a79ef8-0e25-4ebc-9f17-8532be2b1b6f\",\"modelid\":\"10806844-a853-4411-9941-354bee583f8e\"}];\n",
       "\n",
       "    root.Bokeh.embed.embed_items(docs_json, render_items);\n",
       "  }\n",
       "\n",
       "  if (root.Bokeh !== undefined) {\n",
       "    embed_document(root);\n",
       "  } else {\n",
       "    var attempts = 0;\n",
       "    var timer = setInterval(function(root) {\n",
       "      if (root.Bokeh !== undefined) {\n",
       "        embed_document(root);\n",
       "        clearInterval(timer);\n",
       "      }\n",
       "      attempts++;\n",
       "      if (attempts > 100) {\n",
       "        console.log(\"Bokeh: ERROR: Unable to embed document because BokehJS library is missing\")\n",
       "        clearInterval(timer);\n",
       "      }\n",
       "    }, 10, root)\n",
       "  }\n",
       "})(window);"
      ],
      "application/vnd.bokehjs_exec.v0+json": ""
     },
     "metadata": {
      "application/vnd.bokehjs_exec.v0+json": {
       "id": "10806844-a853-4411-9941-354bee583f8e"
      }
     },
     "output_type": "display_data"
    }
   ],
   "source": [
    "def model_compare_plot():\n",
    "    fig = bokeh.plotting.figure(x_range=(1860, 2020), plot_width=900, plot_height=300)\n",
    "    fig.circle(mean_df.year, mean_df.height, line_width=3, legend='Mean', color='black', alpha=0.5)\n",
    "    fig.line(mean_df.year, linear_fit.predict(), line_width=3, legend='Current')\n",
    "    fig.line(mean_df.year, broken_linear_fit.predict(), line_width=3, color='#33bb33', legend='Broken')\n",
    "    fig.line(mean_df.year, quadratic_fit.predict(), line_width=3, color='#3333bb', legend='Quadratic')\n",
    "\n",
    "    fig.legend.location = \"top_left\"\n",
    "    fig.yaxis.axis_label = 'waterlevel [mm] above N.A.P.'\n",
    "    fig.xaxis.axis_label = 'year'\n",
    "    fig.legend.click_policy = \"hide\"\n",
    "    return fig\n",
    "\n",
    "bokeh.io.show(model_compare_plot())"
   ]
  },
  {
   "cell_type": "markdown",
   "metadata": {},
   "source": [
    "Conclusions\n",
    "======\n",
    "Below are some statements that depend on the output calculated above. "
   ]
  },
  {
   "cell_type": "code",
   "execution_count": 27,
   "metadata": {},
   "outputs": [
    {
     "name": "stdout",
     "output_type": "stream",
     "text": [
      "The current average waterlevel above NAP (in mm), \n",
      "based on the 6 main tide gauges for the year 2016 is 8.3 cm.\n",
      "The current sea-level rise is 17 cm/century\n"
     ]
    }
   ],
   "source": [
    "msg = '''The current average waterlevel above NAP (in mm), \n",
    "based on the 6 main tide gauges for the year {year} is {height:.1f} cm.\n",
    "The current sea-level rise is {rate:.0f} cm/century'''\n",
    "print(msg.format(year=mean_df['year'].iloc[-1], height=linear_fit.predict()[-1]/10.0, rate=linear_fit.params.x1*100.0/10))"
   ]
  },
  {
   "cell_type": "code",
   "execution_count": 28,
   "metadata": {},
   "outputs": [
    {
     "name": "stdout",
     "output_type": "stream",
     "text": [
      "The linear model is a higher quality model (smaller AIC) than the quadratic model.\n",
      "Under the assumption that there is no quadraticness, we would have expected a quadratic term as big as we have seen.\n"
     ]
    }
   ],
   "source": [
    "if (linear_fit.aic < quadratic_fit.aic):\n",
    "    print('The linear model is a higher quality model (smaller AIC) than the quadratic model.')\n",
    "else:\n",
    "    print('The quadratic model is a higher quality model (smaller AIC) than the linear model.')\n",
    "if (quadratic_fit.pvalues['x2'] < 0.05):\n",
    "    print('The quadratic term is bigger than we would have expected under the assumption that there was no quadraticness.')\n",
    "else:\n",
    "    print('Under the assumption that there is no quadraticness, we would have expected a quadratic term as big as we have seen.')"
   ]
  },
  {
   "cell_type": "code",
   "execution_count": 29,
   "metadata": {},
   "outputs": [
    {
     "name": "stdout",
     "output_type": "stream",
     "text": [
      "The broken linear model is a higher quality model (smaller AIC) than the linear model.\n",
      "Under the assumption that there is no trend break, we would have expected a trend break as big as we have seen.\n"
     ]
    }
   ],
   "source": [
    "if (linear_fit.aic < broken_linear_fit.aic):\n",
    "    print('The linear model is a higher quality model (smaller AIC) than the broken linear model.')\n",
    "else:\n",
    "    print('The broken linear model is a higher quality model (smaller AIC) than the linear model.')\n",
    "if (broken_linear_fit.pvalues['x2'] < 0.05):\n",
    "    print('The trend break is bigger than we would have expected under the assumption that there was no trend break.')\n",
    "else:\n",
    "    print('Under the assumption that there is no trend break, we would have expected a trend break as big as we have seen.')"
   ]
  }
 ],
 "metadata": {
  "kernelspec": {
   "display_name": "Python 3",
   "language": "python",
   "name": "python3"
  },
  "language_info": {
   "codemirror_mode": {
    "name": "ipython",
    "version": 3
   },
   "file_extension": ".py",
   "mimetype": "text/x-python",
   "name": "python",
   "nbconvert_exporter": "python",
   "pygments_lexer": "ipython3",
   "version": "3.6.5"
  },
  "widgets": {
   "state": {
    "2ae0c48e421f49c09172702bce76555c": {
     "views": [
      {
       "cell_index": 7
      }
     ]
    },
    "3505de2a1be14c55943f74d0558523b4": {
     "views": [
      {
       "cell_index": 7
      }
     ]
    },
    "3cd4a930d3f94c3e8d572585c9162d1e": {
     "views": [
      {
       "cell_index": 7
      }
     ]
    },
    "77dd9f443c0b4f5dad5f5d8eaba6bb90": {
     "views": [
      {
       "cell_index": 7
      }
     ]
    },
    "9a5784b9d0a54565b28fc208dc9bf39a": {
     "views": [
      {
       "cell_index": 7
      }
     ]
    },
    "9e9af435cb1f4a36bb8b285a237d2110": {
     "views": [
      {
       "cell_index": 7
      }
     ]
    },
    "cc2abf826b3d4652a44d48ab6beb67d8": {
     "views": [
      {
       "cell_index": 7
      }
     ]
    },
    "d4daa4d8a9d54316bb079575809d1f78": {
     "views": [
      {
       "cell_index": 7
      }
     ]
    },
    "de1a78f8304c402bb2df41da1ab2c3f0": {
     "views": [
      {
       "cell_index": 7
      }
     ]
    },
    "fc604692e1764a79ad5c7bac7f3cb23f": {
     "views": [
      {
       "cell_index": 7
      }
     ]
    }
   },
   "version": "1.2.0"
  }
 },
 "nbformat": 4,
 "nbformat_minor": 1
}
