{
 "cells": [
  {
   "cell_type": "markdown",
   "metadata": {},
   "source": [
    "# All Dutch stations\n",
    "This notebook shows an overview of all the metadata that is available for all Dutch stations that measure sea-surface height relative to MSL or to NAP. There are a few stations that measure relative to TAW, I think near the Maas. There are some technical issues with the webservices (you have to give locations in floating points) which can make the results a bit error prone. There are a number of incorrect locations in the dataset and some locations have their coordinates mixed up (lat, lon -> lon, lat). "
   ]
  },
  {
   "cell_type": "code",
   "execution_count": 1,
   "metadata": {},
   "outputs": [],
   "source": [
    "# default\n",
    "import json\n",
    "import urllib\n",
    "import datetime\n",
    "import os\n",
    "\n",
    "# remote\n",
    "import requests\n",
    "import yarl\n",
    "\n",
    "# data\n",
    "import numpy as np\n",
    "import pandas as pd\n",
    "import xml.etree.ElementTree\n",
    "\n",
    "# time\n",
    "import dateutil.parser\n",
    "# gis\n",
    "import osgeo.osr\n",
    "import geojson\n",
    "\n",
    "import shapely #  after osr (does some weird things with geos)\n",
    "import shapely.geometry\n",
    "import netCDF4\n",
    "\n",
    "import geopandas\n",
    "\n",
    "# plotting\n",
    "import matplotlib.pyplot as plt\n",
    "import IPython.display\n",
    "import tqdm\n",
    "\n",
    "%matplotlib inline"
   ]
  },
  {
   "cell_type": "code",
   "execution_count": 2,
   "metadata": {},
   "outputs": [],
   "source": [
    "# all the relevant url's \n",
    "# the documentation of these urls is here:\n",
    "# https://www.rijkswaterstaat.nl/rws/opendata/DistributielaagWebservices-SUM-2v7.pdf\n",
    "collect_catalogus = 'https://waterwebservices.rijkswaterstaat.nl/METADATASERVICES_DBO/OphalenCatalogus/'\n",
    "collect_observations = 'https://waterwebservices.rijkswaterstaat.nl/ONLINEWAARNEMINGENSERVICES_DBO/OphalenWaarnemingen'\n",
    "collect_latest_observations = 'https://waterwebservices.rijkswaterstaat.nl/ONLINEWAARNEMINGENSERVICES_DBO/OphalenLaatsteWaarnemingen'\n",
    "collect_available_observations = 'https://waterwebservices.rijkswaterstaat.nl/ONLINEWAARNEMINGENSERVICES_DBO/OphalenAantalWaarnemingen'\n",
    "\n",
    "# create all the geospatial reference objects that we use\n",
    "# this dataset is mostly in utm31n/ETRS89\n",
    "utm = osgeo.osr.SpatialReference()\n",
    "utm.ImportFromEPSG(25831)\n",
    "rd = osgeo.osr.SpatialReference()\n",
    "rd.ImportFromEPSG(28992)\n",
    "wgs84 = osgeo.osr.SpatialReference()\n",
    "wgs84.ImportFromEPSG(4326)\n",
    "utm2wgs84 = osgeo.osr.CoordinateTransformation(utm, wgs84)\n",
    "rd2wgs84 = osgeo.osr.CoordinateTransformation(rd, wgs84)\n"
   ]
  },
  {
   "cell_type": "code",
   "execution_count": 3,
   "metadata": {},
   "outputs": [],
   "source": [
    "# start by reading all the locations, also include all other info, units, quantities and qualities?\n",
    "request = {\n",
    "    \"CatalogusFilter\": {\n",
    "        \"Eenheden\": True,\n",
    "        \"Grootheden\": True,\n",
    "        \"Hoedanigheden\": True\n",
    "    }\n",
    "}\n",
    "# this is an object that contains a lot of informatio\n",
    "resp = requests.post(collect_catalogus, json=request)\n",
    "result = resp.json()\n",
    "\n",
    "# one of the relevant things is the list of locations\n",
    "# index by id\n",
    "df_locations = pd.DataFrame(result['LocatieLijst']).set_index('Locatie_MessageID')\n",
    "\n",
    "# load normalized JSON object (since it contains nested JSON)\n",
    "df_metadata = pd.io.json.json_normalize(\n",
    "    result['AquoMetadataLijst']\n",
    ").set_index('AquoMetadata_MessageID')"
   ]
  },
  {
   "cell_type": "code",
   "execution_count": 4,
   "metadata": {},
   "outputs": [
    {
     "data": {
      "text/html": [
       "<div>\n",
       "<style scoped>\n",
       "    .dataframe tbody tr th:only-of-type {\n",
       "        vertical-align: middle;\n",
       "    }\n",
       "\n",
       "    .dataframe tbody tr th {\n",
       "        vertical-align: top;\n",
       "    }\n",
       "\n",
       "    .dataframe thead th {\n",
       "        text-align: right;\n",
       "    }\n",
       "</style>\n",
       "<table border=\"1\" class=\"dataframe\">\n",
       "  <thead>\n",
       "    <tr style=\"text-align: right;\">\n",
       "      <th></th>\n",
       "      <th>Parameter_Wat_Omschrijving</th>\n",
       "      <th>Eenheid.Code</th>\n",
       "      <th>Eenheid.Omschrijving</th>\n",
       "      <th>Grootheid.Code</th>\n",
       "      <th>Grootheid.Omschrijving</th>\n",
       "      <th>Hoedanigheid.Code</th>\n",
       "      <th>Hoedanigheid.Omschrijving</th>\n",
       "    </tr>\n",
       "    <tr>\n",
       "      <th>AquoMetadata_MessageID</th>\n",
       "      <th></th>\n",
       "      <th></th>\n",
       "      <th></th>\n",
       "      <th></th>\n",
       "      <th></th>\n",
       "      <th></th>\n",
       "      <th></th>\n",
       "    </tr>\n",
       "  </thead>\n",
       "  <tbody>\n",
       "    <tr>\n",
       "      <th>30</th>\n",
       "      <td>Waterhoogte Oppervlaktewater t.o.v. Mean Sea L...</td>\n",
       "      <td>cm</td>\n",
       "      <td>centimeter</td>\n",
       "      <td>WATHTE</td>\n",
       "      <td>Waterhoogte</td>\n",
       "      <td>MSL</td>\n",
       "      <td>t.o.v. Mean Sea Level</td>\n",
       "    </tr>\n",
       "    <tr>\n",
       "      <th>31</th>\n",
       "      <td>Waterhoogte Oppervlaktewater t.o.v. Normaal Am...</td>\n",
       "      <td>cm</td>\n",
       "      <td>centimeter</td>\n",
       "      <td>WATHTE</td>\n",
       "      <td>Waterhoogte</td>\n",
       "      <td>NAP</td>\n",
       "      <td>t.o.v. Normaal Amsterdams Peil</td>\n",
       "    </tr>\n",
       "  </tbody>\n",
       "</table>\n",
       "</div>"
      ],
      "text/plain": [
       "                                               Parameter_Wat_Omschrijving  \\\n",
       "AquoMetadata_MessageID                                                      \n",
       "30                      Waterhoogte Oppervlaktewater t.o.v. Mean Sea L...   \n",
       "31                      Waterhoogte Oppervlaktewater t.o.v. Normaal Am...   \n",
       "\n",
       "                       Eenheid.Code Eenheid.Omschrijving Grootheid.Code  \\\n",
       "AquoMetadata_MessageID                                                    \n",
       "30                               cm           centimeter         WATHTE   \n",
       "31                               cm           centimeter         WATHTE   \n",
       "\n",
       "                       Grootheid.Omschrijving Hoedanigheid.Code  \\\n",
       "AquoMetadata_MessageID                                            \n",
       "30                                Waterhoogte               MSL   \n",
       "31                                Waterhoogte               NAP   \n",
       "\n",
       "                             Hoedanigheid.Omschrijving  \n",
       "AquoMetadata_MessageID                                  \n",
       "30                               t.o.v. Mean Sea Level  \n",
       "31                      t.o.v. Normaal Amsterdams Peil  "
      ]
     },
     "execution_count": 4,
     "metadata": {},
     "output_type": "execute_result"
    }
   ],
   "source": [
    "# show the list of water measurement quantities. \n",
    "# we only use the ones relative to NAP (coastal and inland) and MSL (offshore)\n",
    "df_metadata[df_metadata['Grootheid.Code'] == 'WATHTE']\n"
   ]
  },
  {
   "cell_type": "code",
   "execution_count": 5,
   "metadata": {},
   "outputs": [],
   "source": [
    "# combine station locations with what they measure\n",
    "df_metadata_locations = pd.DataFrame(result['AquoMetadataLocatieLijst'])\n",
    "location_info = df_metadata_locations.merge(\n",
    "    df_metadata, \n",
    "    left_on='AquoMetaData_MessageID', \n",
    "    right_index=True\n",
    ").merge(\n",
    "    df_locations, \n",
    "    left_on='Locatie_MessageID', \n",
    "    right_index=True\n",
    ")\n",
    "\n",
    "# we have some stations that contain errornous info\n",
    "# these are in colombia, someone did his PhD on some rivers in Columbia and he managed to put his data in the RWS production database.\n",
    "in_colombia = location_info[location_info.X <= -1e7]\n",
    "# these are just silly x,y y,x mixups\n",
    "xy_yx_changed = location_info[location_info.X > 2000000].copy()\n",
    "\n",
    "# Create an excel file with the errors, sent to RWS a few times\n",
    "# in_colombia.to_excel('colombia.xlsx')\n",
    "# xy_yx_changed.to_excel('xy_yx.xlsx')\n",
    "\n",
    "# until they are fixed, we'll fix it ourselves\n",
    "\n",
    "# one example of a correct station, one with xy reversed\n",
    "# IJMDBTHVN = 605633.035699, 5.813598e+06\n",
    "# EMPBNDN =   6681350., 886420.666850\n",
    "\n",
    "# fix reversed XY\n",
    "location_info.at[xy_yx_changed.index, 'X'] = xy_yx_changed['Y']\n",
    "location_info.at[xy_yx_changed.index, 'Y'] = xy_yx_changed['X']\n",
    "\n",
    "# now we only have colombia left, toss em out\n",
    "location_info = location_info.drop(in_colombia.index)\n"
   ]
  },
  {
   "cell_type": "code",
   "execution_count": 6,
   "metadata": {},
   "outputs": [
    {
     "data": {
      "text/plain": [
       "Text(0.5, 1.0, 'fixed locations')"
      ]
     },
     "execution_count": 6,
     "metadata": {},
     "output_type": "execute_result"
    },
    {
     "data": {
      "image/png": "[encoded data removed]",
      "text/plain": [
       "<Figure size 936x576 with 2 Axes>"
      ]
     },
     "metadata": {},
     "output_type": "display_data"
    }
   ],
   "source": [
    "# now we should only have correct measurements in NL\n",
    "fig, axes = plt.subplots(ncols=2, figsize=(13, 8))\n",
    "axes[0].plot(df_locations.X, df_locations.Y, 'k.')\n",
    "axes[0].axis('equal')\n",
    "axes[0].set_title('errornous locations')\n",
    "axes[1].plot(location_info.X, location_info.Y, 'k.', alpha=0.3)\n",
    "axes[1].axis('equal')\n",
    "axes[1].set_title('fixed locations')"
   ]
  },
  {
   "cell_type": "code",
   "execution_count": 8,
   "metadata": {},
   "outputs": [
    {
     "data": {
      "text/html": [
       "<div>\n",
       "<style scoped>\n",
       "    .dataframe tbody tr th:only-of-type {\n",
       "        vertical-align: middle;\n",
       "    }\n",
       "\n",
       "    .dataframe tbody tr th {\n",
       "        vertical-align: top;\n",
       "    }\n",
       "\n",
       "    .dataframe thead th {\n",
       "        text-align: right;\n",
       "    }\n",
       "</style>\n",
       "<table border=\"1\" class=\"dataframe\">\n",
       "  <thead>\n",
       "    <tr style=\"text-align: right;\">\n",
       "      <th></th>\n",
       "      <th>AquoMetaData_MessageID</th>\n",
       "      <th>Locatie_MessageID</th>\n",
       "      <th>Parameter_Wat_Omschrijving</th>\n",
       "      <th>Eenheid.Code</th>\n",
       "      <th>Eenheid.Omschrijving</th>\n",
       "      <th>Grootheid.Code</th>\n",
       "      <th>Grootheid.Omschrijving</th>\n",
       "      <th>Hoedanigheid.Code</th>\n",
       "      <th>Hoedanigheid.Omschrijving</th>\n",
       "      <th>Coordinatenstelsel</th>\n",
       "      <th>X</th>\n",
       "      <th>Y</th>\n",
       "      <th>Naam</th>\n",
       "    </tr>\n",
       "    <tr>\n",
       "      <th>Code</th>\n",
       "      <th></th>\n",
       "      <th></th>\n",
       "      <th></th>\n",
       "      <th></th>\n",
       "      <th></th>\n",
       "      <th></th>\n",
       "      <th></th>\n",
       "      <th></th>\n",
       "      <th></th>\n",
       "      <th></th>\n",
       "      <th></th>\n",
       "      <th></th>\n",
       "      <th></th>\n",
       "    </tr>\n",
       "  </thead>\n",
       "  <tbody>\n",
       "    <tr>\n",
       "      <th>IJMDBTHVN</th>\n",
       "      <td>29</td>\n",
       "      <td>93757</td>\n",
       "      <td>Waterhoogte berekend Oppervlaktewater t.o.v. N...</td>\n",
       "      <td>cm</td>\n",
       "      <td>centimeter</td>\n",
       "      <td>WATHTBRKD</td>\n",
       "      <td>Waterhoogte berekend</td>\n",
       "      <td>NAP</td>\n",
       "      <td>t.o.v. Normaal Amsterdams Peil</td>\n",
       "      <td>25831</td>\n",
       "      <td>605633.035699</td>\n",
       "      <td>5.813598e+06</td>\n",
       "      <td>IJmuiden buitenhaven</td>\n",
       "    </tr>\n",
       "    <tr>\n",
       "      <th>IJMDBTHVN</th>\n",
       "      <td>31</td>\n",
       "      <td>93757</td>\n",
       "      <td>Waterhoogte Oppervlaktewater t.o.v. Normaal Am...</td>\n",
       "      <td>cm</td>\n",
       "      <td>centimeter</td>\n",
       "      <td>WATHTE</td>\n",
       "      <td>Waterhoogte</td>\n",
       "      <td>NAP</td>\n",
       "      <td>t.o.v. Normaal Amsterdams Peil</td>\n",
       "      <td>25831</td>\n",
       "      <td>605633.035699</td>\n",
       "      <td>5.813598e+06</td>\n",
       "      <td>IJmuiden buitenhaven</td>\n",
       "    </tr>\n",
       "    <tr>\n",
       "      <th>IJMDBTHVN</th>\n",
       "      <td>95</td>\n",
       "      <td>93757</td>\n",
       "      <td>Temperatuur Oppervlaktewater oC</td>\n",
       "      <td>oC</td>\n",
       "      <td>graad Celsius</td>\n",
       "      <td>T</td>\n",
       "      <td>Temperatuur</td>\n",
       "      <td>NVT</td>\n",
       "      <td>Niet van toepassing</td>\n",
       "      <td>25831</td>\n",
       "      <td>605633.035699</td>\n",
       "      <td>5.813598e+06</td>\n",
       "      <td>IJmuiden buitenhaven</td>\n",
       "    </tr>\n",
       "  </tbody>\n",
       "</table>\n",
       "</div>"
      ],
      "text/plain": [
       "           AquoMetaData_MessageID  Locatie_MessageID  \\\n",
       "Code                                                   \n",
       "IJMDBTHVN                      29              93757   \n",
       "IJMDBTHVN                      31              93757   \n",
       "IJMDBTHVN                      95              93757   \n",
       "\n",
       "                                  Parameter_Wat_Omschrijving Eenheid.Code  \\\n",
       "Code                                                                        \n",
       "IJMDBTHVN  Waterhoogte berekend Oppervlaktewater t.o.v. N...           cm   \n",
       "IJMDBTHVN  Waterhoogte Oppervlaktewater t.o.v. Normaal Am...           cm   \n",
       "IJMDBTHVN                    Temperatuur Oppervlaktewater oC           oC   \n",
       "\n",
       "          Eenheid.Omschrijving Grootheid.Code Grootheid.Omschrijving  \\\n",
       "Code                                                                   \n",
       "IJMDBTHVN           centimeter      WATHTBRKD   Waterhoogte berekend   \n",
       "IJMDBTHVN           centimeter         WATHTE            Waterhoogte   \n",
       "IJMDBTHVN        graad Celsius              T            Temperatuur   \n",
       "\n",
       "          Hoedanigheid.Code       Hoedanigheid.Omschrijving  \\\n",
       "Code                                                          \n",
       "IJMDBTHVN               NAP  t.o.v. Normaal Amsterdams Peil   \n",
       "IJMDBTHVN               NAP  t.o.v. Normaal Amsterdams Peil   \n",
       "IJMDBTHVN               NVT             Niet van toepassing   \n",
       "\n",
       "          Coordinatenstelsel              X             Y  \\\n",
       "Code                                                        \n",
       "IJMDBTHVN              25831  605633.035699  5.813598e+06   \n",
       "IJMDBTHVN              25831  605633.035699  5.813598e+06   \n",
       "IJMDBTHVN              25831  605633.035699  5.813598e+06   \n",
       "\n",
       "                           Naam  \n",
       "Code                             \n",
       "IJMDBTHVN  IJmuiden buitenhaven  \n",
       "IJMDBTHVN  IJmuiden buitenhaven  \n",
       "IJMDBTHVN  IJmuiden buitenhaven  "
      ]
     },
     "execution_count": 8,
     "metadata": {},
     "output_type": "execute_result"
    }
   ],
   "source": [
    "# show info from 1 station\n",
    "location_info.set_index('Code').loc['IJMDBTHVN']"
   ]
  },
  {
   "cell_type": "code",
   "execution_count": 12,
   "metadata": {},
   "outputs": [],
   "source": [
    "# convert from utm to wgs84\n",
    "\n",
    "lonlatz = np.array(utm2wgs84.TransformPoints(location_info[['X', 'Y']].values))\n",
    "location_info['lat'] = lonlatz[:, 1]\n",
    "location_info['lon'] = lonlatz[:, 0]"
   ]
  },
  {
   "cell_type": "code",
   "execution_count": 13,
   "metadata": {},
   "outputs": [
    {
     "data": {
      "text/plain": [
       "<matplotlib.axes._subplots.AxesSubplot at 0x1251a5080>"
      ]
     },
     "execution_count": 13,
     "metadata": {},
     "output_type": "execute_result"
    },
    {
     "data": {
      "image/png": "[encoded data removed]",
      "text/plain": [
       "<Figure size 432x288 with 1 Axes>"
      ]
     },
     "metadata": {},
     "output_type": "display_data"
    }
   ],
   "source": [
    "# show locations\n",
    "location_info.plot('lon', 'lat', kind='scatter')"
   ]
  },
  {
   "cell_type": "code",
   "execution_count": 14,
   "metadata": {},
   "outputs": [
    {
     "data": {
      "text/plain": [
       "(Index(['A12', 'AADP', 'BATH', 'D15', 'ECHT', 'EPL', 'EURPFM', 'F16', 'J6',\n",
       "        'LICHTELGRE', 'LOBH', 'MOOK', 'NEER', 'NES', 'OLST', 'Q1', 'WELL'],\n",
       "       dtype='object', name='Code'), 17)"
      ]
     },
     "execution_count": 14,
     "metadata": {},
     "output_type": "execute_result"
    }
   ],
   "source": [
    "# There are 54 stations that moved or changed from measurement type. Euro platform switched to NAP at some point.\n",
    "multiple_locations_per_station = location_info[location_info['Grootheid.Code'] == 'WATHTE'].groupby('Code').count()['AquoMetaData_MessageID'] > 1\n",
    "multiple_locations_per_station = multiple_locations_per_station[multiple_locations_per_station]\n",
    "multiple_locations_per_station.index, len(multiple_locations_per_station.index)"
   ]
  },
  {
   "cell_type": "code",
   "execution_count": 15,
   "metadata": {},
   "outputs": [
    {
     "data": {
      "text/plain": [
       "AquoMetaData_MessageID                                                       31\n",
       "Locatie_MessageID                                                         93686\n",
       "Parameter_Wat_Omschrijving    Waterhoogte Oppervlaktewater t.o.v. Normaal Am...\n",
       "Eenheid.Code                                                                 cm\n",
       "Eenheid.Omschrijving                                                 centimeter\n",
       "Grootheid.Code                                                           WATHTE\n",
       "Grootheid.Omschrijving                                              Waterhoogte\n",
       "Hoedanigheid.Code                                                           NAP\n",
       "Hoedanigheid.Omschrijving                        t.o.v. Normaal Amsterdams Peil\n",
       "Coordinatenstelsel                                                        25831\n",
       "X                                                                        617198\n",
       "Y                                                                   5.86973e+06\n",
       "Naam                                                                 Den Helder\n",
       "lat                                                                     4.74499\n",
       "lon                                                                     52.9644\n",
       "Name: DENHDR, dtype: object"
      ]
     },
     "execution_count": 15,
     "metadata": {},
     "output_type": "execute_result"
    }
   ],
   "source": [
    "# show data for 1 station, Den Helder in this case to check\n",
    "station = location_info[location_info['Grootheid.Code'] == 'WATHTE'].set_index('Code').loc['DENHDR']\n",
    "station\n"
   ]
  },
  {
   "cell_type": "code",
   "execution_count": 16,
   "metadata": {},
   "outputs": [],
   "source": [
    "# unfortunately this takes too long, so we can't use this API to get timespans\n",
    "req = {\n",
    "    \"AquoMetadataLijst\": [\n",
    "        {\n",
    "            \"Grootheid\": {\n",
    "                \"Code\": station['Grootheid.Code']\n",
    "            }\n",
    "        }\n",
    "    ],\n",
    "    \"Groeperingsperiode\" : \"Jaar\",\n",
    "    \"LocatieLijst\": [\n",
    "        {\n",
    "            \"X\": station.X, \n",
    "            \"Y\": station.Y,\n",
    "            \"Code\": station.name\n",
    "        }\n",
    "    ],\n",
    "    \"Periode\": {\n",
    "        \"Begindatumtijd\" : \"1700-01-01T00:00:00.000+01:00\",\n",
    "        \"Einddatumtijd\": \"2013-01-01T00:00:00.000+01:00\"\n",
    "    }\n",
    "}\n",
    "# resp = requests.post(collect_available_observations, json=req)\n",
    "# data = resp.json()\n"
   ]
  },
  {
   "cell_type": "code",
   "execution_count": 17,
   "metadata": {},
   "outputs": [],
   "source": [
    "# so we'll use our own copies of the datasets in OpenEarth\n",
    "catalog_onshore = 'http://opendap.deltares.nl/thredds/catalog/opendap/rijkswaterstaat/waterbase/27_Waterhoogte_in_cm_t.o.v._normaal_amsterdams_peil_in_oppervlaktewater/nc/catalog.xml'\n",
    "catalog_offshore = 'http://opendap.deltares.nl/thredds/catalog/opendap/rijkswaterstaat/waterbase/26_Waterhoogte_in_cm_t.o.v._mean_sea_level_in_oppervlaktewater/nc/catalog.xml'\n"
   ]
  },
  {
   "cell_type": "code",
   "execution_count": 18,
   "metadata": {},
   "outputs": [],
   "source": [
    "def read_catalog(url):\n",
    "    '''return all netcdf files in a catalog.xml file'''\n",
    "\n",
    "    fp = urllib.request.urlopen(url)\n",
    "    root = xml.etree.ElementTree.parse(fp)\n",
    "    fp.close()\n",
    "    \n",
    "    \n",
    "    for item in root.iter():\n",
    "        if item.tag.endswith('dataset'):\n",
    "            if item.attrib['name'].endswith('.nc'):\n",
    "                yield str(\n",
    "                    yarl.URL(url).with_name(item.attrib['name'])\n",
    "                ).replace('/catalog/', '/dodsC/')\n"
   ]
  },
  {
   "cell_type": "code",
   "execution_count": 19,
   "metadata": {},
   "outputs": [],
   "source": [
    "# create a list of all available url's\n",
    "urls_onshore = list(read_catalog(catalog_onshore))\n",
    "urls_offshore = list(read_catalog(catalog_offshore))\n",
    "urls = urls_onshore + urls_offshore"
   ]
  },
  {
   "cell_type": "code",
   "execution_count": null,
   "metadata": {},
   "outputs": [
    {
     "data": {
      "application/vnd.jupyter.widget-view+json": {
       "model_id": "864f3e00260d41cf9b202064e9b126b2",
       "version_major": 2,
       "version_minor": 0
      },
      "text/plain": [
       "HBox(children=(IntProgress(value=0, max=269), HTML(value='')))"
      ]
     },
     "metadata": {},
     "output_type": "display_data"
    }
   ],
   "source": [
    "rows = []\n",
    "for url in tqdm.tqdm_notebook(urls):\n",
    "    row = {}\n",
    "    with netCDF4.Dataset(url) as ds:\n",
    "        for attr in ds.ncattrs():\n",
    "            row[attr] = getattr(ds, attr)\n",
    "    row['url'] = url\n",
    "    rows.append(row)"
   ]
  },
  {
   "cell_type": "code",
   "execution_count": null,
   "metadata": {},
   "outputs": [],
   "source": [
    "# collect all info, convert points to geospatial objects\n",
    "df = pd.DataFrame(rows)\n",
    "df['lat'] = df['geospatial_lat_min']\n",
    "df['lon'] = df['geospatial_lon_min']\n",
    "df['point'] = df.apply(lambda row: shapely.geometry.Point(row.lon, row.lat), axis=1)\n",
    "df['is_onshore'] = df['url'].apply(lambda x: x in urls_onshore)\n",
    "df['is_offshore'] = df['url'].apply(lambda x: x in urls_offshore)"
   ]
  },
  {
   "cell_type": "code",
   "execution_count": null,
   "metadata": {},
   "outputs": [],
   "source": [
    "# separate coast and offshore and other\n",
    "coast_json = {\"type\":\"FeatureCollection\",\"features\":[{\"type\":\"Feature\",\"properties\":{},\"geometry\":{\"type\":\"Polygon\",\"coordinates\":[[[3.2299804687499996,51.52925135518991],[3.427734375,51.172455303299],[4.3011474609375,51.26535213392538],[4.29840087890625,51.42832700421254],[3.6090087890625004,51.515579783755925],[3.7628173828124996,51.67255514839674],[3.93310546875,51.80691653515817],[4.04296875,51.80691653515817],[4.119873046875,51.87309959004367],[4.42474365234375,51.82559340146247],[4.29290771484375,52.05924589011585],[4.64447021484375,52.399067302933304],[4.87518310546875,52.826001860971836],[5.438232421875,53.108865487028616],[5.847473144531249,53.32759237756109],[6.30615234375,53.337433437129675],[6.712646484375,53.28492154619624],[7.086181640625,53.1928702436326],[7.283935546874999,53.199451902831555],[7.218017578125001,53.44880683542759],[6.8994140625,53.75520681580145],[5.44921875,65.25670649344259],[-9.4921875,63.39152174400882],[0.85693359375,52.01869808104436],[3.2299804687499996,51.52925135518991]]]}}]}\n",
    "coast = shapely.geometry.asShape(geojson.GeoJSON(coast_json)['features'][0]['geometry'])\n",
    "df['is_coast'] = df['point'].apply(lambda point: coast.contains(point))\n"
   ]
  },
  {
   "cell_type": "code",
   "execution_count": null,
   "metadata": {},
   "outputs": [],
   "source": [
    "fig, ax = plt.subplots()\n",
    "ax.scatter(df['lon'], df['lat'], c=df['is_coast'])\n",
    "ax.axis('equal')"
   ]
  },
  {
   "cell_type": "code",
   "execution_count": null,
   "metadata": {},
   "outputs": [],
   "source": [
    "# show number of stations\n",
    "df.groupby('is_coast')['is_coast'].count()"
   ]
  },
  {
   "cell_type": "code",
   "execution_count": null,
   "metadata": {},
   "outputs": [],
   "source": [
    "# split coastal stations into offshore and onshore\n",
    "df[df['is_coast'] == True].groupby('is_onshore').count()['is_coast']\n"
   ]
  },
  {
   "cell_type": "code",
   "execution_count": null,
   "metadata": {},
   "outputs": [],
   "source": [
    "# convert to spatial data frame\n",
    "gdf = geopandas.GeoDataFrame(df, geometry='point')"
   ]
  },
  {
   "cell_type": "code",
   "execution_count": null,
   "metadata": {},
   "outputs": [],
   "source": [
    "# parse dates, what is that P doing there.\n",
    "df['time_start'] = df['time_coverage_start'].apply(lambda x: dateutil.parser.parse(x.replace('P', 'T')))\n",
    "df['time_end'] = df['time_coverage_end'].apply(lambda x: dateutil.parser.parse(x.replace('P', 'T')))\n",
    "df['is_active'] = df['time_end'].apply(lambda x: x > datetime.datetime(2017, 1, 1))"
   ]
  },
  {
   "cell_type": "code",
   "execution_count": null,
   "metadata": {},
   "outputs": [],
   "source": [
    "fig, ax = plt.subplots(figsize=(13, 20))\n",
    "selected = df[df['is_coast']].sort_values(['time_start', 'time_end']).reset_index()\n",
    "\n",
    "active_colors = {\n",
    "    True: 'green',\n",
    "    False: 'red'\n",
    "}\n",
    "offshore_linestyle = {\n",
    "    True: 'dotted',\n",
    "    False: 'solid'\n",
    "    \n",
    "}\n",
    "for i, row in selected.iterrows():\n",
    "    ax.hlines(\n",
    "        i, \n",
    "        row['time_start'], \n",
    "        row['time_end'], \n",
    "        colors=active_colors[row['is_active']], \n",
    "        linestyles=offshore_linestyle[row['is_offshore']]\n",
    "    )\n",
    "    ax.annotate(row['location'], (row['time_start'], i), horizontalalignment='right')\n",
    "ax.yaxis.set_visible(False)\n",
    "ax.grid(True)\n",
    "ax.set_xlabel('Date')\n",
    "fig.savefig('waterbase.pdf')"
   ]
  },
  {
   "cell_type": "code",
   "execution_count": null,
   "metadata": {},
   "outputs": [],
   "source": []
  }
 ],
 "metadata": {
  "kernelspec": {
   "display_name": "Python 3",
   "language": "python",
   "name": "python3"
  },
  "language_info": {
   "codemirror_mode": {
    "name": "ipython",
    "version": 3
   },
   "file_extension": ".py",
   "mimetype": "text/x-python",
   "name": "python",
   "nbconvert_exporter": "python",
   "pygments_lexer": "ipython3",
   "version": "3.6.9"
  }
 },
 "nbformat": 4,
 "nbformat_minor": 2
}
