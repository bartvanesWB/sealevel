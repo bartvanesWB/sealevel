{
 "cells": [
  {
   "cell_type": "markdown",
   "metadata": {},
   "source": [
    "Sealevel monitor\n",
    "========\n",
    "\n",
    "This document is used to monitor the current sea level along the Wadden coast. The sea level is measured using a number of tide gauges. Six long running tide gauges are considered \"main stations\". The mean of these stations is used to estimate the \"current sea-level rise\". The measurements since 1890 are taken into account. Measurements before that are considered less valid because the Amsterdam Ordnance Datum was not yet normalized. Measurements for Cuxhaven are related to the Normal Null."
   ]
  },
  {
   "cell_type": "code",
   "execution_count": 1,
   "metadata": {},
   "outputs": [
    {
     "name": "stderr",
     "output_type": "stream",
     "text": [
      "/Users/baart_f/.virtualenvs/main/lib/python3.6/site-packages/statsmodels/compat/pandas.py:56: FutureWarning: The pandas.core.datetools module is deprecated and will be removed in a future version. Please use the pandas.tseries module instead.\n",
      "  from pandas.core import datetools\n",
      "/Users/baart_f/.virtualenvs/main/lib/python3.6/site-packages/cmocean/tools.py:76: MatplotlibDeprecationWarning: The is_string_like function was deprecated in version 2.1.\n",
      "  if not mpl.cbook.is_string_like(rgbin[0]):\n"
     ]
    }
   ],
   "source": [
    "# this is a list of packages that are used in this notebook\n",
    "# these come with python\n",
    "import io\n",
    "import zipfile\n",
    "import functools\n",
    "import bisect\n",
    "import datetime\n",
    "\n",
    "\n",
    "# you can install these packages using pip or anaconda\n",
    "# (requests numpy pandas bokeh pyproj statsmodels)\n",
    "\n",
    "# for downloading\n",
    "import requests\n",
    "import netCDF4\n",
    "\n",
    "# computation libraries\n",
    "import numpy as np\n",
    "import pandas\n",
    "\n",
    "\n",
    "# coordinate systems\n",
    "import pyproj \n",
    "\n",
    "# statistics\n",
    "import statsmodels.api as sm\n",
    "import statsmodels.multivariate.pca\n",
    "import statsmodels.tsa.seasonal\n",
    "\n",
    "\n",
    "# plotting\n",
    "import bokeh.io\n",
    "import bokeh.plotting\n",
    "import bokeh.tile_providers\n",
    "import bokeh.palettes\n",
    "\n",
    "import windrose\n",
    "import matplotlib.colors\n",
    "import matplotlib.cm\n",
    "import matplotlib.pyplot as plt\n",
    "matplotlib.projections.register_projection(windrose.WindroseAxes)\n",
    "import cmocean.cm\n",
    "\n",
    "# displaying things\n",
    "from ipywidgets import Image\n",
    "import IPython.display"
   ]
  },
  {
   "cell_type": "code",
   "execution_count": 2,
   "metadata": {},
   "outputs": [
    {
     "data": {
      "text/html": [
       "\n",
       "    <div class=\"bk-root\">\n",
       "        <a href=\"https://bokeh.pydata.org\" target=\"_blank\" class=\"bk-logo bk-logo-small bk-logo-notebook\"></a>\n",
       "        <span id=\"75fb4927-395c-43ad-9528-6d704152ab88\">Loading BokehJS ...</span>\n",
       "    </div>"
      ]
     },
     "metadata": {},
     "output_type": "display_data"
    },
    {
     "data": {
      "application/javascript": [
       "\n",
       "(function(root) {\n",
       "  function now() {\n",
       "    return new Date();\n",
       "  }\n",
       "\n",
       "  var force = true;\n",
       "\n",
       "  if (typeof (root._bokeh_onload_callbacks) === \"undefined\" || force === true) {\n",
       "    root._bokeh_onload_callbacks = [];\n",
       "    root._bokeh_is_loading = undefined;\n",
       "  }\n",
       "\n",
       "  var JS_MIME_TYPE = 'application/javascript';\n",
       "  var HTML_MIME_TYPE = 'text/html';\n",
       "  var EXEC_MIME_TYPE = 'application/vnd.bokehjs_exec.v0+json';\n",
       "  var CLASS_NAME = 'output_bokeh rendered_html';\n",
       "\n",
       "  /**\n",
       "   * Render data to the DOM node\n",
       "   */\n",
       "  function render(props, node) {\n",
       "    var script = document.createElement(\"script\");\n",
       "    node.appendChild(script);\n",
       "  }\n",
       "\n",
       "  /**\n",
       "   * Handle when an output is cleared or removed\n",
       "   */\n",
       "  function handleClearOutput(event, handle) {\n",
       "    var cell = handle.cell;\n",
       "\n",
       "    var id = cell.output_area._bokeh_element_id;\n",
       "    var server_id = cell.output_area._bokeh_server_id;\n",
       "    // Clean up Bokeh references\n",
       "    if (id !== undefined) {\n",
       "      Bokeh.index[id].model.document.clear();\n",
       "      delete Bokeh.index[id];\n",
       "    }\n",
       "\n",
       "    if (server_id !== undefined) {\n",
       "      // Clean up Bokeh references\n",
       "      var cmd = \"from bokeh.io.state import curstate; print(curstate().uuid_to_server['\" + server_id + \"'].get_sessions()[0].document.roots[0]._id)\";\n",
       "      cell.notebook.kernel.execute(cmd, {\n",
       "        iopub: {\n",
       "          output: function(msg) {\n",
       "            var element_id = msg.content.text.trim();\n",
       "            Bokeh.index[element_id].model.document.clear();\n",
       "            delete Bokeh.index[element_id];\n",
       "          }\n",
       "        }\n",
       "      });\n",
       "      // Destroy server and session\n",
       "      var cmd = \"import bokeh.io.notebook as ion; ion.destroy_server('\" + server_id + \"')\";\n",
       "      cell.notebook.kernel.execute(cmd);\n",
       "    }\n",
       "  }\n",
       "\n",
       "  /**\n",
       "   * Handle when a new output is added\n",
       "   */\n",
       "  function handleAddOutput(event, handle) {\n",
       "    var output_area = handle.output_area;\n",
       "    var output = handle.output;\n",
       "\n",
       "    // limit handleAddOutput to display_data with EXEC_MIME_TYPE content only\n",
       "    if ((output.output_type != \"display_data\") || (!output.data.hasOwnProperty(EXEC_MIME_TYPE))) {\n",
       "      return\n",
       "    }\n",
       "\n",
       "    var toinsert = output_area.element.find(`.${CLASS_NAME.split(' ')[0]}`);\n",
       "\n",
       "    if (output.metadata[EXEC_MIME_TYPE][\"id\"] !== undefined) {\n",
       "      toinsert[0].firstChild.textContent = output.data[JS_MIME_TYPE];\n",
       "      // store reference to embed id on output_area\n",
       "      output_area._bokeh_element_id = output.metadata[EXEC_MIME_TYPE][\"id\"];\n",
       "    }\n",
       "    if (output.metadata[EXEC_MIME_TYPE][\"server_id\"] !== undefined) {\n",
       "      var bk_div = document.createElement(\"div\");\n",
       "      bk_div.innerHTML = output.data[HTML_MIME_TYPE];\n",
       "      var script_attrs = bk_div.children[0].attributes;\n",
       "      for (var i = 0; i < script_attrs.length; i++) {\n",
       "        toinsert[0].firstChild.setAttribute(script_attrs[i].name, script_attrs[i].value);\n",
       "      }\n",
       "      // store reference to server id on output_area\n",
       "      output_area._bokeh_server_id = output.metadata[EXEC_MIME_TYPE][\"server_id\"];\n",
       "    }\n",
       "  }\n",
       "\n",
       "  function register_renderer(events, OutputArea) {\n",
       "\n",
       "    function append_mime(data, metadata, element) {\n",
       "      // create a DOM node to render to\n",
       "      var toinsert = this.create_output_subarea(\n",
       "        metadata,\n",
       "        CLASS_NAME,\n",
       "        EXEC_MIME_TYPE\n",
       "      );\n",
       "      this.keyboard_manager.register_events(toinsert);\n",
       "      // Render to node\n",
       "      var props = {data: data, metadata: metadata[EXEC_MIME_TYPE]};\n",
       "      render(props, toinsert[0]);\n",
       "      element.append(toinsert);\n",
       "      return toinsert\n",
       "    }\n",
       "\n",
       "    /* Handle when an output is cleared or removed */\n",
       "    events.on('clear_output.CodeCell', handleClearOutput);\n",
       "    events.on('delete.Cell', handleClearOutput);\n",
       "\n",
       "    /* Handle when a new output is added */\n",
       "    events.on('output_added.OutputArea', handleAddOutput);\n",
       "\n",
       "    /**\n",
       "     * Register the mime type and append_mime function with output_area\n",
       "     */\n",
       "    OutputArea.prototype.register_mime_type(EXEC_MIME_TYPE, append_mime, {\n",
       "      /* Is output safe? */\n",
       "      safe: true,\n",
       "      /* Index of renderer in `output_area.display_order` */\n",
       "      index: 0\n",
       "    });\n",
       "  }\n",
       "\n",
       "  // register the mime type if in Jupyter Notebook environment and previously unregistered\n",
       "  if (root.Jupyter !== undefined) {\n",
       "    var events = require('base/js/events');\n",
       "    var OutputArea = require('notebook/js/outputarea').OutputArea;\n",
       "\n",
       "    if (OutputArea.prototype.mime_types().indexOf(EXEC_MIME_TYPE) == -1) {\n",
       "      register_renderer(events, OutputArea);\n",
       "    }\n",
       "  }\n",
       "\n",
       "  \n",
       "  if (typeof (root._bokeh_timeout) === \"undefined\" || force === true) {\n",
       "    root._bokeh_timeout = Date.now() + 5000;\n",
       "    root._bokeh_failed_load = false;\n",
       "  }\n",
       "\n",
       "  var NB_LOAD_WARNING = {'data': {'text/html':\n",
       "     \"<div style='background-color: #fdd'>\\n\"+\n",
       "     \"<p>\\n\"+\n",
       "     \"BokehJS does not appear to have successfully loaded. If loading BokehJS from CDN, this \\n\"+\n",
       "     \"may be due to a slow or bad network connection. Possible fixes:\\n\"+\n",
       "     \"</p>\\n\"+\n",
       "     \"<ul>\\n\"+\n",
       "     \"<li>re-rerun `output_notebook()` to attempt to load from CDN again, or</li>\\n\"+\n",
       "     \"<li>use INLINE resources instead, as so:</li>\\n\"+\n",
       "     \"</ul>\\n\"+\n",
       "     \"<code>\\n\"+\n",
       "     \"from bokeh.resources import INLINE\\n\"+\n",
       "     \"output_notebook(resources=INLINE)\\n\"+\n",
       "     \"</code>\\n\"+\n",
       "     \"</div>\"}};\n",
       "\n",
       "  function display_loaded() {\n",
       "    var el = document.getElementById(\"75fb4927-395c-43ad-9528-6d704152ab88\");\n",
       "    if (el != null) {\n",
       "      el.textContent = \"BokehJS is loading...\";\n",
       "    }\n",
       "    if (root.Bokeh !== undefined) {\n",
       "      if (el != null) {\n",
       "        el.textContent = \"BokehJS \" + root.Bokeh.version + \" successfully loaded.\";\n",
       "      }\n",
       "    } else if (Date.now() < root._bokeh_timeout) {\n",
       "      setTimeout(display_loaded, 100)\n",
       "    }\n",
       "  }\n",
       "\n",
       "\n",
       "  function run_callbacks() {\n",
       "    try {\n",
       "      root._bokeh_onload_callbacks.forEach(function(callback) { callback() });\n",
       "    }\n",
       "    finally {\n",
       "      delete root._bokeh_onload_callbacks\n",
       "    }\n",
       "    console.info(\"Bokeh: all callbacks have finished\");\n",
       "  }\n",
       "\n",
       "  function load_libs(js_urls, callback) {\n",
       "    root._bokeh_onload_callbacks.push(callback);\n",
       "    if (root._bokeh_is_loading > 0) {\n",
       "      console.log(\"Bokeh: BokehJS is being loaded, scheduling callback at\", now());\n",
       "      return null;\n",
       "    }\n",
       "    if (js_urls == null || js_urls.length === 0) {\n",
       "      run_callbacks();\n",
       "      return null;\n",
       "    }\n",
       "    console.log(\"Bokeh: BokehJS not loaded, scheduling load and callback at\", now());\n",
       "    root._bokeh_is_loading = js_urls.length;\n",
       "    for (var i = 0; i < js_urls.length; i++) {\n",
       "      var url = js_urls[i];\n",
       "      var s = document.createElement('script');\n",
       "      s.src = url;\n",
       "      s.async = false;\n",
       "      s.onreadystatechange = s.onload = function() {\n",
       "        root._bokeh_is_loading--;\n",
       "        if (root._bokeh_is_loading === 0) {\n",
       "          console.log(\"Bokeh: all BokehJS libraries loaded\");\n",
       "          run_callbacks()\n",
       "        }\n",
       "      };\n",
       "      s.onerror = function() {\n",
       "        console.warn(\"failed to load library \" + url);\n",
       "      };\n",
       "      console.log(\"Bokeh: injecting script tag for BokehJS library: \", url);\n",
       "      document.getElementsByTagName(\"head\")[0].appendChild(s);\n",
       "    }\n",
       "  };var element = document.getElementById(\"75fb4927-395c-43ad-9528-6d704152ab88\");\n",
       "  if (element == null) {\n",
       "    console.log(\"Bokeh: ERROR: autoload.js configured with elementid '75fb4927-395c-43ad-9528-6d704152ab88' but no matching script tag was found. \")\n",
       "    return false;\n",
       "  }\n",
       "\n",
       "  var js_urls = [\"https://cdn.pydata.org/bokeh/release/bokeh-0.12.10.min.js\", \"https://cdn.pydata.org/bokeh/release/bokeh-widgets-0.12.10.min.js\", \"https://cdn.pydata.org/bokeh/release/bokeh-tables-0.12.10.min.js\", \"https://cdn.pydata.org/bokeh/release/bokeh-gl-0.12.10.min.js\"];\n",
       "\n",
       "  var inline_js = [\n",
       "    function(Bokeh) {\n",
       "      Bokeh.set_log_level(\"info\");\n",
       "    },\n",
       "    \n",
       "    function(Bokeh) {\n",
       "      \n",
       "    },\n",
       "    function(Bokeh) {\n",
       "      console.log(\"Bokeh: injecting CSS: https://cdn.pydata.org/bokeh/release/bokeh-0.12.10.min.css\");\n",
       "      Bokeh.embed.inject_css(\"https://cdn.pydata.org/bokeh/release/bokeh-0.12.10.min.css\");\n",
       "      console.log(\"Bokeh: injecting CSS: https://cdn.pydata.org/bokeh/release/bokeh-widgets-0.12.10.min.css\");\n",
       "      Bokeh.embed.inject_css(\"https://cdn.pydata.org/bokeh/release/bokeh-widgets-0.12.10.min.css\");\n",
       "      console.log(\"Bokeh: injecting CSS: https://cdn.pydata.org/bokeh/release/bokeh-tables-0.12.10.min.css\");\n",
       "      Bokeh.embed.inject_css(\"https://cdn.pydata.org/bokeh/release/bokeh-tables-0.12.10.min.css\");\n",
       "    }\n",
       "  ];\n",
       "\n",
       "  function run_inline_js() {\n",
       "    \n",
       "    if ((root.Bokeh !== undefined) || (force === true)) {\n",
       "      for (var i = 0; i < inline_js.length; i++) {\n",
       "        inline_js[i].call(root, root.Bokeh);\n",
       "      }if (force === true) {\n",
       "        display_loaded();\n",
       "      }} else if (Date.now() < root._bokeh_timeout) {\n",
       "      setTimeout(run_inline_js, 100);\n",
       "    } else if (!root._bokeh_failed_load) {\n",
       "      console.log(\"Bokeh: BokehJS failed to load within specified timeout.\");\n",
       "      root._bokeh_failed_load = true;\n",
       "    } else if (force !== true) {\n",
       "      var cell = $(document.getElementById(\"75fb4927-395c-43ad-9528-6d704152ab88\")).parents('.cell').data().cell;\n",
       "      cell.output_area.append_execute_result(NB_LOAD_WARNING)\n",
       "    }\n",
       "\n",
       "  }\n",
       "\n",
       "  if (root._bokeh_is_loading === 0) {\n",
       "    console.log(\"Bokeh: BokehJS loaded, going straight to plotting\");\n",
       "    run_inline_js();\n",
       "  } else {\n",
       "    load_libs(js_urls, function() {\n",
       "      console.log(\"Bokeh: BokehJS plotting callback run at\", now());\n",
       "      run_inline_js();\n",
       "    });\n",
       "  }\n",
       "}(window));"
      ],
      "application/vnd.bokehjs_load.v0+json": "\n(function(root) {\n  function now() {\n    return new Date();\n  }\n\n  var force = true;\n\n  if (typeof (root._bokeh_onload_callbacks) === \"undefined\" || force === true) {\n    root._bokeh_onload_callbacks = [];\n    root._bokeh_is_loading = undefined;\n  }\n\n  \n\n  \n  if (typeof (root._bokeh_timeout) === \"undefined\" || force === true) {\n    root._bokeh_timeout = Date.now() + 5000;\n    root._bokeh_failed_load = false;\n  }\n\n  var NB_LOAD_WARNING = {'data': {'text/html':\n     \"<div style='background-color: #fdd'>\\n\"+\n     \"<p>\\n\"+\n     \"BokehJS does not appear to have successfully loaded. If loading BokehJS from CDN, this \\n\"+\n     \"may be due to a slow or bad network connection. Possible fixes:\\n\"+\n     \"</p>\\n\"+\n     \"<ul>\\n\"+\n     \"<li>re-rerun `output_notebook()` to attempt to load from CDN again, or</li>\\n\"+\n     \"<li>use INLINE resources instead, as so:</li>\\n\"+\n     \"</ul>\\n\"+\n     \"<code>\\n\"+\n     \"from bokeh.resources import INLINE\\n\"+\n     \"output_notebook(resources=INLINE)\\n\"+\n     \"</code>\\n\"+\n     \"</div>\"}};\n\n  function display_loaded() {\n    var el = document.getElementById(\"75fb4927-395c-43ad-9528-6d704152ab88\");\n    if (el != null) {\n      el.textContent = \"BokehJS is loading...\";\n    }\n    if (root.Bokeh !== undefined) {\n      if (el != null) {\n        el.textContent = \"BokehJS \" + root.Bokeh.version + \" successfully loaded.\";\n      }\n    } else if (Date.now() < root._bokeh_timeout) {\n      setTimeout(display_loaded, 100)\n    }\n  }\n\n\n  function run_callbacks() {\n    try {\n      root._bokeh_onload_callbacks.forEach(function(callback) { callback() });\n    }\n    finally {\n      delete root._bokeh_onload_callbacks\n    }\n    console.info(\"Bokeh: all callbacks have finished\");\n  }\n\n  function load_libs(js_urls, callback) {\n    root._bokeh_onload_callbacks.push(callback);\n    if (root._bokeh_is_loading > 0) {\n      console.log(\"Bokeh: BokehJS is being loaded, scheduling callback at\", now());\n      return null;\n    }\n    if (js_urls == null || js_urls.length === 0) {\n      run_callbacks();\n      return null;\n    }\n    console.log(\"Bokeh: BokehJS not loaded, scheduling load and callback at\", now());\n    root._bokeh_is_loading = js_urls.length;\n    for (var i = 0; i < js_urls.length; i++) {\n      var url = js_urls[i];\n      var s = document.createElement('script');\n      s.src = url;\n      s.async = false;\n      s.onreadystatechange = s.onload = function() {\n        root._bokeh_is_loading--;\n        if (root._bokeh_is_loading === 0) {\n          console.log(\"Bokeh: all BokehJS libraries loaded\");\n          run_callbacks()\n        }\n      };\n      s.onerror = function() {\n        console.warn(\"failed to load library \" + url);\n      };\n      console.log(\"Bokeh: injecting script tag for BokehJS library: \", url);\n      document.getElementsByTagName(\"head\")[0].appendChild(s);\n    }\n  };var element = document.getElementById(\"75fb4927-395c-43ad-9528-6d704152ab88\");\n  if (element == null) {\n    console.log(\"Bokeh: ERROR: autoload.js configured with elementid '75fb4927-395c-43ad-9528-6d704152ab88' but no matching script tag was found. \")\n    return false;\n  }\n\n  var js_urls = [\"https://cdn.pydata.org/bokeh/release/bokeh-0.12.10.min.js\", \"https://cdn.pydata.org/bokeh/release/bokeh-widgets-0.12.10.min.js\", \"https://cdn.pydata.org/bokeh/release/bokeh-tables-0.12.10.min.js\", \"https://cdn.pydata.org/bokeh/release/bokeh-gl-0.12.10.min.js\"];\n\n  var inline_js = [\n    function(Bokeh) {\n      Bokeh.set_log_level(\"info\");\n    },\n    \n    function(Bokeh) {\n      \n    },\n    function(Bokeh) {\n      console.log(\"Bokeh: injecting CSS: https://cdn.pydata.org/bokeh/release/bokeh-0.12.10.min.css\");\n      Bokeh.embed.inject_css(\"https://cdn.pydata.org/bokeh/release/bokeh-0.12.10.min.css\");\n      console.log(\"Bokeh: injecting CSS: https://cdn.pydata.org/bokeh/release/bokeh-widgets-0.12.10.min.css\");\n      Bokeh.embed.inject_css(\"https://cdn.pydata.org/bokeh/release/bokeh-widgets-0.12.10.min.css\");\n      console.log(\"Bokeh: injecting CSS: https://cdn.pydata.org/bokeh/release/bokeh-tables-0.12.10.min.css\");\n      Bokeh.embed.inject_css(\"https://cdn.pydata.org/bokeh/release/bokeh-tables-0.12.10.min.css\");\n    }\n  ];\n\n  function run_inline_js() {\n    \n    if ((root.Bokeh !== undefined) || (force === true)) {\n      for (var i = 0; i < inline_js.length; i++) {\n        inline_js[i].call(root, root.Bokeh);\n      }if (force === true) {\n        display_loaded();\n      }} else if (Date.now() < root._bokeh_timeout) {\n      setTimeout(run_inline_js, 100);\n    } else if (!root._bokeh_failed_load) {\n      console.log(\"Bokeh: BokehJS failed to load within specified timeout.\");\n      root._bokeh_failed_load = true;\n    } else if (force !== true) {\n      var cell = $(document.getElementById(\"75fb4927-395c-43ad-9528-6d704152ab88\")).parents('.cell').data().cell;\n      cell.output_area.append_execute_result(NB_LOAD_WARNING)\n    }\n\n  }\n\n  if (root._bokeh_is_loading === 0) {\n    console.log(\"Bokeh: BokehJS loaded, going straight to plotting\");\n    run_inline_js();\n  } else {\n    load_libs(js_urls, function() {\n      console.log(\"Bokeh: BokehJS plotting callback run at\", now());\n      run_inline_js();\n    });\n  }\n}(window));"
     },
     "metadata": {},
     "output_type": "display_data"
    }
   ],
   "source": [
    "# Some coordinate systems\n",
    "WEBMERCATOR = pyproj.Proj(init='epsg:3857')\n",
    "WGS84 = pyproj.Proj(init='epsg:4326')\n",
    "\n",
    "# If this notebook is not showing up with figures, you can use the following url:\n",
    "# https://nbviewer.ipython.org/github/openearth/notebooks/blob/master/sealevelmonitor.ipynb\n",
    "bokeh.io.output_notebook()\n",
    "# we're using matplotlib for polar plots (non-interactive)\n",
    "%matplotlib inline\n",
    "# does not work properly\n",
    "# %matplotlib notebook\n"
   ]
  },
  {
   "cell_type": "markdown",
   "metadata": {},
   "source": [
    "Sea-level measurements\n",
    "=============\n",
    "In this section we download sea-level measurements. The global collection of tide gauge records at the PSMSL is used to access the data. The other way to access the data is to ask the service desk data at Rijkswaterstaat. There are two types of datasets the \"Revised Local Reference\" and \"Metric\". For the Netherlands the difference is that the \"Revised Local Reference\" undoes the corrections from the  NAP correction in 2014, to get a consistent dataset. Here we transform the RLR back to NAP (without undoing the correction)."
   ]
  },
  {
   "cell_type": "code",
   "execution_count": 3,
   "metadata": {},
   "outputs": [],
   "source": [
    "psmsl_urls = {\n",
    "    'met_monthly': 'http://www.psmsl.org/data/obtaining/met.monthly.data/met_monthly.zip',\n",
    "    'rlr_monthly': 'http://www.psmsl.org/data/obtaining/rlr.monthly.data/rlr_monthly.zip',\n",
    "    'rlr_annual': 'http://www.psmsl.org/data/obtaining/rlr.annual.data/rlr_annual.zip'\n",
    "}\n",
    "default_dataset_name = 'rlr_annual'"
   ]
  },
  {
   "cell_type": "code",
   "execution_count": 4,
   "metadata": {},
   "outputs": [],
   "source": [
    "# these compute the rlr back to NAP (ignoring the undoing of the NAP correction)\n",
    "main_stations = {\n",
    "    23: {\n",
    "        'name': 'Den Helder', \n",
    "        'rlr2nap': lambda x: x - (6988-42)\n",
    "    },\n",
    "    24: {\n",
    "        'name': 'Delfzijl', \n",
    "        'rlr2nap': lambda x: x - (6978-155)\n",
    "    },\n",
    "    25: {\n",
    "        'name': 'Harlingen', \n",
    "        'rlr2nap': lambda x: x - (7036-122)\n",
    "    },\n",
    "    7: {\n",
    "        'name': 'Cuxhaven',\n",
    "        # to Datum 2000- (see PSMSL diagram)\n",
    "        'rlr2nap': lambda x: x - (7154 - (5174 - 5020))\n",
    "    }\n",
    "\n",
    "}"
   ]
  },
  {
   "cell_type": "code",
   "execution_count": 5,
   "metadata": {},
   "outputs": [
    {
     "data": {
      "text/plain": [
       "[23, 24, 25, 7]"
      ]
     },
     "execution_count": 5,
     "metadata": {},
     "output_type": "execute_result"
    }
   ],
   "source": [
    "# the main stations are defined by their ids\n",
    "main_stations_idx = list(main_stations.keys())\n",
    "main_stations_idx"
   ]
  },
  {
   "cell_type": "code",
   "execution_count": 6,
   "metadata": {},
   "outputs": [
    {
     "data": {
      "text/html": [
       "<div>\n",
       "<style scoped>\n",
       "    .dataframe tbody tr th:only-of-type {\n",
       "        vertical-align: middle;\n",
       "    }\n",
       "\n",
       "    .dataframe tbody tr th {\n",
       "        vertical-align: top;\n",
       "    }\n",
       "\n",
       "    .dataframe thead th {\n",
       "        text-align: right;\n",
       "    }\n",
       "</style>\n",
       "<table border=\"1\" class=\"dataframe\">\n",
       "  <thead>\n",
       "    <tr style=\"text-align: right;\">\n",
       "      <th></th>\n",
       "      <th>lat</th>\n",
       "      <th>lon</th>\n",
       "      <th>name</th>\n",
       "      <th>coastline_code</th>\n",
       "      <th>station_code</th>\n",
       "      <th>quality</th>\n",
       "    </tr>\n",
       "    <tr>\n",
       "      <th>id</th>\n",
       "      <th></th>\n",
       "      <th></th>\n",
       "      <th></th>\n",
       "      <th></th>\n",
       "      <th></th>\n",
       "      <th></th>\n",
       "    </tr>\n",
       "  </thead>\n",
       "  <tbody>\n",
       "    <tr>\n",
       "      <th>23</th>\n",
       "      <td>52.964444</td>\n",
       "      <td>4.745000</td>\n",
       "      <td>DEN HELDER</td>\n",
       "      <td>150</td>\n",
       "      <td>31</td>\n",
       "      <td>N</td>\n",
       "    </tr>\n",
       "    <tr>\n",
       "      <th>24</th>\n",
       "      <td>53.326389</td>\n",
       "      <td>6.933056</td>\n",
       "      <td>DELFZIJL</td>\n",
       "      <td>150</td>\n",
       "      <td>1</td>\n",
       "      <td>N</td>\n",
       "    </tr>\n",
       "    <tr>\n",
       "      <th>25</th>\n",
       "      <td>53.175556</td>\n",
       "      <td>5.409444</td>\n",
       "      <td>HARLINGEN</td>\n",
       "      <td>150</td>\n",
       "      <td>21</td>\n",
       "      <td>N</td>\n",
       "    </tr>\n",
       "    <tr>\n",
       "      <th>7</th>\n",
       "      <td>53.866667</td>\n",
       "      <td>8.716667</td>\n",
       "      <td>CUXHAVEN 2</td>\n",
       "      <td>140</td>\n",
       "      <td>12</td>\n",
       "      <td>N</td>\n",
       "    </tr>\n",
       "  </tbody>\n",
       "</table>\n",
       "</div>"
      ],
      "text/plain": [
       "          lat       lon        name  coastline_code  station_code quality\n",
       "id                                                                       \n",
       "23  52.964444  4.745000  DEN HELDER             150            31       N\n",
       "24  53.326389  6.933056    DELFZIJL             150             1       N\n",
       "25  53.175556  5.409444   HARLINGEN             150            21       N\n",
       "7   53.866667  8.716667  CUXHAVEN 2             140            12       N"
      ]
     },
     "execution_count": 6,
     "metadata": {},
     "output_type": "execute_result"
    }
   ],
   "source": [
    "# download the zipfile\n",
    "\n",
    "zipfiles = {}\n",
    "\n",
    "\n",
    "for dataset_name in psmsl_urls:\n",
    "    resp = requests.get(psmsl_urls[dataset_name])\n",
    "\n",
    "    # we can read the zipfile\n",
    "    stream = io.BytesIO(resp.content)\n",
    "    zf = zipfile.ZipFile(stream)\n",
    "    zipfiles[dataset_name] = zf\n",
    "\n",
    "# this list contains a table of \n",
    "# station ID, latitude, longitude, station name, coastline code, station code, and quality flag\n",
    "csvtext = zipfiles[dataset_name].read('{}/filelist.txt'.format(dataset_name))\n",
    "\n",
    "stations = pandas.read_csv(\n",
    "    io.BytesIO(csvtext), \n",
    "    sep=';',\n",
    "    names=('id', 'lat', 'lon', 'name', 'coastline_code', 'station_code', 'quality'),\n",
    "    converters={\n",
    "        'name': str.strip,\n",
    "        'quality': str.strip\n",
    "    }\n",
    ")\n",
    "stations = stations.set_index('id')\n",
    "\n",
    "# the dutch stations in the PSMSL database, make a copy\n",
    "# or use stations.coastline_code == 150 for all dutch stations\n",
    "selected_stations = stations.loc[main_stations_idx].copy()\n",
    "# set the main stations, this should be a list of 6 stations\n",
    "selected_stations"
   ]
  },
  {
   "cell_type": "code",
   "execution_count": 7,
   "metadata": {},
   "outputs": [],
   "source": [
    "# show all the stations on a map\n",
    "\n",
    "# compute the bounds of the plot\n",
    "sw = (50, -5)\n",
    "ne = (55, 10)\n",
    "# transform to web mercator\n",
    "sw_wm = pyproj.transform(WGS84, WEBMERCATOR, sw[1], sw[0])\n",
    "ne_wm = pyproj.transform(WGS84, WEBMERCATOR, ne[1], ne[0])\n",
    "# create a plot\n",
    "fig = bokeh.plotting.figure(tools='pan, wheel_zoom', plot_width=600, plot_height=200, x_range=(sw_wm[0], ne_wm[0]), y_range=(sw_wm[1], ne_wm[1]))\n",
    "fig.axis.visible = False\n",
    "# add some background tiles\n",
    "fig.add_tile(bokeh.tile_providers.STAMEN_TERRAIN)\n",
    "# add the stations\n",
    "x, y = pyproj.transform(WGS84, WEBMERCATOR, np.array(stations.lon), np.array(stations.lat))\n",
    "fig.circle(x, y)\n",
    "x, y = pyproj.transform(WGS84, WEBMERCATOR, np.array(selected_stations.lon), np.array(selected_stations.lat))\n",
    "_ = fig.circle(x, y, color='red')\n"
   ]
  },
  {
   "cell_type": "code",
   "execution_count": 8,
   "metadata": {},
   "outputs": [
    {
     "data": {
      "text/html": [
       "\n",
       "<div class=\"bk-root\">\n",
       "    <div class=\"bk-plotdiv\" id=\"140f4916-2537-45b7-bad1-a5065a775c4c\"></div>\n",
       "</div>"
      ]
     },
     "metadata": {},
     "output_type": "display_data"
    },
    {
     "data": {
      "application/javascript": [
       "(function(root) {\n",
       "  function embed_document(root) {\n",
       "    var docs_json = {\"e75ceaba-6fc7-4bbf-af95-82f87b699a86\":{\"roots\":{\"references\":[{\"attributes\":{},\"id\":\"4e444b9c-689a-4682-9497-050099d6d66d\",\"type\":\"PanTool\"},{\"attributes\":{\"source\":{\"id\":\"386dddbd-9d75-4db2-9ccb-37d46bdcc752\",\"type\":\"ColumnDataSource\"}},\"id\":\"6287e46a-7f3d-41cd-b2a7-a6307aa7ca16\",\"type\":\"CDSView\"},{\"attributes\":{\"attribution\":\"Map tiles by <a href=\\\"http://stamen.com\\\">Stamen Design</a>, under <a href=\\\"http://creativecommons.org/licenses/by/3.0\\\">CC BY 3.0</a>. Data by <a href=\\\"http://openstreetmap.org\\\">OpenStreetMap</a>, under <a href=\\\"http://creativecommons.org/licenses/by-sa/3.0\\\">CC BY SA</a>.\",\"url\":\"http://tile.stamen.com/terrain/{Z}/{X}/{Y}.png\"},\"id\":\"1e021be3-4b88-43ec-afd1-6bd4b960fcca\",\"type\":\"WMTSTileSource\"},{\"attributes\":{\"callback\":null,\"column_names\":[\"x\",\"y\"],\"data\":{\"x\":{\"__ndarray__\":\"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\",\"dtype\":\"float64\",\"shape\":[1504]},\"y\":{\"__ndarray__\":\"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\",\"dtype\":\"float64\",\"shape\":[1504]}}},\"id\":\"20f26211-7e66-4f81-83c4-15f620a3f6c7\",\"type\":\"ColumnDataSource\"},{\"attributes\":{\"callback\":null,\"end\":1113194.9079327343,\"start\":-556597.4539663672},\"id\":\"8448b852-058b-47ca-a454-d6a06d2367ad\",\"type\":\"Range1d\"},{\"attributes\":{\"below\":[{\"id\":\"e52bbfbd-97c4-4f1c-a70d-4cf3b4c25c64\",\"type\":\"LinearAxis\"}],\"left\":[{\"id\":\"238ef1ba-aff3-413f-b0f1-7f8222440c71\",\"type\":\"LinearAxis\"}],\"plot_height\":200,\"renderers\":[{\"id\":\"e52bbfbd-97c4-4f1c-a70d-4cf3b4c25c64\",\"type\":\"LinearAxis\"},{\"id\":\"5f907df5-abd0-45bf-89fb-18a4d7238a26\",\"type\":\"Grid\"},{\"id\":\"238ef1ba-aff3-413f-b0f1-7f8222440c71\",\"type\":\"LinearAxis\"},{\"id\":\"229da8a5-5469-412d-964f-bc94eaada43d\",\"type\":\"Grid\"},{\"id\":\"7ac0a39c-eb07-4b0b-87e8-08dabaeaf347\",\"type\":\"TileRenderer\"},{\"id\":\"1c635241-9b63-43ec-ba32-cedef9cfa92f\",\"type\":\"GlyphRenderer\"},{\"id\":\"db7e1804-3d77-44d5-bd47-24f447fcf79f\",\"type\":\"GlyphRenderer\"}],\"title\":{\"id\":\"a1cdf71c-de0e-41c3-8081-caab16a164d1\",\"type\":\"Title\"},\"toolbar\":{\"id\":\"26bf62e4-4453-4f06-9001-a0774dc81aa1\",\"type\":\"Toolbar\"},\"x_range\":{\"id\":\"8448b852-058b-47ca-a454-d6a06d2367ad\",\"type\":\"Range1d\"},\"x_scale\":{\"id\":\"b8a670f3-4d2c-4f5f-9ad4-f0f4f3b043b3\",\"type\":\"LinearScale\"},\"y_range\":{\"id\":\"32805b7d-c01c-4879-ad39-c764d2bf254d\",\"type\":\"Range1d\"},\"y_scale\":{\"id\":\"d0be48f3-46e2-4f46-89c7-73caa42ee1b1\",\"type\":\"LinearScale\"}},\"id\":\"84245584-fc6d-41a3-8e2e-db25e2b8c7e0\",\"subtype\":\"Figure\",\"type\":\"Plot\"},{\"attributes\":{},\"id\":\"b8a670f3-4d2c-4f5f-9ad4-f0f4f3b043b3\",\"type\":\"LinearScale\"},{\"attributes\":{},\"id\":\"14af07ed-456e-4e31-bf9b-aa5f9338311d\",\"type\":\"BasicTickFormatter\"},{\"attributes\":{\"active_drag\":\"auto\",\"active_inspect\":\"auto\",\"active_scroll\":\"auto\",\"active_tap\":\"auto\",\"tools\":[{\"id\":\"4e444b9c-689a-4682-9497-050099d6d66d\",\"type\":\"PanTool\"},{\"id\":\"1ab39652-d8d3-41a2-add9-43b36e2feef3\",\"type\":\"WheelZoomTool\"}]},\"id\":\"26bf62e4-4453-4f06-9001-a0774dc81aa1\",\"type\":\"Toolbar\"},{\"attributes\":{\"fill_color\":{\"value\":\"#1f77b4\"},\"line_color\":{\"value\":\"#1f77b4\"},\"x\":{\"field\":\"x\"},\"y\":{\"field\":\"y\"}},\"id\":\"75f651e3-96e7-4f6a-ba44-75de738d0052\",\"type\":\"Circle\"},{\"attributes\":{\"fill_alpha\":{\"value\":0.1},\"fill_color\":{\"value\":\"#1f77b4\"},\"line_alpha\":{\"value\":0.1},\"line_color\":{\"value\":\"#1f77b4\"},\"x\":{\"field\":\"x\"},\"y\":{\"field\":\"y\"}},\"id\":\"d9788718-ce8c-48f5-b9cf-3ffa0e1e68b1\",\"type\":\"Circle\"},{\"attributes\":{},\"id\":\"d0be48f3-46e2-4f46-89c7-73caa42ee1b1\",\"type\":\"LinearScale\"},{\"attributes\":{\"data_source\":{\"id\":\"20f26211-7e66-4f81-83c4-15f620a3f6c7\",\"type\":\"ColumnDataSource\"},\"glyph\":{\"id\":\"75f651e3-96e7-4f6a-ba44-75de738d0052\",\"type\":\"Circle\"},\"hover_glyph\":null,\"muted_glyph\":null,\"nonselection_glyph\":{\"id\":\"d9788718-ce8c-48f5-b9cf-3ffa0e1e68b1\",\"type\":\"Circle\"},\"selection_glyph\":null,\"view\":{\"id\":\"f16a6956-38f3-46d4-b8dc-d1a27bcaa66d\",\"type\":\"CDSView\"}},\"id\":\"1c635241-9b63-43ec-ba32-cedef9cfa92f\",\"type\":\"GlyphRenderer\"},{\"attributes\":{\"tile_source\":{\"id\":\"1e021be3-4b88-43ec-afd1-6bd4b960fcca\",\"type\":\"WMTSTileSource\"}},\"id\":\"7ac0a39c-eb07-4b0b-87e8-08dabaeaf347\",\"type\":\"TileRenderer\"},{\"attributes\":{\"source\":{\"id\":\"20f26211-7e66-4f81-83c4-15f620a3f6c7\",\"type\":\"ColumnDataSource\"}},\"id\":\"f16a6956-38f3-46d4-b8dc-d1a27bcaa66d\",\"type\":\"CDSView\"},{\"attributes\":{\"callback\":null,\"end\":7361866.113051186,\"start\":6446275.841017158},\"id\":\"32805b7d-c01c-4879-ad39-c764d2bf254d\",\"type\":\"Range1d\"},{\"attributes\":{},\"id\":\"a7fdb687-16fd-4393-abf0-6e26e578f56f\",\"type\":\"BasicTickFormatter\"},{\"attributes\":{\"plot\":null,\"text\":\"\"},\"id\":\"a1cdf71c-de0e-41c3-8081-caab16a164d1\",\"type\":\"Title\"},{\"attributes\":{\"formatter\":{\"id\":\"14af07ed-456e-4e31-bf9b-aa5f9338311d\",\"type\":\"BasicTickFormatter\"},\"plot\":{\"id\":\"84245584-fc6d-41a3-8e2e-db25e2b8c7e0\",\"subtype\":\"Figure\",\"type\":\"Plot\"},\"ticker\":{\"id\":\"d4e85ad1-15c2-4afc-96e5-e163096619d0\",\"type\":\"BasicTicker\"},\"visible\":false},\"id\":\"e52bbfbd-97c4-4f1c-a70d-4cf3b4c25c64\",\"type\":\"LinearAxis\"},{\"attributes\":{\"data_source\":{\"id\":\"386dddbd-9d75-4db2-9ccb-37d46bdcc752\",\"type\":\"ColumnDataSource\"},\"glyph\":{\"id\":\"f28213c4-d0ad-4cd1-874b-2049c37ebe59\",\"type\":\"Circle\"},\"hover_glyph\":null,\"muted_glyph\":null,\"nonselection_glyph\":{\"id\":\"b86ee80f-a469-40d6-8998-a7075f7057bc\",\"type\":\"Circle\"},\"selection_glyph\":null,\"view\":{\"id\":\"6287e46a-7f3d-41cd-b2a7-a6307aa7ca16\",\"type\":\"CDSView\"}},\"id\":\"db7e1804-3d77-44d5-bd47-24f447fcf79f\",\"type\":\"GlyphRenderer\"},{\"attributes\":{},\"id\":\"d4e85ad1-15c2-4afc-96e5-e163096619d0\",\"type\":\"BasicTicker\"},{\"attributes\":{\"callback\":null,\"column_names\":[\"x\",\"y\"],\"data\":{\"x\":{\"__ndarray__\":\"ynq296UeIEEKgPGGkI0nQa9hZRqBYCJBfQkc3b2cLUE=\",\"dtype\":\"float64\",\"shape\":[4]},\"y\":{\"__ndarray__\":\"Kfim7umcWkH9KxkvhN5aQZXT2lEcw1pBmbPhPHxBW0E=\",\"dtype\":\"float64\",\"shape\":[4]}}},\"id\":\"386dddbd-9d75-4db2-9ccb-37d46bdcc752\",\"type\":\"ColumnDataSource\"},{\"attributes\":{\"plot\":{\"id\":\"84245584-fc6d-41a3-8e2e-db25e2b8c7e0\",\"subtype\":\"Figure\",\"type\":\"Plot\"},\"ticker\":{\"id\":\"d4e85ad1-15c2-4afc-96e5-e163096619d0\",\"type\":\"BasicTicker\"}},\"id\":\"5f907df5-abd0-45bf-89fb-18a4d7238a26\",\"type\":\"Grid\"},{\"attributes\":{\"formatter\":{\"id\":\"a7fdb687-16fd-4393-abf0-6e26e578f56f\",\"type\":\"BasicTickFormatter\"},\"plot\":{\"id\":\"84245584-fc6d-41a3-8e2e-db25e2b8c7e0\",\"subtype\":\"Figure\",\"type\":\"Plot\"},\"ticker\":{\"id\":\"a67267ef-385b-4eea-89c5-11d28887b230\",\"type\":\"BasicTicker\"},\"visible\":false},\"id\":\"238ef1ba-aff3-413f-b0f1-7f8222440c71\",\"type\":\"LinearAxis\"},{\"attributes\":{},\"id\":\"a67267ef-385b-4eea-89c5-11d28887b230\",\"type\":\"BasicTicker\"},{\"attributes\":{\"dimension\":1,\"plot\":{\"id\":\"84245584-fc6d-41a3-8e2e-db25e2b8c7e0\",\"subtype\":\"Figure\",\"type\":\"Plot\"},\"ticker\":{\"id\":\"a67267ef-385b-4eea-89c5-11d28887b230\",\"type\":\"BasicTicker\"}},\"id\":\"229da8a5-5469-412d-964f-bc94eaada43d\",\"type\":\"Grid\"},{\"attributes\":{\"fill_alpha\":{\"value\":0.1},\"fill_color\":{\"value\":\"#1f77b4\"},\"line_alpha\":{\"value\":0.1},\"line_color\":{\"value\":\"#1f77b4\"},\"x\":{\"field\":\"x\"},\"y\":{\"field\":\"y\"}},\"id\":\"b86ee80f-a469-40d6-8998-a7075f7057bc\",\"type\":\"Circle\"},{\"attributes\":{},\"id\":\"1ab39652-d8d3-41a2-add9-43b36e2feef3\",\"type\":\"WheelZoomTool\"},{\"attributes\":{\"fill_color\":{\"value\":\"red\"},\"line_color\":{\"value\":\"red\"},\"x\":{\"field\":\"x\"},\"y\":{\"field\":\"y\"}},\"id\":\"f28213c4-d0ad-4cd1-874b-2049c37ebe59\",\"type\":\"Circle\"}],\"root_ids\":[\"84245584-fc6d-41a3-8e2e-db25e2b8c7e0\"]},\"title\":\"Bokeh Application\",\"version\":\"0.12.10\"}};\n",
       "    var render_items = [{\"docid\":\"e75ceaba-6fc7-4bbf-af95-82f87b699a86\",\"elementid\":\"140f4916-2537-45b7-bad1-a5065a775c4c\",\"modelid\":\"84245584-fc6d-41a3-8e2e-db25e2b8c7e0\"}];\n",
       "\n",
       "    root.Bokeh.embed.embed_items(docs_json, render_items);\n",
       "  }\n",
       "\n",
       "  if (root.Bokeh !== undefined) {\n",
       "    embed_document(root);\n",
       "  } else {\n",
       "    var attempts = 0;\n",
       "    var timer = setInterval(function(root) {\n",
       "      if (root.Bokeh !== undefined) {\n",
       "        embed_document(root);\n",
       "        clearInterval(timer);\n",
       "      }\n",
       "      attempts++;\n",
       "      if (attempts > 100) {\n",
       "        console.log(\"Bokeh: ERROR: Unable to embed document because BokehJS library is missing\")\n",
       "        clearInterval(timer);\n",
       "      }\n",
       "    }, 10, root)\n",
       "  }\n",
       "})(window);"
      ],
      "application/vnd.bokehjs_exec.v0+json": ""
     },
     "metadata": {
      "application/vnd.bokehjs_exec.v0+json": {
       "id": "84245584-fc6d-41a3-8e2e-db25e2b8c7e0"
      }
     },
     "output_type": "display_data"
    }
   ],
   "source": [
    "# show the plot\n",
    "bokeh.io.show(fig)"
   ]
  },
  {
   "cell_type": "markdown",
   "metadata": {},
   "source": [
    "Now that we have defined which tide gauges we are monitoring we can start downloading the relevant data. "
   ]
  },
  {
   "cell_type": "code",
   "execution_count": 9,
   "metadata": {},
   "outputs": [],
   "source": [
    "# each station has a number of files that you can look at.\n",
    "# here we define a template for each filename\n",
    "\n",
    "# stations that we are using for our computation\n",
    "# define the name formats for the relevant files\n",
    "names = {\n",
    "    'datum': '{dataset_name}/RLR_info/{id}.txt',\n",
    "    'diagram': '{dataset_name}/RLR_info/{id}.png',\n",
    "    'url': 'http://www.psmsl.org/data/obtaining/rlr.diagrams/{id}.php',\n",
    "    'rlr_monthly': '{dataset_name}/data/{id}.rlrdata',\n",
    "    'rlr_annual': '{dataset_name}/data/{id}.rlrdata',\n",
    "    'met_monthly': '{dataset_name}/data/{id}.metdata',\n",
    "    'doc': '{dataset_name}/docu/{id}.txt',\n",
    "    'contact': '{dataset_name}/docu/{id}_auth.txt'\n",
    "}"
   ]
  },
  {
   "cell_type": "code",
   "execution_count": 10,
   "metadata": {},
   "outputs": [
    {
     "data": {
      "text/html": [
       "<div>\n",
       "<style scoped>\n",
       "    .dataframe tbody tr th:only-of-type {\n",
       "        vertical-align: middle;\n",
       "    }\n",
       "\n",
       "    .dataframe tbody tr th {\n",
       "        vertical-align: top;\n",
       "    }\n",
       "\n",
       "    .dataframe thead th {\n",
       "        text-align: right;\n",
       "    }\n",
       "</style>\n",
       "<table border=\"1\" class=\"dataframe\">\n",
       "  <thead>\n",
       "    <tr style=\"text-align: right;\">\n",
       "      <th></th>\n",
       "      <th>lat</th>\n",
       "      <th>lon</th>\n",
       "      <th>name</th>\n",
       "      <th>coastline_code</th>\n",
       "      <th>station_code</th>\n",
       "      <th>quality</th>\n",
       "      <th>met_monthly</th>\n",
       "      <th>rlr_monthly</th>\n",
       "      <th>rlr_annual</th>\n",
       "    </tr>\n",
       "    <tr>\n",
       "      <th>id</th>\n",
       "      <th></th>\n",
       "      <th></th>\n",
       "      <th></th>\n",
       "      <th></th>\n",
       "      <th></th>\n",
       "      <th></th>\n",
       "      <th></th>\n",
       "      <th></th>\n",
       "      <th></th>\n",
       "    </tr>\n",
       "  </thead>\n",
       "  <tbody>\n",
       "    <tr>\n",
       "      <th>23</th>\n",
       "      <td>52.964444</td>\n",
       "      <td>4.745000</td>\n",
       "      <td>DEN HELDER</td>\n",
       "      <td>150</td>\n",
       "      <td>31</td>\n",
       "      <td>N</td>\n",
       "      <td>http://www.psmsl.org/data/obtaining/rlr.diagra...</td>\n",
       "      <td>http://www.psmsl.org/data/obtaining/rlr.diagra...</td>\n",
       "      <td>http://www.psmsl.org/data/obtaining/rlr.diagra...</td>\n",
       "    </tr>\n",
       "    <tr>\n",
       "      <th>24</th>\n",
       "      <td>53.326389</td>\n",
       "      <td>6.933056</td>\n",
       "      <td>DELFZIJL</td>\n",
       "      <td>150</td>\n",
       "      <td>1</td>\n",
       "      <td>N</td>\n",
       "      <td>http://www.psmsl.org/data/obtaining/rlr.diagra...</td>\n",
       "      <td>http://www.psmsl.org/data/obtaining/rlr.diagra...</td>\n",
       "      <td>http://www.psmsl.org/data/obtaining/rlr.diagra...</td>\n",
       "    </tr>\n",
       "    <tr>\n",
       "      <th>25</th>\n",
       "      <td>53.175556</td>\n",
       "      <td>5.409444</td>\n",
       "      <td>HARLINGEN</td>\n",
       "      <td>150</td>\n",
       "      <td>21</td>\n",
       "      <td>N</td>\n",
       "      <td>http://www.psmsl.org/data/obtaining/rlr.diagra...</td>\n",
       "      <td>http://www.psmsl.org/data/obtaining/rlr.diagra...</td>\n",
       "      <td>http://www.psmsl.org/data/obtaining/rlr.diagra...</td>\n",
       "    </tr>\n",
       "    <tr>\n",
       "      <th>7</th>\n",
       "      <td>53.866667</td>\n",
       "      <td>8.716667</td>\n",
       "      <td>CUXHAVEN 2</td>\n",
       "      <td>140</td>\n",
       "      <td>12</td>\n",
       "      <td>N</td>\n",
       "      <td>http://www.psmsl.org/data/obtaining/rlr.diagra...</td>\n",
       "      <td>http://www.psmsl.org/data/obtaining/rlr.diagra...</td>\n",
       "      <td>http://www.psmsl.org/data/obtaining/rlr.diagra...</td>\n",
       "    </tr>\n",
       "  </tbody>\n",
       "</table>\n",
       "</div>"
      ],
      "text/plain": [
       "          lat       lon        name  coastline_code  station_code quality  \\\n",
       "id                                                                          \n",
       "23  52.964444  4.745000  DEN HELDER             150            31       N   \n",
       "24  53.326389  6.933056    DELFZIJL             150             1       N   \n",
       "25  53.175556  5.409444   HARLINGEN             150            21       N   \n",
       "7   53.866667  8.716667  CUXHAVEN 2             140            12       N   \n",
       "\n",
       "                                          met_monthly  \\\n",
       "id                                                      \n",
       "23  http://www.psmsl.org/data/obtaining/rlr.diagra...   \n",
       "24  http://www.psmsl.org/data/obtaining/rlr.diagra...   \n",
       "25  http://www.psmsl.org/data/obtaining/rlr.diagra...   \n",
       "7   http://www.psmsl.org/data/obtaining/rlr.diagra...   \n",
       "\n",
       "                                          rlr_monthly  \\\n",
       "id                                                      \n",
       "23  http://www.psmsl.org/data/obtaining/rlr.diagra...   \n",
       "24  http://www.psmsl.org/data/obtaining/rlr.diagra...   \n",
       "25  http://www.psmsl.org/data/obtaining/rlr.diagra...   \n",
       "7   http://www.psmsl.org/data/obtaining/rlr.diagra...   \n",
       "\n",
       "                                           rlr_annual  \n",
       "id                                                     \n",
       "23  http://www.psmsl.org/data/obtaining/rlr.diagra...  \n",
       "24  http://www.psmsl.org/data/obtaining/rlr.diagra...  \n",
       "25  http://www.psmsl.org/data/obtaining/rlr.diagra...  \n",
       "7   http://www.psmsl.org/data/obtaining/rlr.diagra...  "
      ]
     },
     "execution_count": 10,
     "metadata": {},
     "output_type": "execute_result"
    }
   ],
   "source": [
    "def get_url(station, dataset_name):\n",
    "    \"\"\"return the url of the station information (diagram and datum)\"\"\"\n",
    "    info = dict(\n",
    "        dataset_name=dataset_name,\n",
    "        id=station.name\n",
    "    )\n",
    "    url = names['url'].format(**info)\n",
    "    return url\n",
    "\n",
    "for dataset_name in psmsl_urls:\n",
    "    # fill in the dataset parameter using the global dataset_name\n",
    "    f = functools.partial(get_url, dataset_name=dataset_name)\n",
    "    # compute the url for each station\n",
    "    selected_stations[dataset_name] = selected_stations.apply(f, axis=1)\n",
    "selected_stations"
   ]
  },
  {
   "cell_type": "markdown",
   "metadata": {},
   "source": [
    "Sea-level explained  \n",
    "=======\n"
   ]
  },
  {
   "cell_type": "code",
   "execution_count": 11,
   "metadata": {},
   "outputs": [],
   "source": [
    "def missing2nan(value, missing=-99999):\n",
    "    \"\"\"convert the value to nan if the float of value equals the missing value\"\"\"\n",
    "    value = float(value)\n",
    "    if value == missing:\n",
    "        return np.nan\n",
    "    return value\n",
    "\n",
    "def year2date(year_fraction, dtype='datetime64[s]'):\n",
    "    \"\"\"convert a fraction of a year + fraction of a year to a date, for example 1993.12 -> 1993-02-01.\n",
    "    The dtype should be a valid numpy datetime unit, such as datetime64[s]\"\"\"\n",
    "    startpoints = np.linspace(0, 1, num=12, endpoint=False)\n",
    "    remainder = np.mod(year_fraction, 1)\n",
    "    year = np.floor_divide(year_fraction, 1).astype('int')\n",
    "    month = np.searchsorted(startpoints, remainder)\n",
    "    if (month == 0).all():\n",
    "        # if month is set to 0 (for annual data), set to january\n",
    "        month = np.ones_like(month)\n",
    "    dates = [\n",
    "        datetime.datetime(year_i, month_i, 1) \n",
    "        for year_i, month_i \n",
    "        in zip(year, month)\n",
    "    ]\n",
    "    datetime64s = np.asarray(dates, dtype=dtype)\n",
    "    return datetime64s\n",
    "\n",
    "def get_data(station, dataset_name):\n",
    "    \"\"\"get data for the station (pandas record) from the dataset (url)\"\"\"\n",
    "    info = dict(\n",
    "        dataset_name=dataset_name,\n",
    "        id=station.name\n",
    "    )\n",
    "    bytes = zipfiles[dataset_name].read(names[dataset_name].format(**info))\n",
    "    df = pandas.read_csv(\n",
    "        io.BytesIO(bytes), \n",
    "        sep=';', \n",
    "        names=('year', 'height', 'interpolated', 'flags'),\n",
    "        converters={\n",
    "            \"height\": lambda x: main_stations[station.name]['rlr2nap'](missing2nan(x)),\n",
    "            \"interpolated\": str.strip,\n",
    "        }\n",
    "    )\n",
    "    df['station'] = station.name\n",
    "    df['t'] = year2date(df.year)\n",
    "    df = df.set_index('t')\n",
    "    return df"
   ]
  },
  {
   "cell_type": "code",
   "execution_count": 12,
   "metadata": {},
   "outputs": [],
   "source": [
    "# get data for all stations\n",
    "for dataset_name in psmsl_urls:\n",
    "    f = functools.partial(get_data, dataset_name=dataset_name)\n",
    "    # look up the data for each station\n",
    "    selected_stations[dataset_name] = [f(station) for _, station in selected_stations.iterrows()]"
   ]
  },
  {
   "cell_type": "markdown",
   "metadata": {},
   "source": [
    "Now that we have all data downloaded we can compute the mean."
   ]
  },
  {
   "cell_type": "code",
   "execution_count": 13,
   "metadata": {},
   "outputs": [],
   "source": [
    "# compute the mean\n",
    "\n",
    "grouped = pandas.concat(selected_stations[dataset_name].tolist())[['year', 'height']].groupby(['year'])\n",
    "mean_df = grouped.mean().reset_index()\n",
    "# filter out non-trusted part (before NAP)\n",
    "mean_df = mean_df[mean_df['year'] >= 1890].copy()"
   ]
  },
  {
   "cell_type": "code",
   "execution_count": 14,
   "metadata": {},
   "outputs": [
    {
     "data": {
      "text/html": [
       "<div>\n",
       "<style scoped>\n",
       "    .dataframe tbody tr th:only-of-type {\n",
       "        vertical-align: middle;\n",
       "    }\n",
       "\n",
       "    .dataframe tbody tr th {\n",
       "        vertical-align: top;\n",
       "    }\n",
       "\n",
       "    .dataframe thead th {\n",
       "        text-align: right;\n",
       "    }\n",
       "</style>\n",
       "<table border=\"1\" class=\"dataframe\">\n",
       "  <thead>\n",
       "    <tr style=\"text-align: right;\">\n",
       "      <th></th>\n",
       "      <th>year</th>\n",
       "      <th>height</th>\n",
       "    </tr>\n",
       "  </thead>\n",
       "  <tbody>\n",
       "    <tr>\n",
       "      <th>169</th>\n",
       "      <td>2012</td>\n",
       "      <td>80.75</td>\n",
       "    </tr>\n",
       "    <tr>\n",
       "      <th>170</th>\n",
       "      <td>2013</td>\n",
       "      <td>48.00</td>\n",
       "    </tr>\n",
       "    <tr>\n",
       "      <th>171</th>\n",
       "      <td>2014</td>\n",
       "      <td>89.25</td>\n",
       "    </tr>\n",
       "    <tr>\n",
       "      <th>172</th>\n",
       "      <td>2015</td>\n",
       "      <td>143.00</td>\n",
       "    </tr>\n",
       "    <tr>\n",
       "      <th>173</th>\n",
       "      <td>2016</td>\n",
       "      <td>106.25</td>\n",
       "    </tr>\n",
       "  </tbody>\n",
       "</table>\n",
       "</div>"
      ],
      "text/plain": [
       "     year  height\n",
       "169  2012   80.75\n",
       "170  2013   48.00\n",
       "171  2014   89.25\n",
       "172  2015  143.00\n",
       "173  2016  106.25"
      ]
     },
     "execution_count": 14,
     "metadata": {},
     "output_type": "execute_result"
    }
   ],
   "source": [
    "# these are the mean waterlevels \n",
    "mean_df.tail()"
   ]
  },
  {
   "cell_type": "code",
   "execution_count": 15,
   "metadata": {},
   "outputs": [],
   "source": [
    "def timeseries_plot(dataset_name=default_dataset_name):\n",
    "    # show all the stations, including the mean\n",
    "    title = 'Sea-surface height for Dutch tide gauges [{year_min} - {year_max}]'.format(\n",
    "        year_min=mean_df.year.min(),\n",
    "        year_max=mean_df.year.max() \n",
    "    )\n",
    "    fig = bokeh.plotting.figure(title=title, x_range=(1860, 2020), plot_width=900, plot_height=400)\n",
    "    colors = bokeh.palettes.Accent7\n",
    "    # no yellow\n",
    "    del colors[3]\n",
    "    for color, (id_, station) in zip(colors, selected_stations.iterrows()):\n",
    "        data = station[dataset_name]\n",
    "        fig.circle(data.year, data.height, color=color, legend=station['name'], alpha=0.5, line_width=1)\n",
    "    fig.line(mean_df.year, mean_df.height, line_width=1, alpha=0.7, color='black', legend='Mean')\n",
    "    fig.legend.location = \"bottom_right\"\n",
    "    fig.yaxis.axis_label = 'waterlevel [mm] above NAP'\n",
    "    fig.xaxis.axis_label = 'year'\n",
    "    fig.legend.click_policy = \"hide\"\n",
    "    return fig\n"
   ]
  },
  {
   "cell_type": "code",
   "execution_count": 16,
   "metadata": {},
   "outputs": [
    {
     "data": {
      "text/html": [
       "\n",
       "<div class=\"bk-root\">\n",
       "    <div class=\"bk-plotdiv\" id=\"36e6482a-6c6a-4d4c-a5b2-15903acd9585\"></div>\n",
       "</div>"
      ]
     },
     "metadata": {},
     "output_type": "display_data"
    },
    {
     "data": {
      "application/javascript": [
       "(function(root) {\n",
       "  function embed_document(root) {\n",
       "    var docs_json = {\"cff81cfc-e678-44c8-b1b0-ace8235540d3\":{\"roots\":{\"references\":[{\"attributes\":{},\"id\":\"22d1c14f-0924-4f6b-8b79-438670729be7\",\"type\":\"SaveTool\"},{\"attributes\":{},\"id\":\"ef142cab-0a59-4a4d-8f6b-9fce8dec11d4\",\"type\":\"WheelZoomTool\"},{\"attributes\":{\"plot\":{\"id\":\"069fda35-55d7-42d2-aee0-44501b66c780\",\"subtype\":\"Figure\",\"type\":\"Plot\"},\"ticker\":{\"id\":\"a132e717-3849-4663-9419-c07da8561ea7\",\"type\":\"BasicTicker\"}},\"id\":\"d08f98a9-8372-41d8-b3e4-4fe13222fee6\",\"type\":\"Grid\"},{\"attributes\":{\"line_alpha\":{\"value\":0.1},\"line_color\":{\"value\":\"#1f77b4\"},\"x\":{\"field\":\"x\"},\"y\":{\"field\":\"y\"}},\"id\":\"5638599b-5567-410d-a52b-5bdcaf970514\",\"type\":\"Line\"},{\"attributes\":{\"axis_label\":\"waterlevel [mm] above NAP\",\"formatter\":{\"id\":\"e63a9672-95c0-445d-a452-01861dd98862\",\"type\":\"BasicTickFormatter\"},\"plot\":{\"id\":\"069fda35-55d7-42d2-aee0-44501b66c780\",\"subtype\":\"Figure\",\"type\":\"Plot\"},\"ticker\":{\"id\":\"be669b50-5471-4517-b822-4b6b4f320075\",\"type\":\"BasicTicker\"}},\"id\":\"18fd8ed7-49bf-4e15-a1d1-2c2de3dd8139\",\"type\":\"LinearAxis\"},{\"attributes\":{},\"id\":\"be669b50-5471-4517-b822-4b6b4f320075\",\"type\":\"BasicTicker\"},{\"attributes\":{\"dimension\":1,\"plot\":{\"id\":\"069fda35-55d7-42d2-aee0-44501b66c780\",\"subtype\":\"Figure\",\"type\":\"Plot\"},\"ticker\":{\"id\":\"be669b50-5471-4517-b822-4b6b4f320075\",\"type\":\"BasicTicker\"}},\"id\":\"14187d32-162e-474b-9a14-dbb679673e86\",\"type\":\"Grid\"},{\"attributes\":{\"fill_alpha\":{\"value\":0.5},\"fill_color\":{\"value\":\"#fdc086\"},\"line_alpha\":{\"value\":0.5},\"line_color\":{\"value\":\"#fdc086\"},\"x\":{\"field\":\"x\"},\"y\":{\"field\":\"y\"}},\"id\":\"8b9e1dd4-e621-4e91-bcdb-23f7b6f870a7\",\"type\":\"Circle\"},{\"attributes\":{\"label\":{\"value\":\"Mean\"},\"renderers\":[{\"id\":\"ae01af48-2c4c-45ec-8a16-435a82b64c54\",\"type\":\"GlyphRenderer\"}]},\"id\":\"4c7cb8ca-690e-480f-b40e-1fc686a72358\",\"type\":\"LegendItem\"},{\"attributes\":{\"plot\":null,\"text\":\"Sea-surface height for Dutch tide gauges [1890 - 2016]\"},\"id\":\"ffadb488-7ffa-4869-b636-1c3aee89355a\",\"type\":\"Title\"},{\"attributes\":{\"fill_alpha\":{\"value\":0.5},\"fill_color\":{\"value\":\"#386cb0\"},\"line_alpha\":{\"value\":0.5},\"line_color\":{\"value\":\"#386cb0\"},\"x\":{\"field\":\"x\"},\"y\":{\"field\":\"y\"}},\"id\":\"ee764f8b-07c5-4178-a660-bcd6f6446be5\",\"type\":\"Circle\"},{\"attributes\":{\"callback\":null,\"end\":2020,\"start\":1860},\"id\":\"c4073f5a-b4e8-4738-b1ae-99a4ce095a63\",\"type\":\"Range1d\"},{\"attributes\":{\"active_drag\":\"auto\",\"active_inspect\":\"auto\",\"active_scroll\":\"auto\",\"active_tap\":\"auto\",\"tools\":[{\"id\":\"e273d557-ee8c-451d-ac77-bd0387a8d7aa\",\"type\":\"PanTool\"},{\"id\":\"ef142cab-0a59-4a4d-8f6b-9fce8dec11d4\",\"type\":\"WheelZoomTool\"},{\"id\":\"399eefac-1020-48da-95f0-72d75e951459\",\"type\":\"BoxZoomTool\"},{\"id\":\"22d1c14f-0924-4f6b-8b79-438670729be7\",\"type\":\"SaveTool\"},{\"id\":\"d2e7911a-43bd-4907-8584-74ce5cb91886\",\"type\":\"ResetTool\"},{\"id\":\"99526a58-eb31-4131-9c17-c15da50fd18e\",\"type\":\"HelpTool\"}]},\"id\":\"8159f67a-99f9-4025-a5eb-c6dd7562537e\",\"type\":\"Toolbar\"},{\"attributes\":{\"callback\":null,\"column_names\":[\"x\",\"y\"],\"data\":{\"x\":[1890,1891,1892,1893,1894,1895,1896,1897,1898,1899,1900,1901,1902,1903,1904,1905,1906,1907,1908,1909,1910,1911,1912,1913,1914,1915,1916,1917,1918,1919,1920,1921,1922,1923,1924,1925,1926,1927,1928,1929,1930,1931,1932,1933,1934,1935,1936,1937,1938,1939,1940,1941,1942,1943,1944,1945,1946,1947,1948,1949,1950,1951,1952,1953,1954,1955,1956,1957,1958,1959,1960,1961,1962,1963,1964,1965,1966,1967,1968,1969,1970,1971,1972,1973,1974,1975,1976,1977,1978,1979,1980,1981,1982,1983,1984,1985,1986,1987,1988,1989,1990,1991,1992,1993,1994,1995,1996,1997,1998,1999,2000,2001,2002,2003,2004,2005,2006,2007,2008,2009,2010,2011,2012,2013,2014,2015,2016],\"y\":{\"__ndarray__\":\"AAAAAADQYsAAAAAAAIBgwAAAAAAAYGDAAAAAAADQV8AAAAAAAABbwAAAAAAA8F/AAAAAAADwX8AAAAAAAHBfwAAAAAAAgFHAAAAAAABwU8AAAAAAAMBdwAAAAAAA0GHAAAAAAABYZMAAAAAAAABLwAAAAAAA4FrAAAAAAAA4YMAAAAAAACBVwAAAAAAAgFzAAAAAAABAYMAAAAAAACBVwAAAAAAAAFLAAAAAAABgVcAAAAAAAMA8wAAAAAAAMFDAAAAAAACARsAAAAAAAJBYwAAAAAAAQEDAAAAAAADwU8AAAAAAAPBRwAAAAAAA0FbAAAAAAAAAVcAAAAAAAKBEwAAAAAAAgFPAAAAAAADgR8AAAAAAAJBUwAAAAAAAACXAAAAAAACAOsAAAAAAAMBGwAAAAAAAgD/AAAAAAACQVMAAAAAAACBJwAAAAAAAgDbAAAAAAACgQsAAAAAAALBWwAAAAAAAQFDAAAAAAACAMsAAAAAAAMA4wAAAAAAAYE3AAAAAAAAAAkAAAAAAALBSwAAAAAAAoEvAAAAAAABQWcAAAAAAALBTwAAAAAAAACnAAAAAAAAAAEAAAAAAAAAQQAAAAAAAwDbAAAAAAADgXMAAAAAAAIAhwAAAAAAAwDNAAAAAAAAAF8AAAAAAAEBAwAAAAAAAAOg/AAAAAABgQMAAAAAAAIApwAAAAAAAAAAAAAAAAACgS8AAAAAAAEA3wAAAAAAAQDLAAAAAAABgT8AAAAAAAIA/wAAAAAAAoE9AAAAAAAAAG0AAAAAAAGBPwAAAAAAAoEPAAAAAAABAMEAAAAAAAABBQAAAAAAAYFhAAAAAAACAIUAAAAAAAEAwwAAAAAAAYENAAAAAAACALMAAAAAAAABNwAAAAAAAADtAAAAAAACAM0AAAAAAAIAqwAAAAAAAwEfAAAAAAAAAKEAAAAAAAAAXwAAAAAAAAB3AAAAAAADAOUAAAAAAAOBSQAAAAAAAwEdAAAAAAABgWUAAAAAAAIAgQAAAAAAAADFAAAAAAAAAKEAAAAAAAADoPwAAAAAAwFZAAAAAAACgSEAAAAAAAABbQAAAAAAAAB/AAAAAAAAAPEAAAAAAAIAsQAAAAAAAAFNAAAAAAABwU0AAAAAAAPBQwAAAAAAAgCRAAAAAAACQWUAAAAAAAPBXQAAAAAAAcFZAAAAAAAAwVUAAAAAAAIBRQAAAAAAAAE5AAAAAAAAAWUAAAAAAAFBQQAAAAAAAIFFAAAAAAADAYEAAAAAAANBZQAAAAAAAYE1AAAAAAADgREAAAAAAAKBYQAAAAAAAMFRAAAAAAAAASEAAAAAAAFBWQAAAAAAA4GFAAAAAAACQWkA=\",\"dtype\":\"float64\",\"shape\":[127]}}},\"id\":\"ea653193-5a52-4282-b26f-9dd92885128e\",\"type\":\"ColumnDataSource\"},{\"attributes\":{},\"id\":\"73ec4bd3-d051-432f-a898-c7c8b39468a5\",\"type\":\"LinearScale\"},{\"attributes\":{\"below\":[{\"id\":\"7bcef387-3d02-4953-a5c5-285a9f41482e\",\"type\":\"LinearAxis\"}],\"left\":[{\"id\":\"18fd8ed7-49bf-4e15-a1d1-2c2de3dd8139\",\"type\":\"LinearAxis\"}],\"plot_height\":400,\"plot_width\":900,\"renderers\":[{\"id\":\"7bcef387-3d02-4953-a5c5-285a9f41482e\",\"type\":\"LinearAxis\"},{\"id\":\"d08f98a9-8372-41d8-b3e4-4fe13222fee6\",\"type\":\"Grid\"},{\"id\":\"18fd8ed7-49bf-4e15-a1d1-2c2de3dd8139\",\"type\":\"LinearAxis\"},{\"id\":\"14187d32-162e-474b-9a14-dbb679673e86\",\"type\":\"Grid\"},{\"id\":\"75f7d0f5-a2c8-4197-8bb3-08fb674a550d\",\"type\":\"BoxAnnotation\"},{\"id\":\"ee195e71-3bb1-400e-b05b-8a0a39e3450a\",\"type\":\"Legend\"},{\"id\":\"1018bad0-660f-4a49-8999-69e2f426cd9f\",\"type\":\"GlyphRenderer\"},{\"id\":\"68b96a83-af61-426f-8183-03ed8f7e1616\",\"type\":\"GlyphRenderer\"},{\"id\":\"d8d08f77-4790-4cd0-9b91-9634ae8ab7db\",\"type\":\"GlyphRenderer\"},{\"id\":\"05623109-140d-4771-9d39-68c5f15c5ee8\",\"type\":\"GlyphRenderer\"},{\"id\":\"ae01af48-2c4c-45ec-8a16-435a82b64c54\",\"type\":\"GlyphRenderer\"}],\"title\":{\"id\":\"ffadb488-7ffa-4869-b636-1c3aee89355a\",\"type\":\"Title\"},\"toolbar\":{\"id\":\"8159f67a-99f9-4025-a5eb-c6dd7562537e\",\"type\":\"Toolbar\"},\"x_range\":{\"id\":\"c4073f5a-b4e8-4738-b1ae-99a4ce095a63\",\"type\":\"Range1d\"},\"x_scale\":{\"id\":\"35d87d5f-971c-4d71-9371-9d58412df660\",\"type\":\"LinearScale\"},\"y_range\":{\"id\":\"2264be63-d5ed-4eb9-ba4e-bce81483add9\",\"type\":\"DataRange1d\"},\"y_scale\":{\"id\":\"73ec4bd3-d051-432f-a898-c7c8b39468a5\",\"type\":\"LinearScale\"}},\"id\":\"069fda35-55d7-42d2-aee0-44501b66c780\",\"subtype\":\"Figure\",\"type\":\"Plot\"},{\"attributes\":{},\"id\":\"35d87d5f-971c-4d71-9371-9d58412df660\",\"type\":\"LinearScale\"},{\"attributes\":{\"callback\":null},\"id\":\"2264be63-d5ed-4eb9-ba4e-bce81483add9\",\"type\":\"DataRange1d\"},{\"attributes\":{\"axis_label\":\"year\",\"formatter\":{\"id\":\"041a597b-f7b9-4952-a1a5-1865bf81b56c\",\"type\":\"BasicTickFormatter\"},\"plot\":{\"id\":\"069fda35-55d7-42d2-aee0-44501b66c780\",\"subtype\":\"Figure\",\"type\":\"Plot\"},\"ticker\":{\"id\":\"a132e717-3849-4663-9419-c07da8561ea7\",\"type\":\"BasicTicker\"}},\"id\":\"7bcef387-3d02-4953-a5c5-285a9f41482e\",\"type\":\"LinearAxis\"},{\"attributes\":{},\"id\":\"a132e717-3849-4663-9419-c07da8561ea7\",\"type\":\"BasicTicker\"},{\"attributes\":{\"label\":{\"value\":\"CUXHAVEN 2\"},\"renderers\":[{\"id\":\"05623109-140d-4771-9d39-68c5f15c5ee8\",\"type\":\"GlyphRenderer\"}]},\"id\":\"85c23b1c-dfa2-444b-97ad-6dfdc81d5471\",\"type\":\"LegendItem\"},{\"attributes\":{\"line_alpha\":{\"value\":0.7},\"x\":{\"field\":\"x\"},\"y\":{\"field\":\"y\"}},\"id\":\"69eef98a-5c8b-40f9-a665-dbb2aecb37e4\",\"type\":\"Line\"},{\"attributes\":{\"data_source\":{\"id\":\"e26e3a51-54f1-4ffe-8c06-36397bb3c061\",\"type\":\"ColumnDataSource\"},\"glyph\":{\"id\":\"ee764f8b-07c5-4178-a660-bcd6f6446be5\",\"type\":\"Circle\"},\"hover_glyph\":null,\"muted_glyph\":null,\"nonselection_glyph\":{\"id\":\"972f7f9d-f3d0-4458-a5a1-9a65ebaf6d3e\",\"type\":\"Circle\"},\"selection_glyph\":null,\"view\":{\"id\":\"590d03bf-4356-4f7d-a74a-4b0054fd422c\",\"type\":\"CDSView\"}},\"id\":\"05623109-140d-4771-9d39-68c5f15c5ee8\",\"type\":\"GlyphRenderer\"},{\"attributes\":{\"callback\":null,\"column_names\":[\"x\",\"y\"],\"data\":{\"x\":[1865,1866,1867,1868,1869,1870,1871,1872,1873,1874,1875,1876,1877,1878,1879,1880,1881,1882,1883,1884,1885,1886,1887,1888,1889,1890,1891,1892,1893,1894,1895,1896,1897,1898,1899,1900,1901,1902,1903,1904,1905,1906,1907,1908,1909,1910,1911,1912,1913,1914,1915,1916,1917,1918,1919,1920,1921,1922,1923,1924,1925,1926,1927,1928,1929,1930,1931,1932,1933,1934,1935,1936,1937,1938,1939,1940,1941,1942,1943,1944,1945,1946,1947,1948,1949,1950,1951,1952,1953,1954,1955,1956,1957,1958,1959,1960,1961,1962,1963,1964,1965,1966,1967,1968,1969,1970,1971,1972,1973,1974,1975,1976,1977,1978,1979,1980,1981,1982,1983,1984,1985,1986,1987,1988,1989,1990,1991,1992,1993,1994,1995,1996,1997,1998,1999,2000,2001,2002,2003,2004,2005,2006,2007,2008,2009,2010,2011,2012,2013,2014,2015,2016],\"y\":{\"__ndarray__\":\"AAAAAAAAb8AAAAAAAABawAAAAAAAoGDAAAAAAADAXsAAAAAAAKBhwAAAAAAAYG7AAAAAAADgZMAAAAAAAABcwAAAAAAAgFjAAAAAAADAWsAAAAAAACBnwAAAAAAAoGDAAAAAAACASsAAAAAAAABNwAAAAAAAYGHAAAAAAAAATcAAAAAAACBgwAAAAAAAAFXAAAAAAABAW8AAAAAAAMBVwAAAAAAAAF/AAAAAAADAYMAAAAAAAMBhwAAAAAAA4GLAAAAAAACAXMAAAAAAAABewAAAAAAAAFnAAAAAAADAVsAAAAAAAIBSwAAAAAAAgFHAAAAAAAAAWsAAAAAAAEBZwAAAAAAAgFTAAAAAAAAARcAAAAAAAMBTwAAAAAAAgFzAAAAAAACAX8AAAAAAAABhwAAAAAAAAC7AAAAAAAAAVcAAAAAAAIBTwAAAAAAAAEnAAAAAAACAU8AAAAAAAEBawAAAAAAAgE3AAAAAAACAR8AAAAAAAEBTwAAAAAAAAPC/AAAAAAAAOcAAAAAAAAAkwAAAAAAAgFLAAAAAAAAAEMAAAAAAAIBKwAAAAAAAAEHAAAAAAAAATsAAAAAAAIBKwAAAAAAAgEHAAAAAAAAASsAAAAAAAAAgwAAAAAAAgEPAAAAAAAAAMkAAAAAAAAAYQAAAAAAAACTAAAAAAAAAIEAAAAAAAABRwAAAAAAAAELAAAAAAAAALsAAAAAAAAA9wAAAAAAAQFXAAAAAAACAS8AAAAAAAAAIwAAAAAAAACrAAAAAAAAAR8AAAAAAAAAqwAAAAAAAgE/AAAAAAACATMAAAAAAAMBXwAAAAAAAgE3AAAAAAAAAKsAAAAAAAAAmwAAAAAAAACLAAAAAAAAAQMAAAAAAAMBZwAAAAAAAACTAAAAAAAAAIEAAAAAAAAAAQAAAAAAAADPAAAAAAAAACEAAAAAAAABFwAAAAAAAADDAAAAAAAAAM8AAAAAAAIBOwAAAAAAAAC7AAAAAAAAAIsAAAAAAAIBNwAAAAAAAADjAAAAAAAAATUAAAAAAAAAQQAAAAAAAQFLAAAAAAAAATsAAAAAAAAAmQAAAAAAAADtAAAAAAABAVkAAAAAAAAAAwAAAAAAAAAjAAAAAAACAT0AAAAAAAAAuwAAAAAAAACrAAAAAAAAASEAAAAAAAIBFQAAAAAAAACDAAAAAAAAARcAAAAAAAAA1QAAAAAAAABzAAAAAAAAALkAAAAAAAABKQAAAAAAAAFNAAAAAAACASUAAAAAAAABZQAAAAAAAADBAAAAAAAAAMEAAAAAAAAAyQAAAAAAAACbAAAAAAADAVUAAAAAAAIBBQAAAAAAAwFdAAAAAAAAARcAAAAAAAAAiQAAAAAAAAAhAAAAAAACAS0AAAAAAAIBKQAAAAAAAwFfAAAAAAAAAIsAAAAAAAEBWQAAAAAAAAFRAAAAAAABAU0AAAAAAAMBQQAAAAAAAgEpAAAAAAACAQ0AAAAAAAABWQAAAAAAAAE1AAAAAAABAUEAAAAAAAIBeQAAAAAAAgFhAAAAAAAAASkAAAAAAAAA+QAAAAAAAAFhAAAAAAADAVEAAAAAAAABEQAAAAAAAQFdAAAAAAACAYUAAAAAAAMBZQA==\",\"dtype\":\"float64\",\"shape\":[152]}}},\"id\":\"aeff64ba-3a44-46c6-90e5-827bdad4faf8\",\"type\":\"ColumnDataSource\"},{\"attributes\":{\"label\":{\"value\":\"HARLINGEN\"},\"renderers\":[{\"id\":\"d8d08f77-4790-4cd0-9b91-9634ae8ab7db\",\"type\":\"GlyphRenderer\"}]},\"id\":\"b7bfbda9-53d4-46d2-b202-5caa1f4ab186\",\"type\":\"LegendItem\"},{\"attributes\":{},\"id\":\"99526a58-eb31-4131-9c17-c15da50fd18e\",\"type\":\"HelpTool\"},{\"attributes\":{\"fill_alpha\":{\"value\":0.1},\"fill_color\":{\"value\":\"#1f77b4\"},\"line_alpha\":{\"value\":0.1},\"line_color\":{\"value\":\"#1f77b4\"},\"x\":{\"field\":\"x\"},\"y\":{\"field\":\"y\"}},\"id\":\"00850ada-859c-4e2d-9722-baef6ffba4f7\",\"type\":\"Circle\"},{\"attributes\":{\"label\":{\"value\":\"DEN HELDER\"},\"renderers\":[{\"id\":\"1018bad0-660f-4a49-8999-69e2f426cd9f\",\"type\":\"GlyphRenderer\"}]},\"id\":\"a0acef8b-51bd-41fb-b967-85d6ed2b7e46\",\"type\":\"LegendItem\"},{\"attributes\":{\"fill_alpha\":{\"value\":0.1},\"fill_color\":{\"value\":\"#1f77b4\"},\"line_alpha\":{\"value\":0.1},\"line_color\":{\"value\":\"#1f77b4\"},\"x\":{\"field\":\"x\"},\"y\":{\"field\":\"y\"}},\"id\":\"4f26d4a4-ea7b-40d9-b671-1f7648acf916\",\"type\":\"Circle\"},{\"attributes\":{\"click_policy\":\"hide\",\"items\":[{\"id\":\"a0acef8b-51bd-41fb-b967-85d6ed2b7e46\",\"type\":\"LegendItem\"},{\"id\":\"c604bb2c-9cac-438a-82a9-d020d0d11982\",\"type\":\"LegendItem\"},{\"id\":\"b7bfbda9-53d4-46d2-b202-5caa1f4ab186\",\"type\":\"LegendItem\"},{\"id\":\"85c23b1c-dfa2-444b-97ad-6dfdc81d5471\",\"type\":\"LegendItem\"},{\"id\":\"4c7cb8ca-690e-480f-b40e-1fc686a72358\",\"type\":\"LegendItem\"}],\"location\":\"bottom_right\",\"plot\":{\"id\":\"069fda35-55d7-42d2-aee0-44501b66c780\",\"subtype\":\"Figure\",\"type\":\"Plot\"}},\"id\":\"ee195e71-3bb1-400e-b05b-8a0a39e3450a\",\"type\":\"Legend\"},{\"attributes\":{},\"id\":\"d2e7911a-43bd-4907-8584-74ce5cb91886\",\"type\":\"ResetTool\"},{\"attributes\":{\"label\":{\"value\":\"DELFZIJL\"},\"renderers\":[{\"id\":\"68b96a83-af61-426f-8183-03ed8f7e1616\",\"type\":\"GlyphRenderer\"}]},\"id\":\"c604bb2c-9cac-438a-82a9-d020d0d11982\",\"type\":\"LegendItem\"},{\"attributes\":{\"callback\":null,\"column_names\":[\"x\",\"y\"],\"data\":{\"x\":[1843,1844,1845,1846,1847,1848,1849,1850,1851,1852,1853,1854,1855,1856,1857,1858,1859,1860,1861,1862,1863,1864,1865,1866,1867,1868,1869,1870,1871,1872,1873,1874,1875,1876,1877,1878,1879,1880,1881,1882,1883,1884,1885,1886,1887,1888,1889,1890,1891,1892,1893,1894,1895,1896,1897,1898,1899,1900,1901,1902,1903,1904,1905,1906,1907,1908,1909,1910,1911,1912,1913,1914,1915,1916,1917,1918,1919,1920,1921,1922,1923,1924,1925,1926,1927,1928,1929,1930,1931,1932,1933,1934,1935,1936,1937,1938,1939,1940,1941,1942,1943,1944,1945,1946,1947,1948,1949,1950,1951,1952,1953,1954,1955,1956,1957,1958,1959,1960,1961,1962,1963,1964,1965,1966,1967,1968,1969,1970,1971,1972,1973,1974,1975,1976,1977,1978,1979,1980,1981,1982,1983,1984,1985,1986,1987,1988,1989,1990,1991,1992,1993,1994,1995,1996,1997,1998,1999,2000,2001,2002,2003,2004,2005,2006,2007,2008,2009,2010,2011,2012,2013,2014,2015,2016],\"y\":{\"__ndarray__\":\"AAAAAADgZMAAAAAAAEBowAAAAAAAYGPAAAAAAAAgYsAAAAAAAMBswAAAAAAAgG3AAAAAAAAgasAAAAAAAEBhwAAAAAAAwGTAAAAAAAAgYcAAAAAAAKBtwAAAAAAAQF3AAAAAAADga8AAAAAAACBnwAAAAAAAIHDAAAAAAACgasAAAAAAACBiwAAAAAAA4GjAAAAAAADAYcAAAAAAAKBmwAAAAAAAwFHAAAAAAADga8AAAAAAAIBpwAAAAAAAgFXAAAAAAACAV8AAAAAAAMBVwAAAAAAAwF3AAAAAAABgacAAAAAAAKBpwAAAAAAA4GbAAAAAAADAX8AAAAAAAABfwAAAAAAAQG7AAAAAAABAacAAAAAAAMBUwAAAAAAAwFbAAAAAAADAZsAAAAAAAEBTwAAAAAAAAGLAAAAAAAAAXcAAAAAAAABewAAAAAAAQFbAAAAAAAAgYsAAAAAAAMBmwAAAAAAA4GHAAAAAAAAgaMAAAAAAAKBmwAAAAAAAgGHAAAAAAAAAYsAAAAAAAMBiwAAAAAAAAFbAAAAAAAAAW8AAAAAAAEBdwAAAAAAAQFrAAAAAAACAX8AAAAAAAABFwAAAAAAAACLAAAAAAADAUsAAAAAAAMBWwAAAAAAAgFfAAAAAAAAAAAAAAAAAAMBTwAAAAAAAgFLAAAAAAAAARsAAAAAAAMBWwAAAAAAAAF3AAAAAAACAUsAAAAAAAIBPwAAAAAAAQFHAAAAAAAAAQ8AAAAAAAIBMwAAAAAAAAEHAAAAAAAAAXMAAAAAAAAAzwAAAAAAAgETAAAAAAAAAP8AAAAAAAABMwAAAAAAAgEnAAAAAAAAANkAAAAAAAABCwAAAAAAAABjAAAAAAACATcAAAAAAAIBHQAAAAAAAAENAAAAAAAAAEEAAAAAAAAAsQAAAAAAAAETAAAAAAAAAMcAAAAAAAABDQAAAAAAAADdAAAAAAACAQMAAAAAAAAAoQAAAAAAAAEhAAAAAAAAANkAAAAAAAAA9wAAAAAAAAElAAAAAAAAAP8AAAAAAAADwPwAAAAAAAEvAAAAAAACAQcAAAAAAAEBQQAAAAAAAgFVAAAAAAABAVUAAAAAAAIBFQAAAAAAAgFHAAAAAAABAVUAAAAAAAEBeQAAAAAAAgFBAAAAAAAAAPkAAAAAAAABTQAAAAAAAgEZAAAAAAACASEAAAAAAAEBSQAAAAAAAADBAAAAAAACATEAAAAAAAABGQAAAAAAAACjAAAAAAAAAAMAAAAAAAMBhQAAAAAAAQFdAAAAAAAAAMsAAAAAAAAAYQAAAAAAAwFRAAAAAAACAVEAAAAAAAGBmQAAAAAAAAE5AAAAAAAAAMEAAAAAAAMBXQAAAAAAAAEpAAAAAAAAAPsAAAAAAAEBaQAAAAAAAgFRAAAAAAAAATEAAAAAAAAAUwAAAAAAAAEtAAAAAAAAAQEAAAAAAAAAoQAAAAAAAgEhAAAAAAAAAX0AAAAAAAEBWQAAAAAAAoGRAAAAAAAAAOkAAAAAAAIBFQAAAAAAAgEhAAAAAAAAASEAAAAAAAABhQAAAAAAAQFpAAAAAAAAgZ0AAAAAAAMBTQAAAAAAAwFJAAAAAAACAREAAAAAAAOBiQAAAAAAAAGNAAAAAAAAAPcAAAAAAAEBSQAAAAAAAYGVAAAAAAADgZEAAAAAAAEBjQAAAAAAAAGFAAAAAAADAXkAAAAAAAMBfQAAAAAAAAGZAAAAAAAAgYEAAAAAAAMBgQAAAAAAAIGtAAAAAAACgZkAAAAAAAMBdQAAAAAAAAFlAAAAAAADgY0AAAAAAAIBgQAAAAAAAQFhAAAAAAACAYEAAAAAAACBrQAAAAAAAIGRA\",\"dtype\":\"float64\",\"shape\":[174]}}},\"id\":\"e26e3a51-54f1-4ffe-8c06-36397bb3c061\",\"type\":\"ColumnDataSource\"},{\"attributes\":{},\"id\":\"e273d557-ee8c-451d-ac77-bd0387a8d7aa\",\"type\":\"PanTool\"},{\"attributes\":{\"source\":{\"id\":\"adcc4b44-cf09-49f6-9077-42b7d81bf45c\",\"type\":\"ColumnDataSource\"}},\"id\":\"13ed1098-4c2a-41fb-bbbf-7491b7ed5ad7\",\"type\":\"CDSView\"},{\"attributes\":{\"callback\":null,\"column_names\":[\"x\",\"y\"],\"data\":{\"x\":[1865,1866,1867,1868,1869,1870,1871,1872,1873,1874,1875,1876,1877,1878,1879,1880,1881,1882,1883,1884,1885,1886,1887,1888,1889,1890,1891,1892,1893,1894,1895,1896,1897,1898,1899,1900,1901,1902,1903,1904,1905,1906,1907,1908,1909,1910,1911,1912,1913,1914,1915,1916,1917,1918,1919,1920,1921,1922,1923,1924,1925,1926,1927,1928,1929,1930,1931,1932,1933,1934,1935,1936,1937,1938,1939,1940,1941,1942,1943,1944,1945,1946,1947,1948,1949,1950,1951,1952,1953,1954,1955,1956,1957,1958,1959,1960,1961,1962,1963,1964,1965,1966,1967,1968,1969,1970,1971,1972,1973,1974,1975,1976,1977,1978,1979,1980,1981,1982,1983,1984,1985,1986,1987,1988,1989,1990,1991,1992,1993,1994,1995,1996,1997,1998,1999,2000,2001,2002,2003,2004,2005,2006,2007,2008,2009,2010,2011,2012,2013,2014,2015,2016],\"y\":{\"__ndarray__\":\"AAAAAACAccAAAAAAAEBiwAAAAAAAIGnAAAAAAABAacAAAAAAAMBowAAAAAAA4G/AAAAAAABgcMAAAAAAAIBpwAAAAAAAQGjAAAAAAABAasAAAAAAAABwwAAAAAAAAGjAAAAAAAAAW8AAAAAAAGBgwAAAAAAAwGfAAAAAAADgY8AAAAAAAABqwAAAAAAAQGbAAAAAAACAZ8AAAAAAAMBlwAAAAAAAQGjAAAAAAADgZsAAAAAAAEBswAAAAAAAoGvAAAAAAACgZsAAAAAAAOBnwAAAAAAAoGPAAAAAAACAY8AAAAAAAABhwAAAAAAAQGHAAAAAAABAZMAAAAAAAOBmwAAAAAAAoGXAAAAAAABgYMAAAAAAAIBgwAAAAAAA4GXAAAAAAADga8AAAAAAAEBwwAAAAAAAoGTAAAAAAACgYMAAAAAAAGBlwAAAAAAAIGDAAAAAAACgY8AAAAAAAABmwAAAAAAAIGDAAAAAAAAAXMAAAAAAAMBhwAAAAAAAgFbAAAAAAACAYMAAAAAAAABYwAAAAAAAwF/AAAAAAACAWMAAAAAAAABjwAAAAAAA4GDAAAAAAAAgYcAAAAAAAGBiwAAAAAAA4GDAAAAAAACAYsAAAAAAAEBfwAAAAAAAAGLAAAAAAACAWcAAAAAAAKBgwAAAAAAAoGDAAAAAAACAXcAAAAAAAABjwAAAAAAAQFnAAAAAAAAAWMAAAAAAAEBbwAAAAAAAwGTAAAAAAAAAZMAAAAAAAEBawAAAAAAAQFfAAAAAAAAAW8AAAAAAAAA3wAAAAAAAIGHAAAAAAACAXcAAAAAAAKBjwAAAAAAA4GHAAAAAAAAAV8AAAAAAAABWwAAAAAAAgFTAAAAAAABAWMAAAAAAAOBmwAAAAAAAAFnAAAAAAACAT8AAAAAAAIBRwAAAAAAAgFfAAAAAAACAU8AAAAAAAMBawAAAAAAAQFDAAAAAAAAATcAAAAAAAABhwAAAAAAAwFzAAAAAAACAU8AAAAAAAEBdwAAAAAAAQFXAAAAAAACAQMAAAAAAAIBVwAAAAAAAYGDAAAAAAABAVsAAAAAAAAA9wAAAAAAAAAjAAAAAAAAAM0AAAAAAAABOwAAAAAAAgFbAAAAAAABAUMAAAAAAAABewAAAAAAAgGDAAAAAAAAAVMAAAAAAAIBUwAAAAAAAAFvAAAAAAABAXsAAAAAAAABFwAAAAAAAgE/AAAAAAACATMAAAAAAAIBFwAAAAAAAABTAAAAAAAAAPcAAAAAAAAAqQAAAAAAAAETAAAAAAAAAQ8AAAAAAAABDwAAAAAAAgEzAAAAAAAAAPkAAAAAAAAAywAAAAAAAADxAAAAAAABAU8AAAAAAAAA9wAAAAAAAgETAAAAAAAAAFEAAAAAAAAAAAAAAAAAAgFvAAAAAAAAAT8AAAAAAAAAyQAAAAAAAACpAAAAAAAAAJkAAAAAAAAAkQAAAAAAAAADAAAAAAAAAKMAAAAAAAAA0QAAAAAAAABzAAAAAAAAAFMAAAAAAAABFQAAAAAAAADFAAAAAAAAAMcAAAAAAAAA+wAAAAAAAADFAAAAAAAAAAEAAAAAAAAA7wAAAAAAAABhAAAAAAAAAQkAAAAAAAAAxQA==\",\"dtype\":\"float64\",\"shape\":[152]}}},\"id\":\"fa80b628-9727-4458-9c93-813014e07a5c\",\"type\":\"ColumnDataSource\"},{\"attributes\":{\"source\":{\"id\":\"e26e3a51-54f1-4ffe-8c06-36397bb3c061\",\"type\":\"ColumnDataSource\"}},\"id\":\"590d03bf-4356-4f7d-a74a-4b0054fd422c\",\"type\":\"CDSView\"},{\"attributes\":{\"fill_alpha\":{\"value\":0.5},\"fill_color\":{\"value\":\"#7fc97f\"},\"line_alpha\":{\"value\":0.5},\"line_color\":{\"value\":\"#7fc97f\"},\"x\":{\"field\":\"x\"},\"y\":{\"field\":\"y\"}},\"id\":\"7cf7ec76-d144-47de-8804-ee777fe169fa\",\"type\":\"Circle\"},{\"attributes\":{\"data_source\":{\"id\":\"aeff64ba-3a44-46c6-90e5-827bdad4faf8\",\"type\":\"ColumnDataSource\"},\"glyph\":{\"id\":\"8b9e1dd4-e621-4e91-bcdb-23f7b6f870a7\",\"type\":\"Circle\"},\"hover_glyph\":null,\"muted_glyph\":null,\"nonselection_glyph\":{\"id\":\"4f26d4a4-ea7b-40d9-b671-1f7648acf916\",\"type\":\"Circle\"},\"selection_glyph\":null,\"view\":{\"id\":\"fe165e88-f0ba-4f1e-a0cb-7cc92481066c\",\"type\":\"CDSView\"}},\"id\":\"d8d08f77-4790-4cd0-9b91-9634ae8ab7db\",\"type\":\"GlyphRenderer\"},{\"attributes\":{},\"id\":\"041a597b-f7b9-4952-a1a5-1865bf81b56c\",\"type\":\"BasicTickFormatter\"},{\"attributes\":{\"source\":{\"id\":\"ea653193-5a52-4282-b26f-9dd92885128e\",\"type\":\"ColumnDataSource\"}},\"id\":\"925360c9-6c50-42da-9606-645259d8e590\",\"type\":\"CDSView\"},{\"attributes\":{\"data_source\":{\"id\":\"fa80b628-9727-4458-9c93-813014e07a5c\",\"type\":\"ColumnDataSource\"},\"glyph\":{\"id\":\"7cf7ec76-d144-47de-8804-ee777fe169fa\",\"type\":\"Circle\"},\"hover_glyph\":null,\"muted_glyph\":null,\"nonselection_glyph\":{\"id\":\"ff4fada1-363e-4732-8a48-2b46a489057a\",\"type\":\"Circle\"},\"selection_glyph\":null,\"view\":{\"id\":\"f23d1ae7-9fbb-4057-b16e-f63406f79647\",\"type\":\"CDSView\"}},\"id\":\"1018bad0-660f-4a49-8999-69e2f426cd9f\",\"type\":\"GlyphRenderer\"},{\"attributes\":{\"fill_alpha\":{\"value\":0.1},\"fill_color\":{\"value\":\"#1f77b4\"},\"line_alpha\":{\"value\":0.1},\"line_color\":{\"value\":\"#1f77b4\"},\"x\":{\"field\":\"x\"},\"y\":{\"field\":\"y\"}},\"id\":\"ff4fada1-363e-4732-8a48-2b46a489057a\",\"type\":\"Circle\"},{\"attributes\":{\"data_source\":{\"id\":\"ea653193-5a52-4282-b26f-9dd92885128e\",\"type\":\"ColumnDataSource\"},\"glyph\":{\"id\":\"69eef98a-5c8b-40f9-a665-dbb2aecb37e4\",\"type\":\"Line\"},\"hover_glyph\":null,\"muted_glyph\":null,\"nonselection_glyph\":{\"id\":\"5638599b-5567-410d-a52b-5bdcaf970514\",\"type\":\"Line\"},\"selection_glyph\":null,\"view\":{\"id\":\"925360c9-6c50-42da-9606-645259d8e590\",\"type\":\"CDSView\"}},\"id\":\"ae01af48-2c4c-45ec-8a16-435a82b64c54\",\"type\":\"GlyphRenderer\"},{\"attributes\":{\"fill_alpha\":{\"value\":0.5},\"fill_color\":{\"value\":\"#beaed4\"},\"line_alpha\":{\"value\":0.5},\"line_color\":{\"value\":\"#beaed4\"},\"x\":{\"field\":\"x\"},\"y\":{\"field\":\"y\"}},\"id\":\"98755173-fec2-4a1d-b2d2-abde878d26d2\",\"type\":\"Circle\"},{\"attributes\":{\"source\":{\"id\":\"fa80b628-9727-4458-9c93-813014e07a5c\",\"type\":\"ColumnDataSource\"}},\"id\":\"f23d1ae7-9fbb-4057-b16e-f63406f79647\",\"type\":\"CDSView\"},{\"attributes\":{\"source\":{\"id\":\"aeff64ba-3a44-46c6-90e5-827bdad4faf8\",\"type\":\"ColumnDataSource\"}},\"id\":\"fe165e88-f0ba-4f1e-a0cb-7cc92481066c\",\"type\":\"CDSView\"},{\"attributes\":{},\"id\":\"e63a9672-95c0-445d-a452-01861dd98862\",\"type\":\"BasicTickFormatter\"},{\"attributes\":{\"fill_alpha\":{\"value\":0.1},\"fill_color\":{\"value\":\"#1f77b4\"},\"line_alpha\":{\"value\":0.1},\"line_color\":{\"value\":\"#1f77b4\"},\"x\":{\"field\":\"x\"},\"y\":{\"field\":\"y\"}},\"id\":\"972f7f9d-f3d0-4458-a5a1-9a65ebaf6d3e\",\"type\":\"Circle\"},{\"attributes\":{\"bottom_units\":\"screen\",\"fill_alpha\":{\"value\":0.5},\"fill_color\":{\"value\":\"lightgrey\"},\"left_units\":\"screen\",\"level\":\"overlay\",\"line_alpha\":{\"value\":1.0},\"line_color\":{\"value\":\"black\"},\"line_dash\":[4,4],\"line_width\":{\"value\":2},\"plot\":null,\"render_mode\":\"css\",\"right_units\":\"screen\",\"top_units\":\"screen\"},\"id\":\"75f7d0f5-a2c8-4197-8bb3-08fb674a550d\",\"type\":\"BoxAnnotation\"},{\"attributes\":{\"callback\":null,\"column_names\":[\"x\",\"y\"],\"data\":{\"x\":[1865,1866,1867,1868,1869,1870,1871,1872,1873,1874,1875,1876,1877,1878,1879,1880,1881,1882,1883,1884,1885,1886,1887,1888,1889,1890,1891,1892,1893,1894,1895,1896,1897,1898,1899,1900,1901,1902,1903,1904,1905,1906,1907,1908,1909,1910,1911,1912,1913,1914,1915,1916,1917,1918,1919,1920,1921,1922,1923,1924,1925,1926,1927,1928,1929,1930,1931,1932,1933,1934,1935,1936,1937,1938,1939,1940,1941,1942,1943,1944,1945,1946,1947,1948,1949,1950,1951,1952,1953,1954,1955,1956,1957,1958,1959,1960,1961,1962,1963,1964,1965,1966,1967,1968,1969,1970,1971,1972,1973,1974,1975,1976,1977,1978,1979,1980,1981,1982,1983,1984,1985,1986,1987,1988,1989,1990,1991,1992,1993,1994,1995,1996,1997,1998,1999,2000,2001,2002,2003,2004,2005,2006,2007,2008,2009,2010,2011,2012,2013,2014,2015,2016],\"y\":{\"__ndarray__\":\"AAAAAABAZcAAAAAAAEBTwAAAAAAAAEvAAAAAAAAAVsAAAAAAAMBRwAAAAAAAoGTAAAAAAAAgY8AAAAAAAEBdwAAAAAAAgFXAAAAAAACAUsAAAAAAACBkwAAAAAAAQGDAAAAAAAAAMUAAAAAAAIBMwAAAAAAAwGHAAAAAAABAVcAAAAAAAOBiwAAAAAAAgF7AAAAAAABAZcAAAAAAACBjwAAAAAAAYGLAAAAAAADAZMAAAAAAAKBgwAAAAAAAoGTAAAAAAAAgYMAAAAAAAOBiwAAAAAAAwF/AAAAAAADAX8AAAAAAAMBUwAAAAAAAAF3AAAAAAAAAYMAAAAAAAIBewAAAAAAAgF7AAAAAAABAUMAAAAAAAMBWwAAAAAAAAFzAAAAAAABAYMAAAAAAACBkwAAAAAAAAELAAAAAAADAYMAAAAAAAIBowAAAAAAAwFzAAAAAAABAYMAAAAAAAMBewAAAAAAAAFPAAAAAAACAUMAAAAAAAABLwAAAAAAAACxAAAAAAACARsAAAAAAAABEwAAAAAAAAFTAAAAAAAAAIsAAAAAAAEBSwAAAAAAAwFXAAAAAAAAAXMAAAAAAAEBVwAAAAAAAADHAAAAAAAAAU8AAAAAAAABKwAAAAAAAwFXAAAAAAAAAFMAAAAAAAAAxwAAAAAAAgEXAAAAAAAAAPsAAAAAAAEBRwAAAAAAAgEfAAAAAAAAAMcAAAAAAAABBwAAAAAAAwFPAAAAAAACATMAAAAAAAAAswAAAAAAAAC7AAAAAAAAASsAAAAAAAAAUwAAAAAAAAFHAAAAAAACAR8AAAAAAAMBYwAAAAAAAgFPAAAAAAAAAJMAAAAAAAAA1QAAAAAAAADZAAAAAAAAAFMAAAAAAAIBawAAAAAAAACTAAAAAAAAAKkAAAAAAAAA1wAAAAAAAgEfAAAAAAAAAAEAAAAAAAAA7wAAAAAAAADPAAAAAAAAAEEAAAAAAAABEwAAAAAAAADTAAAAAAAAAPsAAAAAAAIBPwAAAAAAAAC7AAAAAAACAVUAAAAAAAAAwQAAAAAAAAD3AAAAAAAAALMAAAAAAAAAAAAAAAAAAAD5AAAAAAADAWUAAAAAAAIBCQAAAAAAAAChAAAAAAAAAT0AAAAAAAAA6QAAAAAAAgEzAAAAAAACAQUAAAAAAAIBBQAAAAAAAABxAAAAAAAAANsAAAAAAAAAuQAAAAAAAAC5AAAAAAAAA8D8AAAAAAIBGQAAAAAAAwFpAAAAAAADAU0AAAAAAAABgQAAAAAAAAD9AAAAAAACAR0AAAAAAAAAzQAAAAAAAADdAAAAAAADAW0AAAAAAAMBSQAAAAAAAAF9AAAAAAAAAIkAAAAAAAIBMQAAAAAAAAEtAAAAAAABAV0AAAAAAAIBaQAAAAAAAgELAAAAAAACAQ0AAAAAAAGBgQAAAAAAAwF5AAAAAAABAXUAAAAAAAIBfQAAAAAAAgFpAAAAAAACAVUAAAAAAAABdQAAAAAAAQFRAAAAAAAAAVEAAAAAAAGBjQAAAAAAAQF1AAAAAAABAVEAAAAAAAMBQQAAAAAAAgF5AAAAAAACAWkAAAAAAAIBUQAAAAAAAgF9AAAAAAABgZkAAAAAAAABiQA==\",\"dtype\":\"float64\",\"shape\":[152]}}},\"id\":\"adcc4b44-cf09-49f6-9077-42b7d81bf45c\",\"type\":\"ColumnDataSource\"},{\"attributes\":{\"data_source\":{\"id\":\"adcc4b44-cf09-49f6-9077-42b7d81bf45c\",\"type\":\"ColumnDataSource\"},\"glyph\":{\"id\":\"98755173-fec2-4a1d-b2d2-abde878d26d2\",\"type\":\"Circle\"},\"hover_glyph\":null,\"muted_glyph\":null,\"nonselection_glyph\":{\"id\":\"00850ada-859c-4e2d-9722-baef6ffba4f7\",\"type\":\"Circle\"},\"selection_glyph\":null,\"view\":{\"id\":\"13ed1098-4c2a-41fb-bbbf-7491b7ed5ad7\",\"type\":\"CDSView\"}},\"id\":\"68b96a83-af61-426f-8183-03ed8f7e1616\",\"type\":\"GlyphRenderer\"},{\"attributes\":{\"overlay\":{\"id\":\"75f7d0f5-a2c8-4197-8bb3-08fb674a550d\",\"type\":\"BoxAnnotation\"}},\"id\":\"399eefac-1020-48da-95f0-72d75e951459\",\"type\":\"BoxZoomTool\"}],\"root_ids\":[\"069fda35-55d7-42d2-aee0-44501b66c780\"]},\"title\":\"Bokeh Application\",\"version\":\"0.12.10\"}};\n",
       "    var render_items = [{\"docid\":\"cff81cfc-e678-44c8-b1b0-ace8235540d3\",\"elementid\":\"36e6482a-6c6a-4d4c-a5b2-15903acd9585\",\"modelid\":\"069fda35-55d7-42d2-aee0-44501b66c780\"}];\n",
       "\n",
       "    root.Bokeh.embed.embed_items(docs_json, render_items);\n",
       "  }\n",
       "\n",
       "  if (root.Bokeh !== undefined) {\n",
       "    embed_document(root);\n",
       "  } else {\n",
       "    var attempts = 0;\n",
       "    var timer = setInterval(function(root) {\n",
       "      if (root.Bokeh !== undefined) {\n",
       "        embed_document(root);\n",
       "        clearInterval(timer);\n",
       "      }\n",
       "      attempts++;\n",
       "      if (attempts > 100) {\n",
       "        console.log(\"Bokeh: ERROR: Unable to embed document because BokehJS library is missing\")\n",
       "        clearInterval(timer);\n",
       "      }\n",
       "    }, 10, root)\n",
       "  }\n",
       "})(window);"
      ],
      "application/vnd.bokehjs_exec.v0+json": ""
     },
     "metadata": {
      "application/vnd.bokehjs_exec.v0+json": {
       "id": "069fda35-55d7-42d2-aee0-44501b66c780"
      }
     },
     "output_type": "display_data"
    }
   ],
   "source": [
    "bokeh.io.show(timeseries_plot(default_dataset_name))"
   ]
  },
  {
   "cell_type": "code",
   "execution_count": 17,
   "metadata": {},
   "outputs": [
    {
     "data": {
      "text/html": [
       "\n",
       "<div class=\"bk-root\">\n",
       "    <div class=\"bk-plotdiv\" id=\"ac42b8b6-2294-4719-9b1b-32ea0d7cc012\"></div>\n",
       "</div>"
      ]
     },
     "metadata": {},
     "output_type": "display_data"
    },
    {
     "data": {
      "application/javascript": [
       "(function(root) {\n",
       "  function embed_document(root) {\n",
       "    var docs_json = {\"2a25a9f2-ad31-4b94-9cdf-03fb13ce7969\":{\"roots\":{\"references\":[{\"attributes\":{\"fill_alpha\":{\"value\":0.1},\"fill_color\":{\"value\":\"#1f77b4\"},\"line_alpha\":{\"value\":0.1},\"line_color\":{\"value\":\"#1f77b4\"},\"x\":{\"field\":\"x\"},\"y\":{\"field\":\"y\"}},\"id\":\"cfbd7bad-73f6-45c5-82c5-706a91fce024\",\"type\":\"Circle\"},{\"attributes\":{},\"id\":\"77a3bf95-55f9-482e-9fa0-1a6c541fb387\",\"type\":\"PanTool\"},{\"attributes\":{\"data_source\":{\"id\":\"bff44b86-b120-41c1-a50f-175cd2eae91b\",\"type\":\"ColumnDataSource\"},\"glyph\":{\"id\":\"7331a276-3d73-4623-8e8a-d29606ecff97\",\"type\":\"Circle\"},\"hover_glyph\":null,\"muted_glyph\":null,\"nonselection_glyph\":{\"id\":\"cfbd7bad-73f6-45c5-82c5-706a91fce024\",\"type\":\"Circle\"},\"selection_glyph\":null,\"view\":{\"id\":\"6ed3028c-fb0f-408a-99ca-4ed879ed4c1a\",\"type\":\"CDSView\"}},\"id\":\"70f5f684-d09c-4a95-b773-4ec3043f072e\",\"type\":\"GlyphRenderer\"},{\"attributes\":{},\"id\":\"fc753253-f53b-464e-8b91-6f2ab4baf7f0\",\"type\":\"LinearScale\"},{\"attributes\":{\"axis_label\":\"year\",\"formatter\":{\"id\":\"a5650ba9-6538-42e1-b7bb-9f43aa20007d\",\"type\":\"BasicTickFormatter\"},\"plot\":{\"id\":\"0e3db5d5-6105-46ad-ad61-d7f9b1492dfc\",\"subtype\":\"Figure\",\"type\":\"Plot\"},\"ticker\":{\"id\":\"1d68ae97-c48e-44eb-bf16-7f07f8b64822\",\"type\":\"BasicTicker\"}},\"id\":\"6c295b62-6876-4d9b-97de-e9592c96a790\",\"type\":\"LinearAxis\"},{\"attributes\":{},\"id\":\"55eaaeb7-be0d-495d-b72e-df4e0a7f944d\",\"type\":\"WheelZoomTool\"},{\"attributes\":{\"source\":{\"id\":\"bff44b86-b120-41c1-a50f-175cd2eae91b\",\"type\":\"ColumnDataSource\"}},\"id\":\"6ed3028c-fb0f-408a-99ca-4ed879ed4c1a\",\"type\":\"CDSView\"},{\"attributes\":{\"source\":{\"id\":\"f41153bd-1b84-43df-b903-c541e9e035ce\",\"type\":\"ColumnDataSource\"}},\"id\":\"734b0224-4610-4567-b4eb-0de21f72eb24\",\"type\":\"CDSView\"},{\"attributes\":{\"overlay\":{\"id\":\"d711dd45-e185-4ffb-bca0-39a50aaa22a3\",\"type\":\"BoxAnnotation\"}},\"id\":\"fb8f3f95-b712-47a1-b401-1e249e502ecb\",\"type\":\"BoxZoomTool\"},{\"attributes\":{},\"id\":\"7c4f32bb-8730-4618-9ca9-c24e5ab7f9b6\",\"type\":\"HelpTool\"},{\"attributes\":{\"plot\":{\"id\":\"0e3db5d5-6105-46ad-ad61-d7f9b1492dfc\",\"subtype\":\"Figure\",\"type\":\"Plot\"},\"ticker\":{\"id\":\"1d68ae97-c48e-44eb-bf16-7f07f8b64822\",\"type\":\"BasicTicker\"}},\"id\":\"6a4aec24-459e-415e-9c1f-c39ffe4f75b8\",\"type\":\"Grid\"},{\"attributes\":{\"click_policy\":\"hide\",\"items\":[{\"id\":\"49cfb0bb-0d2e-43b7-beea-c1303c6b0765\",\"type\":\"LegendItem\"},{\"id\":\"40f4fc22-1ddb-426c-9697-e09873808f0a\",\"type\":\"LegendItem\"},{\"id\":\"8ea9a6a3-5a7c-4ecc-8d60-8b4daaaf25a3\",\"type\":\"LegendItem\"},{\"id\":\"6d60a41e-1796-40b5-aa2b-d5c92e60a503\",\"type\":\"LegendItem\"},{\"id\":\"d3648d5a-7412-45f0-af8c-da01505cafc1\",\"type\":\"LegendItem\"}],\"location\":\"bottom_right\",\"plot\":{\"id\":\"0e3db5d5-6105-46ad-ad61-d7f9b1492dfc\",\"subtype\":\"Figure\",\"type\":\"Plot\"}},\"id\":\"cd664113-437b-47fc-a080-31312e80d3f5\",\"type\":\"Legend\"},{\"attributes\":{\"label\":{\"value\":\"DEN HELDER\"},\"renderers\":[{\"id\":\"70f5f684-d09c-4a95-b773-4ec3043f072e\",\"type\":\"GlyphRenderer\"}]},\"id\":\"49cfb0bb-0d2e-43b7-beea-c1303c6b0765\",\"type\":\"LegendItem\"},{\"attributes\":{\"callback\":null,\"column_names\":[\"x\",\"y\"],\"data\":{\"x\":[1890,1891,1892,1893,1894,1895,1896,1897,1898,1899,1900,1901,1902,1903,1904,1905,1906,1907,1908,1909,1910,1911,1912,1913,1914,1915,1916,1917,1918,1919,1920,1921,1922,1923,1924,1925,1926,1927,1928,1929,1930,1931,1932,1933,1934,1935,1936,1937,1938,1939,1940,1941,1942,1943,1944,1945,1946,1947,1948,1949,1950,1951,1952,1953,1954,1955,1956,1957,1958,1959,1960,1961,1962,1963,1964,1965,1966,1967,1968,1969,1970,1971,1972,1973,1974,1975,1976,1977,1978,1979,1980,1981,1982,1983,1984,1985,1986,1987,1988,1989,1990,1991,1992,1993,1994,1995,1996,1997,1998,1999,2000,2001,2002,2003,2004,2005,2006,2007,2008,2009,2010,2011,2012,2013,2014,2015,2016],\"y\":{\"__ndarray__\":\"AAAAAADQYsAAAAAAAIBgwAAAAAAAYGDAAAAAAADQV8AAAAAAAABbwAAAAAAA8F/AAAAAAADwX8AAAAAAAHBfwAAAAAAAgFHAAAAAAABwU8AAAAAAAMBdwAAAAAAA0GHAAAAAAABYZMAAAAAAAABLwAAAAAAA4FrAAAAAAAA4YMAAAAAAACBVwAAAAAAAgFzAAAAAAABAYMAAAAAAACBVwAAAAAAAAFLAAAAAAABgVcAAAAAAAMA8wAAAAAAAMFDAAAAAAACARsAAAAAAAJBYwAAAAAAAQEDAAAAAAADwU8AAAAAAAPBRwAAAAAAA0FbAAAAAAAAAVcAAAAAAAKBEwAAAAAAAgFPAAAAAAADgR8AAAAAAAJBUwAAAAAAAACXAAAAAAACAOsAAAAAAAMBGwAAAAAAAgD/AAAAAAACQVMAAAAAAACBJwAAAAAAAgDbAAAAAAACgQsAAAAAAALBWwAAAAAAAQFDAAAAAAACAMsAAAAAAAMA4wAAAAAAAYE3AAAAAAAAAAkAAAAAAALBSwAAAAAAAoEvAAAAAAABQWcAAAAAAALBTwAAAAAAAACnAAAAAAAAAAEAAAAAAAAAQQAAAAAAAwDbAAAAAAADgXMAAAAAAAIAhwAAAAAAAwDNAAAAAAAAAF8AAAAAAAEBAwAAAAAAAAOg/AAAAAABgQMAAAAAAAIApwAAAAAAAAAAAAAAAAACgS8AAAAAAAEA3wAAAAAAAQDLAAAAAAABgT8AAAAAAAIA/wAAAAAAAoE9AAAAAAAAAG0AAAAAAAGBPwAAAAAAAoEPAAAAAAABAMEAAAAAAAABBQAAAAAAAYFhAAAAAAACAIUAAAAAAAEAwwAAAAAAAYENAAAAAAACALMAAAAAAAABNwAAAAAAAADtAAAAAAACAM0AAAAAAAIAqwAAAAAAAwEfAAAAAAAAAKEAAAAAAAAAXwAAAAAAAAB3AAAAAAADAOUAAAAAAAOBSQAAAAAAAwEdAAAAAAABgWUAAAAAAAIAgQAAAAAAAADFAAAAAAAAAKEAAAAAAAADoPwAAAAAAwFZAAAAAAACgSEAAAAAAAABbQAAAAAAAAB/AAAAAAAAAPEAAAAAAAIAsQAAAAAAAAFNAAAAAAABwU0AAAAAAAPBQwAAAAAAAgCRAAAAAAACQWUAAAAAAAPBXQAAAAAAAcFZAAAAAAAAwVUAAAAAAAIBRQAAAAAAAAE5AAAAAAAAAWUAAAAAAAFBQQAAAAAAAIFFAAAAAAADAYEAAAAAAANBZQAAAAAAAYE1AAAAAAADgREAAAAAAAKBYQAAAAAAAMFRAAAAAAAAASEAAAAAAAFBWQAAAAAAA4GFAAAAAAACQWkA=\",\"dtype\":\"float64\",\"shape\":[127]}}},\"id\":\"b2b39f30-7808-4d80-97b4-68d600704ff6\",\"type\":\"ColumnDataSource\"},{\"attributes\":{\"fill_alpha\":{\"value\":0.5},\"fill_color\":{\"value\":\"#beaed4\"},\"line_alpha\":{\"value\":0.5},\"line_color\":{\"value\":\"#beaed4\"},\"x\":{\"field\":\"x\"},\"y\":{\"field\":\"y\"}},\"id\":\"2002b910-8d53-43b7-9a59-4d51fe97e4a2\",\"type\":\"Circle\"},{\"attributes\":{},\"id\":\"c553fce3-6c53-4ce1-9e89-5b3ef6c338e3\",\"type\":\"BasicTicker\"},{\"attributes\":{\"callback\":null,\"column_names\":[\"x\",\"y\"],\"data\":{\"x\":{\"__ndarray__\":\"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\",\"dtype\":\"float64\",\"shape\":[1824]},\"y\":{\"__ndarray__\":\"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\",\"dtype\":\"float64\",\"shape\":[1824]}}},\"id\":\"f41153bd-1b84-43df-b903-c541e9e035ce\",\"type\":\"ColumnDataSource\"},{\"attributes\":{\"below\":[{\"id\":\"6c295b62-6876-4d9b-97de-e9592c96a790\",\"type\":\"LinearAxis\"}],\"left\":[{\"id\":\"9300c555-9c52-44b5-8faf-513f61f6bdea\",\"type\":\"LinearAxis\"}],\"plot_height\":400,\"plot_width\":900,\"renderers\":[{\"id\":\"6c295b62-6876-4d9b-97de-e9592c96a790\",\"type\":\"LinearAxis\"},{\"id\":\"6a4aec24-459e-415e-9c1f-c39ffe4f75b8\",\"type\":\"Grid\"},{\"id\":\"9300c555-9c52-44b5-8faf-513f61f6bdea\",\"type\":\"LinearAxis\"},{\"id\":\"a36aa278-ca7b-4cbf-9e43-5b5db8935229\",\"type\":\"Grid\"},{\"id\":\"d711dd45-e185-4ffb-bca0-39a50aaa22a3\",\"type\":\"BoxAnnotation\"},{\"id\":\"cd664113-437b-47fc-a080-31312e80d3f5\",\"type\":\"Legend\"},{\"id\":\"70f5f684-d09c-4a95-b773-4ec3043f072e\",\"type\":\"GlyphRenderer\"},{\"id\":\"fd2e4987-f51d-4bf3-8215-ab14e687720c\",\"type\":\"GlyphRenderer\"},{\"id\":\"14bf372f-b252-4c8c-8885-ed4b94537470\",\"type\":\"GlyphRenderer\"},{\"id\":\"1a4d4b61-93cf-4348-83ab-2172b664b28f\",\"type\":\"GlyphRenderer\"},{\"id\":\"cb41a4ce-0f34-4354-a175-a8f4dba65db5\",\"type\":\"GlyphRenderer\"}],\"title\":{\"id\":\"217710c8-0083-4d5c-9ca6-ebedaeee1f11\",\"type\":\"Title\"},\"toolbar\":{\"id\":\"287e8d23-7a96-4275-9efc-481a17df238e\",\"type\":\"Toolbar\"},\"x_range\":{\"id\":\"8e09c683-4541-4901-82ad-eab1594ca5f8\",\"type\":\"Range1d\"},\"x_scale\":{\"id\":\"fc753253-f53b-464e-8b91-6f2ab4baf7f0\",\"type\":\"LinearScale\"},\"y_range\":{\"id\":\"978178ee-d1b5-430a-af75-4df96ab0c263\",\"type\":\"DataRange1d\"},\"y_scale\":{\"id\":\"de74eb10-fc7b-4911-876e-0b970cff0dbf\",\"type\":\"LinearScale\"}},\"id\":\"0e3db5d5-6105-46ad-ad61-d7f9b1492dfc\",\"subtype\":\"Figure\",\"type\":\"Plot\"},{\"attributes\":{\"fill_alpha\":{\"value\":0.1},\"fill_color\":{\"value\":\"#1f77b4\"},\"line_alpha\":{\"value\":0.1},\"line_color\":{\"value\":\"#1f77b4\"},\"x\":{\"field\":\"x\"},\"y\":{\"field\":\"y\"}},\"id\":\"7d28c19d-6835-4127-b385-cad1c0f0ed6f\",\"type\":\"Circle\"},{\"attributes\":{\"fill_alpha\":{\"value\":0.1},\"fill_color\":{\"value\":\"#1f77b4\"},\"line_alpha\":{\"value\":0.1},\"line_color\":{\"value\":\"#1f77b4\"},\"x\":{\"field\":\"x\"},\"y\":{\"field\":\"y\"}},\"id\":\"058391cf-2965-429c-82d9-a68804b3498c\",\"type\":\"Circle\"},{\"attributes\":{\"line_alpha\":{\"value\":0.7},\"x\":{\"field\":\"x\"},\"y\":{\"field\":\"y\"}},\"id\":\"5ecfcc49-5d02-42ee-bd67-91c5a1f5897a\",\"type\":\"Line\"},{\"attributes\":{\"data_source\":{\"id\":\"f41153bd-1b84-43df-b903-c541e9e035ce\",\"type\":\"ColumnDataSource\"},\"glyph\":{\"id\":\"2002b910-8d53-43b7-9a59-4d51fe97e4a2\",\"type\":\"Circle\"},\"hover_glyph\":null,\"muted_glyph\":null,\"nonselection_glyph\":{\"id\":\"058391cf-2965-429c-82d9-a68804b3498c\",\"type\":\"Circle\"},\"selection_glyph\":null,\"view\":{\"id\":\"734b0224-4610-4567-b4eb-0de21f72eb24\",\"type\":\"CDSView\"}},\"id\":\"fd2e4987-f51d-4bf3-8215-ab14e687720c\",\"type\":\"GlyphRenderer\"},{\"attributes\":{\"line_alpha\":{\"value\":0.1},\"line_color\":{\"value\":\"#1f77b4\"},\"x\":{\"field\":\"x\"},\"y\":{\"field\":\"y\"}},\"id\":\"d3e5cd12-81d1-41eb-aa3a-a865a830e375\",\"type\":\"Line\"},{\"attributes\":{\"label\":{\"value\":\"DELFZIJL\"},\"renderers\":[{\"id\":\"fd2e4987-f51d-4bf3-8215-ab14e687720c\",\"type\":\"GlyphRenderer\"}]},\"id\":\"40f4fc22-1ddb-426c-9697-e09873808f0a\",\"type\":\"LegendItem\"},{\"attributes\":{\"callback\":null},\"id\":\"978178ee-d1b5-430a-af75-4df96ab0c263\",\"type\":\"DataRange1d\"},{\"attributes\":{\"callback\":null,\"column_names\":[\"x\",\"y\"],\"data\":{\"x\":{\"__ndarray__\":\"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\",\"dtype\":\"float64\",\"shape\":[1824]},\"y\":{\"__ndarray__\":\"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\",\"dtype\":\"float64\",\"shape\":[1824]}}},\"id\":\"289f6f3a-56a5-48b9-b273-f83135a0a8f8\",\"type\":\"ColumnDataSource\"},{\"attributes\":{},\"id\":\"1d68ae97-c48e-44eb-bf16-7f07f8b64822\",\"type\":\"BasicTicker\"},{\"attributes\":{\"fill_alpha\":{\"value\":0.5},\"fill_color\":{\"value\":\"#fdc086\"},\"line_alpha\":{\"value\":0.5},\"line_color\":{\"value\":\"#fdc086\"},\"x\":{\"field\":\"x\"},\"y\":{\"field\":\"y\"}},\"id\":\"6ae00882-3ea0-498b-8fab-a9110ac29879\",\"type\":\"Circle\"},{\"attributes\":{\"fill_alpha\":{\"value\":0.1},\"fill_color\":{\"value\":\"#1f77b4\"},\"line_alpha\":{\"value\":0.1},\"line_color\":{\"value\":\"#1f77b4\"},\"x\":{\"field\":\"x\"},\"y\":{\"field\":\"y\"}},\"id\":\"69f26a50-dc82-4419-8141-42c051ccefb3\",\"type\":\"Circle\"},{\"attributes\":{\"source\":{\"id\":\"289f6f3a-56a5-48b9-b273-f83135a0a8f8\",\"type\":\"ColumnDataSource\"}},\"id\":\"53292836-10d0-4a40-b056-52f63ef81739\",\"type\":\"CDSView\"},{\"attributes\":{\"axis_label\":\"waterlevel [mm] above NAP\",\"formatter\":{\"id\":\"0c6405c7-9440-4154-9df3-3a087f8a055e\",\"type\":\"BasicTickFormatter\"},\"plot\":{\"id\":\"0e3db5d5-6105-46ad-ad61-d7f9b1492dfc\",\"subtype\":\"Figure\",\"type\":\"Plot\"},\"ticker\":{\"id\":\"c553fce3-6c53-4ce1-9e89-5b3ef6c338e3\",\"type\":\"BasicTicker\"}},\"id\":\"9300c555-9c52-44b5-8faf-513f61f6bdea\",\"type\":\"LinearAxis\"},{\"attributes\":{\"data_source\":{\"id\":\"289f6f3a-56a5-48b9-b273-f83135a0a8f8\",\"type\":\"ColumnDataSource\"},\"glyph\":{\"id\":\"6ae00882-3ea0-498b-8fab-a9110ac29879\",\"type\":\"Circle\"},\"hover_glyph\":null,\"muted_glyph\":null,\"nonselection_glyph\":{\"id\":\"7d28c19d-6835-4127-b385-cad1c0f0ed6f\",\"type\":\"Circle\"},\"selection_glyph\":null,\"view\":{\"id\":\"53292836-10d0-4a40-b056-52f63ef81739\",\"type\":\"CDSView\"}},\"id\":\"14bf372f-b252-4c8c-8885-ed4b94537470\",\"type\":\"GlyphRenderer\"},{\"attributes\":{\"label\":{\"value\":\"HARLINGEN\"},\"renderers\":[{\"id\":\"14bf372f-b252-4c8c-8885-ed4b94537470\",\"type\":\"GlyphRenderer\"}]},\"id\":\"8ea9a6a3-5a7c-4ecc-8d60-8b4daaaf25a3\",\"type\":\"LegendItem\"},{\"attributes\":{},\"id\":\"a1ad6f50-90cd-4cdd-9875-c20fbec53b58\",\"type\":\"SaveTool\"},{\"attributes\":{\"dimension\":1,\"plot\":{\"id\":\"0e3db5d5-6105-46ad-ad61-d7f9b1492dfc\",\"subtype\":\"Figure\",\"type\":\"Plot\"},\"ticker\":{\"id\":\"c553fce3-6c53-4ce1-9e89-5b3ef6c338e3\",\"type\":\"BasicTicker\"}},\"id\":\"a36aa278-ca7b-4cbf-9e43-5b5db8935229\",\"type\":\"Grid\"},{\"attributes\":{\"data_source\":{\"id\":\"b2b39f30-7808-4d80-97b4-68d600704ff6\",\"type\":\"ColumnDataSource\"},\"glyph\":{\"id\":\"5ecfcc49-5d02-42ee-bd67-91c5a1f5897a\",\"type\":\"Line\"},\"hover_glyph\":null,\"muted_glyph\":null,\"nonselection_glyph\":{\"id\":\"d3e5cd12-81d1-41eb-aa3a-a865a830e375\",\"type\":\"Line\"},\"selection_glyph\":null,\"view\":{\"id\":\"738dc18c-b5a3-46a9-9d43-7018e159cc22\",\"type\":\"CDSView\"}},\"id\":\"cb41a4ce-0f34-4354-a175-a8f4dba65db5\",\"type\":\"GlyphRenderer\"},{\"attributes\":{},\"id\":\"de74eb10-fc7b-4911-876e-0b970cff0dbf\",\"type\":\"LinearScale\"},{\"attributes\":{\"callback\":null,\"column_names\":[\"x\",\"y\"],\"data\":{\"x\":{\"__ndarray__\":\"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\",\"dtype\":\"float64\",\"shape\":[2088]},\"y\":{\"__ndarray__\":\"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\",\"dtype\":\"float64\",\"shape\":[2088]}}},\"id\":\"a7d8cba4-3a87-43af-a6a7-ef778193bf6c\",\"type\":\"ColumnDataSource\"},{\"attributes\":{\"fill_alpha\":{\"value\":0.5},\"fill_color\":{\"value\":\"#386cb0\"},\"line_alpha\":{\"value\":0.5},\"line_color\":{\"value\":\"#386cb0\"},\"x\":{\"field\":\"x\"},\"y\":{\"field\":\"y\"}},\"id\":\"1fed8171-1213-43b1-9070-a58dbb060bd5\",\"type\":\"Circle\"},{\"attributes\":{},\"id\":\"24741620-c2ed-4ff7-86e0-49fc6cb1cff5\",\"type\":\"ResetTool\"},{\"attributes\":{\"bottom_units\":\"screen\",\"fill_alpha\":{\"value\":0.5},\"fill_color\":{\"value\":\"lightgrey\"},\"left_units\":\"screen\",\"level\":\"overlay\",\"line_alpha\":{\"value\":1.0},\"line_color\":{\"value\":\"black\"},\"line_dash\":[4,4],\"line_width\":{\"value\":2},\"plot\":null,\"render_mode\":\"css\",\"right_units\":\"screen\",\"top_units\":\"screen\"},\"id\":\"d711dd45-e185-4ffb-bca0-39a50aaa22a3\",\"type\":\"BoxAnnotation\"},{\"attributes\":{\"source\":{\"id\":\"a7d8cba4-3a87-43af-a6a7-ef778193bf6c\",\"type\":\"ColumnDataSource\"}},\"id\":\"54ce25f5-786e-4d29-9a11-494fde12e9ac\",\"type\":\"CDSView\"},{\"attributes\":{\"active_drag\":\"auto\",\"active_inspect\":\"auto\",\"active_scroll\":\"auto\",\"active_tap\":\"auto\",\"tools\":[{\"id\":\"77a3bf95-55f9-482e-9fa0-1a6c541fb387\",\"type\":\"PanTool\"},{\"id\":\"55eaaeb7-be0d-495d-b72e-df4e0a7f944d\",\"type\":\"WheelZoomTool\"},{\"id\":\"fb8f3f95-b712-47a1-b401-1e249e502ecb\",\"type\":\"BoxZoomTool\"},{\"id\":\"a1ad6f50-90cd-4cdd-9875-c20fbec53b58\",\"type\":\"SaveTool\"},{\"id\":\"24741620-c2ed-4ff7-86e0-49fc6cb1cff5\",\"type\":\"ResetTool\"},{\"id\":\"7c4f32bb-8730-4618-9ca9-c24e5ab7f9b6\",\"type\":\"HelpTool\"}]},\"id\":\"287e8d23-7a96-4275-9efc-481a17df238e\",\"type\":\"Toolbar\"},{\"attributes\":{\"data_source\":{\"id\":\"a7d8cba4-3a87-43af-a6a7-ef778193bf6c\",\"type\":\"ColumnDataSource\"},\"glyph\":{\"id\":\"1fed8171-1213-43b1-9070-a58dbb060bd5\",\"type\":\"Circle\"},\"hover_glyph\":null,\"muted_glyph\":null,\"nonselection_glyph\":{\"id\":\"69f26a50-dc82-4419-8141-42c051ccefb3\",\"type\":\"Circle\"},\"selection_glyph\":null,\"view\":{\"id\":\"54ce25f5-786e-4d29-9a11-494fde12e9ac\",\"type\":\"CDSView\"}},\"id\":\"1a4d4b61-93cf-4348-83ab-2172b664b28f\",\"type\":\"GlyphRenderer\"},{\"attributes\":{\"fill_alpha\":{\"value\":0.5},\"fill_color\":{\"value\":\"#7fc97f\"},\"line_alpha\":{\"value\":0.5},\"line_color\":{\"value\":\"#7fc97f\"},\"x\":{\"field\":\"x\"},\"y\":{\"field\":\"y\"}},\"id\":\"7331a276-3d73-4623-8e8a-d29606ecff97\",\"type\":\"Circle\"},{\"attributes\":{\"label\":{\"value\":\"CUXHAVEN 2\"},\"renderers\":[{\"id\":\"1a4d4b61-93cf-4348-83ab-2172b664b28f\",\"type\":\"GlyphRenderer\"}]},\"id\":\"6d60a41e-1796-40b5-aa2b-d5c92e60a503\",\"type\":\"LegendItem\"},{\"attributes\":{},\"id\":\"0c6405c7-9440-4154-9df3-3a087f8a055e\",\"type\":\"BasicTickFormatter\"},{\"attributes\":{\"callback\":null,\"end\":2020,\"start\":1860},\"id\":\"8e09c683-4541-4901-82ad-eab1594ca5f8\",\"type\":\"Range1d\"},{\"attributes\":{\"callback\":null,\"column_names\":[\"x\",\"y\"],\"data\":{\"x\":{\"__ndarray__\":\"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\",\"dtype\":\"float64\",\"shape\":[1824]},\"y\":{\"__ndarray__\":\"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\",\"dtype\":\"float64\",\"shape\":[1824]}}},\"id\":\"bff44b86-b120-41c1-a50f-175cd2eae91b\",\"type\":\"ColumnDataSource\"},{\"attributes\":{\"plot\":null,\"text\":\"Sea-surface height for Dutch tide gauges [1890 - 2016]\"},\"id\":\"217710c8-0083-4d5c-9ca6-ebedaeee1f11\",\"type\":\"Title\"},{\"attributes\":{\"source\":{\"id\":\"b2b39f30-7808-4d80-97b4-68d600704ff6\",\"type\":\"ColumnDataSource\"}},\"id\":\"738dc18c-b5a3-46a9-9d43-7018e159cc22\",\"type\":\"CDSView\"},{\"attributes\":{\"label\":{\"value\":\"Mean\"},\"renderers\":[{\"id\":\"cb41a4ce-0f34-4354-a175-a8f4dba65db5\",\"type\":\"GlyphRenderer\"}]},\"id\":\"d3648d5a-7412-45f0-af8c-da01505cafc1\",\"type\":\"LegendItem\"},{\"attributes\":{},\"id\":\"a5650ba9-6538-42e1-b7bb-9f43aa20007d\",\"type\":\"BasicTickFormatter\"}],\"root_ids\":[\"0e3db5d5-6105-46ad-ad61-d7f9b1492dfc\"]},\"title\":\"Bokeh Application\",\"version\":\"0.12.10\"}};\n",
       "    var render_items = [{\"docid\":\"2a25a9f2-ad31-4b94-9cdf-03fb13ce7969\",\"elementid\":\"ac42b8b6-2294-4719-9b1b-32ea0d7cc012\",\"modelid\":\"0e3db5d5-6105-46ad-ad61-d7f9b1492dfc\"}];\n",
       "\n",
       "    root.Bokeh.embed.embed_items(docs_json, render_items);\n",
       "  }\n",
       "\n",
       "  if (root.Bokeh !== undefined) {\n",
       "    embed_document(root);\n",
       "  } else {\n",
       "    var attempts = 0;\n",
       "    var timer = setInterval(function(root) {\n",
       "      if (root.Bokeh !== undefined) {\n",
       "        embed_document(root);\n",
       "        clearInterval(timer);\n",
       "      }\n",
       "      attempts++;\n",
       "      if (attempts > 100) {\n",
       "        console.log(\"Bokeh: ERROR: Unable to embed document because BokehJS library is missing\")\n",
       "        clearInterval(timer);\n",
       "      }\n",
       "    }, 10, root)\n",
       "  }\n",
       "})(window);"
      ],
      "application/vnd.bokehjs_exec.v0+json": ""
     },
     "metadata": {
      "application/vnd.bokehjs_exec.v0+json": {
       "id": "0e3db5d5-6105-46ad-ad61-d7f9b1492dfc"
      }
     },
     "output_type": "display_data"
    }
   ],
   "source": [
    "bokeh.io.show(timeseries_plot('rlr_monthly'))"
   ]
  },
  {
   "cell_type": "markdown",
   "metadata": {},
   "source": [
    "Methods\n",
    "=====\n",
    "Now we can define the statistical model. The \"current sea-level rise\" is defined by the following formula. Please note that the selected epoch of 1970 is arbitrary. This model is referred to as `linear_model` in the code. \n",
    "$\n",
    "H(t) = a + b_{trend}(t-1970) + b_u\\cos(2\\pi\\frac{t - 1970}{18.613}) + b_v\\sin(2\\pi\\frac{t - 1970}{18.613}) + e(t - 1970)\n",
    "$\n",
    "\n",
    "The terms are refered to as Constant ($a$), Trend ($b_{trend}$), Nodal U ($b_u$) and Nodal V ($b_v$) and error $e$. \n",
    "\n",
    "\n",
    "Alternative models are used to detect if sea-level rise is increasing. These models include the broken linear model, defined by a possible change in trend starting at 1993. This timespan is the start of the \"satellite era\" (start of TOPEX/Poseidon measurements), it is also often referred to as the start of acceleration because the satellite measurements tend to show a higher rate of sea level than the \"tide-gauge era\" (1900-2000). If this model fits better than the linear model, one could say that there is a \"increase in sea-level rise\".  This model is refered to as `broken_linear_model`. These models are covered in the section [Sea-level acceleration](#Is-there-a-sea-level-acceleration?).\n",
    "\n",
    "$\n",
    "H(t) = a + b_{trend}(t-1970) + b_{broken}(t > 1993)*(t-1993) + b_{u}\\cos(2\\pi\\frac{t - 1970}{18.613}) + b_{v}\\sin(2\\pi\\frac{t - 1970}{18.613}) + e(t - 1970)\n",
    "$\n",
    "\n",
    "Another way to look at increased sea-level rise is to look at sea-level acceleration. To detect sea-level acceleration one can use a quadratic model. This model is referred to as `quadratic_model`. \n",
    "\n",
    "$\n",
    "H(t) = a + b_{trend}(t-1970) + b_{quadratic}(t - 1970)*(t-1970) + b_{u}\\cos(2\\pi\\frac{t - 1970}{18.613}) + b_{v}\\sin(2\\pi\\frac{t - 1970}{18.613}) + e(t - 1970)\n",
    "$\n",
    "\n"
   ]
  },
  {
   "cell_type": "code",
   "execution_count": 18,
   "metadata": {},
   "outputs": [],
   "source": [
    "# define the statistical model\n",
    "def linear_model(df, with_season=True):\n",
    "    y = df['height']\n",
    "    X = np.c_[\n",
    "        df['year']-1970, \n",
    "        np.cos(2*np.pi*(df['year']-1970)/18.613),\n",
    "        np.sin(2*np.pi*(df['year']-1970)/18.613)\n",
    "    ]\n",
    "    month = np.mod(df['year'], 1) * 12.0\n",
    "    names = ['Constant', 'Trend', 'Nodal U', 'Nodal V']\n",
    "    if with_season:\n",
    "        for i in range(11):\n",
    "            X = np.c_[\n",
    "                X,\n",
    "                np.logical_and(month >= i, month < i+1)\n",
    "            ]\n",
    "            names.append('month_%s' % (i+1, ))\n",
    "    X = sm.add_constant(X)\n",
    "    model = sm.OLS(y, X, missing='drop')\n",
    "    fit = model.fit()\n",
    "    return fit, names"
   ]
  },
  {
   "cell_type": "markdown",
   "metadata": {},
   "source": [
    "We can analyse the model.\n",
    "Things to check for include: \n",
    "- Durbin Watson should be >1 for no worries, >2 for no autocorrelation\n",
    "- JB should be non-significant for normal residuals\n",
    "- abs(x2.t) + abs(x3.t) should be > 3, otherwise adding nodal is not useful\n",
    "- The model with wind should also be significant better, check F value difference with 2 and N-5 degrees of freedom. "
   ]
  },
  {
   "cell_type": "code",
   "execution_count": 19,
   "metadata": {},
   "outputs": [
    {
     "data": {
      "text/html": [
       "<table class=\"simpletable\">\n",
       "<caption>Linear model without wind (1890-current)</caption>\n",
       "<tr>\n",
       "  <th>Dep. Variable:</th>    <td>Sea-surface height</td> <th>  R-squared:         </th> <td>   0.767</td>\n",
       "</tr>\n",
       "<tr>\n",
       "  <th>Model:</th>                    <td>OLS</td>        <th>  Adj. R-squared:    </th> <td>   0.762</td>\n",
       "</tr>\n",
       "<tr>\n",
       "  <th>Method:</th>              <td>Least Squares</td>   <th>  F-statistic:       </th> <td>   135.3</td>\n",
       "</tr>\n",
       "<tr>\n",
       "  <th>Date:</th>              <td>Sun, 15 Apr 2018</td>  <th>  Prob (F-statistic):</th> <td>8.48e-39</td>\n",
       "</tr>\n",
       "<tr>\n",
       "  <th>Time:</th>                  <td>14:16:42</td>      <th>  Log-Likelihood:    </th> <td> -628.52</td>\n",
       "</tr>\n",
       "<tr>\n",
       "  <th>No. Observations:</th>       <td>   127</td>       <th>  AIC:               </th> <td>   1265.</td>\n",
       "</tr>\n",
       "<tr>\n",
       "  <th>Df Residuals:</th>           <td>   123</td>       <th>  BIC:               </th> <td>   1276.</td>\n",
       "</tr>\n",
       "<tr>\n",
       "  <th>Df Model:</th>               <td>     3</td>       <th>                     </th>     <td> </td>   \n",
       "</tr>\n",
       "<tr>\n",
       "  <th>Covariance Type:</th>       <td>nonrobust</td>     <th>                     </th>     <td> </td>   \n",
       "</tr>\n",
       "</table>\n",
       "<table class=\"simpletable\">\n",
       "<tr>\n",
       "      <td></td>        <th>coef</th>     <th>std err</th>      <th>t</th>      <th>P>|t|</th>  <th>[0.025</th>    <th>0.975]</th>  \n",
       "</tr>\n",
       "<tr>\n",
       "  <th>Constant</th> <td>   11.6493</td> <td>    3.396</td> <td>    3.430</td> <td> 0.001</td> <td>    4.927</td> <td>   18.372</td>\n",
       "</tr>\n",
       "<tr>\n",
       "  <th>Trend</th>    <td>    1.6986</td> <td>    0.084</td> <td>   20.138</td> <td> 0.000</td> <td>    1.532</td> <td>    1.866</td>\n",
       "</tr>\n",
       "<tr>\n",
       "  <th>Nodal U</th>  <td>    5.3595</td> <td>    4.381</td> <td>    1.223</td> <td> 0.224</td> <td>   -3.313</td> <td>   14.032</td>\n",
       "</tr>\n",
       "<tr>\n",
       "  <th>Nodal V</th>  <td>  -10.2135</td> <td>    4.347</td> <td>   -2.349</td> <td> 0.020</td> <td>  -18.818</td> <td>   -1.609</td>\n",
       "</tr>\n",
       "</table>\n",
       "<table class=\"simpletable\">\n",
       "<tr>\n",
       "  <th>Omnibus:</th>       <td> 2.644</td> <th>  Durbin-Watson:     </th> <td>   1.855</td>\n",
       "</tr>\n",
       "<tr>\n",
       "  <th>Prob(Omnibus):</th> <td> 0.267</td> <th>  Jarque-Bera (JB):  </th> <td>   2.099</td>\n",
       "</tr>\n",
       "<tr>\n",
       "  <th>Skew:</th>          <td>-0.264</td> <th>  Prob(JB):          </th> <td>   0.350</td>\n",
       "</tr>\n",
       "<tr>\n",
       "  <th>Kurtosis:</th>      <td> 3.343</td> <th>  Cond. No.          </th> <td>    57.9</td>\n",
       "</tr>\n",
       "</table>"
      ],
      "text/plain": [
       "<class 'statsmodels.iolib.summary.Summary'>\n",
       "\"\"\"\n",
       "                   Linear model without wind (1890-current)                   \n",
       "==============================================================================\n",
       "Dep. Variable:     Sea-surface height   R-squared:                       0.767\n",
       "Model:                            OLS   Adj. R-squared:                  0.762\n",
       "Method:                 Least Squares   F-statistic:                     135.3\n",
       "Date:                Sun, 15 Apr 2018   Prob (F-statistic):           8.48e-39\n",
       "Time:                        14:16:42   Log-Likelihood:                -628.52\n",
       "No. Observations:                 127   AIC:                             1265.\n",
       "Df Residuals:                     123   BIC:                             1276.\n",
       "Df Model:                           3                                         \n",
       "Covariance Type:            nonrobust                                         \n",
       "==============================================================================\n",
       "                 coef    std err          t      P>|t|      [0.025      0.975]\n",
       "------------------------------------------------------------------------------\n",
       "Constant      11.6493      3.396      3.430      0.001       4.927      18.372\n",
       "Trend          1.6986      0.084     20.138      0.000       1.532       1.866\n",
       "Nodal U        5.3595      4.381      1.223      0.224      -3.313      14.032\n",
       "Nodal V      -10.2135      4.347     -2.349      0.020     -18.818      -1.609\n",
       "==============================================================================\n",
       "Omnibus:                        2.644   Durbin-Watson:                   1.855\n",
       "Prob(Omnibus):                  0.267   Jarque-Bera (JB):                2.099\n",
       "Skew:                          -0.264   Prob(JB):                        0.350\n",
       "Kurtosis:                       3.343   Cond. No.                         57.9\n",
       "==============================================================================\n",
       "\n",
       "Warnings:\n",
       "[1] Standard Errors assume that the covariance matrix of the errors is correctly specified.\n",
       "\"\"\""
      ]
     },
     "metadata": {},
     "output_type": "display_data"
    }
   ],
   "source": [
    "# first the model without wind\n",
    "linear_fit, names = linear_model(mean_df, with_season=False)\n",
    "table = linear_fit.summary(yname='Sea-surface height', xname=names, title='Linear model without wind (1890-current)')\n",
    "IPython.display.display(table)\n"
   ]
  },
  {
   "cell_type": "code",
   "execution_count": 20,
   "metadata": {},
   "outputs": [
    {
     "data": {
      "text/html": [
       "\n",
       "<div class=\"bk-root\">\n",
       "    <div class=\"bk-plotdiv\" id=\"a27de982-a956-439f-adc4-f5dd8ce0a8c6\"></div>\n",
       "</div>"
      ]
     },
     "metadata": {},
     "output_type": "display_data"
    },
    {
     "data": {
      "application/javascript": [
       "(function(root) {\n",
       "  function embed_document(root) {\n",
       "    var docs_json = {\"364a0fb2-add8-4c52-9cc8-54ed3cde448e\":{\"roots\":{\"references\":[{\"attributes\":{\"data_source\":{\"id\":\"ed99032e-8cbf-4f84-a4e1-2624c3fc8b1e\",\"type\":\"ColumnDataSource\"},\"glyph\":{\"id\":\"1739251b-d09e-44d0-8dae-8056bf79aa7b\",\"type\":\"Line\"},\"hover_glyph\":null,\"muted_glyph\":null,\"nonselection_glyph\":{\"id\":\"c22760f5-a726-4a1f-a635-b91aac8971d1\",\"type\":\"Line\"},\"selection_glyph\":null,\"view\":{\"id\":\"df407f7c-bcc0-40f2-af4b-ccb33f1184eb\",\"type\":\"CDSView\"}},\"id\":\"c0e5a1bb-416d-492a-ac97-731b35ff665e\",\"type\":\"GlyphRenderer\"},{\"attributes\":{},\"id\":\"57c44ec2-b4c1-42bd-a879-0987f96f1d36\",\"type\":\"BasicTickFormatter\"},{\"attributes\":{\"source\":{\"id\":\"ed99032e-8cbf-4f84-a4e1-2624c3fc8b1e\",\"type\":\"ColumnDataSource\"}},\"id\":\"df407f7c-bcc0-40f2-af4b-ccb33f1184eb\",\"type\":\"CDSView\"},{\"attributes\":{\"callback\":null,\"column_names\":[\"x\",\"y\"],\"data\":{\"x\":[1890,1891,1892,1893,1894,1895,1896,1897,1898,1899,1900,1901,1902,1903,1904,1905,1906,1907,1908,1909,1910,1911,1912,1913,1914,1915,1916,1917,1918,1919,1920,1921,1922,1923,1924,1925,1926,1927,1928,1929,1930,1931,1932,1933,1934,1935,1936,1937,1938,1939,1940,1941,1942,1943,1944,1945,1946,1947,1948,1949,1950,1951,1952,1953,1954,1955,1956,1957,1958,1959,1960,1961,1962,1963,1964,1965,1966,1967,1968,1969,1970,1971,1972,1973,1974,1975,1976,1977,1978,1979,1980,1981,1982,1983,1984,1985,1986,1987,1988,1989,1990,1991,1992,1993,1994,1995,1996,1997,1998,1999,2000,2001,2002,2003,2004,2005,2006,2007,2008,2009,2010,2011,2012,2013,2014,2015,2016],\"y\":{\"__ndarray__\":\"AAAAAADQYsAAAAAAAIBgwAAAAAAAYGDAAAAAAADQV8AAAAAAAABbwAAAAAAA8F/AAAAAAADwX8AAAAAAAHBfwAAAAAAAgFHAAAAAAABwU8AAAAAAAMBdwAAAAAAA0GHAAAAAAABYZMAAAAAAAABLwAAAAAAA4FrAAAAAAAA4YMAAAAAAACBVwAAAAAAAgFzAAAAAAABAYMAAAAAAACBVwAAAAAAAAFLAAAAAAABgVcAAAAAAAMA8wAAAAAAAMFDAAAAAAACARsAAAAAAAJBYwAAAAAAAQEDAAAAAAADwU8AAAAAAAPBRwAAAAAAA0FbAAAAAAAAAVcAAAAAAAKBEwAAAAAAAgFPAAAAAAADgR8AAAAAAAJBUwAAAAAAAACXAAAAAAACAOsAAAAAAAMBGwAAAAAAAgD/AAAAAAACQVMAAAAAAACBJwAAAAAAAgDbAAAAAAACgQsAAAAAAALBWwAAAAAAAQFDAAAAAAACAMsAAAAAAAMA4wAAAAAAAYE3AAAAAAAAAAkAAAAAAALBSwAAAAAAAoEvAAAAAAABQWcAAAAAAALBTwAAAAAAAACnAAAAAAAAAAEAAAAAAAAAQQAAAAAAAwDbAAAAAAADgXMAAAAAAAIAhwAAAAAAAwDNAAAAAAAAAF8AAAAAAAEBAwAAAAAAAAOg/AAAAAABgQMAAAAAAAIApwAAAAAAAAAAAAAAAAACgS8AAAAAAAEA3wAAAAAAAQDLAAAAAAABgT8AAAAAAAIA/wAAAAAAAoE9AAAAAAAAAG0AAAAAAAGBPwAAAAAAAoEPAAAAAAABAMEAAAAAAAABBQAAAAAAAYFhAAAAAAACAIUAAAAAAAEAwwAAAAAAAYENAAAAAAACALMAAAAAAAABNwAAAAAAAADtAAAAAAACAM0AAAAAAAIAqwAAAAAAAwEfAAAAAAAAAKEAAAAAAAAAXwAAAAAAAAB3AAAAAAADAOUAAAAAAAOBSQAAAAAAAwEdAAAAAAABgWUAAAAAAAIAgQAAAAAAAADFAAAAAAAAAKEAAAAAAAADoPwAAAAAAwFZAAAAAAACgSEAAAAAAAABbQAAAAAAAAB/AAAAAAAAAPEAAAAAAAIAsQAAAAAAAAFNAAAAAAABwU0AAAAAAAPBQwAAAAAAAgCRAAAAAAACQWUAAAAAAAPBXQAAAAAAAcFZAAAAAAAAwVUAAAAAAAIBRQAAAAAAAAE5AAAAAAAAAWUAAAAAAAFBQQAAAAAAAIFFAAAAAAADAYEAAAAAAANBZQAAAAAAAYE1AAAAAAADgREAAAAAAAKBYQAAAAAAAMFRAAAAAAAAASEAAAAAAAFBWQAAAAAAA4GFAAAAAAACQWkA=\",\"dtype\":\"float64\",\"shape\":[127]}}},\"id\":\"9e5c2465-6538-4221-8109-ed794a849309\",\"type\":\"ColumnDataSource\"},{\"attributes\":{\"below\":[{\"id\":\"72a9c383-985b-404e-9024-f5035f6e938c\",\"type\":\"LinearAxis\"}],\"left\":[{\"id\":\"7cdc0528-d2ac-421f-a2b4-5c40d596b490\",\"type\":\"LinearAxis\"}],\"plot_height\":400,\"plot_width\":900,\"renderers\":[{\"id\":\"72a9c383-985b-404e-9024-f5035f6e938c\",\"type\":\"LinearAxis\"},{\"id\":\"23395fb4-1b74-4f8a-a612-e367592c7680\",\"type\":\"Grid\"},{\"id\":\"7cdc0528-d2ac-421f-a2b4-5c40d596b490\",\"type\":\"LinearAxis\"},{\"id\":\"7cb4ca02-ea62-4a2a-850a-505ae77bd66d\",\"type\":\"Grid\"},{\"id\":\"27ab401d-5170-4671-8b0c-91453023c83b\",\"type\":\"BoxAnnotation\"},{\"id\":\"bf994c2b-905c-4d64-81bf-bab89d2aa46f\",\"type\":\"Legend\"},{\"id\":\"94096408-b567-4693-9027-80aa31017e48\",\"type\":\"GlyphRenderer\"},{\"id\":\"c0e5a1bb-416d-492a-ac97-731b35ff665e\",\"type\":\"GlyphRenderer\"}],\"title\":{\"id\":\"bdd07f57-446c-42c3-8d05-f570b5ab2f20\",\"type\":\"Title\"},\"toolbar\":{\"id\":\"e9348c06-8781-4317-b967-101e495a1ad9\",\"type\":\"Toolbar\"},\"x_range\":{\"id\":\"ade54e37-c6e7-4990-869d-e8d07f5eca85\",\"type\":\"Range1d\"},\"x_scale\":{\"id\":\"2af7a4ad-7fec-4be8-ad14-14f1cac035fe\",\"type\":\"LinearScale\"},\"y_range\":{\"id\":\"cb346760-e8cc-4fdd-a990-5416b24cebc2\",\"type\":\"DataRange1d\"},\"y_scale\":{\"id\":\"0ca32a4d-2ab3-4035-879b-419645f95f59\",\"type\":\"LinearScale\"}},\"id\":\"869770a9-1287-40c8-aa17-abab8391d1ad\",\"subtype\":\"Figure\",\"type\":\"Plot\"},{\"attributes\":{\"plot\":null,\"text\":\"\"},\"id\":\"bdd07f57-446c-42c3-8d05-f570b5ab2f20\",\"type\":\"Title\"},{\"attributes\":{\"active_drag\":\"auto\",\"active_inspect\":\"auto\",\"active_scroll\":\"auto\",\"active_tap\":\"auto\",\"tools\":[{\"id\":\"df17e2e2-32bd-4370-b00b-b588e6ab3e84\",\"type\":\"PanTool\"},{\"id\":\"a9ec7704-8ad2-408f-bc4f-6db2f9277729\",\"type\":\"WheelZoomTool\"},{\"id\":\"bd4c0432-b746-4f0e-b411-74728fa32675\",\"type\":\"BoxZoomTool\"},{\"id\":\"6fe553ca-348a-49a0-b368-2b79af7aa17d\",\"type\":\"SaveTool\"},{\"id\":\"e2b729c3-df38-490d-893a-623d6f12f412\",\"type\":\"ResetTool\"},{\"id\":\"6564caa6-cf80-4c4f-a90b-5ceb8b542084\",\"type\":\"HelpTool\"}]},\"id\":\"e9348c06-8781-4317-b967-101e495a1ad9\",\"type\":\"Toolbar\"},{\"attributes\":{\"label\":{\"value\":\"Current sea level\"},\"renderers\":[{\"id\":\"c0e5a1bb-416d-492a-ac97-731b35ff665e\",\"type\":\"GlyphRenderer\"}]},\"id\":\"931dd9d4-ce70-433a-aca7-713b00e936ad\",\"type\":\"LegendItem\"},{\"attributes\":{\"callback\":null,\"end\":2020,\"start\":1860},\"id\":\"ade54e37-c6e7-4990-869d-e8d07f5eca85\",\"type\":\"Range1d\"},{\"attributes\":{\"fill_alpha\":{\"value\":0.1},\"fill_color\":{\"value\":\"#1f77b4\"},\"line_alpha\":{\"value\":0.1},\"line_color\":{\"value\":\"#1f77b4\"},\"x\":{\"field\":\"x\"},\"y\":{\"field\":\"y\"}},\"id\":\"2d13d549-8eca-4648-991e-a9d4c39cbe4a\",\"type\":\"Circle\"},{\"attributes\":{\"data_source\":{\"id\":\"9e5c2465-6538-4221-8109-ed794a849309\",\"type\":\"ColumnDataSource\"},\"glyph\":{\"id\":\"800782ff-c728-4c8c-9b8e-fa2b2bfccad1\",\"type\":\"Circle\"},\"hover_glyph\":null,\"muted_glyph\":null,\"nonselection_glyph\":{\"id\":\"2d13d549-8eca-4648-991e-a9d4c39cbe4a\",\"type\":\"Circle\"},\"selection_glyph\":null,\"view\":{\"id\":\"a5b91e00-6b3f-40da-afa1-19f7742de76a\",\"type\":\"CDSView\"}},\"id\":\"94096408-b567-4693-9027-80aa31017e48\",\"type\":\"GlyphRenderer\"},{\"attributes\":{\"source\":{\"id\":\"9e5c2465-6538-4221-8109-ed794a849309\",\"type\":\"ColumnDataSource\"}},\"id\":\"a5b91e00-6b3f-40da-afa1-19f7742de76a\",\"type\":\"CDSView\"},{\"attributes\":{\"callback\":null},\"id\":\"cb346760-e8cc-4fdd-a990-5416b24cebc2\",\"type\":\"DataRange1d\"},{\"attributes\":{},\"id\":\"2af7a4ad-7fec-4be8-ad14-14f1cac035fe\",\"type\":\"LinearScale\"},{\"attributes\":{},\"id\":\"0ca32a4d-2ab3-4035-879b-419645f95f59\",\"type\":\"LinearScale\"},{\"attributes\":{\"plot\":{\"id\":\"869770a9-1287-40c8-aa17-abab8391d1ad\",\"subtype\":\"Figure\",\"type\":\"Plot\"},\"ticker\":{\"id\":\"7f0c0bef-f8ba-48c2-9c50-30a13bd79edf\",\"type\":\"BasicTicker\"}},\"id\":\"23395fb4-1b74-4f8a-a612-e367592c7680\",\"type\":\"Grid\"},{\"attributes\":{\"axis_label\":\"year\",\"formatter\":{\"id\":\"57c44ec2-b4c1-42bd-a879-0987f96f1d36\",\"type\":\"BasicTickFormatter\"},\"plot\":{\"id\":\"869770a9-1287-40c8-aa17-abab8391d1ad\",\"subtype\":\"Figure\",\"type\":\"Plot\"},\"ticker\":{\"id\":\"7f0c0bef-f8ba-48c2-9c50-30a13bd79edf\",\"type\":\"BasicTicker\"}},\"id\":\"72a9c383-985b-404e-9024-f5035f6e938c\",\"type\":\"LinearAxis\"},{\"attributes\":{},\"id\":\"7f0c0bef-f8ba-48c2-9c50-30a13bd79edf\",\"type\":\"BasicTicker\"},{\"attributes\":{\"axis_label\":\"waterlevel [mm] above N.A.P.\",\"formatter\":{\"id\":\"bb039ce1-5fa6-473f-bd53-b9b05bbf82b4\",\"type\":\"BasicTickFormatter\"},\"plot\":{\"id\":\"869770a9-1287-40c8-aa17-abab8391d1ad\",\"subtype\":\"Figure\",\"type\":\"Plot\"},\"ticker\":{\"id\":\"95e878bd-5ff0-4545-a054-5dbac7152707\",\"type\":\"BasicTicker\"}},\"id\":\"7cdc0528-d2ac-421f-a2b4-5c40d596b490\",\"type\":\"LinearAxis\"},{\"attributes\":{},\"id\":\"95e878bd-5ff0-4545-a054-5dbac7152707\",\"type\":\"BasicTicker\"},{\"attributes\":{\"dimension\":1,\"plot\":{\"id\":\"869770a9-1287-40c8-aa17-abab8391d1ad\",\"subtype\":\"Figure\",\"type\":\"Plot\"},\"ticker\":{\"id\":\"95e878bd-5ff0-4545-a054-5dbac7152707\",\"type\":\"BasicTicker\"}},\"id\":\"7cb4ca02-ea62-4a2a-850a-505ae77bd66d\",\"type\":\"Grid\"},{\"attributes\":{\"label\":{\"value\":\"Monthly mean sea level\"},\"renderers\":[{\"id\":\"94096408-b567-4693-9027-80aa31017e48\",\"type\":\"GlyphRenderer\"}]},\"id\":\"c7b9f107-150c-422b-9f98-e32444cc4e75\",\"type\":\"LegendItem\"},{\"attributes\":{\"bottom_units\":\"screen\",\"fill_alpha\":{\"value\":0.5},\"fill_color\":{\"value\":\"lightgrey\"},\"left_units\":\"screen\",\"level\":\"overlay\",\"line_alpha\":{\"value\":1.0},\"line_color\":{\"value\":\"black\"},\"line_dash\":[4,4],\"line_width\":{\"value\":2},\"plot\":null,\"render_mode\":\"css\",\"right_units\":\"screen\",\"top_units\":\"screen\"},\"id\":\"27ab401d-5170-4671-8b0c-91453023c83b\",\"type\":\"BoxAnnotation\"},{\"attributes\":{},\"id\":\"df17e2e2-32bd-4370-b00b-b588e6ab3e84\",\"type\":\"PanTool\"},{\"attributes\":{},\"id\":\"bb039ce1-5fa6-473f-bd53-b9b05bbf82b4\",\"type\":\"BasicTickFormatter\"},{\"attributes\":{},\"id\":\"a9ec7704-8ad2-408f-bc4f-6db2f9277729\",\"type\":\"WheelZoomTool\"},{\"attributes\":{\"overlay\":{\"id\":\"27ab401d-5170-4671-8b0c-91453023c83b\",\"type\":\"BoxAnnotation\"}},\"id\":\"bd4c0432-b746-4f0e-b411-74728fa32675\",\"type\":\"BoxZoomTool\"},{\"attributes\":{},\"id\":\"6fe553ca-348a-49a0-b368-2b79af7aa17d\",\"type\":\"SaveTool\"},{\"attributes\":{},\"id\":\"e2b729c3-df38-490d-893a-623d6f12f412\",\"type\":\"ResetTool\"},{\"attributes\":{},\"id\":\"6564caa6-cf80-4c4f-a90b-5ceb8b542084\",\"type\":\"HelpTool\"},{\"attributes\":{\"line_alpha\":{\"value\":0.1},\"line_color\":{\"value\":\"#1f77b4\"},\"line_width\":{\"value\":3},\"x\":{\"field\":\"x\"},\"y\":{\"field\":\"y\"}},\"id\":\"c22760f5-a726-4a1f-a635-b91aac8971d1\",\"type\":\"Line\"},{\"attributes\":{\"click_policy\":\"hide\",\"items\":[{\"id\":\"c7b9f107-150c-422b-9f98-e32444cc4e75\",\"type\":\"LegendItem\"},{\"id\":\"931dd9d4-ce70-433a-aca7-713b00e936ad\",\"type\":\"LegendItem\"}],\"location\":\"top_left\",\"plot\":{\"id\":\"869770a9-1287-40c8-aa17-abab8391d1ad\",\"subtype\":\"Figure\",\"type\":\"Plot\"}},\"id\":\"bf994c2b-905c-4d64-81bf-bab89d2aa46f\",\"type\":\"Legend\"},{\"attributes\":{\"fill_alpha\":{\"value\":0.5},\"fill_color\":{\"value\":\"black\"},\"line_alpha\":{\"value\":0.5},\"x\":{\"field\":\"x\"},\"y\":{\"field\":\"y\"}},\"id\":\"800782ff-c728-4c8c-9b8e-fa2b2bfccad1\",\"type\":\"Circle\"},{\"attributes\":{\"callback\":null,\"column_names\":[\"x\",\"y\"],\"data\":{\"x\":{\"__ndarray__\":\"AAAAAACInUAAAAAAAIydQAAAAAAAkJ1AAAAAAACUnUAAAAAAAJidQAAAAAAAnJ1AAAAAAACgnUAAAAAAAKSdQAAAAAAAqJ1AAAAAAACsnUAAAAAAALCdQAAAAAAAtJ1AAAAAAAC4nUAAAAAAALydQAAAAAAAwJ1AAAAAAADEnUAAAAAAAMidQAAAAAAAzJ1AAAAAAADQnUAAAAAAANSdQAAAAAAA2J1AAAAAAADcnUAAAAAAAOCdQAAAAAAA5J1AAAAAAADonUAAAAAAAOydQAAAAAAA8J1AAAAAAAD0nUAAAAAAAPidQAAAAAAA/J1AAAAAAAAAnkAAAAAAAASeQAAAAAAACJ5AAAAAAAAMnkAAAAAAABCeQAAAAAAAFJ5AAAAAAAAYnkAAAAAAAByeQAAAAAAAIJ5AAAAAAAAknkAAAAAAACieQAAAAAAALJ5AAAAAAAAwnkAAAAAAADSeQAAAAAAAOJ5AAAAAAAA8nkAAAAAAAECeQAAAAAAARJ5AAAAAAABInkAAAAAAAEyeQAAAAAAAUJ5AAAAAAABUnkAAAAAAAFieQAAAAAAAXJ5AAAAAAABgnkAAAAAAAGSeQAAAAAAAaJ5AAAAAAABsnkAAAAAAAHCeQAAAAAAAdJ5AAAAAAAB4nkAAAAAAAHyeQAAAAAAAgJ5AAAAAAACEnkAAAAAAAIieQAAAAAAAjJ5AAAAAAACQnkAAAAAAAJSeQAAAAAAAmJ5AAAAAAACcnkAAAAAAAKCeQAAAAAAApJ5AAAAAAAConkAAAAAAAKyeQAAAAAAAsJ5AAAAAAAC0nkAAAAAAALieQAAAAAAAvJ5AAAAAAADAnkAAAAAAAMSeQAAAAAAAyJ5AAAAAAADMnkAAAAAAANCeQAAAAAAA1J5AAAAAAADYnkAAAAAAANyeQAAAAAAA4J5AAAAAAADknkAAAAAAAOieQAAAAAAA7J5AAAAAAADwnkAAAAAAAPSeQAAAAAAA+J5AAAAAAAD8nkAAAAAAAACfQAAAAAAABJ9AAAAAAAAIn0AAAAAAAAyfQAAAAAAAEJ9AAAAAAAAUn0AAAAAAABifQAAAAAAAHJ9AAAAAAAAgn0AAAAAAACSfQAAAAAAAKJ9AAAAAAAAsn0AAAAAAADCfQAAAAAAANJ9AAAAAAAA4n0AAAAAAADyfQAAAAAAAQJ9AAAAAAABEn0AAAAAAAEifQAAAAAAATJ9AAAAAAABQn0AAAAAAAFSfQAAAAAAAWJ9AAAAAAABcn0AAAAAAAGCfQAAAAAAAZJ9AAAAAAABon0AAAAAAAGyfQAAAAAAAcJ9AAAAAAAB0n0AAAAAAAHifQAAAAAAAfJ9AAAAAAACAn0A=\",\"dtype\":\"float64\",\"shape\":[127]},\"y\":{\"__ndarray__\":\"clRncCsFXcDyj+IvEAlcwIjtK2QRWFvA74njPeT5WsB07zfJ5OxawBh+4FRFJlvAGMbIn0aTW8DGi7GQVRtcwG3xRVLRolzAsftBrCkOXcDNJ4h8+0RdwN7SM2nRNF3AZ+23QDnTXMBNTpTT8R5cwK53VjUPIFvA1zRNTRHnWcCKeUgQB4tYwKjFTjT0JlfAmXWuk8TWVcCQxxJcJbRUwJvYbhuf01PAllEtakRCU8DBZ7QrOARTwNa2rQg2FFPA2RHMoCpkU8CH1DxGyt5TwCh8zVn4aVTA2CtI0rnpVMCR8hrEXUNVwDTT8aWAYFXAXMCkQ5MxVcAN4C9ZnK9UwNcq4RUC3VPAsDnQyETFUsB0WOKJsntRwKnoq2I5GVDAKMYp3S1zTcCkTX+EbfBKwBzoWyo02kjAjm4qOkRUR8C1IOjMFnJGwIZkXveoNEbAVOAUOV+KRsBih3JFAlFHwMx5JLmbWUjA8HL9IcNtScCHnG8swlVKwErX24De3krA0vjwmRPhSsApBScfl0NKwLLNQT2l/0jAbKpFIUQhR8BgGEGF6MVEwErq3IYiGULABy3htWWfPsChEuToLEM5wHXM3FxphzTAC/pTLM3DMMB0Z5GMD2gswGal8IQS4inAzPg9jGPcKcBmjciffPUrwPI7hnuTji/Awf6uAcPuMcDdVWqP1QE0wEcxm156kzXAv3wyYkZFNsCWaAXZEtI1wEAW/4HLFTTApbCoJ4ERMcDAUSKrldYpwICwUsXkpx/ANsFjnsFoA8AQb9Ahzu4IQCepkcOPjyBAZ5ZjVSFZKUCSdBXFpvwvQJzFLGg6DjJAGl78isTRMkDgQ/SV9GMyQDa+Ps1EAjFAoVwM8GwLLkBGiIf2i7EpQMmQeabL1iVAypFNe7dMI0ADawNt2r4iQAHnxwVinyRAw+HdFjsaKUD4LL46DggwQE+MKoIHjTRAij5Rf4bKOUC38zZXNFo/QJvhPLU5ZkJAx3R8S3zaREDeL9c8gttGQLRbu7ztR0hAzOsIDCcPSUDwAkrwOzNJQHzQ9VqkyEhADlug8/LzR0DzuvhHtOVGQK7CUuvz1EVAS6pf3wX5REAcF+3PR4NEQD6gwJeOmURASihFEuFRRUCYqq6e+69GQBZzlCzkpEhATGJcAZsQS0A4cBNdt8VNQHj2DtBDR1BAh03rapCZUUD1vVJB179SQNkekCkmpVNA2daAT+A7VEC0KneOR39UQMgeNX0FdFRATHbis6QnVEAatRCBCa9TQPXQoTgWJFNAk/TkQL+iUkCnzrJK40VSQCkyPOJCJFJALYlz/O5NUkD4kLm2eMpSQF/3168WmFNAhnp8qNirVEA=\",\"dtype\":\"float64\",\"shape\":[127]}}},\"id\":\"ed99032e-8cbf-4f84-a4e1-2624c3fc8b1e\",\"type\":\"ColumnDataSource\"},{\"attributes\":{\"line_alpha\":{\"value\":0.5},\"line_color\":{\"value\":\"green\"},\"line_width\":{\"value\":3},\"x\":{\"field\":\"x\"},\"y\":{\"field\":\"y\"}},\"id\":\"1739251b-d09e-44d0-8dae-8056bf79aa7b\",\"type\":\"Line\"}],\"root_ids\":[\"869770a9-1287-40c8-aa17-abab8391d1ad\"]},\"title\":\"Bokeh Application\",\"version\":\"0.12.10\"}};\n",
       "    var render_items = [{\"docid\":\"364a0fb2-add8-4c52-9cc8-54ed3cde448e\",\"elementid\":\"a27de982-a956-439f-adc4-f5dd8ce0a8c6\",\"modelid\":\"869770a9-1287-40c8-aa17-abab8391d1ad\"}];\n",
       "\n",
       "    root.Bokeh.embed.embed_items(docs_json, render_items);\n",
       "  }\n",
       "\n",
       "  if (root.Bokeh !== undefined) {\n",
       "    embed_document(root);\n",
       "  } else {\n",
       "    var attempts = 0;\n",
       "    var timer = setInterval(function(root) {\n",
       "      if (root.Bokeh !== undefined) {\n",
       "        embed_document(root);\n",
       "        clearInterval(timer);\n",
       "      }\n",
       "      attempts++;\n",
       "      if (attempts > 100) {\n",
       "        console.log(\"Bokeh: ERROR: Unable to embed document because BokehJS library is missing\")\n",
       "        clearInterval(timer);\n",
       "      }\n",
       "    }, 10, root)\n",
       "  }\n",
       "})(window);"
      ],
      "application/vnd.bokehjs_exec.v0+json": ""
     },
     "metadata": {
      "application/vnd.bokehjs_exec.v0+json": {
       "id": "869770a9-1287-40c8-aa17-abab8391d1ad"
      }
     },
     "output_type": "display_data"
    }
   ],
   "source": [
    "# plot the model with wind. \n",
    "fig = bokeh.plotting.figure(x_range=(1860, 2020), plot_width=900, plot_height=400)\n",
    "fig.circle(mean_df.year, mean_df.height, line_width=1, legend='Monthly mean sea level', color='black', alpha=0.5)\n",
    "fig.line(\n",
    "    linear_fit.model.exog[:, 1] + 1970, \n",
    "    linear_fit.predict(), \n",
    "    line_width=3, \n",
    "    legend='Current sea level', \n",
    "    color='green',\n",
    "    alpha=0.5\n",
    ")\n",
    "fig.legend.location = \"top_left\"\n",
    "fig.yaxis.axis_label = 'waterlevel [mm] above N.A.P.'\n",
    "fig.xaxis.axis_label = 'year'\n",
    "fig.legend.click_policy = \"hide\"\n",
    "\n",
    "bokeh.io.show(fig)"
   ]
  },
  {
   "cell_type": "markdown",
   "metadata": {},
   "source": [
    "Regional variability\n",
    "=====================\n",
    "It is known that the sea-level rise is not constant along the coast. The figures below show that the sea-level is rising faster at some stations. Some of these variations go back to the 1900's. There are several coastal interventions with known effect to the stations. The construction of the [Afsluitdijk](https://en.wikipedia.org/wiki/Afsluitdijk) (1927-1932), the [Oosterscheldekering](https://en.wikipedia.org/wiki/Oosterscheldekering) (1969-1987), the [Maeslantkering](https://en.wikipedia.org/wiki/Maeslantkering) (1991-1997) all have influence on the mean sea level, mainly due to changes in tidal amplitudes. \n",
    "\n",
    "Using the mean of the six tidal guages is the current approach. There are alternatives, for example one can use the principal component of the differences (between months/years). It is then assumed that only the common variance shared accross all stations is representative of the shared sea level. Most of the variance is shared between all stations and this results in a similar trend as using the mean. This method is referred to as EOF, PCA or SSA. See the analysis folder for an example."
   ]
  },
  {
   "cell_type": "code",
   "execution_count": 21,
   "metadata": {},
   "outputs": [
    {
     "name": "stdout",
     "output_type": "stream",
     "text": [
      "DEN HELDER\n"
     ]
    },
    {
     "data": {
      "text/html": [
       "<table class=\"simpletable\">\n",
       "<tr>\n",
       "      <td></td>        <th>coef</th>     <th>std err</th>      <th>t</th>      <th>P>|t|</th>  <th>[0.025</th>    <th>0.975]</th>  \n",
       "</tr>\n",
       "<tr>\n",
       "  <th>Constant</th> <td>  -59.7520</td> <td>    3.195</td> <td>  -18.702</td> <td> 0.000</td> <td>  -66.076</td> <td>  -53.428</td>\n",
       "</tr>\n",
       "<tr>\n",
       "  <th>Trend</th>    <td>    1.5012</td> <td>    0.079</td> <td>   18.920</td> <td> 0.000</td> <td>    1.344</td> <td>    1.658</td>\n",
       "</tr>\n",
       "<tr>\n",
       "  <th>Nodal U</th>  <td>    6.7286</td> <td>    4.122</td> <td>    1.632</td> <td> 0.105</td> <td>   -1.430</td> <td>   14.887</td>\n",
       "</tr>\n",
       "<tr>\n",
       "  <th>Nodal V</th>  <td>  -13.1977</td> <td>    4.089</td> <td>   -3.227</td> <td> 0.002</td> <td>  -21.292</td> <td>   -5.103</td>\n",
       "</tr>\n",
       "</table>"
      ],
      "text/plain": [
       "<class 'statsmodels.iolib.table.SimpleTable'>"
      ]
     },
     "metadata": {},
     "output_type": "display_data"
    },
    {
     "name": "stdout",
     "output_type": "stream",
     "text": [
      "DELFZIJL\n"
     ]
    },
    {
     "data": {
      "text/html": [
       "<table class=\"simpletable\">\n",
       "<tr>\n",
       "      <td></td>        <th>coef</th>     <th>std err</th>      <th>t</th>      <th>P>|t|</th>  <th>[0.025</th>    <th>0.975]</th>  \n",
       "</tr>\n",
       "<tr>\n",
       "  <th>Constant</th> <td>   27.5828</td> <td>    3.685</td> <td>    7.484</td> <td> 0.000</td> <td>   20.288</td> <td>   34.878</td>\n",
       "</tr>\n",
       "<tr>\n",
       "  <th>Trend</th>    <td>    1.9586</td> <td>    0.092</td> <td>   21.400</td> <td> 0.000</td> <td>    1.777</td> <td>    2.140</td>\n",
       "</tr>\n",
       "<tr>\n",
       "  <th>Nodal U</th>  <td>    6.4108</td> <td>    4.754</td> <td>    1.348</td> <td> 0.180</td> <td>   -3.000</td> <td>   15.822</td>\n",
       "</tr>\n",
       "<tr>\n",
       "  <th>Nodal V</th>  <td>  -12.0445</td> <td>    4.717</td> <td>   -2.553</td> <td> 0.012</td> <td>  -21.382</td> <td>   -2.707</td>\n",
       "</tr>\n",
       "</table>"
      ],
      "text/plain": [
       "<class 'statsmodels.iolib.table.SimpleTable'>"
      ]
     },
     "metadata": {},
     "output_type": "display_data"
    },
    {
     "name": "stdout",
     "output_type": "stream",
     "text": [
      "HARLINGEN\n"
     ]
    },
    {
     "data": {
      "text/html": [
       "<table class=\"simpletable\">\n",
       "<tr>\n",
       "      <td></td>        <th>coef</th>     <th>std err</th>      <th>t</th>      <th>P>|t|</th>  <th>[0.025</th>    <th>0.975]</th>  \n",
       "</tr>\n",
       "<tr>\n",
       "  <th>Constant</th> <td>   13.1853</td> <td>    3.596</td> <td>    3.667</td> <td> 0.000</td> <td>    6.068</td> <td>   20.303</td>\n",
       "</tr>\n",
       "<tr>\n",
       "  <th>Trend</th>    <td>    1.3231</td> <td>    0.089</td> <td>   14.817</td> <td> 0.000</td> <td>    1.146</td> <td>    1.500</td>\n",
       "</tr>\n",
       "<tr>\n",
       "  <th>Nodal U</th>  <td>    4.3305</td> <td>    4.639</td> <td>    0.934</td> <td> 0.352</td> <td>   -4.851</td> <td>   13.512</td>\n",
       "</tr>\n",
       "<tr>\n",
       "  <th>Nodal V</th>  <td>   -9.6362</td> <td>    4.602</td> <td>   -2.094</td> <td> 0.038</td> <td>  -18.746</td> <td>   -0.526</td>\n",
       "</tr>\n",
       "</table>"
      ],
      "text/plain": [
       "<class 'statsmodels.iolib.table.SimpleTable'>"
      ]
     },
     "metadata": {},
     "output_type": "display_data"
    },
    {
     "name": "stdout",
     "output_type": "stream",
     "text": [
      "CUXHAVEN 2\n"
     ]
    },
    {
     "data": {
      "text/html": [
       "<table class=\"simpletable\">\n",
       "<tr>\n",
       "      <td></td>        <th>coef</th>     <th>std err</th>      <th>t</th>      <th>P>|t|</th>  <th>[0.025</th>    <th>0.975]</th>  \n",
       "</tr>\n",
       "<tr>\n",
       "  <th>Constant</th> <td>   65.5812</td> <td>    4.525</td> <td>   14.495</td> <td> 0.000</td> <td>   56.625</td> <td>   74.537</td>\n",
       "</tr>\n",
       "<tr>\n",
       "  <th>Trend</th>    <td>    2.0115</td> <td>    0.112</td> <td>   17.901</td> <td> 0.000</td> <td>    1.789</td> <td>    2.234</td>\n",
       "</tr>\n",
       "<tr>\n",
       "  <th>Nodal U</th>  <td>    3.9682</td> <td>    5.837</td> <td>    0.680</td> <td> 0.498</td> <td>   -7.586</td> <td>   15.522</td>\n",
       "</tr>\n",
       "<tr>\n",
       "  <th>Nodal V</th>  <td>   -5.9755</td> <td>    5.791</td> <td>   -1.032</td> <td> 0.304</td> <td>  -17.439</td> <td>    5.488</td>\n",
       "</tr>\n",
       "</table>"
      ],
      "text/plain": [
       "<class 'statsmodels.iolib.table.SimpleTable'>"
      ]
     },
     "metadata": {},
     "output_type": "display_data"
    },
    {
     "data": {
      "text/html": [
       "\n",
       "<div class=\"bk-root\">\n",
       "    <div class=\"bk-plotdiv\" id=\"6c805a38-d71b-404a-819b-c0ffd6489f0e\"></div>\n",
       "</div>"
      ]
     },
     "metadata": {},
     "output_type": "display_data"
    },
    {
     "data": {
      "application/javascript": [
       "(function(root) {\n",
       "  function embed_document(root) {\n",
       "    var docs_json = {\"2768150d-9c59-4924-b06f-2c888dca018e\":{\"roots\":{\"references\":[{\"attributes\":{\"line_alpha\":{\"value\":0.8},\"line_color\":{\"value\":\"#ffff99\"},\"line_width\":{\"value\":3},\"x\":{\"field\":\"x\"},\"y\":{\"field\":\"y\"}},\"id\":\"34b3a826-e2bd-4808-9aa8-a4b1cbbe77f0\",\"type\":\"Line\"},{\"attributes\":{\"line_alpha\":{\"value\":0.1},\"line_color\":{\"value\":\"#1f77b4\"},\"line_width\":{\"value\":3},\"x\":{\"field\":\"x\"},\"y\":{\"field\":\"y\"}},\"id\":\"b731a0b1-6235-4e42-9e43-5a0e01156412\",\"type\":\"Line\"},{\"attributes\":{\"fill_alpha\":{\"value\":0.1},\"fill_color\":{\"value\":\"#beaed4\"},\"line_alpha\":{\"value\":0.1},\"line_color\":{\"value\":\"#beaed4\"},\"x\":{\"field\":\"x\"},\"y\":{\"field\":\"y\"}},\"id\":\"9e0fc698-3821-4284-8cdc-e708e0bd038c\",\"type\":\"Circle\"},{\"attributes\":{\"fill_alpha\":{\"value\":0.1},\"fill_color\":{\"value\":\"#ffff99\"},\"line_alpha\":{\"value\":0.1},\"line_color\":{\"value\":\"#ffff99\"},\"x\":{\"field\":\"x\"},\"y\":{\"field\":\"y\"}},\"id\":\"a8e53006-d81b-41b4-b4bb-ee3edc40a429\",\"type\":\"Circle\"},{\"attributes\":{\"fill_alpha\":{\"value\":0.1},\"fill_color\":{\"value\":\"#1f77b4\"},\"line_alpha\":{\"value\":0.1},\"line_color\":{\"value\":\"#1f77b4\"},\"x\":{\"field\":\"x\"},\"y\":{\"field\":\"y\"}},\"id\":\"172bcb7a-b916-46e7-87b8-66e58585e8fc\",\"type\":\"Circle\"},{\"attributes\":{\"line_alpha\":{\"value\":0.1},\"line_color\":{\"value\":\"#1f77b4\"},\"line_width\":{\"value\":3},\"x\":{\"field\":\"x\"},\"y\":{\"field\":\"y\"}},\"id\":\"29af35f8-a3c8-4e4c-af4f-79600f497220\",\"type\":\"Line\"},{\"attributes\":{\"line_alpha\":{\"value\":0.8},\"line_color\":{\"value\":\"#7fc97f\"},\"line_width\":{\"value\":3},\"x\":{\"field\":\"x\"},\"y\":{\"field\":\"y\"}},\"id\":\"f5f12485-4f8a-452c-ad31-de5272c786ef\",\"type\":\"Line\"},{\"attributes\":{\"source\":{\"id\":\"9895134b-4bf3-4977-89b7-bb31f6955614\",\"type\":\"ColumnDataSource\"}},\"id\":\"9f30d423-1f04-4a02-91e7-64df536b0ba6\",\"type\":\"CDSView\"},{\"attributes\":{\"line_alpha\":{\"value\":0.8},\"line_color\":{\"value\":\"#fdc086\"},\"line_width\":{\"value\":3},\"x\":{\"field\":\"x\"},\"y\":{\"field\":\"y\"}},\"id\":\"5cf6a8e6-8988-4125-9222-6083821f736f\",\"type\":\"Line\"},{\"attributes\":{\"label\":{\"value\":\"DELFZIJL\"},\"renderers\":[{\"id\":\"4e98631c-8d7f-4ac0-a885-42e45587be8b\",\"type\":\"GlyphRenderer\"}]},\"id\":\"7029605b-d2e1-42b5-8ce3-d2b5471da2dd\",\"type\":\"LegendItem\"},{\"attributes\":{\"source\":{\"id\":\"0668de5e-cbae-42f5-8e7f-8e0ebf2b9cb4\",\"type\":\"ColumnDataSource\"}},\"id\":\"1c797062-ff20-4cd7-9b3b-2981fe9c36d5\",\"type\":\"CDSView\"},{\"attributes\":{\"source\":{\"id\":\"8469ff25-a673-44ce-94dd-50e204948746\",\"type\":\"ColumnDataSource\"}},\"id\":\"8612643d-0ffb-4b1c-aa33-327ed740b1f8\",\"type\":\"CDSView\"},{\"attributes\":{\"data_source\":{\"id\":\"96c1747e-790c-42e1-abf1-7cfd99756343\",\"type\":\"ColumnDataSource\"},\"glyph\":{\"id\":\"9e0fc698-3821-4284-8cdc-e708e0bd038c\",\"type\":\"Circle\"},\"hover_glyph\":null,\"muted_glyph\":null,\"nonselection_glyph\":{\"id\":\"172bcb7a-b916-46e7-87b8-66e58585e8fc\",\"type\":\"Circle\"},\"selection_glyph\":null,\"view\":{\"id\":\"24e349de-7ebb-4f58-ac4a-ed9254696405\",\"type\":\"CDSView\"}},\"id\":\"44d34f32-b00f-4882-b250-874978efee46\",\"type\":\"GlyphRenderer\"},{\"attributes\":{\"label\":{\"value\":\"CUXHAVEN 2\"},\"renderers\":[{\"id\":\"f578ae22-2e24-4d20-8e72-477effcc2dd4\",\"type\":\"GlyphRenderer\"}]},\"id\":\"25984ca4-7740-4ec1-a023-1fd2f342f424\",\"type\":\"LegendItem\"},{\"attributes\":{\"below\":[{\"id\":\"76338423-cb66-4393-972d-2b7a9df5a956\",\"type\":\"LinearAxis\"}],\"left\":[{\"id\":\"b4500787-ad95-43d0-a672-d83d0718b466\",\"type\":\"LinearAxis\"}],\"plot_height\":400,\"plot_width\":900,\"renderers\":[{\"id\":\"76338423-cb66-4393-972d-2b7a9df5a956\",\"type\":\"LinearAxis\"},{\"id\":\"efa8a2f2-7761-439e-a6c3-c9f7eb2069db\",\"type\":\"Grid\"},{\"id\":\"b4500787-ad95-43d0-a672-d83d0718b466\",\"type\":\"LinearAxis\"},{\"id\":\"3319ccd1-7081-4cbd-8042-98dab0bcbbaa\",\"type\":\"Grid\"},{\"id\":\"937aac85-d7ee-4ff9-a688-2fcdfcca5d95\",\"type\":\"BoxAnnotation\"},{\"id\":\"8ca6f970-258e-4ca2-bd03-fcdc3a6e8b78\",\"type\":\"GlyphRenderer\"},{\"id\":\"44d34f32-b00f-4882-b250-874978efee46\",\"type\":\"GlyphRenderer\"},{\"id\":\"1ae41aee-01d7-48a9-bcac-d87a5d980d7a\",\"type\":\"GlyphRenderer\"},{\"id\":\"bf7e9c11-ed6e-40fe-89e7-31184a0cb3c8\",\"type\":\"GlyphRenderer\"},{\"id\":\"b88da51d-f96b-446f-b702-c258741236e3\",\"type\":\"Legend\"},{\"id\":\"2888e93c-35ef-4657-8f1d-bd595ae5dae0\",\"type\":\"GlyphRenderer\"},{\"id\":\"4e98631c-8d7f-4ac0-a885-42e45587be8b\",\"type\":\"GlyphRenderer\"},{\"id\":\"e26f85f5-8b8a-462c-a7c0-3bbe5ccd92b8\",\"type\":\"GlyphRenderer\"},{\"id\":\"f578ae22-2e24-4d20-8e72-477effcc2dd4\",\"type\":\"GlyphRenderer\"}],\"title\":{\"id\":\"ee408b33-6409-456d-b950-dcbc429339d1\",\"type\":\"Title\"},\"toolbar\":{\"id\":\"95859c08-8781-44e3-9885-9e37e1cdb38e\",\"type\":\"Toolbar\"},\"x_range\":{\"id\":\"94fa2e95-de2c-4035-8850-3aa7f0179c0e\",\"type\":\"Range1d\"},\"x_scale\":{\"id\":\"20688370-bcf8-4c13-bc9a-dbde78785bf4\",\"type\":\"LinearScale\"},\"y_range\":{\"id\":\"eee169bc-5c5b-4f76-b936-2fe71ad61d8c\",\"type\":\"DataRange1d\"},\"y_scale\":{\"id\":\"9d910c60-6573-49a6-95cc-7343729734f5\",\"type\":\"LinearScale\"}},\"id\":\"69f7e434-376a-4457-be30-f2db1473b22b\",\"subtype\":\"Figure\",\"type\":\"Plot\"},{\"attributes\":{\"data_source\":{\"id\":\"0668de5e-cbae-42f5-8e7f-8e0ebf2b9cb4\",\"type\":\"ColumnDataSource\"},\"glyph\":{\"id\":\"a60178d1-01eb-452a-9158-bd73169cf6e9\",\"type\":\"Circle\"},\"hover_glyph\":null,\"muted_glyph\":null,\"nonselection_glyph\":{\"id\":\"95d06188-cc07-48bf-8e69-d82760c78f69\",\"type\":\"Circle\"},\"selection_glyph\":null,\"view\":{\"id\":\"1c797062-ff20-4cd7-9b3b-2981fe9c36d5\",\"type\":\"CDSView\"}},\"id\":\"8ca6f970-258e-4ca2-bd03-fcdc3a6e8b78\",\"type\":\"GlyphRenderer\"},{\"attributes\":{\"callback\":null,\"column_names\":[\"x\",\"y\"],\"data\":{\"x\":[1843,1844,1845,1846,1847,1848,1849,1850,1851,1852,1853,1854,1855,1856,1857,1858,1859,1860,1861,1862,1863,1864,1865,1866,1867,1868,1869,1870,1871,1872,1873,1874,1875,1876,1877,1878,1879,1880,1881,1882,1883,1884,1885,1886,1887,1888,1889,1890,1891,1892,1893,1894,1895,1896,1897,1898,1899,1900,1901,1902,1903,1904,1905,1906,1907,1908,1909,1910,1911,1912,1913,1914,1915,1916,1917,1918,1919,1920,1921,1922,1923,1924,1925,1926,1927,1928,1929,1930,1931,1932,1933,1934,1935,1936,1937,1938,1939,1940,1941,1942,1943,1944,1945,1946,1947,1948,1949,1950,1951,1952,1953,1954,1955,1956,1957,1958,1959,1960,1961,1962,1963,1964,1965,1966,1967,1968,1969,1970,1971,1972,1973,1974,1975,1976,1977,1978,1979,1980,1981,1982,1983,1984,1985,1986,1987,1988,1989,1990,1991,1992,1993,1994,1995,1996,1997,1998,1999,2000,2001,2002,2003,2004,2005,2006,2007,2008,2009,2010,2011,2012,2013,2014,2015,2016],\"y\":{\"__ndarray__\":\"AAAAAADgZMAAAAAAAEBowAAAAAAAYGPAAAAAAAAgYsAAAAAAAMBswAAAAAAAgG3AAAAAAAAgasAAAAAAAEBhwAAAAAAAwGTAAAAAAAAgYcAAAAAAAKBtwAAAAAAAQF3AAAAAAADga8AAAAAAACBnwAAAAAAAIHDAAAAAAACgasAAAAAAACBiwAAAAAAA4GjAAAAAAADAYcAAAAAAAKBmwAAAAAAAwFHAAAAAAADga8AAAAAAAIBpwAAAAAAAgFXAAAAAAACAV8AAAAAAAMBVwAAAAAAAwF3AAAAAAABgacAAAAAAAKBpwAAAAAAA4GbAAAAAAADAX8AAAAAAAABfwAAAAAAAQG7AAAAAAABAacAAAAAAAMBUwAAAAAAAwFbAAAAAAADAZsAAAAAAAEBTwAAAAAAAAGLAAAAAAAAAXcAAAAAAAABewAAAAAAAQFbAAAAAAAAgYsAAAAAAAMBmwAAAAAAA4GHAAAAAAAAgaMAAAAAAAKBmwAAAAAAAgGHAAAAAAAAAYsAAAAAAAMBiwAAAAAAAAFbAAAAAAAAAW8AAAAAAAEBdwAAAAAAAQFrAAAAAAACAX8AAAAAAAABFwAAAAAAAACLAAAAAAADAUsAAAAAAAMBWwAAAAAAAgFfAAAAAAAAAAAAAAAAAAMBTwAAAAAAAgFLAAAAAAAAARsAAAAAAAMBWwAAAAAAAAF3AAAAAAACAUsAAAAAAAIBPwAAAAAAAQFHAAAAAAAAAQ8AAAAAAAIBMwAAAAAAAAEHAAAAAAAAAXMAAAAAAAAAzwAAAAAAAgETAAAAAAAAAP8AAAAAAAABMwAAAAAAAgEnAAAAAAAAANkAAAAAAAABCwAAAAAAAABjAAAAAAACATcAAAAAAAIBHQAAAAAAAAENAAAAAAAAAEEAAAAAAAAAsQAAAAAAAAETAAAAAAAAAMcAAAAAAAABDQAAAAAAAADdAAAAAAACAQMAAAAAAAAAoQAAAAAAAAEhAAAAAAAAANkAAAAAAAAA9wAAAAAAAAElAAAAAAAAAP8AAAAAAAADwPwAAAAAAAEvAAAAAAACAQcAAAAAAAEBQQAAAAAAAgFVAAAAAAABAVUAAAAAAAIBFQAAAAAAAgFHAAAAAAABAVUAAAAAAAEBeQAAAAAAAgFBAAAAAAAAAPkAAAAAAAABTQAAAAAAAgEZAAAAAAACASEAAAAAAAEBSQAAAAAAAADBAAAAAAACATEAAAAAAAABGQAAAAAAAACjAAAAAAAAAAMAAAAAAAMBhQAAAAAAAQFdAAAAAAAAAMsAAAAAAAAAYQAAAAAAAwFRAAAAAAACAVEAAAAAAAGBmQAAAAAAAAE5AAAAAAAAAMEAAAAAAAMBXQAAAAAAAAEpAAAAAAAAAPsAAAAAAAEBaQAAAAAAAgFRAAAAAAAAATEAAAAAAAAAUwAAAAAAAAEtAAAAAAAAAQEAAAAAAAAAoQAAAAAAAgEhAAAAAAAAAX0AAAAAAAEBWQAAAAAAAoGRAAAAAAAAAOkAAAAAAAIBFQAAAAAAAgEhAAAAAAAAASEAAAAAAAABhQAAAAAAAQFpAAAAAAAAgZ0AAAAAAAMBTQAAAAAAAwFJAAAAAAACAREAAAAAAAOBiQAAAAAAAAGNAAAAAAAAAPcAAAAAAAEBSQAAAAAAAYGVAAAAAAADgZEAAAAAAAEBjQAAAAAAAAGFAAAAAAADAXkAAAAAAAMBfQAAAAAAAAGZAAAAAAAAgYEAAAAAAAMBgQAAAAAAAIGtAAAAAAACgZkAAAAAAAMBdQAAAAAAAAFlAAAAAAADgY0AAAAAAAIBgQAAAAAAAQFhAAAAAAACAYEAAAAAAACBrQAAAAAAAIGRA\",\"dtype\":\"float64\",\"shape\":[174]}}},\"id\":\"af3a2a61-bc8d-4d76-b7bc-ed5a77946f45\",\"type\":\"ColumnDataSource\"},{\"attributes\":{\"label\":{\"value\":\"HARLINGEN\"},\"renderers\":[{\"id\":\"e26f85f5-8b8a-462c-a7c0-3bbe5ccd92b8\",\"type\":\"GlyphRenderer\"}]},\"id\":\"8cd1c163-17da-434e-91a0-f339c7bf3e5d\",\"type\":\"LegendItem\"},{\"attributes\":{},\"id\":\"07e5b232-0adb-46ff-a6a6-d81ffd325135\",\"type\":\"BasicTickFormatter\"},{\"attributes\":{\"data_source\":{\"id\":\"9895134b-4bf3-4977-89b7-bb31f6955614\",\"type\":\"ColumnDataSource\"},\"glyph\":{\"id\":\"34b3a826-e2bd-4808-9aa8-a4b1cbbe77f0\",\"type\":\"Line\"},\"hover_glyph\":null,\"muted_glyph\":null,\"nonselection_glyph\":{\"id\":\"b731a0b1-6235-4e42-9e43-5a0e01156412\",\"type\":\"Line\"},\"selection_glyph\":null,\"view\":{\"id\":\"9f30d423-1f04-4a02-91e7-64df536b0ba6\",\"type\":\"CDSView\"}},\"id\":\"f578ae22-2e24-4d20-8e72-477effcc2dd4\",\"type\":\"GlyphRenderer\"},{\"attributes\":{},\"id\":\"1b916f1b-811c-4f4f-a847-804308c1ada2\",\"type\":\"BasicTickFormatter\"},{\"attributes\":{\"line_alpha\":{\"value\":0.1},\"line_color\":{\"value\":\"#1f77b4\"},\"line_width\":{\"value\":3},\"x\":{\"field\":\"x\"},\"y\":{\"field\":\"y\"}},\"id\":\"7065676c-9c5e-46ad-be95-cd6aafd52b9f\",\"type\":\"Line\"},{\"attributes\":{\"active_drag\":\"auto\",\"active_inspect\":\"auto\",\"active_scroll\":\"auto\",\"active_tap\":\"auto\",\"tools\":[{\"id\":\"9985e96e-2616-4fae-bd34-11d0bb7ea618\",\"type\":\"PanTool\"},{\"id\":\"9cdc11d0-00bf-4876-b183-49ab862a1942\",\"type\":\"WheelZoomTool\"},{\"id\":\"c90d2c74-79b9-43cb-8ceb-0b7297439f27\",\"type\":\"BoxZoomTool\"},{\"id\":\"5feae221-572e-413e-9403-fd88e8689873\",\"type\":\"SaveTool\"},{\"id\":\"b9032907-15dd-423a-af10-e797067faa47\",\"type\":\"ResetTool\"},{\"id\":\"75126166-36a9-4601-be95-e3a33cfa672b\",\"type\":\"HelpTool\"}]},\"id\":\"95859c08-8781-44e3-9885-9e37e1cdb38e\",\"type\":\"Toolbar\"},{\"attributes\":{\"callback\":null,\"end\":2020,\"start\":1860},\"id\":\"94fa2e95-de2c-4035-8850-3aa7f0179c0e\",\"type\":\"Range1d\"},{\"attributes\":{\"plot\":null,\"text\":\"\"},\"id\":\"ee408b33-6409-456d-b950-dcbc429339d1\",\"type\":\"Title\"},{\"attributes\":{\"data_source\":{\"id\":\"46fbab71-e7ae-4b88-90e5-9b74e2b6cf0f\",\"type\":\"ColumnDataSource\"},\"glyph\":{\"id\":\"bfb0a19d-3367-4bac-907e-3905a67eeb28\",\"type\":\"Line\"},\"hover_glyph\":null,\"muted_glyph\":null,\"nonselection_glyph\":{\"id\":\"22e2c9b5-6557-4081-ba63-c2afdcdc48dd\",\"type\":\"Line\"},\"selection_glyph\":null,\"view\":{\"id\":\"34cb6666-1fc1-4f10-a977-d814cfcac916\",\"type\":\"CDSView\"}},\"id\":\"4e98631c-8d7f-4ac0-a885-42e45587be8b\",\"type\":\"GlyphRenderer\"},{\"attributes\":{},\"id\":\"b9032907-15dd-423a-af10-e797067faa47\",\"type\":\"ResetTool\"},{\"attributes\":{\"data_source\":{\"id\":\"8469ff25-a673-44ce-94dd-50e204948746\",\"type\":\"ColumnDataSource\"},\"glyph\":{\"id\":\"5cf6a8e6-8988-4125-9222-6083821f736f\",\"type\":\"Line\"},\"hover_glyph\":null,\"muted_glyph\":null,\"nonselection_glyph\":{\"id\":\"29af35f8-a3c8-4e4c-af4f-79600f497220\",\"type\":\"Line\"},\"selection_glyph\":null,\"view\":{\"id\":\"8612643d-0ffb-4b1c-aa33-327ed740b1f8\",\"type\":\"CDSView\"}},\"id\":\"e26f85f5-8b8a-462c-a7c0-3bbe5ccd92b8\",\"type\":\"GlyphRenderer\"},{\"attributes\":{},\"id\":\"75126166-36a9-4601-be95-e3a33cfa672b\",\"type\":\"HelpTool\"},{\"attributes\":{\"data_source\":{\"id\":\"af3a2a61-bc8d-4d76-b7bc-ed5a77946f45\",\"type\":\"ColumnDataSource\"},\"glyph\":{\"id\":\"a8e53006-d81b-41b4-b4bb-ee3edc40a429\",\"type\":\"Circle\"},\"hover_glyph\":null,\"muted_glyph\":null,\"nonselection_glyph\":{\"id\":\"fbff930c-7d6b-4431-9585-106ad98e925a\",\"type\":\"Circle\"},\"selection_glyph\":null,\"view\":{\"id\":\"70373fd8-40fe-4021-bd25-de868c0f8802\",\"type\":\"CDSView\"}},\"id\":\"bf7e9c11-ed6e-40fe-89e7-31184a0cb3c8\",\"type\":\"GlyphRenderer\"},{\"attributes\":{\"source\":{\"id\":\"46fbab71-e7ae-4b88-90e5-9b74e2b6cf0f\",\"type\":\"ColumnDataSource\"}},\"id\":\"34cb6666-1fc1-4f10-a977-d814cfcac916\",\"type\":\"CDSView\"},{\"attributes\":{\"callback\":null},\"id\":\"eee169bc-5c5b-4f76-b936-2fe71ad61d8c\",\"type\":\"DataRange1d\"},{\"attributes\":{\"callback\":null,\"column_names\":[\"x\",\"y\"],\"data\":{\"x\":{\"__ndarray__\":\"AAAAAACInUAAAAAAAIydQAAAAAAAkJ1AAAAAAACUnUAAAAAAAJidQAAAAAAAnJ1AAAAAAACgnUAAAAAAAKSdQAAAAAAAqJ1AAAAAAACsnUAAAAAAALCdQAAAAAAAtJ1AAAAAAAC4nUAAAAAAALydQAAAAAAAwJ1AAAAAAADEnUAAAAAAAMidQAAAAAAAzJ1AAAAAAADQnUAAAAAAANSdQAAAAAAA2J1AAAAAAADcnUAAAAAAAOCdQAAAAAAA5J1AAAAAAADonUAAAAAAAOydQAAAAAAA8J1AAAAAAAD0nUAAAAAAAPidQAAAAAAA/J1AAAAAAAAAnkAAAAAAAASeQAAAAAAACJ5AAAAAAAAMnkAAAAAAABCeQAAAAAAAFJ5AAAAAAAAYnkAAAAAAAByeQAAAAAAAIJ5AAAAAAAAknkAAAAAAACieQAAAAAAALJ5AAAAAAAAwnkAAAAAAADSeQAAAAAAAOJ5AAAAAAAA8nkAAAAAAAECeQAAAAAAARJ5AAAAAAABInkAAAAAAAEyeQAAAAAAAUJ5AAAAAAABUnkAAAAAAAFieQAAAAAAAXJ5AAAAAAABgnkAAAAAAAGSeQAAAAAAAaJ5AAAAAAABsnkAAAAAAAHCeQAAAAAAAdJ5AAAAAAAB4nkAAAAAAAHyeQAAAAAAAgJ5AAAAAAACEnkAAAAAAAIieQAAAAAAAjJ5AAAAAAACQnkAAAAAAAJSeQAAAAAAAmJ5AAAAAAACcnkAAAAAAAKCeQAAAAAAApJ5AAAAAAAConkAAAAAAAKyeQAAAAAAAsJ5AAAAAAAC0nkAAAAAAALieQAAAAAAAvJ5AAAAAAADAnkAAAAAAAMSeQAAAAAAAyJ5AAAAAAADMnkAAAAAAANCeQAAAAAAA1J5AAAAAAADYnkAAAAAAANyeQAAAAAAA4J5AAAAAAADknkAAAAAAAOieQAAAAAAA7J5AAAAAAADwnkAAAAAAAPSeQAAAAAAA+J5AAAAAAAD8nkAAAAAAAACfQAAAAAAABJ9AAAAAAAAIn0AAAAAAAAyfQAAAAAAAEJ9AAAAAAAAUn0AAAAAAABifQAAAAAAAHJ9AAAAAAAAgn0AAAAAAACSfQAAAAAAAKJ9AAAAAAAAsn0AAAAAAADCfQAAAAAAANJ9AAAAAAAA4n0AAAAAAADyfQAAAAAAAQJ9AAAAAAABEn0AAAAAAAEifQAAAAAAATJ9AAAAAAABQn0AAAAAAAFSfQAAAAAAAWJ9AAAAAAABcn0AAAAAAAGCfQAAAAAAAZJ9AAAAAAABon0AAAAAAAGyfQAAAAAAAcJ9AAAAAAAB0n0AAAAAAAHifQAAAAAAAfJ9AAAAAAACAn0A=\",\"dtype\":\"float64\",\"shape\":[127]},\"y\":{\"__ndarray__\":\"3rcfafwnZcDaSYDzZZ1kwNVa6V9QQ2TA95e6o3oeZMCvYY8BoS1kwOl9DpShaWTAYnglZ0rGZMBy9z7cuTNlwFHPuJIpoGXALCT1B/D5ZcBoCUX1fjFmwDW6EtAkO2bAcg19r14QZsBe3n5zlLBlwKyHwPApIWXASoflMONsZMCc/d1braJjwLiqeWfv02LA2iyGPJMSYsDlOgIUAG9hwOL6C3pA9mDAuJHzdomwYMBydqFnTaBgwMC7J0r1wWDA9PB4eUgMYcB0lcgid3FhwCz/+WCp4GHA9uV78eVHYsDY8KeSGZZiwPic7msEvWLAYgJJztWyYsBouu3SR3NiwCzGx9QaAGLAfODB1OJgYcABVEd/LKJgwE4rMhUlqF/AbEEwudgQXsAVDcL9lKFcwCYt/CT2eFvAnnusGp+tWsBUidpZq0tawEWo8RFRU1rAfEsDCdu4WsAIgd3r+mVbwKFgC9xNPFzAuvmkesoYXcD6cPRTtdddwMvO9GSpWF7AuRrYLkCCXsA+vaWv70RewPGeDWfLnF3AyLONuPWRXMDfHpTetDdbwAzXpfZFqlnArmBIBK0LWMA0wY0F3n9WwH5wyQuuKFXAWAarnAEiVMDTNia1pn5TwL19EWg1RlPAAIcLbjR0U8BcdoxrmvhTwLlEolWduVTAEuEWp5uWVcAhGmxIy2tWwHilYrxDFlfArud51e53V8CFfKwY7npXwI8Vk6sSFFfAhHefeSBEVsBYy8wWuBdVwJz1yt7ppVPAZOcxgJsNUsAu17UtC3JQwEzPAniq7U3AHFr+Pt53S8CUcMbgF7RJwGbODmSlv0jAoqyy2m2gSMDLFrfRRkRJwLnSCT0Bg0rAIxzVnvIiTMCwyp5Zd99NwGzJDxeycE/Aa6BuMdRJUMCDSgoK6YhQwNHufoegY1DA4Elfgq+mT8Ar5RVv/7pNwODEgi8AJkvAESPHfZ0cSMCpWJM/5uBEwHCqh7OXukHAHBdK6wjePcBqxr+vgnI5wOB6QVT0hjbAULVAS15ENcDGrKUPyaM1wLOhinUObzfAD76iXPZGOsDFtLEm9q09wDDxyy8ui0DADHfzjif5QcAS/0V65+FCwMNOE+V3FUPAYs8BUFZ4QsCkp561jgZBwBZOoItbqD3AxB2bFvsVOMBCUFHAm8sxwIg74fpDpybA2CHwDmD2FMAAKKpRGfSrv8DuP8TvhQ5ASAXgmHRoGECo/7sdxt0aQDAwUZNnCRdA4NthjAsPDECAYFIdup7YP2CWDG/psQjAKPJ8UFViGcC0+RSJ/rUhwLCG3oYtUyTAUNV13WzmI8Akq5sWQSUgwJj1spHMShLAABBNmn601D8=\",\"dtype\":\"float64\",\"shape\":[127]}}},\"id\":\"aeecdb2d-5aa0-4d37-afb5-76d039062de5\",\"type\":\"ColumnDataSource\"},{\"attributes\":{\"callback\":null,\"column_names\":[\"x\",\"y\"],\"data\":{\"x\":{\"__ndarray__\":\"AAAAAACInUAAAAAAAIydQAAAAAAAkJ1AAAAAAACUnUAAAAAAAJidQAAAAAAAnJ1AAAAAAACgnUAAAAAAAKSdQAAAAAAAqJ1AAAAAAACsnUAAAAAAALCdQAAAAAAAtJ1AAAAAAAC4nUAAAAAAALydQAAAAAAAwJ1AAAAAAADEnUAAAAAAAMidQAAAAAAAzJ1AAAAAAADQnUAAAAAAANSdQAAAAAAA2J1AAAAAAADcnUAAAAAAAOCdQAAAAAAA5J1AAAAAAADonUAAAAAAAOydQAAAAAAA8J1AAAAAAAD0nUAAAAAAAPidQAAAAAAA/J1AAAAAAAAAnkAAAAAAAASeQAAAAAAACJ5AAAAAAAAMnkAAAAAAABCeQAAAAAAAFJ5AAAAAAAAYnkAAAAAAAByeQAAAAAAAIJ5AAAAAAAAknkAAAAAAACieQAAAAAAALJ5AAAAAAAAwnkAAAAAAADSeQAAAAAAAOJ5AAAAAAAA8nkAAAAAAAECeQAAAAAAARJ5AAAAAAABInkAAAAAAAEyeQAAAAAAAUJ5AAAAAAABUnkAAAAAAAFieQAAAAAAAXJ5AAAAAAABgnkAAAAAAAGSeQAAAAAAAaJ5AAAAAAABsnkAAAAAAAHCeQAAAAAAAdJ5AAAAAAAB4nkAAAAAAAHyeQAAAAAAAgJ5AAAAAAACEnkAAAAAAAIieQAAAAAAAjJ5AAAAAAACQnkAAAAAAAJSeQAAAAAAAmJ5AAAAAAACcnkAAAAAAAKCeQAAAAAAApJ5AAAAAAAConkAAAAAAAKyeQAAAAAAAsJ5AAAAAAAC0nkAAAAAAALieQAAAAAAAvJ5AAAAAAADAnkAAAAAAAMSeQAAAAAAAyJ5AAAAAAADMnkAAAAAAANCeQAAAAAAA1J5AAAAAAADYnkAAAAAAANyeQAAAAAAA4J5AAAAAAADknkAAAAAAAOieQAAAAAAA7J5AAAAAAADwnkAAAAAAAPSeQAAAAAAA+J5AAAAAAAD8nkAAAAAAAACfQAAAAAAABJ9AAAAAAAAIn0AAAAAAAAyfQAAAAAAAEJ9AAAAAAAAUn0AAAAAAABifQAAAAAAAHJ9AAAAAAAAgn0AAAAAAACSfQAAAAAAAKJ9AAAAAAAAsn0AAAAAAADCfQAAAAAAANJ9AAAAAAAA4n0AAAAAAADyfQAAAAAAAQJ9AAAAAAABEn0AAAAAAAEifQAAAAAAATJ9AAAAAAABQn0AAAAAAAFSfQAAAAAAAWJ9AAAAAAABcn0AAAAAAAGCfQAAAAAAAZJ9AAAAAAABon0AAAAAAAGyfQAAAAAAAcJ9AAAAAAAB0n0AAAAAAAHifQAAAAAAAfJ9AAAAAAACAn0A=\",\"dtype\":\"float64\",\"shape\":[127]},\"y\":{\"__ndarray__\":\"qRJwYuAvVcCgZqIYYmNUwFSMrsSR3VPAnrnNSPujU8CM/KTlj7NTwD5+mpT+AFTAnBqFCPt5VMB16p1rTgdVwD/sISx2j1XAvEcrIIX5VcCLRU3M8y9WwNtezX8OI1bAQ2rtDbvKVcAWQ3DtYidVwKtzG1HnQVTAUX8ykaAqU8ACn07chfdRwL5KdX+ywVDAoDKa1CBFT8ACvSSm82FNwJwo0LxJ/UvAxXjFqEcsS8BEvTZPZ/NKwNqLfZL2RUvABX21LYYHTMAk+hFbHw9NwIuheobjK07A9l01cJAqT8ASEXFaSdtPwHGEugh/C1DA1sBBstPDT8AwbXDGD9hOwADpzGAxW03AaTmjfxhlS8BkEBsoVBtJwDkt1hnlrEbAJ6Cvm+9MRMB1BEWw9SxCwM03w4BAd0DA1+tk8DSUPsBee172x2g9wNl4lBDLZz3AIj5wjR9rPsBsiU9IohdAwLirF9R6LUHAG75PI59EQsDGc418bypDwJtg9IjdsUPA++xjRYK4Q8DHN5YagCpDwKwQw+bABELAjCZXLU9VQMBqtzi3gHM8wNRcxNy7tzfAMqEX7dvZMsD1+xAgjYAswBEoPydYkyTAWKZTKV0JHcD0AIj7Q24VwHioxFE/mBLAqKwWS1VAFMBM+C6Hup0ZwICZMyk+viDApkvDkSEwJcAieOJ/oFcpwLOq7Jw5cCzAO5cFdP/TLcCLLQkaUw4twF8FoQ8O6SnAslUW/Z5yJMAUBmtS0fgZwHAQ0/dIRgDA/t43xbZiBkB+ExQDC28eQMVJxCttAShAoplavOVEL0BOtUYhQT4yQBreEqX7rjNAAv6M1z7xM0AG5yg8yyMzQBOEDc8MhDFA27ojV1jOLkAJil2Y42AqQA0R20sijCZAlnUp5j4LJEB+Am4KB3MjQIWmpbUfISVA32NISXMxKUBsdOfkCnsvQESk5Q1XyjNA4s8AtWFwOED5ZMgbjU89QPlMLRinAEFAGs72GR0SQ0B6xmHZgrNEQPndw87YyEVAND0qru5FRkDGYLCbwy9GQKH4Vsn1m0VA7FZ4ylGuREBzjXsfyJRDQIOKcr09gkJAHpJSaM2oQUBK5bnfHzRBQPSUukp+REFAzcFZSS3rQUAgXdT5eShDQKDjNUSx60RA42rJZwIVR0CA64RSFnlJQHiVEf3z5UtAh7wpb6QoTkD7A++2eQlQQKp3h0xTwFBAXG5BIsotUUCsx2XxEU9RQNwkNtz3KVFAnaVhyzrMUEBGWFk7/klQQHyq9Z0Id09ADXn0reF0TkDaMbjayL1NQFOdx4uGeU1At5fMyuzCTUCzYAJC0KROQIshiKJnDFBAv9/kGwUEUUA=\",\"dtype\":\"float64\",\"shape\":[127]}}},\"id\":\"8469ff25-a673-44ce-94dd-50e204948746\",\"type\":\"ColumnDataSource\"},{\"attributes\":{},\"id\":\"20688370-bcf8-4c13-bc9a-dbde78785bf4\",\"type\":\"LinearScale\"},{\"attributes\":{\"line_alpha\":{\"value\":0.1},\"line_color\":{\"value\":\"#1f77b4\"},\"line_width\":{\"value\":3},\"x\":{\"field\":\"x\"},\"y\":{\"field\":\"y\"}},\"id\":\"22e2c9b5-6557-4081-ba63-c2afdcdc48dd\",\"type\":\"Line\"},{\"attributes\":{},\"id\":\"9d910c60-6573-49a6-95cc-7343729734f5\",\"type\":\"LinearScale\"},{\"attributes\":{\"callback\":null,\"column_names\":[\"x\",\"y\"],\"data\":{\"x\":[1865,1866,1867,1868,1869,1870,1871,1872,1873,1874,1875,1876,1877,1878,1879,1880,1881,1882,1883,1884,1885,1886,1887,1888,1889,1890,1891,1892,1893,1894,1895,1896,1897,1898,1899,1900,1901,1902,1903,1904,1905,1906,1907,1908,1909,1910,1911,1912,1913,1914,1915,1916,1917,1918,1919,1920,1921,1922,1923,1924,1925,1926,1927,1928,1929,1930,1931,1932,1933,1934,1935,1936,1937,1938,1939,1940,1941,1942,1943,1944,1945,1946,1947,1948,1949,1950,1951,1952,1953,1954,1955,1956,1957,1958,1959,1960,1961,1962,1963,1964,1965,1966,1967,1968,1969,1970,1971,1972,1973,1974,1975,1976,1977,1978,1979,1980,1981,1982,1983,1984,1985,1986,1987,1988,1989,1990,1991,1992,1993,1994,1995,1996,1997,1998,1999,2000,2001,2002,2003,2004,2005,2006,2007,2008,2009,2010,2011,2012,2013,2014,2015,2016],\"y\":{\"__ndarray__\":\"AAAAAAAAb8AAAAAAAABawAAAAAAAoGDAAAAAAADAXsAAAAAAAKBhwAAAAAAAYG7AAAAAAADgZMAAAAAAAABcwAAAAAAAgFjAAAAAAADAWsAAAAAAACBnwAAAAAAAoGDAAAAAAACASsAAAAAAAABNwAAAAAAAYGHAAAAAAAAATcAAAAAAACBgwAAAAAAAAFXAAAAAAABAW8AAAAAAAMBVwAAAAAAAAF/AAAAAAADAYMAAAAAAAMBhwAAAAAAA4GLAAAAAAACAXMAAAAAAAABewAAAAAAAAFnAAAAAAADAVsAAAAAAAIBSwAAAAAAAgFHAAAAAAAAAWsAAAAAAAEBZwAAAAAAAgFTAAAAAAAAARcAAAAAAAMBTwAAAAAAAgFzAAAAAAACAX8AAAAAAAABhwAAAAAAAAC7AAAAAAAAAVcAAAAAAAIBTwAAAAAAAAEnAAAAAAACAU8AAAAAAAEBawAAAAAAAgE3AAAAAAACAR8AAAAAAAEBTwAAAAAAAAPC/AAAAAAAAOcAAAAAAAAAkwAAAAAAAgFLAAAAAAAAAEMAAAAAAAIBKwAAAAAAAAEHAAAAAAAAATsAAAAAAAIBKwAAAAAAAgEHAAAAAAAAASsAAAAAAAAAgwAAAAAAAgEPAAAAAAAAAMkAAAAAAAAAYQAAAAAAAACTAAAAAAAAAIEAAAAAAAABRwAAAAAAAAELAAAAAAAAALsAAAAAAAAA9wAAAAAAAQFXAAAAAAACAS8AAAAAAAAAIwAAAAAAAACrAAAAAAAAAR8AAAAAAAAAqwAAAAAAAgE/AAAAAAACATMAAAAAAAMBXwAAAAAAAgE3AAAAAAAAAKsAAAAAAAAAmwAAAAAAAACLAAAAAAAAAQMAAAAAAAMBZwAAAAAAAACTAAAAAAAAAIEAAAAAAAAAAQAAAAAAAADPAAAAAAAAACEAAAAAAAABFwAAAAAAAADDAAAAAAAAAM8AAAAAAAIBOwAAAAAAAAC7AAAAAAAAAIsAAAAAAAIBNwAAAAAAAADjAAAAAAAAATUAAAAAAAAAQQAAAAAAAQFLAAAAAAAAATsAAAAAAAAAmQAAAAAAAADtAAAAAAABAVkAAAAAAAAAAwAAAAAAAAAjAAAAAAACAT0AAAAAAAAAuwAAAAAAAACrAAAAAAAAASEAAAAAAAIBFQAAAAAAAACDAAAAAAAAARcAAAAAAAAA1QAAAAAAAABzAAAAAAAAALkAAAAAAAABKQAAAAAAAAFNAAAAAAACASUAAAAAAAABZQAAAAAAAADBAAAAAAAAAMEAAAAAAAAAyQAAAAAAAACbAAAAAAADAVUAAAAAAAIBBQAAAAAAAwFdAAAAAAAAARcAAAAAAAAAiQAAAAAAAAAhAAAAAAACAS0AAAAAAAIBKQAAAAAAAwFfAAAAAAAAAIsAAAAAAAEBWQAAAAAAAAFRAAAAAAABAU0AAAAAAAMBQQAAAAAAAgEpAAAAAAACAQ0AAAAAAAABWQAAAAAAAAE1AAAAAAABAUEAAAAAAAIBeQAAAAAAAgFhAAAAAAAAASkAAAAAAAAA+QAAAAAAAAFhAAAAAAADAVEAAAAAAAABEQAAAAAAAQFdAAAAAAACAYUAAAAAAAMBZQA==\",\"dtype\":\"float64\",\"shape\":[152]}}},\"id\":\"b6c058cf-eab5-4264-83e5-d03b81fe80c0\",\"type\":\"ColumnDataSource\"},{\"attributes\":{\"line_alpha\":{\"value\":0.8},\"line_color\":{\"value\":\"#beaed4\"},\"line_width\":{\"value\":3},\"x\":{\"field\":\"x\"},\"y\":{\"field\":\"y\"}},\"id\":\"bfb0a19d-3367-4bac-907e-3905a67eeb28\",\"type\":\"Line\"},{\"attributes\":{\"plot\":{\"id\":\"69f7e434-376a-4457-be30-f2db1473b22b\",\"subtype\":\"Figure\",\"type\":\"Plot\"},\"ticker\":{\"id\":\"17ddb776-a11c-41a7-b21a-50061b573cf0\",\"type\":\"BasicTicker\"}},\"id\":\"efa8a2f2-7761-439e-a6c3-c9f7eb2069db\",\"type\":\"Grid\"},{\"attributes\":{\"fill_alpha\":{\"value\":0.1},\"fill_color\":{\"value\":\"#fdc086\"},\"line_alpha\":{\"value\":0.1},\"line_color\":{\"value\":\"#fdc086\"},\"x\":{\"field\":\"x\"},\"y\":{\"field\":\"y\"}},\"id\":\"437c7727-0478-4a5f-b863-153aa4e2891a\",\"type\":\"Circle\"},{\"attributes\":{\"formatter\":{\"id\":\"07e5b232-0adb-46ff-a6a6-d81ffd325135\",\"type\":\"BasicTickFormatter\"},\"plot\":{\"id\":\"69f7e434-376a-4457-be30-f2db1473b22b\",\"subtype\":\"Figure\",\"type\":\"Plot\"},\"ticker\":{\"id\":\"17ddb776-a11c-41a7-b21a-50061b573cf0\",\"type\":\"BasicTicker\"}},\"id\":\"76338423-cb66-4393-972d-2b7a9df5a956\",\"type\":\"LinearAxis\"},{\"attributes\":{\"label\":{\"value\":\"DEN HELDER\"},\"renderers\":[{\"id\":\"2888e93c-35ef-4657-8f1d-bd595ae5dae0\",\"type\":\"GlyphRenderer\"}]},\"id\":\"9cdac0c2-9d3a-4390-ad48-613a0c172bc4\",\"type\":\"LegendItem\"},{\"attributes\":{},\"id\":\"17ddb776-a11c-41a7-b21a-50061b573cf0\",\"type\":\"BasicTicker\"},{\"attributes\":{\"source\":{\"id\":\"b6c058cf-eab5-4264-83e5-d03b81fe80c0\",\"type\":\"ColumnDataSource\"}},\"id\":\"cd96d815-b4b6-49b7-992d-20eb4a4e44c0\",\"type\":\"CDSView\"},{\"attributes\":{\"formatter\":{\"id\":\"1b916f1b-811c-4f4f-a847-804308c1ada2\",\"type\":\"BasicTickFormatter\"},\"plot\":{\"id\":\"69f7e434-376a-4457-be30-f2db1473b22b\",\"subtype\":\"Figure\",\"type\":\"Plot\"},\"ticker\":{\"id\":\"45ea4004-4a60-4ef1-abea-ece6874d07f3\",\"type\":\"BasicTicker\"}},\"id\":\"b4500787-ad95-43d0-a672-d83d0718b466\",\"type\":\"LinearAxis\"},{\"attributes\":{\"click_policy\":\"hide\",\"items\":[{\"id\":\"9cdac0c2-9d3a-4390-ad48-613a0c172bc4\",\"type\":\"LegendItem\"},{\"id\":\"7029605b-d2e1-42b5-8ce3-d2b5471da2dd\",\"type\":\"LegendItem\"},{\"id\":\"8cd1c163-17da-434e-91a0-f339c7bf3e5d\",\"type\":\"LegendItem\"},{\"id\":\"25984ca4-7740-4ec1-a023-1fd2f342f424\",\"type\":\"LegendItem\"}],\"plot\":{\"id\":\"69f7e434-376a-4457-be30-f2db1473b22b\",\"subtype\":\"Figure\",\"type\":\"Plot\"}},\"id\":\"b88da51d-f96b-446f-b702-c258741236e3\",\"type\":\"Legend\"},{\"attributes\":{},\"id\":\"45ea4004-4a60-4ef1-abea-ece6874d07f3\",\"type\":\"BasicTicker\"},{\"attributes\":{\"dimension\":1,\"plot\":{\"id\":\"69f7e434-376a-4457-be30-f2db1473b22b\",\"subtype\":\"Figure\",\"type\":\"Plot\"},\"ticker\":{\"id\":\"45ea4004-4a60-4ef1-abea-ece6874d07f3\",\"type\":\"BasicTicker\"}},\"id\":\"3319ccd1-7081-4cbd-8042-98dab0bcbbaa\",\"type\":\"Grid\"},{\"attributes\":{\"data_source\":{\"id\":\"aeecdb2d-5aa0-4d37-afb5-76d039062de5\",\"type\":\"ColumnDataSource\"},\"glyph\":{\"id\":\"f5f12485-4f8a-452c-ad31-de5272c786ef\",\"type\":\"Line\"},\"hover_glyph\":null,\"muted_glyph\":null,\"nonselection_glyph\":{\"id\":\"7065676c-9c5e-46ad-be95-cd6aafd52b9f\",\"type\":\"Line\"},\"selection_glyph\":null,\"view\":{\"id\":\"c3339068-0d71-4961-a601-0c5fdbf50962\",\"type\":\"CDSView\"}},\"id\":\"2888e93c-35ef-4657-8f1d-bd595ae5dae0\",\"type\":\"GlyphRenderer\"},{\"attributes\":{\"fill_alpha\":{\"value\":0.1},\"fill_color\":{\"value\":\"#7fc97f\"},\"line_alpha\":{\"value\":0.1},\"line_color\":{\"value\":\"#7fc97f\"},\"x\":{\"field\":\"x\"},\"y\":{\"field\":\"y\"}},\"id\":\"a60178d1-01eb-452a-9158-bd73169cf6e9\",\"type\":\"Circle\"},{\"attributes\":{\"source\":{\"id\":\"af3a2a61-bc8d-4d76-b7bc-ed5a77946f45\",\"type\":\"ColumnDataSource\"}},\"id\":\"70373fd8-40fe-4021-bd25-de868c0f8802\",\"type\":\"CDSView\"},{\"attributes\":{\"source\":{\"id\":\"96c1747e-790c-42e1-abf1-7cfd99756343\",\"type\":\"ColumnDataSource\"}},\"id\":\"24e349de-7ebb-4f58-ac4a-ed9254696405\",\"type\":\"CDSView\"},{\"attributes\":{\"bottom_units\":\"screen\",\"fill_alpha\":{\"value\":0.5},\"fill_color\":{\"value\":\"lightgrey\"},\"left_units\":\"screen\",\"level\":\"overlay\",\"line_alpha\":{\"value\":1.0},\"line_color\":{\"value\":\"black\"},\"line_dash\":[4,4],\"line_width\":{\"value\":2},\"plot\":null,\"render_mode\":\"css\",\"right_units\":\"screen\",\"top_units\":\"screen\"},\"id\":\"937aac85-d7ee-4ff9-a688-2fcdfcca5d95\",\"type\":\"BoxAnnotation\"},{\"attributes\":{\"source\":{\"id\":\"aeecdb2d-5aa0-4d37-afb5-76d039062de5\",\"type\":\"ColumnDataSource\"}},\"id\":\"c3339068-0d71-4961-a601-0c5fdbf50962\",\"type\":\"CDSView\"},{\"attributes\":{\"fill_alpha\":{\"value\":0.1},\"fill_color\":{\"value\":\"#1f77b4\"},\"line_alpha\":{\"value\":0.1},\"line_color\":{\"value\":\"#1f77b4\"},\"x\":{\"field\":\"x\"},\"y\":{\"field\":\"y\"}},\"id\":\"95d06188-cc07-48bf-8e69-d82760c78f69\",\"type\":\"Circle\"},{\"attributes\":{},\"id\":\"9985e96e-2616-4fae-bd34-11d0bb7ea618\",\"type\":\"PanTool\"},{\"attributes\":{\"fill_alpha\":{\"value\":0.1},\"fill_color\":{\"value\":\"#1f77b4\"},\"line_alpha\":{\"value\":0.1},\"line_color\":{\"value\":\"#1f77b4\"},\"x\":{\"field\":\"x\"},\"y\":{\"field\":\"y\"}},\"id\":\"fbff930c-7d6b-4431-9585-106ad98e925a\",\"type\":\"Circle\"},{\"attributes\":{},\"id\":\"9cdc11d0-00bf-4876-b183-49ab862a1942\",\"type\":\"WheelZoomTool\"},{\"attributes\":{\"overlay\":{\"id\":\"937aac85-d7ee-4ff9-a688-2fcdfcca5d95\",\"type\":\"BoxAnnotation\"}},\"id\":\"c90d2c74-79b9-43cb-8ceb-0b7297439f27\",\"type\":\"BoxZoomTool\"},{\"attributes\":{},\"id\":\"5feae221-572e-413e-9403-fd88e8689873\",\"type\":\"SaveTool\"},{\"attributes\":{\"callback\":null,\"column_names\":[\"x\",\"y\"],\"data\":{\"x\":{\"__ndarray__\":\"AAAAAACInUAAAAAAAIydQAAAAAAAkJ1AAAAAAACUnUAAAAAAAJidQAAAAAAAnJ1AAAAAAACgnUAAAAAAAKSdQAAAAAAAqJ1AAAAAAACsnUAAAAAAALCdQAAAAAAAtJ1AAAAAAAC4nUAAAAAAALydQAAAAAAAwJ1AAAAAAADEnUAAAAAAAMidQAAAAAAAzJ1AAAAAAADQnUAAAAAAANSdQAAAAAAA2J1AAAAAAADcnUAAAAAAAOCdQAAAAAAA5J1AAAAAAADonUAAAAAAAOydQAAAAAAA8J1AAAAAAAD0nUAAAAAAAPidQAAAAAAA/J1AAAAAAAAAnkAAAAAAAASeQAAAAAAACJ5AAAAAAAAMnkAAAAAAABCeQAAAAAAAFJ5AAAAAAAAYnkAAAAAAAByeQAAAAAAAIJ5AAAAAAAAknkAAAAAAACieQAAAAAAALJ5AAAAAAAAwnkAAAAAAADSeQAAAAAAAOJ5AAAAAAAA8nkAAAAAAAECeQAAAAAAARJ5AAAAAAABInkAAAAAAAEyeQAAAAAAAUJ5AAAAAAABUnkAAAAAAAFieQAAAAAAAXJ5AAAAAAABgnkAAAAAAAGSeQAAAAAAAaJ5AAAAAAABsnkAAAAAAAHCeQAAAAAAAdJ5AAAAAAAB4nkAAAAAAAHyeQAAAAAAAgJ5AAAAAAACEnkAAAAAAAIieQAAAAAAAjJ5AAAAAAACQnkAAAAAAAJSeQAAAAAAAmJ5AAAAAAACcnkAAAAAAAKCeQAAAAAAApJ5AAAAAAAConkAAAAAAAKyeQAAAAAAAsJ5AAAAAAAC0nkAAAAAAALieQAAAAAAAvJ5AAAAAAADAnkAAAAAAAMSeQAAAAAAAyJ5AAAAAAADMnkAAAAAAANCeQAAAAAAA1J5AAAAAAADYnkAAAAAAANyeQAAAAAAA4J5AAAAAAADknkAAAAAAAOieQAAAAAAA7J5AAAAAAADwnkAAAAAAAPSeQAAAAAAA+J5AAAAAAAD8nkAAAAAAAACfQAAAAAAABJ9AAAAAAAAIn0AAAAAAAAyfQAAAAAAAEJ9AAAAAAAAUn0AAAAAAABifQAAAAAAAHJ9AAAAAAAAgn0AAAAAAACSfQAAAAAAAKJ9AAAAAAAAsn0AAAAAAADCfQAAAAAAANJ9AAAAAAAA4n0AAAAAAADyfQAAAAAAAQJ9AAAAAAABEn0AAAAAAAEifQAAAAAAATJ9AAAAAAABQn0AAAAAAAFSfQAAAAAAAWJ9AAAAAAABcn0AAAAAAAGCfQAAAAAAAZJ9AAAAAAABon0AAAAAAAGyfQAAAAAAAcJ9AAAAAAAB0n0AAAAAAAHifQAAAAAAAfJ9AAAAAAACAn0A=\",\"dtype\":\"float64\",\"shape\":[127]},\"y\":{\"__ndarray__\":\"dct5AO2zVsAYBQiJjc1VwLnOZKRWE1XAqgsJSsWLVMCc5Sf0njdUwLGlXFXbEVTAQ2eNwzUQVMAYngPuVSRUwBlN72BuPVTAHbKCDCJKVMDoI80BejpUwNV1FMOyAVTABnKDFa2XU8ByocCy2PlSwJgKs1x+K1LA9ljq9mA1UcDy6OxbwCRQwMhe5QO1E07AlsQ0TCzsS8BWwtvvF/RJwOheDQ5OR0jAWOcgKSX5RsDKS0RcRRJGwAK4tDauj0XAoDmpeA1jRcBIboznXHRFwBYbfIOYpEXARs4jwj7RRcBo4WqlNdhFwHB4AiKkm0XAjsmcm1AFRcA/yFwcIwlEwGTw88mCpkLAJ7V6JmfoQMD2H+xUNsg9wJ65UfqrbTnA6Au+fN0ENcC4hTZYFdMwwEiYEBHQLirAYF7ZiioHJMAgku3YqdkewPCHrIIi4RjA4HhWKMnoFcBw0kN+8l0VwPCZXAHMZxbAECSnR9X/F8BAYsBEgQ8ZwDDrwFGnjxjAAHIgbzemFcAQxr3Wrn0PwGCzkb+Gbvq/4Fd/rniP9j+obC3qOoYUQAxeeTXtoiJAWEoHy6FzK0BYrog8YBUyQCoYu+pYIDZAdok07AegOUCctAocc2k8QJpEIxMzZj5AMHXaivqWP0AlLksYwQlAQEdCm5jtA0BAZIBY23WvP0AMV7sTbE4/QJJVFXrRKT9ALqKvXed/P0BMz9HnikBAQKprW3A6JUFA3qm79kFxQkCimc3uNhxEQCxr+cP3EkZAhXsTqtQ5SEBoEuumr29KQF2ql4a5kUxA45tKtl9/TkB2ejG+/A5QQJucHCjlrVBAtX/fLgEZUUAqE6atwVJRQEX56rwpY1FA/IfYLedWUUBf/eUq5D1RQEczbFh7KVFA0p+2XYIqUUAC2+xwY09RQFq1bc58olFAeC7NH/UoUkCEGKijJuJSQOybUuOxx1NAFpa+2TXOVECv3VTCmOZVQONYfnK8/1ZAcOsQ/WwIWECmJYTKUfFYQJBU2AmprllAa/t6bJs5WkDPCS7UAZFaQIihyaKGuVpAaK9F6R69WkBoobSt6qlaQOQ1W8KckFpAbRkdQJiCWkBkHjsb+o9aQJRDU4jHxVpAn6vOv3UsW0B7v4CX9cZbQN5+qoheklxATuzeuUKGXUBqc2WQopVeQG738UpksF9AsBcaoJJiYEBEqsAemOFgQOjsiSgwTmFAKf+RwFyjYUCWaMqmxN5hQCY1wDX3AGJACLs/NFwNYkD3AWhu0QliQIi7nDEB/mFAY6CuzYTyYUDGAZQb7O9hQMBPnBXG/WFAPdIqbsYhYkCq3TLMIF9iQLMafEYstmJAic0aj1kkY0A=\",\"dtype\":\"float64\",\"shape\":[127]}}},\"id\":\"9895134b-4bf3-4977-89b7-bb31f6955614\",\"type\":\"ColumnDataSource\"},{\"attributes\":{\"fill_alpha\":{\"value\":0.1},\"fill_color\":{\"value\":\"#1f77b4\"},\"line_alpha\":{\"value\":0.1},\"line_color\":{\"value\":\"#1f77b4\"},\"x\":{\"field\":\"x\"},\"y\":{\"field\":\"y\"}},\"id\":\"57ffb66a-3a5e-4fa9-b853-bddb11aa1b26\",\"type\":\"Circle\"},{\"attributes\":{\"callback\":null,\"column_names\":[\"x\",\"y\"],\"data\":{\"x\":[1865,1866,1867,1868,1869,1870,1871,1872,1873,1874,1875,1876,1877,1878,1879,1880,1881,1882,1883,1884,1885,1886,1887,1888,1889,1890,1891,1892,1893,1894,1895,1896,1897,1898,1899,1900,1901,1902,1903,1904,1905,1906,1907,1908,1909,1910,1911,1912,1913,1914,1915,1916,1917,1918,1919,1920,1921,1922,1923,1924,1925,1926,1927,1928,1929,1930,1931,1932,1933,1934,1935,1936,1937,1938,1939,1940,1941,1942,1943,1944,1945,1946,1947,1948,1949,1950,1951,1952,1953,1954,1955,1956,1957,1958,1959,1960,1961,1962,1963,1964,1965,1966,1967,1968,1969,1970,1971,1972,1973,1974,1975,1976,1977,1978,1979,1980,1981,1982,1983,1984,1985,1986,1987,1988,1989,1990,1991,1992,1993,1994,1995,1996,1997,1998,1999,2000,2001,2002,2003,2004,2005,2006,2007,2008,2009,2010,2011,2012,2013,2014,2015,2016],\"y\":{\"__ndarray__\":\"AAAAAACAccAAAAAAAEBiwAAAAAAAIGnAAAAAAABAacAAAAAAAMBowAAAAAAA4G/AAAAAAABgcMAAAAAAAIBpwAAAAAAAQGjAAAAAAABAasAAAAAAAABwwAAAAAAAAGjAAAAAAAAAW8AAAAAAAGBgwAAAAAAAwGfAAAAAAADgY8AAAAAAAABqwAAAAAAAQGbAAAAAAACAZ8AAAAAAAMBlwAAAAAAAQGjAAAAAAADgZsAAAAAAAEBswAAAAAAAoGvAAAAAAACgZsAAAAAAAOBnwAAAAAAAoGPAAAAAAACAY8AAAAAAAABhwAAAAAAAQGHAAAAAAABAZMAAAAAAAOBmwAAAAAAAoGXAAAAAAABgYMAAAAAAAIBgwAAAAAAA4GXAAAAAAADga8AAAAAAAEBwwAAAAAAAoGTAAAAAAACgYMAAAAAAAGBlwAAAAAAAIGDAAAAAAACgY8AAAAAAAABmwAAAAAAAIGDAAAAAAAAAXMAAAAAAAMBhwAAAAAAAgFbAAAAAAACAYMAAAAAAAABYwAAAAAAAwF/AAAAAAACAWMAAAAAAAABjwAAAAAAA4GDAAAAAAAAgYcAAAAAAAGBiwAAAAAAA4GDAAAAAAACAYsAAAAAAAEBfwAAAAAAAAGLAAAAAAACAWcAAAAAAAKBgwAAAAAAAoGDAAAAAAACAXcAAAAAAAABjwAAAAAAAQFnAAAAAAAAAWMAAAAAAAEBbwAAAAAAAwGTAAAAAAAAAZMAAAAAAAEBawAAAAAAAQFfAAAAAAAAAW8AAAAAAAAA3wAAAAAAAIGHAAAAAAACAXcAAAAAAAKBjwAAAAAAA4GHAAAAAAAAAV8AAAAAAAABWwAAAAAAAgFTAAAAAAABAWMAAAAAAAOBmwAAAAAAAAFnAAAAAAACAT8AAAAAAAIBRwAAAAAAAgFfAAAAAAACAU8AAAAAAAMBawAAAAAAAQFDAAAAAAAAATcAAAAAAAABhwAAAAAAAwFzAAAAAAACAU8AAAAAAAEBdwAAAAAAAQFXAAAAAAACAQMAAAAAAAIBVwAAAAAAAYGDAAAAAAABAVsAAAAAAAAA9wAAAAAAAAAjAAAAAAAAAM0AAAAAAAABOwAAAAAAAgFbAAAAAAABAUMAAAAAAAABewAAAAAAAgGDAAAAAAAAAVMAAAAAAAIBUwAAAAAAAAFvAAAAAAABAXsAAAAAAAABFwAAAAAAAgE/AAAAAAACATMAAAAAAAIBFwAAAAAAAABTAAAAAAAAAPcAAAAAAAAAqQAAAAAAAAETAAAAAAAAAQ8AAAAAAAABDwAAAAAAAgEzAAAAAAAAAPkAAAAAAAAAywAAAAAAAADxAAAAAAABAU8AAAAAAAAA9wAAAAAAAgETAAAAAAAAAFEAAAAAAAAAAAAAAAAAAgFvAAAAAAAAAT8AAAAAAAAAyQAAAAAAAACpAAAAAAAAAJkAAAAAAAAAkQAAAAAAAAADAAAAAAAAAKMAAAAAAAAA0QAAAAAAAABzAAAAAAAAAFMAAAAAAAABFQAAAAAAAADFAAAAAAAAAMcAAAAAAAAA+wAAAAAAAADFAAAAAAAAAAEAAAAAAAAA7wAAAAAAAABhAAAAAAAAAQkAAAAAAAAAxQA==\",\"dtype\":\"float64\",\"shape\":[152]}}},\"id\":\"0668de5e-cbae-42f5-8e7f-8e0ebf2b9cb4\",\"type\":\"ColumnDataSource\"},{\"attributes\":{\"data_source\":{\"id\":\"b6c058cf-eab5-4264-83e5-d03b81fe80c0\",\"type\":\"ColumnDataSource\"},\"glyph\":{\"id\":\"437c7727-0478-4a5f-b863-153aa4e2891a\",\"type\":\"Circle\"},\"hover_glyph\":null,\"muted_glyph\":null,\"nonselection_glyph\":{\"id\":\"57ffb66a-3a5e-4fa9-b853-bddb11aa1b26\",\"type\":\"Circle\"},\"selection_glyph\":null,\"view\":{\"id\":\"cd96d815-b4b6-49b7-992d-20eb4a4e44c0\",\"type\":\"CDSView\"}},\"id\":\"1ae41aee-01d7-48a9-bcac-d87a5d980d7a\",\"type\":\"GlyphRenderer\"},{\"attributes\":{\"callback\":null,\"column_names\":[\"x\",\"y\"],\"data\":{\"x\":{\"__ndarray__\":\"AAAAAACInUAAAAAAAIydQAAAAAAAkJ1AAAAAAACUnUAAAAAAAJidQAAAAAAAnJ1AAAAAAACgnUAAAAAAAKSdQAAAAAAAqJ1AAAAAAACsnUAAAAAAALCdQAAAAAAAtJ1AAAAAAAC4nUAAAAAAALydQAAAAAAAwJ1AAAAAAADEnUAAAAAAAMidQAAAAAAAzJ1AAAAAAADQnUAAAAAAANSdQAAAAAAA2J1AAAAAAADcnUAAAAAAAOCdQAAAAAAA5J1AAAAAAADonUAAAAAAAOydQAAAAAAA8J1AAAAAAAD0nUAAAAAAAPidQAAAAAAA/J1AAAAAAAAAnkAAAAAAAASeQAAAAAAACJ5AAAAAAAAMnkAAAAAAABCeQAAAAAAAFJ5AAAAAAAAYnkAAAAAAAByeQAAAAAAAIJ5AAAAAAAAknkAAAAAAACieQAAAAAAALJ5AAAAAAAAwnkAAAAAAADSeQAAAAAAAOJ5AAAAAAAA8nkAAAAAAAECeQAAAAAAARJ5AAAAAAABInkAAAAAAAEyeQAAAAAAAUJ5AAAAAAABUnkAAAAAAAFieQAAAAAAAXJ5AAAAAAABgnkAAAAAAAGSeQAAAAAAAaJ5AAAAAAABsnkAAAAAAAHCeQAAAAAAAdJ5AAAAAAAB4nkAAAAAAAHyeQAAAAAAAgJ5AAAAAAACEnkAAAAAAAIieQAAAAAAAjJ5AAAAAAACQnkAAAAAAAJSeQAAAAAAAmJ5AAAAAAACcnkAAAAAAAKCeQAAAAAAApJ5AAAAAAAConkAAAAAAAKyeQAAAAAAAsJ5AAAAAAAC0nkAAAAAAALieQAAAAAAAvJ5AAAAAAADAnkAAAAAAAMSeQAAAAAAAyJ5AAAAAAADMnkAAAAAAANCeQAAAAAAA1J5AAAAAAADYnkAAAAAAANyeQAAAAAAA4J5AAAAAAADknkAAAAAAAOieQAAAAAAA7J5AAAAAAADwnkAAAAAAAPSeQAAAAAAA+J5AAAAAAAD8nkAAAAAAAACfQAAAAAAABJ9AAAAAAAAIn0AAAAAAAAyfQAAAAAAAEJ9AAAAAAAAUn0AAAAAAABifQAAAAAAAHJ9AAAAAAAAgn0AAAAAAACSfQAAAAAAAKJ9AAAAAAAAsn0AAAAAAADCfQAAAAAAANJ9AAAAAAAA4n0AAAAAAADyfQAAAAAAAQJ9AAAAAAABEn0AAAAAAAEifQAAAAAAATJ9AAAAAAABQn0AAAAAAAFSfQAAAAAAAWJ9AAAAAAABcn0AAAAAAAGCfQAAAAAAAZJ9AAAAAAABon0AAAAAAAGyfQAAAAAAAcJ9AAAAAAAB0n0AAAAAAAHifQAAAAAAAfJ9AAAAAAACAn0A=\",\"dtype\":\"float64\",\"shape\":[127]},\"y\":{\"__ndarray__\":\"5gN0jOfgXcBTQN82hbhcwGWlyWe86FvAfjJCHdt6W8BDGPRHIm1bwJ7YbUH4slvAtqXF5FQ2XMCdt6YwPtpcwLXtlJYNfl3AkKxvdB8BXsDsInw5gkZewFUCyME6OF7AZr50gL/JXcDslyLHYvlcwBhRCkaD0FvAgOxMS31iWsD2YipRe8pYwAfH3wBlKFfAEQFGRUWdVcDIaEZ9j0dUwOKoNJSvP1PA1fLaUUiVUsCULdGJb01SwOVBzikbYlLAJAoPvc/CUsD08hKyfFZTwPSTRqBQ/lPAUk38zDOZVMBS7y1rhAdVwDJSLqaoLlXAfLcRSw/8VMCocH1NSGdUwFKylJj4clPAgC6upo0sUsCdKbJ/uapQwKDk+9PFFU7Aou83qKfbSsAO1Ri6C+hHwDrob9rvc0XAdPVnmO2pQ8AugJ5Ja6FCwBx09uD3W0LAI/yJ5h3FQsC1F/elsrRDwPHmN9he80TApjVnxt1ARsAMELBkPltHwIlBWcZUBkjAkbLL1oQSSMD4hU4VImJHwJxaLArJ7EXAUBYYrFHAQ8CgdYVZP/9AwERISBq3uTvAXTXPvtcuNcAc7LJzqsQtwPLn0TY0oyLAgLoNgnuTE8CgfiobZjb+vwCRWxOq3Nq/AOWnGKa2279g+J0CMkr7vyDmAOlt+w7ACEVd8wngGcDKE4bfifUhwMpeAmkezSXAlFUerYuWJ8AkcAWI/qwmwMauLGWiuSLAhDVEnNx6F8CQfR5BSIjwv6zGgjNxShNAIJSPCRqEJkCRaiS5ccQxQE53F9RK1jdAdFwB3swAPUCVldWYpHNAQF2xpRHSqEFAbuolJ1UZQkC2BD8Ex9RBQJWaKvYw/0BALPTOOvaZP0B064UoBPo8QM5edPP8ojpAMWtm0hYROUDKkkW5R6o4QJrgARXDsjlAd2uhDkdFPED3MAjkCyhAQITTP+Z/y0JABgxs7g3dRUA+UnPbViBJQB4yUYteU0xArzl+j/41T0B0SGnukchQQJXSTB2DnlFA6OpR59ISUkDeNneChiZSQIwr2cuK5VFAwornr1tlUUD1eitcl8JQQM8Cd03DHVBAP1vlI0EvT0BsOcqj8ppOQJ6ztOikq05AfVcf0MF7T0D5usEDDIhQQAOJSxGoq1FASOqb2vAVU0BWS5PwJ6xUQCQ/HXaZTlZAlCrTNDDcV0CU1ASUMTZZQHYqg4q1Q1pAXu4PUXb0WkD9UQaZpkJbQPbY6DOZM1tAoK5FPyfXWkDSJfwx5kVaQDZcy3thnllAHSRE5qcBWUBYvWlXkI9YQE8rsMghY1hACe/AS4aPWECRzVJE4R1ZQOC1+lhHDFpAMyI96fVNW0A=\",\"dtype\":\"float64\",\"shape\":[127]}}},\"id\":\"46fbab71-e7ae-4b88-90e5-9b74e2b6cf0f\",\"type\":\"ColumnDataSource\"},{\"attributes\":{\"callback\":null,\"column_names\":[\"x\",\"y\"],\"data\":{\"x\":[1865,1866,1867,1868,1869,1870,1871,1872,1873,1874,1875,1876,1877,1878,1879,1880,1881,1882,1883,1884,1885,1886,1887,1888,1889,1890,1891,1892,1893,1894,1895,1896,1897,1898,1899,1900,1901,1902,1903,1904,1905,1906,1907,1908,1909,1910,1911,1912,1913,1914,1915,1916,1917,1918,1919,1920,1921,1922,1923,1924,1925,1926,1927,1928,1929,1930,1931,1932,1933,1934,1935,1936,1937,1938,1939,1940,1941,1942,1943,1944,1945,1946,1947,1948,1949,1950,1951,1952,1953,1954,1955,1956,1957,1958,1959,1960,1961,1962,1963,1964,1965,1966,1967,1968,1969,1970,1971,1972,1973,1974,1975,1976,1977,1978,1979,1980,1981,1982,1983,1984,1985,1986,1987,1988,1989,1990,1991,1992,1993,1994,1995,1996,1997,1998,1999,2000,2001,2002,2003,2004,2005,2006,2007,2008,2009,2010,2011,2012,2013,2014,2015,2016],\"y\":{\"__ndarray__\":\"AAAAAABAZcAAAAAAAEBTwAAAAAAAAEvAAAAAAAAAVsAAAAAAAMBRwAAAAAAAoGTAAAAAAAAgY8AAAAAAAEBdwAAAAAAAgFXAAAAAAACAUsAAAAAAACBkwAAAAAAAQGDAAAAAAAAAMUAAAAAAAIBMwAAAAAAAwGHAAAAAAABAVcAAAAAAAOBiwAAAAAAAgF7AAAAAAABAZcAAAAAAACBjwAAAAAAAYGLAAAAAAADAZMAAAAAAAKBgwAAAAAAAoGTAAAAAAAAgYMAAAAAAAOBiwAAAAAAAwF/AAAAAAADAX8AAAAAAAMBUwAAAAAAAAF3AAAAAAAAAYMAAAAAAAIBewAAAAAAAgF7AAAAAAABAUMAAAAAAAMBWwAAAAAAAAFzAAAAAAABAYMAAAAAAACBkwAAAAAAAAELAAAAAAADAYMAAAAAAAIBowAAAAAAAwFzAAAAAAABAYMAAAAAAAMBewAAAAAAAAFPAAAAAAACAUMAAAAAAAABLwAAAAAAAACxAAAAAAACARsAAAAAAAABEwAAAAAAAAFTAAAAAAAAAIsAAAAAAAEBSwAAAAAAAwFXAAAAAAAAAXMAAAAAAAEBVwAAAAAAAADHAAAAAAAAAU8AAAAAAAABKwAAAAAAAwFXAAAAAAAAAFMAAAAAAAAAxwAAAAAAAgEXAAAAAAAAAPsAAAAAAAEBRwAAAAAAAgEfAAAAAAAAAMcAAAAAAAABBwAAAAAAAwFPAAAAAAACATMAAAAAAAAAswAAAAAAAAC7AAAAAAAAASsAAAAAAAAAUwAAAAAAAAFHAAAAAAACAR8AAAAAAAMBYwAAAAAAAgFPAAAAAAAAAJMAAAAAAAAA1QAAAAAAAADZAAAAAAAAAFMAAAAAAAIBawAAAAAAAACTAAAAAAAAAKkAAAAAAAAA1wAAAAAAAgEfAAAAAAAAAAEAAAAAAAAA7wAAAAAAAADPAAAAAAAAAEEAAAAAAAABEwAAAAAAAADTAAAAAAAAAPsAAAAAAAIBPwAAAAAAAAC7AAAAAAACAVUAAAAAAAAAwQAAAAAAAAD3AAAAAAAAALMAAAAAAAAAAAAAAAAAAAD5AAAAAAADAWUAAAAAAAIBCQAAAAAAAAChAAAAAAAAAT0AAAAAAAAA6QAAAAAAAgEzAAAAAAACAQUAAAAAAAIBBQAAAAAAAABxAAAAAAAAANsAAAAAAAAAuQAAAAAAAAC5AAAAAAAAA8D8AAAAAAIBGQAAAAAAAwFpAAAAAAADAU0AAAAAAAABgQAAAAAAAAD9AAAAAAACAR0AAAAAAAAAzQAAAAAAAADdAAAAAAADAW0AAAAAAAMBSQAAAAAAAAF9AAAAAAAAAIkAAAAAAAIBMQAAAAAAAAEtAAAAAAABAV0AAAAAAAIBaQAAAAAAAgELAAAAAAACAQ0AAAAAAAGBgQAAAAAAAwF5AAAAAAABAXUAAAAAAAIBfQAAAAAAAgFpAAAAAAACAVUAAAAAAAABdQAAAAAAAQFRAAAAAAAAAVEAAAAAAAGBjQAAAAAAAQF1AAAAAAABAVEAAAAAAAMBQQAAAAAAAgF5AAAAAAACAWkAAAAAAAIBUQAAAAAAAgF9AAAAAAABgZkAAAAAAAABiQA==\",\"dtype\":\"float64\",\"shape\":[152]}}},\"id\":\"96c1747e-790c-42e1-abf1-7cfd99756343\",\"type\":\"ColumnDataSource\"}],\"root_ids\":[\"69f7e434-376a-4457-be30-f2db1473b22b\"]},\"title\":\"Bokeh Application\",\"version\":\"0.12.10\"}};\n",
       "    var render_items = [{\"docid\":\"2768150d-9c59-4924-b06f-2c888dca018e\",\"elementid\":\"6c805a38-d71b-404a-819b-c0ffd6489f0e\",\"modelid\":\"69f7e434-376a-4457-be30-f2db1473b22b\"}];\n",
       "\n",
       "    root.Bokeh.embed.embed_items(docs_json, render_items);\n",
       "  }\n",
       "\n",
       "  if (root.Bokeh !== undefined) {\n",
       "    embed_document(root);\n",
       "  } else {\n",
       "    var attempts = 0;\n",
       "    var timer = setInterval(function(root) {\n",
       "      if (root.Bokeh !== undefined) {\n",
       "        embed_document(root);\n",
       "        clearInterval(timer);\n",
       "      }\n",
       "      attempts++;\n",
       "      if (attempts > 100) {\n",
       "        console.log(\"Bokeh: ERROR: Unable to embed document because BokehJS library is missing\")\n",
       "        clearInterval(timer);\n",
       "      }\n",
       "    }, 10, root)\n",
       "  }\n",
       "})(window);"
      ],
      "application/vnd.bokehjs_exec.v0+json": ""
     },
     "metadata": {
      "application/vnd.bokehjs_exec.v0+json": {
       "id": "69f7e434-376a-4457-be30-f2db1473b22b"
      }
     },
     "output_type": "display_data"
    }
   ],
   "source": [
    "p = bokeh.plotting.figure(x_range=(1860, 2020), plot_width=900, plot_height=400)\n",
    "colors = bokeh.palettes.Accent6\n",
    "\n",
    "for color, (name, station) in zip(colors, selected_stations.iterrows()):\n",
    "    df = station[default_dataset_name]\n",
    "    df = df[df.year >= 1890]\n",
    "    fit, names = linear_model(df, with_season=False)\n",
    "    smry = fit.summary(xname=names, title=station['name'])\n",
    "    # somehow a formatted name is not showing up\n",
    "    print(station['name'])\n",
    "\n",
    "    IPython.display.display(smry.tables[1])\n",
    "    p.circle(station[default_dataset_name].year, station[default_dataset_name].height, alpha=0.1, color=color)\n",
    "# loop again so we have the lines on top\n",
    "for color, (name, station) in zip(colors, selected_stations.iterrows()):\n",
    "    df = station[default_dataset_name][station[default_dataset_name].year >= 1890]\n",
    "    # ignore wind in the plots \n",
    "    fit, names = linear_model(df,with_season=False)\n",
    "    p.line(\n",
    "        fit.model.exog[:, 1] + 1970, \n",
    "        fit.predict(), \n",
    "        line_width=3, \n",
    "        alpha=0.8,\n",
    "        legend=station['name'],\n",
    "        color=color\n",
    "    )\n",
    "p.legend.click_policy = \"hide\"\n",
    "\n",
    "bokeh.io.show(p)\n"
   ]
  },
  {
   "cell_type": "markdown",
   "metadata": {},
   "source": [
    "Is there a sea-level acceleration?\n",
    "==================\n",
    "\n",
    "The following section computes two common models to detect sea-level acceleration.  The broken linear model expects that sea level has been rising faster since 1990. The quadratic model assumes that the sea-level is accelerating continuously. Both models are compared to the linear model. The extra terms are tested for significance and the AIC is computed to see which model is \"better\". "
   ]
  },
  {
   "cell_type": "code",
   "execution_count": 22,
   "metadata": {},
   "outputs": [],
   "source": [
    "# define the statistical model\n",
    "def broken_linear_model(df):\n",
    "    \"\"\"This model fits the sea-level rise has started to rise faster in 1993.\"\"\"\n",
    "    y = df['height']\n",
    "    X = np.c_[\n",
    "        df['year']-1970, \n",
    "        (df['year'] > 1993) * (df['year'] - 1993),\n",
    "        np.cos(2*np.pi*(df['year']-1970)/18.613),\n",
    "        np.sin(2*np.pi*(df['year']-1970)/18.613)\n",
    "    ]\n",
    "    X = sm.add_constant(X)\n",
    "    model_broken_linear = sm.OLS(y, X)\n",
    "    fit = model_broken_linear.fit()\n",
    "    return fit\n",
    "broken_linear_fit = broken_linear_model(mean_df)"
   ]
  },
  {
   "cell_type": "code",
   "execution_count": 23,
   "metadata": {},
   "outputs": [],
   "source": [
    "# define the statistical model\n",
    "def quadratic_model(df):\n",
    "    \"\"\"This model computes a parabolic linear fit. This corresponds to the hypothesis that sea-level is accelerating.\"\"\"\n",
    "    y = df['height']\n",
    "    X = np.c_[\n",
    "        df['year']-1970, \n",
    "        (df['year'] - 1970) * (df['year'] - 1970),\n",
    "        np.cos(2*np.pi*(df['year']-1970)/18.613),\n",
    "        np.sin(2*np.pi*(df['year']-1970)/18.613)\n",
    "    ]\n",
    "    X = sm.add_constant(X)\n",
    "    model_quadratic = sm.OLS(y, X)\n",
    "    fit = model_quadratic.fit()\n",
    "    return fit\n",
    "quadratic_fit = quadratic_model(mean_df)"
   ]
  },
  {
   "cell_type": "code",
   "execution_count": 24,
   "metadata": {},
   "outputs": [
    {
     "data": {
      "text/html": [
       "<table class=\"simpletable\">\n",
       "<caption>OLS Regression Results</caption>\n",
       "<tr>\n",
       "  <th>Dep. Variable:</th>    <td>Sea-surface height</td> <th>  R-squared:         </th> <td>   0.772</td>\n",
       "</tr>\n",
       "<tr>\n",
       "  <th>Model:</th>                    <td>OLS</td>        <th>  Adj. R-squared:    </th> <td>   0.765</td>\n",
       "</tr>\n",
       "<tr>\n",
       "  <th>Method:</th>              <td>Least Squares</td>   <th>  F-statistic:       </th> <td>   103.3</td>\n",
       "</tr>\n",
       "<tr>\n",
       "  <th>Date:</th>              <td>Sun, 15 Apr 2018</td>  <th>  Prob (F-statistic):</th> <td>3.22e-38</td>\n",
       "</tr>\n",
       "<tr>\n",
       "  <th>Time:</th>                  <td>14:16:42</td>      <th>  Log-Likelihood:    </th> <td> -627.25</td>\n",
       "</tr>\n",
       "<tr>\n",
       "  <th>No. Observations:</th>       <td>   127</td>       <th>  AIC:               </th> <td>   1265.</td>\n",
       "</tr>\n",
       "<tr>\n",
       "  <th>Df Residuals:</th>           <td>   122</td>       <th>  BIC:               </th> <td>   1279.</td>\n",
       "</tr>\n",
       "<tr>\n",
       "  <th>Df Model:</th>               <td>     4</td>       <th>                     </th>     <td> </td>   \n",
       "</tr>\n",
       "<tr>\n",
       "  <th>Covariance Type:</th>       <td>nonrobust</td>     <th>                     </th>     <td> </td>   \n",
       "</tr>\n",
       "</table>\n",
       "<table class=\"simpletable\">\n",
       "<tr>\n",
       "           <td></td>             <th>coef</th>     <th>std err</th>      <th>t</th>      <th>P>|t|</th>  <th>[0.025</th>    <th>0.975]</th>  \n",
       "</tr>\n",
       "<tr>\n",
       "  <th>Constant</th>           <td>    7.5307</td> <td>    4.282</td> <td>    1.759</td> <td> 0.081</td> <td>   -0.945</td> <td>   16.007</td>\n",
       "</tr>\n",
       "<tr>\n",
       "  <th>Trend</th>              <td>    1.5988</td> <td>    0.105</td> <td>   15.177</td> <td> 0.000</td> <td>    1.390</td> <td>    1.807</td>\n",
       "</tr>\n",
       "<tr>\n",
       "  <th>Trend(year > 1993)</th> <td>    1.1184</td> <td>    0.715</td> <td>    1.564</td> <td> 0.120</td> <td>   -0.297</td> <td>    2.534</td>\n",
       "</tr>\n",
       "<tr>\n",
       "  <th>Nodal U</th>            <td>    5.3365</td> <td>    4.356</td> <td>    1.225</td> <td> 0.223</td> <td>   -3.286</td> <td>   13.959</td>\n",
       "</tr>\n",
       "<tr>\n",
       "  <th>Nodal V</th>            <td>  -10.7805</td> <td>    4.337</td> <td>   -2.486</td> <td> 0.014</td> <td>  -19.366</td> <td>   -2.195</td>\n",
       "</tr>\n",
       "</table>\n",
       "<table class=\"simpletable\">\n",
       "<tr>\n",
       "  <th>Omnibus:</th>       <td> 1.538</td> <th>  Durbin-Watson:     </th> <td>   1.891</td>\n",
       "</tr>\n",
       "<tr>\n",
       "  <th>Prob(Omnibus):</th> <td> 0.464</td> <th>  Jarque-Bera (JB):  </th> <td>   1.068</td>\n",
       "</tr>\n",
       "<tr>\n",
       "  <th>Skew:</th>          <td>-0.172</td> <th>  Prob(JB):          </th> <td>   0.586</td>\n",
       "</tr>\n",
       "<tr>\n",
       "  <th>Kurtosis:</th>      <td> 3.289</td> <th>  Cond. No.          </th> <td>    58.0</td>\n",
       "</tr>\n",
       "</table>"
      ],
      "text/plain": [
       "<class 'statsmodels.iolib.summary.Summary'>\n",
       "\"\"\"\n",
       "                            OLS Regression Results                            \n",
       "==============================================================================\n",
       "Dep. Variable:     Sea-surface height   R-squared:                       0.772\n",
       "Model:                            OLS   Adj. R-squared:                  0.765\n",
       "Method:                 Least Squares   F-statistic:                     103.3\n",
       "Date:                Sun, 15 Apr 2018   Prob (F-statistic):           3.22e-38\n",
       "Time:                        14:16:42   Log-Likelihood:                -627.25\n",
       "No. Observations:                 127   AIC:                             1265.\n",
       "Df Residuals:                     122   BIC:                             1279.\n",
       "Df Model:                           4                                         \n",
       "Covariance Type:            nonrobust                                         \n",
       "======================================================================================\n",
       "                         coef    std err          t      P>|t|      [0.025      0.975]\n",
       "--------------------------------------------------------------------------------------\n",
       "Constant               7.5307      4.282      1.759      0.081      -0.945      16.007\n",
       "Trend                  1.5988      0.105     15.177      0.000       1.390       1.807\n",
       "Trend(year > 1993)     1.1184      0.715      1.564      0.120      -0.297       2.534\n",
       "Nodal U                5.3365      4.356      1.225      0.223      -3.286      13.959\n",
       "Nodal V              -10.7805      4.337     -2.486      0.014     -19.366      -2.195\n",
       "==============================================================================\n",
       "Omnibus:                        1.538   Durbin-Watson:                   1.891\n",
       "Prob(Omnibus):                  0.464   Jarque-Bera (JB):                1.068\n",
       "Skew:                          -0.172   Prob(JB):                        0.586\n",
       "Kurtosis:                       3.289   Cond. No.                         58.0\n",
       "==============================================================================\n",
       "\n",
       "Warnings:\n",
       "[1] Standard Errors assume that the covariance matrix of the errors is correctly specified.\n",
       "\"\"\""
      ]
     },
     "execution_count": 24,
     "metadata": {},
     "output_type": "execute_result"
    }
   ],
   "source": [
    "# summary of the broken linear model\n",
    "broken_linear_fit.summary(yname='Sea-surface height', xname=['Constant', 'Trend', 'Trend(year > 1993)', 'Nodal U', 'Nodal V'])\n"
   ]
  },
  {
   "cell_type": "code",
   "execution_count": 25,
   "metadata": {},
   "outputs": [
    {
     "data": {
      "text/html": [
       "<table class=\"simpletable\">\n",
       "<caption>OLS Regression Results</caption>\n",
       "<tr>\n",
       "  <th>Dep. Variable:</th>    <td>Sea-surface height</td> <th>  R-squared:         </th> <td>   0.768</td>\n",
       "</tr>\n",
       "<tr>\n",
       "  <th>Model:</th>                    <td>OLS</td>        <th>  Adj. R-squared:    </th> <td>   0.761</td>\n",
       "</tr>\n",
       "<tr>\n",
       "  <th>Method:</th>              <td>Least Squares</td>   <th>  F-statistic:       </th> <td>   101.0</td>\n",
       "</tr>\n",
       "<tr>\n",
       "  <th>Date:</th>              <td>Sun, 15 Apr 2018</td>  <th>  Prob (F-statistic):</th> <td>9.10e-38</td>\n",
       "</tr>\n",
       "<tr>\n",
       "  <th>Time:</th>                  <td>14:16:42</td>      <th>  Log-Likelihood:    </th> <td> -628.34</td>\n",
       "</tr>\n",
       "<tr>\n",
       "  <th>No. Observations:</th>       <td>   127</td>       <th>  AIC:               </th> <td>   1267.</td>\n",
       "</tr>\n",
       "<tr>\n",
       "  <th>Df Residuals:</th>           <td>   122</td>       <th>  BIC:               </th> <td>   1281.</td>\n",
       "</tr>\n",
       "<tr>\n",
       "  <th>Df Model:</th>               <td>     4</td>       <th>                     </th>     <td> </td>   \n",
       "</tr>\n",
       "<tr>\n",
       "  <th>Covariance Type:</th>       <td>nonrobust</td>     <th>                     </th>     <td> </td>   \n",
       "</tr>\n",
       "</table>\n",
       "<table class=\"simpletable\">\n",
       "<tr>\n",
       "      <td></td>        <th>coef</th>     <th>std err</th>      <th>t</th>      <th>P>|t|</th>  <th>[0.025</th>    <th>0.975]</th>  \n",
       "</tr>\n",
       "<tr>\n",
       "  <th>Constant</th> <td>   10.0778</td> <td>    4.350</td> <td>    2.317</td> <td> 0.022</td> <td>    1.467</td> <td>   18.689</td>\n",
       "</tr>\n",
       "<tr>\n",
       "  <th>Trend</th>    <td>    1.7494</td> <td>    0.122</td> <td>   14.381</td> <td> 0.000</td> <td>    1.509</td> <td>    1.990</td>\n",
       "</tr>\n",
       "<tr>\n",
       "  <th>Trend**2</th> <td>    0.0015</td> <td>    0.003</td> <td>    0.581</td> <td> 0.563</td> <td>   -0.004</td> <td>    0.007</td>\n",
       "</tr>\n",
       "<tr>\n",
       "  <th>Nodal U</th>  <td>    5.2258</td> <td>    4.399</td> <td>    1.188</td> <td> 0.237</td> <td>   -3.483</td> <td>   13.935</td>\n",
       "</tr>\n",
       "<tr>\n",
       "  <th>Nodal V</th>  <td>  -10.2945</td> <td>    4.361</td> <td>   -2.361</td> <td> 0.020</td> <td>  -18.928</td> <td>   -1.661</td>\n",
       "</tr>\n",
       "</table>\n",
       "<table class=\"simpletable\">\n",
       "<tr>\n",
       "  <th>Omnibus:</th>       <td> 2.391</td> <th>  Durbin-Watson:     </th> <td>   1.860</td>\n",
       "</tr>\n",
       "<tr>\n",
       "  <th>Prob(Omnibus):</th> <td> 0.303</td> <th>  Jarque-Bera (JB):  </th> <td>   1.860</td>\n",
       "</tr>\n",
       "<tr>\n",
       "  <th>Skew:</th>          <td>-0.249</td> <th>  Prob(JB):          </th> <td>   0.395</td>\n",
       "</tr>\n",
       "<tr>\n",
       "  <th>Kurtosis:</th>      <td> 3.322</td> <th>  Cond. No.          </th> <td>3.43e+03</td>\n",
       "</tr>\n",
       "</table>"
      ],
      "text/plain": [
       "<class 'statsmodels.iolib.summary.Summary'>\n",
       "\"\"\"\n",
       "                            OLS Regression Results                            \n",
       "==============================================================================\n",
       "Dep. Variable:     Sea-surface height   R-squared:                       0.768\n",
       "Model:                            OLS   Adj. R-squared:                  0.761\n",
       "Method:                 Least Squares   F-statistic:                     101.0\n",
       "Date:                Sun, 15 Apr 2018   Prob (F-statistic):           9.10e-38\n",
       "Time:                        14:16:42   Log-Likelihood:                -628.34\n",
       "No. Observations:                 127   AIC:                             1267.\n",
       "Df Residuals:                     122   BIC:                             1281.\n",
       "Df Model:                           4                                         \n",
       "Covariance Type:            nonrobust                                         \n",
       "==============================================================================\n",
       "                 coef    std err          t      P>|t|      [0.025      0.975]\n",
       "------------------------------------------------------------------------------\n",
       "Constant      10.0778      4.350      2.317      0.022       1.467      18.689\n",
       "Trend          1.7494      0.122     14.381      0.000       1.509       1.990\n",
       "Trend**2       0.0015      0.003      0.581      0.563      -0.004       0.007\n",
       "Nodal U        5.2258      4.399      1.188      0.237      -3.483      13.935\n",
       "Nodal V      -10.2945      4.361     -2.361      0.020     -18.928      -1.661\n",
       "==============================================================================\n",
       "Omnibus:                        2.391   Durbin-Watson:                   1.860\n",
       "Prob(Omnibus):                  0.303   Jarque-Bera (JB):                1.860\n",
       "Skew:                          -0.249   Prob(JB):                        0.395\n",
       "Kurtosis:                       3.322   Cond. No.                     3.43e+03\n",
       "==============================================================================\n",
       "\n",
       "Warnings:\n",
       "[1] Standard Errors assume that the covariance matrix of the errors is correctly specified.\n",
       "[2] The condition number is large, 3.43e+03. This might indicate that there are\n",
       "strong multicollinearity or other numerical problems.\n",
       "\"\"\""
      ]
     },
     "execution_count": 25,
     "metadata": {},
     "output_type": "execute_result"
    }
   ],
   "source": [
    "# summary of the quadratic model\n",
    "quadratic_fit.summary(yname='Sea-surface height', xname=['Constant', 'Trend', 'Trend**2', 'Nodal U', 'Nodal V'])\n"
   ]
  },
  {
   "cell_type": "code",
   "execution_count": 26,
   "metadata": {
    "scrolled": true
   },
   "outputs": [],
   "source": [
    "def model_compare_plot():\n",
    "    fig = bokeh.plotting.figure(x_range=(1860, 2020), plot_width=900, plot_height=400)\n",
    "    fig.circle(mean_df.year, mean_df.height, line_width=3, legend='Mean', color='black', alpha=0.5)\n",
    "    fig.line(mean_df.year, linear_fit.predict(), line_width=3, legend='Current')\n",
    "    fig.line(mean_df.year, broken_linear_fit.predict(), line_width=3, color='#33bb33', legend='Broken')\n",
    "    fig.line(mean_df.year, quadratic_fit.predict(), line_width=3, color='#3333bb', legend='Quadratic')\n",
    "\n",
    "    fig.legend.location = \"top_left\"\n",
    "    fig.yaxis.axis_label = 'waterlevel [mm] above N.A.P.'\n",
    "    fig.xaxis.axis_label = 'year'\n",
    "    fig.legend.click_policy = \"hide\"\n",
    "    return fig\n"
   ]
  },
  {
   "cell_type": "markdown",
   "metadata": {},
   "source": [
    "Conclusions\n",
    "======\n",
    "Below are some statements that depend on the output calculated above. "
   ]
  },
  {
   "cell_type": "code",
   "execution_count": 27,
   "metadata": {},
   "outputs": [
    {
     "name": "stdout",
     "output_type": "stream",
     "text": [
      "The current average waterlevel above NAP (in mm), \n",
      "based on the 6 main tide gauges for the year 2016 is 8.3 cm.\n",
      "The current sea-level rise is 17 cm/century\n"
     ]
    }
   ],
   "source": [
    "msg = '''The current average waterlevel above NAP (in mm), \n",
    "based on the 6 main tide gauges for the year {year} is {height:.1f} cm.\n",
    "The current sea-level rise is {rate:.0f} cm/century'''\n",
    "print(msg.format(year=mean_df['year'].iloc[-1], height=linear_fit.predict()[-1]/10.0, rate=linear_fit.params.x1*100.0/10))"
   ]
  },
  {
   "cell_type": "code",
   "execution_count": 28,
   "metadata": {},
   "outputs": [
    {
     "name": "stdout",
     "output_type": "stream",
     "text": [
      "The linear model is a higher quality model (smaller AIC) than the quadratic model.\n",
      "Under the assumption that there is no quadraticness, we would have expected a quadratic term as big as we have seen.\n"
     ]
    }
   ],
   "source": [
    "if (linear_fit.aic < quadratic_fit.aic):\n",
    "    print('The linear model is a higher quality model (smaller AIC) than the quadratic model.')\n",
    "else:\n",
    "    print('The quadratic model is a higher quality model (smaller AIC) than the linear model.')\n",
    "if (quadratic_fit.pvalues['x2'] < 0.05):\n",
    "    print('The quadratic term is bigger than we would have expected under the assumption that there was no quadraticness.')\n",
    "else:\n",
    "    print('Under the assumption that there is no quadraticness, we would have expected a quadratic term as big as we have seen.')"
   ]
  },
  {
   "cell_type": "code",
   "execution_count": 29,
   "metadata": {},
   "outputs": [
    {
     "name": "stdout",
     "output_type": "stream",
     "text": [
      "The broken linear model is a higher quality model (smaller AIC) than the linear model.\n",
      "Under the assumption that there is no trend break, we would have expected a trend break as big as we have seen.\n"
     ]
    }
   ],
   "source": [
    "if (linear_fit.aic < broken_linear_fit.aic):\n",
    "    print('The linear model is a higher quality model (smaller AIC) than the broken linear model.')\n",
    "else:\n",
    "    print('The broken linear model is a higher quality model (smaller AIC) than the linear model.')\n",
    "if (broken_linear_fit.pvalues['x2'] < 0.05):\n",
    "    print('The trend break is bigger than we would have expected under the assumption that there was no trend break.')\n",
    "else:\n",
    "    print('Under the assumption that there is no trend break, we would have expected a trend break as big as we have seen.')"
   ]
  },
  {
   "cell_type": "code",
   "execution_count": null,
   "metadata": {},
   "outputs": [],
   "source": []
  }
 ],
 "metadata": {
  "kernelspec": {
   "display_name": "Python 3",
   "language": "python",
   "name": "python3"
  },
  "language_info": {
   "codemirror_mode": {
    "name": "ipython",
    "version": 3
   },
   "file_extension": ".py",
   "mimetype": "text/x-python",
   "name": "python",
   "nbconvert_exporter": "python",
   "pygments_lexer": "ipython3",
   "version": "3.6.5"
  },
  "widgets": {
   "state": {
    "2ae0c48e421f49c09172702bce76555c": {
     "views": [
      {
       "cell_index": 7
      }
     ]
    },
    "3505de2a1be14c55943f74d0558523b4": {
     "views": [
      {
       "cell_index": 7
      }
     ]
    },
    "3cd4a930d3f94c3e8d572585c9162d1e": {
     "views": [
      {
       "cell_index": 7
      }
     ]
    },
    "77dd9f443c0b4f5dad5f5d8eaba6bb90": {
     "views": [
      {
       "cell_index": 7
      }
     ]
    },
    "9a5784b9d0a54565b28fc208dc9bf39a": {
     "views": [
      {
       "cell_index": 7
      }
     ]
    },
    "9e9af435cb1f4a36bb8b285a237d2110": {
     "views": [
      {
       "cell_index": 7
      }
     ]
    },
    "cc2abf826b3d4652a44d48ab6beb67d8": {
     "views": [
      {
       "cell_index": 7
      }
     ]
    },
    "d4daa4d8a9d54316bb079575809d1f78": {
     "views": [
      {
       "cell_index": 7
      }
     ]
    },
    "de1a78f8304c402bb2df41da1ab2c3f0": {
     "views": [
      {
       "cell_index": 7
      }
     ]
    },
    "fc604692e1764a79ad5c7bac7f3cb23f": {
     "views": [
      {
       "cell_index": 7
      }
     ]
    }
   },
   "version": "1.2.0"
  }
 },
 "nbformat": 4,
 "nbformat_minor": 1
}
