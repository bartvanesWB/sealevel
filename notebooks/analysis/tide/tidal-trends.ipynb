{
 "cells": [
  {
   "cell_type": "code",
   "execution_count": 1,
   "metadata": {},
   "outputs": [],
   "source": [
    "import pathlib\n",
    "import logging\n",
    "import re\n",
    "\n",
    "\n",
    "import utide\n",
    "import pandas as pd\n",
    "\n",
    "import netCDF4\n",
    "import numpy as np\n",
    "import matplotlib.dates\n",
    "import matplotlib.pyplot as plt\n"
   ]
  },
  {
   "cell_type": "code",
   "execution_count": 2,
   "metadata": {},
   "outputs": [],
   "source": [
    "\n",
    "paths = list(pathlib.Path('~/src/sealevel/data/waterbase').expanduser().glob('id1-*.nc'))\n"
   ]
  },
  {
   "cell_type": "code",
   "execution_count": 3,
   "metadata": {},
   "outputs": [
    {
     "name": "stdout",
     "output_type": "stream",
     "text": [
      "id1-DELFZL.nc 1879\n",
      "solve: matrix prep ... solution ... diagnostics ... done.\n",
      "id1-DELFZL.nc 1880\n",
      "solve: matrix prep ... solution ... diagnostics ... done.\n",
      "id1-DELFZL.nc 1881\n",
      "solve: matrix prep ... solution ... diagnostics ... done.\n",
      "id1-DELFZL.nc 1882\n",
      "solve: matrix prep ... solution ... diagnostics ... done.\n",
      "id1-DELFZL.nc 1883\n",
      "solve: matrix prep ... solution ... diagnostics ... done.\n",
      "id1-DELFZL.nc 1884\n",
      "solve: matrix prep ... solution ... diagnostics ... done.\n",
      "id1-DELFZL.nc 1885\n",
      "solve: matrix prep ... solution ... diagnostics ... done.\n",
      "id1-DELFZL.nc 1886\n",
      "solve: matrix prep ... solution ... diagnostics ... done.\n",
      "id1-DELFZL.nc 1887\n",
      "solve: matrix prep ... solution ... diagnostics ... done.\n",
      "id1-DELFZL.nc 1888\n",
      "solve: matrix prep ... solution ... diagnostics ... done.\n",
      "id1-DELFZL.nc 1889\n",
      "solve: matrix prep ... solution ... diagnostics ... done.\n",
      "id1-DELFZL.nc 1890\n",
      "solve: matrix prep ... solution ... diagnostics ... done.\n",
      "id1-DELFZL.nc 1891\n",
      "solve: matrix prep ... solution ... diagnostics ... done.\n",
      "id1-DELFZL.nc 1892\n",
      "solve: matrix prep ... solution ... diagnostics ... done.\n",
      "id1-DELFZL.nc 1893\n",
      "solve: matrix prep ... solution ... diagnostics ... done.\n",
      "id1-DELFZL.nc 1894\n",
      "solve: matrix prep ... solution ... diagnostics ... done.\n",
      "id1-DELFZL.nc 1895\n",
      "solve: matrix prep ... solution ... diagnostics ... done.\n",
      "id1-DELFZL.nc 1896\n",
      "solve: matrix prep ... solution ... diagnostics ... done.\n",
      "id1-DELFZL.nc 1897\n",
      "solve: matrix prep ... solution ... diagnostics ... done.\n",
      "id1-DELFZL.nc 1898\n",
      "solve: matrix prep ... solution ... diagnostics ... done.\n",
      "id1-DELFZL.nc 1899\n",
      "solve: matrix prep ... solution ... diagnostics ... done.\n",
      "id1-DELFZL.nc 1900\n",
      "solve: matrix prep ... solution ... diagnostics ... done.\n",
      "id1-DELFZL.nc 1901\n",
      "solve: matrix prep ... solution ... diagnostics ... done.\n",
      "id1-DELFZL.nc 1902\n",
      "solve: matrix prep ... solution ... diagnostics ... done.\n",
      "id1-DELFZL.nc 1903\n",
      "solve: matrix prep ... solution ... diagnostics ... done.\n",
      "id1-DELFZL.nc 1904\n",
      "solve: matrix prep ... solution ... diagnostics ... done.\n",
      "id1-DELFZL.nc 1905\n",
      "solve: matrix prep ... solution ... diagnostics ... done.\n",
      "id1-DELFZL.nc 1906\n",
      "solve: matrix prep ... solution ... diagnostics ... done.\n",
      "id1-DELFZL.nc 1907\n",
      "solve: matrix prep ... solution ... diagnostics ... done.\n",
      "id1-DELFZL.nc 1908\n",
      "solve: matrix prep ... solution ... diagnostics ... done.\n",
      "id1-DELFZL.nc 1909\n",
      "solve: matrix prep ... solution ... diagnostics ... done.\n",
      "id1-DELFZL.nc 1910\n",
      "solve: matrix prep ... solution ... diagnostics ... done.\n",
      "id1-DELFZL.nc 1911\n",
      "solve: matrix prep ... solution ... diagnostics ... done.\n",
      "id1-DELFZL.nc 1912\n",
      "solve: matrix prep ... solution ... diagnostics ... done.\n",
      "id1-DELFZL.nc 1913\n",
      "solve: matrix prep ... solution ... diagnostics ... done.\n",
      "id1-DELFZL.nc 1914\n",
      "solve: matrix prep ... solution ... diagnostics ... done.\n",
      "id1-DELFZL.nc 1915\n",
      "solve: matrix prep ... solution ... diagnostics ... done.\n",
      "id1-DELFZL.nc 1916\n",
      "solve: matrix prep ... solution ... diagnostics ... done.\n",
      "id1-DELFZL.nc 1917\n",
      "solve: matrix prep ... solution ... diagnostics ... done.\n",
      "id1-DELFZL.nc 1918\n",
      "solve: matrix prep ... solution ... diagnostics ... done.\n",
      "id1-DELFZL.nc 1919\n",
      "solve: matrix prep ... solution ... diagnostics ... done.\n",
      "id1-DELFZL.nc 1920\n",
      "solve: matrix prep ... solution ... diagnostics ... done.\n",
      "id1-DELFZL.nc 1921\n",
      "solve: matrix prep ... solution ... diagnostics ... done.\n",
      "id1-DELFZL.nc 1922\n",
      "solve: matrix prep ... solution ... diagnostics ... done.\n",
      "id1-DELFZL.nc 1923\n",
      "solve: matrix prep ... solution ... diagnostics ... done.\n",
      "id1-DELFZL.nc 1924\n",
      "solve: matrix prep ... solution ... diagnostics ... done.\n",
      "id1-DELFZL.nc 1925\n",
      "solve: matrix prep ... solution ... diagnostics ... done.\n",
      "id1-DELFZL.nc 1926\n",
      "solve: matrix prep ... solution ... diagnostics ... done.\n",
      "id1-DELFZL.nc 1927\n",
      "solve: matrix prep ... solution ... diagnostics ... done.\n",
      "id1-DELFZL.nc 1928\n",
      "solve: matrix prep ... solution ... diagnostics ... done.\n",
      "id1-DELFZL.nc 1929\n",
      "solve: matrix prep ... solution ... diagnostics ... done.\n",
      "id1-DELFZL.nc 1930\n",
      "solve: matrix prep ... solution ... diagnostics ... done.\n",
      "id1-DELFZL.nc 1931\n",
      "solve: matrix prep ... solution ... diagnostics ... done.\n",
      "id1-DELFZL.nc 1932\n",
      "solve: matrix prep ... solution ... diagnostics ... done.\n",
      "id1-DELFZL.nc 1933\n",
      "solve: matrix prep ... solution ... diagnostics ... done.\n",
      "id1-DELFZL.nc 1934\n",
      "solve: matrix prep ... solution ... diagnostics ... done.\n",
      "id1-DELFZL.nc 1935\n",
      "solve: matrix prep ... solution ... diagnostics ... done.\n",
      "id1-DELFZL.nc 1936\n",
      "solve: matrix prep ... solution ... diagnostics ... done.\n",
      "id1-DELFZL.nc 1937\n",
      "solve: matrix prep ... solution ... diagnostics ... done.\n",
      "id1-DELFZL.nc 1938\n",
      "solve: matrix prep ... solution ... diagnostics ... done.\n",
      "id1-DELFZL.nc 1939\n",
      "solve: matrix prep ... solution ... diagnostics ... done.\n",
      "id1-DELFZL.nc 1940\n",
      "solve: matrix prep ... solution ... diagnostics ... done.\n",
      "id1-DELFZL.nc 1941\n",
      "solve: matrix prep ... solution ... diagnostics ... done.\n",
      "id1-DELFZL.nc 1942\n",
      "solve: matrix prep ... solution ... diagnostics ... done.\n",
      "id1-DELFZL.nc 1943\n",
      "solve: matrix prep ... solution ... diagnostics ... done.\n",
      "id1-DELFZL.nc 1944\n",
      "solve: matrix prep ... solution ... diagnostics ... done.\n",
      "id1-DELFZL.nc 1945\n",
      "solve: matrix prep ... solution ... diagnostics ... done.\n",
      "id1-DELFZL.nc 1946\n",
      "solve: matrix prep ... solution ... diagnostics ... done.\n",
      "id1-DELFZL.nc 1947\n",
      "solve: matrix prep ... solution ... diagnostics ... done.\n",
      "id1-DELFZL.nc 1948\n",
      "solve: matrix prep ... solution ... diagnostics ... done.\n",
      "id1-DELFZL.nc 1949\n",
      "solve: matrix prep ... solution ... diagnostics ... done.\n",
      "id1-DELFZL.nc 1950\n",
      "solve: matrix prep ... solution ... diagnostics ... done.\n",
      "id1-DELFZL.nc 1951\n",
      "solve: matrix prep ... solution ... diagnostics ... done.\n",
      "id1-DELFZL.nc 1952\n",
      "solve: matrix prep ... solution ... diagnostics ... done.\n",
      "id1-DELFZL.nc 1953\n",
      "solve: matrix prep ... solution ... diagnostics ... done.\n",
      "id1-DELFZL.nc 1954\n",
      "solve: matrix prep ... solution ... diagnostics ... done.\n",
      "id1-DELFZL.nc 1955\n",
      "solve: matrix prep ... solution ... diagnostics ... done.\n",
      "id1-DELFZL.nc 1956\n",
      "solve: matrix prep ... solution ... diagnostics ... done.\n",
      "id1-DELFZL.nc 1957\n",
      "solve: matrix prep ... solution ... diagnostics ... done.\n",
      "id1-DELFZL.nc 1958\n",
      "solve: matrix prep ... solution ... diagnostics ... done.\n",
      "id1-DELFZL.nc 1959\n",
      "solve: matrix prep ... solution ... diagnostics ... done.\n",
      "id1-DELFZL.nc 1960\n",
      "solve: matrix prep ... solution ... diagnostics ... done.\n",
      "id1-DELFZL.nc 1961\n",
      "solve: matrix prep ... solution ... diagnostics ... done.\n",
      "id1-DELFZL.nc 1962\n",
      "solve: matrix prep ... solution ... diagnostics ... done.\n",
      "id1-DELFZL.nc 1963\n",
      "solve: matrix prep ... solution ... diagnostics ... done.\n",
      "id1-DELFZL.nc 1964\n",
      "solve: matrix prep ... solution ... diagnostics ... done.\n",
      "id1-DELFZL.nc 1965\n",
      "solve: matrix prep ... solution ... diagnostics ... done.\n",
      "id1-DELFZL.nc 1966\n",
      "solve: matrix prep ... solution ... diagnostics ... done.\n",
      "id1-DELFZL.nc 1967\n",
      "solve: matrix prep ... solution ... diagnostics ... done.\n",
      "id1-DELFZL.nc 1968\n",
      "solve: matrix prep ... solution ... diagnostics ... done.\n",
      "id1-DELFZL.nc 1969\n",
      "solve: matrix prep ... solution ... diagnostics ... done.\n",
      "id1-DELFZL.nc 1970\n",
      "solve: matrix prep ... solution ... diagnostics ... done.\n",
      "id1-DELFZL.nc 1971\n",
      "solve: matrix prep ... solution ... diagnostics ... done.\n",
      "id1-DELFZL.nc 1972\n",
      "solve: matrix prep ... solution ... diagnostics ... done.\n",
      "id1-DELFZL.nc 1973\n",
      "solve: matrix prep ... solution ... diagnostics ... done.\n",
      "id1-DELFZL.nc 1974\n",
      "solve: matrix prep ... solution ... diagnostics ... done.\n",
      "id1-DELFZL.nc 1975\n",
      "solve: matrix prep ... solution ... diagnostics ... done.\n",
      "id1-DELFZL.nc 1976\n",
      "solve: matrix prep ... solution ... diagnostics ... done.\n",
      "id1-DELFZL.nc 1977\n",
      "solve: matrix prep ... solution ... diagnostics ... done.\n",
      "id1-DELFZL.nc 1978\n",
      "solve: matrix prep ... solution ... diagnostics ... done.\n",
      "id1-DELFZL.nc 1979\n",
      "solve: matrix prep ... solution ... diagnostics ... done.\n",
      "id1-DELFZL.nc 1980\n",
      "solve: matrix prep ... solution ... diagnostics ... done.\n",
      "id1-DELFZL.nc 1981\n",
      "solve: matrix prep ... solution ... diagnostics ... done.\n",
      "id1-DELFZL.nc 1982\n",
      "solve: matrix prep ... solution ... diagnostics ... done.\n",
      "id1-DELFZL.nc 1983\n",
      "solve: matrix prep ... solution ... diagnostics ... done.\n",
      "id1-DELFZL.nc 1984\n",
      "solve: matrix prep ... solution ... diagnostics ... done.\n",
      "id1-DELFZL.nc 1985\n",
      "solve: matrix prep ... solution ... diagnostics ... done.\n",
      "id1-DELFZL.nc 1986\n",
      "solve: matrix prep ... solution ... diagnostics ... done.\n",
      "id1-DELFZL.nc 1987\n",
      "solve: matrix prep ... solution ... diagnostics ... done.\n",
      "id1-DELFZL.nc 1988\n",
      "solve: matrix prep ... solution ... diagnostics ... done.\n",
      "id1-DELFZL.nc 1989\n",
      "solve: matrix prep ... solution ... diagnostics ... done.\n",
      "id1-DELFZL.nc 1990\n",
      "solve: matrix prep ... solution ... diagnostics ... done.\n",
      "id1-DELFZL.nc 1991\n",
      "solve: matrix prep ... solution ... diagnostics ... done.\n",
      "id1-DELFZL.nc 1992\n",
      "solve: matrix prep ... solution ... diagnostics ... done.\n",
      "id1-DELFZL.nc 1993\n",
      "solve: matrix prep ... solution ... diagnostics ... done.\n",
      "id1-DELFZL.nc 1994\n",
      "solve: matrix prep ... solution ... diagnostics ... done.\n",
      "id1-DELFZL.nc 1995\n",
      "solve: matrix prep ... solution ... diagnostics ... done.\n",
      "id1-DELFZL.nc 1996\n",
      "solve: matrix prep ... solution ... diagnostics ... done.\n",
      "id1-DELFZL.nc 1997\n",
      "solve: matrix prep ... solution ... diagnostics ... done.\n",
      "id1-DELFZL.nc 1998\n",
      "solve: matrix prep ... solution ... diagnostics ... done.\n",
      "id1-DELFZL.nc 1999\n",
      "solve: matrix prep ... solution ... diagnostics ... done.\n",
      "id1-DELFZL.nc 2000\n",
      "solve: matrix prep ... solution ... diagnostics ... done.\n",
      "id1-DELFZL.nc 2001\n",
      "solve: matrix prep ... solution ... diagnostics ... done.\n",
      "id1-DELFZL.nc 2002\n",
      "solve: matrix prep ... solution ... diagnostics ... done.\n",
      "id1-DELFZL.nc 2003\n",
      "solve: matrix prep ... solution ... diagnostics ... done.\n",
      "id1-DELFZL.nc 2004\n",
      "solve: matrix prep ... solution ... diagnostics ... done.\n",
      "id1-DELFZL.nc 2005\n",
      "solve: matrix prep ... solution ... diagnostics ... done.\n",
      "id1-DELFZL.nc 2006\n",
      "solve: matrix prep ... solution ... diagnostics ... done.\n",
      "id1-DELFZL.nc 2007\n",
      "solve: matrix prep ... solution ... diagnostics ... done.\n",
      "id1-DELFZL.nc 2008\n",
      "solve: matrix prep ... solution ... diagnostics ... done.\n",
      "id1-DELFZL.nc 2009\n",
      "solve: matrix prep ... solution ... diagnostics ... done.\n",
      "id1-DELFZL.nc 2010\n",
      "solve: matrix prep ... solution ... diagnostics ... done.\n",
      "id1-DELFZL.nc 2011\n",
      "solve: matrix prep ... solution ... diagnostics ... done.\n",
      "id1-DELFZL.nc 2012\n",
      "solve: matrix prep ... solution ... diagnostics ... done.\n",
      "id1-DELFZL.nc 2013\n",
      "solve: matrix prep ... solution ... diagnostics ... done.\n",
      "id1-DELFZL.nc 2014\n",
      "solve: matrix prep ... solution ... diagnostics ... done.\n",
      "id1-DELFZL.nc 2015\n",
      "solve: matrix prep ... solution ... diagnostics ... done.\n",
      "id1-DELFZL.nc 2016\n",
      "solve: matrix prep ... solution ... diagnostics ... done.\n",
      "id1-DELFZL.nc 2017\n",
      "solve: matrix prep ... solution ... diagnostics ... done.\n",
      "id1-DENHDR.nc 1932\n",
      "solve: matrix prep ... solution ... diagnostics ... done.\n",
      "id1-DENHDR.nc 1933\n",
      "solve: matrix prep ... solution ... diagnostics ... done.\n",
      "id1-DENHDR.nc 1934\n",
      "solve: matrix prep ... solution ... diagnostics ... done.\n",
      "id1-DENHDR.nc 1935\n",
      "solve: matrix prep ... solution ... diagnostics ... done.\n",
      "id1-DENHDR.nc 1936\n",
      "solve: matrix prep ... solution ... diagnostics ... done.\n",
      "id1-DENHDR.nc 1937\n"
     ]
    },
    {
     "name": "stderr",
     "output_type": "stream",
     "text": [
      "ERROR:root:solve failed\n",
      "Traceback (most recent call last):\n",
      "  File \"<ipython-input-3-d6a951f715f9>\", line 16, in <module>\n",
      "    method='ols'\n",
      "  File \"/Users/baart_f/src/UTide/utide/_solve.py\", line 200, in solve\n",
      "    coef = _solv1(t, u, v, lat, **compat_opts)\n",
      "  File \"/Users/baart_f/src/UTide/utide/_solve.py\", line 209, in _solv1\n",
      "    packed = _slvinit(tin, uin, vin, lat, **opts)\n",
      "  File \"/Users/baart_f/src/UTide/utide/_solve.py\", line 458, in _slvinit\n",
      "    tin = np.ma.masked_invalid(tin)\n",
      "  File \"/Users/baart_f/.virtualenvs/main/lib/python3.6/site-packages/numpy/ma/core.py\", line 2362, in masked_invalid\n",
      "    condition = ~(np.isfinite(a))\n",
      "TypeError: ufunc 'isfinite' not supported for the input types, and the inputs could not be safely coerced to any supported types according to the casting rule ''safe''\n"
     ]
    },
    {
     "name": "stdout",
     "output_type": "stream",
     "text": [
      "id1-DENHDR.nc 1938\n",
      "solve: matrix prep ... solution ... diagnostics ... done.\n",
      "id1-DENHDR.nc 1939\n",
      "solve: matrix prep ... solution ... diagnostics ... done.\n",
      "id1-DENHDR.nc 1940\n",
      "solve: matrix prep ... solution ... diagnostics ... done.\n",
      "id1-DENHDR.nc 1941\n",
      "solve: matrix prep ... solution ... diagnostics ... done.\n",
      "id1-DENHDR.nc 1942\n",
      "solve: matrix prep ... solution ... diagnostics ... done.\n",
      "id1-DENHDR.nc 1943\n",
      "solve: matrix prep ... solution ... diagnostics ... done.\n",
      "id1-DENHDR.nc 1944\n",
      "solve: matrix prep ... solution ... diagnostics ... done.\n",
      "id1-DENHDR.nc 1945\n",
      "solve: matrix prep ... solution ... diagnostics ... done.\n",
      "id1-DENHDR.nc 1946\n",
      "solve: matrix prep ... solution ... diagnostics ... done.\n",
      "id1-DENHDR.nc 1947\n",
      "solve: matrix prep ... solution ... diagnostics ... done.\n",
      "id1-DENHDR.nc 1948\n",
      "solve: matrix prep ... solution ... diagnostics ... done.\n",
      "id1-DENHDR.nc 1949\n",
      "solve: matrix prep ... solution ... diagnostics ... done.\n",
      "id1-DENHDR.nc 1950\n",
      "solve: matrix prep ... solution ... diagnostics ... done.\n",
      "id1-DENHDR.nc 1951\n",
      "solve: matrix prep ... solution ... diagnostics ... done.\n",
      "id1-DENHDR.nc 1952\n",
      "solve: matrix prep ... solution ... diagnostics ... done.\n",
      "id1-DENHDR.nc 1953\n",
      "solve: matrix prep ... solution ... diagnostics ... done.\n",
      "id1-DENHDR.nc 1954\n",
      "solve: matrix prep ... solution ... diagnostics ... done.\n",
      "id1-DENHDR.nc 1955\n",
      "solve: matrix prep ... solution ... diagnostics ... done.\n",
      "id1-DENHDR.nc 1956\n",
      "solve: matrix prep ... solution ... diagnostics ... done.\n",
      "id1-DENHDR.nc 1957\n",
      "solve: matrix prep ... solution ... diagnostics ... done.\n",
      "id1-DENHDR.nc 1958\n",
      "solve: matrix prep ... solution ... diagnostics ... done.\n",
      "id1-DENHDR.nc 1959\n",
      "solve: matrix prep ... solution ... diagnostics ... done.\n",
      "id1-DENHDR.nc 1960\n",
      "solve: matrix prep ... solution ... diagnostics ... done.\n",
      "id1-DENHDR.nc 1961\n",
      "solve: matrix prep ... solution ... diagnostics ... done.\n",
      "id1-DENHDR.nc 1962\n",
      "solve: matrix prep ... solution ... diagnostics ... done.\n",
      "id1-DENHDR.nc 1963\n",
      "solve: matrix prep ... solution ... diagnostics ... done.\n",
      "id1-DENHDR.nc 1964\n",
      "solve: matrix prep ... solution ... diagnostics ... done.\n",
      "id1-DENHDR.nc 1965\n",
      "solve: matrix prep ... solution ... diagnostics ... done.\n",
      "id1-DENHDR.nc 1966\n",
      "solve: matrix prep ... solution ... diagnostics ... done.\n",
      "id1-DENHDR.nc 1967\n",
      "solve: matrix prep ... solution ... diagnostics ... done.\n",
      "id1-DENHDR.nc 1968\n",
      "solve: matrix prep ... solution ... diagnostics ... done.\n",
      "id1-DENHDR.nc 1969\n",
      "solve: matrix prep ... solution ... diagnostics ... done.\n",
      "id1-DENHDR.nc 1970\n",
      "solve: matrix prep ... solution ... diagnostics ... done.\n",
      "id1-DENHDR.nc 1971\n",
      "solve: matrix prep ... solution ... diagnostics ... done.\n",
      "id1-DENHDR.nc 1972\n",
      "solve: matrix prep ... solution ... diagnostics ... done.\n",
      "id1-DENHDR.nc 1973\n",
      "solve: matrix prep ... solution ... diagnostics ... done.\n",
      "id1-DENHDR.nc 1974\n",
      "solve: matrix prep ... solution ... diagnostics ... done.\n",
      "id1-DENHDR.nc 1975\n",
      "solve: matrix prep ... solution ... diagnostics ... done.\n",
      "id1-DENHDR.nc 1976\n",
      "solve: matrix prep ... solution ... diagnostics ... done.\n",
      "id1-DENHDR.nc 1977\n",
      "solve: matrix prep ... solution ... diagnostics ... done.\n",
      "id1-DENHDR.nc 1978\n",
      "solve: matrix prep ... solution ... diagnostics ... done.\n",
      "id1-DENHDR.nc 1979\n",
      "solve: matrix prep ... solution ... diagnostics ... done.\n",
      "id1-DENHDR.nc 1980\n",
      "solve: matrix prep ... solution ... diagnostics ... done.\n",
      "id1-DENHDR.nc 1981\n",
      "solve: matrix prep ... solution ... diagnostics ... done.\n",
      "id1-DENHDR.nc 1982\n",
      "solve: matrix prep ... solution ... diagnostics ... done.\n",
      "id1-DENHDR.nc 1983\n",
      "solve: matrix prep ... solution ... diagnostics ... done.\n",
      "id1-DENHDR.nc 1984\n",
      "solve: matrix prep ... solution ... diagnostics ... done.\n",
      "id1-DENHDR.nc 1985\n",
      "solve: matrix prep ... solution ... diagnostics ... done.\n",
      "id1-DENHDR.nc 1986\n",
      "solve: matrix prep ... solution ... diagnostics ... done.\n",
      "id1-DENHDR.nc 1987\n",
      "solve: matrix prep ... solution ... diagnostics ... done.\n",
      "id1-DENHDR.nc 1988\n",
      "solve: matrix prep ... solution ... diagnostics ... done.\n",
      "id1-DENHDR.nc 1989\n",
      "solve: matrix prep ... solution ... diagnostics ... done.\n",
      "id1-DENHDR.nc 1990\n",
      "solve: matrix prep ... solution ... diagnostics ... done.\n",
      "id1-DENHDR.nc 1991\n",
      "solve: matrix prep ... solution ... diagnostics ... done.\n",
      "id1-DENHDR.nc 1992\n",
      "solve: matrix prep ... solution ... diagnostics ... done.\n",
      "id1-DENHDR.nc 1993\n",
      "solve: matrix prep ... solution ... diagnostics ... done.\n",
      "id1-DENHDR.nc 1994\n",
      "solve: matrix prep ... solution ... diagnostics ... done.\n",
      "id1-DENHDR.nc 1995\n",
      "solve: matrix prep ... solution ... diagnostics ... done.\n",
      "id1-DENHDR.nc 1996\n",
      "solve: matrix prep ... solution ... diagnostics ... done.\n",
      "id1-DENHDR.nc 1997\n",
      "solve: matrix prep ... solution ... diagnostics ... done.\n",
      "id1-DENHDR.nc 1998\n",
      "solve: matrix prep ... solution ... diagnostics ... done.\n",
      "id1-DENHDR.nc 1999\n",
      "solve: matrix prep ... solution ... diagnostics ... done.\n",
      "id1-DENHDR.nc 2000\n",
      "solve: matrix prep ... solution ... diagnostics ... done.\n",
      "id1-DENHDR.nc 2001\n",
      "solve: matrix prep ... solution ... diagnostics ... done.\n",
      "id1-DENHDR.nc 2002\n",
      "solve: matrix prep ... solution ... diagnostics ... done.\n",
      "id1-DENHDR.nc 2003\n",
      "solve: matrix prep ... solution ... diagnostics ... done.\n",
      "id1-DENHDR.nc 2004\n",
      "solve: matrix prep ... solution ... diagnostics ... done.\n",
      "id1-DENHDR.nc 2005\n",
      "solve: matrix prep ... solution ... diagnostics ... done.\n",
      "id1-DENHDR.nc 2006\n",
      "solve: matrix prep ... solution ... diagnostics ... done.\n",
      "id1-DENHDR.nc 2007\n",
      "solve: matrix prep ... solution ... diagnostics ... done.\n",
      "id1-DENHDR.nc 2008\n",
      "solve: matrix prep ... solution ... diagnostics ... done.\n",
      "id1-DENHDR.nc 2009\n",
      "solve: matrix prep ... solution ... diagnostics ... done.\n",
      "id1-DENHDR.nc 2010\n",
      "solve: matrix prep ... solution ... diagnostics ... done.\n",
      "id1-DENHDR.nc 2011\n",
      "solve: matrix prep ... solution ... diagnostics ... done.\n",
      "id1-DENHDR.nc 2012\n",
      "solve: matrix prep ... solution ... diagnostics ... done.\n",
      "id1-DENHDR.nc 2013\n",
      "solve: matrix prep ... solution ... diagnostics ... done.\n",
      "id1-DENHDR.nc 2014\n",
      "solve: matrix prep ... solution ... diagnostics ... done.\n",
      "id1-DENHDR.nc 2015\n",
      "solve: matrix prep ... solution ... diagnostics ... done.\n",
      "id1-DENHDR.nc 2016\n",
      "solve: matrix prep ... solution ... diagnostics ... done.\n",
      "id1-DENHDR.nc 2017\n",
      "solve: matrix prep ... solution ... diagnostics ... done.\n",
      "id1-HARLGN.nc 1935\n",
      "solve: matrix prep ... solution ... diagnostics ... done.\n",
      "id1-HARLGN.nc 1936\n"
     ]
    },
    {
     "name": "stderr",
     "output_type": "stream",
     "text": [
      "ERROR:root:solve failed\n",
      "Traceback (most recent call last):\n",
      "  File \"<ipython-input-3-d6a951f715f9>\", line 16, in <module>\n",
      "    method='ols'\n",
      "  File \"/Users/baart_f/src/UTide/utide/_solve.py\", line 200, in solve\n",
      "    coef = _solv1(t, u, v, lat, **compat_opts)\n",
      "  File \"/Users/baart_f/src/UTide/utide/_solve.py\", line 209, in _solv1\n",
      "    packed = _slvinit(tin, uin, vin, lat, **opts)\n",
      "  File \"/Users/baart_f/src/UTide/utide/_solve.py\", line 458, in _slvinit\n",
      "    tin = np.ma.masked_invalid(tin)\n",
      "  File \"/Users/baart_f/.virtualenvs/main/lib/python3.6/site-packages/numpy/ma/core.py\", line 2362, in masked_invalid\n",
      "    condition = ~(np.isfinite(a))\n",
      "TypeError: ufunc 'isfinite' not supported for the input types, and the inputs could not be safely coerced to any supported types according to the casting rule ''safe''\n"
     ]
    },
    {
     "name": "stdout",
     "output_type": "stream",
     "text": [
      "id1-HARLGN.nc 1937\n"
     ]
    },
    {
     "name": "stderr",
     "output_type": "stream",
     "text": [
      "ERROR:root:solve failed\n",
      "Traceback (most recent call last):\n",
      "  File \"<ipython-input-3-d6a951f715f9>\", line 16, in <module>\n",
      "    method='ols'\n",
      "  File \"/Users/baart_f/src/UTide/utide/_solve.py\", line 200, in solve\n",
      "    coef = _solv1(t, u, v, lat, **compat_opts)\n",
      "  File \"/Users/baart_f/src/UTide/utide/_solve.py\", line 209, in _solv1\n",
      "    packed = _slvinit(tin, uin, vin, lat, **opts)\n",
      "  File \"/Users/baart_f/src/UTide/utide/_solve.py\", line 458, in _slvinit\n",
      "    tin = np.ma.masked_invalid(tin)\n",
      "  File \"/Users/baart_f/.virtualenvs/main/lib/python3.6/site-packages/numpy/ma/core.py\", line 2362, in masked_invalid\n",
      "    condition = ~(np.isfinite(a))\n",
      "TypeError: ufunc 'isfinite' not supported for the input types, and the inputs could not be safely coerced to any supported types according to the casting rule ''safe''\n"
     ]
    },
    {
     "name": "stdout",
     "output_type": "stream",
     "text": [
      "id1-HARLGN.nc 1938\n"
     ]
    },
    {
     "name": "stderr",
     "output_type": "stream",
     "text": [
      "ERROR:root:solve failed\n",
      "Traceback (most recent call last):\n",
      "  File \"<ipython-input-3-d6a951f715f9>\", line 16, in <module>\n",
      "    method='ols'\n",
      "  File \"/Users/baart_f/src/UTide/utide/_solve.py\", line 200, in solve\n",
      "    coef = _solv1(t, u, v, lat, **compat_opts)\n",
      "  File \"/Users/baart_f/src/UTide/utide/_solve.py\", line 209, in _solv1\n",
      "    packed = _slvinit(tin, uin, vin, lat, **opts)\n",
      "  File \"/Users/baart_f/src/UTide/utide/_solve.py\", line 458, in _slvinit\n",
      "    tin = np.ma.masked_invalid(tin)\n",
      "  File \"/Users/baart_f/.virtualenvs/main/lib/python3.6/site-packages/numpy/ma/core.py\", line 2362, in masked_invalid\n",
      "    condition = ~(np.isfinite(a))\n",
      "TypeError: ufunc 'isfinite' not supported for the input types, and the inputs could not be safely coerced to any supported types according to the casting rule ''safe''\n"
     ]
    },
    {
     "name": "stdout",
     "output_type": "stream",
     "text": [
      "id1-HARLGN.nc 1939\n",
      "solve: matrix prep ... solution ... diagnostics ... done.\n",
      "id1-HARLGN.nc 1940\n",
      "solve: matrix prep ... solution ... diagnostics ... done.\n",
      "id1-HARLGN.nc 1941\n",
      "solve: matrix prep ... solution ... diagnostics ... done.\n",
      "id1-HARLGN.nc 1942\n",
      "solve: matrix prep ... solution ... diagnostics ... done.\n",
      "id1-HARLGN.nc 1943\n",
      "solve: matrix prep ... solution ... diagnostics ... done.\n",
      "id1-HARLGN.nc 1944\n",
      "solve: matrix prep ... solution ... diagnostics ... done.\n",
      "id1-HARLGN.nc 1945\n",
      "solve: matrix prep ... solution ... diagnostics ... done.\n",
      "id1-HARLGN.nc 1946\n",
      "solve: matrix prep ... solution ... diagnostics ... done.\n",
      "id1-HARLGN.nc 1947\n",
      "solve: matrix prep ... solution ... diagnostics ... done.\n",
      "id1-HARLGN.nc 1948\n",
      "solve: matrix prep ... solution ... diagnostics ... done.\n",
      "id1-HARLGN.nc 1949\n",
      "solve: matrix prep ... solution ... diagnostics ... done.\n",
      "id1-HARLGN.nc 1950\n",
      "solve: matrix prep ... solution ... diagnostics ... done.\n",
      "id1-HARLGN.nc 1951\n",
      "solve: matrix prep ... solution ... diagnostics ... done.\n",
      "id1-HARLGN.nc 1952\n",
      "solve: matrix prep ... solution ... diagnostics ... done.\n",
      "id1-HARLGN.nc 1953\n",
      "solve: matrix prep ... solution ... diagnostics ... done.\n",
      "id1-HARLGN.nc 1954\n",
      "solve: matrix prep ... solution ... diagnostics ... done.\n",
      "id1-HARLGN.nc 1955\n",
      "solve: matrix prep ... solution ... diagnostics ... done.\n",
      "id1-HARLGN.nc 1956\n",
      "solve: matrix prep ... solution ... diagnostics ... done.\n",
      "id1-HARLGN.nc 1957\n",
      "solve: matrix prep ... solution ... diagnostics ... done.\n",
      "id1-HARLGN.nc 1958\n",
      "solve: matrix prep ... solution ... diagnostics ... done.\n",
      "id1-HARLGN.nc 1959\n",
      "solve: matrix prep ... solution ... diagnostics ... done.\n",
      "id1-HARLGN.nc 1960\n",
      "solve: matrix prep ... solution ... diagnostics ... done.\n",
      "id1-HARLGN.nc 1961\n",
      "solve: matrix prep ... solution ... diagnostics ... done.\n",
      "id1-HARLGN.nc 1962\n",
      "solve: matrix prep ... solution ... diagnostics ... done.\n",
      "id1-HARLGN.nc 1963\n",
      "solve: matrix prep ... solution ... diagnostics ... done.\n",
      "id1-HARLGN.nc 1964\n",
      "solve: matrix prep ... solution ... diagnostics ... done.\n",
      "id1-HARLGN.nc 1965\n",
      "solve: matrix prep ... solution ... diagnostics ... done.\n",
      "id1-HARLGN.nc 1966\n",
      "solve: matrix prep ... solution ... diagnostics ... done.\n",
      "id1-HARLGN.nc 1967\n",
      "solve: matrix prep ... solution ... diagnostics ... done.\n",
      "id1-HARLGN.nc 1968\n",
      "solve: matrix prep ... solution ... diagnostics ... done.\n",
      "id1-HARLGN.nc 1969\n",
      "solve: matrix prep ... solution ... diagnostics ... done.\n",
      "id1-HARLGN.nc 1970\n",
      "solve: matrix prep ... solution ... diagnostics ... done.\n",
      "id1-HARLGN.nc 1971\n",
      "solve: matrix prep ... solution ... diagnostics ... done.\n",
      "id1-HARLGN.nc 1972\n",
      "solve: matrix prep ... solution ... diagnostics ... done.\n",
      "id1-HARLGN.nc 1973\n",
      "solve: matrix prep ... solution ... diagnostics ... done.\n",
      "id1-HARLGN.nc 1974\n",
      "solve: matrix prep ... solution ... diagnostics ... done.\n",
      "id1-HARLGN.nc 1975\n",
      "solve: matrix prep ... solution ... diagnostics ... done.\n",
      "id1-HARLGN.nc 1976\n",
      "solve: matrix prep ... solution ... diagnostics ... done.\n",
      "id1-HARLGN.nc 1977\n",
      "solve: matrix prep ... solution ... diagnostics ... done.\n",
      "id1-HARLGN.nc 1978\n",
      "solve: matrix prep ... solution ... diagnostics ... done.\n",
      "id1-HARLGN.nc 1979\n",
      "solve: matrix prep ... solution ... diagnostics ... done.\n",
      "id1-HARLGN.nc 1980\n",
      "solve: matrix prep ... solution ... diagnostics ... done.\n",
      "id1-HARLGN.nc 1981\n",
      "solve: matrix prep ... solution ... diagnostics ... done.\n",
      "id1-HARLGN.nc 1982\n",
      "solve: matrix prep ... solution ... diagnostics ... done.\n",
      "id1-HARLGN.nc 1983\n",
      "solve: matrix prep ... solution ... diagnostics ... done.\n",
      "id1-HARLGN.nc 1984\n",
      "solve: matrix prep ... solution ... diagnostics ... done.\n",
      "id1-HARLGN.nc 1985\n",
      "solve: matrix prep ... solution ... diagnostics ... done.\n",
      "id1-HARLGN.nc 1986\n",
      "solve: matrix prep ... solution ... diagnostics ... done.\n",
      "id1-HARLGN.nc 1987\n",
      "solve: matrix prep ... solution ... diagnostics ... done.\n",
      "id1-HARLGN.nc 1988\n",
      "solve: matrix prep ... solution ... diagnostics ... done.\n",
      "id1-HARLGN.nc 1989\n",
      "solve: matrix prep ... solution ... diagnostics ... done.\n",
      "id1-HARLGN.nc 1990\n",
      "solve: matrix prep ... solution ... diagnostics ... done.\n",
      "id1-HARLGN.nc 1991\n",
      "solve: matrix prep ... solution ... diagnostics ... done.\n",
      "id1-HARLGN.nc 1992\n",
      "solve: matrix prep ... solution ... diagnostics ... done.\n",
      "id1-HARLGN.nc 1993\n",
      "solve: matrix prep ... solution ... diagnostics ... done.\n",
      "id1-HARLGN.nc 1994\n",
      "solve: matrix prep ... solution ... diagnostics ... done.\n",
      "id1-HARLGN.nc 1995\n",
      "solve: matrix prep ... solution ... diagnostics ... done.\n",
      "id1-HARLGN.nc 1996\n",
      "solve: matrix prep ... solution ... diagnostics ... done.\n",
      "id1-HARLGN.nc 1997\n",
      "solve: matrix prep ... solution ... diagnostics ... done.\n",
      "id1-HARLGN.nc 1998\n",
      "solve: matrix prep ... solution ... diagnostics ... done.\n",
      "id1-HARLGN.nc 1999\n",
      "solve: matrix prep ... solution ... diagnostics ... done.\n",
      "id1-HARLGN.nc 2000\n",
      "solve: matrix prep ... solution ... diagnostics ... done.\n",
      "id1-HARLGN.nc 2001\n",
      "solve: matrix prep ... solution ... diagnostics ... done.\n",
      "id1-HARLGN.nc 2002\n",
      "solve: matrix prep ... solution ... diagnostics ... done.\n",
      "id1-HARLGN.nc 2003\n",
      "solve: matrix prep ... solution ... diagnostics ... done.\n",
      "id1-HARLGN.nc 2004\n",
      "solve: matrix prep ... solution ... diagnostics ... done.\n",
      "id1-HARLGN.nc 2005\n",
      "solve: matrix prep ... solution ... diagnostics ... done.\n",
      "id1-HARLGN.nc 2006\n",
      "solve: matrix prep ... solution ... diagnostics ... done.\n",
      "id1-HARLGN.nc 2007\n",
      "solve: matrix prep ... solution ... diagnostics ... done.\n",
      "id1-HARLGN.nc 2008\n",
      "solve: matrix prep ... solution ... diagnostics ... done.\n",
      "id1-HARLGN.nc 2009\n",
      "solve: matrix prep ... solution ... diagnostics ... done.\n",
      "id1-HARLGN.nc 2010\n",
      "solve: matrix prep ... solution ... diagnostics ... done.\n",
      "id1-HARLGN.nc 2011\n",
      "solve: matrix prep ... solution ... diagnostics ... done.\n",
      "id1-HARLGN.nc 2012\n",
      "solve: matrix prep ... solution ... diagnostics ... done.\n",
      "id1-HARLGN.nc 2013\n",
      "solve: matrix prep ... solution ... diagnostics ... done.\n",
      "id1-HARLGN.nc 2014\n",
      "solve: matrix prep ... solution ... diagnostics ... done.\n",
      "id1-HARLGN.nc 2015\n",
      "solve: matrix prep ... solution ... diagnostics ... done.\n",
      "id1-HARLGN.nc 2016\n",
      "solve: matrix prep ... solution ... diagnostics ... done.\n",
      "id1-HARLGN.nc 2017\n",
      "solve: matrix prep ... solution ... diagnostics ... done.\n",
      "id1-HOEKVHLD.nc 1900\n",
      "solve: matrix prep ... solution ... diagnostics ... done.\n",
      "id1-HOEKVHLD.nc 1901\n"
     ]
    },
    {
     "name": "stderr",
     "output_type": "stream",
     "text": [
      "ERROR:root:solve failed\n",
      "Traceback (most recent call last):\n",
      "  File \"<ipython-input-3-d6a951f715f9>\", line 16, in <module>\n",
      "    method='ols'\n",
      "  File \"/Users/baart_f/src/UTide/utide/_solve.py\", line 200, in solve\n",
      "    coef = _solv1(t, u, v, lat, **compat_opts)\n",
      "  File \"/Users/baart_f/src/UTide/utide/_solve.py\", line 209, in _solv1\n",
      "    packed = _slvinit(tin, uin, vin, lat, **opts)\n",
      "  File \"/Users/baart_f/src/UTide/utide/_solve.py\", line 458, in _slvinit\n",
      "    tin = np.ma.masked_invalid(tin)\n",
      "  File \"/Users/baart_f/.virtualenvs/main/lib/python3.6/site-packages/numpy/ma/core.py\", line 2362, in masked_invalid\n",
      "    condition = ~(np.isfinite(a))\n",
      "TypeError: ufunc 'isfinite' not supported for the input types, and the inputs could not be safely coerced to any supported types according to the casting rule ''safe''\n"
     ]
    },
    {
     "name": "stdout",
     "output_type": "stream",
     "text": [
      "id1-HOEKVHLD.nc 1902\n"
     ]
    },
    {
     "name": "stderr",
     "output_type": "stream",
     "text": [
      "ERROR:root:solve failed\n",
      "Traceback (most recent call last):\n",
      "  File \"<ipython-input-3-d6a951f715f9>\", line 16, in <module>\n",
      "    method='ols'\n",
      "  File \"/Users/baart_f/src/UTide/utide/_solve.py\", line 200, in solve\n",
      "    coef = _solv1(t, u, v, lat, **compat_opts)\n",
      "  File \"/Users/baart_f/src/UTide/utide/_solve.py\", line 209, in _solv1\n",
      "    packed = _slvinit(tin, uin, vin, lat, **opts)\n",
      "  File \"/Users/baart_f/src/UTide/utide/_solve.py\", line 458, in _slvinit\n",
      "    tin = np.ma.masked_invalid(tin)\n",
      "  File \"/Users/baart_f/.virtualenvs/main/lib/python3.6/site-packages/numpy/ma/core.py\", line 2362, in masked_invalid\n",
      "    condition = ~(np.isfinite(a))\n",
      "TypeError: ufunc 'isfinite' not supported for the input types, and the inputs could not be safely coerced to any supported types according to the casting rule ''safe''\n"
     ]
    },
    {
     "name": "stdout",
     "output_type": "stream",
     "text": [
      "id1-HOEKVHLD.nc 1903\n"
     ]
    },
    {
     "name": "stderr",
     "output_type": "stream",
     "text": [
      "ERROR:root:solve failed\n",
      "Traceback (most recent call last):\n",
      "  File \"<ipython-input-3-d6a951f715f9>\", line 16, in <module>\n",
      "    method='ols'\n",
      "  File \"/Users/baart_f/src/UTide/utide/_solve.py\", line 200, in solve\n",
      "    coef = _solv1(t, u, v, lat, **compat_opts)\n",
      "  File \"/Users/baart_f/src/UTide/utide/_solve.py\", line 209, in _solv1\n",
      "    packed = _slvinit(tin, uin, vin, lat, **opts)\n",
      "  File \"/Users/baart_f/src/UTide/utide/_solve.py\", line 458, in _slvinit\n",
      "    tin = np.ma.masked_invalid(tin)\n",
      "  File \"/Users/baart_f/.virtualenvs/main/lib/python3.6/site-packages/numpy/ma/core.py\", line 2362, in masked_invalid\n",
      "    condition = ~(np.isfinite(a))\n",
      "TypeError: ufunc 'isfinite' not supported for the input types, and the inputs could not be safely coerced to any supported types according to the casting rule ''safe''\n"
     ]
    },
    {
     "name": "stdout",
     "output_type": "stream",
     "text": [
      "id1-HOEKVHLD.nc 1904\n"
     ]
    },
    {
     "name": "stderr",
     "output_type": "stream",
     "text": [
      "ERROR:root:solve failed\n",
      "Traceback (most recent call last):\n",
      "  File \"<ipython-input-3-d6a951f715f9>\", line 16, in <module>\n",
      "    method='ols'\n",
      "  File \"/Users/baart_f/src/UTide/utide/_solve.py\", line 200, in solve\n",
      "    coef = _solv1(t, u, v, lat, **compat_opts)\n",
      "  File \"/Users/baart_f/src/UTide/utide/_solve.py\", line 209, in _solv1\n",
      "    packed = _slvinit(tin, uin, vin, lat, **opts)\n",
      "  File \"/Users/baart_f/src/UTide/utide/_solve.py\", line 458, in _slvinit\n",
      "    tin = np.ma.masked_invalid(tin)\n",
      "  File \"/Users/baart_f/.virtualenvs/main/lib/python3.6/site-packages/numpy/ma/core.py\", line 2362, in masked_invalid\n",
      "    condition = ~(np.isfinite(a))\n",
      "TypeError: ufunc 'isfinite' not supported for the input types, and the inputs could not be safely coerced to any supported types according to the casting rule ''safe''\n"
     ]
    },
    {
     "name": "stdout",
     "output_type": "stream",
     "text": [
      "id1-HOEKVHLD.nc 1905\n"
     ]
    },
    {
     "name": "stderr",
     "output_type": "stream",
     "text": [
      "ERROR:root:solve failed\n",
      "Traceback (most recent call last):\n",
      "  File \"<ipython-input-3-d6a951f715f9>\", line 16, in <module>\n",
      "    method='ols'\n",
      "  File \"/Users/baart_f/src/UTide/utide/_solve.py\", line 200, in solve\n",
      "    coef = _solv1(t, u, v, lat, **compat_opts)\n",
      "  File \"/Users/baart_f/src/UTide/utide/_solve.py\", line 209, in _solv1\n",
      "    packed = _slvinit(tin, uin, vin, lat, **opts)\n",
      "  File \"/Users/baart_f/src/UTide/utide/_solve.py\", line 458, in _slvinit\n",
      "    tin = np.ma.masked_invalid(tin)\n",
      "  File \"/Users/baart_f/.virtualenvs/main/lib/python3.6/site-packages/numpy/ma/core.py\", line 2362, in masked_invalid\n",
      "    condition = ~(np.isfinite(a))\n",
      "TypeError: ufunc 'isfinite' not supported for the input types, and the inputs could not be safely coerced to any supported types according to the casting rule ''safe''\n"
     ]
    },
    {
     "name": "stdout",
     "output_type": "stream",
     "text": [
      "id1-HOEKVHLD.nc 1906\n",
      "solve: matrix prep ... solution ... diagnostics ... done.\n",
      "id1-HOEKVHLD.nc 1907\n",
      "solve: matrix prep ... solution ... diagnostics ... done.\n",
      "id1-HOEKVHLD.nc 1908\n"
     ]
    },
    {
     "name": "stderr",
     "output_type": "stream",
     "text": [
      "ERROR:root:solve failed\n",
      "Traceback (most recent call last):\n",
      "  File \"<ipython-input-3-d6a951f715f9>\", line 16, in <module>\n",
      "    method='ols'\n",
      "  File \"/Users/baart_f/src/UTide/utide/_solve.py\", line 200, in solve\n",
      "    coef = _solv1(t, u, v, lat, **compat_opts)\n",
      "  File \"/Users/baart_f/src/UTide/utide/_solve.py\", line 209, in _solv1\n",
      "    packed = _slvinit(tin, uin, vin, lat, **opts)\n",
      "  File \"/Users/baart_f/src/UTide/utide/_solve.py\", line 458, in _slvinit\n",
      "    tin = np.ma.masked_invalid(tin)\n",
      "  File \"/Users/baart_f/.virtualenvs/main/lib/python3.6/site-packages/numpy/ma/core.py\", line 2362, in masked_invalid\n",
      "    condition = ~(np.isfinite(a))\n",
      "TypeError: ufunc 'isfinite' not supported for the input types, and the inputs could not be safely coerced to any supported types according to the casting rule ''safe''\n"
     ]
    },
    {
     "name": "stdout",
     "output_type": "stream",
     "text": [
      "id1-HOEKVHLD.nc 1909\n"
     ]
    },
    {
     "name": "stderr",
     "output_type": "stream",
     "text": [
      "ERROR:root:solve failed\n",
      "Traceback (most recent call last):\n",
      "  File \"<ipython-input-3-d6a951f715f9>\", line 16, in <module>\n",
      "    method='ols'\n",
      "  File \"/Users/baart_f/src/UTide/utide/_solve.py\", line 200, in solve\n",
      "    coef = _solv1(t, u, v, lat, **compat_opts)\n",
      "  File \"/Users/baart_f/src/UTide/utide/_solve.py\", line 209, in _solv1\n",
      "    packed = _slvinit(tin, uin, vin, lat, **opts)\n",
      "  File \"/Users/baart_f/src/UTide/utide/_solve.py\", line 458, in _slvinit\n",
      "    tin = np.ma.masked_invalid(tin)\n",
      "  File \"/Users/baart_f/.virtualenvs/main/lib/python3.6/site-packages/numpy/ma/core.py\", line 2362, in masked_invalid\n",
      "    condition = ~(np.isfinite(a))\n",
      "TypeError: ufunc 'isfinite' not supported for the input types, and the inputs could not be safely coerced to any supported types according to the casting rule ''safe''\n"
     ]
    },
    {
     "name": "stdout",
     "output_type": "stream",
     "text": [
      "id1-HOEKVHLD.nc 1910\n",
      "solve: matrix prep ... solution ... diagnostics ... done.\n",
      "id1-HOEKVHLD.nc 1911\n",
      "solve: matrix prep ... solution ... diagnostics ... done.\n",
      "id1-HOEKVHLD.nc 1912\n",
      "solve: matrix prep ... solution ... diagnostics ... done.\n",
      "id1-HOEKVHLD.nc 1913\n"
     ]
    },
    {
     "name": "stderr",
     "output_type": "stream",
     "text": [
      "ERROR:root:solve failed\n",
      "Traceback (most recent call last):\n",
      "  File \"<ipython-input-3-d6a951f715f9>\", line 16, in <module>\n",
      "    method='ols'\n",
      "  File \"/Users/baart_f/src/UTide/utide/_solve.py\", line 200, in solve\n",
      "    coef = _solv1(t, u, v, lat, **compat_opts)\n",
      "  File \"/Users/baart_f/src/UTide/utide/_solve.py\", line 209, in _solv1\n",
      "    packed = _slvinit(tin, uin, vin, lat, **opts)\n",
      "  File \"/Users/baart_f/src/UTide/utide/_solve.py\", line 458, in _slvinit\n",
      "    tin = np.ma.masked_invalid(tin)\n",
      "  File \"/Users/baart_f/.virtualenvs/main/lib/python3.6/site-packages/numpy/ma/core.py\", line 2362, in masked_invalid\n",
      "    condition = ~(np.isfinite(a))\n",
      "TypeError: ufunc 'isfinite' not supported for the input types, and the inputs could not be safely coerced to any supported types according to the casting rule ''safe''\n"
     ]
    },
    {
     "name": "stdout",
     "output_type": "stream",
     "text": [
      "id1-HOEKVHLD.nc 1914\n"
     ]
    },
    {
     "name": "stderr",
     "output_type": "stream",
     "text": [
      "ERROR:root:solve failed\n",
      "Traceback (most recent call last):\n",
      "  File \"<ipython-input-3-d6a951f715f9>\", line 16, in <module>\n",
      "    method='ols'\n",
      "  File \"/Users/baart_f/src/UTide/utide/_solve.py\", line 200, in solve\n",
      "    coef = _solv1(t, u, v, lat, **compat_opts)\n",
      "  File \"/Users/baart_f/src/UTide/utide/_solve.py\", line 209, in _solv1\n",
      "    packed = _slvinit(tin, uin, vin, lat, **opts)\n",
      "  File \"/Users/baart_f/src/UTide/utide/_solve.py\", line 458, in _slvinit\n",
      "    tin = np.ma.masked_invalid(tin)\n",
      "  File \"/Users/baart_f/.virtualenvs/main/lib/python3.6/site-packages/numpy/ma/core.py\", line 2362, in masked_invalid\n",
      "    condition = ~(np.isfinite(a))\n",
      "TypeError: ufunc 'isfinite' not supported for the input types, and the inputs could not be safely coerced to any supported types according to the casting rule ''safe''\n"
     ]
    },
    {
     "name": "stdout",
     "output_type": "stream",
     "text": [
      "id1-HOEKVHLD.nc 1915\n"
     ]
    },
    {
     "name": "stderr",
     "output_type": "stream",
     "text": [
      "ERROR:root:solve failed\n",
      "Traceback (most recent call last):\n",
      "  File \"<ipython-input-3-d6a951f715f9>\", line 16, in <module>\n",
      "    method='ols'\n",
      "  File \"/Users/baart_f/src/UTide/utide/_solve.py\", line 200, in solve\n",
      "    coef = _solv1(t, u, v, lat, **compat_opts)\n",
      "  File \"/Users/baart_f/src/UTide/utide/_solve.py\", line 209, in _solv1\n",
      "    packed = _slvinit(tin, uin, vin, lat, **opts)\n",
      "  File \"/Users/baart_f/src/UTide/utide/_solve.py\", line 458, in _slvinit\n",
      "    tin = np.ma.masked_invalid(tin)\n",
      "  File \"/Users/baart_f/.virtualenvs/main/lib/python3.6/site-packages/numpy/ma/core.py\", line 2362, in masked_invalid\n",
      "    condition = ~(np.isfinite(a))\n",
      "TypeError: ufunc 'isfinite' not supported for the input types, and the inputs could not be safely coerced to any supported types according to the casting rule ''safe''\n"
     ]
    },
    {
     "name": "stdout",
     "output_type": "stream",
     "text": [
      "id1-HOEKVHLD.nc 1916\n"
     ]
    },
    {
     "name": "stderr",
     "output_type": "stream",
     "text": [
      "ERROR:root:solve failed\n",
      "Traceback (most recent call last):\n",
      "  File \"<ipython-input-3-d6a951f715f9>\", line 16, in <module>\n",
      "    method='ols'\n",
      "  File \"/Users/baart_f/src/UTide/utide/_solve.py\", line 200, in solve\n",
      "    coef = _solv1(t, u, v, lat, **compat_opts)\n",
      "  File \"/Users/baart_f/src/UTide/utide/_solve.py\", line 209, in _solv1\n",
      "    packed = _slvinit(tin, uin, vin, lat, **opts)\n",
      "  File \"/Users/baart_f/src/UTide/utide/_solve.py\", line 458, in _slvinit\n",
      "    tin = np.ma.masked_invalid(tin)\n",
      "  File \"/Users/baart_f/.virtualenvs/main/lib/python3.6/site-packages/numpy/ma/core.py\", line 2362, in masked_invalid\n",
      "    condition = ~(np.isfinite(a))\n",
      "TypeError: ufunc 'isfinite' not supported for the input types, and the inputs could not be safely coerced to any supported types according to the casting rule ''safe''\n"
     ]
    },
    {
     "name": "stdout",
     "output_type": "stream",
     "text": [
      "id1-HOEKVHLD.nc 1917\n"
     ]
    },
    {
     "name": "stderr",
     "output_type": "stream",
     "text": [
      "ERROR:root:solve failed\n",
      "Traceback (most recent call last):\n",
      "  File \"<ipython-input-3-d6a951f715f9>\", line 16, in <module>\n",
      "    method='ols'\n",
      "  File \"/Users/baart_f/src/UTide/utide/_solve.py\", line 200, in solve\n",
      "    coef = _solv1(t, u, v, lat, **compat_opts)\n",
      "  File \"/Users/baart_f/src/UTide/utide/_solve.py\", line 209, in _solv1\n",
      "    packed = _slvinit(tin, uin, vin, lat, **opts)\n",
      "  File \"/Users/baart_f/src/UTide/utide/_solve.py\", line 458, in _slvinit\n",
      "    tin = np.ma.masked_invalid(tin)\n",
      "  File \"/Users/baart_f/.virtualenvs/main/lib/python3.6/site-packages/numpy/ma/core.py\", line 2362, in masked_invalid\n",
      "    condition = ~(np.isfinite(a))\n",
      "TypeError: ufunc 'isfinite' not supported for the input types, and the inputs could not be safely coerced to any supported types according to the casting rule ''safe''\n"
     ]
    },
    {
     "name": "stdout",
     "output_type": "stream",
     "text": [
      "id1-HOEKVHLD.nc 1918\n"
     ]
    },
    {
     "name": "stderr",
     "output_type": "stream",
     "text": [
      "ERROR:root:solve failed\n",
      "Traceback (most recent call last):\n",
      "  File \"<ipython-input-3-d6a951f715f9>\", line 16, in <module>\n",
      "    method='ols'\n",
      "  File \"/Users/baart_f/src/UTide/utide/_solve.py\", line 200, in solve\n",
      "    coef = _solv1(t, u, v, lat, **compat_opts)\n",
      "  File \"/Users/baart_f/src/UTide/utide/_solve.py\", line 209, in _solv1\n",
      "    packed = _slvinit(tin, uin, vin, lat, **opts)\n",
      "  File \"/Users/baart_f/src/UTide/utide/_solve.py\", line 458, in _slvinit\n",
      "    tin = np.ma.masked_invalid(tin)\n",
      "  File \"/Users/baart_f/.virtualenvs/main/lib/python3.6/site-packages/numpy/ma/core.py\", line 2362, in masked_invalid\n",
      "    condition = ~(np.isfinite(a))\n",
      "TypeError: ufunc 'isfinite' not supported for the input types, and the inputs could not be safely coerced to any supported types according to the casting rule ''safe''\n"
     ]
    },
    {
     "name": "stdout",
     "output_type": "stream",
     "text": [
      "id1-HOEKVHLD.nc 1919\n"
     ]
    },
    {
     "name": "stderr",
     "output_type": "stream",
     "text": [
      "ERROR:root:solve failed\n",
      "Traceback (most recent call last):\n",
      "  File \"<ipython-input-3-d6a951f715f9>\", line 16, in <module>\n",
      "    method='ols'\n",
      "  File \"/Users/baart_f/src/UTide/utide/_solve.py\", line 200, in solve\n",
      "    coef = _solv1(t, u, v, lat, **compat_opts)\n",
      "  File \"/Users/baart_f/src/UTide/utide/_solve.py\", line 209, in _solv1\n",
      "    packed = _slvinit(tin, uin, vin, lat, **opts)\n",
      "  File \"/Users/baart_f/src/UTide/utide/_solve.py\", line 458, in _slvinit\n",
      "    tin = np.ma.masked_invalid(tin)\n",
      "  File \"/Users/baart_f/.virtualenvs/main/lib/python3.6/site-packages/numpy/ma/core.py\", line 2362, in masked_invalid\n",
      "    condition = ~(np.isfinite(a))\n",
      "TypeError: ufunc 'isfinite' not supported for the input types, and the inputs could not be safely coerced to any supported types according to the casting rule ''safe''\n"
     ]
    },
    {
     "name": "stdout",
     "output_type": "stream",
     "text": [
      "id1-HOEKVHLD.nc 1920\n"
     ]
    },
    {
     "name": "stderr",
     "output_type": "stream",
     "text": [
      "ERROR:root:solve failed\n",
      "Traceback (most recent call last):\n",
      "  File \"<ipython-input-3-d6a951f715f9>\", line 16, in <module>\n",
      "    method='ols'\n",
      "  File \"/Users/baart_f/src/UTide/utide/_solve.py\", line 200, in solve\n",
      "    coef = _solv1(t, u, v, lat, **compat_opts)\n",
      "  File \"/Users/baart_f/src/UTide/utide/_solve.py\", line 209, in _solv1\n",
      "    packed = _slvinit(tin, uin, vin, lat, **opts)\n",
      "  File \"/Users/baart_f/src/UTide/utide/_solve.py\", line 458, in _slvinit\n",
      "    tin = np.ma.masked_invalid(tin)\n",
      "  File \"/Users/baart_f/.virtualenvs/main/lib/python3.6/site-packages/numpy/ma/core.py\", line 2362, in masked_invalid\n",
      "    condition = ~(np.isfinite(a))\n",
      "TypeError: ufunc 'isfinite' not supported for the input types, and the inputs could not be safely coerced to any supported types according to the casting rule ''safe''\n"
     ]
    },
    {
     "name": "stdout",
     "output_type": "stream",
     "text": [
      "id1-HOEKVHLD.nc 1921\n"
     ]
    },
    {
     "name": "stderr",
     "output_type": "stream",
     "text": [
      "ERROR:root:solve failed\n",
      "Traceback (most recent call last):\n",
      "  File \"<ipython-input-3-d6a951f715f9>\", line 16, in <module>\n",
      "    method='ols'\n",
      "  File \"/Users/baart_f/src/UTide/utide/_solve.py\", line 200, in solve\n",
      "    coef = _solv1(t, u, v, lat, **compat_opts)\n",
      "  File \"/Users/baart_f/src/UTide/utide/_solve.py\", line 209, in _solv1\n",
      "    packed = _slvinit(tin, uin, vin, lat, **opts)\n",
      "  File \"/Users/baart_f/src/UTide/utide/_solve.py\", line 458, in _slvinit\n",
      "    tin = np.ma.masked_invalid(tin)\n",
      "  File \"/Users/baart_f/.virtualenvs/main/lib/python3.6/site-packages/numpy/ma/core.py\", line 2362, in masked_invalid\n",
      "    condition = ~(np.isfinite(a))\n",
      "TypeError: ufunc 'isfinite' not supported for the input types, and the inputs could not be safely coerced to any supported types according to the casting rule ''safe''\n"
     ]
    },
    {
     "name": "stdout",
     "output_type": "stream",
     "text": [
      "id1-HOEKVHLD.nc 1922\n"
     ]
    },
    {
     "name": "stderr",
     "output_type": "stream",
     "text": [
      "ERROR:root:solve failed\n",
      "Traceback (most recent call last):\n",
      "  File \"<ipython-input-3-d6a951f715f9>\", line 16, in <module>\n",
      "    method='ols'\n",
      "  File \"/Users/baart_f/src/UTide/utide/_solve.py\", line 200, in solve\n",
      "    coef = _solv1(t, u, v, lat, **compat_opts)\n",
      "  File \"/Users/baart_f/src/UTide/utide/_solve.py\", line 209, in _solv1\n",
      "    packed = _slvinit(tin, uin, vin, lat, **opts)\n",
      "  File \"/Users/baart_f/src/UTide/utide/_solve.py\", line 458, in _slvinit\n",
      "    tin = np.ma.masked_invalid(tin)\n",
      "  File \"/Users/baart_f/.virtualenvs/main/lib/python3.6/site-packages/numpy/ma/core.py\", line 2362, in masked_invalid\n",
      "    condition = ~(np.isfinite(a))\n",
      "TypeError: ufunc 'isfinite' not supported for the input types, and the inputs could not be safely coerced to any supported types according to the casting rule ''safe''\n"
     ]
    },
    {
     "name": "stdout",
     "output_type": "stream",
     "text": [
      "id1-HOEKVHLD.nc 1923\n"
     ]
    },
    {
     "name": "stderr",
     "output_type": "stream",
     "text": [
      "ERROR:root:solve failed\n",
      "Traceback (most recent call last):\n",
      "  File \"<ipython-input-3-d6a951f715f9>\", line 16, in <module>\n",
      "    method='ols'\n",
      "  File \"/Users/baart_f/src/UTide/utide/_solve.py\", line 200, in solve\n",
      "    coef = _solv1(t, u, v, lat, **compat_opts)\n",
      "  File \"/Users/baart_f/src/UTide/utide/_solve.py\", line 209, in _solv1\n",
      "    packed = _slvinit(tin, uin, vin, lat, **opts)\n",
      "  File \"/Users/baart_f/src/UTide/utide/_solve.py\", line 458, in _slvinit\n",
      "    tin = np.ma.masked_invalid(tin)\n",
      "  File \"/Users/baart_f/.virtualenvs/main/lib/python3.6/site-packages/numpy/ma/core.py\", line 2362, in masked_invalid\n",
      "    condition = ~(np.isfinite(a))\n",
      "TypeError: ufunc 'isfinite' not supported for the input types, and the inputs could not be safely coerced to any supported types according to the casting rule ''safe''\n"
     ]
    },
    {
     "name": "stdout",
     "output_type": "stream",
     "text": [
      "id1-HOEKVHLD.nc 1924\n"
     ]
    },
    {
     "name": "stderr",
     "output_type": "stream",
     "text": [
      "ERROR:root:solve failed\n",
      "Traceback (most recent call last):\n",
      "  File \"<ipython-input-3-d6a951f715f9>\", line 16, in <module>\n",
      "    method='ols'\n",
      "  File \"/Users/baart_f/src/UTide/utide/_solve.py\", line 200, in solve\n",
      "    coef = _solv1(t, u, v, lat, **compat_opts)\n",
      "  File \"/Users/baart_f/src/UTide/utide/_solve.py\", line 209, in _solv1\n",
      "    packed = _slvinit(tin, uin, vin, lat, **opts)\n",
      "  File \"/Users/baart_f/src/UTide/utide/_solve.py\", line 458, in _slvinit\n",
      "    tin = np.ma.masked_invalid(tin)\n",
      "  File \"/Users/baart_f/.virtualenvs/main/lib/python3.6/site-packages/numpy/ma/core.py\", line 2362, in masked_invalid\n",
      "    condition = ~(np.isfinite(a))\n",
      "TypeError: ufunc 'isfinite' not supported for the input types, and the inputs could not be safely coerced to any supported types according to the casting rule ''safe''\n"
     ]
    },
    {
     "name": "stdout",
     "output_type": "stream",
     "text": [
      "id1-HOEKVHLD.nc 1925\n"
     ]
    },
    {
     "name": "stderr",
     "output_type": "stream",
     "text": [
      "ERROR:root:solve failed\n",
      "Traceback (most recent call last):\n",
      "  File \"<ipython-input-3-d6a951f715f9>\", line 16, in <module>\n",
      "    method='ols'\n",
      "  File \"/Users/baart_f/src/UTide/utide/_solve.py\", line 200, in solve\n",
      "    coef = _solv1(t, u, v, lat, **compat_opts)\n",
      "  File \"/Users/baart_f/src/UTide/utide/_solve.py\", line 209, in _solv1\n",
      "    packed = _slvinit(tin, uin, vin, lat, **opts)\n",
      "  File \"/Users/baart_f/src/UTide/utide/_solve.py\", line 458, in _slvinit\n",
      "    tin = np.ma.masked_invalid(tin)\n",
      "  File \"/Users/baart_f/.virtualenvs/main/lib/python3.6/site-packages/numpy/ma/core.py\", line 2362, in masked_invalid\n",
      "    condition = ~(np.isfinite(a))\n",
      "TypeError: ufunc 'isfinite' not supported for the input types, and the inputs could not be safely coerced to any supported types according to the casting rule ''safe''\n"
     ]
    },
    {
     "name": "stdout",
     "output_type": "stream",
     "text": [
      "id1-HOEKVHLD.nc 1926\n"
     ]
    },
    {
     "name": "stderr",
     "output_type": "stream",
     "text": [
      "ERROR:root:solve failed\n",
      "Traceback (most recent call last):\n",
      "  File \"<ipython-input-3-d6a951f715f9>\", line 16, in <module>\n",
      "    method='ols'\n",
      "  File \"/Users/baart_f/src/UTide/utide/_solve.py\", line 200, in solve\n",
      "    coef = _solv1(t, u, v, lat, **compat_opts)\n",
      "  File \"/Users/baart_f/src/UTide/utide/_solve.py\", line 209, in _solv1\n",
      "    packed = _slvinit(tin, uin, vin, lat, **opts)\n",
      "  File \"/Users/baart_f/src/UTide/utide/_solve.py\", line 458, in _slvinit\n",
      "    tin = np.ma.masked_invalid(tin)\n",
      "  File \"/Users/baart_f/.virtualenvs/main/lib/python3.6/site-packages/numpy/ma/core.py\", line 2362, in masked_invalid\n",
      "    condition = ~(np.isfinite(a))\n",
      "TypeError: ufunc 'isfinite' not supported for the input types, and the inputs could not be safely coerced to any supported types according to the casting rule ''safe''\n"
     ]
    },
    {
     "name": "stdout",
     "output_type": "stream",
     "text": [
      "id1-HOEKVHLD.nc 1927\n"
     ]
    },
    {
     "name": "stderr",
     "output_type": "stream",
     "text": [
      "ERROR:root:solve failed\n",
      "Traceback (most recent call last):\n",
      "  File \"<ipython-input-3-d6a951f715f9>\", line 16, in <module>\n",
      "    method='ols'\n",
      "  File \"/Users/baart_f/src/UTide/utide/_solve.py\", line 200, in solve\n",
      "    coef = _solv1(t, u, v, lat, **compat_opts)\n",
      "  File \"/Users/baart_f/src/UTide/utide/_solve.py\", line 209, in _solv1\n",
      "    packed = _slvinit(tin, uin, vin, lat, **opts)\n",
      "  File \"/Users/baart_f/src/UTide/utide/_solve.py\", line 458, in _slvinit\n",
      "    tin = np.ma.masked_invalid(tin)\n",
      "  File \"/Users/baart_f/.virtualenvs/main/lib/python3.6/site-packages/numpy/ma/core.py\", line 2362, in masked_invalid\n",
      "    condition = ~(np.isfinite(a))\n",
      "TypeError: ufunc 'isfinite' not supported for the input types, and the inputs could not be safely coerced to any supported types according to the casting rule ''safe''\n"
     ]
    },
    {
     "name": "stdout",
     "output_type": "stream",
     "text": [
      "id1-HOEKVHLD.nc 1928\n"
     ]
    },
    {
     "name": "stderr",
     "output_type": "stream",
     "text": [
      "ERROR:root:solve failed\n",
      "Traceback (most recent call last):\n",
      "  File \"<ipython-input-3-d6a951f715f9>\", line 16, in <module>\n",
      "    method='ols'\n",
      "  File \"/Users/baart_f/src/UTide/utide/_solve.py\", line 200, in solve\n",
      "    coef = _solv1(t, u, v, lat, **compat_opts)\n",
      "  File \"/Users/baart_f/src/UTide/utide/_solve.py\", line 209, in _solv1\n",
      "    packed = _slvinit(tin, uin, vin, lat, **opts)\n",
      "  File \"/Users/baart_f/src/UTide/utide/_solve.py\", line 458, in _slvinit\n",
      "    tin = np.ma.masked_invalid(tin)\n",
      "  File \"/Users/baart_f/.virtualenvs/main/lib/python3.6/site-packages/numpy/ma/core.py\", line 2362, in masked_invalid\n",
      "    condition = ~(np.isfinite(a))\n",
      "TypeError: ufunc 'isfinite' not supported for the input types, and the inputs could not be safely coerced to any supported types according to the casting rule ''safe''\n"
     ]
    },
    {
     "name": "stdout",
     "output_type": "stream",
     "text": [
      "id1-HOEKVHLD.nc 1929\n"
     ]
    },
    {
     "name": "stderr",
     "output_type": "stream",
     "text": [
      "ERROR:root:solve failed\n",
      "Traceback (most recent call last):\n",
      "  File \"<ipython-input-3-d6a951f715f9>\", line 16, in <module>\n",
      "    method='ols'\n",
      "  File \"/Users/baart_f/src/UTide/utide/_solve.py\", line 200, in solve\n",
      "    coef = _solv1(t, u, v, lat, **compat_opts)\n",
      "  File \"/Users/baart_f/src/UTide/utide/_solve.py\", line 209, in _solv1\n",
      "    packed = _slvinit(tin, uin, vin, lat, **opts)\n",
      "  File \"/Users/baart_f/src/UTide/utide/_solve.py\", line 458, in _slvinit\n",
      "    tin = np.ma.masked_invalid(tin)\n",
      "  File \"/Users/baart_f/.virtualenvs/main/lib/python3.6/site-packages/numpy/ma/core.py\", line 2362, in masked_invalid\n",
      "    condition = ~(np.isfinite(a))\n",
      "TypeError: ufunc 'isfinite' not supported for the input types, and the inputs could not be safely coerced to any supported types according to the casting rule ''safe''\n"
     ]
    },
    {
     "name": "stdout",
     "output_type": "stream",
     "text": [
      "id1-HOEKVHLD.nc 1930\n"
     ]
    },
    {
     "name": "stderr",
     "output_type": "stream",
     "text": [
      "ERROR:root:solve failed\n",
      "Traceback (most recent call last):\n",
      "  File \"<ipython-input-3-d6a951f715f9>\", line 16, in <module>\n",
      "    method='ols'\n",
      "  File \"/Users/baart_f/src/UTide/utide/_solve.py\", line 200, in solve\n",
      "    coef = _solv1(t, u, v, lat, **compat_opts)\n",
      "  File \"/Users/baart_f/src/UTide/utide/_solve.py\", line 209, in _solv1\n",
      "    packed = _slvinit(tin, uin, vin, lat, **opts)\n",
      "  File \"/Users/baart_f/src/UTide/utide/_solve.py\", line 458, in _slvinit\n",
      "    tin = np.ma.masked_invalid(tin)\n",
      "  File \"/Users/baart_f/.virtualenvs/main/lib/python3.6/site-packages/numpy/ma/core.py\", line 2362, in masked_invalid\n",
      "    condition = ~(np.isfinite(a))\n",
      "TypeError: ufunc 'isfinite' not supported for the input types, and the inputs could not be safely coerced to any supported types according to the casting rule ''safe''\n"
     ]
    },
    {
     "name": "stdout",
     "output_type": "stream",
     "text": [
      "id1-HOEKVHLD.nc 1931\n"
     ]
    },
    {
     "name": "stderr",
     "output_type": "stream",
     "text": [
      "ERROR:root:solve failed\n",
      "Traceback (most recent call last):\n",
      "  File \"<ipython-input-3-d6a951f715f9>\", line 16, in <module>\n",
      "    method='ols'\n",
      "  File \"/Users/baart_f/src/UTide/utide/_solve.py\", line 200, in solve\n",
      "    coef = _solv1(t, u, v, lat, **compat_opts)\n",
      "  File \"/Users/baart_f/src/UTide/utide/_solve.py\", line 209, in _solv1\n",
      "    packed = _slvinit(tin, uin, vin, lat, **opts)\n",
      "  File \"/Users/baart_f/src/UTide/utide/_solve.py\", line 458, in _slvinit\n",
      "    tin = np.ma.masked_invalid(tin)\n",
      "  File \"/Users/baart_f/.virtualenvs/main/lib/python3.6/site-packages/numpy/ma/core.py\", line 2362, in masked_invalid\n",
      "    condition = ~(np.isfinite(a))\n",
      "TypeError: ufunc 'isfinite' not supported for the input types, and the inputs could not be safely coerced to any supported types according to the casting rule ''safe''\n"
     ]
    },
    {
     "name": "stdout",
     "output_type": "stream",
     "text": [
      "id1-HOEKVHLD.nc 1932\n",
      "solve: matrix prep ... solution ... diagnostics ... done.\n",
      "id1-HOEKVHLD.nc 1933\n"
     ]
    },
    {
     "name": "stderr",
     "output_type": "stream",
     "text": [
      "ERROR:root:solve failed\n",
      "Traceback (most recent call last):\n",
      "  File \"<ipython-input-3-d6a951f715f9>\", line 16, in <module>\n",
      "    method='ols'\n",
      "  File \"/Users/baart_f/src/UTide/utide/_solve.py\", line 200, in solve\n",
      "    coef = _solv1(t, u, v, lat, **compat_opts)\n",
      "  File \"/Users/baart_f/src/UTide/utide/_solve.py\", line 209, in _solv1\n",
      "    packed = _slvinit(tin, uin, vin, lat, **opts)\n",
      "  File \"/Users/baart_f/src/UTide/utide/_solve.py\", line 458, in _slvinit\n",
      "    tin = np.ma.masked_invalid(tin)\n",
      "  File \"/Users/baart_f/.virtualenvs/main/lib/python3.6/site-packages/numpy/ma/core.py\", line 2362, in masked_invalid\n",
      "    condition = ~(np.isfinite(a))\n",
      "TypeError: ufunc 'isfinite' not supported for the input types, and the inputs could not be safely coerced to any supported types according to the casting rule ''safe''\n"
     ]
    },
    {
     "name": "stdout",
     "output_type": "stream",
     "text": [
      "id1-HOEKVHLD.nc 1934\n"
     ]
    },
    {
     "name": "stderr",
     "output_type": "stream",
     "text": [
      "ERROR:root:solve failed\n",
      "Traceback (most recent call last):\n",
      "  File \"<ipython-input-3-d6a951f715f9>\", line 16, in <module>\n",
      "    method='ols'\n",
      "  File \"/Users/baart_f/src/UTide/utide/_solve.py\", line 200, in solve\n",
      "    coef = _solv1(t, u, v, lat, **compat_opts)\n",
      "  File \"/Users/baart_f/src/UTide/utide/_solve.py\", line 209, in _solv1\n",
      "    packed = _slvinit(tin, uin, vin, lat, **opts)\n",
      "  File \"/Users/baart_f/src/UTide/utide/_solve.py\", line 458, in _slvinit\n",
      "    tin = np.ma.masked_invalid(tin)\n",
      "  File \"/Users/baart_f/.virtualenvs/main/lib/python3.6/site-packages/numpy/ma/core.py\", line 2362, in masked_invalid\n",
      "    condition = ~(np.isfinite(a))\n",
      "TypeError: ufunc 'isfinite' not supported for the input types, and the inputs could not be safely coerced to any supported types according to the casting rule ''safe''\n"
     ]
    },
    {
     "name": "stdout",
     "output_type": "stream",
     "text": [
      "id1-HOEKVHLD.nc 1935\n"
     ]
    },
    {
     "name": "stderr",
     "output_type": "stream",
     "text": [
      "ERROR:root:solve failed\n",
      "Traceback (most recent call last):\n",
      "  File \"<ipython-input-3-d6a951f715f9>\", line 16, in <module>\n",
      "    method='ols'\n",
      "  File \"/Users/baart_f/src/UTide/utide/_solve.py\", line 200, in solve\n",
      "    coef = _solv1(t, u, v, lat, **compat_opts)\n",
      "  File \"/Users/baart_f/src/UTide/utide/_solve.py\", line 209, in _solv1\n",
      "    packed = _slvinit(tin, uin, vin, lat, **opts)\n",
      "  File \"/Users/baart_f/src/UTide/utide/_solve.py\", line 458, in _slvinit\n",
      "    tin = np.ma.masked_invalid(tin)\n",
      "  File \"/Users/baart_f/.virtualenvs/main/lib/python3.6/site-packages/numpy/ma/core.py\", line 2362, in masked_invalid\n",
      "    condition = ~(np.isfinite(a))\n",
      "TypeError: ufunc 'isfinite' not supported for the input types, and the inputs could not be safely coerced to any supported types according to the casting rule ''safe''\n"
     ]
    },
    {
     "name": "stdout",
     "output_type": "stream",
     "text": [
      "id1-HOEKVHLD.nc 1936\n",
      "solve: matrix prep ... solution ... diagnostics ... done.\n",
      "id1-HOEKVHLD.nc 1937\n"
     ]
    },
    {
     "name": "stderr",
     "output_type": "stream",
     "text": [
      "ERROR:root:solve failed\n",
      "Traceback (most recent call last):\n",
      "  File \"<ipython-input-3-d6a951f715f9>\", line 16, in <module>\n",
      "    method='ols'\n",
      "  File \"/Users/baart_f/src/UTide/utide/_solve.py\", line 200, in solve\n",
      "    coef = _solv1(t, u, v, lat, **compat_opts)\n",
      "  File \"/Users/baart_f/src/UTide/utide/_solve.py\", line 209, in _solv1\n",
      "    packed = _slvinit(tin, uin, vin, lat, **opts)\n",
      "  File \"/Users/baart_f/src/UTide/utide/_solve.py\", line 458, in _slvinit\n",
      "    tin = np.ma.masked_invalid(tin)\n",
      "  File \"/Users/baart_f/.virtualenvs/main/lib/python3.6/site-packages/numpy/ma/core.py\", line 2362, in masked_invalid\n",
      "    condition = ~(np.isfinite(a))\n",
      "TypeError: ufunc 'isfinite' not supported for the input types, and the inputs could not be safely coerced to any supported types according to the casting rule ''safe''\n"
     ]
    },
    {
     "name": "stdout",
     "output_type": "stream",
     "text": [
      "id1-HOEKVHLD.nc 1938\n",
      "solve: matrix prep ... solution ... diagnostics ... done.\n",
      "id1-HOEKVHLD.nc 1939\n",
      "solve: matrix prep ... solution ... diagnostics ... done.\n",
      "id1-HOEKVHLD.nc 1940\n",
      "solve: matrix prep ... solution ... diagnostics ... done.\n",
      "id1-HOEKVHLD.nc 1941\n",
      "solve: matrix prep ... solution ... diagnostics ... done.\n",
      "id1-HOEKVHLD.nc 1942\n",
      "solve: matrix prep ... solution ... diagnostics ... done.\n",
      "id1-HOEKVHLD.nc 1943\n",
      "solve: matrix prep ... solution ... diagnostics ... done.\n",
      "id1-HOEKVHLD.nc 1944\n",
      "solve: matrix prep ... solution ... diagnostics ... done.\n",
      "id1-HOEKVHLD.nc 1945\n",
      "solve: matrix prep ... solution ... diagnostics ... done.\n",
      "id1-HOEKVHLD.nc 1946\n",
      "solve: matrix prep ... solution ... diagnostics ... done.\n",
      "id1-HOEKVHLD.nc 1947\n",
      "solve: matrix prep ... solution ... diagnostics ... done.\n",
      "id1-HOEKVHLD.nc 1948\n",
      "solve: matrix prep ... solution ... diagnostics ... done.\n",
      "id1-HOEKVHLD.nc 1949\n",
      "solve: matrix prep ... solution ... diagnostics ... done.\n",
      "id1-HOEKVHLD.nc 1950\n",
      "solve: matrix prep ... solution ... diagnostics ... done.\n",
      "id1-HOEKVHLD.nc 1951\n",
      "solve: matrix prep ... solution ... diagnostics ... done.\n",
      "id1-HOEKVHLD.nc 1952\n",
      "solve: matrix prep ... solution ... diagnostics ... done.\n",
      "id1-HOEKVHLD.nc 1953\n",
      "solve: matrix prep ... solution ... diagnostics ... done.\n",
      "id1-HOEKVHLD.nc 1954\n",
      "solve: matrix prep ... solution ... diagnostics ... done.\n",
      "id1-HOEKVHLD.nc 1955\n",
      "solve: matrix prep ... solution ... diagnostics ... done.\n",
      "id1-HOEKVHLD.nc 1956\n",
      "solve: matrix prep ... solution ... diagnostics ... done.\n",
      "id1-HOEKVHLD.nc 1957\n",
      "solve: matrix prep ... solution ... diagnostics ... done.\n",
      "id1-HOEKVHLD.nc 1958\n",
      "solve: matrix prep ... solution ... diagnostics ... done.\n",
      "id1-HOEKVHLD.nc 1959\n",
      "solve: matrix prep ... solution ... diagnostics ... done.\n",
      "id1-HOEKVHLD.nc 1960\n",
      "solve: matrix prep ... solution ... diagnostics ... done.\n",
      "id1-HOEKVHLD.nc 1961\n",
      "solve: matrix prep ... solution ... diagnostics ... done.\n",
      "id1-HOEKVHLD.nc 1962\n",
      "solve: matrix prep ... solution ... diagnostics ... done.\n",
      "id1-HOEKVHLD.nc 1963\n",
      "solve: matrix prep ... solution ... diagnostics ... done.\n",
      "id1-HOEKVHLD.nc 1964\n",
      "solve: matrix prep ... solution ... diagnostics ... done.\n",
      "id1-HOEKVHLD.nc 1965\n",
      "solve: matrix prep ... solution ... diagnostics ... done.\n",
      "id1-HOEKVHLD.nc 1966\n",
      "solve: matrix prep ... solution ... diagnostics ... done.\n",
      "id1-HOEKVHLD.nc 1967\n",
      "solve: matrix prep ... solution ... diagnostics ... done.\n",
      "id1-HOEKVHLD.nc 1968\n",
      "solve: matrix prep ... solution ... diagnostics ... done.\n",
      "id1-HOEKVHLD.nc 1969\n",
      "solve: matrix prep ... solution ... diagnostics ... done.\n",
      "id1-HOEKVHLD.nc 1970\n",
      "solve: matrix prep ... solution ... diagnostics ... done.\n",
      "id1-HOEKVHLD.nc 1971\n",
      "solve: matrix prep ... solution ... diagnostics ... done.\n",
      "id1-HOEKVHLD.nc 1972\n",
      "solve: matrix prep ... solution ... diagnostics ... done.\n",
      "id1-HOEKVHLD.nc 1973\n",
      "solve: matrix prep ... solution ... diagnostics ... done.\n",
      "id1-HOEKVHLD.nc 1974\n",
      "solve: matrix prep ... solution ... diagnostics ... done.\n",
      "id1-HOEKVHLD.nc 1975\n",
      "solve: matrix prep ... solution ... diagnostics ... done.\n",
      "id1-HOEKVHLD.nc 1976\n",
      "solve: matrix prep ... solution ... diagnostics ... done.\n",
      "id1-HOEKVHLD.nc 1977\n",
      "solve: matrix prep ... solution ... diagnostics ... done.\n",
      "id1-HOEKVHLD.nc 1978\n",
      "solve: matrix prep ... solution ... diagnostics ... done.\n",
      "id1-HOEKVHLD.nc 1979\n",
      "solve: matrix prep ... solution ... diagnostics ... done.\n",
      "id1-HOEKVHLD.nc 1980\n",
      "solve: matrix prep ... solution ... diagnostics ... done.\n",
      "id1-HOEKVHLD.nc 1981\n",
      "solve: matrix prep ... solution ... diagnostics ... done.\n",
      "id1-HOEKVHLD.nc 1982\n",
      "solve: matrix prep ... solution ... diagnostics ... done.\n",
      "id1-HOEKVHLD.nc 1983\n",
      "solve: matrix prep ... solution ... diagnostics ... done.\n",
      "id1-HOEKVHLD.nc 1984\n",
      "solve: matrix prep ... solution ... diagnostics ... done.\n",
      "id1-HOEKVHLD.nc 1985\n",
      "solve: matrix prep ... solution ... diagnostics ... done.\n",
      "id1-HOEKVHLD.nc 1986\n",
      "solve: matrix prep ... solution ... diagnostics ... done.\n",
      "id1-HOEKVHLD.nc 1987\n",
      "solve: matrix prep ... solution ... diagnostics ... done.\n",
      "id1-HOEKVHLD.nc 1988\n",
      "solve: matrix prep ... solution ... diagnostics ... done.\n",
      "id1-HOEKVHLD.nc 1989\n",
      "solve: matrix prep ... solution ... diagnostics ... done.\n",
      "id1-HOEKVHLD.nc 1990\n",
      "solve: matrix prep ... solution ... diagnostics ... done.\n",
      "id1-HOEKVHLD.nc 1991\n",
      "solve: matrix prep ... solution ... diagnostics ... done.\n",
      "id1-HOEKVHLD.nc 1992\n",
      "solve: matrix prep ... solution ... diagnostics ... done.\n",
      "id1-HOEKVHLD.nc 1993\n",
      "solve: matrix prep ... solution ... diagnostics ... done.\n",
      "id1-HOEKVHLD.nc 1994\n",
      "solve: matrix prep ... solution ... diagnostics ... done.\n",
      "id1-HOEKVHLD.nc 1995\n",
      "solve: matrix prep ... solution ... diagnostics ... done.\n",
      "id1-HOEKVHLD.nc 1996\n",
      "solve: matrix prep ... solution ... diagnostics ... done.\n",
      "id1-HOEKVHLD.nc 1997\n",
      "solve: matrix prep ... solution ... diagnostics ... done.\n",
      "id1-HOEKVHLD.nc 1998\n",
      "solve: matrix prep ... solution ... diagnostics ... done.\n",
      "id1-HOEKVHLD.nc 1999\n",
      "solve: matrix prep ... solution ... diagnostics ... done.\n",
      "id1-HOEKVHLD.nc 2000\n",
      "solve: matrix prep ... solution ... diagnostics ... done.\n",
      "id1-HOEKVHLD.nc 2001\n",
      "solve: matrix prep ... solution ... diagnostics ... done.\n",
      "id1-HOEKVHLD.nc 2002\n",
      "solve: matrix prep ... solution ... diagnostics ... done.\n",
      "id1-HOEKVHLD.nc 2003\n",
      "solve: matrix prep ... solution ... diagnostics ... done.\n",
      "id1-HOEKVHLD.nc 2004\n",
      "solve: matrix prep ... solution ... diagnostics ... done.\n",
      "id1-HOEKVHLD.nc 2005\n",
      "solve: matrix prep ... solution ... diagnostics ... done.\n",
      "id1-HOEKVHLD.nc 2006\n",
      "solve: matrix prep ... solution ... diagnostics ... done.\n",
      "id1-HOEKVHLD.nc 2007\n",
      "solve: matrix prep ... solution ... diagnostics ... done.\n",
      "id1-HOEKVHLD.nc 2008\n",
      "solve: matrix prep ... solution ... diagnostics ... done.\n",
      "id1-HOEKVHLD.nc 2009\n",
      "solve: matrix prep ... solution ... diagnostics ... done.\n",
      "id1-HOEKVHLD.nc 2010\n",
      "solve: matrix prep ... solution ... diagnostics ... done.\n",
      "id1-HOEKVHLD.nc 2011\n",
      "solve: matrix prep ... solution ... diagnostics ... done.\n",
      "id1-HOEKVHLD.nc 2012\n",
      "solve: matrix prep ... solution ... diagnostics ... done.\n",
      "id1-HOEKVHLD.nc 2013\n",
      "solve: matrix prep ... solution ... diagnostics ... done.\n",
      "id1-HOEKVHLD.nc 2014\n",
      "solve: matrix prep ... solution ... diagnostics ... done.\n",
      "id1-HOEKVHLD.nc 2015\n",
      "solve: matrix prep ... solution ... diagnostics ... done.\n",
      "id1-HOEKVHLD.nc 2016\n",
      "solve: matrix prep ... solution ... diagnostics ... done.\n",
      "id1-HOEKVHLD.nc 2017\n",
      "solve: matrix prep ... solution ... diagnostics ... done.\n",
      "id1-IJMDBTHVN.nc 1980\n",
      "solve: matrix prep ... solution ... diagnostics ... done.\n",
      "id1-IJMDBTHVN.nc 1981\n"
     ]
    },
    {
     "name": "stderr",
     "output_type": "stream",
     "text": [
      "/Users/baart_f/src/UTide/utide/confidence.py:179: RuntimeWarning: divide by zero encountered in double_scalars\n",
      "  np.dot(xmod.conj(), _Wx)) / (nt-nm)\n",
      "/Users/baart_f/src/UTide/utide/confidence.py:182: RuntimeWarning: invalid value encountered in multiply\n",
      "  gamC = np.linalg.inv(np.dot(B.conj().T, _WB)) * varMSM\n",
      "/Users/baart_f/src/UTide/utide/confidence.py:186: RuntimeWarning: divide by zero encountered in double_scalars\n",
      "  gamP *= (np.dot(xraw, _Wx) - np.dot(xmod, _Wx)) / (nt - nm)\n",
      "/Users/baart_f/src/UTide/utide/confidence.py:186: RuntimeWarning: invalid value encountered in multiply\n",
      "  gamP *= (np.dot(xraw, _Wx) - np.dot(xmod, _Wx)) / (nt - nm)\n",
      "/Users/baart_f/src/UTide/utide/confidence.py:192: RuntimeWarning: invalid value encountered in subtract\n",
      "  Hall = gamC - gamP\n"
     ]
    },
    {
     "name": "stdout",
     "output_type": "stream",
     "text": [
      "solve: matrix prep ... solution ... diagnostics ... done.\n",
      "id1-IJMDBTHVN.nc 1982\n",
      "solve: matrix prep ... solution ... diagnostics ... done.\n",
      "id1-IJMDBTHVN.nc 1983\n",
      "solve: matrix prep ... solution ... diagnostics ... done.\n",
      "id1-IJMDBTHVN.nc 1984\n",
      "solve: matrix prep ... solution ... diagnostics ... done.\n",
      "id1-IJMDBTHVN.nc 1985\n",
      "solve: matrix prep ... solution ... diagnostics ... done.\n",
      "id1-IJMDBTHVN.nc 1986\n",
      "solve: matrix prep ... solution ... diagnostics ... done.\n",
      "id1-IJMDBTHVN.nc 1987\n",
      "solve: matrix prep ... solution ... diagnostics ... done.\n",
      "id1-IJMDBTHVN.nc 1988\n",
      "solve: matrix prep ... solution ... diagnostics ... done.\n",
      "id1-IJMDBTHVN.nc 1989\n",
      "solve: matrix prep ... solution ... diagnostics ... done.\n",
      "id1-IJMDBTHVN.nc 1990\n",
      "solve: matrix prep ... solution ... diagnostics ... done.\n",
      "id1-IJMDBTHVN.nc 1991\n",
      "solve: matrix prep ... solution ... diagnostics ... done.\n",
      "id1-IJMDBTHVN.nc 1992\n",
      "solve: matrix prep ... solution ... diagnostics ... done.\n",
      "id1-IJMDBTHVN.nc 1993\n",
      "solve: matrix prep ... solution ... diagnostics ... done.\n",
      "id1-IJMDBTHVN.nc 1994\n",
      "solve: matrix prep ... solution ... diagnostics ... done.\n",
      "id1-IJMDBTHVN.nc 1995\n",
      "solve: matrix prep ... solution ... diagnostics ... done.\n",
      "id1-IJMDBTHVN.nc 1996\n",
      "solve: matrix prep ... solution ... diagnostics ... done.\n",
      "id1-IJMDBTHVN.nc 1997\n",
      "solve: matrix prep ... solution ... diagnostics ... done.\n",
      "id1-IJMDBTHVN.nc 1998\n",
      "solve: matrix prep ... solution ... diagnostics ... done.\n",
      "id1-IJMDBTHVN.nc 1999\n",
      "solve: matrix prep ... solution ... diagnostics ... done.\n",
      "id1-IJMDBTHVN.nc 2000\n",
      "solve: matrix prep ... solution ... diagnostics ... done.\n",
      "id1-IJMDBTHVN.nc 2001\n",
      "solve: matrix prep ... solution ... diagnostics ... done.\n",
      "id1-IJMDBTHVN.nc 2002\n",
      "solve: matrix prep ... solution ... diagnostics ... done.\n",
      "id1-IJMDBTHVN.nc 2003\n",
      "solve: matrix prep ... solution ... diagnostics ... done.\n",
      "id1-IJMDBTHVN.nc 2004\n",
      "solve: matrix prep ... solution ... diagnostics ... done.\n",
      "id1-IJMDBTHVN.nc 2005\n",
      "solve: matrix prep ... solution ... diagnostics ... done.\n",
      "id1-IJMDBTHVN.nc 2006\n",
      "solve: matrix prep ... solution ... diagnostics ... done.\n",
      "id1-IJMDBTHVN.nc 2007\n",
      "solve: matrix prep ... solution ... diagnostics ... done.\n",
      "id1-IJMDBTHVN.nc 2008\n",
      "solve: matrix prep ... solution ... diagnostics ... done.\n",
      "id1-IJMDBTHVN.nc 2009\n",
      "solve: matrix prep ... solution ... diagnostics ... done.\n",
      "id1-IJMDBTHVN.nc 2010\n",
      "solve: matrix prep ... solution ... diagnostics ... done.\n",
      "id1-IJMDBTHVN.nc 2011\n",
      "solve: matrix prep ... solution ... diagnostics ... done.\n",
      "id1-IJMDBTHVN.nc 2012\n",
      "solve: matrix prep ... solution ... diagnostics ... done.\n",
      "id1-IJMDBTHVN.nc 2013\n",
      "solve: matrix prep ... solution ... diagnostics ... done.\n",
      "id1-IJMDBTHVN.nc 2014\n",
      "solve: matrix prep ... solution ... diagnostics ... done.\n",
      "id1-IJMDBTHVN.nc 2015\n",
      "solve: matrix prep ... solution ... diagnostics ... done.\n",
      "id1-IJMDBTHVN.nc 2016\n",
      "solve: matrix prep ... solution ... diagnostics ... done.\n",
      "id1-IJMDBTHVN.nc 2017\n",
      "solve: matrix prep ... solution ... diagnostics ... done.\n",
      "id1-IJMDNDSS.nc 1924\n",
      "solve: matrix prep ... solution ... diagnostics ... done.\n",
      "id1-IJMDNDSS.nc 1925\n",
      "solve: matrix prep ... solution ... diagnostics ... done.\n",
      "id1-IJMDNDSS.nc 1926\n",
      "solve: matrix prep ... solution ... diagnostics ... done.\n",
      "id1-IJMDNDSS.nc 1927\n",
      "solve: matrix prep ... solution ... diagnostics ... done.\n",
      "id1-IJMDNDSS.nc 1928\n",
      "solve: matrix prep ... solution ... diagnostics ... done.\n",
      "id1-IJMDNDSS.nc 1929\n",
      "solve: matrix prep ... solution ... diagnostics ... done.\n",
      "id1-IJMDNDSS.nc 1930\n",
      "solve: matrix prep ... solution ... diagnostics ... done.\n",
      "id1-IJMDNDSS.nc 1931\n",
      "solve: matrix prep ... solution ... diagnostics ... done.\n",
      "id1-IJMDNDSS.nc 1932\n",
      "solve: matrix prep ... solution ... diagnostics ... done.\n",
      "id1-IJMDNDSS.nc 1933\n",
      "solve: matrix prep ... solution ... diagnostics ... done.\n",
      "id1-IJMDNDSS.nc 1934\n",
      "solve: matrix prep ... solution ... diagnostics ... done.\n",
      "id1-IJMDNDSS.nc 1935\n",
      "solve: matrix prep ... solution ... diagnostics ... done.\n",
      "id1-IJMDNDSS.nc 1936\n",
      "solve: matrix prep ... solution ... diagnostics ... done.\n",
      "id1-IJMDNDSS.nc 1937\n",
      "solve: matrix prep ... solution ... diagnostics ... done.\n",
      "id1-IJMDNDSS.nc 1938\n",
      "solve: matrix prep ... solution ... diagnostics ... done.\n",
      "id1-IJMDNDSS.nc 1939\n",
      "solve: matrix prep ... solution ... diagnostics ... done.\n",
      "id1-IJMDNDSS.nc 1940\n",
      "solve: matrix prep ... solution ... diagnostics ... done.\n",
      "id1-IJMDNDSS.nc 1941\n",
      "solve: matrix prep ... solution ... diagnostics ... done.\n",
      "id1-IJMDNDSS.nc 1942\n",
      "solve: matrix prep ... solution ... diagnostics ... done.\n",
      "id1-IJMDNDSS.nc 1943\n",
      "solve: matrix prep ... solution ... diagnostics ... done.\n",
      "id1-IJMDNDSS.nc 1944\n",
      "solve: matrix prep ... solution ... diagnostics ... done.\n",
      "id1-IJMDNDSS.nc 1945\n"
     ]
    },
    {
     "name": "stderr",
     "output_type": "stream",
     "text": [
      "ERROR:root:solve failed\n",
      "Traceback (most recent call last):\n",
      "  File \"<ipython-input-3-d6a951f715f9>\", line 16, in <module>\n",
      "    method='ols'\n",
      "  File \"/Users/baart_f/src/UTide/utide/_solve.py\", line 200, in solve\n",
      "    coef = _solv1(t, u, v, lat, **compat_opts)\n",
      "  File \"/Users/baart_f/src/UTide/utide/_solve.py\", line 209, in _solv1\n",
      "    packed = _slvinit(tin, uin, vin, lat, **opts)\n",
      "  File \"/Users/baart_f/src/UTide/utide/_solve.py\", line 458, in _slvinit\n",
      "    tin = np.ma.masked_invalid(tin)\n",
      "  File \"/Users/baart_f/.virtualenvs/main/lib/python3.6/site-packages/numpy/ma/core.py\", line 2362, in masked_invalid\n",
      "    condition = ~(np.isfinite(a))\n",
      "TypeError: ufunc 'isfinite' not supported for the input types, and the inputs could not be safely coerced to any supported types according to the casting rule ''safe''\n",
      "ERROR:root:solve failed\n",
      "Traceback (most recent call last):\n",
      "  File \"<ipython-input-3-d6a951f715f9>\", line 16, in <module>\n",
      "    method='ols'\n",
      "  File \"/Users/baart_f/src/UTide/utide/_solve.py\", line 200, in solve\n",
      "    coef = _solv1(t, u, v, lat, **compat_opts)\n",
      "  File \"/Users/baart_f/src/UTide/utide/_solve.py\", line 209, in _solv1\n",
      "    packed = _slvinit(tin, uin, vin, lat, **opts)\n",
      "  File \"/Users/baart_f/src/UTide/utide/_solve.py\", line 458, in _slvinit\n",
      "    tin = np.ma.masked_invalid(tin)\n",
      "  File \"/Users/baart_f/.virtualenvs/main/lib/python3.6/site-packages/numpy/ma/core.py\", line 2362, in masked_invalid\n",
      "    condition = ~(np.isfinite(a))\n",
      "TypeError: ufunc 'isfinite' not supported for the input types, and the inputs could not be safely coerced to any supported types according to the casting rule ''safe''\n"
     ]
    },
    {
     "name": "stdout",
     "output_type": "stream",
     "text": [
      "id1-IJMDNDSS.nc 1946\n",
      "id1-IJMDNDSS.nc 1947\n",
      "solve: matrix prep ... solution ... diagnostics ... done.\n",
      "id1-IJMDNDSS.nc 1948\n",
      "solve: matrix prep ... solution ... diagnostics ... done.\n",
      "id1-IJMDNDSS.nc 1949\n",
      "solve: matrix prep ... solution ... diagnostics ... done.\n",
      "id1-IJMDNDSS.nc 1950\n",
      "solve: matrix prep ... solution ... diagnostics ... done.\n",
      "id1-IJMDNDSS.nc 1951\n",
      "solve: matrix prep ... solution ... diagnostics ... done.\n",
      "id1-IJMDNDSS.nc 1952\n",
      "solve: matrix prep ... solution ... diagnostics ... done.\n",
      "id1-IJMDNDSS.nc 1953\n",
      "solve: matrix prep ... solution ... diagnostics ... done.\n",
      "id1-IJMDNDSS.nc 1954\n",
      "solve: matrix prep ... solution ... diagnostics ... done.\n",
      "id1-IJMDNDSS.nc 1955\n",
      "solve: matrix prep ... solution ... diagnostics ... done.\n",
      "id1-IJMDNDSS.nc 1956\n",
      "solve: matrix prep ... solution ... diagnostics ... done.\n",
      "id1-IJMDNDSS.nc 1957\n",
      "solve: matrix prep ... solution ... diagnostics ... done.\n",
      "id1-IJMDNDSS.nc 1958\n",
      "solve: matrix prep ... solution ... diagnostics ... done.\n",
      "id1-IJMDNDSS.nc 1959\n",
      "solve: matrix prep ... solution ... diagnostics ... done.\n",
      "id1-IJMDNDSS.nc 1960\n",
      "solve: matrix prep ... solution ... diagnostics ... done.\n",
      "id1-IJMDNDSS.nc 1961\n",
      "solve: matrix prep ... solution ... diagnostics ... done.\n",
      "id1-IJMDNDSS.nc 1962\n",
      "solve: matrix prep ... solution ... diagnostics ... done.\n",
      "id1-IJMDNDSS.nc 1963\n",
      "solve: matrix prep ... solution ... diagnostics ... done.\n",
      "id1-IJMDNDSS.nc 1964\n",
      "solve: matrix prep ... solution ... "
     ]
    },
    {
     "name": "stderr",
     "output_type": "stream",
     "text": [
      "ERROR:root:solve failed\n",
      "Traceback (most recent call last):\n",
      "  File \"<ipython-input-3-d6a951f715f9>\", line 16, in <module>\n",
      "    method='ols'\n",
      "  File \"/Users/baart_f/src/UTide/utide/_solve.py\", line 200, in solve\n",
      "    coef = _solv1(t, u, v, lat, **compat_opts)\n",
      "  File \"/Users/baart_f/src/UTide/utide/_solve.py\", line 209, in _solv1\n",
      "    packed = _slvinit(tin, uin, vin, lat, **opts)\n",
      "  File \"/Users/baart_f/src/UTide/utide/_solve.py\", line 458, in _slvinit\n",
      "    tin = np.ma.masked_invalid(tin)\n",
      "  File \"/Users/baart_f/.virtualenvs/main/lib/python3.6/site-packages/numpy/ma/core.py\", line 2362, in masked_invalid\n",
      "    condition = ~(np.isfinite(a))\n",
      "TypeError: ufunc 'isfinite' not supported for the input types, and the inputs could not be safely coerced to any supported types according to the casting rule ''safe''\n"
     ]
    },
    {
     "name": "stdout",
     "output_type": "stream",
     "text": [
      "diagnostics ... done.\n",
      "id1-IJMDNDSS.nc 1965\n",
      "id1-IJMDNDSS.nc 1966\n",
      "solve: matrix prep ... solution ... diagnostics ... done.\n",
      "id1-IJMDNDSS.nc 1967\n",
      "solve: matrix prep ... solution ... diagnostics ... done.\n",
      "id1-IJMDNDSS.nc 1968\n",
      "solve: matrix prep ... solution ... diagnostics ... done.\n",
      "id1-IJMDNDSS.nc 1969\n",
      "solve: matrix prep ... solution ... diagnostics ... done.\n",
      "id1-IJMDNDSS.nc 1970\n",
      "solve: matrix prep ... solution ... diagnostics ... done.\n",
      "id1-IJMDNDSS.nc 1971\n",
      "solve: matrix prep ... solution ... diagnostics ... done.\n",
      "id1-IJMDNDSS.nc 1972\n",
      "solve: matrix prep ... solution ... diagnostics ... done.\n",
      "id1-IJMDNDSS.nc 1973\n",
      "solve: matrix prep ... solution ... diagnostics ... done.\n",
      "id1-IJMDNDSS.nc 1974\n",
      "solve: matrix prep ... solution ... diagnostics ... done.\n",
      "id1-IJMDNDSS.nc 1975\n",
      "solve: matrix prep ... solution ... diagnostics ... done.\n",
      "id1-IJMDNDSS.nc 1976\n",
      "solve: matrix prep ... solution ... diagnostics ... done.\n",
      "id1-IJMDNDSS.nc 1977\n",
      "solve: matrix prep ... solution ... diagnostics ... done.\n",
      "id1-IJMDNDSS.nc 1978\n",
      "solve: matrix prep ... solution ... diagnostics ... done.\n",
      "id1-IJMDNDSS.nc 1979\n",
      "solve: matrix prep ... solution ... diagnostics ... done.\n",
      "id1-IJMDNDSS.nc 1980\n",
      "solve: matrix prep ... solution ... diagnostics ... done.\n",
      "id1-IJMDNDSS.nc 1981\n",
      "solve: matrix prep ... solution ... diagnostics ... done.\n",
      "id1-IJMDNDSS.nc 1982\n",
      "solve: matrix prep ... solution ... diagnostics ... done.\n",
      "id1-IJMDNDSS.nc 1983\n",
      "solve: matrix prep ... solution ... diagnostics ... done.\n",
      "id1-VLISSGN.nc 1863\n",
      "solve: matrix prep ... solution ... diagnostics ... done.\n",
      "id1-VLISSGN.nc 1864\n"
     ]
    },
    {
     "name": "stderr",
     "output_type": "stream",
     "text": [
      "ERROR:root:solve failed\n",
      "Traceback (most recent call last):\n",
      "  File \"<ipython-input-3-d6a951f715f9>\", line 16, in <module>\n",
      "    method='ols'\n",
      "  File \"/Users/baart_f/src/UTide/utide/_solve.py\", line 200, in solve\n",
      "    coef = _solv1(t, u, v, lat, **compat_opts)\n",
      "  File \"/Users/baart_f/src/UTide/utide/_solve.py\", line 209, in _solv1\n",
      "    packed = _slvinit(tin, uin, vin, lat, **opts)\n",
      "  File \"/Users/baart_f/src/UTide/utide/_solve.py\", line 458, in _slvinit\n",
      "    tin = np.ma.masked_invalid(tin)\n",
      "  File \"/Users/baart_f/.virtualenvs/main/lib/python3.6/site-packages/numpy/ma/core.py\", line 2362, in masked_invalid\n",
      "    condition = ~(np.isfinite(a))\n",
      "TypeError: ufunc 'isfinite' not supported for the input types, and the inputs could not be safely coerced to any supported types according to the casting rule ''safe''\n"
     ]
    },
    {
     "name": "stdout",
     "output_type": "stream",
     "text": [
      "id1-VLISSGN.nc 1865\n",
      "solve: matrix prep ... solution ... diagnostics ... done.\n",
      "id1-VLISSGN.nc 1866\n",
      "solve: matrix prep ... solution ... diagnostics ... done.\n",
      "id1-VLISSGN.nc 1867\n",
      "solve: matrix prep ... solution ... diagnostics ... done.\n",
      "id1-VLISSGN.nc 1868\n"
     ]
    },
    {
     "name": "stderr",
     "output_type": "stream",
     "text": [
      "/Users/baart_f/src/UTide/utide/confidence.py:229: RuntimeWarning: invalid value encountered in sqrt\n",
      "  np.sqrt(varYu))\n"
     ]
    },
    {
     "name": "stdout",
     "output_type": "stream",
     "text": [
      "solve: matrix prep ... solution ... diagnostics ... done.\n",
      "id1-VLISSGN.nc 1869\n",
      "solve: matrix prep ... solution ... diagnostics ... done.\n",
      "id1-VLISSGN.nc 1870\n"
     ]
    },
    {
     "name": "stderr",
     "output_type": "stream",
     "text": [
      "/Users/baart_f/src/UTide/utide/confidence.py:228: RuntimeWarning: invalid value encountered in sqrt\n",
      "  sig1, sig2 = ut_linci(Xu[c], Yu[c], np.sqrt(varXu),\n"
     ]
    },
    {
     "name": "stdout",
     "output_type": "stream",
     "text": [
      "solve: matrix prep ... solution ... diagnostics ... done.\n",
      "id1-VLISSGN.nc 1871\n",
      "solve: matrix prep ... solution ... diagnostics ... done.\n",
      "id1-VLISSGN.nc 1872\n"
     ]
    },
    {
     "name": "stderr",
     "output_type": "stream",
     "text": [
      "ERROR:root:solve failed\n",
      "Traceback (most recent call last):\n",
      "  File \"<ipython-input-3-d6a951f715f9>\", line 16, in <module>\n",
      "    method='ols'\n",
      "  File \"/Users/baart_f/src/UTide/utide/_solve.py\", line 200, in solve\n",
      "    coef = _solv1(t, u, v, lat, **compat_opts)\n",
      "  File \"/Users/baart_f/src/UTide/utide/_solve.py\", line 209, in _solv1\n",
      "    packed = _slvinit(tin, uin, vin, lat, **opts)\n",
      "  File \"/Users/baart_f/src/UTide/utide/_solve.py\", line 458, in _slvinit\n",
      "    tin = np.ma.masked_invalid(tin)\n",
      "  File \"/Users/baart_f/.virtualenvs/main/lib/python3.6/site-packages/numpy/ma/core.py\", line 2362, in masked_invalid\n",
      "    condition = ~(np.isfinite(a))\n",
      "TypeError: ufunc 'isfinite' not supported for the input types, and the inputs could not be safely coerced to any supported types according to the casting rule ''safe''\n"
     ]
    },
    {
     "name": "stdout",
     "output_type": "stream",
     "text": [
      "id1-VLISSGN.nc 1873\n",
      "solve: matrix prep ... solution ... diagnostics ... done.\n",
      "id1-VLISSGN.nc 1874\n",
      "solve: matrix prep ... solution ... diagnostics ... done.\n",
      "id1-VLISSGN.nc 1875\n",
      "solve: matrix prep ... solution ... diagnostics ... done.\n",
      "id1-VLISSGN.nc 1876\n",
      "solve: matrix prep ... solution ... diagnostics ... done.\n",
      "id1-VLISSGN.nc 1877\n"
     ]
    },
    {
     "name": "stderr",
     "output_type": "stream",
     "text": [
      "ERROR:root:solve failed\n",
      "Traceback (most recent call last):\n",
      "  File \"<ipython-input-3-d6a951f715f9>\", line 16, in <module>\n",
      "    method='ols'\n",
      "  File \"/Users/baart_f/src/UTide/utide/_solve.py\", line 200, in solve\n",
      "    coef = _solv1(t, u, v, lat, **compat_opts)\n",
      "  File \"/Users/baart_f/src/UTide/utide/_solve.py\", line 209, in _solv1\n",
      "    packed = _slvinit(tin, uin, vin, lat, **opts)\n",
      "  File \"/Users/baart_f/src/UTide/utide/_solve.py\", line 458, in _slvinit\n",
      "    tin = np.ma.masked_invalid(tin)\n",
      "  File \"/Users/baart_f/.virtualenvs/main/lib/python3.6/site-packages/numpy/ma/core.py\", line 2362, in masked_invalid\n",
      "    condition = ~(np.isfinite(a))\n",
      "TypeError: ufunc 'isfinite' not supported for the input types, and the inputs could not be safely coerced to any supported types according to the casting rule ''safe''\n"
     ]
    },
    {
     "name": "stdout",
     "output_type": "stream",
     "text": [
      "id1-VLISSGN.nc 1878\n"
     ]
    },
    {
     "name": "stderr",
     "output_type": "stream",
     "text": [
      "ERROR:root:solve failed\n",
      "Traceback (most recent call last):\n",
      "  File \"<ipython-input-3-d6a951f715f9>\", line 16, in <module>\n",
      "    method='ols'\n",
      "  File \"/Users/baart_f/src/UTide/utide/_solve.py\", line 200, in solve\n",
      "    coef = _solv1(t, u, v, lat, **compat_opts)\n",
      "  File \"/Users/baart_f/src/UTide/utide/_solve.py\", line 209, in _solv1\n",
      "    packed = _slvinit(tin, uin, vin, lat, **opts)\n",
      "  File \"/Users/baart_f/src/UTide/utide/_solve.py\", line 458, in _slvinit\n",
      "    tin = np.ma.masked_invalid(tin)\n",
      "  File \"/Users/baart_f/.virtualenvs/main/lib/python3.6/site-packages/numpy/ma/core.py\", line 2362, in masked_invalid\n",
      "    condition = ~(np.isfinite(a))\n",
      "TypeError: ufunc 'isfinite' not supported for the input types, and the inputs could not be safely coerced to any supported types according to the casting rule ''safe''\n"
     ]
    },
    {
     "name": "stdout",
     "output_type": "stream",
     "text": [
      "id1-VLISSGN.nc 1879\n"
     ]
    },
    {
     "name": "stderr",
     "output_type": "stream",
     "text": [
      "ERROR:root:solve failed\n",
      "Traceback (most recent call last):\n",
      "  File \"<ipython-input-3-d6a951f715f9>\", line 16, in <module>\n",
      "    method='ols'\n",
      "  File \"/Users/baart_f/src/UTide/utide/_solve.py\", line 200, in solve\n",
      "    coef = _solv1(t, u, v, lat, **compat_opts)\n",
      "  File \"/Users/baart_f/src/UTide/utide/_solve.py\", line 209, in _solv1\n",
      "    packed = _slvinit(tin, uin, vin, lat, **opts)\n",
      "  File \"/Users/baart_f/src/UTide/utide/_solve.py\", line 458, in _slvinit\n",
      "    tin = np.ma.masked_invalid(tin)\n",
      "  File \"/Users/baart_f/.virtualenvs/main/lib/python3.6/site-packages/numpy/ma/core.py\", line 2362, in masked_invalid\n",
      "    condition = ~(np.isfinite(a))\n",
      "TypeError: ufunc 'isfinite' not supported for the input types, and the inputs could not be safely coerced to any supported types according to the casting rule ''safe''\n"
     ]
    },
    {
     "name": "stdout",
     "output_type": "stream",
     "text": [
      "id1-VLISSGN.nc 1880\n"
     ]
    },
    {
     "name": "stderr",
     "output_type": "stream",
     "text": [
      "ERROR:root:solve failed\n",
      "Traceback (most recent call last):\n",
      "  File \"<ipython-input-3-d6a951f715f9>\", line 16, in <module>\n",
      "    method='ols'\n",
      "  File \"/Users/baart_f/src/UTide/utide/_solve.py\", line 200, in solve\n",
      "    coef = _solv1(t, u, v, lat, **compat_opts)\n",
      "  File \"/Users/baart_f/src/UTide/utide/_solve.py\", line 209, in _solv1\n",
      "    packed = _slvinit(tin, uin, vin, lat, **opts)\n",
      "  File \"/Users/baart_f/src/UTide/utide/_solve.py\", line 458, in _slvinit\n",
      "    tin = np.ma.masked_invalid(tin)\n",
      "  File \"/Users/baart_f/.virtualenvs/main/lib/python3.6/site-packages/numpy/ma/core.py\", line 2362, in masked_invalid\n",
      "    condition = ~(np.isfinite(a))\n",
      "TypeError: ufunc 'isfinite' not supported for the input types, and the inputs could not be safely coerced to any supported types according to the casting rule ''safe''\n"
     ]
    },
    {
     "name": "stdout",
     "output_type": "stream",
     "text": [
      "id1-VLISSGN.nc 1881\n"
     ]
    },
    {
     "name": "stderr",
     "output_type": "stream",
     "text": [
      "ERROR:root:solve failed\n",
      "Traceback (most recent call last):\n",
      "  File \"<ipython-input-3-d6a951f715f9>\", line 16, in <module>\n",
      "    method='ols'\n",
      "  File \"/Users/baart_f/src/UTide/utide/_solve.py\", line 200, in solve\n",
      "    coef = _solv1(t, u, v, lat, **compat_opts)\n",
      "  File \"/Users/baart_f/src/UTide/utide/_solve.py\", line 209, in _solv1\n",
      "    packed = _slvinit(tin, uin, vin, lat, **opts)\n",
      "  File \"/Users/baart_f/src/UTide/utide/_solve.py\", line 458, in _slvinit\n",
      "    tin = np.ma.masked_invalid(tin)\n",
      "  File \"/Users/baart_f/.virtualenvs/main/lib/python3.6/site-packages/numpy/ma/core.py\", line 2362, in masked_invalid\n",
      "    condition = ~(np.isfinite(a))\n",
      "TypeError: ufunc 'isfinite' not supported for the input types, and the inputs could not be safely coerced to any supported types according to the casting rule ''safe''\n"
     ]
    },
    {
     "name": "stdout",
     "output_type": "stream",
     "text": [
      "id1-VLISSGN.nc 1882\n"
     ]
    },
    {
     "name": "stderr",
     "output_type": "stream",
     "text": [
      "ERROR:root:solve failed\n",
      "Traceback (most recent call last):\n",
      "  File \"<ipython-input-3-d6a951f715f9>\", line 16, in <module>\n",
      "    method='ols'\n",
      "  File \"/Users/baart_f/src/UTide/utide/_solve.py\", line 200, in solve\n",
      "    coef = _solv1(t, u, v, lat, **compat_opts)\n",
      "  File \"/Users/baart_f/src/UTide/utide/_solve.py\", line 209, in _solv1\n",
      "    packed = _slvinit(tin, uin, vin, lat, **opts)\n",
      "  File \"/Users/baart_f/src/UTide/utide/_solve.py\", line 458, in _slvinit\n",
      "    tin = np.ma.masked_invalid(tin)\n",
      "  File \"/Users/baart_f/.virtualenvs/main/lib/python3.6/site-packages/numpy/ma/core.py\", line 2362, in masked_invalid\n",
      "    condition = ~(np.isfinite(a))\n",
      "TypeError: ufunc 'isfinite' not supported for the input types, and the inputs could not be safely coerced to any supported types according to the casting rule ''safe''\n"
     ]
    },
    {
     "name": "stdout",
     "output_type": "stream",
     "text": [
      "id1-VLISSGN.nc 1883\n"
     ]
    },
    {
     "name": "stderr",
     "output_type": "stream",
     "text": [
      "ERROR:root:solve failed\n",
      "Traceback (most recent call last):\n",
      "  File \"<ipython-input-3-d6a951f715f9>\", line 16, in <module>\n",
      "    method='ols'\n",
      "  File \"/Users/baart_f/src/UTide/utide/_solve.py\", line 200, in solve\n",
      "    coef = _solv1(t, u, v, lat, **compat_opts)\n",
      "  File \"/Users/baart_f/src/UTide/utide/_solve.py\", line 209, in _solv1\n",
      "    packed = _slvinit(tin, uin, vin, lat, **opts)\n",
      "  File \"/Users/baart_f/src/UTide/utide/_solve.py\", line 458, in _slvinit\n",
      "    tin = np.ma.masked_invalid(tin)\n",
      "  File \"/Users/baart_f/.virtualenvs/main/lib/python3.6/site-packages/numpy/ma/core.py\", line 2362, in masked_invalid\n",
      "    condition = ~(np.isfinite(a))\n",
      "TypeError: ufunc 'isfinite' not supported for the input types, and the inputs could not be safely coerced to any supported types according to the casting rule ''safe''\n"
     ]
    },
    {
     "name": "stdout",
     "output_type": "stream",
     "text": [
      "id1-VLISSGN.nc 1884\n"
     ]
    },
    {
     "name": "stderr",
     "output_type": "stream",
     "text": [
      "ERROR:root:solve failed\n",
      "Traceback (most recent call last):\n",
      "  File \"<ipython-input-3-d6a951f715f9>\", line 16, in <module>\n",
      "    method='ols'\n",
      "  File \"/Users/baart_f/src/UTide/utide/_solve.py\", line 200, in solve\n",
      "    coef = _solv1(t, u, v, lat, **compat_opts)\n",
      "  File \"/Users/baart_f/src/UTide/utide/_solve.py\", line 209, in _solv1\n",
      "    packed = _slvinit(tin, uin, vin, lat, **opts)\n",
      "  File \"/Users/baart_f/src/UTide/utide/_solve.py\", line 458, in _slvinit\n",
      "    tin = np.ma.masked_invalid(tin)\n",
      "  File \"/Users/baart_f/.virtualenvs/main/lib/python3.6/site-packages/numpy/ma/core.py\", line 2362, in masked_invalid\n",
      "    condition = ~(np.isfinite(a))\n",
      "TypeError: ufunc 'isfinite' not supported for the input types, and the inputs could not be safely coerced to any supported types according to the casting rule ''safe''\n"
     ]
    },
    {
     "name": "stdout",
     "output_type": "stream",
     "text": [
      "id1-VLISSGN.nc 1885\n"
     ]
    },
    {
     "name": "stderr",
     "output_type": "stream",
     "text": [
      "ERROR:root:solve failed\n",
      "Traceback (most recent call last):\n",
      "  File \"<ipython-input-3-d6a951f715f9>\", line 16, in <module>\n",
      "    method='ols'\n",
      "  File \"/Users/baart_f/src/UTide/utide/_solve.py\", line 200, in solve\n",
      "    coef = _solv1(t, u, v, lat, **compat_opts)\n",
      "  File \"/Users/baart_f/src/UTide/utide/_solve.py\", line 209, in _solv1\n",
      "    packed = _slvinit(tin, uin, vin, lat, **opts)\n",
      "  File \"/Users/baart_f/src/UTide/utide/_solve.py\", line 458, in _slvinit\n",
      "    tin = np.ma.masked_invalid(tin)\n",
      "  File \"/Users/baart_f/.virtualenvs/main/lib/python3.6/site-packages/numpy/ma/core.py\", line 2362, in masked_invalid\n",
      "    condition = ~(np.isfinite(a))\n",
      "TypeError: ufunc 'isfinite' not supported for the input types, and the inputs could not be safely coerced to any supported types according to the casting rule ''safe''\n"
     ]
    },
    {
     "name": "stdout",
     "output_type": "stream",
     "text": [
      "id1-VLISSGN.nc 1886\n"
     ]
    },
    {
     "name": "stderr",
     "output_type": "stream",
     "text": [
      "ERROR:root:solve failed\n",
      "Traceback (most recent call last):\n",
      "  File \"<ipython-input-3-d6a951f715f9>\", line 16, in <module>\n",
      "    method='ols'\n",
      "  File \"/Users/baart_f/src/UTide/utide/_solve.py\", line 200, in solve\n",
      "    coef = _solv1(t, u, v, lat, **compat_opts)\n",
      "  File \"/Users/baart_f/src/UTide/utide/_solve.py\", line 209, in _solv1\n",
      "    packed = _slvinit(tin, uin, vin, lat, **opts)\n",
      "  File \"/Users/baart_f/src/UTide/utide/_solve.py\", line 458, in _slvinit\n",
      "    tin = np.ma.masked_invalid(tin)\n",
      "  File \"/Users/baart_f/.virtualenvs/main/lib/python3.6/site-packages/numpy/ma/core.py\", line 2362, in masked_invalid\n",
      "    condition = ~(np.isfinite(a))\n",
      "TypeError: ufunc 'isfinite' not supported for the input types, and the inputs could not be safely coerced to any supported types according to the casting rule ''safe''\n"
     ]
    },
    {
     "name": "stdout",
     "output_type": "stream",
     "text": [
      "id1-VLISSGN.nc 1887\n"
     ]
    },
    {
     "name": "stderr",
     "output_type": "stream",
     "text": [
      "ERROR:root:solve failed\n",
      "Traceback (most recent call last):\n",
      "  File \"<ipython-input-3-d6a951f715f9>\", line 16, in <module>\n",
      "    method='ols'\n",
      "  File \"/Users/baart_f/src/UTide/utide/_solve.py\", line 200, in solve\n",
      "    coef = _solv1(t, u, v, lat, **compat_opts)\n",
      "  File \"/Users/baart_f/src/UTide/utide/_solve.py\", line 209, in _solv1\n",
      "    packed = _slvinit(tin, uin, vin, lat, **opts)\n",
      "  File \"/Users/baart_f/src/UTide/utide/_solve.py\", line 458, in _slvinit\n",
      "    tin = np.ma.masked_invalid(tin)\n",
      "  File \"/Users/baart_f/.virtualenvs/main/lib/python3.6/site-packages/numpy/ma/core.py\", line 2362, in masked_invalid\n",
      "    condition = ~(np.isfinite(a))\n",
      "TypeError: ufunc 'isfinite' not supported for the input types, and the inputs could not be safely coerced to any supported types according to the casting rule ''safe''\n"
     ]
    },
    {
     "name": "stdout",
     "output_type": "stream",
     "text": [
      "id1-VLISSGN.nc 1888\n"
     ]
    },
    {
     "name": "stderr",
     "output_type": "stream",
     "text": [
      "ERROR:root:solve failed\n",
      "Traceback (most recent call last):\n",
      "  File \"<ipython-input-3-d6a951f715f9>\", line 16, in <module>\n",
      "    method='ols'\n",
      "  File \"/Users/baart_f/src/UTide/utide/_solve.py\", line 200, in solve\n",
      "    coef = _solv1(t, u, v, lat, **compat_opts)\n",
      "  File \"/Users/baart_f/src/UTide/utide/_solve.py\", line 209, in _solv1\n",
      "    packed = _slvinit(tin, uin, vin, lat, **opts)\n",
      "  File \"/Users/baart_f/src/UTide/utide/_solve.py\", line 458, in _slvinit\n",
      "    tin = np.ma.masked_invalid(tin)\n",
      "  File \"/Users/baart_f/.virtualenvs/main/lib/python3.6/site-packages/numpy/ma/core.py\", line 2362, in masked_invalid\n",
      "    condition = ~(np.isfinite(a))\n",
      "TypeError: ufunc 'isfinite' not supported for the input types, and the inputs could not be safely coerced to any supported types according to the casting rule ''safe''\n"
     ]
    },
    {
     "name": "stdout",
     "output_type": "stream",
     "text": [
      "id1-VLISSGN.nc 1889\n"
     ]
    },
    {
     "name": "stderr",
     "output_type": "stream",
     "text": [
      "ERROR:root:solve failed\n",
      "Traceback (most recent call last):\n",
      "  File \"<ipython-input-3-d6a951f715f9>\", line 16, in <module>\n",
      "    method='ols'\n",
      "  File \"/Users/baart_f/src/UTide/utide/_solve.py\", line 200, in solve\n",
      "    coef = _solv1(t, u, v, lat, **compat_opts)\n",
      "  File \"/Users/baart_f/src/UTide/utide/_solve.py\", line 209, in _solv1\n",
      "    packed = _slvinit(tin, uin, vin, lat, **opts)\n",
      "  File \"/Users/baart_f/src/UTide/utide/_solve.py\", line 458, in _slvinit\n",
      "    tin = np.ma.masked_invalid(tin)\n",
      "  File \"/Users/baart_f/.virtualenvs/main/lib/python3.6/site-packages/numpy/ma/core.py\", line 2362, in masked_invalid\n",
      "    condition = ~(np.isfinite(a))\n",
      "TypeError: ufunc 'isfinite' not supported for the input types, and the inputs could not be safely coerced to any supported types according to the casting rule ''safe''\n"
     ]
    },
    {
     "name": "stdout",
     "output_type": "stream",
     "text": [
      "id1-VLISSGN.nc 1890\n"
     ]
    },
    {
     "name": "stderr",
     "output_type": "stream",
     "text": [
      "ERROR:root:solve failed\n",
      "Traceback (most recent call last):\n",
      "  File \"<ipython-input-3-d6a951f715f9>\", line 16, in <module>\n",
      "    method='ols'\n",
      "  File \"/Users/baart_f/src/UTide/utide/_solve.py\", line 200, in solve\n",
      "    coef = _solv1(t, u, v, lat, **compat_opts)\n",
      "  File \"/Users/baart_f/src/UTide/utide/_solve.py\", line 209, in _solv1\n",
      "    packed = _slvinit(tin, uin, vin, lat, **opts)\n",
      "  File \"/Users/baart_f/src/UTide/utide/_solve.py\", line 458, in _slvinit\n",
      "    tin = np.ma.masked_invalid(tin)\n",
      "  File \"/Users/baart_f/.virtualenvs/main/lib/python3.6/site-packages/numpy/ma/core.py\", line 2362, in masked_invalid\n",
      "    condition = ~(np.isfinite(a))\n",
      "TypeError: ufunc 'isfinite' not supported for the input types, and the inputs could not be safely coerced to any supported types according to the casting rule ''safe''\n"
     ]
    },
    {
     "name": "stdout",
     "output_type": "stream",
     "text": [
      "id1-VLISSGN.nc 1891\n"
     ]
    },
    {
     "name": "stderr",
     "output_type": "stream",
     "text": [
      "ERROR:root:solve failed\n",
      "Traceback (most recent call last):\n",
      "  File \"<ipython-input-3-d6a951f715f9>\", line 16, in <module>\n",
      "    method='ols'\n",
      "  File \"/Users/baart_f/src/UTide/utide/_solve.py\", line 200, in solve\n",
      "    coef = _solv1(t, u, v, lat, **compat_opts)\n",
      "  File \"/Users/baart_f/src/UTide/utide/_solve.py\", line 209, in _solv1\n",
      "    packed = _slvinit(tin, uin, vin, lat, **opts)\n",
      "  File \"/Users/baart_f/src/UTide/utide/_solve.py\", line 458, in _slvinit\n",
      "    tin = np.ma.masked_invalid(tin)\n",
      "  File \"/Users/baart_f/.virtualenvs/main/lib/python3.6/site-packages/numpy/ma/core.py\", line 2362, in masked_invalid\n",
      "    condition = ~(np.isfinite(a))\n",
      "TypeError: ufunc 'isfinite' not supported for the input types, and the inputs could not be safely coerced to any supported types according to the casting rule ''safe''\n"
     ]
    },
    {
     "name": "stdout",
     "output_type": "stream",
     "text": [
      "id1-VLISSGN.nc 1892\n"
     ]
    },
    {
     "name": "stderr",
     "output_type": "stream",
     "text": [
      "ERROR:root:solve failed\n",
      "Traceback (most recent call last):\n",
      "  File \"<ipython-input-3-d6a951f715f9>\", line 16, in <module>\n",
      "    method='ols'\n",
      "  File \"/Users/baart_f/src/UTide/utide/_solve.py\", line 200, in solve\n",
      "    coef = _solv1(t, u, v, lat, **compat_opts)\n",
      "  File \"/Users/baart_f/src/UTide/utide/_solve.py\", line 209, in _solv1\n",
      "    packed = _slvinit(tin, uin, vin, lat, **opts)\n",
      "  File \"/Users/baart_f/src/UTide/utide/_solve.py\", line 458, in _slvinit\n",
      "    tin = np.ma.masked_invalid(tin)\n",
      "  File \"/Users/baart_f/.virtualenvs/main/lib/python3.6/site-packages/numpy/ma/core.py\", line 2362, in masked_invalid\n",
      "    condition = ~(np.isfinite(a))\n",
      "TypeError: ufunc 'isfinite' not supported for the input types, and the inputs could not be safely coerced to any supported types according to the casting rule ''safe''\n"
     ]
    },
    {
     "name": "stdout",
     "output_type": "stream",
     "text": [
      "id1-VLISSGN.nc 1893\n"
     ]
    },
    {
     "name": "stderr",
     "output_type": "stream",
     "text": [
      "ERROR:root:solve failed\n",
      "Traceback (most recent call last):\n",
      "  File \"<ipython-input-3-d6a951f715f9>\", line 16, in <module>\n",
      "    method='ols'\n",
      "  File \"/Users/baart_f/src/UTide/utide/_solve.py\", line 200, in solve\n",
      "    coef = _solv1(t, u, v, lat, **compat_opts)\n",
      "  File \"/Users/baart_f/src/UTide/utide/_solve.py\", line 209, in _solv1\n",
      "    packed = _slvinit(tin, uin, vin, lat, **opts)\n",
      "  File \"/Users/baart_f/src/UTide/utide/_solve.py\", line 458, in _slvinit\n",
      "    tin = np.ma.masked_invalid(tin)\n",
      "  File \"/Users/baart_f/.virtualenvs/main/lib/python3.6/site-packages/numpy/ma/core.py\", line 2362, in masked_invalid\n",
      "    condition = ~(np.isfinite(a))\n",
      "TypeError: ufunc 'isfinite' not supported for the input types, and the inputs could not be safely coerced to any supported types according to the casting rule ''safe''\n"
     ]
    },
    {
     "name": "stdout",
     "output_type": "stream",
     "text": [
      "id1-VLISSGN.nc 1894\n"
     ]
    },
    {
     "name": "stderr",
     "output_type": "stream",
     "text": [
      "ERROR:root:solve failed\n",
      "Traceback (most recent call last):\n",
      "  File \"<ipython-input-3-d6a951f715f9>\", line 16, in <module>\n",
      "    method='ols'\n",
      "  File \"/Users/baart_f/src/UTide/utide/_solve.py\", line 200, in solve\n",
      "    coef = _solv1(t, u, v, lat, **compat_opts)\n",
      "  File \"/Users/baart_f/src/UTide/utide/_solve.py\", line 209, in _solv1\n",
      "    packed = _slvinit(tin, uin, vin, lat, **opts)\n",
      "  File \"/Users/baart_f/src/UTide/utide/_solve.py\", line 458, in _slvinit\n",
      "    tin = np.ma.masked_invalid(tin)\n",
      "  File \"/Users/baart_f/.virtualenvs/main/lib/python3.6/site-packages/numpy/ma/core.py\", line 2362, in masked_invalid\n",
      "    condition = ~(np.isfinite(a))\n",
      "TypeError: ufunc 'isfinite' not supported for the input types, and the inputs could not be safely coerced to any supported types according to the casting rule ''safe''\n"
     ]
    },
    {
     "name": "stdout",
     "output_type": "stream",
     "text": [
      "id1-VLISSGN.nc 1895\n"
     ]
    },
    {
     "name": "stderr",
     "output_type": "stream",
     "text": [
      "ERROR:root:solve failed\n",
      "Traceback (most recent call last):\n",
      "  File \"<ipython-input-3-d6a951f715f9>\", line 16, in <module>\n",
      "    method='ols'\n",
      "  File \"/Users/baart_f/src/UTide/utide/_solve.py\", line 200, in solve\n",
      "    coef = _solv1(t, u, v, lat, **compat_opts)\n",
      "  File \"/Users/baart_f/src/UTide/utide/_solve.py\", line 209, in _solv1\n",
      "    packed = _slvinit(tin, uin, vin, lat, **opts)\n",
      "  File \"/Users/baart_f/src/UTide/utide/_solve.py\", line 458, in _slvinit\n",
      "    tin = np.ma.masked_invalid(tin)\n",
      "  File \"/Users/baart_f/.virtualenvs/main/lib/python3.6/site-packages/numpy/ma/core.py\", line 2362, in masked_invalid\n",
      "    condition = ~(np.isfinite(a))\n",
      "TypeError: ufunc 'isfinite' not supported for the input types, and the inputs could not be safely coerced to any supported types according to the casting rule ''safe''\n"
     ]
    },
    {
     "name": "stdout",
     "output_type": "stream",
     "text": [
      "id1-VLISSGN.nc 1896\n"
     ]
    },
    {
     "name": "stderr",
     "output_type": "stream",
     "text": [
      "ERROR:root:solve failed\n",
      "Traceback (most recent call last):\n",
      "  File \"<ipython-input-3-d6a951f715f9>\", line 16, in <module>\n",
      "    method='ols'\n",
      "  File \"/Users/baart_f/src/UTide/utide/_solve.py\", line 200, in solve\n",
      "    coef = _solv1(t, u, v, lat, **compat_opts)\n",
      "  File \"/Users/baart_f/src/UTide/utide/_solve.py\", line 209, in _solv1\n",
      "    packed = _slvinit(tin, uin, vin, lat, **opts)\n",
      "  File \"/Users/baart_f/src/UTide/utide/_solve.py\", line 458, in _slvinit\n",
      "    tin = np.ma.masked_invalid(tin)\n",
      "  File \"/Users/baart_f/.virtualenvs/main/lib/python3.6/site-packages/numpy/ma/core.py\", line 2362, in masked_invalid\n",
      "    condition = ~(np.isfinite(a))\n",
      "TypeError: ufunc 'isfinite' not supported for the input types, and the inputs could not be safely coerced to any supported types according to the casting rule ''safe''\n"
     ]
    },
    {
     "name": "stdout",
     "output_type": "stream",
     "text": [
      "id1-VLISSGN.nc 1897\n"
     ]
    },
    {
     "name": "stderr",
     "output_type": "stream",
     "text": [
      "ERROR:root:solve failed\n",
      "Traceback (most recent call last):\n",
      "  File \"<ipython-input-3-d6a951f715f9>\", line 16, in <module>\n",
      "    method='ols'\n",
      "  File \"/Users/baart_f/src/UTide/utide/_solve.py\", line 200, in solve\n",
      "    coef = _solv1(t, u, v, lat, **compat_opts)\n",
      "  File \"/Users/baart_f/src/UTide/utide/_solve.py\", line 209, in _solv1\n",
      "    packed = _slvinit(tin, uin, vin, lat, **opts)\n",
      "  File \"/Users/baart_f/src/UTide/utide/_solve.py\", line 458, in _slvinit\n",
      "    tin = np.ma.masked_invalid(tin)\n",
      "  File \"/Users/baart_f/.virtualenvs/main/lib/python3.6/site-packages/numpy/ma/core.py\", line 2362, in masked_invalid\n",
      "    condition = ~(np.isfinite(a))\n",
      "TypeError: ufunc 'isfinite' not supported for the input types, and the inputs could not be safely coerced to any supported types according to the casting rule ''safe''\n"
     ]
    },
    {
     "name": "stdout",
     "output_type": "stream",
     "text": [
      "id1-VLISSGN.nc 1898\n"
     ]
    },
    {
     "name": "stderr",
     "output_type": "stream",
     "text": [
      "ERROR:root:solve failed\n",
      "Traceback (most recent call last):\n",
      "  File \"<ipython-input-3-d6a951f715f9>\", line 16, in <module>\n",
      "    method='ols'\n",
      "  File \"/Users/baart_f/src/UTide/utide/_solve.py\", line 200, in solve\n",
      "    coef = _solv1(t, u, v, lat, **compat_opts)\n",
      "  File \"/Users/baart_f/src/UTide/utide/_solve.py\", line 209, in _solv1\n",
      "    packed = _slvinit(tin, uin, vin, lat, **opts)\n",
      "  File \"/Users/baart_f/src/UTide/utide/_solve.py\", line 458, in _slvinit\n",
      "    tin = np.ma.masked_invalid(tin)\n",
      "  File \"/Users/baart_f/.virtualenvs/main/lib/python3.6/site-packages/numpy/ma/core.py\", line 2362, in masked_invalid\n",
      "    condition = ~(np.isfinite(a))\n",
      "TypeError: ufunc 'isfinite' not supported for the input types, and the inputs could not be safely coerced to any supported types according to the casting rule ''safe''\n"
     ]
    },
    {
     "name": "stdout",
     "output_type": "stream",
     "text": [
      "id1-VLISSGN.nc 1899\n"
     ]
    },
    {
     "name": "stderr",
     "output_type": "stream",
     "text": [
      "ERROR:root:solve failed\n",
      "Traceback (most recent call last):\n",
      "  File \"<ipython-input-3-d6a951f715f9>\", line 16, in <module>\n",
      "    method='ols'\n",
      "  File \"/Users/baart_f/src/UTide/utide/_solve.py\", line 200, in solve\n",
      "    coef = _solv1(t, u, v, lat, **compat_opts)\n",
      "  File \"/Users/baart_f/src/UTide/utide/_solve.py\", line 209, in _solv1\n",
      "    packed = _slvinit(tin, uin, vin, lat, **opts)\n",
      "  File \"/Users/baart_f/src/UTide/utide/_solve.py\", line 458, in _slvinit\n",
      "    tin = np.ma.masked_invalid(tin)\n",
      "  File \"/Users/baart_f/.virtualenvs/main/lib/python3.6/site-packages/numpy/ma/core.py\", line 2362, in masked_invalid\n",
      "    condition = ~(np.isfinite(a))\n",
      "TypeError: ufunc 'isfinite' not supported for the input types, and the inputs could not be safely coerced to any supported types according to the casting rule ''safe''\n"
     ]
    },
    {
     "name": "stdout",
     "output_type": "stream",
     "text": [
      "id1-VLISSGN.nc 1900\n",
      "solve: matrix prep ... solution ... diagnostics ... done.\n",
      "id1-VLISSGN.nc 1901\n"
     ]
    },
    {
     "name": "stderr",
     "output_type": "stream",
     "text": [
      "/Users/baart_f/.virtualenvs/main/lib/python3.6/site-packages/numpy/core/fromnumeric.py:3194: RuntimeWarning: Degrees of freedom <= 0 for slice\n",
      "  **kwargs)\n",
      "/Users/baart_f/.virtualenvs/main/lib/python3.6/site-packages/numpy/core/_methods.py:105: RuntimeWarning: invalid value encountered in true_divide\n",
      "  arrmean, rcount, out=arrmean, casting='unsafe', subok=False)\n",
      "/Users/baart_f/.virtualenvs/main/lib/python3.6/site-packages/numpy/core/_methods.py:127: RuntimeWarning: invalid value encountered in double_scalars\n",
      "  ret = ret.dtype.type(ret / rcount)\n",
      "/Users/baart_f/src/UTide/utide/_solve.py:502: RuntimeWarning: invalid value encountered in double_scalars\n",
      "  elor = lor*nt / (nt-1)\n",
      "/Users/baart_f/src/UTide/utide/_solve.py:216: RuntimeWarning: divide by zero encountered in double_scalars\n",
      "  cnstit, coef = ut_cnstitsel(tref, opt['rmin']/(24*lor),\n",
      "/Users/baart_f/src/UTide/utide/_solve.py:276: RuntimeWarning: invalid value encountered in true_divide\n",
      "  B = np.hstack((B, ((t-tref)/lor)[:, np.newaxis]))\n",
      "/Users/baart_f/src/UTide/utide/_solve.py:344: RuntimeWarning: invalid value encountered in double_scalars\n",
      "  coef['slope'] = np.real(m[-1])/lor\n",
      "ERROR:root:solve failed\n",
      "Traceback (most recent call last):\n",
      "  File \"<ipython-input-3-d6a951f715f9>\", line 16, in <module>\n",
      "    method='ols'\n",
      "  File \"/Users/baart_f/src/UTide/utide/_solve.py\", line 200, in solve\n",
      "    coef = _solv1(t, u, v, lat, **compat_opts)\n",
      "  File \"/Users/baart_f/src/UTide/utide/_solve.py\", line 375, in _solv1\n",
      "    W, m, B, Xu, Yu, Xv, Yv)\n",
      "  File \"/Users/baart_f/src/UTide/utide/confidence.py\", line 164, in _confidence\n",
      "    Puu, Pvv, Puv = band_averaged_psd_by_constit(tin, t, e, elor, coef, opt)  # noqa\n",
      "  File \"/Users/baart_f/src/UTide/utide/confidence.py\", line 31, in band_averaged_psd_by_constit\n",
      "    equi=False, frqosamp=opt.lsfrqosmp)\n",
      "  File \"/Users/baart_f/src/UTide/utide/periodogram.py\", line 348, in band_psd\n",
      "    lfreq = _lomb_freqs(t * 24, fbands=freq_bands, ofac=frqosamp)\n",
      "  File \"/Users/baart_f/src/UTide/utide/periodogram.py\", line 106, in _lomb_freqs\n",
      "    delta_t = (t[-1] - t[0]) / (n-1)\n",
      "IndexError: index -1 is out of bounds for axis 0 with size 0\n"
     ]
    },
    {
     "name": "stdout",
     "output_type": "stream",
     "text": [
      "solve: matrix prep ... solution ... id1-VLISSGN.nc 1902\n"
     ]
    },
    {
     "name": "stderr",
     "output_type": "stream",
     "text": [
      "ERROR:root:solve failed\n",
      "Traceback (most recent call last):\n",
      "  File \"<ipython-input-3-d6a951f715f9>\", line 16, in <module>\n",
      "    method='ols'\n",
      "  File \"/Users/baart_f/src/UTide/utide/_solve.py\", line 200, in solve\n",
      "    coef = _solv1(t, u, v, lat, **compat_opts)\n",
      "  File \"/Users/baart_f/src/UTide/utide/_solve.py\", line 209, in _solv1\n",
      "    packed = _slvinit(tin, uin, vin, lat, **opts)\n",
      "  File \"/Users/baart_f/src/UTide/utide/_solve.py\", line 458, in _slvinit\n",
      "    tin = np.ma.masked_invalid(tin)\n",
      "  File \"/Users/baart_f/.virtualenvs/main/lib/python3.6/site-packages/numpy/ma/core.py\", line 2362, in masked_invalid\n",
      "    condition = ~(np.isfinite(a))\n",
      "TypeError: ufunc 'isfinite' not supported for the input types, and the inputs could not be safely coerced to any supported types according to the casting rule ''safe''\n"
     ]
    },
    {
     "name": "stdout",
     "output_type": "stream",
     "text": [
      "id1-VLISSGN.nc 1903\n"
     ]
    },
    {
     "name": "stderr",
     "output_type": "stream",
     "text": [
      "ERROR:root:solve failed\n",
      "Traceback (most recent call last):\n",
      "  File \"<ipython-input-3-d6a951f715f9>\", line 16, in <module>\n",
      "    method='ols'\n",
      "  File \"/Users/baart_f/src/UTide/utide/_solve.py\", line 200, in solve\n",
      "    coef = _solv1(t, u, v, lat, **compat_opts)\n",
      "  File \"/Users/baart_f/src/UTide/utide/_solve.py\", line 209, in _solv1\n",
      "    packed = _slvinit(tin, uin, vin, lat, **opts)\n",
      "  File \"/Users/baart_f/src/UTide/utide/_solve.py\", line 458, in _slvinit\n",
      "    tin = np.ma.masked_invalid(tin)\n",
      "  File \"/Users/baart_f/.virtualenvs/main/lib/python3.6/site-packages/numpy/ma/core.py\", line 2362, in masked_invalid\n",
      "    condition = ~(np.isfinite(a))\n",
      "TypeError: ufunc 'isfinite' not supported for the input types, and the inputs could not be safely coerced to any supported types according to the casting rule ''safe''\n"
     ]
    },
    {
     "name": "stdout",
     "output_type": "stream",
     "text": [
      "id1-VLISSGN.nc 1904\n"
     ]
    },
    {
     "name": "stderr",
     "output_type": "stream",
     "text": [
      "ERROR:root:solve failed\n",
      "Traceback (most recent call last):\n",
      "  File \"<ipython-input-3-d6a951f715f9>\", line 16, in <module>\n",
      "    method='ols'\n",
      "  File \"/Users/baart_f/src/UTide/utide/_solve.py\", line 200, in solve\n",
      "    coef = _solv1(t, u, v, lat, **compat_opts)\n",
      "  File \"/Users/baart_f/src/UTide/utide/_solve.py\", line 209, in _solv1\n",
      "    packed = _slvinit(tin, uin, vin, lat, **opts)\n",
      "  File \"/Users/baart_f/src/UTide/utide/_solve.py\", line 458, in _slvinit\n",
      "    tin = np.ma.masked_invalid(tin)\n",
      "  File \"/Users/baart_f/.virtualenvs/main/lib/python3.6/site-packages/numpy/ma/core.py\", line 2362, in masked_invalid\n",
      "    condition = ~(np.isfinite(a))\n",
      "TypeError: ufunc 'isfinite' not supported for the input types, and the inputs could not be safely coerced to any supported types according to the casting rule ''safe''\n"
     ]
    },
    {
     "name": "stdout",
     "output_type": "stream",
     "text": [
      "id1-VLISSGN.nc 1905\n"
     ]
    },
    {
     "name": "stderr",
     "output_type": "stream",
     "text": [
      "ERROR:root:solve failed\n",
      "Traceback (most recent call last):\n",
      "  File \"<ipython-input-3-d6a951f715f9>\", line 16, in <module>\n",
      "    method='ols'\n",
      "  File \"/Users/baart_f/src/UTide/utide/_solve.py\", line 200, in solve\n",
      "    coef = _solv1(t, u, v, lat, **compat_opts)\n",
      "  File \"/Users/baart_f/src/UTide/utide/_solve.py\", line 209, in _solv1\n",
      "    packed = _slvinit(tin, uin, vin, lat, **opts)\n",
      "  File \"/Users/baart_f/src/UTide/utide/_solve.py\", line 458, in _slvinit\n",
      "    tin = np.ma.masked_invalid(tin)\n",
      "  File \"/Users/baart_f/.virtualenvs/main/lib/python3.6/site-packages/numpy/ma/core.py\", line 2362, in masked_invalid\n",
      "    condition = ~(np.isfinite(a))\n",
      "TypeError: ufunc 'isfinite' not supported for the input types, and the inputs could not be safely coerced to any supported types according to the casting rule ''safe''\n"
     ]
    },
    {
     "name": "stdout",
     "output_type": "stream",
     "text": [
      "id1-VLISSGN.nc 1906\n",
      "solve: matrix prep ... solution ... diagnostics ... done.\n",
      "id1-VLISSGN.nc 1907\n",
      "solve: matrix prep ... solution ... diagnostics ... done.\n",
      "id1-VLISSGN.nc 1908\n"
     ]
    },
    {
     "name": "stderr",
     "output_type": "stream",
     "text": [
      "ERROR:root:solve failed\n",
      "Traceback (most recent call last):\n",
      "  File \"<ipython-input-3-d6a951f715f9>\", line 16, in <module>\n",
      "    method='ols'\n",
      "  File \"/Users/baart_f/src/UTide/utide/_solve.py\", line 200, in solve\n",
      "    coef = _solv1(t, u, v, lat, **compat_opts)\n",
      "  File \"/Users/baart_f/src/UTide/utide/_solve.py\", line 209, in _solv1\n",
      "    packed = _slvinit(tin, uin, vin, lat, **opts)\n",
      "  File \"/Users/baart_f/src/UTide/utide/_solve.py\", line 458, in _slvinit\n",
      "    tin = np.ma.masked_invalid(tin)\n",
      "  File \"/Users/baart_f/.virtualenvs/main/lib/python3.6/site-packages/numpy/ma/core.py\", line 2362, in masked_invalid\n",
      "    condition = ~(np.isfinite(a))\n",
      "TypeError: ufunc 'isfinite' not supported for the input types, and the inputs could not be safely coerced to any supported types according to the casting rule ''safe''\n"
     ]
    },
    {
     "name": "stdout",
     "output_type": "stream",
     "text": [
      "id1-VLISSGN.nc 1909\n"
     ]
    },
    {
     "name": "stderr",
     "output_type": "stream",
     "text": [
      "ERROR:root:solve failed\n",
      "Traceback (most recent call last):\n",
      "  File \"<ipython-input-3-d6a951f715f9>\", line 16, in <module>\n",
      "    method='ols'\n",
      "  File \"/Users/baart_f/src/UTide/utide/_solve.py\", line 200, in solve\n",
      "    coef = _solv1(t, u, v, lat, **compat_opts)\n",
      "  File \"/Users/baart_f/src/UTide/utide/_solve.py\", line 209, in _solv1\n",
      "    packed = _slvinit(tin, uin, vin, lat, **opts)\n",
      "  File \"/Users/baart_f/src/UTide/utide/_solve.py\", line 458, in _slvinit\n",
      "    tin = np.ma.masked_invalid(tin)\n",
      "  File \"/Users/baart_f/.virtualenvs/main/lib/python3.6/site-packages/numpy/ma/core.py\", line 2362, in masked_invalid\n",
      "    condition = ~(np.isfinite(a))\n",
      "TypeError: ufunc 'isfinite' not supported for the input types, and the inputs could not be safely coerced to any supported types according to the casting rule ''safe''\n"
     ]
    },
    {
     "name": "stdout",
     "output_type": "stream",
     "text": [
      "id1-VLISSGN.nc 1910\n",
      "solve: matrix prep ... solution ... diagnostics ... done.\n",
      "id1-VLISSGN.nc 1911\n",
      "solve: matrix prep ... solution ... diagnostics ... done.\n",
      "id1-VLISSGN.nc 1912\n",
      "solve: matrix prep ... solution ... diagnostics ... done.\n",
      "id1-VLISSGN.nc 1913\n",
      "solve: matrix prep ... solution ... diagnostics ... done.\n",
      "id1-VLISSGN.nc 1914\n",
      "solve: matrix prep ... solution ... diagnostics ... done.\n",
      "id1-VLISSGN.nc 1915\n",
      "solve: matrix prep ... solution ... diagnostics ... done.\n",
      "id1-VLISSGN.nc 1916\n",
      "solve: matrix prep ... solution ... diagnostics ... done.\n",
      "id1-VLISSGN.nc 1917\n",
      "solve: matrix prep ... solution ... diagnostics ... done.\n",
      "id1-VLISSGN.nc 1918\n",
      "solve: matrix prep ... solution ... diagnostics ... done.\n",
      "id1-VLISSGN.nc 1919\n",
      "solve: matrix prep ... solution ... diagnostics ... done.\n",
      "id1-VLISSGN.nc 1920\n",
      "solve: matrix prep ... solution ... diagnostics ... done.\n",
      "id1-VLISSGN.nc 1921\n",
      "solve: matrix prep ... solution ... diagnostics ... done.\n",
      "id1-VLISSGN.nc 1922\n",
      "solve: matrix prep ... solution ... diagnostics ... done.\n",
      "id1-VLISSGN.nc 1923\n",
      "solve: matrix prep ... solution ... diagnostics ... done.\n",
      "id1-VLISSGN.nc 1924\n",
      "solve: matrix prep ... solution ... diagnostics ... done.\n",
      "id1-VLISSGN.nc 1925\n",
      "solve: matrix prep ... solution ... diagnostics ... done.\n",
      "id1-VLISSGN.nc 1926\n",
      "solve: matrix prep ... solution ... diagnostics ... done.\n",
      "id1-VLISSGN.nc 1927\n",
      "solve: matrix prep ... solution ... diagnostics ... done.\n",
      "id1-VLISSGN.nc 1928\n",
      "solve: matrix prep ... solution ... diagnostics ... done.\n",
      "id1-VLISSGN.nc 1929\n",
      "solve: matrix prep ... solution ... diagnostics ... done.\n",
      "id1-VLISSGN.nc 1930\n",
      "solve: matrix prep ... solution ... diagnostics ... done.\n",
      "id1-VLISSGN.nc 1931\n",
      "solve: matrix prep ... solution ... diagnostics ... done.\n",
      "id1-VLISSGN.nc 1932\n",
      "solve: matrix prep ... solution ... diagnostics ... done.\n",
      "id1-VLISSGN.nc 1933\n",
      "solve: matrix prep ... solution ... diagnostics ... done.\n",
      "id1-VLISSGN.nc 1934\n",
      "solve: matrix prep ... solution ... diagnostics ... done.\n",
      "id1-VLISSGN.nc 1935\n",
      "solve: matrix prep ... solution ... diagnostics ... done.\n",
      "id1-VLISSGN.nc 1936\n",
      "solve: matrix prep ... solution ... diagnostics ... done.\n",
      "id1-VLISSGN.nc 1937\n",
      "solve: matrix prep ... solution ... diagnostics ... done.\n",
      "id1-VLISSGN.nc 1938\n",
      "solve: matrix prep ... solution ... diagnostics ... done.\n",
      "id1-VLISSGN.nc 1939\n",
      "solve: matrix prep ... solution ... diagnostics ... done.\n",
      "id1-VLISSGN.nc 1940\n",
      "solve: matrix prep ... solution ... diagnostics ... done.\n",
      "id1-VLISSGN.nc 1941\n",
      "solve: matrix prep ... solution ... diagnostics ... done.\n",
      "id1-VLISSGN.nc 1942\n",
      "solve: matrix prep ... solution ... diagnostics ... done.\n",
      "id1-VLISSGN.nc 1943\n",
      "solve: matrix prep ... solution ... diagnostics ... done.\n",
      "id1-VLISSGN.nc 1944\n",
      "solve: matrix prep ... solution ... diagnostics ... done.\n",
      "id1-VLISSGN.nc 1945\n",
      "solve: matrix prep ... solution ... diagnostics ... done.\n",
      "id1-VLISSGN.nc 1946\n",
      "solve: matrix prep ... solution ... diagnostics ... done.\n",
      "id1-VLISSGN.nc 1947\n",
      "solve: matrix prep ... solution ... diagnostics ... done.\n",
      "id1-VLISSGN.nc 1948\n",
      "solve: matrix prep ... solution ... diagnostics ... done.\n",
      "id1-VLISSGN.nc 1949\n",
      "solve: matrix prep ... solution ... diagnostics ... done.\n",
      "id1-VLISSGN.nc 1950\n",
      "solve: matrix prep ... solution ... diagnostics ... done.\n",
      "id1-VLISSGN.nc 1951\n",
      "solve: matrix prep ... solution ... diagnostics ... done.\n",
      "id1-VLISSGN.nc 1952\n",
      "solve: matrix prep ... solution ... diagnostics ... done.\n",
      "id1-VLISSGN.nc 1953\n",
      "solve: matrix prep ... solution ... diagnostics ... done.\n",
      "id1-VLISSGN.nc 1954\n",
      "solve: matrix prep ... solution ... diagnostics ... done.\n",
      "id1-VLISSGN.nc 1955\n",
      "solve: matrix prep ... solution ... diagnostics ... done.\n",
      "id1-VLISSGN.nc 1956\n",
      "solve: matrix prep ... solution ... diagnostics ... done.\n",
      "id1-VLISSGN.nc 1957\n",
      "solve: matrix prep ... solution ... diagnostics ... done.\n",
      "id1-VLISSGN.nc 1958\n",
      "solve: matrix prep ... solution ... diagnostics ... done.\n",
      "id1-VLISSGN.nc 1959\n",
      "solve: matrix prep ... solution ... diagnostics ... done.\n",
      "id1-VLISSGN.nc 1960\n",
      "solve: matrix prep ... solution ... diagnostics ... done.\n",
      "id1-VLISSGN.nc 1961\n",
      "solve: matrix prep ... solution ... diagnostics ... done.\n",
      "id1-VLISSGN.nc 1962\n",
      "solve: matrix prep ... solution ... diagnostics ... done.\n",
      "id1-VLISSGN.nc 1963\n",
      "solve: matrix prep ... solution ... diagnostics ... done.\n",
      "id1-VLISSGN.nc 1964\n",
      "solve: matrix prep ... solution ... diagnostics ... done.\n",
      "id1-VLISSGN.nc 1965\n",
      "solve: matrix prep ... solution ... diagnostics ... done.\n",
      "id1-VLISSGN.nc 1966\n",
      "solve: matrix prep ... solution ... diagnostics ... done.\n",
      "id1-VLISSGN.nc 1967\n",
      "solve: matrix prep ... solution ... diagnostics ... done.\n",
      "id1-VLISSGN.nc 1968\n",
      "solve: matrix prep ... solution ... diagnostics ... done.\n",
      "id1-VLISSGN.nc 1969\n",
      "solve: matrix prep ... solution ... diagnostics ... done.\n",
      "id1-VLISSGN.nc 1970\n",
      "solve: matrix prep ... solution ... diagnostics ... done.\n",
      "id1-VLISSGN.nc 1971\n",
      "solve: matrix prep ... solution ... diagnostics ... done.\n",
      "id1-VLISSGN.nc 1972\n",
      "solve: matrix prep ... solution ... diagnostics ... done.\n",
      "id1-VLISSGN.nc 1973\n",
      "solve: matrix prep ... solution ... diagnostics ... done.\n",
      "id1-VLISSGN.nc 1974\n",
      "solve: matrix prep ... solution ... diagnostics ... done.\n",
      "id1-VLISSGN.nc 1975\n",
      "solve: matrix prep ... solution ... diagnostics ... done.\n",
      "id1-VLISSGN.nc 1976\n",
      "solve: matrix prep ... solution ... diagnostics ... done.\n",
      "id1-VLISSGN.nc 1977\n",
      "solve: matrix prep ... solution ... diagnostics ... done.\n",
      "id1-VLISSGN.nc 1978\n",
      "solve: matrix prep ... solution ... diagnostics ... done.\n",
      "id1-VLISSGN.nc 1979\n",
      "solve: matrix prep ... solution ... diagnostics ... done.\n",
      "id1-VLISSGN.nc 1980\n",
      "solve: matrix prep ... solution ... diagnostics ... done.\n",
      "id1-VLISSGN.nc 1981\n",
      "solve: matrix prep ... solution ... diagnostics ... done.\n",
      "id1-VLISSGN.nc 1982\n",
      "solve: matrix prep ... solution ... diagnostics ... done.\n",
      "id1-VLISSGN.nc 1983\n",
      "solve: matrix prep ... solution ... diagnostics ... done.\n",
      "id1-VLISSGN.nc 1984\n",
      "solve: matrix prep ... solution ... diagnostics ... done.\n",
      "id1-VLISSGN.nc 1985\n",
      "solve: matrix prep ... solution ... diagnostics ... done.\n",
      "id1-VLISSGN.nc 1986\n",
      "solve: matrix prep ... solution ... diagnostics ... done.\n",
      "id1-VLISSGN.nc 1987\n",
      "solve: matrix prep ... solution ... diagnostics ... done.\n",
      "id1-VLISSGN.nc 1988\n",
      "solve: matrix prep ... solution ... diagnostics ... done.\n",
      "id1-VLISSGN.nc 1989\n",
      "solve: matrix prep ... solution ... diagnostics ... done.\n",
      "id1-VLISSGN.nc 1990\n",
      "solve: matrix prep ... solution ... diagnostics ... done.\n",
      "id1-VLISSGN.nc 1991\n",
      "solve: matrix prep ... solution ... diagnostics ... done.\n",
      "id1-VLISSGN.nc 1992\n",
      "solve: matrix prep ... solution ... diagnostics ... done.\n",
      "id1-VLISSGN.nc 1993\n",
      "solve: matrix prep ... solution ... diagnostics ... done.\n",
      "id1-VLISSGN.nc 1994\n",
      "solve: matrix prep ... solution ... diagnostics ... done.\n",
      "id1-VLISSGN.nc 1995\n",
      "solve: matrix prep ... solution ... diagnostics ... done.\n",
      "id1-VLISSGN.nc 1996\n",
      "solve: matrix prep ... solution ... diagnostics ... done.\n",
      "id1-VLISSGN.nc 1997\n",
      "solve: matrix prep ... solution ... diagnostics ... done.\n",
      "id1-VLISSGN.nc 1998\n",
      "solve: matrix prep ... solution ... diagnostics ... done.\n",
      "id1-VLISSGN.nc 1999\n",
      "solve: matrix prep ... solution ... diagnostics ... done.\n",
      "id1-VLISSGN.nc 2000\n",
      "solve: matrix prep ... solution ... diagnostics ... done.\n",
      "id1-VLISSGN.nc 2001\n",
      "solve: matrix prep ... solution ... diagnostics ... done.\n",
      "id1-VLISSGN.nc 2002\n",
      "solve: matrix prep ... solution ... diagnostics ... done.\n",
      "id1-VLISSGN.nc 2003\n",
      "solve: matrix prep ... solution ... diagnostics ... done.\n",
      "id1-VLISSGN.nc 2004\n",
      "solve: matrix prep ... solution ... diagnostics ... done.\n",
      "id1-VLISSGN.nc 2005\n",
      "solve: matrix prep ... solution ... diagnostics ... done.\n",
      "id1-VLISSGN.nc 2006\n",
      "solve: matrix prep ... solution ... diagnostics ... done.\n",
      "id1-VLISSGN.nc 2007\n",
      "solve: matrix prep ... solution ... diagnostics ... done.\n",
      "id1-VLISSGN.nc 2008\n",
      "solve: matrix prep ... solution ... diagnostics ... done.\n",
      "id1-VLISSGN.nc 2009\n",
      "solve: matrix prep ... solution ... diagnostics ... done.\n",
      "id1-VLISSGN.nc 2010\n",
      "solve: matrix prep ... solution ... diagnostics ... done.\n",
      "id1-VLISSGN.nc 2011\n",
      "solve: matrix prep ... solution ... diagnostics ... done.\n",
      "id1-VLISSGN.nc 2012\n",
      "solve: matrix prep ... solution ... diagnostics ... done.\n",
      "id1-VLISSGN.nc 2013\n",
      "solve: matrix prep ... solution ... diagnostics ... done.\n",
      "id1-VLISSGN.nc 2014\n",
      "solve: matrix prep ... solution ... diagnostics ... done.\n",
      "id1-VLISSGN.nc 2015\n"
     ]
    },
    {
     "name": "stdout",
     "output_type": "stream",
     "text": [
      "solve: matrix prep ... solution ... diagnostics ... done.\n",
      "id1-VLISSGN.nc 2016\n",
      "solve: matrix prep ... solution ... diagnostics ... done.\n",
      "id1-VLISSGN.nc 2017\n",
      "solve: matrix prep ... solution ... diagnostics ... done.\n"
     ]
    }
   ],
   "source": [
    "\n",
    "coefs = []\n",
    "for path in paths:\n",
    "    with netCDF4.Dataset(path) as ds:\n",
    "        t = netCDF4.num2date(ds.variables['time'][:], ds.variables['time'].units)\n",
    "        ssh = np.squeeze(ds.variables['sea_surface_height'][:])\n",
    "\n",
    "    # analysis not working properly before 1970....\n",
    "    for year in range(1970, t[-1].year + 1):\n",
    "        print(path.name, year)\n",
    "        year_filter = [x.year == year for x in t]\n",
    "        try:\n",
    "            coef = utide.solve(\n",
    "                matplotlib.dates.date2num(t[year_filter]), \n",
    "                ssh[year_filter],  \n",
    "                lat=52,\n",
    "                method='ols'\n",
    "            )\n",
    "            coef['year'] = year\n",
    "            coef['path'] = str(path)\n",
    "            coefs.append(coef)\n",
    "        except:\n",
    "            logging.exception('solve failed')\n",
    "    "
   ]
  },
  {
   "cell_type": "code",
   "execution_count": 4,
   "metadata": {},
   "outputs": [],
   "source": [
    "df = pd.DataFrame(coefs).set_index('year')\n",
    "name_pattern = re.compile(r'id1-(?P<name>\\w+)\\.nc')\n",
    "df['code'] = df['path'].apply(lambda x: name_pattern.search(x).group('name'))"
   ]
  },
  {
   "cell_type": "code",
   "execution_count": 5,
   "metadata": {},
   "outputs": [],
   "source": [
    "df['const'] = df.apply(lambda row: dict(zip(row['name'], row['A'])), axis=1)"
   ]
  },
  {
   "cell_type": "code",
   "execution_count": 6,
   "metadata": {},
   "outputs": [
    {
     "data": {
      "image/png": "[encoded data removed]",
      "text/plain": [
       "<Figure size 432x288 with 2 Axes>"
      ]
     },
     "metadata": {},
     "output_type": "display_data"
    }
   ],
   "source": [
    "fig, axes = plt.subplots(nrows=2, sharex=True)\n",
    "axes[0].spines['bottom'].set_visible(False)\n",
    "axes[1].spines['top'].set_visible(False)\n",
    "axes[0].tick_params(labelbottom=False)\n",
    "axes[0].xaxis.tick_top()\n",
    "axes[0].set_ylim(0.75, 2)\n",
    "\n",
    "for constituent in [\n",
    "    'M2', 'S2', 'M4', 'N2', 'MS4', 'O1', 'L2', 'MU2', 'K1', 'MN4',\n",
    "    'K2', 'MM', 'NU2', 'M6', 'MSF'\n",
    "]:\n",
    "    ax = axes[0] if constituent == 'M2' else axes[1]\n",
    "    df['const'].apply(lambda x: x.get(constituent, 0)).plot(ax=ax)\n",
    "yax = axes[0].yaxis\n"
   ]
  },
  {
   "cell_type": "code",
   "execution_count": 72,
   "metadata": {},
   "outputs": [
    {
     "data": {
      "text/plain": [
       "(1970, 2016)"
      ]
     },
     "execution_count": 72,
     "metadata": {},
     "output_type": "execute_result"
    },
    {
     "data": {
      "image/png": "[encoded data removed]",
      "text/plain": [
       "<Figure size 936x576 with 1 Axes>"
      ]
     },
     "metadata": {},
     "output_type": "display_data"
    }
   ],
   "source": [
    "fig, ax = plt.subplots(figsize=(13, 8))\n",
    "m2 = df['const'].apply(lambda x: x.get('M2', np.nan))\n",
    "df['A_total'] = df['A'].apply(lambda x: np.sum(x))\n",
    "# replace invalid values with nan\n",
    "df['M2'] = np.ma.masked_array(m2, np.logical_or(np.isnan(m2), m2 > 3)).filled(np.nan)\n",
    "for path, path_df in iter(df[['code', 'M2']][df.index > 1970].groupby('code')):\n",
    "    path_df['M2'].plot(ax=ax, label=path)\n",
    "# ax.set_ylim(0, 2)\n",
    "ax.legend(loc='best')\n",
    "ax.set_ylabel('amplitude of M2 [m]')\n",
    "ax.set_xlim(1970, 2016)\n"
   ]
  },
  {
   "cell_type": "code",
   "execution_count": 86,
   "metadata": {},
   "outputs": [
    {
     "data": {
      "text/plain": [
       "<matplotlib.legend.Legend at 0x1236ff0b8>"
      ]
     },
     "execution_count": 86,
     "metadata": {},
     "output_type": "execute_result"
    },
    {
     "data": {
      "image/png": "[encoded data removed]",
      "text/plain": [
       "<Figure size 936x576 with 1 Axes>"
      ]
     },
     "metadata": {},
     "output_type": "display_data"
    }
   ],
   "source": [
    "df['const_g'] = df.apply(lambda row: dict(zip(row['name'], row['g'])), axis=1)\n",
    "df['M2_g'] = df['const_g'].apply(lambda x: x.get('M2', np.nan))\n",
    "fig, ax = plt.subplots(figsize=(13, 8))\n",
    "\n",
    "for path, path_df in iter(df[['code', 'M2_g']][df.index > 1970].groupby('code')):\n",
    "    path_df['M2_g'].plot(ax=ax, label=path)\n",
    "ax.set_ylabel('phase of M2 [degree]')\n",
    "ax.set_xlim(1970, 2016)\n",
    "ax.legend(loc='lower left')"
   ]
  },
  {
   "cell_type": "code",
   "execution_count": 106,
   "metadata": {},
   "outputs": [
    {
     "name": "stdout",
     "output_type": "stream",
     "text": [
      "prep/calcs ... done.\n"
     ]
    },
    {
     "data": {
      "text/plain": [
       "{'t_in': array([736601.93125   , 736601.93194444, 736601.93263889, 736601.93333333,\n",
       "        736601.93402778, 736601.93472222, 736601.93541667, 736601.93611111,\n",
       "        736601.93680556, 736601.9375    , 736601.93819444, 736601.93888889,\n",
       "        736601.93958333, 736601.94027778, 736601.94097222, 736601.94166667,\n",
       "        736601.94236111, 736601.94305556, 736601.94375   , 736601.94444444,\n",
       "        736601.94513889, 736601.94583333, 736601.94652778, 736601.94722222,\n",
       "        736601.94791667, 736601.94861111, 736601.94930556, 736601.95      ,\n",
       "        736601.95069444, 736601.95138889, 736601.95208333, 736601.95277778,\n",
       "        736601.95347222, 736601.95416667, 736601.95486111, 736601.95555556,\n",
       "        736601.95625   , 736601.95694444, 736601.95763889, 736601.95833333,\n",
       "        736601.95902778, 736601.95972222, 736601.96041667, 736601.96111111,\n",
       "        736601.96180556, 736601.9625    , 736601.96319444, 736601.96388889,\n",
       "        736601.96458333, 736601.96527778, 736601.96597222, 736601.96666667,\n",
       "        736601.96736111, 736601.96805556, 736601.96875   , 736601.96944444,\n",
       "        736601.97013889, 736601.97083333, 736601.97152778, 736601.97222222,\n",
       "        736601.97291667, 736601.97361111, 736601.97430556, 736601.975     ,\n",
       "        736601.97569444, 736601.97638889, 736601.97708333, 736601.97777778,\n",
       "        736601.97847222, 736601.97916667, 736601.97986111, 736601.98055556,\n",
       "        736601.98125   , 736601.98194444, 736601.98263889, 736601.98333333,\n",
       "        736601.98402778, 736601.98472222, 736601.98541667, 736601.98611111,\n",
       "        736601.98680556, 736601.9875    , 736601.98819444, 736601.98888889,\n",
       "        736601.98958333, 736601.99027778, 736601.99097222, 736601.99166667,\n",
       "        736601.99236111, 736601.99305556, 736601.99375   , 736601.99444444,\n",
       "        736601.99513889, 736601.99583333, 736601.99652778, 736601.99722222,\n",
       "        736601.99791667, 736601.99861111, 736601.99930556, 736602.        ]),\n",
       " 'epoch': 'python',\n",
       " 'constit': None,\n",
       " 'min_SNR': 2,\n",
       " 'min_PE': 0,\n",
       " 't_mpl': array([736601.93125   , 736601.93194444, 736601.93263889, 736601.93333333,\n",
       "        736601.93402778, 736601.93472222, 736601.93541667, 736601.93611111,\n",
       "        736601.93680556, 736601.9375    , 736601.93819444, 736601.93888889,\n",
       "        736601.93958333, 736601.94027778, 736601.94097222, 736601.94166667,\n",
       "        736601.94236111, 736601.94305556, 736601.94375   , 736601.94444444,\n",
       "        736601.94513889, 736601.94583333, 736601.94652778, 736601.94722222,\n",
       "        736601.94791667, 736601.94861111, 736601.94930556, 736601.95      ,\n",
       "        736601.95069444, 736601.95138889, 736601.95208333, 736601.95277778,\n",
       "        736601.95347222, 736601.95416667, 736601.95486111, 736601.95555556,\n",
       "        736601.95625   , 736601.95694444, 736601.95763889, 736601.95833333,\n",
       "        736601.95902778, 736601.95972222, 736601.96041667, 736601.96111111,\n",
       "        736601.96180556, 736601.9625    , 736601.96319444, 736601.96388889,\n",
       "        736601.96458333, 736601.96527778, 736601.96597222, 736601.96666667,\n",
       "        736601.96736111, 736601.96805556, 736601.96875   , 736601.96944444,\n",
       "        736601.97013889, 736601.97083333, 736601.97152778, 736601.97222222,\n",
       "        736601.97291667, 736601.97361111, 736601.97430556, 736601.975     ,\n",
       "        736601.97569444, 736601.97638889, 736601.97708333, 736601.97777778,\n",
       "        736601.97847222, 736601.97916667, 736601.97986111, 736601.98055556,\n",
       "        736601.98125   , 736601.98194444, 736601.98263889, 736601.98333333,\n",
       "        736601.98402778, 736601.98472222, 736601.98541667, 736601.98611111,\n",
       "        736601.98680556, 736601.9875    , 736601.98819444, 736601.98888889,\n",
       "        736601.98958333, 736601.99027778, 736601.99097222, 736601.99166667,\n",
       "        736601.99236111, 736601.99305556, 736601.99375   , 736601.99444444,\n",
       "        736601.99513889, 736601.99583333, 736601.99652778, 736601.99722222,\n",
       "        736601.99791667, 736601.99861111, 736601.99930556, 736602.        ]),\n",
       " 'h': array([ 4.90084645e-01,  4.79867800e-01,  4.69573952e-01,  4.59204107e-01,\n",
       "         4.48759323e-01,  4.38240719e-01,  4.27649465e-01,  4.16986785e-01,\n",
       "         4.06253958e-01,  3.95452320e-01,  3.84583258e-01,  3.73648207e-01,\n",
       "         3.62648662e-01,  3.51586164e-01,  3.40462302e-01,  3.29278720e-01,\n",
       "         3.18037106e-01,  3.06739199e-01,  2.95386780e-01,  2.83981676e-01,\n",
       "         2.72525765e-01,  2.61020958e-01,  2.49469213e-01,  2.37872530e-01,\n",
       "         2.26232945e-01,  2.14552531e-01,  2.02833404e-01,  1.91077706e-01,\n",
       "         1.79287622e-01,  1.67465361e-01,  1.55613168e-01,  1.43733312e-01,\n",
       "         1.31828096e-01,  1.19899843e-01,  1.07950904e-01,  9.59836504e-02,\n",
       "         8.40004725e-02,  7.20037861e-02,  5.99960158e-02,  4.79796101e-02,\n",
       "         3.59570251e-02,  2.39307306e-02,  1.19032046e-02, -1.23060750e-04,\n",
       "        -1.21455728e-02, -2.41618347e-02, -3.61693408e-02, -4.81655925e-02,\n",
       "        -6.01480848e-02, -7.21143233e-02, -8.40618107e-02, -9.59880623e-02,\n",
       "        -1.07890600e-01, -1.19766959e-01, -1.31614679e-01, -1.43431323e-01,\n",
       "        -1.55214466e-01, -1.66961698e-01, -1.78670633e-01, -1.90338908e-01,\n",
       "        -2.01964177e-01, -2.13544125e-01, -2.25076457e-01, -2.36558914e-01,\n",
       "        -2.47989265e-01, -2.59365304e-01, -2.70684868e-01, -2.81945825e-01,\n",
       "        -2.93146076e-01, -3.04283564e-01, -3.15356275e-01, -3.26362226e-01,\n",
       "        -3.37299487e-01, -3.48166163e-01, -3.58960409e-01, -3.69680425e-01,\n",
       "        -3.80324462e-01, -3.90890813e-01, -4.01377827e-01, -4.11783899e-01,\n",
       "        -4.22107479e-01, -4.32347073e-01, -4.42501234e-01, -4.52568576e-01,\n",
       "        -4.62547765e-01, -4.72437524e-01, -4.82236636e-01, -4.91943941e-01,\n",
       "        -5.01558333e-01, -5.11078771e-01, -5.20504272e-01, -5.29833910e-01,\n",
       "        -5.39066825e-01, -5.48202211e-01, -5.57239329e-01, -5.66177497e-01,\n",
       "        -5.75016097e-01, -5.83754572e-01, -5.92392427e-01, -6.00929225e-01])}"
      ]
     },
     "execution_count": 106,
     "metadata": {},
     "output_type": "execute_result"
    }
   ],
   "source": [
    "utide.reconstruct(matplotlib.dates.date2num(t[-100:]), df.iloc[-1].to_dict())"
   ]
  },
  {
   "cell_type": "code",
   "execution_count": 105,
   "metadata": {},
   "outputs": [
    {
     "data": {
      "text/plain": [
       "array([datetime.datetime(1863, 9, 1, 7, 40),\n",
       "       datetime.datetime(1863, 9, 2, 7, 40),\n",
       "       datetime.datetime(1863, 9, 3, 7, 40), ...,\n",
       "       datetime.datetime(2017, 9, 29, 23, 58),\n",
       "       datetime.datetime(2017, 9, 29, 23, 59),\n",
       "       datetime.datetime(2017, 9, 30, 0, 0)], dtype=object)"
      ]
     },
     "execution_count": 105,
     "metadata": {},
     "output_type": "execute_result"
    }
   ],
   "source": []
  },
  {
   "cell_type": "code",
   "execution_count": null,
   "metadata": {},
   "outputs": [],
   "source": []
  }
 ],
 "metadata": {
  "kernelspec": {
   "display_name": "Python 3",
   "language": "python",
   "name": "python3"
  },
  "language_info": {
   "codemirror_mode": {
    "name": "ipython",
    "version": 3
   },
   "file_extension": ".py",
   "mimetype": "text/x-python",
   "name": "python",
   "nbconvert_exporter": "python",
   "pygments_lexer": "ipython3",
   "version": "3.6.6"
  }
 },
 "nbformat": 4,
 "nbformat_minor": 2
}
