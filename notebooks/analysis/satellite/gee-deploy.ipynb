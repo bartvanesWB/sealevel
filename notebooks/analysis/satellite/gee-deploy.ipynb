{
 "cells": [
  {
   "cell_type": "code",
   "execution_count": 33,
   "metadata": {},
   "outputs": [],
   "source": [
    "import datetime\n",
    "import re\n"
   ]
  },
  {
   "cell_type": "code",
   "execution_count": 41,
   "metadata": {},
   "outputs": [],
   "source": [
    "# check which files are already uploaded\n",
    "uploaded = ! earthengine ls users/fbaart/ssh_grids_v1609\n",
    "uploaded = set(uploaded)"
   ]
  },
  {
   "cell_type": "code",
   "execution_count": 42,
   "metadata": {},
   "outputs": [
    {
     "data": {
      "text/plain": [
       "1878"
      ]
     },
     "execution_count": 42,
     "metadata": {},
     "output_type": "execute_result"
    }
   ],
   "source": [
    "len(uploaded)"
   ]
  },
  {
   "cell_type": "code",
   "execution_count": 43,
   "metadata": {},
   "outputs": [
    {
     "data": {
      "text/plain": [
       "(1913, 'gs://slr/ssh_grids/ssh_grids_v1609_2018061812_i.nc-final.tiff')"
      ]
     },
     "execution_count": 43,
     "metadata": {},
     "output_type": "execute_result"
    }
   ],
   "source": [
    "# check which files are available in cloud storage\n",
    "urls = ! ~/.local/google-cloud-sdk/bin/gsutil ls gs://slr/**/*.tiff\n",
    "len(urls), urls[-1]"
   ]
  },
  {
   "cell_type": "code",
   "execution_count": 52,
   "metadata": {},
   "outputs": [
    {
     "data": {
      "text/plain": [
       "(1913, 1878)"
      ]
     },
     "execution_count": 52,
     "metadata": {},
     "output_type": "execute_result"
    }
   ],
   "source": [
    "# extract information from the from path\n",
    "pattern = re.compile(r'''\n",
    "    ^                            # start of the string\n",
    "    (?P<path>                    # this is the path\n",
    "        gs://slr/ssh_grids/      # start of the path\n",
    "        (?P<base>ssh_grids_      # this is the base path\n",
    "            (?P<version>[\\w\\d]+) # the version number/text\n",
    "            _                    # some _\n",
    "            (?P<year>\\d{4})      # year\n",
    "            (?P<month>\\d{2})     # month\n",
    "            (?P<day>\\d{2})       # day\n",
    "            (?P<hour>\\d{2})      # hour\n",
    "        )                        # base path ends here\n",
    "        (_i)?                    # sometimes a _i\n",
    "        \\.nc-final\\.tiff         # end of the filename\n",
    "    )                            # path ends here\n",
    "    $                            # string ends here\n",
    "''', re.VERBOSE)\n",
    "matches = [\n",
    "    pattern.match(url).groupdict() \n",
    "    for url \n",
    "    in urls\n",
    "]\n",
    "len(matches), len({match['base'] for match in matches}) "
   ]
  },
  {
   "cell_type": "code",
   "execution_count": 53,
   "metadata": {},
   "outputs": [
    {
     "name": "stdout",
     "output_type": "stream",
     "text": [
      "Asset users/fbaart/ssh_grids_v1609 already exists\r\n"
     ]
    }
   ],
   "source": [
    "# make sure the imagecollection exists\n",
    "! earthengine create collection users/fbaart/ssh_grids_v1609"
   ]
  },
  {
   "cell_type": "code",
   "execution_count": 47,
   "metadata": {},
   "outputs": [
    {
     "data": {
      "text/plain": [
       "True"
      ]
     },
     "execution_count": 47,
     "metadata": {},
     "output_type": "execute_result"
    }
   ],
   "source": [
    "# test if the file is uploaded\n",
    "match = matches[0]\n",
    "asset_id = \"users/fbaart/ssh_grids_v1609/\" + match['base']\n",
    "asset_id in uploaded"
   ]
  },
  {
   "cell_type": "code",
   "execution_count": 48,
   "metadata": {},
   "outputs": [],
   "source": [
    "# upload all files that are not uploaded\n",
    "for match in matches:\n",
    "    date = datetime.datetime(\n",
    "        year=int(match['year']), \n",
    "        month=int(match['month']),\n",
    "        day=int(match['day']),\n",
    "        hour=int(match['hour'])\n",
    "    )\n",
    "\n",
    "    date_str = date.isoformat()\n",
    "    path = match['path']\n",
    "    asset_id = \"users/fbaart/ssh_grids_v1609/\" + match['base']\n",
    "    if asset_id in uploaded:\n",
    "        continue\n",
    "    ! earthengine upload image --asset_id $asset_id --time_start $date_str $path"
   ]
  },
  {
   "cell_type": "code",
   "execution_count": 13,
   "metadata": {},
   "outputs": [],
   "source": [
    "# make sure the date is set correct\n",
    "for match in matches:\n",
    "    date = datetime.datetime(\n",
    "        year=int(match['year']), \n",
    "        month=int(match['month']),\n",
    "        day=int(match['day']),\n",
    "        hour=int(match['hour'])\n",
    "    )\n",
    "\n",
    "    date_str = date.isoformat()\n",
    "    path = match['path']\n",
    "    asset_id = \"users/fbaart/ssh_grids_v1609/\" + match['base']\n",
    "    if asset_id in uploaded:\n",
    "        ! earthengine asset set --time_start $date_str $asset_id"
   ]
  },
  {
   "cell_type": "code",
   "execution_count": null,
   "metadata": {},
   "outputs": [],
   "source": []
  }
 ],
 "metadata": {
  "kernelspec": {
   "display_name": "Python 3",
   "language": "python",
   "name": "python3"
  },
  "language_info": {
   "codemirror_mode": {
    "name": "ipython",
    "version": 3
   },
   "file_extension": ".py",
   "mimetype": "text/x-python",
   "name": "python",
   "nbconvert_exporter": "python",
   "pygments_lexer": "ipython3",
   "version": "3.6.6"
  }
 },
 "nbformat": 4,
 "nbformat_minor": 2
}
