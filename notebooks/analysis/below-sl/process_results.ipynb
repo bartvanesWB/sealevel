{
 "cells": [
  {
   "cell_type": "code",
   "execution_count": 1,
   "metadata": {},
   "outputs": [],
   "source": [
    "import pathlib\n",
    "import re\n",
    "import itertools\n",
    "\n",
    "import numpy as np\n",
    "\n",
    "\n",
    "import geojson\n",
    "import geopandas\n",
    "import matplotlib.pyplot as plt\n",
    "%matplotlib inline"
   ]
  },
  {
   "cell_type": "code",
   "execution_count": 2,
   "metadata": {},
   "outputs": [],
   "source": [
    "data_dir = pathlib.Path('~/src/sealevel/data/deltares/nl-below-sl').expanduser()"
   ]
  },
  {
   "cell_type": "code",
   "execution_count": 3,
   "metadata": {},
   "outputs": [],
   "source": [
    "features = []\n",
    "paths = data_dir.glob('*.geojson')\n",
    "for path in paths:\n",
    "    with path.open() as f:\n",
    "        data = geojson.load(f)\n",
    "        for feature in data['features']:\n",
    "            feature['properties']['filename'] = path.name\n",
    "        features.extend(data.features)"
   ]
  },
  {
   "cell_type": "code",
   "execution_count": 4,
   "metadata": {},
   "outputs": [],
   "source": [
    "features = geojson.FeatureCollection(features=features)"
   ]
  },
  {
   "cell_type": "code",
   "execution_count": 5,
   "metadata": {},
   "outputs": [],
   "source": [
    "gdf = geopandas.GeoDataFrame.from_features(features)"
   ]
  },
  {
   "cell_type": "code",
   "execution_count": 6,
   "metadata": {},
   "outputs": [],
   "source": [
    "filename_pattern = re.compile(r'05m-noclip-(?P<i>\\d+)-(?P<j>\\d+)ee_export.geojson')\n",
    "gdf['file_info'] = gdf.filename.apply(lambda x: filename_pattern.search(x).groupdict())\n",
    "gdf['i'] = gdf['file_info'].apply(lambda x: int(x['i']))\n",
    "gdf['j'] = gdf['file_info'].apply(lambda x: int(x['j']))"
   ]
  },
  {
   "cell_type": "code",
   "execution_count": 7,
   "metadata": {},
   "outputs": [
    {
     "data": {
      "image/png": "[encoded data removed]",
      "text/plain": [
       "<Figure size 432x288 with 1 Axes>"
      ]
     },
     "metadata": {},
     "output_type": "display_data"
    }
   ],
   "source": [
    "ax = gdf[np.logical_and(gdf['i'] > 12, gdf['i']<  16)].plot()\n"
   ]
  },
  {
   "cell_type": "code",
   "execution_count": 8,
   "metadata": {},
   "outputs": [
    {
     "data": {
      "text/plain": [
       "{3, 16, 20, 24, 28, 32, 36}"
      ]
     },
     "execution_count": 8,
     "metadata": {},
     "output_type": "execute_result"
    }
   ],
   "source": [
    "gdf[['i', 'j']].sort_values(['i', 'j'])\n",
    "set(range(40)) - set(gdf['i'])"
   ]
  },
  {
   "cell_type": "code",
   "execution_count": 9,
   "metadata": {},
   "outputs": [],
   "source": [
    "gdf['n_gte0'] = gdf['nGte0'].apply(lambda x: x['elevation'])\n",
    "gdf['n_lt0'] = gdf['nLt0'].apply(lambda x: x['elevation'])\n",
    "gdf['total'] = gdf['n_lt0'] + gdf['n_gte0']\n",
    "gdf['total_count'] = gdf['count'].apply(lambda x: x['elevation'])\n",
    "gdf['masked_frac'] = gdf['maskedFrac'].apply(lambda x: x['elevation'])"
   ]
  },
  {
   "cell_type": "code",
   "execution_count": 10,
   "metadata": {},
   "outputs": [],
   "source": [
    "gdf['bins'] = gdf['hist'].apply(lambda x: x['elevation']).apply(lambda x: [x_i[0] for x_i in x] if x else [])\n",
    "gdf['counts'] = gdf['hist'].apply(lambda x: x['elevation']).apply(lambda x: [x_i[1] for x_i in x] if x else [])"
   ]
  },
  {
   "cell_type": "code",
   "execution_count": 11,
   "metadata": {},
   "outputs": [
    {
     "data": {
      "text/plain": [
       "0.2511982382373728"
      ]
     },
     "execution_count": 11,
     "metadata": {},
     "output_type": "execute_result"
    }
   ],
   "source": [
    "gte0 = gdf['n_gte0'].sum() \n",
    "lt0 = gdf['n_lt0'].sum()\n",
    "lt0 / (gte0 + lt0)"
   ]
  },
  {
   "cell_type": "code",
   "execution_count": 12,
   "metadata": {},
   "outputs": [
    {
     "data": {
      "text/plain": [
       "(-15.41, 83307.52, 0.0, 252703487.65881482)"
      ]
     },
     "execution_count": 12,
     "metadata": {},
     "output_type": "execute_result"
    }
   ],
   "source": [
    "bins = list(itertools.chain.from_iterable(gdf['bins'].values))\n",
    "counts = list(itertools.chain.from_iterable(gdf['counts'].values))\n",
    "np.min(bins), np.max(bins), np.min(counts), np.max(counts)"
   ]
  },
  {
   "cell_type": "code",
   "execution_count": 13,
   "metadata": {},
   "outputs": [],
   "source": [
    "gdf['max_bins'] = gdf['bins'].apply(lambda x: np.max(x) if x else 0)"
   ]
  },
  {
   "cell_type": "code",
   "execution_count": 17,
   "metadata": {},
   "outputs": [],
   "source": [
    "row = gdf.sort_values('max_bins', ascending=False).iloc[:1]"
   ]
  },
  {
   "cell_type": "code",
   "execution_count": 20,
   "metadata": {},
   "outputs": [
    {
     "data": {
      "text/html": [
       "<div>\n",
       "<style scoped>\n",
       "    .dataframe tbody tr th:only-of-type {\n",
       "        vertical-align: middle;\n",
       "    }\n",
       "\n",
       "    .dataframe tbody tr th {\n",
       "        vertical-align: top;\n",
       "    }\n",
       "\n",
       "    .dataframe thead th {\n",
       "        text-align: right;\n",
       "    }\n",
       "</style>\n",
       "<table border=\"1\" class=\"dataframe\">\n",
       "  <thead>\n",
       "    <tr style=\"text-align: right;\">\n",
       "      <th></th>\n",
       "      <th>count</th>\n",
       "      <th>filename</th>\n",
       "      <th>geometry</th>\n",
       "      <th>hist</th>\n",
       "      <th>maskedFrac</th>\n",
       "      <th>nGte0</th>\n",
       "      <th>nLt0</th>\n",
       "      <th>file_info</th>\n",
       "      <th>i</th>\n",
       "      <th>j</th>\n",
       "      <th>n_gte0</th>\n",
       "      <th>n_lt0</th>\n",
       "      <th>total</th>\n",
       "      <th>total_count</th>\n",
       "      <th>masked_frac</th>\n",
       "      <th>bins</th>\n",
       "      <th>counts</th>\n",
       "      <th>max_bins</th>\n",
       "    </tr>\n",
       "  </thead>\n",
       "  <tbody>\n",
       "    <tr>\n",
       "      <th>114</th>\n",
       "      <td>{'elevation': 263777984}</td>\n",
       "      <td>05m-noclip-13-14ee_export.geojson</td>\n",
       "      <td>POLYGON ((4.546542493526175 52.1287083934524, ...</td>\n",
       "      <td>{'elevation': [[-15.36, 20158.0], [-10.2399999...</td>\n",
       "      <td>{'elevation': 0.8665202564578398}</td>\n",
       "      <td>{'elevation': 7777304.568627451}</td>\n",
       "      <td>{'elevation': 256001651.36078432}</td>\n",
       "      <td>{'i': '13', 'j': '14'}</td>\n",
       "      <td>13</td>\n",
       "      <td>14</td>\n",
       "      <td>7.777305e+06</td>\n",
       "      <td>2.560017e+08</td>\n",
       "      <td>2.637790e+08</td>\n",
       "      <td>263777984</td>\n",
       "      <td>0.86652</td>\n",
       "      <td>[-15.36, -10.239999999999998, -5.1199999999999...</td>\n",
       "      <td>[20158.0, 3278005.7019607895, 252703487.658814...</td>\n",
       "      <td>83307.52</td>\n",
       "    </tr>\n",
       "  </tbody>\n",
       "</table>\n",
       "</div>"
      ],
      "text/plain": [
       "                        count                           filename  \\\n",
       "114  {'elevation': 263777984}  05m-noclip-13-14ee_export.geojson   \n",
       "\n",
       "                                              geometry  \\\n",
       "114  POLYGON ((4.546542493526175 52.1287083934524, ...   \n",
       "\n",
       "                                                  hist  \\\n",
       "114  {'elevation': [[-15.36, 20158.0], [-10.2399999...   \n",
       "\n",
       "                            maskedFrac                             nGte0  \\\n",
       "114  {'elevation': 0.8665202564578398}  {'elevation': 7777304.568627451}   \n",
       "\n",
       "                                  nLt0               file_info   i   j  \\\n",
       "114  {'elevation': 256001651.36078432}  {'i': '13', 'j': '14'}  13  14   \n",
       "\n",
       "           n_gte0         n_lt0         total  total_count  masked_frac  \\\n",
       "114  7.777305e+06  2.560017e+08  2.637790e+08    263777984      0.86652   \n",
       "\n",
       "                                                  bins  \\\n",
       "114  [-15.36, -10.239999999999998, -5.1199999999999...   \n",
       "\n",
       "                                                counts  max_bins  \n",
       "114  [20158.0, 3278005.7019607895, 252703487.658814...  83307.52  "
      ]
     },
     "execution_count": 20,
     "metadata": {},
     "output_type": "execute_result"
    }
   ],
   "source": [
    "row"
   ]
  },
  {
   "cell_type": "code",
   "execution_count": null,
   "metadata": {},
   "outputs": [],
   "source": []
  }
 ],
 "metadata": {
  "kernelspec": {
   "display_name": "Python 3",
   "language": "python",
   "name": "python3"
  },
  "language_info": {
   "codemirror_mode": {
    "name": "ipython",
    "version": 3
   },
   "file_extension": ".py",
   "mimetype": "text/x-python",
   "name": "python",
   "nbconvert_exporter": "python",
   "pygments_lexer": "ipython3",
   "version": "3.6.6"
  }
 },
 "nbformat": 4,
 "nbformat_minor": 2
}
