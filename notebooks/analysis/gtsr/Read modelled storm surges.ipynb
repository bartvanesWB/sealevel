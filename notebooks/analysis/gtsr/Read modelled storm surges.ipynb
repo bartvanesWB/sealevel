{
 "cells": [
  {
   "cell_type": "markdown",
   "metadata": {},
   "source": [
    "## Read storm surge data from the global tidal surge reanalysis (GTSR)\n",
    "\n",
    "This notebook reads the output of a storm surge reanalysis with the global tidal shelf model (GTSM) for the Dutch coast (see Muis et al., 2016). The model output consists of both storm surge and tidal data. The time series shall be used as an independent variable in the sea level regression. \n",
    "\n",
    "Sanne Muis, Martin Verlaan, Hessel C. Winsemius, Jeroen C. J. H. Aerts & Philip J. Ward. A global reanalysis of storm surges and extreme sea levels. Nature Communications volume 7, Article number: 11969 (2016). doi: 10.1038/ncomms11969 (2016). https://www.nature.com/articles/ncomms11969"
   ]
  },
  {
   "cell_type": "code",
   "execution_count": 2,
   "metadata": {},
   "outputs": [
    {
     "ename": "RuntimeError",
     "evalue": "b'no arguments in initialization list'",
     "output_type": "error",
     "traceback": [
      "\u001b[1;31m---------------------------------------------------------------------------\u001b[0m",
      "\u001b[1;31mRuntimeError\u001b[0m                              Traceback (most recent call last)",
      "\u001b[1;32m<ipython-input-2-ab87e7f427be>\u001b[0m in \u001b[0;36m<module>\u001b[1;34m()\u001b[0m\n\u001b[0;32m     21\u001b[0m \u001b[1;31m#WEBMERCATOR = Proj({'init': 'epsg:3857', 'no_defs': True}, preserve_flags=True)\u001b[0m\u001b[1;33m\u001b[0m\u001b[1;33m\u001b[0m\u001b[0m\n\u001b[0;32m     22\u001b[0m \u001b[1;31m#WGS84 = Proj({'init': 'epsg:4326', 'no_defs': True}, preserve_flags=True)\u001b[0m\u001b[1;33m\u001b[0m\u001b[1;33m\u001b[0m\u001b[0m\n\u001b[1;32m---> 23\u001b[1;33m \u001b[0mWEBMERCATOR\u001b[0m \u001b[1;33m=\u001b[0m \u001b[0mpyproj\u001b[0m\u001b[1;33m.\u001b[0m\u001b[0mProj\u001b[0m\u001b[1;33m(\u001b[0m\u001b[0minit\u001b[0m\u001b[1;33m=\u001b[0m\u001b[1;34m'epsg:3857'\u001b[0m\u001b[1;33m)\u001b[0m\u001b[1;33m\u001b[0m\u001b[0m\n\u001b[0m\u001b[0;32m     24\u001b[0m \u001b[0mWGS84\u001b[0m \u001b[1;33m=\u001b[0m \u001b[0mpyproj\u001b[0m\u001b[1;33m.\u001b[0m\u001b[0mProj\u001b[0m\u001b[1;33m(\u001b[0m\u001b[0minit\u001b[0m\u001b[1;33m=\u001b[0m\u001b[1;34m'epsg:4326'\u001b[0m\u001b[1;33m)\u001b[0m\u001b[1;33m\u001b[0m\u001b[0m\n\u001b[0;32m     25\u001b[0m \u001b[1;33m\u001b[0m\u001b[0m\n",
      "\u001b[1;32m~\\AppData\\Local\\Continuum\\anaconda3\\lib\\site-packages\\pyproj\\__init__.py\u001b[0m in \u001b[0;36m__new__\u001b[1;34m(self, projparams, preserve_units, **kwargs)\u001b[0m\n\u001b[0;32m    356\u001b[0m         \u001b[1;31m# on case-insensitive filesystems).\u001b[0m\u001b[1;33m\u001b[0m\u001b[1;33m\u001b[0m\u001b[0m\n\u001b[0;32m    357\u001b[0m         \u001b[0mprojstring\u001b[0m \u001b[1;33m=\u001b[0m \u001b[0mprojstring\u001b[0m\u001b[1;33m.\u001b[0m\u001b[0mreplace\u001b[0m\u001b[1;33m(\u001b[0m\u001b[1;34m'EPSG'\u001b[0m\u001b[1;33m,\u001b[0m\u001b[1;34m'epsg'\u001b[0m\u001b[1;33m)\u001b[0m\u001b[1;33m\u001b[0m\u001b[0m\n\u001b[1;32m--> 358\u001b[1;33m         \u001b[1;32mreturn\u001b[0m \u001b[0m_proj\u001b[0m\u001b[1;33m.\u001b[0m\u001b[0mProj\u001b[0m\u001b[1;33m.\u001b[0m\u001b[0m__new__\u001b[0m\u001b[1;33m(\u001b[0m\u001b[0mself\u001b[0m\u001b[1;33m,\u001b[0m \u001b[0mprojstring\u001b[0m\u001b[1;33m)\u001b[0m\u001b[1;33m\u001b[0m\u001b[0m\n\u001b[0m\u001b[0;32m    359\u001b[0m \u001b[1;33m\u001b[0m\u001b[0m\n\u001b[0;32m    360\u001b[0m     \u001b[1;32mdef\u001b[0m \u001b[0m__call__\u001b[0m\u001b[1;33m(\u001b[0m\u001b[0mself\u001b[0m\u001b[1;33m,\u001b[0m \u001b[1;33m*\u001b[0m\u001b[0margs\u001b[0m\u001b[1;33m,\u001b[0m \u001b[1;33m**\u001b[0m\u001b[0mkw\u001b[0m\u001b[1;33m)\u001b[0m\u001b[1;33m:\u001b[0m\u001b[1;33m\u001b[0m\u001b[0m\n",
      "\u001b[1;32m_proj.pyx\u001b[0m in \u001b[0;36m_proj.Proj.__cinit__\u001b[1;34m()\u001b[0m\n",
      "\u001b[1;31mRuntimeError\u001b[0m: b'no arguments in initialization list'"
     ]
    }
   ],
   "source": [
    "from netCDF4 import Dataset\n",
    "\n",
    "# coordinate systems\n",
    "import pyproj\n",
    "\n",
    "# plotting\n",
    "import bokeh.io\n",
    "import bokeh.plotting\n",
    "import bokeh.tile_providers\n",
    "import bokeh.palettes\n",
    "\n",
    "import numpy as np\n",
    "import pandas as pd\n",
    "import datetime\n",
    "\n",
    "import matplotlib.pyplot as plt\n",
    "\n",
    "# Some coordinate systems\n",
    "#WEBMERCATOR = Proj({'init': 'epsg:3857', 'no_defs': True}, preserve_flags=True)\n",
    "#WGS84 = Proj({'init': 'epsg:4326', 'no_defs': True}, preserve_flags=True)\n",
    "WEBMERCATOR = pyproj.Proj(init='epsg:3857')\n",
    "WGS84 = pyproj.Proj(init='epsg:4326')\n",
    "\n",
    "# If this notebook is not showing up with figures, you can use the following url:\n",
    "# https://nbviewer.ipython.org/github/openearth/notebooks/blob/master/sealevelmonitor.ipynb\n",
    "bokeh.io.output_notebook()\n",
    "# we're using matplotlib for polar plots (non-interactive)\n",
    "%matplotlib inline\n",
    "# does not work properly\n",
    "# %matplotlib notebook\n",
    "\n",
    "# Disable pandas warnings\n",
    "#pandas.options.mode.chained_assignment = None"
   ]
  },
  {
   "cell_type": "markdown",
   "metadata": {},
   "source": [
    "Define the two datasets for surge and tide:"
   ]
  },
  {
   "cell_type": "code",
   "execution_count": null,
   "metadata": {},
   "outputs": [],
   "source": [
    "ds = {\n",
    "    'tide': Dataset('d:/Documents/2695.50 Zeespiegelstijging 2018/Data/FES2012_tide_NorthSea_zeespiegelmonitor.nc', 'r'),\n",
    "    'surge': Dataset('d:/Documents/2695.50 Zeespiegelstijging 2018/Data/GTSR_surge_NorthSea_zeespiegelmonitor.nc', 'r')\n",
    "}"
   ]
  },
  {
   "cell_type": "code",
   "execution_count": null,
   "metadata": {},
   "outputs": [],
   "source": [
    "ds['tide'].variables['time']"
   ]
  },
  {
   "cell_type": "markdown",
   "metadata": {},
   "source": [
    "The data sets (not similar) contain the following data:"
   ]
  },
  {
   "cell_type": "code",
   "execution_count": null,
   "metadata": {},
   "outputs": [],
   "source": [
    "list(ds['tide'].variables.keys())"
   ]
  },
  {
   "cell_type": "markdown",
   "metadata": {},
   "source": [
    "Get some data such as names and coordinates from both data sets."
   ]
  },
  {
   "cell_type": "code",
   "execution_count": null,
   "metadata": {},
   "outputs": [],
   "source": [
    "# Derive station names\n",
    "station_names = []\n",
    "for station in ds['tide'].variables['station_name'][:]:#.data.T:\n",
    "    station_names.append(''.join([s.decode() for s in station]))"
   ]
  },
  {
   "cell_type": "code",
   "execution_count": null,
   "metadata": {},
   "outputs": [],
   "source": [
    "# Get coordinates\n",
    "coordinates = {}\n",
    "for quantity in ['tide', 'surge']:\n",
    "    coordinates[quantity] = np.vstack([\n",
    "        ds[quantity].variables['station_x_coordinate'][:].data,\n",
    "        ds[quantity].variables['station_y_coordinate'][:].data\n",
    "    ]).T\n"
   ]
  },
  {
   "cell_type": "markdown",
   "metadata": {},
   "source": [
    "To get an overview of the tide station locations in relation to the model output locations, we plot both:"
   ]
  },
  {
   "cell_type": "code",
   "execution_count": null,
   "metadata": {},
   "outputs": [],
   "source": [
    "# show all the stations on a map\n",
    "\n",
    "# compute the bounds of the plot\n",
    "sw = (51, 3)\n",
    "ne = (54, 6)\n",
    "# transform to web mercator\n",
    "sw_wm = pyproj.transform(WGS84, WEBMERCATOR, sw[1], sw[0])\n",
    "ne_wm = pyproj.transform(WGS84, WEBMERCATOR, ne[1], ne[0])\n",
    "# create a plot\n",
    "fig = bokeh.plotting.figure(tools='pan, wheel_zoom', plot_width=600, plot_height=600, x_range=(sw_wm[0], ne_wm[0]), y_range=(sw_wm[1], ne_wm[1]))\n",
    "fig.axis.visible = False\n",
    "# add some background tiles\n",
    "fig.add_tile(bokeh.tile_providers.STAMEN_TERRAIN)\n",
    "# add the stations\n",
    "x, y = pyproj.transform(WGS84, WEBMERCATOR, np.array(coordinates['tide'][:, 0]), np.array(coordinates['tide'][:, 1]))\n",
    "fig.circle(x, y);"
   ]
  },
  {
   "cell_type": "code",
   "execution_count": null,
   "metadata": {},
   "outputs": [],
   "source": [
    "# Add tide stations\n",
    "tide_stations = [\n",
    "    [51.442222, 3.596111, 'VLISSINGEN'],\n",
    "    [51.977500, 4.120000, 'HOEK VAN HOLLAND'],\n",
    "    [52.964444, 4.745000, 'DEN HELDER'],\n",
    "    [53.326389, 6.933056, 'DELFZIJL'],\n",
    "    [53.175556, 5.409444, 'HARLINGEN'],\n",
    "    [52.462222, 4.554722, 'IJMUIDEN']\n",
    "]\n",
    "\n",
    "tide_coords = np.array([station[:2] for station in tide_stations])\n",
    "st_x, st_y = pyproj.transform(WGS84, WEBMERCATOR, np.array(tide_coords)[:, 1], np.array(tide_coords)[:, 0])\n",
    "fig.circle(st_x, st_y, color='red', size=7, alpha=0.3);\n"
   ]
  },
  {
   "cell_type": "code",
   "execution_count": null,
   "metadata": {},
   "outputs": [],
   "source": [
    "# show the plot\n",
    "bokeh.io.show(fig)"
   ]
  },
  {
   "cell_type": "markdown",
   "metadata": {},
   "source": [
    "For most stations there is a nearby model output location, which we will assume representative. Only for Delfzijl there is no nearby location. We will still use the nearest location, but keep in mind that this might give unrepresentative data."
   ]
  },
  {
   "cell_type": "code",
   "execution_count": null,
   "metadata": {},
   "outputs": [],
   "source": [
    "# find nearest (roughly) station and get data\n",
    "def find_station_index(model_crds, tide_stations):\n",
    "    index = [np.hypot(coordinates[quantity][:, 0] - station[1], coordinates[quantity][:, 1] - station[0]).argmin()\n",
    "             for station in tide_stations]\n",
    "    return index\n",
    "\n",
    "# Get tide data\n",
    "data = ds['tide'].variables['tide'][:, find_station_index(coordinates['tide'], tide_stations)]\n",
    "values = data.data\n",
    "values[values > 1000.0] = np.nan\n",
    "values[~data.mask] = np.nan\n",
    "\n",
    "# Create time series\n",
    "start_date = datetime.datetime.strptime(ds['tide']['time'].units.split()[2], '%Y-%m-%d')\n",
    "time = start_date + np.array([datetime.timedelta(seconds=minutes) for minutes in ds['tide'].variables['time'][:] * 60])\n",
    "print(time[0])\n",
    "tide = pd.DataFrame(\n",
    "    data=values,\n",
    "    index=time,\n",
    "    columns=[station[-1].lower().capitalize() for station in tide_stations]\n",
    ")"
   ]
  },
  {
   "cell_type": "markdown",
   "metadata": {},
   "source": [
    "A data correction of one day is required to get the right storm surge data at the right moment."
   ]
  },
  {
   "cell_type": "code",
   "execution_count": null,
   "metadata": {},
   "outputs": [],
   "source": [
    "# Get values\n",
    "data = ds['surge'].variables['waterlevel'][:, find_station_index(coordinates['surge'], tide_stations)]\n",
    "\n",
    "# Construct time index\n",
    "date_correction = datetime.timedelta(days=366)\n",
    "time = [datetime.datetime.fromordinal(int(ts)) + datetime.timedelta(seconds=round((ts % 1) * 86400)) - date_correction\n",
    "        for ts in ds['surge']['time'][:]]\n",
    "print(time[0])\n",
    "surge = pd.DataFrame(\n",
    "    data=data,\n",
    "    index=time,\n",
    "    columns=[station[-1].lower().capitalize() for station in tide_stations]\n",
    ")"
   ]
  },
  {
   "cell_type": "code",
   "execution_count": null,
   "metadata": {},
   "outputs": [],
   "source": [
    "tide.head()"
   ]
  },
  {
   "cell_type": "code",
   "execution_count": null,
   "metadata": {},
   "outputs": [],
   "source": [
    "surge.head()"
   ]
  },
  {
   "cell_type": "code",
   "execution_count": null,
   "metadata": {},
   "outputs": [],
   "source": [
    "surge.mean()"
   ]
  },
  {
   "cell_type": "markdown",
   "metadata": {},
   "source": [
    "Let us plot the tide and surge for one of the stations during over a period of one month."
   ]
  },
  {
   "cell_type": "code",
   "execution_count": null,
   "metadata": {},
   "outputs": [],
   "source": [
    "fig, ax = plt.subplots(figsize=(14, 5))\n",
    "station = 'Vlissingen'\n",
    "st_tide = tide.loc[datetime.datetime(2014, 1, 1):datetime.datetime(2014, 2, 1), station]\n",
    "st_surge = surge.loc[datetime.datetime(2014, 1, 1):datetime.datetime(2014, 2, 1), station]\n",
    "\n",
    "st_tide.plot(ax=ax)\n",
    "st_surge.plot(ax=ax)\n",
    "ax.grid()\n",
    "\n",
    "ax.set_title(f'Tide (blue) en surge (orange) for {station}');"
   ]
  },
  {
   "cell_type": "markdown",
   "metadata": {},
   "source": [
    "The figure below shows the spread of the surge at the stations."
   ]
  },
  {
   "cell_type": "code",
   "execution_count": null,
   "metadata": {},
   "outputs": [],
   "source": [
    "axs = surge.groupby(surge.index.year).mean().hist(figsize=(10, 10), bins=20)\n",
    "for mean, ax in zip(surge.mean().sort_index().values, axs.ravel()):\n",
    "    ax.set_xlim(-.15, .15)\n",
    "    ax.set_xlabel('Jaargemiddelde opzet [m]')\n",
    "    ax.set_ylim(ax.get_ylim())\n",
    "    ax.plot([mean]*2, ax.get_ylim(), color='C3')"
   ]
  },
  {
   "cell_type": "markdown",
   "metadata": {},
   "source": [
    "It is noteworthy that the spread over the different years is only a few centimeters."
   ]
  },
  {
   "cell_type": "markdown",
   "metadata": {},
   "source": [
    "Finally let us save the data as pickle to be loaded in a different notebook."
   ]
  },
  {
   "cell_type": "code",
   "execution_count": null,
   "metadata": {},
   "outputs": [],
   "source": [
    "surge.to_pickle('d:/Documents/2695.50 Zeespiegelstijging 2018/Data/surge.pkl')"
   ]
  }
 ],
 "metadata": {
  "kernelspec": {
   "display_name": "Python 3",
   "language": "python",
   "name": "python3"
  }
 },
 "nbformat": 4,
 "nbformat_minor": 2
}
