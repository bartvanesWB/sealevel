{
 "cells": [
  {
   "cell_type": "markdown",
   "metadata": {},
   "source": [
    "## Read storm surge data from the global tidal surge reanalysis (GTSR)\n",
    "\n",
    "This notebook reads the output of a storm surge reanalysis with the global tidal shelf model (GTSM) for the Dutch coast (see Muis et al., 2016). The model output consists of both storm surge and tidal data. The time series shall be used as an independent variable in the sea level regression. \n",
    "\n",
    "##### Reference\n",
    "\n",
    "Sanne Muis, Martin Verlaan, Hessel C. Winsemius, Jeroen C. J. H. Aerts & Philip J. Ward. A global reanalysis of storm surges and extreme sea levels. Nature Communications volume 7, Article number: 11969 (2016). doi: 10.1038/ncomms11969 (2016). https://www.nature.com/articles/ncomms11969"
   ]
  },
  {
   "cell_type": "code",
   "execution_count": 1,
   "metadata": {},
   "outputs": [
    {
     "data": {
      "text/html": [
       "\n",
       "    <div class=\"bk-root\">\n",
       "        <a href=\"https://bokeh.pydata.org\" target=\"_blank\" class=\"bk-logo bk-logo-small bk-logo-notebook\"></a>\n",
       "        <span id=\"65fd503d-eacb-4447-946c-f06d8c89bb05\">Loading BokehJS ...</span>\n",
       "    </div>"
      ]
     },
     "metadata": {},
     "output_type": "display_data"
    },
    {
     "data": {
      "application/javascript": [
       "\n",
       "(function(root) {\n",
       "  function now() {\n",
       "    return new Date();\n",
       "  }\n",
       "\n",
       "  var force = true;\n",
       "\n",
       "  if (typeof (root._bokeh_onload_callbacks) === \"undefined\" || force === true) {\n",
       "    root._bokeh_onload_callbacks = [];\n",
       "    root._bokeh_is_loading = undefined;\n",
       "  }\n",
       "\n",
       "  var JS_MIME_TYPE = 'application/javascript';\n",
       "  var HTML_MIME_TYPE = 'text/html';\n",
       "  var EXEC_MIME_TYPE = 'application/vnd.bokehjs_exec.v0+json';\n",
       "  var CLASS_NAME = 'output_bokeh rendered_html';\n",
       "\n",
       "  /**\n",
       "   * Render data to the DOM node\n",
       "   */\n",
       "  function render(props, node) {\n",
       "    var script = document.createElement(\"script\");\n",
       "    node.appendChild(script);\n",
       "  }\n",
       "\n",
       "  /**\n",
       "   * Handle when an output is cleared or removed\n",
       "   */\n",
       "  function handleClearOutput(event, handle) {\n",
       "    var cell = handle.cell;\n",
       "\n",
       "    var id = cell.output_area._bokeh_element_id;\n",
       "    var server_id = cell.output_area._bokeh_server_id;\n",
       "    // Clean up Bokeh references\n",
       "    if (id !== undefined) {\n",
       "      Bokeh.index[id].model.document.clear();\n",
       "      delete Bokeh.index[id];\n",
       "    }\n",
       "\n",
       "    if (server_id !== undefined) {\n",
       "      // Clean up Bokeh references\n",
       "      var cmd = \"from bokeh.io.state import curstate; print(curstate().uuid_to_server['\" + server_id + \"'].get_sessions()[0].document.roots[0]._id)\";\n",
       "      cell.notebook.kernel.execute(cmd, {\n",
       "        iopub: {\n",
       "          output: function(msg) {\n",
       "            var element_id = msg.content.text.trim();\n",
       "            Bokeh.index[element_id].model.document.clear();\n",
       "            delete Bokeh.index[element_id];\n",
       "          }\n",
       "        }\n",
       "      });\n",
       "      // Destroy server and session\n",
       "      var cmd = \"import bokeh.io.notebook as ion; ion.destroy_server('\" + server_id + \"')\";\n",
       "      cell.notebook.kernel.execute(cmd);\n",
       "    }\n",
       "  }\n",
       "\n",
       "  /**\n",
       "   * Handle when a new output is added\n",
       "   */\n",
       "  function handleAddOutput(event, handle) {\n",
       "    var output_area = handle.output_area;\n",
       "    var output = handle.output;\n",
       "\n",
       "    // limit handleAddOutput to display_data with EXEC_MIME_TYPE content only\n",
       "    if ((output.output_type != \"display_data\") || (!output.data.hasOwnProperty(EXEC_MIME_TYPE))) {\n",
       "      return\n",
       "    }\n",
       "\n",
       "    var toinsert = output_area.element.find(\".\" + CLASS_NAME.split(' ')[0]);\n",
       "\n",
       "    if (output.metadata[EXEC_MIME_TYPE][\"id\"] !== undefined) {\n",
       "      toinsert[toinsert.length - 1].firstChild.textContent = output.data[JS_MIME_TYPE];\n",
       "      // store reference to embed id on output_area\n",
       "      output_area._bokeh_element_id = output.metadata[EXEC_MIME_TYPE][\"id\"];\n",
       "    }\n",
       "    if (output.metadata[EXEC_MIME_TYPE][\"server_id\"] !== undefined) {\n",
       "      var bk_div = document.createElement(\"div\");\n",
       "      bk_div.innerHTML = output.data[HTML_MIME_TYPE];\n",
       "      var script_attrs = bk_div.children[0].attributes;\n",
       "      for (var i = 0; i < script_attrs.length; i++) {\n",
       "        toinsert[toinsert.length - 1].firstChild.setAttribute(script_attrs[i].name, script_attrs[i].value);\n",
       "      }\n",
       "      // store reference to server id on output_area\n",
       "      output_area._bokeh_server_id = output.metadata[EXEC_MIME_TYPE][\"server_id\"];\n",
       "    }\n",
       "  }\n",
       "\n",
       "  function register_renderer(events, OutputArea) {\n",
       "\n",
       "    function append_mime(data, metadata, element) {\n",
       "      // create a DOM node to render to\n",
       "      var toinsert = this.create_output_subarea(\n",
       "        metadata,\n",
       "        CLASS_NAME,\n",
       "        EXEC_MIME_TYPE\n",
       "      );\n",
       "      this.keyboard_manager.register_events(toinsert);\n",
       "      // Render to node\n",
       "      var props = {data: data, metadata: metadata[EXEC_MIME_TYPE]};\n",
       "      render(props, toinsert[toinsert.length - 1]);\n",
       "      element.append(toinsert);\n",
       "      return toinsert\n",
       "    }\n",
       "\n",
       "    /* Handle when an output is cleared or removed */\n",
       "    events.on('clear_output.CodeCell', handleClearOutput);\n",
       "    events.on('delete.Cell', handleClearOutput);\n",
       "\n",
       "    /* Handle when a new output is added */\n",
       "    events.on('output_added.OutputArea', handleAddOutput);\n",
       "\n",
       "    /**\n",
       "     * Register the mime type and append_mime function with output_area\n",
       "     */\n",
       "    OutputArea.prototype.register_mime_type(EXEC_MIME_TYPE, append_mime, {\n",
       "      /* Is output safe? */\n",
       "      safe: true,\n",
       "      /* Index of renderer in `output_area.display_order` */\n",
       "      index: 0\n",
       "    });\n",
       "  }\n",
       "\n",
       "  // register the mime type if in Jupyter Notebook environment and previously unregistered\n",
       "  if (root.Jupyter !== undefined) {\n",
       "    var events = require('base/js/events');\n",
       "    var OutputArea = require('notebook/js/outputarea').OutputArea;\n",
       "\n",
       "    if (OutputArea.prototype.mime_types().indexOf(EXEC_MIME_TYPE) == -1) {\n",
       "      register_renderer(events, OutputArea);\n",
       "    }\n",
       "  }\n",
       "\n",
       "  \n",
       "  if (typeof (root._bokeh_timeout) === \"undefined\" || force === true) {\n",
       "    root._bokeh_timeout = Date.now() + 5000;\n",
       "    root._bokeh_failed_load = false;\n",
       "  }\n",
       "\n",
       "  var NB_LOAD_WARNING = {'data': {'text/html':\n",
       "     \"<div style='background-color: #fdd'>\\n\"+\n",
       "     \"<p>\\n\"+\n",
       "     \"BokehJS does not appear to have successfully loaded. If loading BokehJS from CDN, this \\n\"+\n",
       "     \"may be due to a slow or bad network connection. Possible fixes:\\n\"+\n",
       "     \"</p>\\n\"+\n",
       "     \"<ul>\\n\"+\n",
       "     \"<li>re-rerun `output_notebook()` to attempt to load from CDN again, or</li>\\n\"+\n",
       "     \"<li>use INLINE resources instead, as so:</li>\\n\"+\n",
       "     \"</ul>\\n\"+\n",
       "     \"<code>\\n\"+\n",
       "     \"from bokeh.resources import INLINE\\n\"+\n",
       "     \"output_notebook(resources=INLINE)\\n\"+\n",
       "     \"</code>\\n\"+\n",
       "     \"</div>\"}};\n",
       "\n",
       "  function display_loaded() {\n",
       "    var el = document.getElementById(\"65fd503d-eacb-4447-946c-f06d8c89bb05\");\n",
       "    if (el != null) {\n",
       "      el.textContent = \"BokehJS is loading...\";\n",
       "    }\n",
       "    if (root.Bokeh !== undefined) {\n",
       "      if (el != null) {\n",
       "        el.textContent = \"BokehJS \" + root.Bokeh.version + \" successfully loaded.\";\n",
       "      }\n",
       "    } else if (Date.now() < root._bokeh_timeout) {\n",
       "      setTimeout(display_loaded, 100)\n",
       "    }\n",
       "  }\n",
       "\n",
       "\n",
       "  function run_callbacks() {\n",
       "    try {\n",
       "      root._bokeh_onload_callbacks.forEach(function(callback) { callback() });\n",
       "    }\n",
       "    finally {\n",
       "      delete root._bokeh_onload_callbacks\n",
       "    }\n",
       "    console.info(\"Bokeh: all callbacks have finished\");\n",
       "  }\n",
       "\n",
       "  function load_libs(js_urls, callback) {\n",
       "    root._bokeh_onload_callbacks.push(callback);\n",
       "    if (root._bokeh_is_loading > 0) {\n",
       "      console.log(\"Bokeh: BokehJS is being loaded, scheduling callback at\", now());\n",
       "      return null;\n",
       "    }\n",
       "    if (js_urls == null || js_urls.length === 0) {\n",
       "      run_callbacks();\n",
       "      return null;\n",
       "    }\n",
       "    console.log(\"Bokeh: BokehJS not loaded, scheduling load and callback at\", now());\n",
       "    root._bokeh_is_loading = js_urls.length;\n",
       "    for (var i = 0; i < js_urls.length; i++) {\n",
       "      var url = js_urls[i];\n",
       "      var s = document.createElement('script');\n",
       "      s.src = url;\n",
       "      s.async = false;\n",
       "      s.onreadystatechange = s.onload = function() {\n",
       "        root._bokeh_is_loading--;\n",
       "        if (root._bokeh_is_loading === 0) {\n",
       "          console.log(\"Bokeh: all BokehJS libraries loaded\");\n",
       "          run_callbacks()\n",
       "        }\n",
       "      };\n",
       "      s.onerror = function() {\n",
       "        console.warn(\"failed to load library \" + url);\n",
       "      };\n",
       "      console.log(\"Bokeh: injecting script tag for BokehJS library: \", url);\n",
       "      document.getElementsByTagName(\"head\")[0].appendChild(s);\n",
       "    }\n",
       "  };var element = document.getElementById(\"65fd503d-eacb-4447-946c-f06d8c89bb05\");\n",
       "  if (element == null) {\n",
       "    console.log(\"Bokeh: ERROR: autoload.js configured with elementid '65fd503d-eacb-4447-946c-f06d8c89bb05' but no matching script tag was found. \")\n",
       "    return false;\n",
       "  }\n",
       "\n",
       "  var js_urls = [\"https://cdn.pydata.org/bokeh/release/bokeh-0.12.16.min.js\", \"https://cdn.pydata.org/bokeh/release/bokeh-widgets-0.12.16.min.js\", \"https://cdn.pydata.org/bokeh/release/bokeh-tables-0.12.16.min.js\", \"https://cdn.pydata.org/bokeh/release/bokeh-gl-0.12.16.min.js\"];\n",
       "\n",
       "  var inline_js = [\n",
       "    function(Bokeh) {\n",
       "      Bokeh.set_log_level(\"info\");\n",
       "    },\n",
       "    \n",
       "    function(Bokeh) {\n",
       "      \n",
       "    },\n",
       "    function(Bokeh) {\n",
       "      console.log(\"Bokeh: injecting CSS: https://cdn.pydata.org/bokeh/release/bokeh-0.12.16.min.css\");\n",
       "      Bokeh.embed.inject_css(\"https://cdn.pydata.org/bokeh/release/bokeh-0.12.16.min.css\");\n",
       "      console.log(\"Bokeh: injecting CSS: https://cdn.pydata.org/bokeh/release/bokeh-widgets-0.12.16.min.css\");\n",
       "      Bokeh.embed.inject_css(\"https://cdn.pydata.org/bokeh/release/bokeh-widgets-0.12.16.min.css\");\n",
       "      console.log(\"Bokeh: injecting CSS: https://cdn.pydata.org/bokeh/release/bokeh-tables-0.12.16.min.css\");\n",
       "      Bokeh.embed.inject_css(\"https://cdn.pydata.org/bokeh/release/bokeh-tables-0.12.16.min.css\");\n",
       "    }\n",
       "  ];\n",
       "\n",
       "  function run_inline_js() {\n",
       "    \n",
       "    if ((root.Bokeh !== undefined) || (force === true)) {\n",
       "      for (var i = 0; i < inline_js.length; i++) {\n",
       "        inline_js[i].call(root, root.Bokeh);\n",
       "      }if (force === true) {\n",
       "        display_loaded();\n",
       "      }} else if (Date.now() < root._bokeh_timeout) {\n",
       "      setTimeout(run_inline_js, 100);\n",
       "    } else if (!root._bokeh_failed_load) {\n",
       "      console.log(\"Bokeh: BokehJS failed to load within specified timeout.\");\n",
       "      root._bokeh_failed_load = true;\n",
       "    } else if (force !== true) {\n",
       "      var cell = $(document.getElementById(\"65fd503d-eacb-4447-946c-f06d8c89bb05\")).parents('.cell').data().cell;\n",
       "      cell.output_area.append_execute_result(NB_LOAD_WARNING)\n",
       "    }\n",
       "\n",
       "  }\n",
       "\n",
       "  if (root._bokeh_is_loading === 0) {\n",
       "    console.log(\"Bokeh: BokehJS loaded, going straight to plotting\");\n",
       "    run_inline_js();\n",
       "  } else {\n",
       "    load_libs(js_urls, function() {\n",
       "      console.log(\"Bokeh: BokehJS plotting callback run at\", now());\n",
       "      run_inline_js();\n",
       "    });\n",
       "  }\n",
       "}(window));"
      ],
      "application/vnd.bokehjs_load.v0+json": "\n(function(root) {\n  function now() {\n    return new Date();\n  }\n\n  var force = true;\n\n  if (typeof (root._bokeh_onload_callbacks) === \"undefined\" || force === true) {\n    root._bokeh_onload_callbacks = [];\n    root._bokeh_is_loading = undefined;\n  }\n\n  \n\n  \n  if (typeof (root._bokeh_timeout) === \"undefined\" || force === true) {\n    root._bokeh_timeout = Date.now() + 5000;\n    root._bokeh_failed_load = false;\n  }\n\n  var NB_LOAD_WARNING = {'data': {'text/html':\n     \"<div style='background-color: #fdd'>\\n\"+\n     \"<p>\\n\"+\n     \"BokehJS does not appear to have successfully loaded. If loading BokehJS from CDN, this \\n\"+\n     \"may be due to a slow or bad network connection. Possible fixes:\\n\"+\n     \"</p>\\n\"+\n     \"<ul>\\n\"+\n     \"<li>re-rerun `output_notebook()` to attempt to load from CDN again, or</li>\\n\"+\n     \"<li>use INLINE resources instead, as so:</li>\\n\"+\n     \"</ul>\\n\"+\n     \"<code>\\n\"+\n     \"from bokeh.resources import INLINE\\n\"+\n     \"output_notebook(resources=INLINE)\\n\"+\n     \"</code>\\n\"+\n     \"</div>\"}};\n\n  function display_loaded() {\n    var el = document.getElementById(\"65fd503d-eacb-4447-946c-f06d8c89bb05\");\n    if (el != null) {\n      el.textContent = \"BokehJS is loading...\";\n    }\n    if (root.Bokeh !== undefined) {\n      if (el != null) {\n        el.textContent = \"BokehJS \" + root.Bokeh.version + \" successfully loaded.\";\n      }\n    } else if (Date.now() < root._bokeh_timeout) {\n      setTimeout(display_loaded, 100)\n    }\n  }\n\n\n  function run_callbacks() {\n    try {\n      root._bokeh_onload_callbacks.forEach(function(callback) { callback() });\n    }\n    finally {\n      delete root._bokeh_onload_callbacks\n    }\n    console.info(\"Bokeh: all callbacks have finished\");\n  }\n\n  function load_libs(js_urls, callback) {\n    root._bokeh_onload_callbacks.push(callback);\n    if (root._bokeh_is_loading > 0) {\n      console.log(\"Bokeh: BokehJS is being loaded, scheduling callback at\", now());\n      return null;\n    }\n    if (js_urls == null || js_urls.length === 0) {\n      run_callbacks();\n      return null;\n    }\n    console.log(\"Bokeh: BokehJS not loaded, scheduling load and callback at\", now());\n    root._bokeh_is_loading = js_urls.length;\n    for (var i = 0; i < js_urls.length; i++) {\n      var url = js_urls[i];\n      var s = document.createElement('script');\n      s.src = url;\n      s.async = false;\n      s.onreadystatechange = s.onload = function() {\n        root._bokeh_is_loading--;\n        if (root._bokeh_is_loading === 0) {\n          console.log(\"Bokeh: all BokehJS libraries loaded\");\n          run_callbacks()\n        }\n      };\n      s.onerror = function() {\n        console.warn(\"failed to load library \" + url);\n      };\n      console.log(\"Bokeh: injecting script tag for BokehJS library: \", url);\n      document.getElementsByTagName(\"head\")[0].appendChild(s);\n    }\n  };var element = document.getElementById(\"65fd503d-eacb-4447-946c-f06d8c89bb05\");\n  if (element == null) {\n    console.log(\"Bokeh: ERROR: autoload.js configured with elementid '65fd503d-eacb-4447-946c-f06d8c89bb05' but no matching script tag was found. \")\n    return false;\n  }\n\n  var js_urls = [\"https://cdn.pydata.org/bokeh/release/bokeh-0.12.16.min.js\", \"https://cdn.pydata.org/bokeh/release/bokeh-widgets-0.12.16.min.js\", \"https://cdn.pydata.org/bokeh/release/bokeh-tables-0.12.16.min.js\", \"https://cdn.pydata.org/bokeh/release/bokeh-gl-0.12.16.min.js\"];\n\n  var inline_js = [\n    function(Bokeh) {\n      Bokeh.set_log_level(\"info\");\n    },\n    \n    function(Bokeh) {\n      \n    },\n    function(Bokeh) {\n      console.log(\"Bokeh: injecting CSS: https://cdn.pydata.org/bokeh/release/bokeh-0.12.16.min.css\");\n      Bokeh.embed.inject_css(\"https://cdn.pydata.org/bokeh/release/bokeh-0.12.16.min.css\");\n      console.log(\"Bokeh: injecting CSS: https://cdn.pydata.org/bokeh/release/bokeh-widgets-0.12.16.min.css\");\n      Bokeh.embed.inject_css(\"https://cdn.pydata.org/bokeh/release/bokeh-widgets-0.12.16.min.css\");\n      console.log(\"Bokeh: injecting CSS: https://cdn.pydata.org/bokeh/release/bokeh-tables-0.12.16.min.css\");\n      Bokeh.embed.inject_css(\"https://cdn.pydata.org/bokeh/release/bokeh-tables-0.12.16.min.css\");\n    }\n  ];\n\n  function run_inline_js() {\n    \n    if ((root.Bokeh !== undefined) || (force === true)) {\n      for (var i = 0; i < inline_js.length; i++) {\n        inline_js[i].call(root, root.Bokeh);\n      }if (force === true) {\n        display_loaded();\n      }} else if (Date.now() < root._bokeh_timeout) {\n      setTimeout(run_inline_js, 100);\n    } else if (!root._bokeh_failed_load) {\n      console.log(\"Bokeh: BokehJS failed to load within specified timeout.\");\n      root._bokeh_failed_load = true;\n    } else if (force !== true) {\n      var cell = $(document.getElementById(\"65fd503d-eacb-4447-946c-f06d8c89bb05\")).parents('.cell').data().cell;\n      cell.output_area.append_execute_result(NB_LOAD_WARNING)\n    }\n\n  }\n\n  if (root._bokeh_is_loading === 0) {\n    console.log(\"Bokeh: BokehJS loaded, going straight to plotting\");\n    run_inline_js();\n  } else {\n    load_libs(js_urls, function() {\n      console.log(\"Bokeh: BokehJS plotting callback run at\", now());\n      run_inline_js();\n    });\n  }\n}(window));"
     },
     "metadata": {},
     "output_type": "display_data"
    }
   ],
   "source": [
    "from netCDF4 import Dataset\n",
    "\n",
    "# coordinate systems\n",
    "import pyproj\n",
    "\n",
    "# plotting\n",
    "import bokeh.io\n",
    "import bokeh.plotting\n",
    "import bokeh.tile_providers\n",
    "import bokeh.palettes\n",
    "\n",
    "import numpy as np\n",
    "import pandas as pd\n",
    "import datetime\n",
    "\n",
    "import matplotlib.pyplot as plt\n",
    "\n",
    "# Some coordinate systems\n",
    "#WEBMERCATOR = Proj({'init': 'epsg:3857', 'no_defs': True}, preserve_flags=True)\n",
    "#WGS84 = Proj({'init': 'epsg:4326', 'no_defs': True}, preserve_flags=True)\n",
    "WEBMERCATOR = pyproj.Proj(init='epsg:3857')\n",
    "WGS84 = pyproj.Proj(init='epsg:4326')\n",
    "\n",
    "# If this notebook is not showing up with figures, you can use the following url:\n",
    "# https://nbviewer.ipython.org/github/openearth/notebooks/blob/master/sealevelmonitor.ipynb\n",
    "bokeh.io.output_notebook()\n",
    "# we're using matplotlib for polar plots (non-interactive)\n",
    "%matplotlib inline\n",
    "# does not work properly\n",
    "# %matplotlib notebook\n",
    "\n",
    "# Disable pandas warnings\n",
    "#pandas.options.mode.chained_assignment = None"
   ]
  },
  {
   "cell_type": "markdown",
   "metadata": {},
   "source": [
    "Define the two datasets for surge and tide (delivered as netcdf files by Sanne Muis):"
   ]
  },
  {
   "cell_type": "code",
   "execution_count": 2,
   "metadata": {},
   "outputs": [],
   "source": [
    "ds = {\n",
    "    'tide': Dataset('FES2012_tide_NorthSea_zeespiegelmonitor.nc', 'r'),\n",
    "    'surge': Dataset('GTSR_surge_NorthSea_zeespiegelmonitor.nc', 'r')\n",
    "}"
   ]
  },
  {
   "cell_type": "markdown",
   "metadata": {},
   "source": [
    "Check the time formats for differences."
   ]
  },
  {
   "cell_type": "code",
   "execution_count": 3,
   "metadata": {},
   "outputs": [
    {
     "data": {
      "text/plain": [
       "<class 'netCDF4._netCDF4.Variable'>\n",
       "float64 time(time)\n",
       "    axis: T\n",
       "    units: Minutes since 1979-01-01 00:00:00 0:00\n",
       "    long_name: time\n",
       "    comment: \n",
       "    ancillary_variables: \n",
       "    _FillValue: nan\n",
       "    calendar: gregorian\n",
       "    standard_name: time\n",
       "unlimited dimensions: \n",
       "current shape = (1893456,)\n",
       "filling on"
      ]
     },
     "execution_count": 3,
     "metadata": {},
     "output_type": "execute_result"
    }
   ],
   "source": [
    "ds['tide'].variables['time']"
   ]
  },
  {
   "cell_type": "code",
   "execution_count": 4,
   "metadata": {},
   "outputs": [
    {
     "data": {
      "text/plain": [
       "<class 'netCDF4._netCDF4.Variable'>\n",
       "float64 time(time)\n",
       "    units: Days since 1 JAN 0000 (DEFAULT FOR MATLAB DATENUM)\n",
       "unlimited dimensions: \n",
       "current shape = (1892017,)\n",
       "filling on, default _FillValue of 9.969209968386869e+36 used"
      ]
     },
     "execution_count": 4,
     "metadata": {},
     "output_type": "execute_result"
    }
   ],
   "source": [
    "ds['surge'].variables['time']"
   ]
  },
  {
   "cell_type": "markdown",
   "metadata": {},
   "source": [
    "The two (non-similar) data sets contain the following data:"
   ]
  },
  {
   "cell_type": "code",
   "execution_count": 5,
   "metadata": {},
   "outputs": [
    {
     "data": {
      "text/plain": [
       "['tide',\n",
       " 'time',\n",
       " 'station_name',\n",
       " 'station_id',\n",
       " 'station_available',\n",
       " 'station_y_coordinate',\n",
       " 'station_x_coordinate',\n",
       " 'crs']"
      ]
     },
     "execution_count": 5,
     "metadata": {},
     "output_type": "execute_result"
    }
   ],
   "source": [
    "list(ds['tide'].variables.keys())"
   ]
  },
  {
   "cell_type": "code",
   "execution_count": 6,
   "metadata": {},
   "outputs": [
    {
     "data": {
      "text/plain": [
       "['station_name',\n",
       " 'time',\n",
       " 'station_x_coordinate',\n",
       " 'station_y_coordinate',\n",
       " 'waterlevel']"
      ]
     },
     "execution_count": 6,
     "metadata": {},
     "output_type": "execute_result"
    }
   ],
   "source": [
    "list(ds['surge'].variables.keys())"
   ]
  },
  {
   "cell_type": "markdown",
   "metadata": {},
   "source": [
    "Get some data such as names and coordinates from both data sets."
   ]
  },
  {
   "cell_type": "code",
   "execution_count": 7,
   "metadata": {},
   "outputs": [
    {
     "data": {
      "text/plain": [
       "['cuxhaven',\n",
       " 'diva_id__3',\n",
       " 'diva_id__61',\n",
       " 'diva_id__63',\n",
       " 'diva_id__172',\n",
       " 'diva_id__607',\n",
       " 'diva_id__609',\n",
       " 'diva_id__612',\n",
       " 'diva_id__614',\n",
       " 'diva_id__616',\n",
       " 'diva_id__618',\n",
       " 'diva_id__620',\n",
       " 'diva_id__622',\n",
       " 'diva_id__624',\n",
       " 'diva_id__626',\n",
       " 'diva_id__628',\n",
       " 'diva_id__631',\n",
       " 'diva_id__633',\n",
       " 'diva_id__1680',\n",
       " 'diva_id__1682',\n",
       " 'diva_id__1684',\n",
       " 'diva_id__1686',\n",
       " 'diva_id__1688',\n",
       " 'diva_id__1690',\n",
       " 'diva_id__1703',\n",
       " 'diva_id__1707',\n",
       " 'diva_id__1709',\n",
       " 'diva_id__1720',\n",
       " 'diva_id__3946',\n",
       " 'diva_id__3979',\n",
       " 'diva_id__3980',\n",
       " 'diva_id__3981',\n",
       " 'diva_id__3982',\n",
       " 'diva_id__3983',\n",
       " 'diva_id__3984',\n",
       " 'diva_id__3985',\n",
       " 'diva_id__3986',\n",
       " 'diva_id__3987',\n",
       " 'diva_id__3988',\n",
       " 'diva_id__3989',\n",
       " 'diva_id__3990',\n",
       " 'diva_id__3991',\n",
       " 'diva_id__3992',\n",
       " 'diva_id__3993',\n",
       " 'diva_id__3994',\n",
       " 'diva_id__3995',\n",
       " 'diva_id__3996',\n",
       " 'diva_id__3997',\n",
       " 'diva_id__3998',\n",
       " 'diva_id__3999',\n",
       " 'diva_id__4000',\n",
       " 'diva_id__4001',\n",
       " 'diva_id__4002',\n",
       " 'diva_id__4003',\n",
       " 'diva_id__4004',\n",
       " 'diva_id__4005',\n",
       " 'diva_id__4006',\n",
       " 'diva_id__4007',\n",
       " 'diva_id__4008',\n",
       " 'diva_id__4009',\n",
       " 'diva_id__4010',\n",
       " 'diva_id__4011',\n",
       " 'diva_id__4012',\n",
       " 'diva_id__4013',\n",
       " 'diva_id__4014',\n",
       " 'diva_id__4015',\n",
       " 'diva_id__4016',\n",
       " 'diva_id__4017',\n",
       " 'diva_id__4018',\n",
       " 'diva_id__4019',\n",
       " 'diva_id__4020',\n",
       " 'diva_id__4021',\n",
       " 'diva_id__4022',\n",
       " 'diva_id__4023',\n",
       " 'diva_id__4024',\n",
       " 'diva_id__4025',\n",
       " 'diva_id__4026',\n",
       " 'diva_id__4027',\n",
       " 'diva_id__4028',\n",
       " 'diva_id__4029',\n",
       " 'diva_id__4030',\n",
       " 'diva_id__4031',\n",
       " 'diva_id__4032',\n",
       " 'diva_id__4033',\n",
       " 'diva_id__4034',\n",
       " 'diva_id__4035',\n",
       " 'diva_id__4036',\n",
       " 'diva_id__4037',\n",
       " 'diva_id__4038',\n",
       " 'diva_id__4039',\n",
       " 'diva_id__4040',\n",
       " 'diva_id__4041',\n",
       " 'diva_id__4042',\n",
       " 'diva_id__4043',\n",
       " 'diva_id__4044',\n",
       " 'diva_id__4045',\n",
       " 'diva_id__4046',\n",
       " 'diva_id__4047',\n",
       " 'diva_id__4048',\n",
       " 'diva_id__4049',\n",
       " 'diva_id__4050',\n",
       " 'diva_id__4051',\n",
       " 'diva_id__4052',\n",
       " 'diva_id__4053',\n",
       " 'diva_id__4054',\n",
       " 'diva_id__4055',\n",
       " 'diva_id__4056',\n",
       " 'diva_id__4057',\n",
       " 'diva_id__4058',\n",
       " 'diva_id__4059',\n",
       " 'diva_id__4060',\n",
       " 'diva_id__4061',\n",
       " 'diva_id__4062',\n",
       " 'diva_id__4063',\n",
       " 'diva_id__4064',\n",
       " 'diva_id__4065',\n",
       " 'diva_id__4066',\n",
       " 'diva_id__4067',\n",
       " 'diva_id__4068',\n",
       " 'diva_id__4069',\n",
       " 'diva_id__4070',\n",
       " 'diva_id__4071',\n",
       " 'diva_id__4072',\n",
       " 'diva_id__4073',\n",
       " 'diva_id__4074',\n",
       " 'diva_id__4075',\n",
       " 'diva_id__4076',\n",
       " 'diva_id__4077',\n",
       " 'diva_id__4078',\n",
       " 'diva_id__4079',\n",
       " 'diva_id__4080',\n",
       " 'diva_id__4081',\n",
       " 'diva_id__4082',\n",
       " 'diva_id__4083',\n",
       " 'diva_id__4084',\n",
       " 'diva_id__4085',\n",
       " 'diva_id__4086',\n",
       " 'diva_id__4087',\n",
       " 'diva_id__4088',\n",
       " 'diva_id__4089',\n",
       " 'diva_id__4090',\n",
       " 'diva_id__4091',\n",
       " 'diva_id__4092',\n",
       " 'diva_id__4093',\n",
       " 'diva_id__4094',\n",
       " 'diva_id__4095',\n",
       " 'diva_id__4096',\n",
       " 'diva_id__4097',\n",
       " 'diva_id__4098',\n",
       " 'diva_id__4099',\n",
       " 'diva_id__4100',\n",
       " 'diva_id__4101',\n",
       " 'diva_id__4102',\n",
       " 'diva_id__4103',\n",
       " 'diva_id__4104',\n",
       " 'diva_id__4105',\n",
       " 'diva_id__4106',\n",
       " 'diva_id__4107',\n",
       " 'diva_id__4108',\n",
       " 'diva_id__4109',\n",
       " 'diva_id__4110',\n",
       " 'diva_id__4111',\n",
       " 'diva_id__4112',\n",
       " 'diva_id__9049',\n",
       " 'diva_id__9061',\n",
       " 'diva_id__9084',\n",
       " 'diva_id__9087',\n",
       " 'diva_id__9089',\n",
       " 'diva_id__9090',\n",
       " 'diva_id__9091',\n",
       " 'diva_id__9092',\n",
       " 'diva_id__9093',\n",
       " 'diva_id__9094',\n",
       " 'diva_id__9095',\n",
       " 'diva_id__9096',\n",
       " 'diva_id__9097',\n",
       " 'diva_id__9098',\n",
       " 'diva_id__9099',\n",
       " 'diva_id__9100',\n",
       " 'diva_id__9101',\n",
       " 'diva_id__9102',\n",
       " 'diva_id__9103',\n",
       " 'diva_id__9104',\n",
       " 'diva_id__9105',\n",
       " 'diva_id__9106',\n",
       " 'diva_id__9107',\n",
       " 'diva_id__9108',\n",
       " 'diva_id__9109',\n",
       " 'diva_id__9110',\n",
       " 'diva_id__9111',\n",
       " 'diva_id__9112',\n",
       " 'diva_id__9113',\n",
       " 'diva_id__9114',\n",
       " 'diva_id__9115',\n",
       " 'diva_id__9116',\n",
       " 'diva_id__9117',\n",
       " 'diva_id__9118',\n",
       " 'diva_id__9169',\n",
       " 'diva_id__9177',\n",
       " 'diva_id__9178',\n",
       " 'diva_id__9179',\n",
       " 'diva_id__9180',\n",
       " 'diva_id__9198',\n",
       " 'diva_id__9199',\n",
       " 'diva_id__9201',\n",
       " 'diva_id__9202',\n",
       " 'diva_id__9203',\n",
       " 'diva_id__9204',\n",
       " 'diva_id__9205',\n",
       " 'diva_id__9206',\n",
       " 'diva_id__9207',\n",
       " 'diva_id__9208',\n",
       " 'diva_id__9209',\n",
       " 'diva_id__9210',\n",
       " 'diva_id__9211',\n",
       " 'diva_id__9212',\n",
       " 'diva_id__9213',\n",
       " 'diva_id__9221',\n",
       " 'diva_id__9222',\n",
       " 'diva_id__9223',\n",
       " 'diva_id__9224',\n",
       " 'diva_id__9225',\n",
       " 'diva_id__9226',\n",
       " 'diva_id__9227',\n",
       " 'diva_id__9228',\n",
       " 'diva_id__9229',\n",
       " 'diva_id__9230',\n",
       " 'diva_id__9254',\n",
       " 'diva_id__9259',\n",
       " 'diva_id__9260',\n",
       " 'diva_id__9261',\n",
       " 'deltas_011',\n",
       " 'deltas_012',\n",
       " 'deltas_018',\n",
       " 'deltas_019']"
      ]
     },
     "execution_count": 7,
     "metadata": {},
     "output_type": "execute_result"
    }
   ],
   "source": [
    "import numpy.ma as ma\n",
    "# Start with showing a list of station names for the tide\n",
    "\n",
    "station_names = []\n",
    "\n",
    "# Number of stations (rows) in the netcdf file\n",
    "n_stations = ds['tide'].variables['station_name'].shape[0]\n",
    "for i in range(n_stations):\n",
    "    # select row with station name\n",
    "    station_name = ds['tide'].variables['station_name'][i, :]\n",
    "    \n",
    "    # Decompress masked array containing the station name as a vector of binary characters.\n",
    "    station_name = ma.compressed(station_name)\n",
    "    \n",
    "    # Decode binary characters and join the character vector into a single string.\n",
    "    station_name = \"\".join([s.decode() for s in station_name])\n",
    "    #print(station_name)\n",
    "    station_names.append(station_name)\n",
    "    \n",
    "station_names"
   ]
  },
  {
   "cell_type": "code",
   "execution_count": 8,
   "metadata": {},
   "outputs": [],
   "source": [
    "# Get coordinates of stations\n",
    "coordinates = {}\n",
    "for quantity in ['tide', 'surge']:\n",
    "    coordinates[quantity] = np.vstack([\n",
    "        ds[quantity].variables['station_x_coordinate'][:].data,\n",
    "        ds[quantity].variables['station_y_coordinate'][:].data\n",
    "    ]).T"
   ]
  },
  {
   "cell_type": "markdown",
   "metadata": {},
   "source": [
    "To get an overview of the tide station locations in relation to the model output locations, we plot both:"
   ]
  },
  {
   "cell_type": "code",
   "execution_count": 9,
   "metadata": {},
   "outputs": [],
   "source": [
    "# Show all the stations on a map\n",
    "\n",
    "# compute the bounds of the plot\n",
    "sw = (51, 3)\n",
    "ne = (54, 6)\n",
    "# transform to web mercator\n",
    "sw_wm = pyproj.transform(WGS84, WEBMERCATOR, sw[1], sw[0])\n",
    "ne_wm = pyproj.transform(WGS84, WEBMERCATOR, ne[1], ne[0])\n",
    "# create a plot\n",
    "fig = bokeh.plotting.figure(tools='pan, wheel_zoom', plot_width=600, plot_height=600, x_range=(sw_wm[0], ne_wm[0]), y_range=(sw_wm[1], ne_wm[1]))\n",
    "fig.axis.visible = False\n",
    "# add some background tiles\n",
    "fig.add_tile(bokeh.tile_providers.STAMEN_TERRAIN)\n",
    "# add the stations\n",
    "x, y = pyproj.transform(WGS84, WEBMERCATOR, np.array(coordinates['tide'][:, 0]), np.array(coordinates['tide'][:, 1]))\n",
    "fig.circle(x, y);"
   ]
  },
  {
   "cell_type": "code",
   "execution_count": 10,
   "metadata": {},
   "outputs": [],
   "source": [
    "# Add tide stations\n",
    "tide_stations = [\n",
    "    [51.442222, 3.596111, 'VLISSINGEN'],\n",
    "    [51.977500, 4.120000, 'HOEK VAN HOLLAND'],\n",
    "    [52.964444, 4.745000, 'DEN HELDER'],\n",
    "    [53.326389, 6.933056, 'DELFZIJL'],\n",
    "    [53.175556, 5.409444, 'HARLINGEN'],\n",
    "    [52.462222, 4.554722, 'IJMUIDEN']\n",
    "]\n",
    "\n",
    "tide_coords = np.array([station[:2] for station in tide_stations])\n",
    "st_x, st_y = pyproj.transform(WGS84, WEBMERCATOR, np.array(tide_coords)[:, 1], np.array(tide_coords)[:, 0])\n",
    "fig.circle(st_x, st_y, color='red', size=7, alpha=0.3);"
   ]
  },
  {
   "cell_type": "code",
   "execution_count": 11,
   "metadata": {},
   "outputs": [
    {
     "data": {
      "text/html": [
       "\n",
       "<div class=\"bk-root\">\n",
       "    <div class=\"bk-plotdiv\" id=\"9cc70a9a-d15d-4259-9999-3baf20163513\"></div>\n",
       "</div>"
      ]
     },
     "metadata": {},
     "output_type": "display_data"
    },
    {
     "data": {
      "application/javascript": [
       "(function(root) {\n",
       "  function embed_document(root) {\n",
       "    \n",
       "  var docs_json = {\"147ade79-9949-43e3-8a12-bac9c6c59803\":{\"roots\":{\"references\":[{\"attributes\":{\"below\":[{\"id\":\"546c0a6e-73ad-4d00-8c08-b40e650e3bd3\",\"type\":\"LinearAxis\"}],\"left\":[{\"id\":\"f6d45ae9-75c8-4d4d-ba0a-da23262736a2\",\"type\":\"LinearAxis\"}],\"renderers\":[{\"id\":\"546c0a6e-73ad-4d00-8c08-b40e650e3bd3\",\"type\":\"LinearAxis\"},{\"id\":\"02a320c0-3390-4488-932d-31eb58e77c28\",\"type\":\"Grid\"},{\"id\":\"f6d45ae9-75c8-4d4d-ba0a-da23262736a2\",\"type\":\"LinearAxis\"},{\"id\":\"8f256962-6101-428e-9181-4eb227536fef\",\"type\":\"Grid\"},{\"id\":\"42d66b79-def0-46d8-a022-cad30bbca93b\",\"type\":\"TileRenderer\"},{\"id\":\"4ed52e9d-ad7c-4005-9e3f-562ec7758e05\",\"type\":\"GlyphRenderer\"},{\"id\":\"a08422d0-8828-4e27-a5ee-f898fb3d2a40\",\"type\":\"GlyphRenderer\"}],\"title\":{\"id\":\"343e2068-4c1b-43ed-83e2-034e3595c804\",\"type\":\"Title\"},\"toolbar\":{\"id\":\"63be572a-b633-41d6-a668-981bb9c5403a\",\"type\":\"Toolbar\"},\"x_range\":{\"id\":\"121ff0fa-1c43-4112-9c3e-d5d21deaa600\",\"type\":\"Range1d\"},\"x_scale\":{\"id\":\"2fb11223-dc9c-4f48-ab0f-65f48c5023df\",\"type\":\"LinearScale\"},\"y_range\":{\"id\":\"ab9dea3f-7b22-43fa-b134-03f81db254f2\",\"type\":\"Range1d\"},\"y_scale\":{\"id\":\"46d40f0b-779c-4666-91e3-2ad526123742\",\"type\":\"LinearScale\"}},\"id\":\"949c757b-fefa-40a4-8619-6ec339fe10cd\",\"subtype\":\"Figure\",\"type\":\"Plot\"},{\"attributes\":{\"data_source\":{\"id\":\"ab3df628-ffe5-4f62-8368-57be6efe97a0\",\"type\":\"ColumnDataSource\"},\"glyph\":{\"id\":\"2811d2e2-23df-45b4-8ad9-a3b5d40e0a79\",\"type\":\"Circle\"},\"hover_glyph\":null,\"muted_glyph\":null,\"nonselection_glyph\":{\"id\":\"8c92b42c-6fa4-46c5-958a-d4b50a388f2f\",\"type\":\"Circle\"},\"selection_glyph\":null,\"view\":{\"id\":\"5fe39b5e-80af-4e5f-aeb5-b81271423997\",\"type\":\"CDSView\"}},\"id\":\"4ed52e9d-ad7c-4005-9e3f-562ec7758e05\",\"type\":\"GlyphRenderer\"},{\"attributes\":{},\"id\":\"d889cf80-d870-45fd-99dd-eefdbaf7de0a\",\"type\":\"Selection\"},{\"attributes\":{\"callback\":null,\"end\":667916.9447596424,\"start\":333958.4723798198},\"id\":\"121ff0fa-1c43-4112-9c3e-d5d21deaa600\",\"type\":\"Range1d\"},{\"attributes\":{\"source\":{\"id\":\"ab3df628-ffe5-4f62-8368-57be6efe97a0\",\"type\":\"ColumnDataSource\"}},\"id\":\"5fe39b5e-80af-4e5f-aeb5-b81271423997\",\"type\":\"CDSView\"},{\"attributes\":{\"callback\":null,\"data\":{\"x\":{\"__ndarray__\":\"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\",\"dtype\":\"float64\",\"shape\":[235]},\"y\":{\"__ndarray__\":\"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\",\"dtype\":\"float64\",\"shape\":[235]}},\"selected\":{\"id\":\"d245eb52-1e9d-4bfd-af27-e454bee43fd9\",\"type\":\"Selection\"},\"selection_policy\":{\"id\":\"060b5851-ca61-48b7-b6e7-3b4eb39720a0\",\"type\":\"UnionRenderers\"}},\"id\":\"ab3df628-ffe5-4f62-8368-57be6efe97a0\",\"type\":\"ColumnDataSource\"},{\"attributes\":{\"callback\":null,\"end\":7170156.293999948,\"start\":6621293.722740169},\"id\":\"ab9dea3f-7b22-43fa-b134-03f81db254f2\",\"type\":\"Range1d\"},{\"attributes\":{\"callback\":null,\"data\":{\"x\":{\"__ndarray__\":\"b6A++/RuGEGWY1E1Mf4bQcp6tvelHiBBCoDxhpCNJ0GvYWUagWAiQWw6wVVV8h5B\",\"dtype\":\"float64\",\"shape\":[6]},\"y\":{\"__ndarray__\":\"poFjaN2OWUGCBQWMxuxZQSn4pu7pnFpB/SsZL4TeWkGW09pRHMNaQZWbOyHKQlpB\",\"dtype\":\"float64\",\"shape\":[6]}},\"selected\":{\"id\":\"d889cf80-d870-45fd-99dd-eefdbaf7de0a\",\"type\":\"Selection\"},\"selection_policy\":{\"id\":\"f9520bc3-823d-4219-b5ff-ba8210f2e143\",\"type\":\"UnionRenderers\"}},\"id\":\"5bff9c8d-8edb-42b0-a251-26944f90cfae\",\"type\":\"ColumnDataSource\"},{\"attributes\":{\"fill_color\":{\"value\":\"#1f77b4\"},\"line_color\":{\"value\":\"#1f77b4\"},\"x\":{\"field\":\"x\"},\"y\":{\"field\":\"y\"}},\"id\":\"2811d2e2-23df-45b4-8ad9-a3b5d40e0a79\",\"type\":\"Circle\"},{\"attributes\":{},\"id\":\"2fb11223-dc9c-4f48-ab0f-65f48c5023df\",\"type\":\"LinearScale\"},{\"attributes\":{},\"id\":\"46d40f0b-779c-4666-91e3-2ad526123742\",\"type\":\"LinearScale\"},{\"attributes\":{},\"id\":\"060b5851-ca61-48b7-b6e7-3b4eb39720a0\",\"type\":\"UnionRenderers\"},{\"attributes\":{\"tile_source\":{\"id\":\"f6a240e5-b373-4eba-b44b-79e04699b0fc\",\"type\":\"WMTSTileSource\"}},\"id\":\"42d66b79-def0-46d8-a022-cad30bbca93b\",\"type\":\"TileRenderer\"},{\"attributes\":{\"formatter\":{\"id\":\"4614ed3c-0267-4836-907e-da58c7e7c222\",\"type\":\"BasicTickFormatter\"},\"plot\":{\"id\":\"949c757b-fefa-40a4-8619-6ec339fe10cd\",\"subtype\":\"Figure\",\"type\":\"Plot\"},\"ticker\":{\"id\":\"b5e56372-53b6-4dbd-85d4-97ea43ff2795\",\"type\":\"BasicTicker\"},\"visible\":false},\"id\":\"546c0a6e-73ad-4d00-8c08-b40e650e3bd3\",\"type\":\"LinearAxis\"},{\"attributes\":{},\"id\":\"4614ed3c-0267-4836-907e-da58c7e7c222\",\"type\":\"BasicTickFormatter\"},{\"attributes\":{},\"id\":\"b5e56372-53b6-4dbd-85d4-97ea43ff2795\",\"type\":\"BasicTicker\"},{\"attributes\":{\"plot\":null,\"text\":\"\"},\"id\":\"343e2068-4c1b-43ed-83e2-034e3595c804\",\"type\":\"Title\"},{\"attributes\":{\"plot\":{\"id\":\"949c757b-fefa-40a4-8619-6ec339fe10cd\",\"subtype\":\"Figure\",\"type\":\"Plot\"},\"ticker\":{\"id\":\"b5e56372-53b6-4dbd-85d4-97ea43ff2795\",\"type\":\"BasicTicker\"}},\"id\":\"02a320c0-3390-4488-932d-31eb58e77c28\",\"type\":\"Grid\"},{\"attributes\":{\"data_source\":{\"id\":\"5bff9c8d-8edb-42b0-a251-26944f90cfae\",\"type\":\"ColumnDataSource\"},\"glyph\":{\"id\":\"a89b9c80-7512-4360-a696-4753d355d39c\",\"type\":\"Circle\"},\"hover_glyph\":null,\"muted_glyph\":null,\"nonselection_glyph\":{\"id\":\"fd17f577-282e-4d0f-9960-d2ccfa8cb958\",\"type\":\"Circle\"},\"selection_glyph\":null,\"view\":{\"id\":\"e6f8293f-65c7-4a57-9a7e-74f26ddc7313\",\"type\":\"CDSView\"}},\"id\":\"a08422d0-8828-4e27-a5ee-f898fb3d2a40\",\"type\":\"GlyphRenderer\"},{\"attributes\":{\"formatter\":{\"id\":\"4935bd51-7dcf-4771-8901-25198748c1ba\",\"type\":\"BasicTickFormatter\"},\"plot\":{\"id\":\"949c757b-fefa-40a4-8619-6ec339fe10cd\",\"subtype\":\"Figure\",\"type\":\"Plot\"},\"ticker\":{\"id\":\"205215e7-cd38-42e1-bd05-b420dba12a64\",\"type\":\"BasicTicker\"},\"visible\":false},\"id\":\"f6d45ae9-75c8-4d4d-ba0a-da23262736a2\",\"type\":\"LinearAxis\"},{\"attributes\":{\"fill_alpha\":{\"value\":0.1},\"fill_color\":{\"value\":\"#1f77b4\"},\"line_alpha\":{\"value\":0.1},\"line_color\":{\"value\":\"#1f77b4\"},\"size\":{\"units\":\"screen\",\"value\":7},\"x\":{\"field\":\"x\"},\"y\":{\"field\":\"y\"}},\"id\":\"fd17f577-282e-4d0f-9960-d2ccfa8cb958\",\"type\":\"Circle\"},{\"attributes\":{},\"id\":\"205215e7-cd38-42e1-bd05-b420dba12a64\",\"type\":\"BasicTicker\"},{\"attributes\":{\"source\":{\"id\":\"5bff9c8d-8edb-42b0-a251-26944f90cfae\",\"type\":\"ColumnDataSource\"}},\"id\":\"e6f8293f-65c7-4a57-9a7e-74f26ddc7313\",\"type\":\"CDSView\"},{\"attributes\":{\"dimension\":1,\"plot\":{\"id\":\"949c757b-fefa-40a4-8619-6ec339fe10cd\",\"subtype\":\"Figure\",\"type\":\"Plot\"},\"ticker\":{\"id\":\"205215e7-cd38-42e1-bd05-b420dba12a64\",\"type\":\"BasicTicker\"}},\"id\":\"8f256962-6101-428e-9181-4eb227536fef\",\"type\":\"Grid\"},{\"attributes\":{\"fill_alpha\":{\"value\":0.3},\"fill_color\":{\"value\":\"red\"},\"line_alpha\":{\"value\":0.3},\"line_color\":{\"value\":\"red\"},\"size\":{\"units\":\"screen\",\"value\":7},\"x\":{\"field\":\"x\"},\"y\":{\"field\":\"y\"}},\"id\":\"a89b9c80-7512-4360-a696-4753d355d39c\",\"type\":\"Circle\"},{\"attributes\":{},\"id\":\"06fffa93-f9e8-4e49-ae47-e0ca866522a1\",\"type\":\"WheelZoomTool\"},{\"attributes\":{},\"id\":\"f9520bc3-823d-4219-b5ff-ba8210f2e143\",\"type\":\"UnionRenderers\"},{\"attributes\":{},\"id\":\"4935bd51-7dcf-4771-8901-25198748c1ba\",\"type\":\"BasicTickFormatter\"},{\"attributes\":{},\"id\":\"bf879e82-a8a0-4ee7-aab7-290641898f35\",\"type\":\"PanTool\"},{\"attributes\":{\"attribution\":\"Map tiles by <a href=\\\"https://stamen.com\\\">Stamen Design</a>, under <a href=\\\"https://creativecommons.org/licenses/by/3.0\\\">CC BY 3.0</a>. Data by <a href=\\\"https://openstreetmap.org\\\">OpenStreetMap</a>, under <a href=\\\"https://creativecommons.org/licenses/by-sa/3.0\\\">CC BY SA</a>.\",\"url\":\"http://tile.stamen.com/terrain/{Z}/{X}/{Y}.png\"},\"id\":\"f6a240e5-b373-4eba-b44b-79e04699b0fc\",\"type\":\"WMTSTileSource\"},{\"attributes\":{},\"id\":\"d245eb52-1e9d-4bfd-af27-e454bee43fd9\",\"type\":\"Selection\"},{\"attributes\":{\"active_drag\":\"auto\",\"active_inspect\":\"auto\",\"active_scroll\":\"auto\",\"active_tap\":\"auto\",\"tools\":[{\"id\":\"bf879e82-a8a0-4ee7-aab7-290641898f35\",\"type\":\"PanTool\"},{\"id\":\"06fffa93-f9e8-4e49-ae47-e0ca866522a1\",\"type\":\"WheelZoomTool\"}]},\"id\":\"63be572a-b633-41d6-a668-981bb9c5403a\",\"type\":\"Toolbar\"},{\"attributes\":{\"fill_alpha\":{\"value\":0.1},\"fill_color\":{\"value\":\"#1f77b4\"},\"line_alpha\":{\"value\":0.1},\"line_color\":{\"value\":\"#1f77b4\"},\"x\":{\"field\":\"x\"},\"y\":{\"field\":\"y\"}},\"id\":\"8c92b42c-6fa4-46c5-958a-d4b50a388f2f\",\"type\":\"Circle\"}],\"root_ids\":[\"949c757b-fefa-40a4-8619-6ec339fe10cd\"]},\"title\":\"Bokeh Application\",\"version\":\"0.12.16\"}};\n",
       "  var render_items = [{\"docid\":\"147ade79-9949-43e3-8a12-bac9c6c59803\",\"elementid\":\"9cc70a9a-d15d-4259-9999-3baf20163513\",\"modelid\":\"949c757b-fefa-40a4-8619-6ec339fe10cd\"}];\n",
       "  root.Bokeh.embed.embed_items_notebook(docs_json, render_items);\n",
       "\n",
       "  }\n",
       "  if (root.Bokeh !== undefined) {\n",
       "    embed_document(root);\n",
       "  } else {\n",
       "    var attempts = 0;\n",
       "    var timer = setInterval(function(root) {\n",
       "      if (root.Bokeh !== undefined) {\n",
       "        embed_document(root);\n",
       "        clearInterval(timer);\n",
       "      }\n",
       "      attempts++;\n",
       "      if (attempts > 100) {\n",
       "        console.log(\"Bokeh: ERROR: Unable to run BokehJS code because BokehJS library is missing\")\n",
       "        clearInterval(timer);\n",
       "      }\n",
       "    }, 10, root)\n",
       "  }\n",
       "})(window);"
      ],
      "application/vnd.bokehjs_exec.v0+json": ""
     },
     "metadata": {
      "application/vnd.bokehjs_exec.v0+json": {
       "id": "949c757b-fefa-40a4-8619-6ec339fe10cd"
      }
     },
     "output_type": "display_data"
    }
   ],
   "source": [
    "# Show the map\n",
    "bokeh.io.show(fig)"
   ]
  },
  {
   "cell_type": "markdown",
   "metadata": {},
   "source": [
    "For most stations there is a nearby model output location, which we will assume representative. Only for Delfzijl there is no nearby location. We will still use the nearest location, but keep in mind that this might give unrepresentative data."
   ]
  },
  {
   "cell_type": "code",
   "execution_count": 12,
   "metadata": {},
   "outputs": [
    {
     "name": "stdout",
     "output_type": "stream",
     "text": [
      "1979-01-01 00:00:00\n"
     ]
    }
   ],
   "source": [
    "# find nearest (roughly) station and get data\n",
    "def find_station_index(model_crds, tide_stations):\n",
    "    index = [np.hypot(coordinates[quantity][:, 0] - station[1], coordinates[quantity][:, 1] - station[0]).argmin()\n",
    "             for station in tide_stations]\n",
    "    return index\n",
    "\n",
    "# Get tide data\n",
    "data = ds['tide'].variables['tide'][:, find_station_index(coordinates['tide'], tide_stations)]\n",
    "values = data.data\n",
    "values[values > 1000.0] = np.nan\n",
    "values[~data.mask] = np.nan\n",
    "\n",
    "# Create time series\n",
    "start_date = datetime.datetime.strptime(ds['tide']['time'].units.split()[2], '%Y-%m-%d')\n",
    "time = start_date + np.array([datetime.timedelta(seconds=minutes) for minutes in ds['tide'].variables['time'][:] * 60])\n",
    "print(time[0])\n",
    "tide = pd.DataFrame(\n",
    "    data=values,\n",
    "    index=time,\n",
    "    columns=[station[-1].lower().capitalize() for station in tide_stations]\n",
    ")"
   ]
  },
  {
   "cell_type": "markdown",
   "metadata": {},
   "source": [
    "A data correction of one day is required to get the right storm surge data at the right moment."
   ]
  },
  {
   "cell_type": "code",
   "execution_count": 13,
   "metadata": {},
   "outputs": [
    {
     "name": "stdout",
     "output_type": "stream",
     "text": [
      "1979-01-01 00:00:00\n"
     ]
    }
   ],
   "source": [
    "# Get values\n",
    "data = ds['surge'].variables['waterlevel'][:, find_station_index(coordinates['surge'], tide_stations)]\n",
    "\n",
    "# Construct time index\n",
    "date_correction = datetime.timedelta(days=366)\n",
    "time = [datetime.datetime.fromordinal(int(ts)) + datetime.timedelta(seconds=round((ts % 1) * 86400)) - date_correction\n",
    "        for ts in ds['surge']['time'][:]]\n",
    "print(time[0])\n",
    "surge = pd.DataFrame(\n",
    "    data=data,\n",
    "    index=time,\n",
    "    columns=[station[-1].lower().capitalize() for station in tide_stations]\n",
    ")"
   ]
  },
  {
   "cell_type": "code",
   "execution_count": 14,
   "metadata": {},
   "outputs": [
    {
     "data": {
      "text/html": [
       "<div>\n",
       "<style scoped>\n",
       "    .dataframe tbody tr th:only-of-type {\n",
       "        vertical-align: middle;\n",
       "    }\n",
       "\n",
       "    .dataframe tbody tr th {\n",
       "        vertical-align: top;\n",
       "    }\n",
       "\n",
       "    .dataframe thead th {\n",
       "        text-align: right;\n",
       "    }\n",
       "</style>\n",
       "<table border=\"1\" class=\"dataframe\">\n",
       "  <thead>\n",
       "    <tr style=\"text-align: right;\">\n",
       "      <th></th>\n",
       "      <th>Vlissingen</th>\n",
       "      <th>Hoek van holland</th>\n",
       "      <th>Den helder</th>\n",
       "      <th>Delfzijl</th>\n",
       "      <th>Harlingen</th>\n",
       "      <th>Ijmuiden</th>\n",
       "    </tr>\n",
       "  </thead>\n",
       "  <tbody>\n",
       "    <tr>\n",
       "      <th>1979-01-01 00:00:00</th>\n",
       "      <td>0.285</td>\n",
       "      <td>-0.809</td>\n",
       "      <td>-0.664</td>\n",
       "      <td>1.436</td>\n",
       "      <td>-0.071</td>\n",
       "      <td>-0.912</td>\n",
       "    </tr>\n",
       "    <tr>\n",
       "      <th>1979-01-01 00:10:00</th>\n",
       "      <td>0.499</td>\n",
       "      <td>-0.787</td>\n",
       "      <td>-0.712</td>\n",
       "      <td>1.372</td>\n",
       "      <td>-0.107</td>\n",
       "      <td>-0.935</td>\n",
       "    </tr>\n",
       "    <tr>\n",
       "      <th>1979-01-01 00:20:00</th>\n",
       "      <td>0.716</td>\n",
       "      <td>-0.745</td>\n",
       "      <td>-0.764</td>\n",
       "      <td>1.295</td>\n",
       "      <td>-0.139</td>\n",
       "      <td>-0.944</td>\n",
       "    </tr>\n",
       "    <tr>\n",
       "      <th>1979-01-01 00:30:00</th>\n",
       "      <td>0.930</td>\n",
       "      <td>-0.681</td>\n",
       "      <td>-0.820</td>\n",
       "      <td>1.206</td>\n",
       "      <td>-0.170</td>\n",
       "      <td>-0.935</td>\n",
       "    </tr>\n",
       "    <tr>\n",
       "      <th>1979-01-01 00:40:00</th>\n",
       "      <td>1.137</td>\n",
       "      <td>-0.595</td>\n",
       "      <td>-0.876</td>\n",
       "      <td>1.109</td>\n",
       "      <td>-0.202</td>\n",
       "      <td>-0.909</td>\n",
       "    </tr>\n",
       "  </tbody>\n",
       "</table>\n",
       "</div>"
      ],
      "text/plain": [
       "                     Vlissingen  Hoek van holland  Den helder  Delfzijl  \\\n",
       "1979-01-01 00:00:00       0.285            -0.809      -0.664     1.436   \n",
       "1979-01-01 00:10:00       0.499            -0.787      -0.712     1.372   \n",
       "1979-01-01 00:20:00       0.716            -0.745      -0.764     1.295   \n",
       "1979-01-01 00:30:00       0.930            -0.681      -0.820     1.206   \n",
       "1979-01-01 00:40:00       1.137            -0.595      -0.876     1.109   \n",
       "\n",
       "                     Harlingen  Ijmuiden  \n",
       "1979-01-01 00:00:00     -0.071    -0.912  \n",
       "1979-01-01 00:10:00     -0.107    -0.935  \n",
       "1979-01-01 00:20:00     -0.139    -0.944  \n",
       "1979-01-01 00:30:00     -0.170    -0.935  \n",
       "1979-01-01 00:40:00     -0.202    -0.909  "
      ]
     },
     "execution_count": 14,
     "metadata": {},
     "output_type": "execute_result"
    }
   ],
   "source": [
    "tide.head()"
   ]
  },
  {
   "cell_type": "code",
   "execution_count": 15,
   "metadata": {},
   "outputs": [
    {
     "data": {
      "text/html": [
       "<div>\n",
       "<style scoped>\n",
       "    .dataframe tbody tr th:only-of-type {\n",
       "        vertical-align: middle;\n",
       "    }\n",
       "\n",
       "    .dataframe tbody tr th {\n",
       "        vertical-align: top;\n",
       "    }\n",
       "\n",
       "    .dataframe thead th {\n",
       "        text-align: right;\n",
       "    }\n",
       "</style>\n",
       "<table border=\"1\" class=\"dataframe\">\n",
       "  <thead>\n",
       "    <tr style=\"text-align: right;\">\n",
       "      <th></th>\n",
       "      <th>Vlissingen</th>\n",
       "      <th>Hoek van holland</th>\n",
       "      <th>Den helder</th>\n",
       "      <th>Delfzijl</th>\n",
       "      <th>Harlingen</th>\n",
       "      <th>Ijmuiden</th>\n",
       "    </tr>\n",
       "  </thead>\n",
       "  <tbody>\n",
       "    <tr>\n",
       "      <th>1979-01-01 00:00:00</th>\n",
       "      <td>0.000000</td>\n",
       "      <td>0.000000</td>\n",
       "      <td>0.000000</td>\n",
       "      <td>0.000000</td>\n",
       "      <td>0.000000</td>\n",
       "      <td>0.000000</td>\n",
       "    </tr>\n",
       "    <tr>\n",
       "      <th>1979-01-01 00:10:00</th>\n",
       "      <td>-0.000249</td>\n",
       "      <td>0.000590</td>\n",
       "      <td>0.000806</td>\n",
       "      <td>-0.003677</td>\n",
       "      <td>-0.002944</td>\n",
       "      <td>-0.000753</td>\n",
       "    </tr>\n",
       "    <tr>\n",
       "      <th>1979-01-01 00:20:00</th>\n",
       "      <td>-0.000890</td>\n",
       "      <td>0.001760</td>\n",
       "      <td>0.003596</td>\n",
       "      <td>-0.011441</td>\n",
       "      <td>-0.005254</td>\n",
       "      <td>-0.002288</td>\n",
       "    </tr>\n",
       "    <tr>\n",
       "      <th>1979-01-01 00:30:00</th>\n",
       "      <td>-0.001303</td>\n",
       "      <td>0.002308</td>\n",
       "      <td>0.007541</td>\n",
       "      <td>-0.016545</td>\n",
       "      <td>-0.004505</td>\n",
       "      <td>-0.003557</td>\n",
       "    </tr>\n",
       "    <tr>\n",
       "      <th>1979-01-01 00:40:00</th>\n",
       "      <td>-0.001141</td>\n",
       "      <td>0.001128</td>\n",
       "      <td>0.010611</td>\n",
       "      <td>-0.014177</td>\n",
       "      <td>-0.005693</td>\n",
       "      <td>-0.004845</td>\n",
       "    </tr>\n",
       "  </tbody>\n",
       "</table>\n",
       "</div>"
      ],
      "text/plain": [
       "                     Vlissingen  Hoek van holland  Den helder  Delfzijl  \\\n",
       "1979-01-01 00:00:00    0.000000          0.000000    0.000000  0.000000   \n",
       "1979-01-01 00:10:00   -0.000249          0.000590    0.000806 -0.003677   \n",
       "1979-01-01 00:20:00   -0.000890          0.001760    0.003596 -0.011441   \n",
       "1979-01-01 00:30:00   -0.001303          0.002308    0.007541 -0.016545   \n",
       "1979-01-01 00:40:00   -0.001141          0.001128    0.010611 -0.014177   \n",
       "\n",
       "                     Harlingen  Ijmuiden  \n",
       "1979-01-01 00:00:00   0.000000  0.000000  \n",
       "1979-01-01 00:10:00  -0.002944 -0.000753  \n",
       "1979-01-01 00:20:00  -0.005254 -0.002288  \n",
       "1979-01-01 00:30:00  -0.004505 -0.003557  \n",
       "1979-01-01 00:40:00  -0.005693 -0.004845  "
      ]
     },
     "execution_count": 15,
     "metadata": {},
     "output_type": "execute_result"
    }
   ],
   "source": [
    "surge.head()"
   ]
  },
  {
   "cell_type": "code",
   "execution_count": 16,
   "metadata": {},
   "outputs": [
    {
     "data": {
      "text/plain": [
       "Vlissingen         -0.030393\n",
       "Hoek van holland   -0.015394\n",
       "Den helder          0.003117\n",
       "Delfzijl            0.026735\n",
       "Harlingen           0.014591\n",
       "Ijmuiden           -0.004340\n",
       "dtype: float64"
      ]
     },
     "execution_count": 16,
     "metadata": {},
     "output_type": "execute_result"
    }
   ],
   "source": [
    "surge.mean()"
   ]
  },
  {
   "cell_type": "markdown",
   "metadata": {},
   "source": [
    "Let us plot the tide and surge for one of the stations during over a period of one month."
   ]
  },
  {
   "cell_type": "code",
   "execution_count": 17,
   "metadata": {},
   "outputs": [
    {
     "data": {
      "image/png": "[encoded data removed]",
      "text/plain": [
       "<Figure size 1008x360 with 1 Axes>"
      ]
     },
     "metadata": {},
     "output_type": "display_data"
    }
   ],
   "source": [
    "fig, ax = plt.subplots(figsize=(14, 5))\n",
    "station = 'Vlissingen'\n",
    "st_tide = tide.loc[datetime.datetime(2014, 1, 1):datetime.datetime(2014, 2, 1), station]\n",
    "st_surge = surge.loc[datetime.datetime(2014, 1, 1):datetime.datetime(2014, 2, 1), station]\n",
    "\n",
    "st_tide.plot(ax=ax)\n",
    "st_surge.plot(ax=ax)\n",
    "ax.grid()\n",
    "\n",
    "ax.set_title(f'Tide (blue) en surge (orange) for {station}');"
   ]
  },
  {
   "cell_type": "markdown",
   "metadata": {},
   "source": [
    "The figure below shows the spread of the surge at the stations."
   ]
  },
  {
   "cell_type": "code",
   "execution_count": 18,
   "metadata": {},
   "outputs": [
    {
     "data": {
      "image/png": "[encoded data removed]",
      "text/plain": [
       "<Figure size 720x720 with 6 Axes>"
      ]
     },
     "metadata": {},
     "output_type": "display_data"
    }
   ],
   "source": [
    "axs = surge.groupby(surge.index.year).mean().hist(figsize=(10, 10), bins=20)\n",
    "for mean, ax in zip(surge.mean().sort_index().values, axs.ravel()):\n",
    "    ax.set_xlim(-.15, .15)\n",
    "    ax.set_xlabel('Jaargemiddelde opzet [m]')\n",
    "    ax.set_ylim(ax.get_ylim())\n",
    "    ax.plot([mean]*2, ax.get_ylim(), color='C3')"
   ]
  },
  {
   "cell_type": "markdown",
   "metadata": {},
   "source": [
    "It is noteworthy that the spread of the surge over the different years is only a few centimeters."
   ]
  },
  {
   "cell_type": "markdown",
   "metadata": {},
   "source": [
    "Finally let us save the storm surge data as pickle to be loaded in a different notebook."
   ]
  },
  {
   "cell_type": "code",
   "execution_count": 19,
   "metadata": {},
   "outputs": [],
   "source": [
    "surge.to_pickle('surge.pkl')"
   ]
  },
  {
   "cell_type": "code",
   "execution_count": null,
   "metadata": {},
   "outputs": [],
   "source": []
  }
 ],
 "metadata": {
  "kernelspec": {
   "display_name": "Python 3",
   "language": "python",
   "name": "python3"
  },
  "language_info": {
   "codemirror_mode": {
    "name": "ipython",
    "version": 3
   },
   "file_extension": ".py",
   "mimetype": "text/x-python",
   "name": "python",
   "nbconvert_exporter": "python",
   "pygments_lexer": "ipython3",
   "version": "3.6.5"
  }
 },
 "nbformat": 4,
 "nbformat_minor": 2
}
