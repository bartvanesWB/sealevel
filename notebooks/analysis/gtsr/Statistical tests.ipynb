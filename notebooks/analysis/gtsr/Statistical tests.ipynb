{
 "cells": [
  {
   "cell_type": "markdown",
   "metadata": {},
   "source": [
    "# 1. Modeldiagnostiek \n",
    "-\tToets op normaliteit: Jarque-Bera test en Q-Q plot van residuen (quantile-quantile plot, ook wel normal probability plot genoemd).\n",
    "-\tUitbijters (outlier detection): bijvoorbeeld door een plot van de residuen te maken, in het bijzonder een plot van residuals vs. leverage* en/of na te gaan welke waarden buiten de predictie-intervallen van het regressiemodel liggen (plot betrouwbaarheidsintervallen en predictie-intervallen).\n",
    "-\tToets op seriecorrelatie: Breusch-Godfrey test.**\n",
    "-\tToets op autocorrelatie: Durbin-Watson test.**\n",
    "-\tToets op homo-/heteroskedasticiteit (wel of geen gelijke variantie***): Breusch-Pagan test, NCV test, plot residuals vs. fitted values en plot sqrt(standardized residuals) vs. fitted values.* \n",
    "\n",
    "* In R levert plot(LinMod) vier grafieken op. Linksboven staat de plot residuals vs. fitted values, linksonder de plot sqrt(standardized residuals) vs. fitted values. Rechtsboven staat de Q-Q plot van de residuen. Rechtsonder staat een plot van residuals vs. leverage, waarbij leverage een functie is van de regressoren. Zie ook https://data.library.virginia.edu/diagnostic-plots/. \n",
    "** De toetsen op seriecorrelatie en autocorrelatie hebben veel met elkaar te maken. Zie http://www.eviews.com/help/helpintro.html#page/content/timeser-Testing_for_Serial_Correlation.html\n",
    "*** Zie https://datascienceplus.com/how-to-detect-heteroscedasticity-and-rectify-it/ en https://www.theanalysisfactor.com/linear-models-r-diagnosing-regression-model/\n",
    "\n",
    "JB, DB zitten al in standaard modelsummary\n"
   ]
  },
  {
   "cell_type": "code",
   "execution_count": 117,
   "metadata": {},
   "outputs": [
    {
     "data": {
      "text/html": [
       "\n",
       "    <div class=\"bk-root\">\n",
       "        <a href=\"http://bokeh.pydata.org\" target=\"_blank\" class=\"bk-logo bk-logo-small bk-logo-notebook\"></a>\n",
       "        <span id=\"a1f33bf9-08df-4a76-928a-bfeb942bea6c\">Loading BokehJS ...</span>\n",
       "    </div>"
      ]
     },
     "metadata": {},
     "output_type": "display_data"
    },
    {
     "data": {
      "application/javascript": [
       "\n",
       "(function(global) {\n",
       "  function now() {\n",
       "    return new Date();\n",
       "  }\n",
       "\n",
       "  var force = true;\n",
       "\n",
       "  if (typeof (window._bokeh_onload_callbacks) === \"undefined\" || force === true) {\n",
       "    window._bokeh_onload_callbacks = [];\n",
       "    window._bokeh_is_loading = undefined;\n",
       "  }\n",
       "\n",
       "\n",
       "  \n",
       "  if (typeof (window._bokeh_timeout) === \"undefined\" || force === true) {\n",
       "    window._bokeh_timeout = Date.now() + 5000;\n",
       "    window._bokeh_failed_load = false;\n",
       "  }\n",
       "\n",
       "  var NB_LOAD_WARNING = {'data': {'text/html':\n",
       "     \"<div style='background-color: #fdd'>\\n\"+\n",
       "     \"<p>\\n\"+\n",
       "     \"BokehJS does not appear to have successfully loaded. If loading BokehJS from CDN, this \\n\"+\n",
       "     \"may be due to a slow or bad network connection. Possible fixes:\\n\"+\n",
       "     \"</p>\\n\"+\n",
       "     \"<ul>\\n\"+\n",
       "     \"<li>re-rerun `output_notebook()` to attempt to load from CDN again, or</li>\\n\"+\n",
       "     \"<li>use INLINE resources instead, as so:</li>\\n\"+\n",
       "     \"</ul>\\n\"+\n",
       "     \"<code>\\n\"+\n",
       "     \"from bokeh.resources import INLINE\\n\"+\n",
       "     \"output_notebook(resources=INLINE)\\n\"+\n",
       "     \"</code>\\n\"+\n",
       "     \"</div>\"}};\n",
       "\n",
       "  function display_loaded() {\n",
       "    if (window.Bokeh !== undefined) {\n",
       "      var el = document.getElementById(\"a1f33bf9-08df-4a76-928a-bfeb942bea6c\");\n",
       "      el.textContent = \"BokehJS \" + Bokeh.version + \" successfully loaded.\";\n",
       "    } else if (Date.now() < window._bokeh_timeout) {\n",
       "      setTimeout(display_loaded, 100)\n",
       "    }\n",
       "  }\n",
       "\n",
       "  function run_callbacks() {\n",
       "    window._bokeh_onload_callbacks.forEach(function(callback) { callback() });\n",
       "    delete window._bokeh_onload_callbacks\n",
       "    console.info(\"Bokeh: all callbacks have finished\");\n",
       "  }\n",
       "\n",
       "  function load_libs(js_urls, callback) {\n",
       "    window._bokeh_onload_callbacks.push(callback);\n",
       "    if (window._bokeh_is_loading > 0) {\n",
       "      console.log(\"Bokeh: BokehJS is being loaded, scheduling callback at\", now());\n",
       "      return null;\n",
       "    }\n",
       "    if (js_urls == null || js_urls.length === 0) {\n",
       "      run_callbacks();\n",
       "      return null;\n",
       "    }\n",
       "    console.log(\"Bokeh: BokehJS not loaded, scheduling load and callback at\", now());\n",
       "    window._bokeh_is_loading = js_urls.length;\n",
       "    for (var i = 0; i < js_urls.length; i++) {\n",
       "      var url = js_urls[i];\n",
       "      var s = document.createElement('script');\n",
       "      s.src = url;\n",
       "      s.async = false;\n",
       "      s.onreadystatechange = s.onload = function() {\n",
       "        window._bokeh_is_loading--;\n",
       "        if (window._bokeh_is_loading === 0) {\n",
       "          console.log(\"Bokeh: all BokehJS libraries loaded\");\n",
       "          run_callbacks()\n",
       "        }\n",
       "      };\n",
       "      s.onerror = function() {\n",
       "        console.warn(\"failed to load library \" + url);\n",
       "      };\n",
       "      console.log(\"Bokeh: injecting script tag for BokehJS library: \", url);\n",
       "      document.getElementsByTagName(\"head\")[0].appendChild(s);\n",
       "    }\n",
       "  };var element = document.getElementById(\"a1f33bf9-08df-4a76-928a-bfeb942bea6c\");\n",
       "  if (element == null) {\n",
       "    console.log(\"Bokeh: ERROR: autoload.js configured with elementid 'a1f33bf9-08df-4a76-928a-bfeb942bea6c' but no matching script tag was found. \")\n",
       "    return false;\n",
       "  }\n",
       "\n",
       "  var js_urls = [\"https://cdn.pydata.org/bokeh/release/bokeh-0.12.5.min.js\", \"https://cdn.pydata.org/bokeh/release/bokeh-widgets-0.12.5.min.js\"];\n",
       "\n",
       "  var inline_js = [\n",
       "    function(Bokeh) {\n",
       "      Bokeh.set_log_level(\"info\");\n",
       "    },\n",
       "    \n",
       "    function(Bokeh) {\n",
       "      \n",
       "    },\n",
       "    \n",
       "    function(Bokeh) {\n",
       "      \n",
       "      document.getElementById(\"a1f33bf9-08df-4a76-928a-bfeb942bea6c\").textContent = \"BokehJS is loading...\";\n",
       "\n",
       "    },\n",
       "    function(Bokeh) {\n",
       "      console.log(\"Bokeh: injecting CSS: https://cdn.pydata.org/bokeh/release/bokeh-0.12.5.min.css\");\n",
       "      Bokeh.embed.inject_css(\"https://cdn.pydata.org/bokeh/release/bokeh-0.12.5.min.css\");\n",
       "      console.log(\"Bokeh: injecting CSS: https://cdn.pydata.org/bokeh/release/bokeh-widgets-0.12.5.min.css\");\n",
       "      Bokeh.embed.inject_css(\"https://cdn.pydata.org/bokeh/release/bokeh-widgets-0.12.5.min.css\");\n",
       "    }\n",
       "  ];\n",
       "\n",
       "  function run_inline_js() {\n",
       "    \n",
       "    if ((window.Bokeh !== undefined) || (force === true)) {\n",
       "      for (var i = 0; i < inline_js.length; i++) {\n",
       "        inline_js[i](window.Bokeh);\n",
       "      }if (force === true) {\n",
       "        display_loaded();\n",
       "      }} else if (Date.now() < window._bokeh_timeout) {\n",
       "      setTimeout(run_inline_js, 100);\n",
       "    } else if (!window._bokeh_failed_load) {\n",
       "      console.log(\"Bokeh: BokehJS failed to load within specified timeout.\");\n",
       "      window._bokeh_failed_load = true;\n",
       "    } else if (force !== true) {\n",
       "      var cell = $(document.getElementById(\"a1f33bf9-08df-4a76-928a-bfeb942bea6c\")).parents('.cell').data().cell;\n",
       "      cell.output_area.append_execute_result(NB_LOAD_WARNING)\n",
       "    }\n",
       "\n",
       "  }\n",
       "\n",
       "  if (window._bokeh_is_loading === 0) {\n",
       "    console.log(\"Bokeh: BokehJS loaded, going straight to plotting\");\n",
       "    run_inline_js();\n",
       "  } else {\n",
       "    load_libs(js_urls, function() {\n",
       "      console.log(\"Bokeh: BokehJS plotting callback run at\", now());\n",
       "      run_inline_js();\n",
       "    });\n",
       "  }\n",
       "}(this));"
      ]
     },
     "metadata": {},
     "output_type": "display_data"
    }
   ],
   "source": [
    "# Standard Python packages\n",
    "import io\n",
    "\n",
    "# Python packages that need to be installed using pip or anaconda:\n",
    "# For computations\n",
    "import pandas\n",
    "import numpy as np\n",
    "\n",
    "# For plotting\n",
    "import matplotlib.pyplot as plt\n",
    "import bokeh.palettes\n",
    "import bokeh.plotting\n",
    "from bokeh.models import HoverTool\n",
    "\n",
    "# Initialize modules for the jupyter notebook format\n",
    "from nbformat import current\n",
    "%matplotlib inline\n",
    "bokeh.io.output_notebook()\n",
    "\n",
    "from IPython.display import display\n",
    "import shutil\n",
    "\n",
    "# Disable pandas warnings\n",
    "pandas.options.mode.chained_assignment = None"
   ]
  },
  {
   "cell_type": "code",
   "execution_count": 118,
   "metadata": {
    "collapsed": true
   },
   "outputs": [],
   "source": [
    "def execute_notebook(nbfile):\n",
    "    \"\"\"Function to run other notebook in this notebook\"\"\"\n",
    "    with io.open(nbfile,encoding=\"utf8\") as f:\n",
    "        nb = current.read(f, 'json')\n",
    "    \n",
    "    ip = get_ipython()\n",
    "    \n",
    "    for cell in nb.worksheets[0].cells:\n",
    "        if cell.cell_type != 'code':\n",
    "            continue\n",
    "        ip.run_cell(cell.input)"
   ]
  },
  {
   "cell_type": "code",
   "execution_count": 119,
   "metadata": {},
   "outputs": [],
   "source": [
    "execute_notebook('../satellite/get-data.ipynb')"
   ]
  },
  {
   "cell_type": "code",
   "execution_count": 120,
   "metadata": {},
   "outputs": [
    {
     "name": "stdout",
     "output_type": "stream",
     "text": [
      "rlr_annual 20 rlr\n",
      "rlr_annual 22 rlr\n",
      "rlr_annual 23 rlr\n",
      "rlr_annual 24 rlr\n",
      "rlr_annual 25 rlr\n",
      "rlr_annual 32 rlr\n"
     ]
    }
   ],
   "source": [
    "# laad eerste het model met de summary\n",
    "station_names = [\n",
    "    'Vlissingen', \n",
    "    'Hoek van Holland', \n",
    "    'Den Helder', \n",
    "    'Delfzijl', \n",
    "    'Harlingen', \n",
    "    'IJmuiden'\n",
    "]\n",
    "# Locatie wind data is 50 km uit kust vanuit IJmuiden\n",
    "rlr_data = get_station_data(dataset_name='rlr_annual', coastline_code=150, names=station_names, include_wind=False)"
   ]
  },
  {
   "cell_type": "code",
   "execution_count": 121,
   "metadata": {},
   "outputs": [
    {
     "name": "stdout",
     "output_type": "stream",
     "text": [
      "Stations of which the data is used: Vlissingen, Hoek van holland, Den helder, Delfzijl, Harlingen, Ijmuiden\n"
     ]
    }
   ],
   "source": [
    "stations = [20, 22, 23, 24, 25, 32]\n",
    "\n",
    "grouped = pandas.concat(rlr_data.loc[stations, 'data'].tolist())[['year', 'height']].groupby(['year'])\n",
    "mean_df = grouped.mean().reset_index()\n",
    "# filter out non-trusted part (before NAP)\n",
    "mean_df = mean_df[mean_df['year'] >= 1890]\n",
    "\n",
    "station_names = [st.capitalize() for st in rlr_data.loc[stations, 'name'].tolist()]\n",
    "\n",
    "print(f'Stations of which the data is used: {\", \".join(station_names)}')"
   ]
  },
  {
   "cell_type": "code",
   "execution_count": 122,
   "metadata": {},
   "outputs": [],
   "source": [
    "# Add surge\n",
    "# Load surge and convert from meters to mm\n",
    "surge = pandas.read_pickle('d:/Documents/2695.50 Zeespiegelstijging 2018/Data/surge.pkl') * 1000\n",
    "# Calculate average over given stations, per year\n",
    "average = surge[station_names].groupby(surge.index.year).mean().mean(axis=1)\n",
    "# Construct dataframe and add to mean_df\n",
    "surge_per_year = pandas.DataFrame(data=[average.mean()] * len(mean_df), index=mean_df['year'], columns=['surge'])\n",
    "surge_per_year.loc[average.index, 'surge'] = average.values\n",
    "surge_per_year.index.name = 'year'\n",
    "if 'surge' not in mean_df.columns:\n",
    "    mean_df = mean_df.merge(surge_per_year.reset_index(), on='year')\n",
    "\n",
    "# Create a corrected dataframe by subtracting the surge\n",
    "mean_df_corrected = mean_df.copy()\n",
    "mean_df_corrected['height'] -= mean_df_corrected['surge']   \n",
    "\n",
    "# mean_df_corrected = mean_df_corrected[mean_df_corrected['year'] >= 1980]"
   ]
  },
  {
   "cell_type": "code",
   "execution_count": 123,
   "metadata": {},
   "outputs": [
    {
     "data": {
      "text/html": [
       "<table class=\"simpletable\">\n",
       "<caption>Linear model corrected for surge (1980-current)</caption>\n",
       "<tr>\n",
       "  <th>Dep. Variable:</th>    <td>Sea-surface height</td> <th>  R-squared:         </th> <td>   0.887</td>\n",
       "</tr>\n",
       "<tr>\n",
       "  <th>Model:</th>                    <td>OLS</td>        <th>  Adj. R-squared:    </th> <td>   0.885</td>\n",
       "</tr>\n",
       "<tr>\n",
       "  <th>Method:</th>              <td>Least Squares</td>   <th>  F-statistic:       </th> <td>   322.9</td>\n",
       "</tr>\n",
       "<tr>\n",
       "  <th>Date:</th>              <td>Wed, 25 Jul 2018</td>  <th>  Prob (F-statistic):</th> <td>4.08e-58</td>\n",
       "</tr>\n",
       "<tr>\n",
       "  <th>Time:</th>                  <td>13:40:37</td>      <th>  Log-Likelihood:    </th> <td> -588.10</td>\n",
       "</tr>\n",
       "<tr>\n",
       "  <th>No. Observations:</th>       <td>   127</td>       <th>  AIC:               </th> <td>   1184.</td>\n",
       "</tr>\n",
       "<tr>\n",
       "  <th>Df Residuals:</th>           <td>   123</td>       <th>  BIC:               </th> <td>   1196.</td>\n",
       "</tr>\n",
       "<tr>\n",
       "  <th>Df Model:</th>               <td>     3</td>       <th>                     </th>     <td> </td>   \n",
       "</tr>\n",
       "<tr>\n",
       "  <th>Covariance Type:</th>       <td>nonrobust</td>     <th>                     </th>     <td> </td>   \n",
       "</tr>\n",
       "</table>\n",
       "<table class=\"simpletable\">\n",
       "<tr>\n",
       "      <td></td>        <th>coef</th>     <th>std err</th>      <th>t</th>      <th>P>|t|</th>  <th>[0.025</th>    <th>0.975]</th>  \n",
       "</tr>\n",
       "<tr>\n",
       "  <th>Constant</th> <td>  -23.7182</td> <td>    2.471</td> <td>   -9.600</td> <td> 0.000</td> <td>  -28.609</td> <td>  -18.828</td>\n",
       "</tr>\n",
       "<tr>\n",
       "  <th>Trend</th>    <td>    1.9091</td> <td>    0.061</td> <td>   31.115</td> <td> 0.000</td> <td>    1.788</td> <td>    2.031</td>\n",
       "</tr>\n",
       "<tr>\n",
       "  <th>Nodal U</th>  <td>    5.1891</td> <td>    3.187</td> <td>    1.628</td> <td> 0.106</td> <td>   -1.120</td> <td>   11.498</td>\n",
       "</tr>\n",
       "<tr>\n",
       "  <th>Nodal V</th>  <td>  -10.4890</td> <td>    3.162</td> <td>   -3.317</td> <td> 0.001</td> <td>  -16.749</td> <td>   -4.229</td>\n",
       "</tr>\n",
       "</table>\n",
       "<table class=\"simpletable\">\n",
       "<tr>\n",
       "  <th>Omnibus:</th>       <td> 3.340</td> <th>  Durbin-Watson:     </th> <td>   1.534</td>\n",
       "</tr>\n",
       "<tr>\n",
       "  <th>Prob(Omnibus):</th> <td> 0.188</td> <th>  Jarque-Bera (JB):  </th> <td>   2.807</td>\n",
       "</tr>\n",
       "<tr>\n",
       "  <th>Skew:</th>          <td>-0.280</td> <th>  Prob(JB):          </th> <td>   0.246</td>\n",
       "</tr>\n",
       "<tr>\n",
       "  <th>Kurtosis:</th>      <td> 3.465</td> <th>  Cond. No.          </th> <td>    57.9</td>\n",
       "</tr>\n",
       "</table>"
      ],
      "text/plain": [
       "<class 'statsmodels.iolib.summary.Summary'>\n",
       "\"\"\"\n",
       "               Linear model corrected for surge (1980-current)                \n",
       "==============================================================================\n",
       "Dep. Variable:     Sea-surface height   R-squared:                       0.887\n",
       "Model:                            OLS   Adj. R-squared:                  0.885\n",
       "Method:                 Least Squares   F-statistic:                     322.9\n",
       "Date:                Wed, 25 Jul 2018   Prob (F-statistic):           4.08e-58\n",
       "Time:                        13:40:37   Log-Likelihood:                -588.10\n",
       "No. Observations:                 127   AIC:                             1184.\n",
       "Df Residuals:                     123   BIC:                             1196.\n",
       "Df Model:                           3                                         \n",
       "Covariance Type:            nonrobust                                         \n",
       "==============================================================================\n",
       "                 coef    std err          t      P>|t|      [0.025      0.975]\n",
       "------------------------------------------------------------------------------\n",
       "Constant     -23.7182      2.471     -9.600      0.000     -28.609     -18.828\n",
       "Trend          1.9091      0.061     31.115      0.000       1.788       2.031\n",
       "Nodal U        5.1891      3.187      1.628      0.106      -1.120      11.498\n",
       "Nodal V      -10.4890      3.162     -3.317      0.001     -16.749      -4.229\n",
       "==============================================================================\n",
       "Omnibus:                        3.340   Durbin-Watson:                   1.534\n",
       "Prob(Omnibus):                  0.188   Jarque-Bera (JB):                2.807\n",
       "Skew:                          -0.280   Prob(JB):                        0.246\n",
       "Kurtosis:                       3.465   Cond. No.                         57.9\n",
       "==============================================================================\n",
       "\n",
       "Warnings:\n",
       "[1] Standard Errors assume that the covariance matrix of the errors is correctly specified.\n",
       "\"\"\""
      ]
     },
     "metadata": {},
     "output_type": "display_data"
    }
   ],
   "source": [
    "# Linear fit\n",
    "linear_fit, names = linear_model(mean_df_corrected, with_wind=False, with_season=False)\n",
    "\n",
    "table = linear_fit.summary(\n",
    "    yname='Sea-surface height', \n",
    "    xname=names,\n",
    "    title='Linear model corrected for surge (1980-current)'\n",
    ")\n",
    "display(table)\n"
   ]
  },
  {
   "cell_type": "markdown",
   "metadata": {},
   "source": [
    "### Q-Q-plot of the residuals\n",
    "\n",
    "The first check is for the normality of the residuals. To check this visually, we make a quantile-quantile plot of the theoretical quantiles (normal distribution) against the data quantiles (ranks)."
   ]
  },
  {
   "cell_type": "code",
   "execution_count": 124,
   "metadata": {},
   "outputs": [
    {
     "data": {
      "image/png": "[encoded data removed]",
      "text/plain": [
       "<matplotlib.figure.Figure at 0x154bd240>"
      ]
     },
     "metadata": {},
     "output_type": "display_data"
    }
   ],
   "source": [
    "fig, ax = plt.subplots(figsize=(6, 6))\n",
    "from scipy.stats import norm\n",
    "\n",
    "# Calculate the exceedance probabilities given a normal distribution\n",
    "cprob = norm.cdf(linear_fit.resid, loc=linear_fit.resid.mean(), scale=linear_fit.resid.std())\n",
    "# Calculate the data quantiles: rank / (n + 1)\n",
    "ranks = (linear_fit.resid.rank().values + 1) / (len(linear_fit.resid) + 1)\n",
    "\n",
    "# Scatter\n",
    "ax.plot(cprob, ranks, marker='.', ls='')\n",
    "# Plot the 1-1 line\n",
    "ax.plot([0, 1], [0, 1], ls='-', color='0.5')\n",
    "\n",
    "# Layout\n",
    "ax.grid()\n",
    "ax.set_ylabel('Normal data quantiles')\n",
    "ax.set_xlabel('Normal theoretical quantiles')\n",
    "ax.spines['top'].set_visible(False)\n",
    "ax.spines['right'].set_visible(False)"
   ]
  },
  {
   "cell_type": "markdown",
   "metadata": {},
   "source": [
    "### Breusch Godfrey"
   ]
  },
  {
   "cell_type": "code",
   "execution_count": 125,
   "metadata": {},
   "outputs": [
    {
     "name": "stdout",
     "output_type": "stream",
     "text": [
      "\n",
      "Lagrange multiplier test statistic: 24.424\n",
      "P-value for Lagrange multiplier test: 0.018\n",
      "Fstatistic for F test: 2.202\n",
      "P-value for F test: 0.016\n",
      "\n"
     ]
    },
    {
     "data": {
      "image/png": "[encoded data removed]",
      "text/plain": [
       "<matplotlib.figure.Figure at 0x189e7fd0>"
      ]
     },
     "metadata": {},
     "output_type": "display_data"
    }
   ],
   "source": [
    "import pandas as pd\n",
    "fig, ax = plt.subplots(figsize=(10, 5))\n",
    "\n",
    "resid_df = pd.DataFrame(\n",
    "    data=linear_fit.resid.values,\n",
    "    index=mean_df_corrected.year,\n",
    "    columns=['residuals']\n",
    ")\n",
    "resid_df['5 year rolling average'] = resid_df.rolling(window=5, center=True).mean()\n",
    "\n",
    "resid_df.plot(ax=ax)\n",
    "\n",
    "ax.grid()\n",
    "\n",
    "import statsmodels\n",
    "\n",
    "bg = statsmodels.stats.diagnostic.acorr_breusch_godfrey(linear_fit)\n",
    "\n",
    "print(\"\"\"\n",
    "Lagrange multiplier test statistic: {:.3f}\n",
    "P-value for Lagrange multiplier test: {:.3f}\n",
    "Fstatistic for F test: {:.3f}\n",
    "P-value for F test: {:.3f}\n",
    "\"\"\".format(*bg))"
   ]
  },
  {
   "cell_type": "markdown",
   "metadata": {},
   "source": [
    "### Heteroskedasticiteit"
   ]
  },
  {
   "cell_type": "code",
   "execution_count": 126,
   "metadata": {},
   "outputs": [
    {
     "name": "stdout",
     "output_type": "stream",
     "text": [
      "\n",
      "Lagrange multiplier test statistic: 39.566\n",
      "P-value for Lagrange multiplier test: 0.000\n",
      "Fstatistic for F test: 18.704\n",
      "P-value for F test: 0.000\n",
      "\n"
     ]
    }
   ],
   "source": [
    "residuals = linear_fit.resid.values\n",
    "statsmodels.stats.diagnostic.het_breuschpagan?\n",
    "bp = statsmodels.stats.diagnostic.het_breuschpagan(resid_df[['residuals']].values, mean_df_corrected.values)\n",
    "\n",
    "print(\"\"\"\n",
    "Lagrange multiplier test statistic: {:.3f}\n",
    "P-value for Lagrange multiplier test: {:.3f}\n",
    "Fstatistic for F test: {:.3f}\n",
    "P-value for F test: {:.3f}\n",
    "\"\"\".format(*bp))"
   ]
  },
  {
   "cell_type": "code",
   "execution_count": null,
   "metadata": {
    "collapsed": true
   },
   "outputs": [],
   "source": []
  }
 ],
 "metadata": {
  "kernelspec": {
   "display_name": "Python 3",
   "language": "python",
   "name": "python3"
  },
  "language_info": {
   "codemirror_mode": {
    "name": "ipython",
    "version": 3
   },
   "file_extension": ".py",
   "mimetype": "text/x-python",
   "name": "python",
   "nbconvert_exporter": "python",
   "pygments_lexer": "ipython3",
   "version": "3.6.1"
  }
 },
 "nbformat": 4,
 "nbformat_minor": 2
}
