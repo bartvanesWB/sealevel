{
 "cells": [
  {
   "cell_type": "markdown",
   "metadata": {},
   "source": [
    "This R notebook performs the CUSUM test on a structural break in the sea water level data.\n",
    "\n",
    "As an input the notebook uses Python data frames from the notebook Structural_Breaks_CUSUM_Py.\n",
    "\n",
    "Another way is running R in the Python Notebook itself, but that is not straightforward as the usual R syntax does not always work."
   ]
  },
  {
   "cell_type": "code",
   "execution_count": null,
   "metadata": {},
   "outputs": [],
   "source": [
    "library(zoo)\n",
    "library(sandwich) \n",
    "library(lmtest)\n",
    "library(ggplot2)\n",
    "library(strucchange)\n",
    "\n",
    "# Read R data frame from  laad het dataframe in van het gewenste station\n",
    "df <- readRDS(\"df_sea_surge.RDS\")\n",
    "print(head(df))"
   ]
  },
  {
   "cell_type": "code",
   "execution_count": null,
   "metadata": {},
   "outputs": [],
   "source": [
    "### DO NOT RUN ###\n",
    "\n",
    "#Python code for the linear model with surge\n",
    "\n",
    "def linear_model_with_surge(df):\n",
    "    \"\"\"\n",
    "    Return the fit from the linear model on the given dataset df.\n",
    "    Wind and season can be enabled and disabled\n",
    "    \"\"\"\n",
    "    y = df['height']\n",
    "    X = np.c_[\n",
    "        df['year']-1970, \n",
    "        np.cos(2*np.pi*(df['year']-1970)/18.613),\n",
    "        np.sin(2*np.pi*(df['year']-1970)/18.613),\n",
    "        df['surge']# * (df['year'] >= 1979)    \n",
    "    ]\n",
    "    names = ['Constant', 'Trend', 'Nodal U', 'Nodal V', 'Surge']\n",
    "        \n",
    "    X = sm.add_constant(X)\n",
    "    model = sm.OLS(y, X, missing='drop')\n",
    "    fit = model.fit(cov_type='HC0')\n",
    "    return fit, names"
   ]
  },
  {
   "cell_type": "code",
   "execution_count": null,
   "metadata": {},
   "outputs": [],
   "source": [
    "# Some R code for robust fitting. # The package sandwich, also included in strucchange, consists of \n",
    "# several methods to correct for heteroskedasticity and autocorrelation. See also:\n",
    "# https://stackoverflow.com/questions/4385436/regression-with-heteroskedasticity-corrected-standard-errors\n",
    "\n",
    "ModelSummary <- function(model, VCOV) {\n",
    "    print(coeftest(model, vcov. = VCOV))\n",
    "    print(waldtest(model, vcov = VCOV))\n",
    "}\n"
   ]
  },
  {
   "cell_type": "code",
   "execution_count": null,
   "metadata": {},
   "outputs": [],
   "source": [
    "# Extend converted Python data frame with nodal cycle (phase shift and amplitude will be estimated, fixed cycle is known well).\n",
    "df$trend = df$year - 1970\n",
    "df$costerm = cos(2*pi*(df$year-1970)/18.613)\n",
    "df$sinterm = sin(2*pi*(df$year-1970)/18.613)\n",
    "\n",
    "model <- height ~ trend + costerm + sinterm + surge\n",
    "sea.lm = lm(model, data = df)\n",
    "summary(lm)"
   ]
  },
  {
   "cell_type": "code",
   "execution_count": null,
   "metadata": {},
   "outputs": [],
   "source": [
    "plot(df$year,sea.lm$fitted.values)\n",
    "plot(sea.lm)"
   ]
  },
  {
   "cell_type": "code",
   "execution_count": null,
   "metadata": {},
   "outputs": [],
   "source": [
    "ModelSummary(sea.lm, vcovHC)"
   ]
  },
  {
   "cell_type": "code",
   "execution_count": null,
   "metadata": {},
   "outputs": [],
   "source": [
    "ocus <- efp(model, type=\"OLS-CUSUM\", data=dfa)\n",
    "bound.ocus <- boundary(ocus, alpha=0.05)\n",
    "ocus$process <- ts(ocus$process, start=c(begin), end=c(eind))\n",
    "sctest(ocus)\n",
    "plot(ocus)"
   ]
  },
  {
   "cell_type": "code",
   "execution_count": null,
   "metadata": {},
   "outputs": [],
   "source": []
  }
 ],
 "metadata": {
  "kernelspec": {
   "display_name": "R",
   "language": "R",
   "name": "ir"
  },
  "language_info": {
   "codemirror_mode": "r",
   "file_extension": ".r",
   "mimetype": "text/x-r-source",
   "name": "R",
   "pygments_lexer": "r",
   "version": "3.4.3"
  }
 },
 "nbformat": 4,
 "nbformat_minor": 2
}
