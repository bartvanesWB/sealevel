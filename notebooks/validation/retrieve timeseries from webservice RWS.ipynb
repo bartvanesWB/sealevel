{
 "cells": [
  {
   "cell_type": "markdown",
   "metadata": {},
   "source": [
    "### Preparation DataFrame to be used for analysis high-frequency tidal gauge data (RWS) and comparison with monthly metric averages (PSMSL website).\n",
    "\n",
    "This online notebook retrieves data from the webservice of RWS and transforms the data in such format it can be used for further analysis. Furthermore the notebook shows how data from the RWS water webservices can be retrieved and is written to a single HDFStore."
   ]
  },
  {
   "cell_type": "code",
   "execution_count": 1,
   "metadata": {},
   "outputs": [],
   "source": [
    "import requests\n",
    "import json\n",
    "\n",
    "import numpy as np\n",
    "import pandas as pd\n",
    "\n",
    "from datetime import datetime\n",
    "from dateutil.relativedelta import relativedelta\n",
    "import pytz\n",
    "\n",
    "from multiprocessing.pool import ThreadPool\n",
    "from tqdm import tqdm_notebook as tqdm\n",
    "from time import time as timer\n",
    "from IPython.display import clear_output\n",
    "\n",
    "%matplotlib inline"
   ]
  },
  {
   "cell_type": "markdown",
   "metadata": {},
   "source": [
    "The distribution layer of the webservice from Rijkswaterstaat is minimally documented at <a href=\"https://www.rijkswaterstaat.nl/rws/opendata/DistributielaagWebservices-SUM-2v7.pdf\">DistributielaagWebservices-SUM-2v7.pdf</a>. \n",
    "\n",
    "There are four different services with different type of request within each service. The services are:\n",
    "- MetadataServices \n",
    "- OnlinewaarnemingenServices (online measurement services)\n",
    "- BulkwaarnemingServices (bulk measurement services)\n",
    "- WebFeatureServices \n",
    "\n",
    "In this notebook the first two services are used to request the tide levels of the different gauge stations"
   ]
  },
  {
   "cell_type": "code",
   "execution_count": 2,
   "metadata": {},
   "outputs": [],
   "source": [
    "collect_catalogus = ('https://waterwebservices.rijkswaterstaat.nl/' +\n",
    "                     'METADATASERVICES_DBO/' +\n",
    "                     'OphalenCatalogus/')\n",
    "collect_observations = ('https://waterwebservices.rijkswaterstaat.nl/' +\n",
    "                        'ONLINEWAARNEMINGENSERVICES_DBO/' +\n",
    "                        'OphalenWaarnemingen')\n",
    "collect_latest_observations = ('https://waterwebservices.rijkswaterstaat.nl/' +\n",
    "                               'ONLINEWAARNEMINGENSERVICES_DBO/' +\n",
    "                               'OphalenLaatsteWaarnemingen')"
   ]
  },
  {
   "cell_type": "markdown",
   "metadata": {},
   "source": [
    "Start with a metadata request using the `OpenhalenCatalogus` service. In this request we want information on the units (eenheden), quantities (grootheden) and qualities (hoedanigheden)."
   ]
  },
  {
   "cell_type": "code",
   "execution_count": 3,
   "metadata": {},
   "outputs": [],
   "source": [
    "# get station information from DDL (metadata uit Catalogus)\n",
    "request = {\n",
    "    \"CatalogusFilter\": {\n",
    "        \"Eenheden\": True,\n",
    "        \"Grootheden\": True,\n",
    "        \"Hoedanigheden\": True\n",
    "    }\n",
    "}\n",
    "resp = requests.post(collect_catalogus, json=request)\n",
    "result = resp.json()\n",
    "# print all variables in the catalogus\n",
    "# print(result)\n",
    "\n",
    "df_locations = pd.DataFrame(result['LocatieLijst']).set_index('Code')\n",
    "# load normalized JSON object (since it contains nested JSON)\n",
    "df_metadata = pd.io.json.json_normalize(\n",
    "    result['AquoMetadataLijst']).set_index('AquoMetadata_MessageID')"
   ]
  },
  {
   "cell_type": "code",
   "execution_count": 4,
   "metadata": {},
   "outputs": [
    {
     "data": {
      "text/html": [
       "<div>\n",
       "<style>\n",
       "    .dataframe thead tr:only-child th {\n",
       "        text-align: right;\n",
       "    }\n",
       "\n",
       "    .dataframe thead th {\n",
       "        text-align: left;\n",
       "    }\n",
       "\n",
       "    .dataframe tbody tr th {\n",
       "        vertical-align: top;\n",
       "    }\n",
       "</style>\n",
       "<table border=\"1\" class=\"dataframe\">\n",
       "  <thead>\n",
       "    <tr style=\"text-align: right;\">\n",
       "      <th></th>\n",
       "      <th>Coordinatenstelsel</th>\n",
       "      <th>Locatie_MessageID</th>\n",
       "      <th>Naam</th>\n",
       "      <th>X</th>\n",
       "      <th>Y</th>\n",
       "    </tr>\n",
       "    <tr>\n",
       "      <th>Code</th>\n",
       "      <th></th>\n",
       "      <th></th>\n",
       "      <th></th>\n",
       "      <th></th>\n",
       "      <th></th>\n",
       "    </tr>\n",
       "  </thead>\n",
       "  <tbody>\n",
       "    <tr>\n",
       "      <th>DELFZL</th>\n",
       "      <td>25831</td>\n",
       "      <td>84020</td>\n",
       "      <td>Delfzijl</td>\n",
       "      <td>761899.770960</td>\n",
       "      <td>5.915790e+06</td>\n",
       "    </tr>\n",
       "    <tr>\n",
       "      <th>DENHDR</th>\n",
       "      <td>25831</td>\n",
       "      <td>84011</td>\n",
       "      <td>Den Helder</td>\n",
       "      <td>617198.393684</td>\n",
       "      <td>5.869731e+06</td>\n",
       "    </tr>\n",
       "    <tr>\n",
       "      <th>HARLGN</th>\n",
       "      <td>25831</td>\n",
       "      <td>84096</td>\n",
       "      <td>Harlingen</td>\n",
       "      <td>661021.585505</td>\n",
       "      <td>5.894519e+06</td>\n",
       "    </tr>\n",
       "    <tr>\n",
       "      <th>HOEKVHLD</th>\n",
       "      <td>25831</td>\n",
       "      <td>72345</td>\n",
       "      <td>Hoek van Holland</td>\n",
       "      <td>576917.669784</td>\n",
       "      <td>5.759136e+06</td>\n",
       "    </tr>\n",
       "    <tr>\n",
       "      <th>IJMDBTHVN</th>\n",
       "      <td>25831</td>\n",
       "      <td>84132</td>\n",
       "      <td>IJmuiden buitenhaven</td>\n",
       "      <td>605633.035699</td>\n",
       "      <td>5.813598e+06</td>\n",
       "    </tr>\n",
       "    <tr>\n",
       "      <th>IJMDNDSS</th>\n",
       "      <td>25831</td>\n",
       "      <td>84560</td>\n",
       "      <td>IJmuiden Noordersluis</td>\n",
       "      <td>609033.673551</td>\n",
       "      <td>5.814221e+06</td>\n",
       "    </tr>\n",
       "    <tr>\n",
       "      <th>VLISSGN</th>\n",
       "      <td>25831</td>\n",
       "      <td>84387</td>\n",
       "      <td>Vlissingen</td>\n",
       "      <td>541425.983215</td>\n",
       "      <td>5.699182e+06</td>\n",
       "    </tr>\n",
       "  </tbody>\n",
       "</table>\n",
       "</div>"
      ],
      "text/plain": [
       "          Coordinatenstelsel  Locatie_MessageID                   Naam  \\\n",
       "Code                                                                     \n",
       "DELFZL                 25831              84020               Delfzijl   \n",
       "DENHDR                 25831              84011             Den Helder   \n",
       "HARLGN                 25831              84096              Harlingen   \n",
       "HOEKVHLD               25831              72345       Hoek van Holland   \n",
       "IJMDBTHVN              25831              84132   IJmuiden buitenhaven   \n",
       "IJMDNDSS               25831              84560  IJmuiden Noordersluis   \n",
       "VLISSGN                25831              84387             Vlissingen   \n",
       "\n",
       "                       X             Y  \n",
       "Code                                    \n",
       "DELFZL     761899.770960  5.915790e+06  \n",
       "DENHDR     617198.393684  5.869731e+06  \n",
       "HARLGN     661021.585505  5.894519e+06  \n",
       "HOEKVHLD   576917.669784  5.759136e+06  \n",
       "IJMDBTHVN  605633.035699  5.813598e+06  \n",
       "IJMDNDSS   609033.673551  5.814221e+06  \n",
       "VLISSGN    541425.983215  5.699182e+06  "
      ]
     },
     "execution_count": 4,
     "metadata": {},
     "output_type": "execute_result"
    }
   ],
   "source": [
    "# note that there are two stations for IJmuiden.\n",
    "# The station was moved from the sluices to outside of the harbor in 1981.\n",
    "ids = ['DELFZL', 'DENHDR', 'HARLGN', 'HOEKVHLD',\n",
    "       'IJMDBTHVN', 'IJMDNDSS', 'VLISSGN']\n",
    "df_locations.loc[ids]"
   ]
  },
  {
   "cell_type": "markdown",
   "metadata": {},
   "source": [
    "Continue with requesting the observations using the `OpenhalenWaarnemingen` (collect_observations) service"
   ]
  },
  {
   "cell_type": "markdown",
   "metadata": {},
   "source": [
    "The waterwebservice make use of a POST query service based on JSON objects with the following 3 elemens defined:\n",
    "- Locatie\n",
    "- AquoPlusWaarnemingMetadata\n",
    "- Periode\n",
    "\n",
    "An example looks as follow:"
   ]
  },
  {
   "cell_type": "code",
   "execution_count": 5,
   "metadata": {},
   "outputs": [],
   "source": [
    "request_manual = {\n",
    "  'Locatie': {\n",
    "    'X': 761899.770959577,\n",
    "    'Y': 5915790.48491405,\n",
    "    'Code': 'DELFZL'\n",
    "  },\n",
    "  'AquoPlusWaarnemingMetadata': {\n",
    "    'AquoMetadata': {\n",
    "      'Eenheid': {\n",
    "        'Code': 'cm'\n",
    "      },\n",
    "      'Grootheid': {\n",
    "        'Code': 'WATHTE'\n",
    "      },\n",
    "      'Hoedanigheid': {\n",
    "        'Code': 'NAP'\n",
    "      }\n",
    "    }\n",
    "  },\n",
    "  'Periode': {\n",
    "    'Einddatumtijd': '2012-01-27T09:30:00.000+01:00',\n",
    "    'Begindatumtijd': '2012-01-27T09:00:00.000+01:00'\n",
    "  }\n",
    "}"
   ]
  },
  {
   "cell_type": "markdown",
   "metadata": {},
   "source": [
    "This manual request can be send to the service. If successfull the service will return a JSON object that can be loaded into a pandas DataFrame and plotted in a figure"
   ]
  },
  {
   "cell_type": "code",
   "execution_count": 6,
   "metadata": {},
   "outputs": [
    {
     "data": {
      "image/png": "[encoded data removed]",
      "text/plain": [
       "<matplotlib.figure.Figure at 0xa764c50>"
      ]
     },
     "metadata": {},
     "output_type": "display_data"
    }
   ],
   "source": [
    "aqpwm = request_manual['AquoPlusWaarnemingMetadata']\n",
    "unit = aqpwm['AquoMetadata']['Eenheid']['Code']\n",
    "quantity = aqpwm['AquoMetadata']['Grootheid']['Code']\n",
    "qualitiy = aqpwm['AquoMetadata']['Hoedanigheid']['Code']\n",
    "column = unit+'_'+quantity+qualitiy\n",
    "\n",
    "try:\n",
    "    resp = requests.post(collect_observations, json=request_manual)\n",
    "    df_out = pd.io.json.json_normalize(\n",
    "        resp.json()['WaarnemingenLijst'][0]['MetingenLijst'])\n",
    "    df_out = df_out[['Meetwaarde.Waarde_Numeriek', 'Tijdstip']]\n",
    "    df_out['Tijdstip'] = pd.to_datetime(df_out['Tijdstip'])\n",
    "    df_out.set_index('Tijdstip', inplace=True)\n",
    "    df_out.index.name = 'time'\n",
    "    df_out.columns = [column]\n",
    "    df_out.loc[df_out[column] == 999999999.0] = np.nan\n",
    "    df_out.plot()\n",
    "except Exception as e:\n",
    "    print(e)"
   ]
  },
  {
   "cell_type": "markdown",
   "metadata": {},
   "source": [
    "Next we dynamically create the POST request"
   ]
  },
  {
   "cell_type": "code",
   "execution_count": 7,
   "metadata": {},
   "outputs": [],
   "source": [
    "def strftime(date):\n",
    "    \"\"\"\n",
    "    required datetime format is not ISO standard date format.\n",
    "    current conversion method works, but improvements are welcome\n",
    "    asked on SO, but no responses: https://stackoverflow.com/q/45610753/2459096\n",
    "    \"\"\"\n",
    "    (dt, micro, tz) = date.strftime(\n",
    "        '%Y-%m-%dT%H:%M:%S.%f%Z:00').replace('+', '.').split('.')\n",
    "    dt = \"%s.%03d+%s\" % (dt, int(micro) / 1000, tz)\n",
    "    return dt\n",
    "\n",
    "\n",
    "def POST_collect_measurements(start_datetime, df_location, df_aquo_metadata):\n",
    "    \"\"\"\n",
    "    create a JSOB object for a POST request for collection of observations\n",
    "\n",
    "    Parameters\n",
    "    ---\n",
    "    start_datetime : datetime object inc tzinfo\n",
    "        (end_datetime is hardcoded 1 month after start_datetime)\n",
    "    df_location : dataframe\n",
    "        with sinlge station location info\n",
    "    df_aquo_metadata : dataframe\n",
    "        with single unit/quantity/quality information\n",
    "\n",
    "    Return\n",
    "    ------\n",
    "    JSON object\n",
    "    \"\"\"\n",
    "    # empty json object\n",
    "    request_dynamic = {}\n",
    "\n",
    "    request_dynamic['Locatie'] = {}\n",
    "    rd_location = request_dynamic['Locatie']\n",
    "    rd_location['X'] = df_location.X\n",
    "    rd_location['Y'] = df_location.Y\n",
    "    rd_location['Code'] = df_location.name\n",
    "\n",
    "    request_dynamic['AquoPlusWaarnemingMetadata'] = {}\n",
    "    rd_apwm = request_dynamic['AquoPlusWaarnemingMetadata']\n",
    "    rd_apwm['AquoMetadata'] = {}\n",
    "    rd_aquo_metadata = rd_apwm['AquoMetadata']\n",
    "    rd_aquo_metadata['Eenheid'] = {\n",
    "        'Code': df_aquo_metadata['Eenheid.Code'].values[0]}\n",
    "    rd_aquo_metadata['Grootheid'] = {\n",
    "        'Code': df_aquo_metadata['Grootheid.Code'].values[0]}\n",
    "    rd_aquo_metadata['Hoedanigheid'] = {\n",
    "        'Code': df_aquo_metadata['Hoedanigheid.Code'].values[0]}\n",
    "\n",
    "    request_dynamic['Periode'] = {}\n",
    "    rd_period = request_dynamic['Periode']\n",
    "    rd_period['Begindatumtijd'] = strftime(start_datetime)\n",
    "    rd_period['Einddatumtijd'] = strftime(start_datetime +\n",
    "                                          relativedelta(months=1))\n",
    "\n",
    "    return request_dynamic"
   ]
  },
  {
   "cell_type": "code",
   "execution_count": 8,
   "metadata": {},
   "outputs": [],
   "source": [
    "# create a long list of data objects\n",
    "# only use start-dates since end-date is always 1 month after the start-date\n",
    "start_dates = []\n",
    "for year in np.arange(1890, 2018):\n",
    "    for month in np.arange(1, 13):\n",
    "        start_dates.append(datetime(year=year,\n",
    "                                    month=month,\n",
    "                                    day=1,\n",
    "                                    hour=0,\n",
    "                                    minute=0,\n",
    "                                    tzinfo=pytz.timezone('Etc/GMT-1')))\n",
    "start_dates = pd.Series(start_dates)\n",
    "# startDates.head()"
   ]
  },
  {
   "cell_type": "code",
   "execution_count": 9,
   "metadata": {},
   "outputs": [
    {
     "data": {
      "text/plain": [
       "1   1890-02-01 00:00:00+01:00\n",
       "2   1890-03-01 00:00:00+01:00\n",
       "3   1890-04-01 00:00:00+01:00\n",
       "4   1890-05-01 00:00:00+01:00\n",
       "5   1890-06-01 00:00:00+01:00\n",
       "dtype: datetime64[ns, Etc/GMT-1]"
      ]
     },
     "execution_count": 9,
     "metadata": {},
     "output_type": "execute_result"
    }
   ],
   "source": [
    "sel_dates = start_dates[(start_dates > '1890-01-01') &\n",
    "                        (start_dates < '1890-06-01')]\n",
    "sel_dates"
   ]
  },
  {
   "cell_type": "code",
   "execution_count": 10,
   "metadata": {},
   "outputs": [
    {
     "data": {
      "text/plain": [
       "Coordinatenstelsel          25831\n",
       "Locatie_MessageID           84020\n",
       "Naam                     Delfzijl\n",
       "X                          761900\n",
       "Y                     5.91579e+06\n",
       "Name: DELFZL, dtype: object"
      ]
     },
     "execution_count": 10,
     "metadata": {},
     "output_type": "execute_result"
    }
   ],
   "source": [
    "# select a single station\n",
    "for station in ids[0:1]:\n",
    "    df_location = df_locations.loc[station]\n",
    "df_location.head()"
   ]
  },
  {
   "cell_type": "code",
   "execution_count": 11,
   "metadata": {},
   "outputs": [
    {
     "data": {
      "text/html": [
       "<div>\n",
       "<style>\n",
       "    .dataframe thead tr:only-child th {\n",
       "        text-align: right;\n",
       "    }\n",
       "\n",
       "    .dataframe thead th {\n",
       "        text-align: left;\n",
       "    }\n",
       "\n",
       "    .dataframe tbody tr th {\n",
       "        vertical-align: top;\n",
       "    }\n",
       "</style>\n",
       "<table border=\"1\" class=\"dataframe\">\n",
       "  <thead>\n",
       "    <tr style=\"text-align: right;\">\n",
       "      <th>AquoMetadata_MessageID</th>\n",
       "      <th>71</th>\n",
       "    </tr>\n",
       "  </thead>\n",
       "  <tbody>\n",
       "    <tr>\n",
       "      <th>Eenheid.Code</th>\n",
       "      <td>cm</td>\n",
       "    </tr>\n",
       "    <tr>\n",
       "      <th>Eenheid.Omschrijving</th>\n",
       "      <td>centimeter</td>\n",
       "    </tr>\n",
       "    <tr>\n",
       "      <th>Grootheid.Code</th>\n",
       "      <td>WATHTE</td>\n",
       "    </tr>\n",
       "    <tr>\n",
       "      <th>Grootheid.Omschrijving</th>\n",
       "      <td>Waterhoogte</td>\n",
       "    </tr>\n",
       "    <tr>\n",
       "      <th>Hoedanigheid.Code</th>\n",
       "      <td>NAP</td>\n",
       "    </tr>\n",
       "  </tbody>\n",
       "</table>\n",
       "</div>"
      ],
      "text/plain": [
       "AquoMetadata_MessageID           71\n",
       "Eenheid.Code                     cm\n",
       "Eenheid.Omschrijving     centimeter\n",
       "Grootheid.Code               WATHTE\n",
       "Grootheid.Omschrijving  Waterhoogte\n",
       "Hoedanigheid.Code               NAP"
      ]
     },
     "execution_count": 11,
     "metadata": {},
     "output_type": "execute_result"
    }
   ],
   "source": [
    "# select a metadata object using the unit/quanity/quality\n",
    "df_WATHTE_NAP = df_metadata[(df_metadata['Grootheid.Code'] == 'WATHTE') &\n",
    "                            (df_metadata['Hoedanigheid.Code'] == 'NAP')]\n",
    "df_WATHTE_NAP.T.head()"
   ]
  },
  {
   "cell_type": "code",
   "execution_count": 12,
   "metadata": {},
   "outputs": [
    {
     "data": {
      "text/plain": [
       "{'AquoPlusWaarnemingMetadata': {'AquoMetadata': {'Eenheid': {'Code': 'cm'},\n",
       "   'Grootheid': {'Code': 'WATHTE'},\n",
       "   'Hoedanigheid': {'Code': 'NAP'}}},\n",
       " 'Locatie': {'Code': 'DELFZL',\n",
       "  'X': 761899.77095957706,\n",
       "  'Y': 5915790.4849140504},\n",
       " 'Periode': {'Begindatumtijd': '1890-05-01T00:00:00.000+01:00',\n",
       "  'Einddatumtijd': '1890-06-01T00:00:00.000+01:00'}}"
      ]
     },
     "execution_count": 12,
     "metadata": {},
     "output_type": "execute_result"
    }
   ],
   "source": [
    "request_dynamic = POST_collect_measurements(start_datetime=sel_dates[3],\n",
    "                                            df_location=df_location,\n",
    "                                            df_aquo_metadata=df_WATHTE_NAP)\n",
    "request_dynamic"
   ]
  },
  {
   "cell_type": "markdown",
   "metadata": {},
   "source": [
    "Open a HDFStore to retrieve month by month all observations and write to PyTables object.  "
   ]
  },
  {
   "cell_type": "markdown",
   "metadata": {},
   "source": [
    "Create a function to fetch the data and write directly to disk."
   ]
  },
  {
   "cell_type": "code",
   "execution_count": 13,
   "metadata": {},
   "outputs": [],
   "source": [
    "def fetch_collect_obersvations(start_date, column_name):\n",
    "    try:\n",
    "        # prepare the POST object\n",
    "        request_dynamic = POST_collect_measurements(\n",
    "            start_datetime=start_date,\n",
    "            df_location=df_location,\n",
    "            df_aquo_metadata=df_WATHTE_NAP)\n",
    "        # do the query\n",
    "        resp = requests.post(collect_observations, json=request_dynamic)\n",
    "\n",
    "        # parse the result to DataFrame\n",
    "        df_out = pd.io.json.json_normalize(\n",
    "            resp.json()['WaarnemingenLijst'][0]['MetingenLijst'])\n",
    "        df_out = df_out[['Meetwaarde.Waarde_Numeriek', 'Tijdstip']]\n",
    "        df_out['Tijdstip'] = pd.to_datetime(df_out['Tijdstip'])\n",
    "        df_out.set_index('Tijdstip', inplace=True)\n",
    "        df_out.columns = [column_name]\n",
    "        df_out.index.name = 'time'\n",
    "        df_out.loc[df_out[column_name] == 999999999.0] = np.nan\n",
    "        # add to HDFStore\n",
    "        hdf.append(key=df_location.name + '/year'+str(start_date.year),\n",
    "                   value=df_out, format='table')\n",
    "\n",
    "        return start_date, None\n",
    "    except Exception as e:\n",
    "        return start_date, e"
   ]
  },
  {
   "cell_type": "markdown",
   "metadata": {},
   "source": [
    "Iterate over the date range and locations and write to HDFStore as the information retrieved can become quite big."
   ]
  },
  {
   "cell_type": "markdown",
   "metadata": {},
   "source": [
    "### Warning, the execution of following codeblock takes multiple hours"
   ]
  },
  {
   "cell_type": "code",
   "execution_count": 14,
   "metadata": {
    "scrolled": true
   },
   "outputs": [
    {
     "name": "stdout",
     "output_type": "stream",
     "text": [
      "Elapsed time: 0.0\n"
     ]
    }
   ],
   "source": [
    "hdf = pd.HDFStore('stationData.h5')  # depends on PyTables\n",
    "start = timer()\n",
    "\n",
    "# itereer over stations\n",
    "for station in tqdm(ids):\n",
    "    df_location = df_locations.loc[station]\n",
    "\n",
    "    for start_date in tqdm(start_dates):\n",
    "        start_date, error = fetch_collect_obersvations(\n",
    "            start_date,\n",
    "            column_name=column)\n",
    "\n",
    "        if error is None:\n",
    "            print(\"%r fetched and processed in %ss\" % (\n",
    "                start_date, timer() - start))\n",
    "        else:\n",
    "            print(\"error fetching %r: %s\" % (start_date, error))\n",
    "        clear_output(wait=True)\n",
    "print(\"Elapsed time: %s\" % (timer() - start,))"
   ]
  },
  {
   "cell_type": "code",
   "execution_count": 15,
   "metadata": {},
   "outputs": [],
   "source": [
    "hdf.close()"
   ]
  },
  {
   "cell_type": "markdown",
   "metadata": {
    "collapsed": true
   },
   "source": [
    "### Recommendation bad performance RWS `OnlinewaarnemingenServices`\n",
    "\n",
    "This notebook describes how the `OnlinewaarnemingenServices` can be exploited for bulk data download. This is interesting in occassions for on-the-fly data retrieval and subsequent analysis (as is our sitation).\n",
    "\n",
    "RWS provides another webservice, which is called `BulkwaarnemingServices`. This is a webservice that can be used to request bulk data. The request includes your email and once the service has succesully prepared the data of interest an email is send with a link from where the bulk data can be retrieved. The actual process of downloading might be quicker, but since it can not be used for on-the-fly data retrieval, it is not a good method for this type of reproducible notebook analysis.\n",
    "\n",
    "To improve the exploitation of the `OnlineWaarnemingenServices` for bulk data, the following ideas comes to mind:\n",
    "1. Pool downloading (parallel).\n",
    "2. Sweet spot analysis."
   ]
  },
  {
   "cell_type": "markdown",
   "metadata": {},
   "source": [
    "#### 1. Pool downloading (parallel)\n",
    "We shortly investigated this approach and it speeds up the data retrieval. After the data retrieval is sucessfuly we store the received data not to memory but to a file on disk using `pandas.HDFStore` (`PyTables`). \n",
    "\n",
    "PyTables writes the data to a HDF5 file and where HDF5 works fine for concurrent read-only access, it lacks the capabilty for concurrent write access (parallel HDF5 is available but not within PyTables, also it requires <a href=\"https://en.wikipedia.org/wiki/Message_Passing_Interface\">MPI</a> for which it is <a href=\"https://www.dursi.ca/post/hpc-is-dying-and-mpi-is-killing-it.html\">debatable</a> if this good). \n",
    "\n",
    "There is an the option to have multiple download processes putting output in a queue and have a single dedicated process for writing as mentioned on <a href=\"https://stackoverflow.com/a/15704334/2459096\">SO</a>, but simultaneously there is also growing evidence that `HDF5` is not a good format for storage of large quantities of data for <a href=\"http://cyrille.rossant.net/moving-away-hdf5/\">varying</a> reasons."
   ]
  },
  {
   "cell_type": "markdown",
   "metadata": {},
   "source": [
    "#### 2. Sweet spot analysis. \n",
    "Currently a sinlge request to the `OnlineWaarnemingenServices` is based on a fixed time-period (1 month, see function `POST_collect_measurements`). This period is chosen semi-arbitrary under the following assumptions: \n",
    "\n",
    "- (a) Requests for long time-periods will take a longer time to prepare at the RWS server. \n",
    "- (b) Requests for short time-periods will take shorter time to prepare the data, but too many requests will slow down the server. \n",
    "- (c) The number of data observations within a fixed time-period for different years and different locations are equal. \n",
    "\n",
    "The assumptions under (a) and (b) might be true, but the assumption under (c) is not true. Observations around 1900 are stored with 1 day or 3 hour time interval and more recent observations are stored with a 10 minute time period interval and the most recent observations has a interval of 1 minute. \n",
    "\n",
    "A sweet spot analysis can be adopted in two-steps:\n",
    "1. Using above mentioned information we can investigate the most optimal time-period to solve assumption (a) and (b). \n",
    "2. If RWS extends the `Metadata` webservice with the ability to serve the number of observations given a request with a start- and end-date, or even better, can provide the end-date given a start-date and the required number of observations. \n",
    "\n",
    "Using these two-steps, not only the most optimum length of a request can be exploited given a fixed time-period (assumption c), but also if the time-period is dynamic in time (reality)."
   ]
  }
 ],
 "metadata": {
  "kernelspec": {
   "display_name": "Python 3",
   "language": "python",
   "name": "python3"
  },
  "language_info": {
   "codemirror_mode": {
    "name": "ipython",
    "version": 3
   },
   "file_extension": ".py",
   "mimetype": "text/x-python",
   "name": "python",
   "nbconvert_exporter": "python",
   "pygments_lexer": "ipython3",
   "version": "3.6.9"
  },
  "widgets": {
   "state": {
    "edf839cfa22143af97860a17b8386961": {
     "views": [
      {
       "cell_index": 24
      }
     ]
    }
   },
   "version": "1.2.0"
  }
 },
 "nbformat": 4,
 "nbformat_minor": 2
}
