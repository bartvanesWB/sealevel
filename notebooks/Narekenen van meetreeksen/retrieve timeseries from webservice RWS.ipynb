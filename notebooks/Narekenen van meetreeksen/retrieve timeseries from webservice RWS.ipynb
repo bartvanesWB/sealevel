{
 "cells": [
  {
   "cell_type": "raw",
   "metadata": {
    "deletable": true,
    "editable": true
   },
   "source": [
    "---\n",
    "title: Retrieval of 10 minutes data for NL gauge stations via waterwebservices of RWS\n",
    "authors:\n",
    "- mattijn_van_hoek\n",
    "tags:\n",
    "- rws\n",
    "- waterwebservices\n",
    "created_at: 2017-08-10\n",
    "updated_at: 2017-09-08\n",
    "tldr: Notebook showing how data from the RWS water webservices can be retrieved and written to a single HDFStore\n",
    "---"
   ]
  },
  {
   "cell_type": "code",
   "execution_count": 4,
   "metadata": {
    "collapsed": true,
    "deletable": true,
    "editable": true
   },
   "outputs": [],
   "source": [
    "import requests\n",
    "import json\n",
    "\n",
    "import numpy as np\n",
    "import pandas as pd\n",
    "\n",
    "from datetime import datetime\n",
    "from dateutil.relativedelta import relativedelta\n",
    "import pytz\n",
    "\n",
    "from multiprocessing.pool import ThreadPool\n",
    "from tqdm import tqdm_notebook as tqdm\n",
    "from time import time as timer\n",
    "from IPython.display import clear_output\n",
    "\n",
    "%matplotlib inline"
   ]
  },
  {
   "cell_type": "markdown",
   "metadata": {
    "deletable": true,
    "editable": true
   },
   "source": [
    "The distributionlayer of the waterwebservices from Rijkswaterstaat is minimal documented at <a href=\"https://www.rijkswaterstaat.nl/rws/opendata/DistributielaagWebservices-SUM-2v7.pdf\">DistributielaagWebservices-SUM-2v7.pdf</a>. \n",
    "\n",
    "There are four different services with different type of request within each service. The servies are:\n",
    "- MetadataServices\n",
    "- OnlinewaarnemingenServices\n",
    "- BulkwaarnemingServices\n",
    "- WebFeatureServices\n",
    "\n",
    "In this notebook are these services used to request the tide levels of the different gauge stations"
   ]
  },
  {
   "cell_type": "code",
   "execution_count": 5,
   "metadata": {
    "collapsed": true,
    "deletable": true,
    "editable": true
   },
   "outputs": [],
   "source": [
    "OphalenCatalogus           = 'https://waterwebservices.rijkswaterstaat.nl/METADATASERVICES_DBO/OphalenCatalogus/'\n",
    "OphalenWaarnemingen        = 'https://waterwebservices.rijkswaterstaat.nl/ONLINEWAARNEMINGENSERVICES_DBO/OphalenWaarnemingen'\n",
    "OphalenLaatsteWaarnemingen = 'https://waterwebservices.rijkswaterstaat.nl/ONLINEWAARNEMINGENSERVICES_DBO/OphalenLaatsteWaarnemingen'"
   ]
  },
  {
   "cell_type": "markdown",
   "metadata": {
    "deletable": true,
    "editable": true
   },
   "source": [
    "Start with a metadata request using the `OpenhalenCatalogus` service. In this request we want information on the units (eenheden), quantities (grootheden) and qualities (hoedanigheden)."
   ]
  },
  {
   "cell_type": "code",
   "execution_count": 6,
   "metadata": {
    "collapsed": true,
    "deletable": true,
    "editable": true
   },
   "outputs": [],
   "source": [
    "# get station information from DDL (metadata uit Catalogus)\n",
    "request = {\n",
    "    \"CatalogusFilter\": {\n",
    "        \"Eenheden\": True,\n",
    "        \"Grootheden\": True,\n",
    "        \"Hoedanigheden\": True\n",
    "    }\n",
    "}\n",
    "resp = requests.post(OphalenCatalogus, json=request)\n",
    "result = resp.json()\n",
    "# print all variables in the catalogus\n",
    "#print(result)\n",
    "\n",
    "dfLocaties = pd.DataFrame(result['LocatieLijst']).set_index('Code')\n",
    "# load normalized JSON object (since it contains nested JSON)\n",
    "dfMetadata = pd.io.json.json_normalize(result['AquoMetadataLijst']).set_index('AquoMetadata_MessageID')"
   ]
  },
  {
   "cell_type": "code",
   "execution_count": 7,
   "metadata": {
    "collapsed": false,
    "deletable": true,
    "editable": true
   },
   "outputs": [
    {
     "data": {
      "text/html": [
       "<div>\n",
       "<style>\n",
       "    .dataframe thead tr:only-child th {\n",
       "        text-align: right;\n",
       "    }\n",
       "\n",
       "    .dataframe thead th {\n",
       "        text-align: left;\n",
       "    }\n",
       "\n",
       "    .dataframe tbody tr th {\n",
       "        vertical-align: top;\n",
       "    }\n",
       "</style>\n",
       "<table border=\"1\" class=\"dataframe\">\n",
       "  <thead>\n",
       "    <tr style=\"text-align: right;\">\n",
       "      <th></th>\n",
       "      <th>Coordinatenstelsel</th>\n",
       "      <th>Locatie_MessageID</th>\n",
       "      <th>Naam</th>\n",
       "      <th>X</th>\n",
       "      <th>Y</th>\n",
       "    </tr>\n",
       "    <tr>\n",
       "      <th>Code</th>\n",
       "      <th></th>\n",
       "      <th></th>\n",
       "      <th></th>\n",
       "      <th></th>\n",
       "      <th></th>\n",
       "    </tr>\n",
       "  </thead>\n",
       "  <tbody>\n",
       "    <tr>\n",
       "      <th>DELFZL</th>\n",
       "      <td>25831</td>\n",
       "      <td>84020</td>\n",
       "      <td>Delfzijl</td>\n",
       "      <td>761899.770960</td>\n",
       "      <td>5.915790e+06</td>\n",
       "    </tr>\n",
       "    <tr>\n",
       "      <th>DENHDR</th>\n",
       "      <td>25831</td>\n",
       "      <td>84011</td>\n",
       "      <td>Den Helder</td>\n",
       "      <td>617198.393684</td>\n",
       "      <td>5.869731e+06</td>\n",
       "    </tr>\n",
       "    <tr>\n",
       "      <th>HARLGN</th>\n",
       "      <td>25831</td>\n",
       "      <td>84096</td>\n",
       "      <td>Harlingen</td>\n",
       "      <td>661021.585505</td>\n",
       "      <td>5.894519e+06</td>\n",
       "    </tr>\n",
       "    <tr>\n",
       "      <th>HOEKVHLD</th>\n",
       "      <td>25831</td>\n",
       "      <td>72345</td>\n",
       "      <td>Hoek van Holland</td>\n",
       "      <td>576917.669784</td>\n",
       "      <td>5.759136e+06</td>\n",
       "    </tr>\n",
       "    <tr>\n",
       "      <th>IJMDBTHVN</th>\n",
       "      <td>25831</td>\n",
       "      <td>84132</td>\n",
       "      <td>IJmuiden buitenhaven</td>\n",
       "      <td>605633.035699</td>\n",
       "      <td>5.813598e+06</td>\n",
       "    </tr>\n",
       "    <tr>\n",
       "      <th>IJMDNDSS</th>\n",
       "      <td>25831</td>\n",
       "      <td>84560</td>\n",
       "      <td>IJmuiden Noordersluis</td>\n",
       "      <td>609033.673551</td>\n",
       "      <td>5.814221e+06</td>\n",
       "    </tr>\n",
       "    <tr>\n",
       "      <th>VLISSGN</th>\n",
       "      <td>25831</td>\n",
       "      <td>84387</td>\n",
       "      <td>Vlissingen</td>\n",
       "      <td>541425.983215</td>\n",
       "      <td>5.699182e+06</td>\n",
       "    </tr>\n",
       "  </tbody>\n",
       "</table>\n",
       "</div>"
      ],
      "text/plain": [
       "          Coordinatenstelsel  Locatie_MessageID                   Naam  \\\n",
       "Code                                                                     \n",
       "DELFZL                 25831              84020               Delfzijl   \n",
       "DENHDR                 25831              84011             Den Helder   \n",
       "HARLGN                 25831              84096              Harlingen   \n",
       "HOEKVHLD               25831              72345       Hoek van Holland   \n",
       "IJMDBTHVN              25831              84132   IJmuiden buitenhaven   \n",
       "IJMDNDSS               25831              84560  IJmuiden Noordersluis   \n",
       "VLISSGN                25831              84387             Vlissingen   \n",
       "\n",
       "                       X             Y  \n",
       "Code                                    \n",
       "DELFZL     761899.770960  5.915790e+06  \n",
       "DENHDR     617198.393684  5.869731e+06  \n",
       "HARLGN     661021.585505  5.894519e+06  \n",
       "HOEKVHLD   576917.669784  5.759136e+06  \n",
       "IJMDBTHVN  605633.035699  5.813598e+06  \n",
       "IJMDNDSS   609033.673551  5.814221e+06  \n",
       "VLISSGN    541425.983215  5.699182e+06  "
      ]
     },
     "execution_count": 7,
     "metadata": {},
     "output_type": "execute_result"
    }
   ],
   "source": [
    "# note that there are two stations for IJmuiden. \n",
    "# The station was moved from the sluices to outside of the harbor in 1981.\n",
    "ids = ['DELFZL', 'DENHDR', 'HARLGN', 'HOEKVHLD', 'IJMDBTHVN', 'IJMDNDSS', 'VLISSGN']\n",
    "dfLocaties.loc[ids]"
   ]
  },
  {
   "cell_type": "markdown",
   "metadata": {
    "deletable": true,
    "editable": true
   },
   "source": [
    "Continue with requesting the observations using the `OpenhalenWaarnemingen` service"
   ]
  },
  {
   "cell_type": "markdown",
   "metadata": {
    "deletable": true,
    "editable": true
   },
   "source": [
    "The waterwebservice make use of a POST query service based on JSON objects with the following 3 elemens defined:\n",
    "- Locatie\n",
    "- AquoPlusWaarnemingMetadata\n",
    "- Periode\n",
    "\n",
    "An example looks as follow:"
   ]
  },
  {
   "cell_type": "code",
   "execution_count": 8,
   "metadata": {
    "collapsed": true,
    "deletable": true,
    "editable": true
   },
   "outputs": [],
   "source": [
    "request_manual = {\n",
    "  'Locatie': {\n",
    "    'X': 761899.770959577,\n",
    "    'Y': 5915790.48491405,\n",
    "    'Code': 'DELFZL'\n",
    "  },\n",
    "  'AquoPlusWaarnemingMetadata': {\n",
    "    'AquoMetadata': {\n",
    "      'Eenheid': {\n",
    "        'Code': 'cm'\n",
    "      },\n",
    "      'Grootheid': {\n",
    "        'Code': 'WATHTE'\n",
    "      },\n",
    "      'Hoedanigheid': {\n",
    "        'Code': 'NAP'\n",
    "      }\n",
    "    }\n",
    "  },\n",
    "  'Periode': {\n",
    "    'Einddatumtijd': '2012-01-27T09:30:00.000+01:00',\n",
    "    'Begindatumtijd': '2012-01-27T09:00:00.000+01:00'\n",
    "  }\n",
    "}"
   ]
  },
  {
   "cell_type": "code",
   "execution_count": 9,
   "metadata": {
    "collapsed": false,
    "deletable": true,
    "editable": true
   },
   "outputs": [],
   "source": [
    "eenhd = request_manual['AquoPlusWaarnemingMetadata']['AquoMetadata']['Eenheid']['Code']\n",
    "grthd = request_manual['AquoPlusWaarnemingMetadata']['AquoMetadata']['Grootheid']['Code']\n",
    "hdnghd = request_manual['AquoPlusWaarnemingMetadata']['AquoMetadata']['Hoedanigheid']['Code']\n",
    "clmn = grthd+'_'+eenhd+hdnghd"
   ]
  },
  {
   "cell_type": "markdown",
   "metadata": {
    "deletable": true,
    "editable": true
   },
   "source": [
    "This manual request can be send to the service. If successfull the service will return a JSON object that can be loaded into a pandas DataFrame and plotted in a figure"
   ]
  },
  {
   "cell_type": "code",
   "execution_count": 11,
   "metadata": {
    "collapsed": false,
    "deletable": true,
    "editable": true
   },
   "outputs": [
    {
     "data": {
      "image/png": "[encoded data removed]",
      "text/plain": [
       "<matplotlib.figure.Figure at 0x95667b8>"
      ]
     },
     "metadata": {},
     "output_type": "display_data"
    }
   ],
   "source": [
    "eenhd = request_manual['AquoPlusWaarnemingMetadata']['AquoMetadata']['Eenheid']['Code']\n",
    "grthd = request_manual['AquoPlusWaarnemingMetadata']['AquoMetadata']['Grootheid']['Code']\n",
    "hdnghd = request_manual['AquoPlusWaarnemingMetadata']['AquoMetadata']['Hoedanigheid']['Code']\n",
    "clmn = grthd+'_'+eenhd+hdnghd\n",
    "\n",
    "try:\n",
    "    resp = requests.post(OphalenWaarnemingen, json=request_manual)\n",
    "    df_out = pd.io.json.json_normalize(resp.json()['WaarnemingenLijst'][0]['MetingenLijst'])[['Meetwaarde.Waarde_Numeriek','Tijdstip']]\n",
    "    df_out['Tijdstip'] = pd.to_datetime(df_out['Tijdstip'])\n",
    "    df_out.set_index('Tijdstip', inplace=True)\n",
    "    df_out.columns=[clmn]\n",
    "    \n",
    "    df_out.loc[df_out[clmn] == 999999999.0] = np.nan\n",
    "    df_out.plot()\n",
    "except Exception as e:\n",
    "    print (e)"
   ]
  },
  {
   "cell_type": "markdown",
   "metadata": {
    "deletable": true,
    "editable": true
   },
   "source": [
    "Next we dynamically create the POST request"
   ]
  },
  {
   "cell_type": "code",
   "execution_count": 12,
   "metadata": {
    "collapsed": false,
    "deletable": true,
    "editable": true
   },
   "outputs": [],
   "source": [
    "def strftime(date):\n",
    "    \"\"\"\n",
    "    required datetime format is not ISO standard date format.\n",
    "    current conversion method works, but improvements are welcome\n",
    "    asked on SO, but no responses: https://stackoverflow.com/q/45610753/2459096\n",
    "    \"\"\"\n",
    "    (dt, micro,tz) = date.strftime('%Y-%m-%dT%H:%M:%S.%f%Z:00').replace('+','.').split('.')\n",
    "    dt = \"%s.%03d+%s\" % (dt, int(micro) / 1000,tz)\n",
    "    return dt\n",
    "\n",
    "def POSTOphalenWaarnemingen(beginDatumTijd, dfLocatie, dfAquoMetadata):\n",
    "    \"\"\"\n",
    "    create a JSOB object for a POST request for collection of observations\n",
    "    \n",
    "    Parameters\n",
    "    ---\n",
    "    beginDatumTijd   :  datetime object inc tzinfo \n",
    "                        (eindDatumTijd is hardcoded 1 month after beginDatumTijd)\n",
    "    dfLocatie        :  dataframe met sinlge station location info\n",
    "    dfAquoMetaData   :  dataframe object with single unit/quantity/quality information\n",
    "    \n",
    "    Return\n",
    "    ------\n",
    "    JSON object\n",
    "    \"\"\"\n",
    "    # empty json object\n",
    "    request_dynamisch = {}\n",
    "\n",
    "    request_dynamisch['Locatie'] = {}\n",
    "    rd_Locatie = request_dynamisch['Locatie']\n",
    "    rd_Locatie['X'] = dfLocatie.X#float(\"{:.9f}\".format(dfLocatie.loc[ids[0]].X))\n",
    "    rd_Locatie['Y'] = dfLocatie.Y#float(\"{:.8f}\".format(dfLocatie.loc[ids[0]].Y))\n",
    "    rd_Locatie['Code'] = dfLocatie.name\n",
    "\n",
    "    request_dynamisch['AquoPlusWaarnemingMetadata'] = {}\n",
    "    rd_APWM = request_dynamisch['AquoPlusWaarnemingMetadata']\n",
    "    rd_APWM['AquoMetadata'] = {}\n",
    "    rd_AM = rd_APWM['AquoMetadata']\n",
    "    rd_AM['Eenheid']      = {'Code':dfAquoMetadata['Eenheid.Code'].values[0]}\n",
    "    rd_AM['Grootheid']    = {'Code':dfAquoMetadata['Grootheid.Code'].values[0]}\n",
    "    rd_AM['Hoedanigheid'] = {'Code':dfAquoMetadata['Hoedanigheid.Code'].values[0]}\n",
    "\n",
    "    request_dynamisch['Periode'] = {}\n",
    "    rd_Periode = request_dynamisch['Periode']\n",
    "    rd_Periode['Begindatumtijd'] = strftime(beginDatumTijd)\n",
    "    #strftime(datetime(year=2012, month=1, day=27, hour=9, minute=0,tzinfo=pytz.timezone('Etc/GMT-1')))\n",
    "    rd_Periode['Einddatumtijd']  = strftime(beginDatumTijd+relativedelta(months=1))\n",
    "    \n",
    "    return request_dynamisch"
   ]
  },
  {
   "cell_type": "code",
   "execution_count": 13,
   "metadata": {
    "collapsed": false,
    "deletable": true,
    "editable": true
   },
   "outputs": [],
   "source": [
    "# create a long list of data objects\n",
    "# only use start-dates since end-date is always 1 month after the start-date\n",
    "startDates = []\n",
    "for year in np.arange(1850,2018):\n",
    "    for month in np.arange(1,13):\n",
    "        startDates.append(datetime(year=year, month=month, day=1, hour=0, minute=0,tzinfo=pytz.timezone('Etc/GMT-1')))\n",
    "startDates = pd.Series(startDates)\n",
    "#startDates.head()"
   ]
  },
  {
   "cell_type": "code",
   "execution_count": 14,
   "metadata": {
    "collapsed": false,
    "deletable": true,
    "editable": true
   },
   "outputs": [
    {
     "data": {
      "text/plain": [
       "349   1879-02-01 00:00:00+01:00\n",
       "350   1879-03-01 00:00:00+01:00\n",
       "351   1879-04-01 00:00:00+01:00\n",
       "352   1879-05-01 00:00:00+01:00\n",
       "353   1879-06-01 00:00:00+01:00\n",
       "dtype: datetime64[ns, Etc/GMT-1]"
      ]
     },
     "execution_count": 14,
     "metadata": {},
     "output_type": "execute_result"
    }
   ],
   "source": [
    "selDates = startDates[(startDates > '1879-01-01') & (startDates < '1879-06-01')]\n",
    "selDates"
   ]
  },
  {
   "cell_type": "code",
   "execution_count": 15,
   "metadata": {
    "collapsed": false,
    "deletable": true,
    "editable": true
   },
   "outputs": [
    {
     "data": {
      "text/plain": [
       "Coordinatenstelsel          25831\n",
       "Locatie_MessageID           84020\n",
       "Naam                     Delfzijl\n",
       "X                          761900\n",
       "Y                     5.91579e+06\n",
       "Name: DELFZL, dtype: object"
      ]
     },
     "execution_count": 15,
     "metadata": {},
     "output_type": "execute_result"
    }
   ],
   "source": [
    "# select a single station\n",
    "for station in ids[0:1]:\n",
    "    dfLocatie = dfLocaties.loc[station]\n",
    "dfLocatie.head()"
   ]
  },
  {
   "cell_type": "code",
   "execution_count": 16,
   "metadata": {
    "collapsed": false,
    "deletable": true,
    "editable": true
   },
   "outputs": [
    {
     "data": {
      "text/html": [
       "<div>\n",
       "<style>\n",
       "    .dataframe thead tr:only-child th {\n",
       "        text-align: right;\n",
       "    }\n",
       "\n",
       "    .dataframe thead th {\n",
       "        text-align: left;\n",
       "    }\n",
       "\n",
       "    .dataframe tbody tr th {\n",
       "        vertical-align: top;\n",
       "    }\n",
       "</style>\n",
       "<table border=\"1\" class=\"dataframe\">\n",
       "  <thead>\n",
       "    <tr style=\"text-align: right;\">\n",
       "      <th>AquoMetadata_MessageID</th>\n",
       "      <th>71</th>\n",
       "    </tr>\n",
       "  </thead>\n",
       "  <tbody>\n",
       "    <tr>\n",
       "      <th>Eenheid.Code</th>\n",
       "      <td>cm</td>\n",
       "    </tr>\n",
       "    <tr>\n",
       "      <th>Eenheid.Omschrijving</th>\n",
       "      <td>centimeter</td>\n",
       "    </tr>\n",
       "    <tr>\n",
       "      <th>Grootheid.Code</th>\n",
       "      <td>WATHTE</td>\n",
       "    </tr>\n",
       "    <tr>\n",
       "      <th>Grootheid.Omschrijving</th>\n",
       "      <td>Waterhoogte</td>\n",
       "    </tr>\n",
       "    <tr>\n",
       "      <th>Hoedanigheid.Code</th>\n",
       "      <td>NAP</td>\n",
       "    </tr>\n",
       "  </tbody>\n",
       "</table>\n",
       "</div>"
      ],
      "text/plain": [
       "AquoMetadata_MessageID           71\n",
       "Eenheid.Code                     cm\n",
       "Eenheid.Omschrijving     centimeter\n",
       "Grootheid.Code               WATHTE\n",
       "Grootheid.Omschrijving  Waterhoogte\n",
       "Hoedanigheid.Code               NAP"
      ]
     },
     "execution_count": 16,
     "metadata": {},
     "output_type": "execute_result"
    }
   ],
   "source": [
    "# select a metadata object using the unit/quanity/quality\n",
    "df_WATHTE_NAP = dfMetadata[(dfMetadata['Grootheid.Code']=='WATHTE')&(dfMetadata['Hoedanigheid.Code']=='NAP')]\n",
    "df_WATHTE_NAP.T.head()"
   ]
  },
  {
   "cell_type": "code",
   "execution_count": 18,
   "metadata": {
    "collapsed": false,
    "deletable": true,
    "editable": true
   },
   "outputs": [
    {
     "data": {
      "text/plain": [
       "{'AquoPlusWaarnemingMetadata': {'AquoMetadata': {'Eenheid': {'Code': 'cm'},\n",
       "   'Grootheid': {'Code': 'WATHTE'},\n",
       "   'Hoedanigheid': {'Code': 'NAP'}}},\n",
       " 'Locatie': {'Code': 'DELFZL',\n",
       "  'X': 761899.77095957706,\n",
       "  'Y': 5915790.4849140504},\n",
       " 'Periode': {'Begindatumtijd': '1879-05-01T00:00:00.000+01:00',\n",
       "  'Einddatumtijd': '1879-06-01T00:00:00.000+01:00'}}"
      ]
     },
     "execution_count": 18,
     "metadata": {},
     "output_type": "execute_result"
    }
   ],
   "source": [
    "request_dynamic = POSTOphalenWaarnemingen(beginDatumTijd=selDates[3],dfLocatie=dfLocatie,dfAquoMetadata=df_WATHTE_NAP)\n",
    "request_dynamic"
   ]
  },
  {
   "cell_type": "markdown",
   "metadata": {
    "deletable": true,
    "editable": true
   },
   "source": [
    "Open a HDFStore to retrieve month by month all observations and write to PyTables object.  "
   ]
  },
  {
   "cell_type": "markdown",
   "metadata": {
    "deletable": true,
    "editable": true
   },
   "source": [
    "Create a function to fetch the data and write directly to disk."
   ]
  },
  {
   "cell_type": "code",
   "execution_count": 20,
   "metadata": {
    "collapsed": true,
    "deletable": true,
    "editable": true
   },
   "outputs": [],
   "source": [
    "def fetch_OphalenWaarnemingen(startDate,column_name):\n",
    "    try:\n",
    "        # prepare the POST object\n",
    "        request_dynamisch=POSTOphalenWaarnemingen(beginDatumTijd = startDate,\n",
    "                                                  dfLocatie = dfLocatie,\n",
    "                                                  dfAquoMetadata = df_WATHTE_NAP)\n",
    "        # do the query\n",
    "        resp = requests.post(OphalenWaarnemingen, json=request_dynamisch)\n",
    "        \n",
    "        # parse the result to DataFrame\n",
    "        df_out = pd.io.json.json_normalize(resp.json()['WaarnemingenLijst'][0]['MetingenLijst'])[['Meetwaarde.Waarde_Numeriek','Tijdstip']]\n",
    "        df_out['Tijdstip'] = pd.to_datetime(df_out['Tijdstip'])\n",
    "        df_out.set_index('Tijdstip', inplace=True)\n",
    "        df_out.columns=[column_name]\n",
    "        df_out.loc[df_out[column_name] == 999999999.0] = np.nan\n",
    "        # add to HDFStore        \n",
    "        hdf.append(key = dfLocatie.name+'/year'+str(startDate.year), \n",
    "                   value = df_out, format='table')\n",
    "        \n",
    "        return startDate, None\n",
    "    except Exception as e:\n",
    "        return startDate, e"
   ]
  },
  {
   "cell_type": "markdown",
   "metadata": {
    "deletable": true,
    "editable": true
   },
   "source": [
    "iterate over the date range and locations and write to HDFStore as the information retrieved can become quite big."
   ]
  },
  {
   "cell_type": "markdown",
   "metadata": {},
   "source": [
    "### Warning, the execution of following codeblock takes multiple hours"
   ]
  },
  {
   "cell_type": "code",
   "execution_count": 21,
   "metadata": {
    "collapsed": false,
    "deletable": true,
    "editable": true
   },
   "outputs": [
    {
     "name": "stdout",
     "output_type": "stream",
     "text": [
      "\n",
      "Elapsed time: 10191.662999868393\n"
     ]
    }
   ],
   "source": [
    "hdf = pd.HDFStore('stationData.h5') # depends on PyTables\n",
    "start = timer()\n",
    "\n",
    "# itereer over stations\n",
    "for station in tqdm(ids):\n",
    "    dfLocatie = dfLocaties.loc[station]    \n",
    "\n",
    "    for startDate in tqdm(startDates):\n",
    "        startDate, error = fetch_OphalenWaarnemingen(startDate, column_name=clmn)\n",
    "\n",
    "        if error is None:\n",
    "            print(\"%r fetched and processed in %ss\" % (startDate, timer() - start))\n",
    "        else:\n",
    "            print(\"error fetching %r: %s\" % (startDate, error))\n",
    "        clear_output(wait=True)\n",
    "print(\"Elapsed time: %s\" % (timer() - start,))    "
   ]
  },
  {
   "cell_type": "code",
   "execution_count": null,
   "metadata": {
    "collapsed": true,
    "deletable": true,
    "editable": true
   },
   "outputs": [],
   "source": [
    "hdf.close()"
   ]
  }
 ],
 "metadata": {
  "kernelspec": {
   "display_name": "Python 3",
   "language": "python",
   "name": "python3"
  },
  "language_info": {
   "codemirror_mode": {
    "name": "ipython",
    "version": 3
   },
   "file_extension": ".py",
   "mimetype": "text/x-python",
   "name": "python",
   "nbconvert_exporter": "python",
   "pygments_lexer": "ipython3",
   "version": "3.5.2"
  },
  "widgets": {
   "state": {
    "15886c8bf23347868e17fd5ac21d0c0d": {
     "views": [
      {
       "cell_index": 25
      }
     ]
    },
    "2bd48451c9a5452abdf5b5bcea1aba5c": {
     "views": [
      {
       "cell_index": 24
      }
     ]
    },
    "6450cd13ce0246589bbd55528a6ba9dd": {
     "views": [
      {
       "cell_index": 25
      }
     ]
    },
    "918ed9c218de410f8d2ef2136c44f455": {
     "views": [
      {
       "cell_index": 25
      }
     ]
    },
    "ad95878342ac4fc58a874d53ac99f7a8": {
     "views": [
      {
       "cell_index": 25
      }
     ]
    },
    "b18a5d3cadfc4965a590f5f7c509a480": {
     "views": [
      {
       "cell_index": 25
      }
     ]
    },
    "e66f9ac16d934271a79cb9f3343dbd1c": {
     "views": [
      {
       "cell_index": 24
      }
     ]
    },
    "f033edf1695743f9ad5c53a4b9b38dfd": {
     "views": [
      {
       "cell_index": 25
      }
     ]
    }
   },
   "version": "1.2.0"
  }
 },
 "nbformat": 4,
 "nbformat_minor": 2
}
