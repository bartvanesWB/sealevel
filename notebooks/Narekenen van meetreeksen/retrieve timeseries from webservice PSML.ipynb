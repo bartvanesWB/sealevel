{
 "cells": [
  {
   "cell_type": "code",
   "execution_count": 94,
   "metadata": {
    "collapsed": true
   },
   "outputs": [],
   "source": [
    "import requests\n",
    "import io\n",
    "import zipfile\n",
    "import pandas as pd\n",
    "import functools\n",
    "import math\n",
    "import numpy as np"
   ]
  },
  {
   "cell_type": "code",
   "execution_count": 29,
   "metadata": {
    "collapsed": true
   },
   "outputs": [],
   "source": [
    "urls = {\n",
    "    'metric_monthly': 'http://www.psmsl.org/data/obtaining/met.monthly.data/met_monthly.zip',\n",
    "}\n",
    "dataset_name = 'metric_monthly'\n",
    "dataset_name_compact = 'met_monthly'"
   ]
  },
  {
   "cell_type": "code",
   "execution_count": 30,
   "metadata": {
    "collapsed": true
   },
   "outputs": [],
   "source": [
    "# The names of the stations of interest\n",
    "main_stations = {\n",
    "    20: {\n",
    "        'name': 'Vlissingen'\n",
    "    },\n",
    "    22: {\n",
    "        'name': 'Hoek van Holland'\n",
    "    },\n",
    "    23: {\n",
    "        'name': 'Den Helder'\n",
    "    },\n",
    "    24: {\n",
    "        'name': 'Delfzijl'\n",
    "    },\n",
    "    25: {\n",
    "        'name': 'Harlingen'\n",
    "    },\n",
    "    32: {\n",
    "        'name': 'IJmuiden'\n",
    "    }\n",
    "}"
   ]
  },
  {
   "cell_type": "code",
   "execution_count": 114,
   "metadata": {
    "collapsed": false
   },
   "outputs": [],
   "source": [
    "# the main stations are defined by their ids\n",
    "main_stations_idx = list(main_stations.keys())\n",
    "#main_stations_idx"
   ]
  },
  {
   "cell_type": "code",
   "execution_count": 115,
   "metadata": {
    "collapsed": false
   },
   "outputs": [],
   "source": [
    "# download the zipfile\n",
    "resp = requests.get(urls[dataset_name])\n",
    "\n",
    "# we can read the zipfile\n",
    "stream = io.BytesIO(resp.content)\n",
    "zf = zipfile.ZipFile(stream)\n",
    "\n",
    "# this list contains a table of \n",
    "# station ID, latitude, longitude, station name, coastline code, station code, and quality flag\n",
    "csvtext = zf.read('{}/filelist.txt'.format(dataset_name_compact))\n",
    "\n",
    "stations = pd.read_csv(\n",
    "    io.BytesIO(csvtext), \n",
    "    sep=';',\n",
    "    names=('id', 'lat', 'lon', 'name', 'coastline_code', 'station_code', 'quality'),\n",
    "    converters={\n",
    "        'name': str.strip,\n",
    "        'quality': str.strip\n",
    "    }\n",
    ")\n",
    "stations = stations.set_index('id')\n",
    "\n",
    "# the dutch stations in the PSMSL database, make a copy\n",
    "# or use stations.coastline_code == 150 for all dutch stations\n",
    "selected_stations = stations.loc[main_stations_idx].copy()\n",
    "# set the main stations, this should be a list of 6 stations\n",
    "#selected_stations"
   ]
  },
  {
   "cell_type": "code",
   "execution_count": 116,
   "metadata": {
    "collapsed": true
   },
   "outputs": [],
   "source": [
    "# each station has a number of files that you can look at.\n",
    "# here we define a template for each filename\n",
    "\n",
    "# stations that we are using for our computation\n",
    "# define the name formats for the relevant files\n",
    "names = {\n",
    "    #'datum': '{dataset}/RLR_info/{id}.txt',\n",
    "    #'diagram': '{dataset}/RLR_info/{id}.png',\n",
    "    'url': 'http://www.psmsl.org/data/obtaining/rlr.diagrams/{id}.php',\n",
    "    'data': '{dataset}/data/{id}.metdata',\n",
    "    #'doc': '{dataset}/docu/{id}.txt',\n",
    "    #'contact': '{dataset}/docu/{id}_auth.txt'\n",
    "}"
   ]
  },
  {
   "cell_type": "code",
   "execution_count": 117,
   "metadata": {
    "collapsed": false
   },
   "outputs": [],
   "source": [
    "def get_url(station, dataset):\n",
    "    \"\"\"return the url of the station information (diagram and datum)\"\"\"\n",
    "    info = dict(\n",
    "        dataset=dataset,\n",
    "        id=station.name\n",
    "    )\n",
    "    url = names['url'].format(**info)\n",
    "    return url\n",
    "# fill in the dataset parameter using the global dataset_name\n",
    "f = functools.partial(get_url, dataset=dataset_name)\n",
    "# compute the url for each station\n",
    "selected_stations['url'] = selected_stations.apply(f, axis=1)\n",
    "#selected_stations"
   ]
  },
  {
   "cell_type": "markdown",
   "metadata": {},
   "source": [
    "Need some functions to check for missing values and to retrieve the data from the zipfile."
   ]
  },
  {
   "cell_type": "code",
   "execution_count": 118,
   "metadata": {
    "collapsed": true
   },
   "outputs": [],
   "source": [
    "def missing2nan(value, missing=-99999):\n",
    "    \"\"\"convert the value to nan if the float of value equals the missing value\"\"\"\n",
    "    value = float(value)\n",
    "    if value == missing:\n",
    "        return np.nan\n",
    "    return value\n",
    "\n",
    "def get_data(station, dataset):\n",
    "    \"\"\"get data for the station (pandas record) from the dataset (url)\"\"\"\n",
    "    info = dict(\n",
    "        dataset=dataset,\n",
    "        id=station.name\n",
    "    )\n",
    "    bytes = zf.read(names['data'].format(**info))\n",
    "    df = pd.read_csv(\n",
    "        io.BytesIO(bytes), \n",
    "        sep=';', \n",
    "        names=('year', 'height', 'interpolated', 'flags')\n",
    "#         converters={\n",
    "#             \"height\": lambda x: main_stations[station.name](missing2nan(x)),\n",
    "#             \"interpolated\": str.strip,\n",
    "#         }\n",
    "    )\n",
    "    df['station'] = station.name\n",
    "    return df"
   ]
  },
  {
   "cell_type": "code",
   "execution_count": 119,
   "metadata": {
    "collapsed": false
   },
   "outputs": [],
   "source": [
    "def convertdecimalyear2datetime(x_months):\n",
    "    x_month_datetime = []\n",
    "    for month in x_months:\n",
    "        dmonth, year = math.modf(month)\n",
    "        x_month_datetime.append(pd.datetime(int(year),int(np.ceil(dmonth*12)),15))\n",
    "    x_months_series = pd.Series(x_month_datetime)\n",
    "    return x_months_series"
   ]
  },
  {
   "cell_type": "code",
   "execution_count": 120,
   "metadata": {
    "collapsed": true
   },
   "outputs": [],
   "source": [
    "# get data for all stations\n",
    "f = functools.partial(get_data, dataset=dataset_name_compact)\n",
    "# look up the data for each station\n",
    "selected_stations['data'] = [f(station) for _, station in selected_stations.iterrows()]"
   ]
  },
  {
   "cell_type": "code",
   "execution_count": 121,
   "metadata": {
    "collapsed": false
   },
   "outputs": [],
   "source": [
    "# we now have data for each station\n",
    "#selected_stations[['name', 'data']]"
   ]
  },
  {
   "cell_type": "markdown",
   "metadata": {},
   "source": [
    "Create concatenated dataframe of all locations with all waterlevels in cm+NAP for all months recorded at PSMSL and return as dataframe accessible in 'paired difference analysis RWS and PSMSL'"
   ]
  },
  {
   "cell_type": "code",
   "execution_count": 122,
   "metadata": {
    "collapsed": false
   },
   "outputs": [],
   "source": [
    "df_psmsl = pd.DataFrame()\n",
    "for station in selected_stations.iterrows():\n",
    "    loc_name = station[1]['name']\n",
    "    x_months = station[1]['data']['year']\n",
    "    y_height = station[1]['data']['height']    \n",
    "\n",
    "    # The daily, monthly and annual heights are expressed in millimetres. \n",
    "    # The dates are in decimal years (centred on the 15th day of the month for monthly values and at midday for daily values).\n",
    "    y_height /= 10 # to get centimeters\n",
    "    x_months = convertdecimalyear2datetime(x_months)\n",
    "    \n",
    "    df_loc = pd.DataFrame(data=y_height.as_matrix(), index=x_months, columns=[loc_name+'_'+'WATHTE_cmNAP'])\n",
    "    df_psmsl = pd.concat((df_psmsl,df_loc), axis=1)"
   ]
  },
  {
   "cell_type": "code",
   "execution_count": 123,
   "metadata": {
    "collapsed": false
   },
   "outputs": [
    {
     "data": {
      "text/plain": [
       "<matplotlib.axes._subplots.AxesSubplot at 0xd912748>"
      ]
     },
     "execution_count": 123,
     "metadata": {},
     "output_type": "execute_result"
    },
    {
     "data": {
      "image/png": "[encoded data removed]",
      "text/plain": [
       "<matplotlib.figure.Figure at 0xd83edd8>"
      ]
     },
     "metadata": {},
     "output_type": "display_data"
    }
   ],
   "source": [
    "%matplotlib inline\n",
    "df_psmsl.plot()"
   ]
  },
  {
   "cell_type": "code",
   "execution_count": null,
   "metadata": {
    "collapsed": true
   },
   "outputs": [],
   "source": []
  }
 ],
 "metadata": {
  "kernelspec": {
   "display_name": "Python 3",
   "language": "python",
   "name": "python3"
  },
  "language_info": {
   "codemirror_mode": {
    "name": "ipython",
    "version": 3
   },
   "file_extension": ".py",
   "mimetype": "text/x-python",
   "name": "python",
   "nbconvert_exporter": "python",
   "pygments_lexer": "ipython3",
   "version": "3.5.2"
  }
 },
 "nbformat": 4,
 "nbformat_minor": 2
}
