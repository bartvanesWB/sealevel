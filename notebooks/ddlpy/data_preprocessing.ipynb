{
 "cells": [
  {
   "cell_type": "markdown",
   "metadata": {},
   "source": [
    "This script computes the monthly and yearly mean of water level in the tidal gauges, using the raw data from RWS."
   ]
  },
  {
   "cell_type": "code",
   "execution_count": 1,
   "metadata": {},
   "outputs": [],
   "source": [
    "import pandas as pd\n",
    "import numpy as np\n",
    "import glob\n",
    "import os\n",
    "import matplotlib\n",
    "from matplotlib import pyplot as plt\n",
    "plt.style.use('ggplot')\n",
    "%matplotlib inline"
   ]
  },
  {
   "cell_type": "code",
   "execution_count": 2,
   "metadata": {},
   "outputs": [],
   "source": [
    "ipath = '../../data/ddl/raw/' #RWS data must be loated in a folder called raw\n",
    "opath =  '../../data/ddl/postprocessed/' # postprocessed folder must be created\n",
    "\n",
    "tidal_gauges= ['Delfzijl', 'Den Helder', 'Harlingen', 'Hoek van Holland',\n",
    "              'Vlissingen']\n",
    "start_year, end_year= 2016, 2019\n",
    "\n",
    "codes = pd.read_csv('../../data/ddl/waterhoogteMetadata.csv',\n",
    "                usecols= ['Naam', 'Code'])"
   ]
  },
  {
   "cell_type": "code",
   "execution_count": 7,
   "metadata": {},
   "outputs": [
    {
     "name": "stdout",
     "output_type": "stream",
     "text": [
      "Delfzijl\n",
      "Den Helder\n",
      "Harlingen\n",
      "Hoek van Holland\n",
      "Vlissingen\n"
     ]
    }
   ],
   "source": [
    "for i in range(len(tidal_gauges)):\n",
    "    print(tidal_gauges[i])\n",
    "    locs = codes[codes['Naam'].str.contains(tidal_gauges[i])].Code.values\n",
    "\n",
    "    data= []\n",
    "\n",
    "    for c in locs:\n",
    "        for y in range(start_year, end_year+1, 1):\n",
    "            filename= '{}_WATHTE_NAP_{}.csv'.format(c, y)\n",
    "            if (os.path.isfile(ipath+filename)):\n",
    "                #print(filename)\n",
    "                df = pd.read_csv(ipath+filename, usecols=['Tijdstip',\n",
    "                                                         'Meetwaarde.Waarde_Numeriek',\n",
    "                                                         'locatie_code'\n",
    "                                                               ])\n",
    "                df.rename(columns={'Tijdstip':'time', \n",
    "                                   'Meetwaarde.Waarde_Numeriek': 'Water_level'}, inplace= True)\n",
    "                df.time = pd.to_datetime(df.time, utc= True)\n",
    "                data.append(df)\n",
    "\n",
    "    data = pd.concat(data) \n",
    "    data.sort_values(by= 'time', inplace= True)\n",
    "\n",
    "    # Remove observations with missing date\n",
    "    if (data.time.isnull().sum() != 0):\n",
    "        data = data[data.time.notnull()]\n",
    "\n",
    "    # Monthly and yearly aggregations\n",
    "    monthly = data.set_index('time').resample('M').mean()\n",
    "    yearly = data.set_index('time').resample('Y').mean()\n",
    "\n",
    "    # Interpolate if missing values are present. Do this here to reduce bias in estimate\n",
    "    if (monthly.Water_level.isnull().sum() != 0):\n",
    "        monthly['Water_level'].interpolate(method= 'linear', inplace= True)\n",
    "    \n",
    "    if (yearly.Water_level.isnull().sum() != 0):\n",
    "        yearly['Water_level'].interpolate(method= 'linear', inplace= True)\n",
    "\n",
    "    monthly.to_csv(opath+'month_agg_water_level_{}.csv'.format(tidal_gauges[i]))\n",
    "    yearly.to_csv(opath+'year_agg_water_level_{}.csv'.format(tidal_gauges[i]))\n",
    "\n",
    "    #Plots\n",
    "    fig, axes = plt.subplots(1,2, figsize=(15,5))\n",
    "    monthly.plot(legend= False, ax= axes[0])\n",
    "    yearly.plot(legend= False, ax= axes[1])\n",
    "    axes[0].set_ylabel('Monthly water level [cm NAP] at {}'.format(tidal_gauges[i]))\n",
    "    axes[1].set_ylabel('Yearly water level [cm NAP] at {}'.format(tidal_gauges[i]))\n",
    "    plt.savefig(opath+'plots/{}.png'.format(tidal_gauges[i]), bbox_inches= 'tight')\n",
    "    plt.close()"
   ]
  },
  {
   "cell_type": "code",
   "execution_count": null,
   "metadata": {},
   "outputs": [],
   "source": []
  },
  {
   "cell_type": "code",
   "execution_count": null,
   "metadata": {},
   "outputs": [],
   "source": [
    "\n",
    "    "
   ]
  },
  {
   "cell_type": "code",
   "execution_count": null,
   "metadata": {},
   "outputs": [],
   "source": []
  },
  {
   "cell_type": "code",
   "execution_count": null,
   "metadata": {},
   "outputs": [],
   "source": []
  },
  {
   "cell_type": "code",
   "execution_count": null,
   "metadata": {},
   "outputs": [],
   "source": []
  },
  {
   "cell_type": "code",
   "execution_count": null,
   "metadata": {},
   "outputs": [],
   "source": []
  },
  {
   "cell_type": "code",
   "execution_count": null,
   "metadata": {},
   "outputs": [],
   "source": []
  },
  {
   "cell_type": "code",
   "execution_count": null,
   "metadata": {},
   "outputs": [],
   "source": []
  },
  {
   "cell_type": "code",
   "execution_count": null,
   "metadata": {},
   "outputs": [],
   "source": []
  },
  {
   "cell_type": "code",
   "execution_count": null,
   "metadata": {},
   "outputs": [],
   "source": []
  },
  {
   "cell_type": "code",
   "execution_count": null,
   "metadata": {},
   "outputs": [],
   "source": []
  },
  {
   "cell_type": "code",
   "execution_count": null,
   "metadata": {},
   "outputs": [],
   "source": []
  },
  {
   "cell_type": "code",
   "execution_count": null,
   "metadata": {},
   "outputs": [],
   "source": []
  },
  {
   "cell_type": "code",
   "execution_count": null,
   "metadata": {},
   "outputs": [],
   "source": []
  },
  {
   "cell_type": "code",
   "execution_count": null,
   "metadata": {},
   "outputs": [],
   "source": []
  },
  {
   "cell_type": "code",
   "execution_count": null,
   "metadata": {},
   "outputs": [],
   "source": []
  },
  {
   "cell_type": "code",
   "execution_count": null,
   "metadata": {},
   "outputs": [],
   "source": []
  },
  {
   "cell_type": "code",
   "execution_count": null,
   "metadata": {},
   "outputs": [],
   "source": []
  },
  {
   "cell_type": "code",
   "execution_count": null,
   "metadata": {},
   "outputs": [],
   "source": []
  },
  {
   "cell_type": "code",
   "execution_count": null,
   "metadata": {},
   "outputs": [],
   "source": []
  }
 ],
 "metadata": {
  "kernelspec": {
   "display_name": "Python 3",
   "language": "python",
   "name": "python3"
  },
  "language_info": {
   "codemirror_mode": {
    "name": "ipython",
    "version": 3
   },
   "file_extension": ".py",
   "mimetype": "text/x-python",
   "name": "python",
   "nbconvert_exporter": "python",
   "pygments_lexer": "ipython3",
   "version": "3.7.1"
  }
 },
 "nbformat": 4,
 "nbformat_minor": 2
}
