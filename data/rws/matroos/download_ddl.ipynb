{
 "cells": [
  {
   "cell_type": "code",
   "execution_count": 1,
   "metadata": {},
   "outputs": [],
   "source": [
    "import datetime\n",
    "import pandas as pd\n",
    "import ddlpy"
   ]
  },
  {
   "cell_type": "code",
   "execution_count": null,
   "metadata": {},
   "outputs": [],
   "source": [
    "ids = ['DELFZL', 'DENHDR', 'HARLGN', 'HOEKVHLD', 'IJMDBTHVN', 'VLISSGN']\n",
    "\n",
    "current_year = 2018\n",
    "start_date = datetime.datetime(current_year - 2, 1, 1)\n",
    "end_date = datetime.datetime(current_year + 1, 1, 1)\n"
   ]
  },
  {
   "cell_type": "code",
   "execution_count": null,
   "metadata": {},
   "outputs": [],
   "source": [
    "locations = ddlpy.ddlpy.locations()\n",
    "station = locations[locations['Grootheid.Code'] == 'WATHTE'].iloc[0]\n",
    "locations.head()"
   ]
  },
  {
   "cell_type": "markdown",
   "metadata": {},
   "source": [
    "# Download\n",
    "This downloads all the measruements for the appropriate period. "
   ]
  },
  {
   "cell_type": "code",
   "execution_count": null,
   "metadata": {},
   "outputs": [],
   "source": [
    "all_measurements = {}\n",
    "for id_ in ids:\n",
    "    station = locations[locations['Grootheid.Code'] == 'WATHTE'].loc[id_]\n",
    "    measurements = ddlpy.ddlpy.measurements(station, start_date=start_date, end_date=end_date)\n",
    "    all_measurements[id_] = measurements\n",
    "    \n"
   ]
  },
  {
   "cell_type": "markdown",
   "metadata": {},
   "source": [
    "# Serialization\n",
    "We did not implement proper serialization yet for this dataset. For now store them in a pickle format. The proper way is to store them in the CF convention using the mapping from AQUO to CF."
   ]
  },
  {
   "cell_type": "code",
   "execution_count": null,
   "metadata": {},
   "outputs": [],
   "source": [
    "for id_ in ids:\n",
    "    measurements = all_measurements[id_]\n",
    "    name = pathlib.Path(id_).with_suffix('.pck')\n",
    "    measurements.to_pickle(name)"
   ]
  }
 ],
 "metadata": {
  "kernelspec": {
   "display_name": "Python 3",
   "language": "python",
   "name": "python3"
  },
  "language_info": {
   "codemirror_mode": {
    "name": "ipython",
    "version": 3
   },
   "file_extension": ".py",
   "mimetype": "text/x-python",
   "name": "python",
   "nbconvert_exporter": "python",
   "pygments_lexer": "ipython3",
   "version": "3.6.8"
  }
 },
 "nbformat": 4,
 "nbformat_minor": 2
}
